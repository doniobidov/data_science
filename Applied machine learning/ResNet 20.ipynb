{
  "cells": [
    {
      "cell_type": "markdown",
      "id": "cross-maria",
      "metadata": {
        "id": "cross-maria"
      },
      "source": [
        "Please write your code in Jupyter Notebook or Google Colab. \\\n",
        "You need to compress the Jupyter notebook and your saved model checkpoint into a zip file and submit the zip file to Canvas. \\\n",
        "**Note**: Please restart the Jupyter notebook kernel and check if your code is executable before submission."
      ]
    },
    {
      "cell_type": "markdown",
      "id": "suburban-combine",
      "metadata": {
        "id": "suburban-combine"
      },
      "source": [
        "In this assignment, you need to implement a ResNet classifier (https://arxiv.org/abs/1512.03385) for an image classification task. \n",
        "ResNet consists of many modules discussed in the class, such as convolution layers, short-cut connection, and batch normalization.\n",
        "\n",
        "Please train and evaluate a ResNet-20 classifier (ResNet with 20 layers) on the CIFAR10 dataset (https://www.cs.toronto.edu/~kriz/cifar.html). \n",
        "The CIFAR10 dataset is a classic dataset for the image classification task, which consists of 60000 32x32 RGB images in 10 classes. \n",
        "\n",
        "**Hints:**\n",
        "1. The original ResNet model is implemented on 224x224x3 images. You need to modify the model architecture to fit the image size of 32x32x3 in the CIFAR10 dataset. \n",
        "2. You are strongly encouraged to use the deep learning frameworks (e.g., Pytorch, Tensorflow, Keras) for building the model, but other frameworks are allowed. \n",
        "3. You can use the basic modules (Fully Connected Layer, Convolution Layer, Dropout, Batch Normalization, etc) in these frameworks, but the existing implementations of ResNet is not allowed to use in this assignment. However, it would be helpful for you to learn from the existing implementations.\n",
        "4. You can use the CIFAR10 datasets provided by the frameworks (e.g., https://pytorch.org/vision/stable/datasets.html#cifar, https://www.tensorflow.org/api_docs/python/tf/keras/datasets/cifar10)."
      ]
    },
    {
      "cell_type": "markdown",
      "id": "incident-funds",
      "metadata": {
        "id": "incident-funds"
      },
      "source": [
        "**This assignment will be graded as follows.**\n",
        "\n",
        "1. (10 pts) Load and preprocess data from the CIFAR10 dataset.\n",
        "1. (40 pts) Implement the ResNet-20 classifier.\n",
        "2. (10 pts) Train the model using a proper optimization method and loss function.\n",
        "3. (10 pts) Plot the training and test accuracy in each epoch (or iteration) in the Jupyter notebook.\n",
        "4. (10 pts)  Save the weights of final model in the same directory of Jupyter notebook.\n",
        "5. (10 pts)  Load the weights into your model and report the training and test accuracy.\n",
        "6. (10 pts) The test accuracy should be higher than 84\\%.\n",
        "7. (5 bonus pts) Bonus points are given if the test accuracy is higher than 91\\%."
      ]
    },
    {
      "cell_type": "markdown",
      "source": [
        "# **Solution**"
      ],
      "metadata": {
        "id": "2fclNmFTOTU7"
      },
      "id": "2fclNmFTOTU7"
    },
    {
      "cell_type": "code",
      "source": [
        "# Import packages\n",
        "import tensorflow as tf\n",
        "from keras.layers import ZeroPadding2D\n",
        "from keras.regularizers import l2\n",
        "import matplotlib.pyplot as plt\n",
        "from google.colab import files"
      ],
      "metadata": {
        "id": "D8_mNnQeOt2Y"
      },
      "id": "D8_mNnQeOt2Y",
      "execution_count": null,
      "outputs": []
    },
    {
      "cell_type": "code",
      "source": [
        "# 1. (10 pts) Load and preprocess data from the CIFAR10 dataset\n",
        "\n",
        "# Load the CIFAR10 dataset\n",
        "(train_images, train_labels), (test_images, test_labels) = tf.keras.datasets.cifar10.load_data()\n",
        "\n",
        "# Convert the pixel values of the images to floats between 0 and 1\n",
        "train_images = train_images.astype('float32') / 255.0\n",
        "test_images = test_images.astype('float32') / 255.0\n",
        "\n",
        "# Convert the labels to one-hot encoded vectors\n",
        "num_classes = 10\n",
        "train_labels = tf.keras.utils.to_categorical(train_labels, num_classes)\n",
        "test_labels = tf.keras.utils.to_categorical(test_labels, num_classes)"
      ],
      "metadata": {
        "id": "ljoYcD1GOr3z"
      },
      "id": "ljoYcD1GOr3z",
      "execution_count": null,
      "outputs": []
    },
    {
      "cell_type": "code",
      "source": [
        "test_images.shape"
      ],
      "metadata": {
        "colab": {
          "base_uri": "https://localhost:8080/"
        },
        "id": "uobbZfulGiAx",
        "outputId": "0dedc788-ce90-472c-c89d-9717062bd6d4"
      },
      "id": "uobbZfulGiAx",
      "execution_count": null,
      "outputs": [
        {
          "output_type": "execute_result",
          "data": {
            "text/plain": [
              "(10000, 32, 32, 3)"
            ]
          },
          "metadata": {},
          "execution_count": 3
        }
      ]
    },
    {
      "cell_type": "code",
      "source": [
        "# 2. (40 pts) Implement the ResNet-20 classifier\n",
        "\n",
        "# Define the input shape\n",
        "input_shape = (32, 32, 3)\n",
        "\n",
        "# Define the ResNet-20 model\n",
        "# Define input layer\n",
        "inputs = tf.keras.Input(shape=input_shape)\n",
        "\n",
        "# First Convolutional Block\n",
        "x = tf.keras.layers.Conv2D(16, (3, 3), activation='relu', padding='same')(inputs)\n",
        "shortcut_1_input = tf.keras.layers.BatchNormalization()(x)\n",
        "x = tf.keras.layers.Conv2D(16, (3, 3), activation='relu', padding='same')(shortcut_1_input)\n",
        "x = tf.keras.layers.BatchNormalization()(x)\n",
        "x = tf.keras.layers.Conv2D(16, (3, 3), activation=None, padding='same')(x)\n",
        "x = tf.keras.layers.BatchNormalization()(x)\n",
        "\n",
        "shortcut_1 = tf.keras.layers.Activation('relu')(tf.keras.layers.add([x, shortcut_1_input]))\n",
        "\n",
        "# Second Convolutional Block\n",
        "x = tf.keras.layers.Conv2D(16, (3, 3), activation='relu', padding='same')(shortcut_1)\n",
        "x = tf.keras.layers.BatchNormalization()(x)\n",
        "x = tf.keras.layers.Conv2D(16, (3, 3), activation=None, padding='same')(x)\n",
        "x = tf.keras.layers.BatchNormalization()(x)\n",
        "\n",
        "shortcut_2 = tf.keras.layers.Activation('relu')(tf.keras.layers.add([x, shortcut_1]))\n",
        "\n",
        "# Third Convolutional Block\n",
        "x = tf.keras.layers.Conv2D(16, (3, 3), activation='relu', padding='same')(shortcut_2)\n",
        "x = tf.keras.layers.BatchNormalization()(x)\n",
        "x = tf.keras.layers.Conv2D(16, (3, 3), activation=None, padding='same')(x)\n",
        "x = tf.keras.layers.BatchNormalization()(x)\n",
        "\n",
        "shortcut_3 = tf.keras.layers.Activation('relu')(tf.keras.layers.add([x, shortcut_2]))\n",
        "\n",
        "# Fourth Convolutional Block\n",
        "x = ZeroPadding2D(padding=1)(shortcut_3)\n",
        "x = tf.keras.layers.Conv2D(32, (3, 3), activation='relu', padding='valid', strides=(2, 2))(x)\n",
        "x = tf.keras.layers.BatchNormalization()(x)\n",
        "x = tf.keras.layers.Conv2D(32, (3, 3), activation=None, padding='same')(x)\n",
        "x = tf.keras.layers.BatchNormalization()(x)\n",
        "\n",
        "shortcut_4_input = tf.keras.layers.Conv2D(32, (1, 1), activation=None, padding='valid', strides=(2, 2))(shortcut_3)\n",
        "shortcut_4_input = tf.keras.layers.BatchNormalization()(shortcut_4_input)\n",
        "\n",
        "shortcut_4 = tf.keras.layers.Activation('relu')(tf.keras.layers.add([x, shortcut_4_input]))\n",
        "\n",
        "# Fifth Convolutional Block\n",
        "x = tf.keras.layers.Conv2D(32, (3, 3), activation='relu', padding='same')(shortcut_4)\n",
        "x = tf.keras.layers.BatchNormalization()(x)\n",
        "x = tf.keras.layers.Conv2D(32, (3, 3), activation=None, padding='same')(x)\n",
        "x = tf.keras.layers.BatchNormalization()(x)\n",
        "\n",
        "shortcut_5 = tf.keras.layers.Activation('relu')(tf.keras.layers.add([x, shortcut_4]))\n",
        "\n",
        "# Sixth Convolutional Block\n",
        "x = tf.keras.layers.Conv2D(32, (3, 3), activation='relu', padding='same')(shortcut_5)\n",
        "x = tf.keras.layers.BatchNormalization()(x)\n",
        "x = tf.keras.layers.Conv2D(32, (3, 3), activation=None, padding='same')(x)\n",
        "x = tf.keras.layers.BatchNormalization()(x)\n",
        "\n",
        "shortcut_6 = tf.keras.layers.Activation('relu')(tf.keras.layers.add([x, shortcut_5]))\n",
        "\n",
        "# Seventh Convolutional Block\n",
        "x = ZeroPadding2D(padding=1)(shortcut_6)\n",
        "x = tf.keras.layers.Conv2D(64, (3, 3), activation='relu', padding='valid', strides=(2, 2))(x)\n",
        "x = tf.keras.layers.BatchNormalization()(x)\n",
        "x = tf.keras.layers.Conv2D(64, (3, 3), activation=None, padding='same')(x)\n",
        "x = tf.keras.layers.BatchNormalization()(x)\n",
        "\n",
        "shortcut_7_input = tf.keras.layers.Conv2D(64, (1, 1), activation=None, padding='valid', strides=(2, 2))(shortcut_6)\n",
        "shortcut_7_input = tf.keras.layers.BatchNormalization()(shortcut_7_input)\n",
        "\n",
        "shortcut_7 = tf.keras.layers.Activation('relu')(tf.keras.layers.add([x, shortcut_7_input]))\n",
        "\n",
        "# Eighth Convolutional Block\n",
        "x = tf.keras.layers.Conv2D(64, (3, 3), activation='relu', padding='same')(shortcut_7)\n",
        "x = tf.keras.layers.BatchNormalization()(x)\n",
        "x = tf.keras.layers.Conv2D(64, (3, 3), activation=None, padding='same')(x)\n",
        "x = tf.keras.layers.BatchNormalization()(x)\n",
        "\n",
        "shortcut_8 = tf.keras.layers.Activation('relu')(tf.keras.layers.add([x, shortcut_7]))\n",
        "\n",
        "# Nineth Convolutional Block\n",
        "x = tf.keras.layers.Conv2D(64, (3, 3), activation='relu', padding='same')(shortcut_8)\n",
        "x = tf.keras.layers.BatchNormalization()(x)\n",
        "x = tf.keras.layers.Conv2D(64, (3, 3), activation=None, padding='same')(x)\n",
        "x = tf.keras.layers.BatchNormalization()(x)\n",
        "\n",
        "shortcut_9 = tf.keras.layers.Activation('relu')(tf.keras.layers.add([x, shortcut_8]))\n",
        "\n",
        "# Final Classification Layers\n",
        "x = tf.keras.layers.GlobalAveragePooling2D()(shortcut_9)\n",
        "outputs = tf.keras.layers.Dense(10, activation='softmax')(x)\n",
        "\n",
        "# Create the model\n",
        "model = tf.keras.Model(inputs=inputs, outputs=outputs)\n",
        "\n",
        "# Print the model summary\n",
        "model.summary()"
      ],
      "metadata": {
        "colab": {
          "base_uri": "https://localhost:8080/"
        },
        "id": "NbUfFWHDgkKm",
        "outputId": "ff9ca781-77da-4eac-acfa-d122e947b3f1"
      },
      "id": "NbUfFWHDgkKm",
      "execution_count": null,
      "outputs": [
        {
          "output_type": "stream",
          "name": "stdout",
          "text": [
            "Model: \"model\"\n",
            "__________________________________________________________________________________________________\n",
            " Layer (type)                   Output Shape         Param #     Connected to                     \n",
            "==================================================================================================\n",
            " input_1 (InputLayer)           [(None, 32, 32, 3)]  0           []                               \n",
            "                                                                                                  \n",
            " conv2d (Conv2D)                (None, 32, 32, 16)   448         ['input_1[0][0]']                \n",
            "                                                                                                  \n",
            " batch_normalization (BatchNorm  (None, 32, 32, 16)  64          ['conv2d[0][0]']                 \n",
            " alization)                                                                                       \n",
            "                                                                                                  \n",
            " conv2d_1 (Conv2D)              (None, 32, 32, 16)   2320        ['batch_normalization[0][0]']    \n",
            "                                                                                                  \n",
            " batch_normalization_1 (BatchNo  (None, 32, 32, 16)  64          ['conv2d_1[0][0]']               \n",
            " rmalization)                                                                                     \n",
            "                                                                                                  \n",
            " conv2d_2 (Conv2D)              (None, 32, 32, 16)   2320        ['batch_normalization_1[0][0]']  \n",
            "                                                                                                  \n",
            " batch_normalization_2 (BatchNo  (None, 32, 32, 16)  64          ['conv2d_2[0][0]']               \n",
            " rmalization)                                                                                     \n",
            "                                                                                                  \n",
            " add (Add)                      (None, 32, 32, 16)   0           ['batch_normalization_2[0][0]',  \n",
            "                                                                  'batch_normalization[0][0]']    \n",
            "                                                                                                  \n",
            " activation (Activation)        (None, 32, 32, 16)   0           ['add[0][0]']                    \n",
            "                                                                                                  \n",
            " conv2d_3 (Conv2D)              (None, 32, 32, 16)   2320        ['activation[0][0]']             \n",
            "                                                                                                  \n",
            " batch_normalization_3 (BatchNo  (None, 32, 32, 16)  64          ['conv2d_3[0][0]']               \n",
            " rmalization)                                                                                     \n",
            "                                                                                                  \n",
            " conv2d_4 (Conv2D)              (None, 32, 32, 16)   2320        ['batch_normalization_3[0][0]']  \n",
            "                                                                                                  \n",
            " batch_normalization_4 (BatchNo  (None, 32, 32, 16)  64          ['conv2d_4[0][0]']               \n",
            " rmalization)                                                                                     \n",
            "                                                                                                  \n",
            " add_1 (Add)                    (None, 32, 32, 16)   0           ['batch_normalization_4[0][0]',  \n",
            "                                                                  'activation[0][0]']             \n",
            "                                                                                                  \n",
            " activation_1 (Activation)      (None, 32, 32, 16)   0           ['add_1[0][0]']                  \n",
            "                                                                                                  \n",
            " conv2d_5 (Conv2D)              (None, 32, 32, 16)   2320        ['activation_1[0][0]']           \n",
            "                                                                                                  \n",
            " batch_normalization_5 (BatchNo  (None, 32, 32, 16)  64          ['conv2d_5[0][0]']               \n",
            " rmalization)                                                                                     \n",
            "                                                                                                  \n",
            " conv2d_6 (Conv2D)              (None, 32, 32, 16)   2320        ['batch_normalization_5[0][0]']  \n",
            "                                                                                                  \n",
            " batch_normalization_6 (BatchNo  (None, 32, 32, 16)  64          ['conv2d_6[0][0]']               \n",
            " rmalization)                                                                                     \n",
            "                                                                                                  \n",
            " add_2 (Add)                    (None, 32, 32, 16)   0           ['batch_normalization_6[0][0]',  \n",
            "                                                                  'activation_1[0][0]']           \n",
            "                                                                                                  \n",
            " activation_2 (Activation)      (None, 32, 32, 16)   0           ['add_2[0][0]']                  \n",
            "                                                                                                  \n",
            " zero_padding2d (ZeroPadding2D)  (None, 34, 34, 16)  0           ['activation_2[0][0]']           \n",
            "                                                                                                  \n",
            " conv2d_7 (Conv2D)              (None, 16, 16, 32)   4640        ['zero_padding2d[0][0]']         \n",
            "                                                                                                  \n",
            " batch_normalization_7 (BatchNo  (None, 16, 16, 32)  128         ['conv2d_7[0][0]']               \n",
            " rmalization)                                                                                     \n",
            "                                                                                                  \n",
            " conv2d_8 (Conv2D)              (None, 16, 16, 32)   9248        ['batch_normalization_7[0][0]']  \n",
            "                                                                                                  \n",
            " conv2d_9 (Conv2D)              (None, 16, 16, 32)   544         ['activation_2[0][0]']           \n",
            "                                                                                                  \n",
            " batch_normalization_8 (BatchNo  (None, 16, 16, 32)  128         ['conv2d_8[0][0]']               \n",
            " rmalization)                                                                                     \n",
            "                                                                                                  \n",
            " batch_normalization_9 (BatchNo  (None, 16, 16, 32)  128         ['conv2d_9[0][0]']               \n",
            " rmalization)                                                                                     \n",
            "                                                                                                  \n",
            " add_3 (Add)                    (None, 16, 16, 32)   0           ['batch_normalization_8[0][0]',  \n",
            "                                                                  'batch_normalization_9[0][0]']  \n",
            "                                                                                                  \n",
            " activation_3 (Activation)      (None, 16, 16, 32)   0           ['add_3[0][0]']                  \n",
            "                                                                                                  \n",
            " conv2d_10 (Conv2D)             (None, 16, 16, 32)   9248        ['activation_3[0][0]']           \n",
            "                                                                                                  \n",
            " batch_normalization_10 (BatchN  (None, 16, 16, 32)  128         ['conv2d_10[0][0]']              \n",
            " ormalization)                                                                                    \n",
            "                                                                                                  \n",
            " conv2d_11 (Conv2D)             (None, 16, 16, 32)   9248        ['batch_normalization_10[0][0]'] \n",
            "                                                                                                  \n",
            " batch_normalization_11 (BatchN  (None, 16, 16, 32)  128         ['conv2d_11[0][0]']              \n",
            " ormalization)                                                                                    \n",
            "                                                                                                  \n",
            " add_4 (Add)                    (None, 16, 16, 32)   0           ['batch_normalization_11[0][0]', \n",
            "                                                                  'activation_3[0][0]']           \n",
            "                                                                                                  \n",
            " activation_4 (Activation)      (None, 16, 16, 32)   0           ['add_4[0][0]']                  \n",
            "                                                                                                  \n",
            " conv2d_12 (Conv2D)             (None, 16, 16, 32)   9248        ['activation_4[0][0]']           \n",
            "                                                                                                  \n",
            " batch_normalization_12 (BatchN  (None, 16, 16, 32)  128         ['conv2d_12[0][0]']              \n",
            " ormalization)                                                                                    \n",
            "                                                                                                  \n",
            " conv2d_13 (Conv2D)             (None, 16, 16, 32)   9248        ['batch_normalization_12[0][0]'] \n",
            "                                                                                                  \n",
            " batch_normalization_13 (BatchN  (None, 16, 16, 32)  128         ['conv2d_13[0][0]']              \n",
            " ormalization)                                                                                    \n",
            "                                                                                                  \n",
            " add_5 (Add)                    (None, 16, 16, 32)   0           ['batch_normalization_13[0][0]', \n",
            "                                                                  'activation_4[0][0]']           \n",
            "                                                                                                  \n",
            " activation_5 (Activation)      (None, 16, 16, 32)   0           ['add_5[0][0]']                  \n",
            "                                                                                                  \n",
            " zero_padding2d_1 (ZeroPadding2  (None, 18, 18, 32)  0           ['activation_5[0][0]']           \n",
            " D)                                                                                               \n",
            "                                                                                                  \n",
            " conv2d_14 (Conv2D)             (None, 8, 8, 64)     18496       ['zero_padding2d_1[0][0]']       \n",
            "                                                                                                  \n",
            " batch_normalization_14 (BatchN  (None, 8, 8, 64)    256         ['conv2d_14[0][0]']              \n",
            " ormalization)                                                                                    \n",
            "                                                                                                  \n",
            " conv2d_15 (Conv2D)             (None, 8, 8, 64)     36928       ['batch_normalization_14[0][0]'] \n",
            "                                                                                                  \n",
            " conv2d_16 (Conv2D)             (None, 8, 8, 64)     2112        ['activation_5[0][0]']           \n",
            "                                                                                                  \n",
            " batch_normalization_15 (BatchN  (None, 8, 8, 64)    256         ['conv2d_15[0][0]']              \n",
            " ormalization)                                                                                    \n",
            "                                                                                                  \n",
            " batch_normalization_16 (BatchN  (None, 8, 8, 64)    256         ['conv2d_16[0][0]']              \n",
            " ormalization)                                                                                    \n",
            "                                                                                                  \n",
            " add_6 (Add)                    (None, 8, 8, 64)     0           ['batch_normalization_15[0][0]', \n",
            "                                                                  'batch_normalization_16[0][0]'] \n",
            "                                                                                                  \n",
            " activation_6 (Activation)      (None, 8, 8, 64)     0           ['add_6[0][0]']                  \n",
            "                                                                                                  \n",
            " conv2d_17 (Conv2D)             (None, 8, 8, 64)     36928       ['activation_6[0][0]']           \n",
            "                                                                                                  \n",
            " batch_normalization_17 (BatchN  (None, 8, 8, 64)    256         ['conv2d_17[0][0]']              \n",
            " ormalization)                                                                                    \n",
            "                                                                                                  \n",
            " conv2d_18 (Conv2D)             (None, 8, 8, 64)     36928       ['batch_normalization_17[0][0]'] \n",
            "                                                                                                  \n",
            " batch_normalization_18 (BatchN  (None, 8, 8, 64)    256         ['conv2d_18[0][0]']              \n",
            " ormalization)                                                                                    \n",
            "                                                                                                  \n",
            " add_7 (Add)                    (None, 8, 8, 64)     0           ['batch_normalization_18[0][0]', \n",
            "                                                                  'activation_6[0][0]']           \n",
            "                                                                                                  \n",
            " activation_7 (Activation)      (None, 8, 8, 64)     0           ['add_7[0][0]']                  \n",
            "                                                                                                  \n",
            " conv2d_19 (Conv2D)             (None, 8, 8, 64)     36928       ['activation_7[0][0]']           \n",
            "                                                                                                  \n",
            " batch_normalization_19 (BatchN  (None, 8, 8, 64)    256         ['conv2d_19[0][0]']              \n",
            " ormalization)                                                                                    \n",
            "                                                                                                  \n",
            " conv2d_20 (Conv2D)             (None, 8, 8, 64)     36928       ['batch_normalization_19[0][0]'] \n",
            "                                                                                                  \n",
            " batch_normalization_20 (BatchN  (None, 8, 8, 64)    256         ['conv2d_20[0][0]']              \n",
            " ormalization)                                                                                    \n",
            "                                                                                                  \n",
            " add_8 (Add)                    (None, 8, 8, 64)     0           ['batch_normalization_20[0][0]', \n",
            "                                                                  'activation_7[0][0]']           \n",
            "                                                                                                  \n",
            " activation_8 (Activation)      (None, 8, 8, 64)     0           ['add_8[0][0]']                  \n",
            "                                                                                                  \n",
            " global_average_pooling2d (Glob  (None, 64)          0           ['activation_8[0][0]']           \n",
            " alAveragePooling2D)                                                                              \n",
            "                                                                                                  \n",
            " dense (Dense)                  (None, 10)           650         ['global_average_pooling2d[0][0]'\n",
            "                                                                 ]                                \n",
            "                                                                                                  \n",
            "==================================================================================================\n",
            "Total params: 274,826\n",
            "Trainable params: 273,258\n",
            "Non-trainable params: 1,568\n",
            "__________________________________________________________________________________________________\n"
          ]
        }
      ]
    },
    {
      "cell_type": "code",
      "source": [
        "# 3. (10 pts) Train the model using a proper optimization method and loss function.\n",
        "\n",
        "# Define the optimizer, loss function, and metrics for training the model\n",
        "optimizer = tf.keras.optimizers.Adam(learning_rate=0.001)\n",
        "loss_fn = tf.keras.losses.CategoricalCrossentropy()\n",
        "metrics = ['accuracy']\n",
        "\n",
        "# Compile the model\n",
        "model.compile(optimizer=optimizer, loss=loss_fn, metrics=metrics)\n",
        "\n",
        "# Train the model\n",
        "batch_size = 128\n",
        "num_epochs = 20\n",
        "history = model.fit(train_images, train_labels, batch_size=batch_size,epochs=num_epochs, validation_data=(test_images, test_labels))"
      ],
      "metadata": {
        "colab": {
          "base_uri": "https://localhost:8080/"
        },
        "id": "ib-_dX0oSSd0",
        "outputId": "64abe686-0a9d-4015-905f-9446db7ac1e1"
      },
      "id": "ib-_dX0oSSd0",
      "execution_count": null,
      "outputs": [
        {
          "output_type": "stream",
          "name": "stdout",
          "text": [
            "Epoch 1/20\n",
            "391/391 [==============================] - 733s 2s/step - loss: 1.4382 - accuracy: 0.4760 - val_loss: 1.4788 - val_accuracy: 0.4497\n",
            "Epoch 2/20\n",
            "391/391 [==============================] - 699s 2s/step - loss: 0.9775 - accuracy: 0.6521 - val_loss: 1.1178 - val_accuracy: 0.6216\n",
            "Epoch 3/20\n",
            "391/391 [==============================] - 695s 2s/step - loss: 0.7736 - accuracy: 0.7265 - val_loss: 0.9688 - val_accuracy: 0.6722\n",
            "Epoch 4/20\n",
            "391/391 [==============================] - 692s 2s/step - loss: 0.6411 - accuracy: 0.7778 - val_loss: 0.9155 - val_accuracy: 0.6931\n",
            "Epoch 5/20\n",
            "391/391 [==============================] - 695s 2s/step - loss: 0.5498 - accuracy: 0.8073 - val_loss: 0.9252 - val_accuracy: 0.6924\n",
            "Epoch 6/20\n",
            "391/391 [==============================] - 700s 2s/step - loss: 0.4805 - accuracy: 0.8326 - val_loss: 0.8447 - val_accuracy: 0.7291\n",
            "Epoch 7/20\n",
            "391/391 [==============================] - 695s 2s/step - loss: 0.4181 - accuracy: 0.8557 - val_loss: 1.2557 - val_accuracy: 0.6512\n",
            "Epoch 8/20\n",
            "391/391 [==============================] - 694s 2s/step - loss: 0.3662 - accuracy: 0.8730 - val_loss: 0.8486 - val_accuracy: 0.7370\n",
            "Epoch 9/20\n",
            "391/391 [==============================] - 695s 2s/step - loss: 0.3230 - accuracy: 0.8872 - val_loss: 0.7849 - val_accuracy: 0.7585\n",
            "Epoch 10/20\n",
            "391/391 [==============================] - 699s 2s/step - loss: 0.2776 - accuracy: 0.9033 - val_loss: 1.0094 - val_accuracy: 0.7254\n",
            "Epoch 11/20\n",
            "391/391 [==============================] - 697s 2s/step - loss: 0.2434 - accuracy: 0.9155 - val_loss: 0.9905 - val_accuracy: 0.7319\n",
            "Epoch 12/20\n",
            "391/391 [==============================] - 699s 2s/step - loss: 0.2049 - accuracy: 0.9288 - val_loss: 0.8902 - val_accuracy: 0.7656\n",
            "Epoch 13/20\n",
            "391/391 [==============================] - 680s 2s/step - loss: 0.1876 - accuracy: 0.9343 - val_loss: 1.0323 - val_accuracy: 0.7258\n",
            "Epoch 14/20\n",
            "391/391 [==============================] - 672s 2s/step - loss: 0.1621 - accuracy: 0.9447 - val_loss: 1.1014 - val_accuracy: 0.7263\n",
            "Epoch 15/20\n",
            "391/391 [==============================] - 695s 2s/step - loss: 0.1332 - accuracy: 0.9538 - val_loss: 1.1123 - val_accuracy: 0.7310\n",
            "Epoch 16/20\n",
            "391/391 [==============================] - 696s 2s/step - loss: 0.1268 - accuracy: 0.9546 - val_loss: 1.0930 - val_accuracy: 0.7429\n",
            "Epoch 17/20\n",
            "391/391 [==============================] - 679s 2s/step - loss: 0.1119 - accuracy: 0.9609 - val_loss: 1.3862 - val_accuracy: 0.7273\n",
            "Epoch 18/20\n",
            "391/391 [==============================] - 682s 2s/step - loss: 0.0971 - accuracy: 0.9665 - val_loss: 0.9527 - val_accuracy: 0.7751\n",
            "Epoch 19/20\n",
            "391/391 [==============================] - 679s 2s/step - loss: 0.0979 - accuracy: 0.9661 - val_loss: 1.0213 - val_accuracy: 0.7804\n",
            "Epoch 20/20\n",
            "391/391 [==============================] - 690s 2s/step - loss: 0.0844 - accuracy: 0.9702 - val_loss: 1.1076 - val_accuracy: 0.7594\n"
          ]
        }
      ]
    },
    {
      "cell_type": "code",
      "source": [
        "# 4. (10 pts) Plot the training and test accuracy in each epoch (or iteration) in the Jupyter notebook\n",
        "\n",
        "# Plot the training and test accuracy in each epoch\n",
        "plt.plot(history.history['accuracy'], label='Training Accuracy')\n",
        "plt.plot(history.history['val_accuracy'], label='Test Accuracy')\n",
        "plt.xlabel('Epoch')\n",
        "plt.ylabel('Accuracy')\n",
        "plt.legend()\n",
        "plt.show()"
      ],
      "metadata": {
        "colab": {
          "base_uri": "https://localhost:8080/",
          "height": 449
        },
        "id": "bsRd6_DoTkrn",
        "outputId": "30fde5ce-e43d-4739-c425-18f3c031f1b7"
      },
      "id": "bsRd6_DoTkrn",
      "execution_count": null,
      "outputs": [
        {
          "output_type": "display_data",
          "data": {
            "text/plain": [
              "<Figure size 640x480 with 1 Axes>"
            ],
            "image/png": "[encoded data removed]"
          },
          "metadata": {}
        }
      ]
    },
    {
      "cell_type": "code",
      "source": [
        "# 5. (10 pts) Save the weights of final model in the same directory of Jupyter notebook.\n",
        "\n",
        "# Save and download the final model\n",
        "model.save('resnet20_modified.h5')\n",
        "files.download('resnet20_modified.h5')"
      ],
      "metadata": {
        "colab": {
          "base_uri": "https://localhost:8080/",
          "height": 17
        },
        "id": "64xUcd7cUJlm",
        "outputId": "c349ebb8-a67a-41e1-d823-01192bd22181"
      },
      "id": "64xUcd7cUJlm",
      "execution_count": null,
      "outputs": [
        {
          "output_type": "display_data",
          "data": {
            "text/plain": [
              "<IPython.core.display.Javascript object>"
            ],
            "application/javascript": [
              "\n",
              "    async function download(id, filename, size) {\n",
              "      if (!google.colab.kernel.accessAllowed) {\n",
              "        return;\n",
              "      }\n",
              "      const div = document.createElement('div');\n",
              "      const label = document.createElement('label');\n",
              "      label.textContent = `Downloading \"${filename}\": `;\n",
              "      div.appendChild(label);\n",
              "      const progress = document.createElement('progress');\n",
              "      progress.max = size;\n",
              "      div.appendChild(progress);\n",
              "      document.body.appendChild(div);\n",
              "\n",
              "      const buffers = [];\n",
              "      let downloaded = 0;\n",
              "\n",
              "      const channel = await google.colab.kernel.comms.open(id);\n",
              "      // Send a message to notify the kernel that we're ready.\n",
              "      channel.send({})\n",
              "\n",
              "      for await (const message of channel.messages) {\n",
              "        // Send a message to notify the kernel that we're ready.\n",
              "        channel.send({})\n",
              "        if (message.buffers) {\n",
              "          for (const buffer of message.buffers) {\n",
              "            buffers.push(buffer);\n",
              "            downloaded += buffer.byteLength;\n",
              "            progress.value = downloaded;\n",
              "          }\n",
              "        }\n",
              "      }\n",
              "      const blob = new Blob(buffers, {type: 'application/binary'});\n",
              "      const a = document.createElement('a');\n",
              "      a.href = window.URL.createObjectURL(blob);\n",
              "      a.download = filename;\n",
              "      div.appendChild(a);\n",
              "      a.click();\n",
              "      div.remove();\n",
              "    }\n",
              "  "
            ]
          },
          "metadata": {}
        },
        {
          "output_type": "display_data",
          "data": {
            "text/plain": [
              "<IPython.core.display.Javascript object>"
            ],
            "application/javascript": [
              "download(\"download_f4e8f50a-50e2-491e-a1be-6dce42f230f3\", \"resnet20_modified.h5\", 3659880)"
            ]
          },
          "metadata": {}
        }
      ]
    },
    {
      "cell_type": "code",
      "source": [
        "# 6. (10 pts) Load the weights into your model and report the training and test accuracy.\n",
        "\n",
        "# Load the saved model weights\n",
        "model_loaded = tf.keras.models.load_model('resnet20_modified.h5')\n",
        "\n",
        "# Evaluate the model on the training and test data\n",
        "train_loss, train_acc = model_loaded.evaluate(train_images, train_labels)\n",
        "test_loss, test_acc = model_loaded.evaluate(test_images, test_labels)\n",
        "\n",
        "print(f'Training accuracy: {train_acc:.4f}')\n",
        "print(f'Test accuracy: {test_acc:.4f}')"
      ],
      "metadata": {
        "colab": {
          "base_uri": "https://localhost:8080/"
        },
        "id": "eWUFrCS7UbBY",
        "outputId": "ea5f3854-6ab7-4711-ac04-92283a9e1a5c"
      },
      "id": "eWUFrCS7UbBY",
      "execution_count": null,
      "outputs": [
        {
          "output_type": "stream",
          "name": "stdout",
          "text": [
            "1563/1563 [==============================] - 154s 98ms/step - loss: 0.2845 - accuracy: 0.9042\n",
            "313/313 [==============================] - 30s 97ms/step - loss: 1.1076 - accuracy: 0.7594\n",
            "Training accuracy: 0.9042\n",
            "Test accuracy: 0.7594\n"
          ]
        }
      ]
    }
  ],
  "metadata": {
    "kernelspec": {
      "display_name": "Python 3",
      "language": "python",
      "name": "python3"
    },
    "language_info": {
      "codemirror_mode": {
        "name": "ipython",
        "version": 3
      },
      "file_extension": ".py",
      "mimetype": "text/x-python",
      "name": "python",
      "nbconvert_exporter": "python",
      "pygments_lexer": "ipython3",
      "version": "3.8.3"
    },
    "colab": {
      "provenance": []
    }
  },
  "nbformat": 4,
  "nbformat_minor": 5
}