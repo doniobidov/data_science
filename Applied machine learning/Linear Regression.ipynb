{
  "cells": [
    {
      "cell_type": "markdown",
      "metadata": {
        "id": "e39D3Or4X7L5"
      },
      "source": [
        "**Write your code in Jupyter Notebook or Google Colab, and submit the ipynb file to Canvas.**"
      ]
    },
    {
      "cell_type": "code",
      "execution_count": 178,
      "metadata": {
        "id": "nL6ehw-GX7MA"
      },
      "outputs": [],
      "source": [
        "# import all necessary packages\n",
        "\n",
        "import numpy as np\n",
        "import os\n",
        "import timeit\n",
        "\n",
        "np.random.seed(42)\n",
        "\n",
        "# To plot pretty figures\n",
        "import matplotlib as mpl\n",
        "import matplotlib.pyplot as plt\n",
        "mpl.rc('axes', labelsize=14)\n",
        "mpl.rc('xtick', labelsize=12)\n",
        "mpl.rc('ytick', labelsize=12)"
      ]
    },
    {
      "cell_type": "markdown",
      "metadata": {
        "id": "iY4-OQ1nX7MD"
      },
      "source": [
        "# Python and Numpy 101"
      ]
    },
    {
      "cell_type": "markdown",
      "metadata": {
        "id": "PS7uPs9QX7ME"
      },
      "source": [
        "**Q1.** Generate a 100,000 x 1 vector of random numbers from a Gaussian distribution with mean of 0 and standard deviation of 1 using numpy. (5 pts)"
      ]
    },
    {
      "cell_type": "code",
      "execution_count": 179,
      "metadata": {
        "colab": {
          "base_uri": "https://localhost:8080/"
        },
        "id": "U-rJxGkHX7MF",
        "outputId": "12a2f736-fa12-473f-dc48-6e5a9d14885b"
      },
      "outputs": [
        {
          "output_type": "stream",
          "name": "stdout",
          "text": [
            "First five elements of a are:\n",
            "[[ 0.49671415]\n",
            " [-0.1382643 ]\n",
            " [ 0.64768854]\n",
            " [ 1.52302986]\n",
            " [-0.23415337]]\n",
            "Shape of a is (100000, 1)\n"
          ]
        }
      ],
      "source": [
        "# Your code here\n",
        "mu, sigma = 0, 1\n",
        "a = np.random.normal(mu, sigma, size=(100000,1))\n",
        "\n",
        "print(f'First five elements of a are:\\n{a[0:5]}')\n",
        "print(f'Shape of a is {a.shape}')"
      ]
    },
    {
      "cell_type": "markdown",
      "metadata": {
        "id": "z94aMctEX7MF"
      },
      "source": [
        "**Q2.**\n",
        "Add 1 to every value in the previous vector by using a loop. Time this operation and print the number. \n",
        "\n",
        "Add 1 to every value in the original vector without using a loop (try vector/matrix oepration!). Time this operation and print the number. \n",
        "\n",
        "Describe your observations. (5 pts)"
      ]
    },
    {
      "cell_type": "code",
      "execution_count": 180,
      "metadata": {
        "colab": {
          "base_uri": "https://localhost:8080/"
        },
        "id": "W0KTPSf_X7MG",
        "outputId": "8b7a24ce-49be-4fe4-f939-ec4ef89e80c0"
      },
      "outputs": [
        {
          "output_type": "stream",
          "name": "stdout",
          "text": [
            "Runtime is 0.20781184699808364 seconds\n",
            "First five elements of b are:\n",
            "[[1.49671415]\n",
            " [0.8617357 ]\n",
            " [1.64768854]\n",
            " [2.52302986]\n",
            " [0.76584663]]\n",
            "Shape of b is (100000, 1)\n"
          ]
        }
      ],
      "source": [
        "# Your code here\n",
        "# With loop\n",
        "\n",
        "b = np.zeros(shape=(100000,1))\n",
        "\n",
        "start = timeit.default_timer()\n",
        "for i in range(b.size):\n",
        "  b[i] = a[i] + 1\n",
        "stop = timeit.default_timer()\n",
        "\n",
        "print(f'Runtime is {stop - start} seconds') \n",
        "print(f'First five elements of b are:\\n{b[0:5]}')\n",
        "print(f'Shape of b is {b.shape}')"
      ]
    },
    {
      "cell_type": "code",
      "source": [
        "# Your code here\n",
        "# Without loop\n",
        "\n",
        "start = timeit.default_timer()\n",
        "c = np.add(a, 1)\n",
        "stop = timeit.default_timer()\n",
        "\n",
        "print(f'Runtime is {stop - start} seconds') \n",
        "print(f'First five elements of c are:\\n{c[0:5]}')\n",
        "print(f'Shape of c is {c.shape}')"
      ],
      "metadata": {
        "colab": {
          "base_uri": "https://localhost:8080/"
        },
        "id": "fUDRVGrygREA",
        "outputId": "b1efa882-7184-450d-d9f2-0f6678ac9db1"
      },
      "execution_count": 181,
      "outputs": [
        {
          "output_type": "stream",
          "name": "stdout",
          "text": [
            "Runtime is 0.0008109490008791909 seconds\n",
            "First five elements of c are:\n",
            "[[1.49671415]\n",
            " [0.8617357 ]\n",
            " [1.64768854]\n",
            " [2.52302986]\n",
            " [0.76584663]]\n",
            "Shape of c is (100000, 1)\n"
          ]
        }
      ]
    },
    {
      "cell_type": "markdown",
      "source": [
        "## Answer:\n",
        "**Matrix addition operation in numpy is much faster than looping through each value (in this case it is at least several hundred times faster)**"
      ],
      "metadata": {
        "id": "8NGmqhQgh-wh"
      }
    },
    {
      "cell_type": "markdown",
      "metadata": {
        "id": "WDScAOpQX7MI"
      },
      "source": [
        "**Q3.** Generate two random matrices $A$ and $B$. The shape of the $A$ and $B$ should be [5, 4] and [4, 5]. Compute their product using loops and the matrix operation $A*B$. Compare the results and describe your findings. (5 pts)"
      ]
    },
    {
      "cell_type": "code",
      "execution_count": 182,
      "metadata": {
        "id": "4DSXB7RrX7MJ"
      },
      "outputs": [],
      "source": [
        "# Your code here\n",
        "# Generate random matrices\n",
        "A = np.random.rand(5, 4)\n",
        "B = np.random.rand(4, 5)"
      ]
    },
    {
      "cell_type": "code",
      "source": [
        "# Your code here\n",
        "# With loop\n",
        "\n",
        "C = np.zeros(shape=(A.shape[0], B.shape[1]))\n",
        "\n",
        "start = timeit.default_timer()\n",
        "for i in range(A.shape[0]):\n",
        "  for j in range(B.shape[1]):\n",
        "    C[i][j] = sum([np.multiply(A[i,k], B[k,j]) for k in range(A.shape[1])])\n",
        "stop = timeit.default_timer()\n",
        "\n",
        "print(f'Runtime is {stop - start} seconds') \n",
        "print(f'C:\\n{C}')"
      ],
      "metadata": {
        "colab": {
          "base_uri": "https://localhost:8080/"
        },
        "id": "abYShCmTmyRh",
        "outputId": "fe211ec7-1b7e-4369-fad4-3681eac03fe3"
      },
      "execution_count": 183,
      "outputs": [
        {
          "output_type": "stream",
          "name": "stdout",
          "text": [
            "Runtime is 0.00045657100054086186 seconds\n",
            "C:\n",
            "[[0.83927323 1.57489264 0.96407711 1.0117316  1.2658243 ]\n",
            " [0.62761549 1.32096171 0.60884684 0.39727696 0.73313246]\n",
            " [0.83177079 1.64868317 1.05498142 0.83081266 1.17912192]\n",
            " [0.48486001 1.09773292 0.52032898 1.02931478 0.92538218]\n",
            " [0.6593265  1.24942131 0.63482119 0.63071598 0.88899803]]\n"
          ]
        }
      ]
    },
    {
      "cell_type": "code",
      "source": [
        "# Your code here\n",
        "# Without loop\n",
        "\n",
        "start = timeit.default_timer()\n",
        "D = np.dot(A,B)\n",
        "stop = timeit.default_timer()\n",
        "\n",
        "print(f'Runtime is {stop - start} seconds') \n",
        "print(f'D:\\n{D}')"
      ],
      "metadata": {
        "colab": {
          "base_uri": "https://localhost:8080/"
        },
        "id": "yR4IN8H2xxRz",
        "outputId": "6e9e384d-6a69-4d5f-80d1-f29de03b06df"
      },
      "execution_count": 184,
      "outputs": [
        {
          "output_type": "stream",
          "name": "stdout",
          "text": [
            "Runtime is 0.00030594000054406933 seconds\n",
            "D:\n",
            "[[0.83927323 1.57489264 0.96407711 1.0117316  1.2658243 ]\n",
            " [0.62761549 1.32096171 0.60884684 0.39727696 0.73313246]\n",
            " [0.83177079 1.64868317 1.05498142 0.83081266 1.17912192]\n",
            " [0.48486001 1.09773292 0.52032898 1.02931478 0.92538218]\n",
            " [0.6593265  1.24942131 0.63482119 0.63071598 0.88899803]]\n"
          ]
        }
      ]
    },
    {
      "cell_type": "markdown",
      "source": [
        "## Answer:\n",
        "**Matrix dot product operation in numpy is much faster than looping**"
      ],
      "metadata": {
        "id": "AIEOjvEJ3-8g"
      }
    },
    {
      "cell_type": "markdown",
      "metadata": {
        "id": "ifWq-mDFX7ML"
      },
      "source": [
        "**Q4.** Implement the sigmoid function $sigmoid(x)=\\frac{1}{1+e^{-x}}$ and plot it on the interval [-10, 10] using matplotlib. (5 pts)\n",
        "\n",
        "Implement the function sigmoid_grad() to compute the gradient of the sigmoid function w.r.t. its input x and plot it on the interval [-10, 10] using matplotlib. (5 pts)"
      ]
    },
    {
      "cell_type": "code",
      "execution_count": 185,
      "metadata": {
        "colab": {
          "base_uri": "https://localhost:8080/"
        },
        "id": "XrR5Lf3qX7MM",
        "outputId": "1a08031f-cc59-4778-e399-736e5cda8c75"
      },
      "outputs": [
        {
          "output_type": "execute_result",
          "data": {
            "text/plain": [
              "(0.6899744811276125, 0.21390969652029443)"
            ]
          },
          "metadata": {},
          "execution_count": 185
        }
      ],
      "source": [
        "# Your code here\n",
        "\n",
        "def sigmoid(x):\n",
        "  return 1/(1 + np.exp(-x))\n",
        "\n",
        "def sigmoid_grad(x):\n",
        "  return np.exp(-x)/np.square((1 + np.exp(-x)))\n",
        "\n",
        "x = 0.8\n",
        "sigmoid(x), sigmoid_grad(x)"
      ]
    },
    {
      "cell_type": "code",
      "source": [
        "X = [x for x in range(-10, 11)]\n",
        "sig = [sigmoid(x) for x in X]\n",
        "grad = [sigmoid_grad(x) for x in X]\n",
        "\n",
        "plt.plot(X, sig)\n",
        "plt.title(\"Sigmoid vs x\")\n",
        "plt.xlabel(\"x\")\n",
        "plt.ylabel(\"Sigmoid\")\n",
        "plt.show()\n",
        "\n",
        "plt.plot(X, grad)\n",
        "plt.title(\"Gradient of sigmoid vs x\")\n",
        "plt.xlabel(\"x\")\n",
        "plt.ylabel(\"Gradient\")\n",
        "plt.show()"
      ],
      "metadata": {
        "colab": {
          "base_uri": "https://localhost:8080/",
          "height": 587
        },
        "id": "YbbTRH33RvF8",
        "outputId": "5187be2a-58c5-45f5-815c-0b91b42392e9"
      },
      "execution_count": 186,
      "outputs": [
        {
          "output_type": "display_data",
          "data": {
            "text/plain": [
              "<Figure size 432x288 with 1 Axes>"
            ],
            "image/png": "[encoded data removed]"
          },
          "metadata": {
            "needs_background": "light"
          }
        },
        {
          "output_type": "display_data",
          "data": {
            "text/plain": [
              "<Figure size 432x288 with 1 Axes>"
            ],
            "image/png": "[encoded data removed]"
          },
          "metadata": {
            "needs_background": "light"
          }
        }
      ]
    },
    {
      "cell_type": "markdown",
      "metadata": {
        "id": "jMhzxW7bX7MN"
      },
      "source": [
        "# Linear Regression"
      ]
    },
    {
      "cell_type": "markdown",
      "metadata": {
        "id": "UagGPo9AX7MO"
      },
      "source": [
        "Please read the following example code for linear regression and implement the rest of the exercises."
      ]
    },
    {
      "cell_type": "markdown",
      "metadata": {
        "id": "sTSfhg7aX7MO"
      },
      "source": [
        "## Implement Linear Regression Using Normal Equation"
      ]
    },
    {
      "cell_type": "markdown",
      "metadata": {
        "id": "uaj3BD2-X7MP"
      },
      "source": [
        "$y=wx + b$\n",
        "\n",
        "E.g., We want to approximiate $y = 3x + 4$\\\n",
        "Loss function: $L = \\sum_i^m ||y_i - (wx_i+b))||^2$"
      ]
    },
    {
      "cell_type": "code",
      "execution_count": 187,
      "metadata": {
        "id": "tdQujsQyX7MP"
      },
      "outputs": [],
      "source": [
        "# Generate training data\n",
        "m = 100 # number of data\n",
        "X = 5 * np.random.rand(m, 1) # Create an array of the given shape and populate it with random samples from a uniform distribution over [0, 1).\n",
        "y = 4 + 3 * X + np.random.randn(m, 1) # a sample (or samples) from the “standard normal” distribution with mean 0 and std 1."
      ]
    },
    {
      "cell_type": "code",
      "execution_count": 188,
      "metadata": {
        "colab": {
          "base_uri": "https://localhost:8080/",
          "height": 290
        },
        "id": "WODl6Y7ZX7MQ",
        "outputId": "5ea7f3a3-533e-476c-e55b-83b854a1277c"
      },
      "outputs": [
        {
          "output_type": "display_data",
          "data": {
            "text/plain": [
              "<Figure size 432x288 with 1 Axes>"
            ],
            "image/png": "[encoded data removed]"
          },
          "metadata": {
            "needs_background": "light"
          }
        }
      ],
      "source": [
        "plt.plot(X, y, \"b.\")\n",
        "plt.xlabel(\"$x$\", fontsize=18)\n",
        "plt.ylabel(\"$y$\", rotation=0, fontsize=18)\n",
        "plt.show()"
      ]
    },
    {
      "cell_type": "markdown",
      "metadata": {
        "tags": [],
        "id": "iEW8TkoaX7MR"
      },
      "source": [
        "Normal Equation: $w=(X^TX)^{-1}X^Ty$"
      ]
    },
    {
      "cell_type": "markdown",
      "metadata": {
        "id": "jW08I3-RX7MS"
      },
      "source": [
        "Add bias term to each instance $[1, x]$\\\n",
        "$y=wx+b$ ⇨ $y=[1, x]\\begin{bmatrix}b\\\\w \\end{bmatrix}$ ⇨ $y=X w$\\\n",
        "Loss function: $L = ||y-Xw||_2^2$"
      ]
    },
    {
      "cell_type": "markdown",
      "metadata": {
        "id": "bJqyKONRX7MS"
      },
      "source": [
        "**Solve the linear regression problem using normal equation.**"
      ]
    },
    {
      "cell_type": "code",
      "execution_count": 189,
      "metadata": {
        "colab": {
          "base_uri": "https://localhost:8080/"
        },
        "id": "4VxZs7-BX7MT",
        "outputId": "628db671-1eb0-48a6-8e59-9a8e3bbd1c16"
      },
      "outputs": [
        {
          "output_type": "execute_result",
          "data": {
            "text/plain": [
              "array([[1.        , 1.07104412],\n",
              "       [1.        , 2.29838994],\n",
              "       [1.        , 2.70345307],\n",
              "       [1.        , 4.86776238],\n",
              "       [1.        , 4.88149741],\n",
              "       [1.        , 2.48675488],\n",
              "       [1.        , 0.71047734],\n",
              "       [1.        , 4.4376281 ],\n",
              "       [1.        , 0.13362523],\n",
              "       [1.        , 2.25957765],\n",
              "       [1.        , 2.49124285],\n",
              "       [1.        , 0.73493636],\n",
              "       [1.        , 1.85762142],\n",
              "       [1.        , 3.35835492],\n",
              "       [1.        , 3.49267108],\n",
              "       [1.        , 3.8936203 ],\n",
              "       [1.        , 2.8667628 ],\n",
              "       [1.        , 1.46809223],\n",
              "       [1.        , 0.06145103],\n",
              "       [1.        , 3.02983919],\n",
              "       [1.        , 2.81551018],\n",
              "       [1.        , 3.16908612],\n",
              "       [1.        , 4.65366401],\n",
              "       [1.        , 1.18899086],\n",
              "       [1.        , 3.53266893],\n",
              "       [1.        , 1.00181204],\n",
              "       [1.        , 3.92933585],\n",
              "       [1.        , 0.15338458],\n",
              "       [1.        , 1.34486587],\n",
              "       [1.        , 1.28927476],\n",
              "       [1.        , 4.24403691],\n",
              "       [1.        , 2.73834925],\n",
              "       [1.        , 2.06699029],\n",
              "       [1.        , 1.22168864],\n",
              "       [1.        , 1.61399449],\n",
              "       [1.        , 3.60731494],\n",
              "       [1.        , 4.2511302 ],\n",
              "       [1.        , 0.45991867],\n",
              "       [1.        , 0.07256732],\n",
              "       [1.        , 2.74536644],\n",
              "       [1.        , 4.18839794],\n",
              "       [1.        , 0.11371503],\n",
              "       [1.        , 2.89298897],\n",
              "       [1.        , 4.07338525],\n",
              "       [1.        , 0.56712383],\n",
              "       [1.        , 1.80984615],\n",
              "       [1.        , 0.50394359],\n",
              "       [1.        , 0.19137092],\n",
              "       [1.        , 2.47034645],\n",
              "       [1.        , 3.32396858],\n",
              "       [1.        , 4.61227173],\n",
              "       [1.        , 1.54281609],\n",
              "       [1.        , 1.30272782],\n",
              "       [1.        , 3.11473282],\n",
              "       [1.        , 4.73626029],\n",
              "       [1.        , 0.92859402],\n",
              "       [1.        , 0.59324853],\n",
              "       [1.        , 4.21648135],\n",
              "       [1.        , 0.66997244],\n",
              "       [1.        , 2.17574911],\n",
              "       [1.        , 3.90700284],\n",
              "       [1.        , 1.87627103],\n",
              "       [1.        , 3.24739731],\n",
              "       [1.        , 3.96407955],\n",
              "       [1.        , 2.69923133],\n",
              "       [1.        , 1.00046351],\n",
              "       [1.        , 1.1264722 ],\n",
              "       [1.        , 4.91815188],\n",
              "       [1.        , 4.05639466],\n",
              "       [1.        , 1.59683522],\n",
              "       [1.        , 0.89147244],\n",
              "       [1.        , 1.4055918 ],\n",
              "       [1.        , 4.10527791],\n",
              "       [1.        , 2.97711127],\n",
              "       [1.        , 3.45223408],\n",
              "       [1.        , 3.28269209],\n",
              "       [1.        , 4.27365417],\n",
              "       [1.        , 4.9398474 ],\n",
              "       [1.        , 3.15300461],\n",
              "       [1.        , 3.02333258],\n",
              "       [1.        , 0.56087339],\n",
              "       [1.        , 4.6076129 ],\n",
              "       [1.        , 0.31342257],\n",
              "       [1.        , 3.38827029],\n",
              "       [1.        , 3.71403377],\n",
              "       [1.        , 1.66113244],\n",
              "       [1.        , 0.51777955],\n",
              "       [1.        , 2.1241679 ],\n",
              "       [1.        , 1.19917621],\n",
              "       [1.        , 2.96969647],\n",
              "       [1.        , 0.174493  ],\n",
              "       [1.        , 0.24080943],\n",
              "       [1.        , 2.86407627],\n",
              "       [1.        , 0.69058504],\n",
              "       [1.        , 1.79654959],\n",
              "       [1.        , 4.37492707],\n",
              "       [1.        , 0.1235456 ],\n",
              "       [1.        , 0.74780376],\n",
              "       [1.        , 4.52627199],\n",
              "       [1.        , 1.90109868]])"
            ]
          },
          "metadata": {},
          "execution_count": 189
        }
      ],
      "source": [
        "X_b = np.c_[np.ones((m, 1)), X]  # add bias term x0 = 1 to each instance\n",
        "X_b.shape\n",
        "X_b"
      ]
    },
    {
      "cell_type": "code",
      "execution_count": 190,
      "metadata": {
        "id": "p81JJ3f3X7MT"
      },
      "outputs": [],
      "source": [
        "# w_best = np.linalg.inv(X_b.T@(X_b))@(X_b.T)@(y)  # @: matrix multiplication == np.matmul, np.dot\n",
        "\n",
        "w_best = np.linalg.pinv(X_b.T@(X_b))@(X_b.T)@(y)  # np.linalg.pinv: Compute the (Moore-Penrose) pseudo-inverse of a matrix (fast: quadratic convergence)."
      ]
    },
    {
      "cell_type": "code",
      "execution_count": 191,
      "metadata": {
        "colab": {
          "base_uri": "https://localhost:8080/"
        },
        "id": "eHa0ZWZTX7MU",
        "outputId": "093d7de2-8428-4fbe-8479-535188155dcf"
      },
      "outputs": [
        {
          "output_type": "execute_result",
          "data": {
            "text/plain": [
              "array([[3.43534631],\n",
              "       [3.19736721]])"
            ]
          },
          "metadata": {},
          "execution_count": 191
        }
      ],
      "source": [
        "w_best  # b, w"
      ]
    },
    {
      "cell_type": "code",
      "execution_count": 192,
      "metadata": {
        "colab": {
          "base_uri": "https://localhost:8080/"
        },
        "id": "CpZiGtsEX7MU",
        "outputId": "e31614a9-afdd-4c48-fdf9-a14d3931250d"
      },
      "outputs": [
        {
          "output_type": "execute_result",
          "data": {
            "text/plain": [
              "array([[3.43534631],\n",
              "       [9.83008073]])"
            ]
          },
          "metadata": {},
          "execution_count": 192
        }
      ],
      "source": [
        "# evaluate the trained linear model\n",
        "X_new = np.array([[0], [2]])\n",
        "X_new_b = np.c_[np.ones((2, 1)), X_new]  # add x0 = 1 to each instance\n",
        "y_predict = X_new_b @w_best\n",
        "y_predict"
      ]
    },
    {
      "cell_type": "code",
      "execution_count": 193,
      "metadata": {
        "colab": {
          "base_uri": "https://localhost:8080/",
          "height": 306
        },
        "id": "ilxIIs45X7MU",
        "outputId": "213e52ca-161e-45cc-ce9b-82f043952a85"
      },
      "outputs": [
        {
          "output_type": "display_data",
          "data": {
            "text/plain": [
              "<Figure size 432x288 with 1 Axes>"
            ],
            "image/png": "[encoded data removed]"
          },
          "metadata": {
            "needs_background": "light"
          }
        }
      ],
      "source": [
        "plt.plot(X_new, y_predict, \"r-\", linewidth=2, label=\"Predictions\")\n",
        "plt.plot(X, y, \"b.\")\n",
        "plt.xlabel(\"$x$\", fontsize=18)\n",
        "plt.ylabel(\"$y$\", rotation=0, fontsize=18)\n",
        "plt.legend(loc=\"upper left\", fontsize=14)\n",
        "plt.axis([0, 2, 0, 15])\n",
        "plt.title(\"Linear Regression Using Normal Equation\")\n",
        "# save_fig(\"linear_model_predictions\")\n",
        "plt.show()"
      ]
    },
    {
      "cell_type": "markdown",
      "metadata": {
        "id": "oOT5FiqUX7MV"
      },
      "source": [
        "**Q5.** Implement Linear Regression with multiple features using Normal Equation.\n",
        "Please modify the example code above and provide the solution when there are $M (M>1)$ features in the training data.\\\n",
        "E.g., $y=4+3x_1+4x_2+8x_3$.\\\n",
        "You do not need to plot the results. You cannot use sklearn in this exercise. (15 pts)\n",
        "\n",
        "\n",
        "Inputs: \n",
        "- x_train: $N\\times M$ matrix with $N$ samples and $M$ features, representing the features of the training data.\n",
        "- y_train: $N\\times 1$ vector, representing the labels of the training data.\n",
        "\n",
        "Output:\n",
        "- w: $(M + 1)\\times 1$ vector of the weight."
      ]
    },
    {
      "cell_type": "code",
      "execution_count": 194,
      "metadata": {
        "colab": {
          "base_uri": "https://localhost:8080/"
        },
        "id": "iFwDxfCtX7MV",
        "outputId": "ae7b9587-40e0-4036-9aba-b5db80b0e096"
      },
      "outputs": [
        {
          "output_type": "stream",
          "name": "stdout",
          "text": [
            "Size of X train is (100, 3)\n",
            "Size of y train is (100, 1)\n",
            "Size of X test is (42, 3)\n",
            "Size of y test is (42, 1)\n",
            "Size of y_hat is (42, 1)\n",
            "The predicted weight vector:\n",
            "[[4.07474518]\n",
            " [2.91543595]\n",
            " [3.0698626 ]\n",
            " [2.96861009]]\n",
            "SUM SE on the test set:34.65204685510227\n",
            "MSE on the test set:0.8250487346452922\n"
          ]
        }
      ],
      "source": [
        "# Your code here\n",
        "\n",
        "# 1. Generate training and test data\n",
        "# m is the overall number of observations\n",
        "N = 100 # number of train observations\n",
        "M = 3 # number of features\n",
        "p = 0.3 # test data size / m\n",
        "\n",
        "np.random.seed(50)\n",
        "x_train = 5 * np.random.rand(N, M) # Generate X train with N observations and M features\n",
        "y_train = 4 + x_train @ np.full((x_train.shape[1], 1), 3) + np.random.randn(N, 1) # Generate y train with N observations and M features\n",
        "x_test = 5 * np.random.rand(int(p*N/(1-p)), M) # Generate X test with floor(p*m) observations and M features\n",
        "y_test = 4 + x_test @ np.full((x_test.shape[1], 1), 3) + np.random.randn(int(p*N/(1-p)), 1) # Generate y test with floor(p*m) observations and M features\n",
        "\n",
        "# 2. implement linear regression using normal equation\n",
        "def linear_regression_normal(x_train, y_train):\n",
        "  x_train_b = np.c_[np.ones((N, 1)), x_train] # add bias term\n",
        "  # @: matrix multiplication == np.matmul, np.dot\n",
        "  w_best = np.linalg.pinv((x_train_b.T)@x_train_b)@(x_train_b.T)@(y_train) # pseudo-inverse of a matrix\n",
        "  return w_best\n",
        "\n",
        "# 3. train model\n",
        "w = linear_regression_normal(x_train, y_train)\n",
        "\n",
        "# 4. evaluate your model on test data using mean square error\n",
        "x_test_b = np.c_[np.ones((x_test.shape[0], 1)), x_test] # add bias term\n",
        "y_hat = x_test_b @ w\n",
        "\n",
        "print(f'Size of X train is {x_train.shape}')\n",
        "print(f'Size of y train is {y_train.shape}')\n",
        "print(f'Size of X test is {x_test.shape}')\n",
        "print(f'Size of y test is {y_test.shape}')\n",
        "print(f'Size of y_hat is {y_hat.shape}')\n",
        "\n",
        "# the predicted weight vector should be close to [[4],[3],[3],[3]]\n",
        "print(f'The predicted weight vector:\\n{w}')\n",
        "\n",
        "# SE and MSE on the test set\n",
        "SE = np.sum(np.square(np.subtract(y_test, y_hat)))\n",
        "MSE = SE/y_test.shape[0]\n",
        "print(f'SUM SE on the test set:{SE}')\n",
        "print(f'MSE on the test set:{MSE}')"
      ]
    },
    {
      "cell_type": "code",
      "source": [],
      "metadata": {
        "id": "_ZoDgdU2rM9B"
      },
      "execution_count": 194,
      "outputs": []
    },
    {
      "cell_type": "markdown",
      "metadata": {
        "tags": [],
        "id": "B3Vjy2IiX7MV"
      },
      "source": [
        "## Implement Linear Regression Using Gradient Descent."
      ]
    },
    {
      "cell_type": "markdown",
      "metadata": {
        "id": "BLE39CS3X7MV"
      },
      "source": [
        "$y=wx + b$\n",
        "\n",
        "E.g., We want to approximiate $y = 2x + 5$"
      ]
    },
    {
      "cell_type": "code",
      "execution_count": 195,
      "metadata": {
        "id": "H2djQa_qX7MW"
      },
      "outputs": [],
      "source": [
        "# Generate some training data\n",
        "m = 30 # number of data\n",
        "X = 2 * np.random.rand(m, 1) # Create an array of the given shape and populate it with random samples from a uniform distribution over [0, 1).\n",
        "y = 5 + 2 * X + np.random.randn(m, 1) # a sample (or samples) from the “standard normal” distribution with mean 0 and std 1."
      ]
    },
    {
      "cell_type": "code",
      "execution_count": 196,
      "metadata": {
        "colab": {
          "base_uri": "https://localhost:8080/",
          "height": 290
        },
        "id": "F6YWSLxAX7MW",
        "outputId": "62dc1d2b-6454-4c60-9525-9c1b94707387"
      },
      "outputs": [
        {
          "output_type": "display_data",
          "data": {
            "text/plain": [
              "<Figure size 432x288 with 1 Axes>"
            ],
            "image/png": "[encoded data removed]"
          },
          "metadata": {
            "needs_background": "light"
          }
        }
      ],
      "source": [
        "plt.plot(X, y, \"b.\")\n",
        "plt.xlabel(\"$x$\", fontsize=18)\n",
        "plt.ylabel(\"$y$\", rotation=0, fontsize=18)\n",
        "plt.show()"
      ]
    },
    {
      "cell_type": "markdown",
      "metadata": {
        "tags": [],
        "id": "twk5Yp5ZX7MW"
      },
      "source": [
        "# Linear regression using gradient descent (GD)\n",
        "\n",
        "$w^{t+1} = w^t - \\eta \\nabla_w L(w^t)$\n",
        "\n",
        "$\\nabla_w L(w^t) = 2X^TXw-2X^Ty = 2X^T(Xw - y)$"
      ]
    },
    {
      "cell_type": "code",
      "execution_count": 197,
      "metadata": {
        "id": "QOL9WgaeX7MW"
      },
      "outputs": [],
      "source": [
        "X_b = np.c_[np.ones((m, 1)), X]  # add bias term x0 = 1 to each instance\n",
        "\n",
        "eta = 0.1\n",
        "n_iterations = 1000\n",
        "w = np.random.randn(2,1) # random initial weight [b, w]\n",
        "\n",
        "for iteration in range(n_iterations):\n",
        "    gradients = 2/m * X_b.T@(X_b@w - y) # we calculate the average gradient by dividing the gradient by the number of samples $m$\n",
        "    w = w - eta * gradients"
      ]
    },
    {
      "cell_type": "code",
      "execution_count": 198,
      "metadata": {
        "colab": {
          "base_uri": "https://localhost:8080/"
        },
        "id": "nBXmbZB-X7MX",
        "outputId": "96b14745-067d-4bd4-bd31-af76082eeb79"
      },
      "outputs": [
        {
          "output_type": "execute_result",
          "data": {
            "text/plain": [
              "array([[5.6009045],\n",
              "       [1.4833986]])"
            ]
          },
          "metadata": {},
          "execution_count": 198
        }
      ],
      "source": [
        "w"
      ]
    },
    {
      "cell_type": "markdown",
      "metadata": {
        "id": "WWYl7kqQX7MX"
      },
      "source": [
        "Mean Square Error (MSE): $L = \\frac{1}{m}\\sum_i^m ||y_i - (wx_i+b))||^2$"
      ]
    },
    {
      "cell_type": "code",
      "execution_count": 199,
      "metadata": {
        "id": "zpcfotxXX7MX"
      },
      "outputs": [],
      "source": [
        "X_new = np.array([[0], [2]])\n",
        "X_new_b = np.c_[np.ones((2, 1)), X_new]  # add x0 = 1 to each instance\n",
        "y_predict = X_new_b @w"
      ]
    },
    {
      "cell_type": "code",
      "execution_count": 200,
      "metadata": {
        "colab": {
          "base_uri": "https://localhost:8080/",
          "height": 306
        },
        "id": "JdCZRDu6X7MZ",
        "outputId": "e1602c2c-f1db-458a-ab9e-e6f8c260ddca"
      },
      "outputs": [
        {
          "output_type": "display_data",
          "data": {
            "text/plain": [
              "<Figure size 432x288 with 1 Axes>"
            ],
            "image/png": "[encoded data removed]"
          },
          "metadata": {
            "needs_background": "light"
          }
        }
      ],
      "source": [
        "plt.plot(X_new, y_predict, \"r-\", linewidth=3, label=\"Predictions\")\n",
        "plt.plot(X, y, \"b.\")\n",
        "plt.xlabel(\"$x$\", fontsize=18)\n",
        "plt.ylabel(\"$y$\", rotation=0, fontsize=18)\n",
        "plt.legend(loc=\"upper left\", fontsize=14)\n",
        "plt.title(\"Linear Regression Using Gradient Descent\")\n",
        "plt.axis([0, 2, 0, 15])\n",
        "plt.show()"
      ]
    },
    {
      "cell_type": "markdown",
      "metadata": {
        "id": "M9koT4ILX7Ma"
      },
      "source": [
        "**Q6.** Implement Linear Regression with multiple features using gradient descent.\n",
        "Please modify the example code above and provide the solution when there are $M (M>1)$ features in the training data.\\\n",
        "E.g., $y=4+3x_1+4x_2+8x_3$.\\\n",
        "You do not need to plot the results. You cannot use sklearn in this exercise. (15 pts)\n",
        "\n",
        "Inputs: \n",
        "- x_train: $N\\times M$ matrix with $N$ samples and $M$ features, representing the features of the training data.\n",
        "- y_train: $N\\times 1$ vector, representing the labels of the training data.\n",
        "- lr: learning rate used in gradient descent.\n",
        "- iterations: number of iterations to run the gradient descent.\n",
        "\n",
        "Output:\n",
        "- w: $(M+1)\\times 1$ vector."
      ]
    },
    {
      "cell_type": "code",
      "execution_count": 201,
      "metadata": {
        "colab": {
          "base_uri": "https://localhost:8080/"
        },
        "id": "F_qqBHmFX7Ma",
        "outputId": "d17ac623-128f-4f0c-ef40-3b0d81f8f663"
      },
      "outputs": [
        {
          "output_type": "stream",
          "name": "stdout",
          "text": [
            "Size of X train is (100, 3)\n",
            "Size of y train is (100, 1)\n",
            "Size of X test is (42, 3)\n",
            "Size of y test is (42, 1)\n",
            "Size of y_hat is (42, 1)\n",
            "The predicted weight vector:\n",
            "[[4.06603527]\n",
            " [2.91666149]\n",
            " [3.0707734 ]\n",
            " [2.96968479]]\n",
            "SUM SE on the test set:34.61615348956769\n",
            "MSE on the test set:0.8241941307039925\n"
          ]
        }
      ],
      "source": [
        "# Your code here\n",
        "\n",
        "# 1. generate your training and test data\n",
        "# m is the overall number of observations\n",
        "N = 100 # number of train observations\n",
        "M = 3 # number of features\n",
        "p = 0.3 # test data size / m\n",
        "\n",
        "np.random.seed(50)\n",
        "x_train = 5 * np.random.rand(N, M) # Generate X train with N observations and M features\n",
        "y_train = 4 + x_train @ np.full((x_train.shape[1], 1), 3) + np.random.randn(N, 1) # Generate y train with N observations and M features\n",
        "x_test = 5 * np.random.rand(int(p*N/(1-p)), M) # Generate X test with floor(p*m) observations and M features\n",
        "y_test = 4 + x_test @ np.full((x_test.shape[1], 1), 3) + np.random.randn(int(p*N/(1-p)), 1) # Generate y test with floor(p*m) observations and M features\n",
        "\n",
        "# 2. implement linear regression using gradient descent\n",
        "def linear_regression_gd(x_train, y_train):\n",
        "  x_train_b = np.c_[np.ones((N, 1)), x_train] # add bias term\n",
        "\n",
        "  eta = 0.01\n",
        "  n_iterations = 1000\n",
        "  np.random.seed(50)\n",
        "  w = np.random.randn(x_train_b.shape[1], 1) # randomly initial weights [b, w]\n",
        "\n",
        "  for iteration in range(n_iterations):\n",
        "    gradients = 2/m * x_train_b.T@(x_train_b@w - y_train) # calculate gradients (average)\n",
        "    w = w - eta * gradients\n",
        "  return w\n",
        "\n",
        "# 3. train model\n",
        "w = linear_regression_gd(x_train, y_train)\n",
        "\n",
        "# 4. evaluate your model on test data using mean square error\n",
        "x_test_b = np.c_[np.ones((x_test.shape[0], 1)), x_test] # add bias term\n",
        "y_hat = x_test_b @ w\n",
        "\n",
        "print(f'Size of X train is {x_train.shape}')\n",
        "print(f'Size of y train is {y_train.shape}')\n",
        "print(f'Size of X test is {x_test.shape}')\n",
        "print(f'Size of y test is {y_test.shape}')\n",
        "print(f'Size of y_hat is {y_hat.shape}')\n",
        "\n",
        "# the predicted weight vector should be close to [[4],[3],[3],[3]]\n",
        "print(f'The predicted weight vector:\\n{w}')\n",
        "\n",
        "# SE and MSE on the test set\n",
        "SE = np.sum(np.square(np.subtract(y_test, y_hat)))\n",
        "MSE = SE/y_test.shape[0]\n",
        "print(f'SUM SE on the test set:{SE}')\n",
        "print(f'MSE on the test set:{MSE}')"
      ]
    },
    {
      "cell_type": "markdown",
      "metadata": {
        "id": "xDV5c5V5X7Mb"
      },
      "source": [
        "**Q7.** Use linear regression algorithms to solve the diabetes dataset (https://scikit-learn.org/stable/modules/generated/sklearn.datasets.load_diabetes.html). You can use sklearn in this exercise. \n",
        "\n",
        "1) Split the dataset into a training and test set, 70% for training and 30% for testing. (5 pts)\n",
        "2) Train linear regression models with and without regularization (linear regression, ridge regression, lasso) and output the weights. (30 pts)\n",
        "3) Compare the models on the testing dataset, output the mean square error, and describe your observations. (10 pt)"
      ]
    },
    {
      "cell_type": "code",
      "execution_count": 202,
      "metadata": {
        "id": "whWuBFb4X7Mb"
      },
      "outputs": [],
      "source": [
        "# Your code here\n",
        "from sklearn import datasets\n",
        "from sklearn.model_selection import train_test_split\n",
        "from sklearn.linear_model import LinearRegression\n",
        "from sklearn.linear_model import Lasso\n",
        "from sklearn.linear_model import Ridge\n",
        "from sklearn import metrics\n",
        "from sklearn.model_selection import GridSearchCV\n",
        "\n",
        "X, y = datasets.load_diabetes(return_X_y=True)"
      ]
    },
    {
      "cell_type": "code",
      "source": [
        "X_train, X_test, y_train, y_test = train_test_split(X, y, test_size=0.3, random_state=50)\n",
        "print('Training and testing set sizes', X_train.shape, X_test.shape)"
      ],
      "metadata": {
        "colab": {
          "base_uri": "https://localhost:8080/"
        },
        "id": "f1eoDoGN_OA1",
        "outputId": "3776ee15-53f9-4c07-ede0-f20e8ef48398"
      },
      "execution_count": 203,
      "outputs": [
        {
          "output_type": "stream",
          "name": "stdout",
          "text": [
            "Training and testing set sizes (309, 10) (133, 10)\n"
          ]
        }
      ]
    },
    {
      "cell_type": "code",
      "execution_count": 204,
      "metadata": {
        "colab": {
          "base_uri": "https://localhost:8080/"
        },
        "id": "5zDQhGCeX7Mc",
        "outputId": "0fa616fa-2e73-4a1a-c14d-0675e8736ddd"
      },
      "outputs": [
        {
          "output_type": "stream",
          "name": "stdout",
          "text": [
            "Coefficients:\n",
            " [  103.73056737  -192.6888065    460.38407706   378.74577156\n",
            " -1124.1947621    673.41282245   262.59316863   246.51945739\n",
            "   875.83610671     3.21132783]\n",
            "Intercept:\n",
            " 149.52261212240523\n",
            "Testing R^2: 0.47\n",
            "Testing MSE: 2954.31\n"
          ]
        }
      ],
      "source": [
        "# Fitting linear regression without regularization\n",
        "lr = LinearRegression(fit_intercept=True)\n",
        "lr.fit(X_train, y_train)\n",
        "print('Coefficients:\\n', lr.coef_)\n",
        "print('Intercept:\\n', lr.intercept_)\n",
        "\n",
        "# Predict values for the testing data\n",
        "yhat = lr.predict(X_test)\n",
        "\n",
        "# Calculate the metrics\n",
        "mse = metrics.mean_squared_error(y_test, yhat)\n",
        "r2 = metrics.r2_score(y_test, yhat)\n",
        "\n",
        "print('Testing R^2:', round(r2, 2))\n",
        "print('Testing MSE:', round(mse, 2))"
      ]
    },
    {
      "cell_type": "code",
      "source": [
        "# Fitting linear regression with lasso regularization\n",
        "lasso = Lasso(random_state=50)\n",
        "\n",
        "param_grid = {\n",
        "  'alpha': [0.1, 1, 10],\n",
        "  'fit_intercept': [True]}\n",
        "\n",
        "grid_search = GridSearchCV(lasso, param_grid, cv=5, scoring='neg_mean_squared_error')\n",
        "grid_search.fit(X_train, y_train)\n",
        "\n",
        "print(\"Best hyperparameters: \", grid_search.best_params_)\n",
        "print(\"Best mean squared error on training data: \", -grid_search.best_score_)\n",
        "\n",
        "# Use the best hyperparameters to make predictions on X_test\n",
        "best_lasso = grid_search.best_estimator_ # rebuild model on the entire X_test using best hyperparameters\n",
        "yhat = best_lasso.predict(X_test)\n",
        "\n",
        "print('Final Coefficients:\\n', best_lasso.coef_)\n",
        "print('Final Intercept:\\n', best_lasso.intercept_)\n",
        "\n",
        "# Calculate the metrics for the test set\n",
        "mse_l = metrics.mean_squared_error(y_test, yhat)\n",
        "r2_l = metrics.r2_score(y_test, yhat)\n",
        "\n",
        "print('Testing R^2:', round(r2_l, 2))\n",
        "print('Testing MSE:', round(mse_l, 2))"
      ],
      "metadata": {
        "colab": {
          "base_uri": "https://localhost:8080/"
        },
        "id": "WKC9EPylA_gy",
        "outputId": "17f22ba3-b7a4-4d21-fdd0-4b7ba66663fc"
      },
      "execution_count": 205,
      "outputs": [
        {
          "output_type": "stream",
          "name": "stdout",
          "text": [
            "Best hyperparameters:  {'alpha': 0.1, 'fit_intercept': True}\n",
            "Best mean squared error on training data:  3270.808337356138\n",
            "Final Coefficients:\n",
            " [  50.22418724  -98.40095871  465.15858216  327.05766233 -110.71411221\n",
            "   -0.         -185.01771004    0.          509.77288109    0.        ]\n",
            "Final Intercept:\n",
            " 149.6576295004395\n",
            "Testing R^2: 0.49\n",
            "Testing MSE: 2876.76\n"
          ]
        }
      ]
    },
    {
      "cell_type": "code",
      "source": [
        "# Fitting linear regression with ridge regularization\n",
        "ridge = Ridge(random_state=50)\n",
        "\n",
        "param_grid = {\n",
        "  'alpha': [0.1, 1, 10],\n",
        "  'fit_intercept': [True]}\n",
        "\n",
        "grid_search = GridSearchCV(ridge, param_grid, cv=5, scoring='neg_mean_squared_error')\n",
        "grid_search.fit(X_train, y_train)\n",
        "\n",
        "print(\"Best hyperparameters: \", grid_search.best_params_)\n",
        "print(\"Best mean squared error on training data: \", -grid_search.best_score_)\n",
        "\n",
        "# Use the best hyperparameters to make predictions on X_test\n",
        "best_ridge = grid_search.best_estimator_ # rebuild model on the entire X_test using best hyperparameters\n",
        "yhat = best_ridge.predict(X_test)\n",
        "\n",
        "print('Final Coefficients:\\n', best_ridge.coef_)\n",
        "print('Final Intercept:\\n', best_ridge.intercept_)\n",
        "\n",
        "# Calculate the metrics for the test set\n",
        "mse_r = metrics.mean_squared_error(y_test, yhat)\n",
        "r2_r = metrics.r2_score(y_test, yhat)\n",
        "\n",
        "print('Testing R^2:', round(r2_r, 2))\n",
        "print('Testing MSE:', round(mse_r, 2))"
      ],
      "metadata": {
        "colab": {
          "base_uri": "https://localhost:8080/"
        },
        "id": "ZIFeRvteHVqF",
        "outputId": "4b3a8d8b-a51a-47ad-9803-8865ab6d2d81"
      },
      "execution_count": 206,
      "outputs": [
        {
          "output_type": "stream",
          "name": "stdout",
          "text": [
            "Best hyperparameters:  {'alpha': 0.1, 'fit_intercept': True}\n",
            "Best mean squared error on training data:  3238.687801797842\n",
            "Final Coefficients:\n",
            " [  93.85460577 -150.93739431  436.01771153  331.90821801 -105.06661733\n",
            "  -86.93048025 -179.97267133  119.13907397  430.55932791   42.79669941]\n",
            "Final Intercept:\n",
            " 149.50769258131055\n",
            "Testing R^2: 0.48\n",
            "Testing MSE: 2897.68\n"
          ]
        }
      ]
    },
    {
      "cell_type": "code",
      "source": [
        "print('Testing MSE of the ordinary least squares regression:', round(mse, 2))\n",
        "print('Testing MSE of the lasso regression:', round(mse_l, 2))\n",
        "print('Testing MSE of the ridge regression:', round(mse_r, 2))"
      ],
      "metadata": {
        "colab": {
          "base_uri": "https://localhost:8080/"
        },
        "id": "oFJFZq5vQU3A",
        "outputId": "eea7c817-b5c8-4e47-9e19-6d5ddae5a2a5"
      },
      "execution_count": 207,
      "outputs": [
        {
          "output_type": "stream",
          "name": "stdout",
          "text": [
            "Testing MSE of the ordinary least squares regression: 2954.31\n",
            "Testing MSE of the lasso regression: 2876.76\n",
            "Testing MSE of the ridge regression: 2897.68\n"
          ]
        }
      ]
    },
    {
      "cell_type": "markdown",
      "source": [
        "**Lasso showed the best performance on the test set. It is followed by the ridge regression. The difference in performance between penalized and not penalized models is not very large.**"
      ],
      "metadata": {
        "id": "tQgxAYGcKVWU"
      }
    }
  ],
  "metadata": {
    "kernelspec": {
      "display_name": "Python 3 (ipykernel)",
      "language": "python",
      "name": "python3"
    },
    "language_info": {
      "codemirror_mode": {
        "name": "ipython",
        "version": 3
      },
      "file_extension": ".py",
      "mimetype": "text/x-python",
      "name": "python",
      "nbconvert_exporter": "python",
      "pygments_lexer": "ipython3",
      "version": "3.8.3"
    },
    "colab": {
      "provenance": []
    }
  },
  "nbformat": 4,
  "nbformat_minor": 0
}