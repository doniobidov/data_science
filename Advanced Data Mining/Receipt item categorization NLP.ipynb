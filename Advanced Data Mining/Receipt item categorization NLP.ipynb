{
  "cells": [
    {
      "cell_type": "markdown",
      "source": [
        "# COMPARING TF-IDF VARIANTS FOR RECEIPT RECOGNITION"
      ],
      "metadata": {
        "id": "Dh-v0DS8Wrqd"
      }
    },
    {
      "cell_type": "markdown",
      "source": [
        "# Notebook Outline\n",
        "## I. Imports Section\n",
        "## II. Utility Functions\n",
        "## III. Load Data\n",
        "## IV. Vectorise Data\n",
        "## V. Normalization and Dimensionality Reduction\n",
        "## VI. Label Encoding\n",
        "## VII. Data Exploration and Cleaning\n",
        "## VIII. Model Building and Evaluation"
      ],
      "metadata": {
        "id": "cO9aQf0kVzK1"
      }
    },
    {
      "cell_type": "markdown",
      "source": [
        "## I. Imports Section"
      ],
      "metadata": {
        "id": "O39y0pcn62pE"
      }
    },
    {
      "cell_type": "code",
      "execution_count": 1,
      "metadata": {
        "colab": {
          "base_uri": "https://localhost:8080/"
        },
        "id": "1vP5sYV-lCx_",
        "outputId": "5d8d6f51-eda2-44c4-dbd7-639108522ebc"
      },
      "outputs": [
        {
          "output_type": "stream",
          "name": "stderr",
          "text": [
            "[nltk_data] Downloading package punkt to /root/nltk_data...\n",
            "[nltk_data]   Unzipping tokenizers/punkt.zip.\n",
            "[nltk_data] Downloading package stopwords to /root/nltk_data...\n",
            "[nltk_data]   Unzipping corpora/stopwords.zip.\n"
          ]
        },
        {
          "output_type": "execute_result",
          "data": {
            "text/plain": [
              "True"
            ]
          },
          "metadata": {},
          "execution_count": 1
        }
      ],
      "source": [
        "# TF IDF\n",
        "import numpy as np\n",
        "import pandas as pd\n",
        "from sklearn.feature_extraction.text import TfidfVectorizer\n",
        "from sklearn.cluster import KMeans\n",
        "from sklearn.metrics import adjusted_rand_score\n",
        "import tensorflow as tf\n",
        "import tensorflow_hub as hub\n",
        "from tensorflow import keras\n",
        "from keras import regularizers\n",
        "from keras.models import load_model\n",
        "from sklearn.model_selection import train_test_split\n",
        "import nltk\n",
        "from nltk.corpus import stopwords\n",
        "from nltk.stem import SnowballStemmer\n",
        "from nltk.tokenize import word_tokenize\n",
        "from collections import Counter\n",
        "import re\n",
        "from sklearn.metrics import accuracy_score, f1_score\n",
        "from sklearn.preprocessing import Normalizer\n",
        "from sklearn.decomposition import TruncatedSVD\n",
        "from sklearn.preprocessing import LabelEncoder\n",
        "nltk.download('punkt')\n",
        "nltk.download('stopwords')"
      ]
    },
    {
      "cell_type": "markdown",
      "source": [
        "## II. Utility Functions"
      ],
      "metadata": {
        "id": "sPNimjCh7evU"
      }
    },
    {
      "cell_type": "code",
      "execution_count": 2,
      "metadata": {
        "id": "EmZ2lDI6TrAt"
      },
      "outputs": [],
      "source": [
        "def preprocess_text(text):\n",
        "  # remove special characters\n",
        "  text = re.sub(r'[^a-zA-Z\\s]+','',text)\n",
        "\n",
        "  #tokenize\n",
        "  output1 = word_tokenize(text)\n",
        "\n",
        "  # remove stop words\n",
        "  stop_words = set(stopwords.words('english'))\n",
        "  output2 = [word for word in output1 if word.lower() not in stop_words]\n",
        "\n",
        "  # stemming\n",
        "  stemmer = SnowballStemmer('english')\n",
        "  output3 = [stemmer.stem(word) for word in output2]\n",
        "\n",
        "  return \" \".join(output3)"
      ]
    },
    {
      "cell_type": "code",
      "execution_count": 3,
      "metadata": {
        "id": "BLJatYYAKmgD"
      },
      "outputs": [],
      "source": [
        "def vectorize_tfidf(variant, data):\n",
        "  # change variant to lowercase\n",
        "  variant = variant.lower()\n",
        "\n",
        "  # initialise vectorizer\n",
        "  v = TfidfVectorizer(sublinear_tf=False, use_idf=False, norm = None, smooth_idf = False)\n",
        "\n",
        "  # Switch parameters based on flavours\n",
        "  if variant == \"nnn\":\n",
        "    pass\n",
        "  elif variant == \"ntn\":\n",
        "    v.use_idf = True\n",
        "    pass\n",
        "  elif variant == \"ntc\":\n",
        "    v.use_idf = True\n",
        "    v.norm = \"l2\"\n",
        "    pass\n",
        "  elif variant == \"lnn\":\n",
        "    v.sublinear_tf = True\n",
        "    pass\n",
        "  elif variant == \"ltn\":\n",
        "    v.sublinear_tf = True\n",
        "    v.use_idf = True\n",
        "    pass\n",
        "  elif variant == \"ltc\":\n",
        "    v.sublinear_tf = True\n",
        "    v.use_idf = True\n",
        "    v.norm = \"l2\"\n",
        "    pass\n",
        "  elif variant == \"bnn\":\n",
        "    v.binary = True\n",
        "  elif variant == \"btn\":\n",
        "    v.binary = True\n",
        "    v.use_idf = True\n",
        "    pass\n",
        "  elif variant == \"btc\":\n",
        "    v.binary = True\n",
        "    v.use_idf = True\n",
        "    v.norm=\"l2\"\n",
        "    pass\n",
        "  else:\n",
        "    print(f\"Variant {variant} Not supported\")\n",
        "    return None, None\n",
        "\n",
        "  tfidf = v.fit_transform(data).todense()\n",
        "\n",
        "  return tfidf, v"
      ]
    },
    {
      "cell_type": "markdown",
      "source": [
        "## III. Load Data\n",
        "\n",
        "\n"
      ],
      "metadata": {
        "id": "2NQ-Uw2Z8GvD"
      }
    },
    {
      "cell_type": "code",
      "execution_count": 4,
      "metadata": {
        "id": "tS3BfgTZTCJs"
      },
      "outputs": [],
      "source": [
        "df = pd.read_csv(\"34.csv\", header=None)\n",
        "\n",
        "X_train, X_test, y_train, y_test = train_test_split(df[0],df[2], test_size=0.2, train_size=0.8, random_state=1, stratify=df[2])\n",
        "X_train_clean = X_train.apply(preprocess_text)\n",
        "X_test_clean = X_test.apply(preprocess_text)\n",
        "\n",
        "#one hot encode y\n",
        "y_train_ohe = pd.get_dummies(y_train, drop_first=False)\n",
        "y_test_ohe = pd.get_dummies(y_test, drop_first=False)\n",
        "\n",
        "# print(X_train.head(3))\n",
        "# print(X_train_clean.head(3))\n",
        "# y_train_ohe"
      ]
    },
    {
      "cell_type": "markdown",
      "source": [
        "## IV. Vectorise Data"
      ],
      "metadata": {
        "id": "MzCvDU_k8PD9"
      }
    },
    {
      "cell_type": "code",
      "execution_count": 5,
      "metadata": {
        "id": "QFZfQrsCx-Y3"
      },
      "outputs": [],
      "source": [
        "# Vectorize data\n",
        "variant_sm = \"btc\"\n",
        "X_train_tfidf, v = vectorize_tfidf(variant_sm, X_train_clean)\n",
        "X_test_tfidf = v.transform(X_test_clean).todense()\n",
        "# print(f\"Variant: {variant_sm}\")\n",
        "# print(X_test_tfidf[:10])"
      ]
    },
    {
      "cell_type": "markdown",
      "source": [
        "## V. Normalization and Dimensionality Reduction"
      ],
      "metadata": {
        "id": "G7pGCTt-8lzF"
      }
    },
    {
      "cell_type": "code",
      "execution_count": 6,
      "metadata": {
        "colab": {
          "base_uri": "https://localhost:8080/"
        },
        "id": "NoQxsoXu-dFR",
        "outputId": "418a0b52-4692-4a6d-adb8-5761aeecf56b"
      },
      "outputs": [
        {
          "output_type": "stream",
          "name": "stdout",
          "text": [
            "<class 'numpy.ndarray'>\n"
          ]
        }
      ],
      "source": [
        "# Normalization\n",
        "n = Normalizer(norm='l2')\n",
        "X_train_n = n.fit_transform(np.asarray(X_train_tfidf))\n",
        "x_test_n = n.transform(np.asarray(X_test_tfidf))\n",
        "\n",
        "print(type(x_test_n))"
      ]
    },
    {
      "cell_type": "code",
      "execution_count": 7,
      "metadata": {
        "id": "SlccJBmYB9Ca"
      },
      "outputs": [],
      "source": [
        "# Dimensionality reduction\n",
        "n_components = 1000\n",
        "svd = TruncatedSVD(n_components=n_components)\n",
        "x_train_svd = svd.fit_transform(X_train_n)\n",
        "x_test_svd = svd.transform(x_test_n)\n",
        "# x_test_svd[0:10]"
      ]
    },
    {
      "cell_type": "code",
      "execution_count": 8,
      "metadata": {
        "id": "cYNiTYZRJDVu",
        "colab": {
          "base_uri": "https://localhost:8080/"
        },
        "outputId": "4f9cfbd7-c834-4f7a-8b80-1d96f58dd5b5"
      },
      "outputs": [
        {
          "output_type": "execute_result",
          "data": {
            "text/plain": [
              "0.7361469509400286"
            ]
          },
          "metadata": {},
          "execution_count": 8
        }
      ],
      "source": [
        "sum(svd.explained_variance_ratio_)"
      ]
    },
    {
      "cell_type": "code",
      "execution_count": 9,
      "metadata": {
        "colab": {
          "base_uri": "https://localhost:8080/",
          "height": 472
        },
        "id": "Ny1H8E1yFGlu",
        "outputId": "4be8bc27-3068-42e4-c7ea-5b520b037669"
      },
      "outputs": [
        {
          "output_type": "display_data",
          "data": {
            "text/plain": [
              "<Figure size 640x480 with 1 Axes>"
            ],
            "image/png": "[encoded data removed]"
          },
          "metadata": {}
        }
      ],
      "source": [
        "import matplotlib.pyplot as plt\n",
        "plt.plot(svd.explained_variance_ratio_, 'ro-', linewidth=2)\n",
        "plt.xlabel(\"Component number\")\n",
        "plt.ylabel(\"proportion of variance explained\")\n",
        "plt.title(\"Variance explained by each SVD component\")\n",
        "plt.show()\n"
      ]
    },
    {
      "cell_type": "markdown",
      "source": [
        "## VI. Label Encoding"
      ],
      "metadata": {
        "id": "6oJgF7Zn87Rc"
      }
    },
    {
      "cell_type": "code",
      "execution_count": 10,
      "metadata": {
        "colab": {
          "base_uri": "https://localhost:8080/"
        },
        "id": "_EXPALXrN1zf",
        "outputId": "beba28a3-feee-4ccb-ec36-87fd6f72d12b"
      },
      "outputs": [
        {
          "output_type": "stream",
          "name": "stdout",
          "text": [
            "['CPUs' 'Digital Cameras' 'Dishwashers' 'Freezers' 'Fridge Freezers'\n",
            " 'Fridges' 'Microwaves' 'Mobile Phones' 'TVs' 'Washing Machines']\n",
            "['CPUs' 'Digital Cameras' 'Dishwashers' 'Freezers' 'Fridge Freezers'\n",
            " 'Fridges' 'Microwaves' 'Mobile Phones' 'TVs' 'Washing Machines']\n",
            "[0 1 2 3 4 5 6 7 8 9]\n",
            "[0 1 2 3 4 5 6 7 8 9]\n"
          ]
        }
      ],
      "source": [
        "# Create a LabelEncoder object\n",
        "le = LabelEncoder()\n",
        "\n",
        "# Fit the LabelEncoder on y and transform y\n",
        "y_train_le = le.fit_transform(y_train)\n",
        "y_test_le = le.transform(y_test)\n",
        "\n",
        "# Verify the unique classes in y\n",
        "print(np.unique(y_train))\n",
        "print(np.unique(y_test))\n",
        "print(np.unique(y_train_le))\n",
        "print(np.unique(y_test_le))"
      ]
    },
    {
      "cell_type": "markdown",
      "source": [
        "## VII. Data Exploration and Cleaning"
      ],
      "metadata": {
        "id": "21R7_TOX9zKB"
      }
    },
    {
      "cell_type": "code",
      "execution_count": 11,
      "metadata": {
        "colab": {
          "base_uri": "https://localhost:8080/"
        },
        "id": "41s8n_RASUOJ",
        "outputId": "45630a80-bad7-43cf-e750-74eb6e261dd2"
      },
      "outputs": [
        {
          "output_type": "stream",
          "name": "stdout",
          "text": [
            "Missing values in column 0: 0\n",
            "Missing values in column 1: 0\n",
            "Missing values in column 2: 0\n"
          ]
        }
      ],
      "source": [
        "# find missing values in column 0\n",
        "missing_col0 = df.iloc[:, 0].isna().sum()\n",
        "print(f\"Missing values in column 0: {missing_col0}\")\n",
        "\n",
        "# find missing values in column 1\n",
        "missing_col1 = df.iloc[:, 1].isna().sum()\n",
        "print(f\"Missing values in column 1: {missing_col1}\")\n",
        "\n",
        "# find missing values in column 2\n",
        "missing_col2 = df.iloc[:, 2].isna().sum()\n",
        "print(f\"Missing values in column 2: {missing_col2}\")"
      ]
    },
    {
      "cell_type": "code",
      "execution_count": 12,
      "metadata": {
        "colab": {
          "base_uri": "https://localhost:8080/"
        },
        "id": "W2O7qmD8TrSN",
        "outputId": "adf4d440-aea5-4f6f-f446-17fd1eb12828"
      },
      "outputs": [
        {
          "output_type": "stream",
          "name": "stdout",
          "text": [
            "Number of unique categories: 10\n"
          ]
        }
      ],
      "source": [
        "num_unique_categories = df.iloc[:, 2].nunique()\n",
        "print(f\"Number of unique categories: {num_unique_categories}\")"
      ]
    },
    {
      "cell_type": "code",
      "execution_count": 13,
      "metadata": {
        "colab": {
          "base_uri": "https://localhost:8080/"
        },
        "id": "I9P-lcPQT4Ec",
        "outputId": "9b8a95d9-0499-4106-f76e-a4250f2a9efc"
      },
      "outputs": [
        {
          "output_type": "stream",
          "name": "stdout",
          "text": [
            "Number of unique categories: 10\n",
            "Unique categories\n",
            "['Mobile Phones', 'TVs', 'CPUs', 'Digital Cameras', 'Microwaves', 'Dishwashers', 'Washing Machines', 'Freezers', 'Fridge Freezers', 'Fridges']\n"
          ]
        }
      ],
      "source": [
        "unique_categories = df.iloc[:, 2].unique().tolist()\n",
        "num_unique_categories = len(unique_categories)\n",
        "\n",
        "print(f\"Number of unique categories: {num_unique_categories}\")\n",
        "print(\"Unique categories\")\n",
        "print(unique_categories)"
      ]
    },
    {
      "cell_type": "code",
      "execution_count": 14,
      "metadata": {
        "colab": {
          "base_uri": "https://localhost:8080/"
        },
        "id": "gLsRwhdnUVDB",
        "outputId": "c2411a54-227b-4c2a-f95c-fc8508f67436"
      },
      "outputs": [
        {
          "output_type": "stream",
          "name": "stdout",
          "text": [
            "Summary statistics of text length:\n",
            "count    35311.000000\n",
            "mean        77.821953\n",
            "std         26.161765\n",
            "min         10.000000\n",
            "25%         61.000000\n",
            "50%         75.000000\n",
            "75%         92.000000\n",
            "max        225.000000\n",
            "dtype: float64\n"
          ]
        }
      ],
      "source": [
        "# create a Series containing the length of each text\n",
        "text_lengths = df.iloc[:, :2].applymap(len).sum(axis=1)\n",
        "\n",
        "# print summary statistics of the text length\n",
        "print(\"Summary statistics of text length:\")\n",
        "print(text_lengths.describe())"
      ]
    },
    {
      "cell_type": "code",
      "execution_count": 15,
      "metadata": {
        "colab": {
          "base_uri": "https://localhost:8080/",
          "height": 472
        },
        "id": "eX8PQCX4U5eI",
        "outputId": "d5d1004b-9c63-459a-d943-e1cd63b15f38"
      },
      "outputs": [
        {
          "output_type": "display_data",
          "data": {
            "text/plain": [
              "<Figure size 640x480 with 1 Axes>"
            ],
            "image/png": "[encoded data removed]"
          },
          "metadata": {}
        }
      ],
      "source": [
        "import matplotlib.pyplot as plt\n",
        "from collections import Counter\n",
        "import re\n",
        "\n",
        "# join all texts in column 1 into a single string\n",
        "text = ' '.join(df.iloc[:, 0].astype(str))\n",
        "\n",
        "# remove punctuation and convert to lowercase\n",
        "text = re.sub(r'[^\\w\\s]', '', text.lower())\n",
        "\n",
        "# count the frequency of each word\n",
        "word_freq = Counter(text.split())\n",
        "\n",
        "# get the top 10 most common words\n",
        "top_10_words = word_freq.most_common(10)\n",
        "\n",
        "# plot the bar chart\n",
        "plt.bar([word[0] for word in top_10_words], [word[1] for word in top_10_words])\n",
        "plt.title(\"Top 10 most common words in column 1\")\n",
        "plt.xlabel(\"Words\")\n",
        "plt.ylabel(\"Frequency\")\n",
        "plt.show()"
      ]
    },
    {
      "cell_type": "code",
      "execution_count": 16,
      "metadata": {
        "colab": {
          "base_uri": "https://localhost:8080/"
        },
        "id": "K3CkUHmNWTV7",
        "outputId": "de6d76cf-777c-46b1-a76e-a94741c9e7cc"
      },
      "outputs": [
        {
          "output_type": "stream",
          "name": "stdout",
          "text": [
            "Size of X_train: (28248,)\n",
            "Size of X_test: (7063,)\n",
            "Size of y_train: (28248,)\n",
            "Size of y_test: (7063,)\n"
          ]
        }
      ],
      "source": [
        "# after splitting into train and test set\n",
        "# Report the sizes of the split datasets\n",
        "print(f\"Size of X_train: {X_train.shape}\")\n",
        "print(f\"Size of X_test: {X_test.shape}\")\n",
        "print(f\"Size of y_train: {y_train.shape}\")\n",
        "print(f\"Size of y_test: {y_test.shape}\")"
      ]
    },
    {
      "cell_type": "code",
      "execution_count": 17,
      "metadata": {
        "colab": {
          "base_uri": "https://localhost:8080/",
          "height": 472
        },
        "id": "uF4ckfBzYkR1",
        "outputId": "decc54c7-0c87-4f9b-de62-60ba8800e471"
      },
      "outputs": [
        {
          "output_type": "display_data",
          "data": {
            "text/plain": [
              "<Figure size 640x480 with 1 Axes>"
            ],
            "image/png": "[encoded data removed]"
          },
          "metadata": {}
        }
      ],
      "source": [
        "# after appliying preprocess text\n",
        "# train set\n",
        "# join all texts in column 1 into a single string\n",
        "text = ' '.join(X_train_clean.astype(str))\n",
        "\n",
        "# remove punctuation and convert to lowercase\n",
        "text = re.sub(r'[^\\w\\s]', '', text.lower())\n",
        "\n",
        "# count the frequency of each word\n",
        "word_freq = Counter(text.split())\n",
        "\n",
        "# get the top 10 most common words\n",
        "top_10_words = word_freq.most_common(10)\n",
        "\n",
        "# plot the bar chart\n",
        "plt.bar([word[0] for word in top_10_words], [word[1] for word in top_10_words])\n",
        "plt.title(\"Top 10 most common words in column 1\")\n",
        "plt.xlabel(\"Words\")\n",
        "plt.ylabel(\"Frequency\")\n",
        "plt.show()"
      ]
    },
    {
      "cell_type": "code",
      "execution_count": 18,
      "metadata": {
        "colab": {
          "base_uri": "https://localhost:8080/",
          "height": 472
        },
        "id": "eB6Krw6VY9M1",
        "outputId": "47b9b04b-37a9-4014-95fa-a77e820588fe"
      },
      "outputs": [
        {
          "output_type": "display_data",
          "data": {
            "text/plain": [
              "<Figure size 640x480 with 1 Axes>"
            ],
            "image/png": "[encoded data removed]"
          },
          "metadata": {}
        }
      ],
      "source": [
        "# after appliying preprocess text\n",
        "# train set\n",
        "# join all texts in column 1 into a single string\n",
        "text = ' '.join(X_test_clean.astype(str))\n",
        "\n",
        "# remove punctuation and convert to lowercase\n",
        "text = re.sub(r'[^\\w\\s]', '', text.lower())\n",
        "\n",
        "# count the frequency of each word\n",
        "word_freq = Counter(text.split())\n",
        "\n",
        "# get the top 10 most common words\n",
        "top_10_words = word_freq.most_common(10)\n",
        "\n",
        "# plot the bar chart\n",
        "plt.bar([word[0] for word in top_10_words], [word[1] for word in top_10_words])\n",
        "plt.title(\"Top 10 most common words in column 1\")\n",
        "plt.xlabel(\"Words\")\n",
        "plt.ylabel(\"Frequency\")\n",
        "plt.show()"
      ]
    },
    {
      "cell_type": "code",
      "execution_count": 19,
      "metadata": {
        "colab": {
          "base_uri": "https://localhost:8080/"
        },
        "id": "GVDX1Ja2nFfz",
        "outputId": "f5da53cf-5f88-4b1c-da5c-85b553ffd299"
      },
      "outputs": [
        {
          "output_type": "stream",
          "name": "stdout",
          "text": [
            "Summary statistics of text length in the preprocessed X_train:\n",
            "count    28248.000000\n",
            "mean        40.984388\n",
            "std         17.893052\n",
            "min          2.000000\n",
            "25%         30.000000\n",
            "50%         40.000000\n",
            "75%         51.000000\n",
            "max        173.000000\n",
            "Name: 0, dtype: float64\n",
            "Summary statistics of text length in the preprocessed X_train:\n",
            "count    7063.000000\n",
            "mean       41.302138\n",
            "std        18.153992\n",
            "min         3.000000\n",
            "25%        30.000000\n",
            "50%        40.000000\n",
            "75%        51.000000\n",
            "max       171.000000\n",
            "Name: 0, dtype: float64\n"
          ]
        }
      ],
      "source": [
        "# Summary statistics for the preprocessed X sets\n",
        "\n",
        "# Train set\n",
        "# create a Series containing the length of each text\n",
        "text_lengths = X_train_clean.str.len()\n",
        "\n",
        "# print summary statistics of the text length\n",
        "print(\"Summary statistics of text length in the preprocessed X_train:\")\n",
        "print(text_lengths.describe())\n",
        "\n",
        "# Test set\n",
        "# create a Series containing the length of each text\n",
        "text_lengths = X_test_clean.str.len()\n",
        "\n",
        "# print summary statistics of the text length\n",
        "print(\"Summary statistics of text length in the preprocessed X_train:\")\n",
        "print(text_lengths.describe())"
      ]
    },
    {
      "cell_type": "code",
      "execution_count": 20,
      "metadata": {
        "colab": {
          "base_uri": "https://localhost:8080/"
        },
        "id": "zBIjeprtlu-P",
        "outputId": "454e6e07-d429-4f7b-c23a-cb330cf30dea"
      },
      "outputs": [
        {
          "output_type": "stream",
          "name": "stdout",
          "text": [
            "Size of the vectorized x_train (28248,)\n",
            "Size of the vectorized x_test (7063,)\n"
          ]
        }
      ],
      "source": [
        "# Size of sets after vectorizing\n",
        "print(f'Size of the vectorized x_train {X_train.shape}')\n",
        "print(f'Size of the vectorized x_test {X_test.shape}')"
      ]
    },
    {
      "cell_type": "code",
      "execution_count": 21,
      "metadata": {
        "colab": {
          "base_uri": "https://localhost:8080/"
        },
        "id": "QNdDbATcmRKG",
        "outputId": "27ed1732-3e82-4e21-d296-b942b67fce11"
      },
      "outputs": [
        {
          "output_type": "stream",
          "name": "stdout",
          "text": [
            "['CPUs' 'Digital Cameras' 'Dishwashers' 'Freezers' 'Fridge Freezers'\n",
            " 'Fridges' 'Microwaves' 'Mobile Phones' 'TVs' 'Washing Machines']\n",
            "['CPUs' 'Digital Cameras' 'Dishwashers' 'Freezers' 'Fridge Freezers'\n",
            " 'Fridges' 'Microwaves' 'Mobile Phones' 'TVs' 'Washing Machines']\n",
            "[0 1 2 3 4 5 6 7 8 9]\n",
            "[0 1 2 3 4 5 6 7 8 9]\n"
          ]
        }
      ],
      "source": [
        "# some models only accept numeric categories\n",
        "# Verify the unique classes in y\n",
        "print(np.unique(y_train))\n",
        "print(np.unique(y_test))\n",
        "print(np.unique(y_train_le))\n",
        "print(np.unique(y_test_le))"
      ]
    },
    {
      "cell_type": "markdown",
      "source": [
        "## VIII. Model Building and Evaluation"
      ],
      "metadata": {
        "id": "DGmlzj939jZn"
      }
    },
    {
      "cell_type": "code",
      "execution_count": null,
      "metadata": {
        "id": "a6w6gnSXYmgI"
      },
      "outputs": [],
      "source": [
        "# import xgboost as xgb\n",
        "# from sklearn.metrics import accuracy_score\n",
        "# from sklearn.model_selection import GridSearchCV\n",
        "# from sklearn.model_selection import StratifiedKFold\n",
        "\n",
        "# # Define the model\n",
        "# xgb_model = xgb.XGBClassifier()\n",
        "\n",
        "# # Define hyperparameters to tune\n",
        "# param_grid = {\n",
        "#     'n_estimators': [50], #[50, 100],\n",
        "#     'max_depth': [5], #[3, 4, 5],\n",
        "#     'learning_rate': [0.01]\n",
        "# }\n",
        "\n",
        "# # Define cross-validation strategy\n",
        "# cv = StratifiedKFold(n_splits=5)\n",
        "\n",
        "# # Define grid search\n",
        "# grid_search = GridSearchCV(estimator=xgb_model, param_grid=param_grid, cv=cv, scoring='accuracy')\n",
        "\n",
        "# # Fit the model on the training data\n",
        "# grid_search.fit(x_train_svd, y_train_le)\n",
        "\n",
        "# # Get the best hyperparameters and score\n",
        "# best_params = grid_search.best_params_\n",
        "# best_score = grid_search.best_score_\n",
        "\n",
        "# # Train the final model with the best hyperparameters on the full training set\n",
        "# xgb_model = xgb.XGBClassifier(**best_params)\n",
        "# xgb_model.fit(x_train_svd, y_train_le)\n",
        "\n",
        "# # Predict on the test set and evaluate accuracy\n",
        "# y_pred = xgb_model.predict(x_test_svd)\n",
        "# accuracy = accuracy_score(y_test_le, y_pred)\n",
        "# print('Accuracy:', accuracy)\n"
      ]
    },
    {
      "cell_type": "code",
      "execution_count": null,
      "metadata": {
        "id": "jyYG70nZowB0"
      },
      "outputs": [],
      "source": [
        "\n",
        "# from sklearn import svm\n",
        "# from sklearn.metrics import accuracy_score\n",
        "# from sklearn.model_selection import GridSearchCV\n",
        "# from sklearn.model_selection import StratifiedKFold\n",
        "\n",
        "# # Define the model\n",
        "# svm_model = svm.SVC()\n",
        "\n",
        "# # Define hyperparameters to tune\n",
        "# param_grid = {\n",
        "#     'C': [0.1], #[0.1, 1, 10],\n",
        "#     'kernel': ['linear'], #['linear', 'rbf'],\n",
        "#     'gamma': [\"auto\"] #['scale', 'auto']\n",
        "# }\n",
        "\n",
        "# # Define cross-validation strategy\n",
        "# cv = StratifiedKFold(n_splits=5)\n",
        "\n",
        "# # Define grid search\n",
        "# grid_search = GridSearchCV(estimator=svm_model, param_grid=param_grid, cv=cv, scoring='accuracy')\n",
        "\n",
        "# # Fit the model on the training data\n",
        "# grid_search.fit(x_train_svd, y_train_le)\n",
        "\n",
        "# # Get the best hyperparameters and score\n",
        "# best_params = grid_search.best_params_\n",
        "# best_score = grid_search.best_score_\n",
        "\n",
        "# # Train the final model with the best hyperparameters on the full training set\n",
        "# svm_model = svm.SVC(**best_params)\n",
        "# svm_model.fit(x_train_svd, y_train_le)\n",
        "\n",
        "# # Predict on the test set and evaluate accuracy\n",
        "# y_pred = svm_model.predict(x_test_svd)\n",
        "# accuracy = accuracy_score(y_test_le, y_pred)\n",
        "# print('Accuracy:', accuracy)\n"
      ]
    },
    {
      "cell_type": "code",
      "execution_count": null,
      "metadata": {
        "colab": {
          "base_uri": "https://localhost:8080/",
          "height": 146
        },
        "id": "3dU0eGLtyQKj",
        "outputId": "b632b8e6-a8a1-40ee-bcb0-2af559779dd8"
      },
      "outputs": [
        {
          "data": {
            "application/vnd.google.colaboratory.intrinsic+json": {
              "type": "string"
            },
            "text/plain": [
              "\"\\nfrom keras.layers import BatchNormalization\\n\\n# Reshape input to have a third dimension for conv1d\\nx_train_nn = x_train.values.reshape(x_train.shape[0], x_train.shape[1], 1)\\nx_test_nn = x_test.values.reshape(x_test.shape[0], x_test.shape[1], 1)\\n\\n# Define the input shape\\ninput_shape = x_train_nn.shape[1:]\\n\\nnum_categories = y_train_ohe.shape[1]\\n\\n# Create the model\\nmodel = tf.keras.Sequential([\\n    tf.keras.layers.LSTM(units=64, dropout=0.2, recurrent_dropout=0.2),\\n    tf.keras.layers.Dense(32, activation='relu'),\\n    tf.keras.layers.Dense(num_categories, activation='softmax')\\n])\\n\\n# Compile and train the model\\nmodel.compile(optimizer='adam', loss='categorical_crossentropy', metrics=['accuracy'])\\nmodel.fit(x_train_nn, y_train_ohe, epochs=5)\\n\\n# Evaluate on test data\\nmodel.evaluate(x_test_nn, y_test_ohe)\\n\""
            ]
          },
          "execution_count": 59,
          "metadata": {},
          "output_type": "execute_result"
        }
      ],
      "source": [
        "'''\n",
        "from keras.layers import BatchNormalization\n",
        "\n",
        "# Reshape input to have a third dimension for conv1d\n",
        "x_train_nn = x_train.values.reshape(x_train.shape[0], x_train.shape[1], 1)\n",
        "x_test_nn = x_test.values.reshape(x_test.shape[0], x_test.shape[1], 1)\n",
        "\n",
        "# Define the input shape\n",
        "input_shape = x_train_nn.shape[1:]\n",
        "\n",
        "num_categories = y_train_ohe.shape[1]\n",
        "\n",
        "# Create the model\n",
        "model = tf.keras.Sequential([\n",
        "    tf.keras.layers.LSTM(units=64, dropout=0.2, recurrent_dropout=0.2),\n",
        "    tf.keras.layers.Dense(32, activation='relu'),\n",
        "    tf.keras.layers.Dense(num_categories, activation='softmax')\n",
        "])\n",
        "\n",
        "# Compile and train the model\n",
        "model.compile(optimizer='adam', loss='categorical_crossentropy', metrics=['accuracy'])\n",
        "model.fit(x_train_nn, y_train_ohe, epochs=5)\n",
        "\n",
        "# Evaluate on test data\n",
        "model.evaluate(x_test_nn, y_test_ohe)\n",
        "'''"
      ]
    },
    {
      "cell_type": "code",
      "execution_count": 22,
      "metadata": {
        "colab": {
          "base_uri": "https://localhost:8080/"
        },
        "id": "OKaTO02OCYdH",
        "outputId": "dc25935a-b9df-4038-e1ef-fb62bbf3e12c"
      },
      "outputs": [
        {
          "output_type": "stream",
          "name": "stdout",
          "text": [
            "variant: btc\n",
            "Train Accuracy: 0.970971396205041\n",
            "Train F1: 0.9699587027207714\n",
            "Accuracy: 0.9310491292651848\n",
            "Test F1: 0.9278268632230349\n"
          ]
        }
      ],
      "source": [
        "\n",
        "from sklearn.neighbors import KNeighborsClassifier\n",
        "from sklearn.metrics import accuracy_score\n",
        "from sklearn.model_selection import GridSearchCV\n",
        "from sklearn.model_selection import StratifiedKFold\n",
        "\n",
        "# Model with cosine similarity as distance measure\n",
        "knn_model = KNeighborsClassifier(metric='cosine')\n",
        "\n",
        "# Define hyperparameters to tune\n",
        "param_grid = {\n",
        "    'n_neighbors': [3],     #[3, 5, 7, 9],\n",
        "    'weights': ['uniform']  #['uniform', 'distance']\n",
        "}\n",
        "\n",
        "# Define cross-validation strategy\n",
        "cv = StratifiedKFold(n_splits=5)\n",
        "\n",
        "# Define grid search\n",
        "grid_search = GridSearchCV(estimator=knn_model, param_grid=param_grid, cv=cv, scoring='accuracy')\n",
        "\n",
        "# Fit the model on the training data\n",
        "grid_search.fit(x_train_svd, y_train_le)\n",
        "\n",
        "# Get the best hyperparameters and score\n",
        "best_params = grid_search.best_params_\n",
        "best_score = grid_search.best_score_\n",
        "\n",
        "# Train the final model with the best hyperparameters on the full training set\n",
        "knn_model = KNeighborsClassifier(metric='cosine', **best_params)\n",
        "knn_model.fit(x_train_svd, y_train_le)\n",
        "\n",
        "print(f\"variant: {variant_sm}\")\n",
        "# Predict on the test set and evaluate accuracy\n",
        "y_pred_train = knn_model.predict(x_train_svd)\n",
        "accuracy = accuracy_score(y_train_le, y_pred_train)\n",
        "f1 = f1_score(y_train_le, y_pred_train, average='macro')\n",
        "print('Train Accuracy:', accuracy)\n",
        "print('Train F1:', f1)\n",
        "\n",
        "# Predict on the test set and evaluate accuracy\n",
        "y_pred = knn_model.predict(x_test_svd)\n",
        "accuracy = accuracy_score(y_test_le, y_pred)\n",
        "f1 = f1_score(y_test_le, y_pred, average='macro')\n",
        "print('Accuracy:', accuracy)\n",
        "print('Test F1:', f1)"
      ]
    },
    {
      "cell_type": "code",
      "execution_count": 23,
      "metadata": {
        "colab": {
          "base_uri": "https://localhost:8080/"
        },
        "id": "EYEbH8YUGqTR",
        "outputId": "aed22522-1de4-4120-f039-ad6f20d71743"
      },
      "outputs": [
        {
          "output_type": "stream",
          "name": "stdout",
          "text": [
            "variant: btc\n",
            "Train Accuracy: 0.8347847635230813\n",
            "Train F1: 0.840743973888151\n",
            "Train Accuracy: 0.8268441172306386\n",
            "Train F1: 0.8304145093338251\n"
          ]
        }
      ],
      "source": [
        "\n",
        "from sklearn.tree import DecisionTreeClassifier\n",
        "from sklearn.metrics import accuracy_score\n",
        "from sklearn.model_selection import GridSearchCV\n",
        "from sklearn.model_selection import StratifiedKFold\n",
        "\n",
        "# Model with default hyperparameters\n",
        "tree_model = DecisionTreeClassifier()\n",
        "\n",
        "# Define hyperparameters to tune\n",
        "param_grid = {\n",
        "    'max_depth':  [9], #[3, 5, 7, 9],\n",
        "    'min_samples_split': [10], #[2, 5, 10],\n",
        "    'min_samples_leaf': [1] #[1, 2, 4]\n",
        "}\n",
        "\n",
        "# Define cross-validation strategy\n",
        "cv = StratifiedKFold(n_splits=5)\n",
        "\n",
        "# Define grid search\n",
        "grid_search = GridSearchCV(estimator=tree_model, param_grid=param_grid, cv=cv, scoring='accuracy')\n",
        "\n",
        "# Fit the model on the training data\n",
        "grid_search.fit(x_train_svd, y_train_le)\n",
        "\n",
        "# Get the best hyperparameters and score\n",
        "best_params = grid_search.best_params_\n",
        "best_score = grid_search.best_score_\n",
        "\n",
        "# Train the final model with the best hyperparameters on the full training set\n",
        "tree_model = DecisionTreeClassifier(**best_params)\n",
        "tree_model.fit(x_train_svd, y_train_le)\n",
        "\n",
        "print(f\"variant: {variant_sm}\")\n",
        "# Predict on the training set and evaluate accuracy\n",
        "y_pred_train = tree_model.predict(x_train_svd)\n",
        "accuracy = accuracy_score(y_train_le, y_pred_train)\n",
        "f1 = f1_score(y_train_le, y_pred_train, average='macro')\n",
        "print('Train Accuracy:', accuracy)\n",
        "print('Train F1:', f1)\n",
        "\n",
        "# Predict on the test set and evaluate accuracy\n",
        "y_pred = tree_model.predict(x_test_svd)\n",
        "accuracy = accuracy_score(y_test_le, y_pred)\n",
        "f1 = f1_score(y_test_le, y_pred, average='macro')\n",
        "print('Train Accuracy:', accuracy)\n",
        "print('Train F1:', f1)\n"
      ]
    },
    {
      "cell_type": "code",
      "execution_count": 24,
      "metadata": {
        "colab": {
          "base_uri": "https://localhost:8080/"
        },
        "id": "Icld4aNnFuGX",
        "outputId": "ac932060-70e8-43af-b2d5-c4a3124666ad"
      },
      "outputs": [
        {
          "output_type": "execute_result",
          "data": {
            "text/plain": [
              "{'max_depth': 9, 'min_samples_leaf': 1, 'min_samples_split': 10}"
            ]
          },
          "metadata": {},
          "execution_count": 24
        }
      ],
      "source": [
        "grid_search.best_params_"
      ]
    },
    {
      "cell_type": "code",
      "execution_count": 25,
      "metadata": {
        "colab": {
          "base_uri": "https://localhost:8080/"
        },
        "id": "Hngnb4xrB3CI",
        "outputId": "06439c33-72b0-48d0-8b59-144f81c34ed4"
      },
      "outputs": [
        {
          "output_type": "stream",
          "name": "stdout",
          "text": [
            "Epoch 1/5\n",
            "883/883 [==============================] - 9s 4ms/step - loss: 1.4855 - accuracy: 0.7747\n",
            "Epoch 2/5\n",
            "883/883 [==============================] - 3s 3ms/step - loss: 0.9260 - accuracy: 0.9236\n",
            "Epoch 3/5\n",
            "883/883 [==============================] - 3s 3ms/step - loss: 0.8038 - accuracy: 0.9321\n",
            "Epoch 4/5\n",
            "883/883 [==============================] - 3s 3ms/step - loss: 0.7321 - accuracy: 0.9363\n",
            "Epoch 5/5\n",
            "883/883 [==============================] - 4s 4ms/step - loss: 0.6825 - accuracy: 0.9371\n",
            "883/883 [==============================] - 1s 2ms/step\n",
            "variant: btc\n",
            "Training Accuracy: 0.9453058623619371\n",
            "Training F1 score: 0.947110814823642\n",
            "221/221 [==============================] - 0s 2ms/step\n",
            "Accuracy: 0.9402520175562792\n",
            "F1 score: 0.9417874876708628\n"
          ]
        }
      ],
      "source": [
        "# final models\n",
        "# neural network\n",
        "# Define output layer for all the labels\n",
        "num_categories = y_train_ohe.shape[1]\n",
        "model = tf.keras.Sequential([\n",
        "    tf.keras.layers.Dense(128, activation='relu', kernel_regularizer=regularizers.l2(0.01)),\n",
        "    tf.keras.layers.Dense(64, activation='relu', kernel_regularizer=regularizers.l2(0.01)),\n",
        "    tf.keras.layers.Dense(num_categories, activation='softmax')\n",
        "])\n",
        "\n",
        "# Compile and train the model\n",
        "model.compile(optimizer='adam',\n",
        "              loss='categorical_crossentropy',\n",
        "              metrics=['accuracy'])\n",
        "model.fit(x_train_svd, y_train_ohe, epochs=5)\n",
        "\n",
        "# Training accuracy\n",
        "y_pred_train = model.predict(x_train_svd)\n",
        "\n",
        "# Convert one-hot encoded y_pred to integers\n",
        "y_pred_train_labels = np.argmax(y_pred_train, axis=1)\n",
        "\n",
        "print(f\"variant: {variant_sm}\")\n",
        "# Evaluate on test data\n",
        "accuracy = accuracy_score(y_train_le, y_pred_train_labels)\n",
        "f1 = f1_score(y_train_le, y_pred_train_labels, average='macro')\n",
        "\n",
        "print(f'Training Accuracy: {accuracy}')\n",
        "print(f'Training F1 score: {f1}')\n",
        "\n",
        "# Make predictions on test data\n",
        "y_pred = model.predict(x_test_svd)\n",
        "\n",
        "# Convert one-hot encoded y_pred to integers\n",
        "y_pred_labels = np.argmax(y_pred, axis=1)\n",
        "\n",
        "# Evaluate on test data\n",
        "accuracy = accuracy_score(y_test_le, y_pred_labels)\n",
        "f1 = f1_score(y_test_le, y_pred_labels, average='macro')\n",
        "\n",
        "print(f'Accuracy: {accuracy}')\n",
        "print(f'F1 score: {f1}')"
      ]
    },
    {
      "cell_type": "code",
      "execution_count": 26,
      "metadata": {
        "colab": {
          "base_uri": "https://localhost:8080/"
        },
        "id": "pDIP8wkFxrgp",
        "outputId": "feaa9448-d29e-4e64-fa12-e44ad0d92be5"
      },
      "outputs": [
        {
          "output_type": "stream",
          "name": "stdout",
          "text": [
            "variant: btc\n",
            "Training Accuracy: 0.735981308411215\n",
            "Training F1 score: 0.7364126416459456\n",
            "Accuracy: 0.7295766671386097\n",
            "F1 score: 0.7307055849380919\n"
          ]
        }
      ],
      "source": [
        "from sklearn.naive_bayes import GaussianNB\n",
        "from sklearn.metrics import accuracy_score, f1_score\n",
        "from sklearn.model_selection import GridSearchCV\n",
        "from sklearn.model_selection import StratifiedKFold\n",
        "\n",
        "# Define the model\n",
        "nb_model = GaussianNB()\n",
        "\n",
        "# Define hyperparameters to tune\n",
        "param_grid = {\n",
        "    'var_smoothing': [1e-9, 1e-8, 1e-7]\n",
        "}\n",
        "\n",
        "# Define cross-validation strategy\n",
        "cv = StratifiedKFold(n_splits=5)\n",
        "\n",
        "# Define grid search\n",
        "grid_search = GridSearchCV(estimator=nb_model, param_grid=param_grid, cv=cv, scoring='accuracy')\n",
        "\n",
        "# Fit the model on the training data\n",
        "grid_search.fit(x_train_svd, y_train_le)\n",
        "\n",
        "# Get the best hyperparameters and score\n",
        "best_params = grid_search.best_params_\n",
        "best_score = grid_search.best_score_\n",
        "\n",
        "# Train the final model with the best hyperparameters on the full training set\n",
        "nb_model = GaussianNB(**best_params)\n",
        "nb_model.fit(x_train_svd, y_train_le)\n",
        "\n",
        "print(f\"variant: {variant_sm}\")\n",
        "# Training Accuracy\n",
        "y_pred_train = nb_model.predict(x_train_svd)\n",
        "accuracy = accuracy_score(y_train_le, y_pred_train)\n",
        "f1 = f1_score(y_train_le, y_pred_train, average='macro')\n",
        "print(f'Training Accuracy: {accuracy}')\n",
        "print(f'Training F1 score: {f1}')\n",
        "\n",
        "# Predict on the test set and evaluate accuracy\n",
        "y_pred = nb_model.predict(x_test_svd)\n",
        "accuracy = accuracy_score(y_test_le, y_pred)\n",
        "f1 = f1_score(y_test_le, y_pred, average='macro')\n",
        "print(f'Accuracy: {accuracy}')\n",
        "print(f'F1 score: {f1}')"
      ]
    }
  ],
  "metadata": {
    "colab": {
      "provenance": []
    },
    "kernelspec": {
      "display_name": "Python 3",
      "name": "python3"
    },
    "language_info": {
      "name": "python"
    },
    "accelerator": "GPU",
    "gpuClass": "standard"
  },
  "nbformat": 4,
  "nbformat_minor": 0
}