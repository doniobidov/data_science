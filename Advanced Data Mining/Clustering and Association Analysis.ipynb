{
 "cells": [
  {
   "cell_type": "markdown",
   "id": "8c3bb35e",
   "metadata": {
    "id": "8c3bb35e"
   },
   "source": [
    "# A4 - Python\n",
    "\n",
    "This assignment will cover topics of clustering and association analysis.\n",
    "\n",
    "Make sure that you keep this notebook named as \"a4.ipynb\" \n",
    "\n",
    "Any other packages or tools, outside those listed in the assignments or Canvas, should be cleared\n",
    "by Dr. Brown before use in your submission."
   ]
  },
  {
   "cell_type": "markdown",
   "id": "9d6525ee",
   "metadata": {
    "id": "9d6525ee"
   },
   "source": [
    "## Q0 - Setup\n",
    "\n",
    "The following code looks to see whether your notebook is run on Gradescope (GS), Colab (COLAB), or the linux Python environment you were asked to setup."
   ]
  },
  {
   "cell_type": "code",
   "execution_count": 1,
   "id": "88afb7ed",
   "metadata": {
    "colab": {
     "base_uri": "https://localhost:8080/"
    },
    "id": "88afb7ed",
    "outputId": "51754849-a290-44d2-cc63-8fb39dcc7c47",
    "tags": []
   },
   "outputs": [
    {
     "name": "stdout",
     "output_type": "stream",
     "text": [
      "System: GS - False, COLAB - False, LLM - True\n"
     ]
    }
   ],
   "source": [
    "import re \n",
    "import os\n",
    "import platform \n",
    "import sys \n",
    "\n",
    "# flag if notebook is running on Gradescope \n",
    "if re.search(r'amzn', platform.uname().release): \n",
    "    GS = True\n",
    "else: \n",
    "    GS = False\n",
    "\n",
    "# flag if notebook is running on Colaboratory \n",
    "try:\n",
    "  import google.colab\n",
    "  COLAB = True\n",
    "except:\n",
    "  COLAB = False\n",
    "\n",
    "# flag if running on Linux lab machines. \n",
    "cname = platform.uname().node\n",
    "if re.search(r'(guardian|colossus|c28)', cname):\n",
    "    LLM = True \n",
    "else: \n",
    "    LLM = False\n",
    "\n",
    "print(\"System: GS - %s, COLAB - %s, LLM - %s\" % (GS, COLAB, LLM))"
   ]
  },
  {
   "cell_type": "markdown",
   "id": "cc119d52",
   "metadata": {
    "id": "cc119d52"
   },
   "source": [
    "## Notebook Setup\n",
    "\n",
    "It is good practice to list all imports needed at the top of the notebook. You can import modules in later cells as needed, but listing them at the top clearly shows all which are needed to be available / installed.\n",
    "\n",
    "If you are doing development on Colab, the otter-grader package is not available, so you will need to install it with pip (uncomment the cell directly below)."
   ]
  },
  {
   "cell_type": "code",
   "execution_count": 2,
   "id": "120d86de",
   "metadata": {
    "colab": {
     "base_uri": "https://localhost:8080/"
    },
    "id": "120d86de",
    "outputId": "bf10eda0-2fcb-4e7b-b9b5-03a58272faee"
   },
   "outputs": [],
   "source": [
    "# Only uncomment if you developing on Colab \n",
    "# if COLAB == True: \n",
    "#     print(\"Installing otter:\")\n",
    "#     !pip install otter-grader==4.2.0 \n",
    "# %pip install mlxtend --upgrade\n",
    "# !pip install mlxtend"
   ]
  },
  {
   "cell_type": "code",
   "execution_count": 3,
   "id": "4f0f1f0f",
   "metadata": {
    "id": "4f0f1f0f"
   },
   "outputs": [
    {
     "name": "stderr",
     "output_type": "stream",
     "text": [
      "/home/campus12/bmangiso/.conda/envs/cs4821/lib/python3.8/site-packages/IPython/core/inputsplitter.py:21: DeprecationWarning: IPython.core.inputsplitter is deprecated since IPython 7 in favor of `IPython.core.inputtransformer2`\n",
      "  warn('IPython.core.inputsplitter is deprecated since IPython 7 in favor of `IPython.core.inputtransformer2`',\n"
     ]
    }
   ],
   "source": [
    "import pandas as pd\n",
    "import numpy as np\n",
    "import matplotlib as mpl\n",
    "import matplotlib.pyplot as plt\n",
    "import seaborn as sb\n",
    "%matplotlib inline\n",
    "\n",
    "from sklearn import preprocessing\n",
    "from sklearn.cluster import AgglomerativeClustering\n",
    "from scipy.spatial.distance import pdist\n",
    "from scipy.spatial.distance import squareform\n",
    "from sklearn import cluster\n",
    "from sklearn import metrics\n",
    "from scipy.cluster.hierarchy import dendrogram\n",
    "from scipy.cluster import hierarchy\n",
    "from sklearn.decomposition import PCA\n",
    "\n",
    "\n",
    "from mlxtend.preprocessing import TransactionEncoder \n",
    "from mlxtend.frequent_patterns import apriori\n",
    "from mlxtend.frequent_patterns import association_rules\n",
    "from mlxtend.frequent_patterns import fpgrowth\n",
    "\n",
    "\n",
    "# Package for Autograder \n",
    "import otter \n",
    "grader = otter.Notebook()"
   ]
  },
  {
   "cell_type": "code",
   "execution_count": 4,
   "id": "209b1a56",
   "metadata": {
    "deletable": false,
    "editable": false,
    "id": "209b1a56"
   },
   "outputs": [
    {
     "data": {
      "text/html": [
       "<p><strong><pre style='display: inline;'>q0</pre></strong> passed! 💯</p>"
      ],
      "text/plain": [
       "q0 results: All test cases passed!"
      ]
     },
     "execution_count": 4,
     "metadata": {},
     "output_type": "execute_result"
    }
   ],
   "source": [
    "grader.check(\"q0\")"
   ]
  },
  {
   "cell_type": "markdown",
   "id": "2f7f5583",
   "metadata": {
    "id": "2f7f5583"
   },
   "source": [
    "# Q1 : Clustering - Premiere League Players \n",
    "\n",
    "Let's consider methods to cluster Premiere League players based on their statistics.  \n",
    "\n"
   ]
  },
  {
   "cell_type": "markdown",
   "id": "75fe02d7",
   "metadata": {
    "id": "75fe02d7"
   },
   "source": [
    "## Q1(a) - Load the data\n",
    "\n",
    "Load the Premiere League data into a DataFrame `q1df`.  Make sure any missing data is encoded properly. "
   ]
  },
  {
   "cell_type": "code",
   "execution_count": 5,
   "id": "58e525e9",
   "metadata": {
    "colab": {
     "base_uri": "https://localhost:8080/",
     "height": 369
    },
    "id": "58e525e9",
    "outputId": "6065e5e6-8ccf-4cb2-8d8f-45a284c84067",
    "tags": []
   },
   "outputs": [
    {
     "data": {
      "text/html": [
       "<div>\n",
       "<style scoped>\n",
       "    .dataframe tbody tr th:only-of-type {\n",
       "        vertical-align: middle;\n",
       "    }\n",
       "\n",
       "    .dataframe tbody tr th {\n",
       "        vertical-align: top;\n",
       "    }\n",
       "\n",
       "    .dataframe thead th {\n",
       "        text-align: right;\n",
       "    }\n",
       "</style>\n",
       "<table border=\"1\" class=\"dataframe\">\n",
       "  <thead>\n",
       "    <tr style=\"text-align: right;\">\n",
       "      <th></th>\n",
       "      <th>Name</th>\n",
       "      <th>Jersey Number</th>\n",
       "      <th>Club</th>\n",
       "      <th>Position</th>\n",
       "      <th>Nationality</th>\n",
       "      <th>Age</th>\n",
       "      <th>Appearances</th>\n",
       "      <th>Wins</th>\n",
       "      <th>Losses</th>\n",
       "      <th>Goals</th>\n",
       "      <th>...</th>\n",
       "      <th>Punches</th>\n",
       "      <th>High Claims</th>\n",
       "      <th>Catches</th>\n",
       "      <th>Sweeper clearances</th>\n",
       "      <th>Throw outs</th>\n",
       "      <th>Goal Kicks</th>\n",
       "      <th>Yellow cards</th>\n",
       "      <th>Red cards</th>\n",
       "      <th>Fouls</th>\n",
       "      <th>Offsides</th>\n",
       "    </tr>\n",
       "  </thead>\n",
       "  <tbody>\n",
       "    <tr>\n",
       "      <th>0</th>\n",
       "      <td>Bernd Leno</td>\n",
       "      <td>1.0</td>\n",
       "      <td>Arsenal</td>\n",
       "      <td>Goalkeeper</td>\n",
       "      <td>Germany</td>\n",
       "      <td>28.0</td>\n",
       "      <td>64</td>\n",
       "      <td>28</td>\n",
       "      <td>16</td>\n",
       "      <td>0</td>\n",
       "      <td>...</td>\n",
       "      <td>34.0</td>\n",
       "      <td>26.0</td>\n",
       "      <td>17.0</td>\n",
       "      <td>28.0</td>\n",
       "      <td>375.0</td>\n",
       "      <td>489.0</td>\n",
       "      <td>2</td>\n",
       "      <td>0</td>\n",
       "      <td>0</td>\n",
       "      <td>NaN</td>\n",
       "    </tr>\n",
       "    <tr>\n",
       "      <th>1</th>\n",
       "      <td>Matt Macey</td>\n",
       "      <td>33.0</td>\n",
       "      <td>Arsenal</td>\n",
       "      <td>Goalkeeper</td>\n",
       "      <td>England</td>\n",
       "      <td>26.0</td>\n",
       "      <td>0</td>\n",
       "      <td>0</td>\n",
       "      <td>0</td>\n",
       "      <td>0</td>\n",
       "      <td>...</td>\n",
       "      <td>0.0</td>\n",
       "      <td>0.0</td>\n",
       "      <td>0.0</td>\n",
       "      <td>0.0</td>\n",
       "      <td>0.0</td>\n",
       "      <td>0.0</td>\n",
       "      <td>0</td>\n",
       "      <td>0</td>\n",
       "      <td>0</td>\n",
       "      <td>NaN</td>\n",
       "    </tr>\n",
       "    <tr>\n",
       "      <th>2</th>\n",
       "      <td>Rúnar Alex Rúnarsson</td>\n",
       "      <td>13.0</td>\n",
       "      <td>Arsenal</td>\n",
       "      <td>Goalkeeper</td>\n",
       "      <td>Iceland</td>\n",
       "      <td>25.0</td>\n",
       "      <td>0</td>\n",
       "      <td>0</td>\n",
       "      <td>0</td>\n",
       "      <td>0</td>\n",
       "      <td>...</td>\n",
       "      <td>0.0</td>\n",
       "      <td>0.0</td>\n",
       "      <td>0.0</td>\n",
       "      <td>0.0</td>\n",
       "      <td>0.0</td>\n",
       "      <td>0.0</td>\n",
       "      <td>0</td>\n",
       "      <td>0</td>\n",
       "      <td>0</td>\n",
       "      <td>NaN</td>\n",
       "    </tr>\n",
       "    <tr>\n",
       "      <th>3</th>\n",
       "      <td>Héctor Bellerín</td>\n",
       "      <td>2.0</td>\n",
       "      <td>Arsenal</td>\n",
       "      <td>Defender</td>\n",
       "      <td>Spain</td>\n",
       "      <td>25.0</td>\n",
       "      <td>160</td>\n",
       "      <td>90</td>\n",
       "      <td>37</td>\n",
       "      <td>7</td>\n",
       "      <td>...</td>\n",
       "      <td>NaN</td>\n",
       "      <td>NaN</td>\n",
       "      <td>NaN</td>\n",
       "      <td>NaN</td>\n",
       "      <td>NaN</td>\n",
       "      <td>NaN</td>\n",
       "      <td>23</td>\n",
       "      <td>0</td>\n",
       "      <td>125</td>\n",
       "      <td>8.0</td>\n",
       "    </tr>\n",
       "    <tr>\n",
       "      <th>4</th>\n",
       "      <td>Kieran Tierney</td>\n",
       "      <td>3.0</td>\n",
       "      <td>Arsenal</td>\n",
       "      <td>Defender</td>\n",
       "      <td>Scotland</td>\n",
       "      <td>23.0</td>\n",
       "      <td>16</td>\n",
       "      <td>7</td>\n",
       "      <td>5</td>\n",
       "      <td>1</td>\n",
       "      <td>...</td>\n",
       "      <td>NaN</td>\n",
       "      <td>NaN</td>\n",
       "      <td>NaN</td>\n",
       "      <td>NaN</td>\n",
       "      <td>NaN</td>\n",
       "      <td>NaN</td>\n",
       "      <td>2</td>\n",
       "      <td>0</td>\n",
       "      <td>9</td>\n",
       "      <td>0.0</td>\n",
       "    </tr>\n",
       "  </tbody>\n",
       "</table>\n",
       "<p>5 rows × 59 columns</p>\n",
       "</div>"
      ],
      "text/plain": [
       "                   Name  Jersey Number     Club    Position Nationality   Age  \\\n",
       "0            Bernd Leno            1.0  Arsenal  Goalkeeper     Germany  28.0   \n",
       "1            Matt Macey           33.0  Arsenal  Goalkeeper     England  26.0   \n",
       "2  Rúnar Alex Rúnarsson           13.0  Arsenal  Goalkeeper     Iceland  25.0   \n",
       "3       Héctor Bellerín            2.0  Arsenal    Defender       Spain  25.0   \n",
       "4        Kieran Tierney            3.0  Arsenal    Defender    Scotland  23.0   \n",
       "\n",
       "   Appearances  Wins  Losses  Goals  ...  Punches  High Claims  Catches  \\\n",
       "0           64    28      16      0  ...     34.0         26.0     17.0   \n",
       "1            0     0       0      0  ...      0.0          0.0      0.0   \n",
       "2            0     0       0      0  ...      0.0          0.0      0.0   \n",
       "3          160    90      37      7  ...      NaN          NaN      NaN   \n",
       "4           16     7       5      1  ...      NaN          NaN      NaN   \n",
       "\n",
       "   Sweeper clearances  Throw outs  Goal Kicks  Yellow cards  Red cards Fouls  \\\n",
       "0                28.0       375.0       489.0             2          0     0   \n",
       "1                 0.0         0.0         0.0             0          0     0   \n",
       "2                 0.0         0.0         0.0             0          0     0   \n",
       "3                 NaN         NaN         NaN            23          0   125   \n",
       "4                 NaN         NaN         NaN             2          0     9   \n",
       "\n",
       "   Offsides  \n",
       "0       NaN  \n",
       "1       NaN  \n",
       "2       NaN  \n",
       "3       8.0  \n",
       "4       0.0  \n",
       "\n",
       "[5 rows x 59 columns]"
      ]
     },
     "execution_count": 5,
     "metadata": {},
     "output_type": "execute_result"
    }
   ],
   "source": [
    "# Read in football data with pandas \"read_csv\" function\n",
    "#  Use column names from the original csv file \n",
    "\n",
    "q1df = pd.read_csv(\"data/premierleague-data.csv\", na_values=\"\")\n",
    "\n",
    "q1df.head()"
   ]
  },
  {
   "cell_type": "code",
   "execution_count": 6,
   "id": "a4b8f76d",
   "metadata": {
    "deletable": false,
    "editable": false,
    "id": "a4b8f76d"
   },
   "outputs": [
    {
     "data": {
      "text/html": [
       "<p><strong><pre style='display: inline;'>q1a</pre></strong> passed! 🍀</p>"
      ],
      "text/plain": [
       "q1a results: All test cases passed!"
      ]
     },
     "execution_count": 6,
     "metadata": {},
     "output_type": "execute_result"
    }
   ],
   "source": [
    "grader.check(\"q1a\")"
   ]
  },
  {
   "cell_type": "markdown",
   "id": "e43fb69e",
   "metadata": {
    "id": "e43fb69e"
   },
   "source": [
    "## Q1(b) - Clean the Data \n",
    "\n",
    "There are a lot of missing values in the data set.  \n",
    "\n",
    "Complete the following preprocessing steps. \n",
    "\n",
    "1. Remove any player without at least 21 appearances. \n",
    "2. Remove all Goalkeepers (they have different statistics than other players on the field. \n",
    "3. Remove columns 10, 21, 22, 25, 30, 37, 47-54 (most of these columns have to do with Goalkeeper's statistics). \n",
    "4. Remove any rows with missing values"
   ]
  },
  {
   "cell_type": "code",
   "execution_count": 7,
   "id": "e5ca0587",
   "metadata": {
    "colab": {
     "base_uri": "https://localhost:8080/",
     "height": 1000
    },
    "id": "e5ca0587",
    "outputId": "6e0f4155-67e4-4dee-f18b-d714029e838f",
    "tags": []
   },
   "outputs": [
    {
     "data": {
      "text/html": [
       "<div>\n",
       "<style scoped>\n",
       "    .dataframe tbody tr th:only-of-type {\n",
       "        vertical-align: middle;\n",
       "    }\n",
       "\n",
       "    .dataframe tbody tr th {\n",
       "        vertical-align: top;\n",
       "    }\n",
       "\n",
       "    .dataframe thead th {\n",
       "        text-align: right;\n",
       "    }\n",
       "</style>\n",
       "<table border=\"1\" class=\"dataframe\">\n",
       "  <thead>\n",
       "    <tr style=\"text-align: right;\">\n",
       "      <th></th>\n",
       "      <th>Name</th>\n",
       "      <th>Jersey Number</th>\n",
       "      <th>Club</th>\n",
       "      <th>Position</th>\n",
       "      <th>Nationality</th>\n",
       "      <th>Age</th>\n",
       "      <th>Appearances</th>\n",
       "      <th>Wins</th>\n",
       "      <th>Losses</th>\n",
       "      <th>Goals</th>\n",
       "      <th>...</th>\n",
       "      <th>Passes per match</th>\n",
       "      <th>Big chances created</th>\n",
       "      <th>Crosses</th>\n",
       "      <th>Cross accuracy %</th>\n",
       "      <th>Through balls</th>\n",
       "      <th>Accurate long balls</th>\n",
       "      <th>Yellow cards</th>\n",
       "      <th>Red cards</th>\n",
       "      <th>Fouls</th>\n",
       "      <th>Offsides</th>\n",
       "    </tr>\n",
       "  </thead>\n",
       "  <tbody>\n",
       "    <tr>\n",
       "      <th>13</th>\n",
       "      <td>Mesut Özil</td>\n",
       "      <td>10.0</td>\n",
       "      <td>Arsenal</td>\n",
       "      <td>Midfielder</td>\n",
       "      <td>Germany</td>\n",
       "      <td>31.0</td>\n",
       "      <td>184</td>\n",
       "      <td>100</td>\n",
       "      <td>39</td>\n",
       "      <td>33</td>\n",
       "      <td>...</td>\n",
       "      <td>60.79</td>\n",
       "      <td>65.0</td>\n",
       "      <td>834.0</td>\n",
       "      <td>35%</td>\n",
       "      <td>121.0</td>\n",
       "      <td>276.0</td>\n",
       "      <td>13</td>\n",
       "      <td>0</td>\n",
       "      <td>95</td>\n",
       "      <td>83.0</td>\n",
       "    </tr>\n",
       "    <tr>\n",
       "      <th>14</th>\n",
       "      <td>Lucas Torreira</td>\n",
       "      <td>11.0</td>\n",
       "      <td>Arsenal</td>\n",
       "      <td>Midfielder</td>\n",
       "      <td>Uruguay</td>\n",
       "      <td>24.0</td>\n",
       "      <td>63</td>\n",
       "      <td>28</td>\n",
       "      <td>15</td>\n",
       "      <td>3</td>\n",
       "      <td>...</td>\n",
       "      <td>39.57</td>\n",
       "      <td>3.0</td>\n",
       "      <td>40.0</td>\n",
       "      <td>28%</td>\n",
       "      <td>4.0</td>\n",
       "      <td>94.0</td>\n",
       "      <td>14</td>\n",
       "      <td>1</td>\n",
       "      <td>62</td>\n",
       "      <td>0.0</td>\n",
       "    </tr>\n",
       "    <tr>\n",
       "      <th>15</th>\n",
       "      <td>Ainsley Maitland-Niles</td>\n",
       "      <td>15.0</td>\n",
       "      <td>Arsenal</td>\n",
       "      <td>Midfielder</td>\n",
       "      <td>England</td>\n",
       "      <td>23.0</td>\n",
       "      <td>54</td>\n",
       "      <td>26</td>\n",
       "      <td>16</td>\n",
       "      <td>1</td>\n",
       "      <td>...</td>\n",
       "      <td>34.57</td>\n",
       "      <td>4.0</td>\n",
       "      <td>57.0</td>\n",
       "      <td>21%</td>\n",
       "      <td>2.0</td>\n",
       "      <td>74.0</td>\n",
       "      <td>6</td>\n",
       "      <td>2</td>\n",
       "      <td>35</td>\n",
       "      <td>1.0</td>\n",
       "    </tr>\n",
       "    <tr>\n",
       "      <th>16</th>\n",
       "      <td>Mohamed Elneny</td>\n",
       "      <td>25.0</td>\n",
       "      <td>Arsenal</td>\n",
       "      <td>Midfielder</td>\n",
       "      <td>Egypt</td>\n",
       "      <td>28.0</td>\n",
       "      <td>47</td>\n",
       "      <td>29</td>\n",
       "      <td>10</td>\n",
       "      <td>0</td>\n",
       "      <td>...</td>\n",
       "      <td>53.87</td>\n",
       "      <td>2.0</td>\n",
       "      <td>30.0</td>\n",
       "      <td>13%</td>\n",
       "      <td>4.0</td>\n",
       "      <td>83.0</td>\n",
       "      <td>7</td>\n",
       "      <td>1</td>\n",
       "      <td>24</td>\n",
       "      <td>2.0</td>\n",
       "    </tr>\n",
       "    <tr>\n",
       "      <th>17</th>\n",
       "      <td>Joseph Willock</td>\n",
       "      <td>28.0</td>\n",
       "      <td>Arsenal</td>\n",
       "      <td>Midfielder</td>\n",
       "      <td>England</td>\n",
       "      <td>21.0</td>\n",
       "      <td>33</td>\n",
       "      <td>12</td>\n",
       "      <td>12</td>\n",
       "      <td>1</td>\n",
       "      <td>...</td>\n",
       "      <td>12.06</td>\n",
       "      <td>1.0</td>\n",
       "      <td>9.0</td>\n",
       "      <td>22%</td>\n",
       "      <td>3.0</td>\n",
       "      <td>15.0</td>\n",
       "      <td>2</td>\n",
       "      <td>0</td>\n",
       "      <td>13</td>\n",
       "      <td>0.0</td>\n",
       "    </tr>\n",
       "    <tr>\n",
       "      <th>18</th>\n",
       "      <td>Matteo Guendouzi</td>\n",
       "      <td>29.0</td>\n",
       "      <td>Arsenal</td>\n",
       "      <td>Midfielder</td>\n",
       "      <td>France</td>\n",
       "      <td>21.0</td>\n",
       "      <td>57</td>\n",
       "      <td>24</td>\n",
       "      <td>17</td>\n",
       "      <td>0</td>\n",
       "      <td>...</td>\n",
       "      <td>48.25</td>\n",
       "      <td>4.0</td>\n",
       "      <td>21.0</td>\n",
       "      <td>10%</td>\n",
       "      <td>16.0</td>\n",
       "      <td>148.0</td>\n",
       "      <td>15</td>\n",
       "      <td>0</td>\n",
       "      <td>41</td>\n",
       "      <td>0.0</td>\n",
       "    </tr>\n",
       "    <tr>\n",
       "      <th>20</th>\n",
       "      <td>Granit Xhaka</td>\n",
       "      <td>34.0</td>\n",
       "      <td>Arsenal</td>\n",
       "      <td>Midfielder</td>\n",
       "      <td>Switzerland</td>\n",
       "      <td>27.0</td>\n",
       "      <td>132</td>\n",
       "      <td>70</td>\n",
       "      <td>33</td>\n",
       "      <td>8</td>\n",
       "      <td>...</td>\n",
       "      <td>73.78</td>\n",
       "      <td>12.0</td>\n",
       "      <td>274.0</td>\n",
       "      <td>25%</td>\n",
       "      <td>35.0</td>\n",
       "      <td>673.0</td>\n",
       "      <td>35</td>\n",
       "      <td>2</td>\n",
       "      <td>196</td>\n",
       "      <td>2.0</td>\n",
       "    </tr>\n",
       "    <tr>\n",
       "      <th>22</th>\n",
       "      <td>Dani Ceballos</td>\n",
       "      <td>8.0</td>\n",
       "      <td>Arsenal</td>\n",
       "      <td>Midfielder</td>\n",
       "      <td>Spain</td>\n",
       "      <td>24.0</td>\n",
       "      <td>26</td>\n",
       "      <td>14</td>\n",
       "      <td>6</td>\n",
       "      <td>0</td>\n",
       "      <td>...</td>\n",
       "      <td>52.77</td>\n",
       "      <td>2.0</td>\n",
       "      <td>71.0</td>\n",
       "      <td>14%</td>\n",
       "      <td>7.0</td>\n",
       "      <td>81.0</td>\n",
       "      <td>1</td>\n",
       "      <td>0</td>\n",
       "      <td>21</td>\n",
       "      <td>0.0</td>\n",
       "    </tr>\n",
       "    <tr>\n",
       "      <th>44</th>\n",
       "      <td>Douglas Luiz</td>\n",
       "      <td>6.0</td>\n",
       "      <td>Aston-Villa</td>\n",
       "      <td>Midfielder</td>\n",
       "      <td>Brazil</td>\n",
       "      <td>22.0</td>\n",
       "      <td>37</td>\n",
       "      <td>10</td>\n",
       "      <td>20</td>\n",
       "      <td>3</td>\n",
       "      <td>...</td>\n",
       "      <td>35.14</td>\n",
       "      <td>3.0</td>\n",
       "      <td>25.0</td>\n",
       "      <td>24%</td>\n",
       "      <td>4.0</td>\n",
       "      <td>100.0</td>\n",
       "      <td>8</td>\n",
       "      <td>0</td>\n",
       "      <td>51</td>\n",
       "      <td>0.0</td>\n",
       "    </tr>\n",
       "    <tr>\n",
       "      <th>45</th>\n",
       "      <td>John McGinn</td>\n",
       "      <td>7.0</td>\n",
       "      <td>Aston-Villa</td>\n",
       "      <td>Midfielder</td>\n",
       "      <td>Scotland</td>\n",
       "      <td>25.0</td>\n",
       "      <td>29</td>\n",
       "      <td>7</td>\n",
       "      <td>15</td>\n",
       "      <td>3</td>\n",
       "      <td>...</td>\n",
       "      <td>26.17</td>\n",
       "      <td>3.0</td>\n",
       "      <td>67.0</td>\n",
       "      <td>21%</td>\n",
       "      <td>3.0</td>\n",
       "      <td>85.0</td>\n",
       "      <td>4</td>\n",
       "      <td>0</td>\n",
       "      <td>38</td>\n",
       "      <td>0.0</td>\n",
       "    </tr>\n",
       "    <tr>\n",
       "      <th>47</th>\n",
       "      <td>Jack Grealish</td>\n",
       "      <td>10.0</td>\n",
       "      <td>Aston-Villa</td>\n",
       "      <td>Midfielder</td>\n",
       "      <td>England</td>\n",
       "      <td>25.0</td>\n",
       "      <td>71</td>\n",
       "      <td>17</td>\n",
       "      <td>42</td>\n",
       "      <td>9</td>\n",
       "      <td>...</td>\n",
       "      <td>29.55</td>\n",
       "      <td>12.0</td>\n",
       "      <td>202.0</td>\n",
       "      <td>23%</td>\n",
       "      <td>2.0</td>\n",
       "      <td>103.0</td>\n",
       "      <td>9</td>\n",
       "      <td>0</td>\n",
       "      <td>47</td>\n",
       "      <td>6.0</td>\n",
       "    </tr>\n",
       "    <tr>\n",
       "      <th>48</th>\n",
       "      <td>Marvelous Nakamba</td>\n",
       "      <td>19.0</td>\n",
       "      <td>Aston-Villa</td>\n",
       "      <td>Midfielder</td>\n",
       "      <td>Zimbabwe</td>\n",
       "      <td>26.0</td>\n",
       "      <td>29</td>\n",
       "      <td>7</td>\n",
       "      <td>16</td>\n",
       "      <td>0</td>\n",
       "      <td>...</td>\n",
       "      <td>26.97</td>\n",
       "      <td>0.0</td>\n",
       "      <td>4.0</td>\n",
       "      <td>4%</td>\n",
       "      <td>0.0</td>\n",
       "      <td>24.0</td>\n",
       "      <td>5</td>\n",
       "      <td>0</td>\n",
       "      <td>26</td>\n",
       "      <td>0.0</td>\n",
       "    </tr>\n",
       "    <tr>\n",
       "      <th>49</th>\n",
       "      <td>Conor Hourihane</td>\n",
       "      <td>14.0</td>\n",
       "      <td>Aston-Villa</td>\n",
       "      <td>Midfielder</td>\n",
       "      <td>Ireland</td>\n",
       "      <td>29.0</td>\n",
       "      <td>28</td>\n",
       "      <td>8</td>\n",
       "      <td>13</td>\n",
       "      <td>3</td>\n",
       "      <td>...</td>\n",
       "      <td>23.75</td>\n",
       "      <td>8.0</td>\n",
       "      <td>124.0</td>\n",
       "      <td>24%</td>\n",
       "      <td>1.0</td>\n",
       "      <td>22.0</td>\n",
       "      <td>4</td>\n",
       "      <td>0</td>\n",
       "      <td>15</td>\n",
       "      <td>4.0</td>\n",
       "    </tr>\n",
       "    <tr>\n",
       "      <th>50</th>\n",
       "      <td>Trézéguet</td>\n",
       "      <td>17.0</td>\n",
       "      <td>Aston-Villa</td>\n",
       "      <td>Midfielder</td>\n",
       "      <td>Egypt</td>\n",
       "      <td>25.0</td>\n",
       "      <td>35</td>\n",
       "      <td>9</td>\n",
       "      <td>19</td>\n",
       "      <td>6</td>\n",
       "      <td>...</td>\n",
       "      <td>11.09</td>\n",
       "      <td>0.0</td>\n",
       "      <td>73.0</td>\n",
       "      <td>16%</td>\n",
       "      <td>0.0</td>\n",
       "      <td>10.0</td>\n",
       "      <td>2</td>\n",
       "      <td>1</td>\n",
       "      <td>39</td>\n",
       "      <td>6.0</td>\n",
       "    </tr>\n",
       "    <tr>\n",
       "      <th>51</th>\n",
       "      <td>Anwar El Ghazi</td>\n",
       "      <td>21.0</td>\n",
       "      <td>Aston-Villa</td>\n",
       "      <td>Midfielder</td>\n",
       "      <td>Netherlands</td>\n",
       "      <td>25.0</td>\n",
       "      <td>34</td>\n",
       "      <td>7</td>\n",
       "      <td>19</td>\n",
       "      <td>4</td>\n",
       "      <td>...</td>\n",
       "      <td>14.09</td>\n",
       "      <td>4.0</td>\n",
       "      <td>107.0</td>\n",
       "      <td>24%</td>\n",
       "      <td>1.0</td>\n",
       "      <td>15.0</td>\n",
       "      <td>3</td>\n",
       "      <td>0</td>\n",
       "      <td>20</td>\n",
       "      <td>12.0</td>\n",
       "    </tr>\n",
       "    <tr>\n",
       "      <th>72</th>\n",
       "      <td>Dale Stephens</td>\n",
       "      <td>6.0</td>\n",
       "      <td>Brighton-and-Hove-Albion</td>\n",
       "      <td>Midfielder</td>\n",
       "      <td>England</td>\n",
       "      <td>31.0</td>\n",
       "      <td>99</td>\n",
       "      <td>24</td>\n",
       "      <td>45</td>\n",
       "      <td>1</td>\n",
       "      <td>...</td>\n",
       "      <td>48.33</td>\n",
       "      <td>4.0</td>\n",
       "      <td>6.0</td>\n",
       "      <td>17%</td>\n",
       "      <td>7.0</td>\n",
       "      <td>381.0</td>\n",
       "      <td>20</td>\n",
       "      <td>1</td>\n",
       "      <td>136</td>\n",
       "      <td>0.0</td>\n",
       "    </tr>\n",
       "    <tr>\n",
       "      <th>73</th>\n",
       "      <td>Yves Bissouma</td>\n",
       "      <td>8.0</td>\n",
       "      <td>Brighton-and-Hove-Albion</td>\n",
       "      <td>Midfielder</td>\n",
       "      <td>Mali</td>\n",
       "      <td>24.0</td>\n",
       "      <td>52</td>\n",
       "      <td>13</td>\n",
       "      <td>26</td>\n",
       "      <td>1</td>\n",
       "      <td>...</td>\n",
       "      <td>27.71</td>\n",
       "      <td>1.0</td>\n",
       "      <td>14.0</td>\n",
       "      <td>21%</td>\n",
       "      <td>6.0</td>\n",
       "      <td>74.0</td>\n",
       "      <td>9</td>\n",
       "      <td>1</td>\n",
       "      <td>74</td>\n",
       "      <td>2.0</td>\n",
       "    </tr>\n",
       "    <tr>\n",
       "      <th>75</th>\n",
       "      <td>Pascal Groß</td>\n",
       "      <td>13.0</td>\n",
       "      <td>Brighton-and-Hove-Albion</td>\n",
       "      <td>Midfielder</td>\n",
       "      <td>Germany</td>\n",
       "      <td>29.0</td>\n",
       "      <td>93</td>\n",
       "      <td>20</td>\n",
       "      <td>42</td>\n",
       "      <td>12</td>\n",
       "      <td>...</td>\n",
       "      <td>31.58</td>\n",
       "      <td>35.0</td>\n",
       "      <td>522.0</td>\n",
       "      <td>31%</td>\n",
       "      <td>17.0</td>\n",
       "      <td>166.0</td>\n",
       "      <td>7</td>\n",
       "      <td>0</td>\n",
       "      <td>67</td>\n",
       "      <td>22.0</td>\n",
       "    </tr>\n",
       "    <tr>\n",
       "      <th>76</th>\n",
       "      <td>Adam Lallana</td>\n",
       "      <td>14.0</td>\n",
       "      <td>Brighton-and-Hove-Albion</td>\n",
       "      <td>Midfielder</td>\n",
       "      <td>England</td>\n",
       "      <td>32.0</td>\n",
       "      <td>198</td>\n",
       "      <td>98</td>\n",
       "      <td>50</td>\n",
       "      <td>30</td>\n",
       "      <td>...</td>\n",
       "      <td>32.36</td>\n",
       "      <td>25.0</td>\n",
       "      <td>489.0</td>\n",
       "      <td>20%</td>\n",
       "      <td>47.0</td>\n",
       "      <td>146.0</td>\n",
       "      <td>17</td>\n",
       "      <td>0</td>\n",
       "      <td>142</td>\n",
       "      <td>57.0</td>\n",
       "    </tr>\n",
       "    <tr>\n",
       "      <th>77</th>\n",
       "      <td>Solly March</td>\n",
       "      <td>20.0</td>\n",
       "      <td>Brighton-and-Hove-Albion</td>\n",
       "      <td>Midfielder</td>\n",
       "      <td>England</td>\n",
       "      <td>26.0</td>\n",
       "      <td>92</td>\n",
       "      <td>21</td>\n",
       "      <td>42</td>\n",
       "      <td>2</td>\n",
       "      <td>...</td>\n",
       "      <td>21.42</td>\n",
       "      <td>13.0</td>\n",
       "      <td>329.0</td>\n",
       "      <td>23%</td>\n",
       "      <td>3.0</td>\n",
       "      <td>100.0</td>\n",
       "      <td>6</td>\n",
       "      <td>0</td>\n",
       "      <td>70</td>\n",
       "      <td>15.0</td>\n",
       "    </tr>\n",
       "  </tbody>\n",
       "</table>\n",
       "<p>20 rows × 45 columns</p>\n",
       "</div>"
      ],
      "text/plain": [
       "                      Name  Jersey Number                      Club  \\\n",
       "13              Mesut Özil           10.0                   Arsenal   \n",
       "14          Lucas Torreira           11.0                   Arsenal   \n",
       "15  Ainsley Maitland-Niles           15.0                   Arsenal   \n",
       "16          Mohamed Elneny           25.0                   Arsenal   \n",
       "17          Joseph Willock           28.0                   Arsenal   \n",
       "18        Matteo Guendouzi           29.0                   Arsenal   \n",
       "20            Granit Xhaka           34.0                   Arsenal   \n",
       "22           Dani Ceballos            8.0                   Arsenal   \n",
       "44            Douglas Luiz            6.0               Aston-Villa   \n",
       "45             John McGinn            7.0               Aston-Villa   \n",
       "47           Jack Grealish           10.0               Aston-Villa   \n",
       "48       Marvelous Nakamba           19.0               Aston-Villa   \n",
       "49         Conor Hourihane           14.0               Aston-Villa   \n",
       "50               Trézéguet           17.0               Aston-Villa   \n",
       "51          Anwar El Ghazi           21.0               Aston-Villa   \n",
       "72           Dale Stephens            6.0  Brighton-and-Hove-Albion   \n",
       "73           Yves Bissouma            8.0  Brighton-and-Hove-Albion   \n",
       "75             Pascal Groß           13.0  Brighton-and-Hove-Albion   \n",
       "76            Adam Lallana           14.0  Brighton-and-Hove-Albion   \n",
       "77             Solly March           20.0  Brighton-and-Hove-Albion   \n",
       "\n",
       "      Position  Nationality   Age  Appearances  Wins  Losses  Goals  ...  \\\n",
       "13  Midfielder      Germany  31.0          184   100      39     33  ...   \n",
       "14  Midfielder      Uruguay  24.0           63    28      15      3  ...   \n",
       "15  Midfielder      England  23.0           54    26      16      1  ...   \n",
       "16  Midfielder        Egypt  28.0           47    29      10      0  ...   \n",
       "17  Midfielder      England  21.0           33    12      12      1  ...   \n",
       "18  Midfielder       France  21.0           57    24      17      0  ...   \n",
       "20  Midfielder  Switzerland  27.0          132    70      33      8  ...   \n",
       "22  Midfielder        Spain  24.0           26    14       6      0  ...   \n",
       "44  Midfielder       Brazil  22.0           37    10      20      3  ...   \n",
       "45  Midfielder     Scotland  25.0           29     7      15      3  ...   \n",
       "47  Midfielder      England  25.0           71    17      42      9  ...   \n",
       "48  Midfielder     Zimbabwe  26.0           29     7      16      0  ...   \n",
       "49  Midfielder      Ireland  29.0           28     8      13      3  ...   \n",
       "50  Midfielder        Egypt  25.0           35     9      19      6  ...   \n",
       "51  Midfielder  Netherlands  25.0           34     7      19      4  ...   \n",
       "72  Midfielder      England  31.0           99    24      45      1  ...   \n",
       "73  Midfielder         Mali  24.0           52    13      26      1  ...   \n",
       "75  Midfielder      Germany  29.0           93    20      42     12  ...   \n",
       "76  Midfielder      England  32.0          198    98      50     30  ...   \n",
       "77  Midfielder      England  26.0           92    21      42      2  ...   \n",
       "\n",
       "    Passes per match  Big chances created  Crosses  Cross accuracy %  \\\n",
       "13             60.79                 65.0    834.0               35%   \n",
       "14             39.57                  3.0     40.0               28%   \n",
       "15             34.57                  4.0     57.0               21%   \n",
       "16             53.87                  2.0     30.0               13%   \n",
       "17             12.06                  1.0      9.0               22%   \n",
       "18             48.25                  4.0     21.0               10%   \n",
       "20             73.78                 12.0    274.0               25%   \n",
       "22             52.77                  2.0     71.0               14%   \n",
       "44             35.14                  3.0     25.0               24%   \n",
       "45             26.17                  3.0     67.0               21%   \n",
       "47             29.55                 12.0    202.0               23%   \n",
       "48             26.97                  0.0      4.0                4%   \n",
       "49             23.75                  8.0    124.0               24%   \n",
       "50             11.09                  0.0     73.0               16%   \n",
       "51             14.09                  4.0    107.0               24%   \n",
       "72             48.33                  4.0      6.0               17%   \n",
       "73             27.71                  1.0     14.0               21%   \n",
       "75             31.58                 35.0    522.0               31%   \n",
       "76             32.36                 25.0    489.0               20%   \n",
       "77             21.42                 13.0    329.0               23%   \n",
       "\n",
       "    Through balls  Accurate long balls  Yellow cards Red cards  Fouls  \\\n",
       "13          121.0                276.0            13         0     95   \n",
       "14            4.0                 94.0            14         1     62   \n",
       "15            2.0                 74.0             6         2     35   \n",
       "16            4.0                 83.0             7         1     24   \n",
       "17            3.0                 15.0             2         0     13   \n",
       "18           16.0                148.0            15         0     41   \n",
       "20           35.0                673.0            35         2    196   \n",
       "22            7.0                 81.0             1         0     21   \n",
       "44            4.0                100.0             8         0     51   \n",
       "45            3.0                 85.0             4         0     38   \n",
       "47            2.0                103.0             9         0     47   \n",
       "48            0.0                 24.0             5         0     26   \n",
       "49            1.0                 22.0             4         0     15   \n",
       "50            0.0                 10.0             2         1     39   \n",
       "51            1.0                 15.0             3         0     20   \n",
       "72            7.0                381.0            20         1    136   \n",
       "73            6.0                 74.0             9         1     74   \n",
       "75           17.0                166.0             7         0     67   \n",
       "76           47.0                146.0            17         0    142   \n",
       "77            3.0                100.0             6         0     70   \n",
       "\n",
       "    Offsides  \n",
       "13      83.0  \n",
       "14       0.0  \n",
       "15       1.0  \n",
       "16       2.0  \n",
       "17       0.0  \n",
       "18       0.0  \n",
       "20       2.0  \n",
       "22       0.0  \n",
       "44       0.0  \n",
       "45       0.0  \n",
       "47       6.0  \n",
       "48       0.0  \n",
       "49       4.0  \n",
       "50       6.0  \n",
       "51      12.0  \n",
       "72       0.0  \n",
       "73       2.0  \n",
       "75      22.0  \n",
       "76      57.0  \n",
       "77      15.0  \n",
       "\n",
       "[20 rows x 45 columns]"
      ]
     },
     "execution_count": 7,
     "metadata": {},
     "output_type": "execute_result"
    }
   ],
   "source": [
    "# Complete steps to clean the data  \n",
    "\n",
    "# Remove players < 21 appearances\n",
    "index = q1df[q1df.Appearances < 21].index\n",
    "q1df.drop(index, inplace = True)\n",
    "\n",
    "# Remove Goal keepers\n",
    "index = q1df[q1df.Position == \"Goalkeeper\"].index\n",
    "q1df.drop(index, inplace = True)\n",
    "\n",
    "# Remove columns 10, 21,22,25,30,37,47-54\n",
    "removeIndexes = [10,21,22,25,30,37]\n",
    "removeColumns = [q1df.columns[i] for i in removeIndexes]\n",
    "columns = list(q1df.columns[:47])\n",
    "columns = columns + list(q1df.columns[55:])\n",
    "columns = [col for col in columns if col not in removeColumns]\n",
    "\n",
    "q1df = q1df[columns]\n",
    "# Remove rows with missing values\n",
    "q1df.dropna(inplace = True)\n",
    "\n",
    "q1df.head(20)"
   ]
  },
  {
   "cell_type": "code",
   "execution_count": 8,
   "id": "449083e6",
   "metadata": {
    "deletable": false,
    "editable": false,
    "id": "449083e6"
   },
   "outputs": [
    {
     "data": {
      "text/html": [
       "<p><strong><pre style='display: inline;'>q1b</pre></strong> passed! 🎉</p>"
      ],
      "text/plain": [
       "q1b results: All test cases passed!"
      ]
     },
     "execution_count": 8,
     "metadata": {},
     "output_type": "execute_result"
    }
   ],
   "source": [
    "grader.check(\"q1b\")"
   ]
  },
  {
   "cell_type": "markdown",
   "id": "9f071468",
   "metadata": {
    "id": "9f071468"
   },
   "source": [
    "## Q1c - Prepare the Data\n",
    "\n",
    "The first 5 columns, `Name`, `Jersey Number`, `Club`, `Position`, and `Nationality` will not be used in the clustering analysis, this data is just helpful to label the players. \n",
    "\n",
    "The `Age` column does not need any initial preprocssing.  \n",
    "\n",
    "There are three columns that report percentages: `Shooting accuracy %`, `Tackle success %`, `Cross accuracy %`.  For each of these columns, remove the \"%\" from the string convert to a number.  \n",
    "\n",
    "The remaining data presented is \"counts\" data, e.g., number of `Goals`, number of `Tackles`, number of `Recoveries`, etc.  The counts data will be impacted by the number of games a player has appeared in; those players appearing in hundreds of games rather than tens of games will generally have higher values. \n",
    "\n",
    "Therefore, rather than work directly with the counts data, you should normalize these values by the number of appearances. \n",
    "\n",
    "At this point all column after the Appearance should be scaled using standard scaling. \n",
    "\n",
    "Store the player's numeric data (columns `Wins` and later) to be used for clustering in the Data Frame `football`. "
   ]
  },
  {
   "cell_type": "code",
   "execution_count": 9,
   "id": "e11055c9",
   "metadata": {
    "id": "e11055c9",
    "tags": []
   },
   "outputs": [
    {
     "data": {
      "text/html": [
       "<div>\n",
       "<style scoped>\n",
       "    .dataframe tbody tr th:only-of-type {\n",
       "        vertical-align: middle;\n",
       "    }\n",
       "\n",
       "    .dataframe tbody tr th {\n",
       "        vertical-align: top;\n",
       "    }\n",
       "\n",
       "    .dataframe thead th {\n",
       "        text-align: right;\n",
       "    }\n",
       "</style>\n",
       "<table border=\"1\" class=\"dataframe\">\n",
       "  <thead>\n",
       "    <tr style=\"text-align: right;\">\n",
       "      <th></th>\n",
       "      <th>Wins</th>\n",
       "      <th>Losses</th>\n",
       "      <th>Goals</th>\n",
       "      <th>Headed goals</th>\n",
       "      <th>Goals with right foot</th>\n",
       "      <th>Goals with left foot</th>\n",
       "      <th>Penalties scored</th>\n",
       "      <th>Freekicks scored</th>\n",
       "      <th>Shots</th>\n",
       "      <th>Shots on target</th>\n",
       "      <th>...</th>\n",
       "      <th>Passes per match</th>\n",
       "      <th>Big chances created</th>\n",
       "      <th>Crosses</th>\n",
       "      <th>Cross accuracy %</th>\n",
       "      <th>Through balls</th>\n",
       "      <th>Accurate long balls</th>\n",
       "      <th>Yellow cards</th>\n",
       "      <th>Red cards</th>\n",
       "      <th>Fouls</th>\n",
       "      <th>Offsides</th>\n",
       "    </tr>\n",
       "  </thead>\n",
       "  <tbody>\n",
       "    <tr>\n",
       "      <th>13</th>\n",
       "      <td>0.913414</td>\n",
       "      <td>-1.164877</td>\n",
       "      <td>1.345068</td>\n",
       "      <td>0.804052</td>\n",
       "      <td>-0.564072</td>\n",
       "      <td>2.633675</td>\n",
       "      <td>-0.300033</td>\n",
       "      <td>0.119915</td>\n",
       "      <td>0.091408</td>\n",
       "      <td>0.795089</td>\n",
       "      <td>...</td>\n",
       "      <td>-0.502755</td>\n",
       "      <td>2.486610</td>\n",
       "      <td>1.480604</td>\n",
       "      <td>-0.537797</td>\n",
       "      <td>2.992195</td>\n",
       "      <td>-0.313924</td>\n",
       "      <td>-0.849792</td>\n",
       "      <td>-0.540723</td>\n",
       "      <td>-1.035314</td>\n",
       "      <td>3.526698</td>\n",
       "    </tr>\n",
       "    <tr>\n",
       "      <th>14</th>\n",
       "      <td>0.284271</td>\n",
       "      <td>-0.973186</td>\n",
       "      <td>-0.549780</td>\n",
       "      <td>-0.475486</td>\n",
       "      <td>-0.039210</td>\n",
       "      <td>-0.678075</td>\n",
       "      <td>-0.300033</td>\n",
       "      <td>-0.386663</td>\n",
       "      <td>-0.648526</td>\n",
       "      <td>-0.692685</td>\n",
       "      <td>...</td>\n",
       "      <td>0.210934</td>\n",
       "      <td>-0.812223</td>\n",
       "      <td>-0.727558</td>\n",
       "      <td>0.404062</td>\n",
       "      <td>-0.627423</td>\n",
       "      <td>-0.320307</td>\n",
       "      <td>1.278823</td>\n",
       "      <td>1.260600</td>\n",
       "      <td>0.346281</td>\n",
       "      <td>-0.801955</td>\n",
       "    </tr>\n",
       "    <tr>\n",
       "      <th>15</th>\n",
       "      <td>0.519560</td>\n",
       "      <td>-0.546361</td>\n",
       "      <td>-0.968375</td>\n",
       "      <td>-0.475486</td>\n",
       "      <td>-0.629388</td>\n",
       "      <td>-0.678075</td>\n",
       "      <td>-0.300033</td>\n",
       "      <td>-0.386663</td>\n",
       "      <td>-1.555975</td>\n",
       "      <td>-1.252190</td>\n",
       "      <td>...</td>\n",
       "      <td>0.239916</td>\n",
       "      <td>-0.526691</td>\n",
       "      <td>-0.489255</td>\n",
       "      <td>0.198240</td>\n",
       "      <td>-0.788598</td>\n",
       "      <td>-0.418181</td>\n",
       "      <td>-0.281596</td>\n",
       "      <td>3.662363</td>\n",
       "      <td>-0.645947</td>\n",
       "      <td>-0.624251</td>\n",
       "    </tr>\n",
       "    <tr>\n",
       "      <th>16</th>\n",
       "      <td>1.380619</td>\n",
       "      <td>-1.158941</td>\n",
       "      <td>-1.234754</td>\n",
       "      <td>-0.475486</td>\n",
       "      <td>-1.004955</td>\n",
       "      <td>-0.678075</td>\n",
       "      <td>-0.300033</td>\n",
       "      <td>-0.386663</td>\n",
       "      <td>-0.251531</td>\n",
       "      <td>-1.096892</td>\n",
       "      <td>...</td>\n",
       "      <td>1.452876</td>\n",
       "      <td>-0.866900</td>\n",
       "      <td>-0.725644</td>\n",
       "      <td>-0.217783</td>\n",
       "      <td>-0.495739</td>\n",
       "      <td>-0.100023</td>\n",
       "      <td>0.249611</td>\n",
       "      <td>1.873816</td>\n",
       "      <td>-1.052047</td>\n",
       "      <td>-0.393613</td>\n",
       "    </tr>\n",
       "    <tr>\n",
       "      <th>17</th>\n",
       "      <td>-0.229088</td>\n",
       "      <td>-0.052514</td>\n",
       "      <td>-0.798861</td>\n",
       "      <td>-0.475486</td>\n",
       "      <td>-0.390390</td>\n",
       "      <td>-0.678075</td>\n",
       "      <td>-0.300033</td>\n",
       "      <td>-0.386663</td>\n",
       "      <td>-1.004461</td>\n",
       "      <td>-0.879958</td>\n",
       "      <td>...</td>\n",
       "      <td>-0.418674</td>\n",
       "      <td>-0.999117</td>\n",
       "      <td>-0.932751</td>\n",
       "      <td>1.227350</td>\n",
       "      <td>-0.460386</td>\n",
       "      <td>-1.154750</td>\n",
       "      <td>-0.990877</td>\n",
       "      <td>-0.540723</td>\n",
       "      <td>-1.396688</td>\n",
       "      <td>-0.801955</td>\n",
       "    </tr>\n",
       "  </tbody>\n",
       "</table>\n",
       "<p>5 rows × 38 columns</p>\n",
       "</div>"
      ],
      "text/plain": [
       "        Wins    Losses     Goals  Headed goals  Goals with right foot  \\\n",
       "13  0.913414 -1.164877  1.345068      0.804052              -0.564072   \n",
       "14  0.284271 -0.973186 -0.549780     -0.475486              -0.039210   \n",
       "15  0.519560 -0.546361 -0.968375     -0.475486              -0.629388   \n",
       "16  1.380619 -1.158941 -1.234754     -0.475486              -1.004955   \n",
       "17 -0.229088 -0.052514 -0.798861     -0.475486              -0.390390   \n",
       "\n",
       "    Goals with left foot  Penalties scored  Freekicks scored     Shots  \\\n",
       "13              2.633675         -0.300033          0.119915  0.091408   \n",
       "14             -0.678075         -0.300033         -0.386663 -0.648526   \n",
       "15             -0.678075         -0.300033         -0.386663 -1.555975   \n",
       "16             -0.678075         -0.300033         -0.386663 -0.251531   \n",
       "17             -0.678075         -0.300033         -0.386663 -1.004461   \n",
       "\n",
       "    Shots on target  ...  Passes per match  Big chances created   Crosses  \\\n",
       "13         0.795089  ...         -0.502755             2.486610  1.480604   \n",
       "14        -0.692685  ...          0.210934            -0.812223 -0.727558   \n",
       "15        -1.252190  ...          0.239916            -0.526691 -0.489255   \n",
       "16        -1.096892  ...          1.452876            -0.866900 -0.725644   \n",
       "17        -0.879958  ...         -0.418674            -0.999117 -0.932751   \n",
       "\n",
       "    Cross accuracy %  Through balls  Accurate long balls  Yellow cards  \\\n",
       "13         -0.537797       2.992195            -0.313924     -0.849792   \n",
       "14          0.404062      -0.627423            -0.320307      1.278823   \n",
       "15          0.198240      -0.788598            -0.418181     -0.281596   \n",
       "16         -0.217783      -0.495739            -0.100023      0.249611   \n",
       "17          1.227350      -0.460386            -1.154750     -0.990877   \n",
       "\n",
       "    Red cards     Fouls  Offsides  \n",
       "13  -0.540723 -1.035314  3.526698  \n",
       "14   1.260600  0.346281 -0.801955  \n",
       "15   3.662363 -0.645947 -0.624251  \n",
       "16   1.873816 -1.052047 -0.393613  \n",
       "17  -0.540723 -1.396688 -0.801955  \n",
       "\n",
       "[5 rows x 38 columns]"
      ]
     },
     "execution_count": 9,
     "metadata": {},
     "output_type": "execute_result"
    }
   ],
   "source": [
    "# Preprocess the data     \n",
    "football = q1df.iloc[:,5:]\n",
    "football[\"Shooting accuracy %\"] = pd.to_numeric(football[\"Shooting accuracy %\"].apply(lambda x: x[:-1]))\n",
    "football[\"Tackle success %\"] = pd.to_numeric(football[\"Tackle success %\"].apply(lambda x: x[:-1]))\n",
    "football[\"Cross accuracy %\"] = pd.to_numeric(football[\"Cross accuracy %\"].apply(lambda x: x[:-1]))\n",
    "\n",
    "for col in football.iloc[:,2:].columns:\n",
    "  football[col] = football[col]/football.iloc[:,1]\n",
    "\n",
    "football = football.iloc[:,2:]\n",
    "football = (football-football.mean())/football.std()\n",
    "\n",
    "football.head()"
   ]
  },
  {
   "cell_type": "code",
   "execution_count": 10,
   "id": "2e0c9929",
   "metadata": {
    "deletable": false,
    "editable": false,
    "id": "2e0c9929"
   },
   "outputs": [
    {
     "data": {
      "text/html": [
       "<p><strong><pre style='display: inline;'>q1c</pre></strong> passed! 🌈</p>"
      ],
      "text/plain": [
       "q1c results: All test cases passed!"
      ]
     },
     "execution_count": 10,
     "metadata": {},
     "output_type": "execute_result"
    }
   ],
   "source": [
    "grader.check(\"q1c\")"
   ]
  },
  {
   "cell_type": "markdown",
   "id": "730b494c",
   "metadata": {
    "id": "730b494c"
   },
   "source": [
    "## Q1(d) - Kmeans Clustering\n",
    "\n",
    "Run Kmeans clustering on the football data with $k$ = 2, ..., 10.  Set the `random_state` in the Kmeans algorithm to 7.  For each value of $k$, keep track of the within-cluster variation (in `scikit-learn` this is called `inertia`), the Calinski-Harabasz score, and the Davies-Bouldin index on the resulting clusters.  \n",
    "\n",
    "We will examine the different values to decide what number of clusters to focus on. "
   ]
  },
  {
   "cell_type": "code",
   "execution_count": 11,
   "id": "75d82a80",
   "metadata": {
    "id": "75d82a80",
    "tags": []
   },
   "outputs": [],
   "source": [
    "# Run Kmeans clustering on the football data \n",
    "sse = []\n",
    "dbscore = []\n",
    "chscore = []\n",
    "\n",
    "for k in range(2,11):\n",
    "  # fit data\n",
    "  km = cluster.KMeans(n_clusters=k, random_state=7)\n",
    "  km.fit(football)\n",
    "\n",
    "  # predict\n",
    "  y_pred = km.predict(football)\n",
    "\n",
    "  # calculate scores\n",
    "  sse.append(km.inertia_)\n",
    "  dbscore.append(metrics.davies_bouldin_score(football, y_pred))\n",
    "  chscore.append(metrics.calinski_harabasz_score(football, y_pred))\n",
    "\n"
   ]
  },
  {
   "cell_type": "markdown",
   "id": "de6155d6",
   "metadata": {
    "id": "de6155d6"
   },
   "source": [
    "## Q1(e) - Kmeans Cluster Results \n",
    "\n",
    "Plot the intertia versus the number of clusters. \n",
    "\n",
    "Also, plot CH Index and DB Index vs. the number of cluster (3 plots total).\n",
    "\n",
    "Report the best number of clusters, `bestk`, using DB index.  "
   ]
  },
  {
   "cell_type": "code",
   "execution_count": 12,
   "id": "3e87addd",
   "metadata": {
    "id": "3e87addd",
    "tags": []
   },
   "outputs": [
    {
     "data": {
      "text/plain": [
       "Text(0, 0.5, 'Inertia')"
      ]
     },
     "execution_count": 12,
     "metadata": {},
     "output_type": "execute_result"
    },
    {
     "data": {
      "image/png": "[encoded data removed]",
      "text/plain": [
       "<Figure size 640x480 with 1 Axes>"
      ]
     },
     "metadata": {},
     "output_type": "display_data"
    }
   ],
   "source": [
    "# Plot interia vs number of clusters \n",
    "\n",
    "plt.plot(range(2,11), sse)\n",
    "plt.title(\"Inertia vs Number of Clusters\")\n",
    "plt.xlabel(\"Number of Clusters\")\n",
    "plt.ylabel(\"Inertia\")"
   ]
  },
  {
   "cell_type": "code",
   "execution_count": 13,
   "id": "55d7c686",
   "metadata": {
    "id": "55d7c686",
    "tags": []
   },
   "outputs": [
    {
     "data": {
      "text/plain": [
       "Text(0, 0.5, 'CH Index')"
      ]
     },
     "execution_count": 13,
     "metadata": {},
     "output_type": "execute_result"
    },
    {
     "data": {
      "image/png": "[encoded data removed]",
      "text/plain": [
       "<Figure size 640x480 with 1 Axes>"
      ]
     },
     "metadata": {},
     "output_type": "display_data"
    }
   ],
   "source": [
    "# Plot CH Index  vs number of clusters \n",
    "\n",
    "plt.plot(range(2,11), chscore)\n",
    "plt.title(\"CH Index vs Number of Clusters\")\n",
    "plt.xlabel(\"Number of Clusters\")\n",
    "plt.ylabel(\"CH Index\")"
   ]
  },
  {
   "cell_type": "code",
   "execution_count": 14,
   "id": "4506d848",
   "metadata": {
    "id": "4506d848",
    "tags": []
   },
   "outputs": [
    {
     "data": {
      "text/plain": [
       "Text(0, 0.5, 'DB Index')"
      ]
     },
     "execution_count": 14,
     "metadata": {},
     "output_type": "execute_result"
    },
    {
     "data": {
      "image/png": "[encoded data removed]",
      "text/plain": [
       "<Figure size 640x480 with 1 Axes>"
      ]
     },
     "metadata": {},
     "output_type": "display_data"
    }
   ],
   "source": [
    "# Plot DB Index vs number of clusters \n",
    "\n",
    "plt.plot(range(2,11), dbscore)\n",
    "plt.title(\"DB Index vs Number of Clusters\")\n",
    "plt.xlabel(\"Number of Clusters\")\n",
    "plt.ylabel(\"DB Index\")"
   ]
  },
  {
   "cell_type": "code",
   "execution_count": 15,
   "id": "e339ad29",
   "metadata": {
    "id": "e339ad29",
    "tags": []
   },
   "outputs": [],
   "source": [
    "# Select best number of clusters using DB Index. \n",
    "\n",
    "bestk = 4\n"
   ]
  },
  {
   "cell_type": "code",
   "execution_count": 16,
   "id": "d4356d5d",
   "metadata": {
    "deletable": false,
    "editable": false,
    "id": "d4356d5d"
   },
   "outputs": [
    {
     "data": {
      "text/html": [
       "<p><strong style='color: red;'><pre style='display: inline;'>q1e</pre> results:</strong></p><p><strong><pre style='display: inline;'>q1e - 1</pre> result:</strong></p><pre>    ❌ Test case failed\n",
       "    Trying:\n",
       "        bestk == 5\n",
       "    Expecting:\n",
       "        True\n",
       "    **********************************************************************\n",
       "    Line 1, in q1e 0\n",
       "    Failed example:\n",
       "        bestk == 5\n",
       "    Expected:\n",
       "        True\n",
       "    Got:\n",
       "        False\n",
       "</pre>"
      ],
      "text/plain": [
       "q1e results:\n",
       "    q1e - 1 result:\n",
       "        ❌ Test case failed\n",
       "        Trying:\n",
       "            bestk == 5\n",
       "        Expecting:\n",
       "            True\n",
       "        **********************************************************************\n",
       "        Line 1, in q1e 0\n",
       "        Failed example:\n",
       "            bestk == 5\n",
       "        Expected:\n",
       "            True\n",
       "        Got:\n",
       "            False"
      ]
     },
     "execution_count": 16,
     "metadata": {},
     "output_type": "execute_result"
    }
   ],
   "source": [
    "grader.check(\"q1e\")"
   ]
  },
  {
   "cell_type": "markdown",
   "id": "8fe37b78",
   "metadata": {
    "id": "8fe37b78"
   },
   "source": [
    "## Q1(f) - Prototypical Stats \n",
    "\n",
    "Using the best number of clusters from above. Run Kmeans with this value for $k$ (again use `random_state=7`). \n",
    "\n",
    "Create a Data Frame, `clusterStats`,  with the mean statistics (centers) for each cluster.  The Data Frame should be rows: cluster groups 0, 1, 2, ..., bestk-1 and columns: mean statistics.  \n",
    "\n",
    "Add a column `Num` to this DataFrame reporting the number of samples in each group. "
   ]
  },
  {
   "cell_type": "code",
   "execution_count": 17,
   "id": "8ca4e05f",
   "metadata": {
    "id": "8ca4e05f",
    "tags": []
   },
   "outputs": [
    {
     "data": {
      "text/html": [
       "<div>\n",
       "<style scoped>\n",
       "    .dataframe tbody tr th:only-of-type {\n",
       "        vertical-align: middle;\n",
       "    }\n",
       "\n",
       "    .dataframe tbody tr th {\n",
       "        vertical-align: top;\n",
       "    }\n",
       "\n",
       "    .dataframe thead th {\n",
       "        text-align: right;\n",
       "    }\n",
       "</style>\n",
       "<table border=\"1\" class=\"dataframe\">\n",
       "  <thead>\n",
       "    <tr style=\"text-align: right;\">\n",
       "      <th></th>\n",
       "      <th>Wins</th>\n",
       "      <th>Losses</th>\n",
       "      <th>Goals</th>\n",
       "      <th>Headed goals</th>\n",
       "      <th>Goals with right foot</th>\n",
       "      <th>Goals with left foot</th>\n",
       "      <th>Penalties scored</th>\n",
       "      <th>Freekicks scored</th>\n",
       "      <th>Shots</th>\n",
       "      <th>Shots on target</th>\n",
       "      <th>...</th>\n",
       "      <th>Big chances created</th>\n",
       "      <th>Crosses</th>\n",
       "      <th>Cross accuracy %</th>\n",
       "      <th>Through balls</th>\n",
       "      <th>Accurate long balls</th>\n",
       "      <th>Yellow cards</th>\n",
       "      <th>Red cards</th>\n",
       "      <th>Fouls</th>\n",
       "      <th>Offsides</th>\n",
       "      <th>Num</th>\n",
       "    </tr>\n",
       "  </thead>\n",
       "  <tbody>\n",
       "    <tr>\n",
       "      <th>0</th>\n",
       "      <td>-0.015941</td>\n",
       "      <td>0.008567</td>\n",
       "      <td>-0.346874</td>\n",
       "      <td>-0.100034</td>\n",
       "      <td>-0.240191</td>\n",
       "      <td>-0.254778</td>\n",
       "      <td>-0.289862</td>\n",
       "      <td>-0.386663</td>\n",
       "      <td>-0.396732</td>\n",
       "      <td>-0.328208</td>\n",
       "      <td>...</td>\n",
       "      <td>-0.361680</td>\n",
       "      <td>-0.470322</td>\n",
       "      <td>0.131360</td>\n",
       "      <td>-0.391545</td>\n",
       "      <td>-0.698347</td>\n",
       "      <td>-0.560333</td>\n",
       "      <td>-0.287995</td>\n",
       "      <td>-0.767967</td>\n",
       "      <td>0.005961</td>\n",
       "      <td>0</td>\n",
       "    </tr>\n",
       "    <tr>\n",
       "      <th>1</th>\n",
       "      <td>-0.079605</td>\n",
       "      <td>0.137605</td>\n",
       "      <td>-0.857033</td>\n",
       "      <td>-0.365079</td>\n",
       "      <td>-0.587540</td>\n",
       "      <td>-0.585423</td>\n",
       "      <td>-0.244963</td>\n",
       "      <td>-0.386663</td>\n",
       "      <td>-0.750908</td>\n",
       "      <td>-0.796712</td>\n",
       "      <td>...</td>\n",
       "      <td>-0.602151</td>\n",
       "      <td>-0.407931</td>\n",
       "      <td>1.005528</td>\n",
       "      <td>-0.369910</td>\n",
       "      <td>0.471720</td>\n",
       "      <td>0.536846</td>\n",
       "      <td>0.483940</td>\n",
       "      <td>0.459982</td>\n",
       "      <td>-0.603487</td>\n",
       "      <td>1</td>\n",
       "    </tr>\n",
       "    <tr>\n",
       "      <th>2</th>\n",
       "      <td>0.885228</td>\n",
       "      <td>-0.822643</td>\n",
       "      <td>2.830120</td>\n",
       "      <td>3.131053</td>\n",
       "      <td>2.311714</td>\n",
       "      <td>0.766263</td>\n",
       "      <td>0.750229</td>\n",
       "      <td>-0.028161</td>\n",
       "      <td>2.517698</td>\n",
       "      <td>2.772221</td>\n",
       "      <td>...</td>\n",
       "      <td>1.879606</td>\n",
       "      <td>0.308190</td>\n",
       "      <td>-0.528485</td>\n",
       "      <td>1.617157</td>\n",
       "      <td>0.147591</td>\n",
       "      <td>-0.392820</td>\n",
       "      <td>-0.169950</td>\n",
       "      <td>0.573644</td>\n",
       "      <td>1.079892</td>\n",
       "      <td>2</td>\n",
       "    </tr>\n",
       "    <tr>\n",
       "      <th>3</th>\n",
       "      <td>-0.092688</td>\n",
       "      <td>0.116389</td>\n",
       "      <td>0.631125</td>\n",
       "      <td>-0.088489</td>\n",
       "      <td>0.314149</td>\n",
       "      <td>0.715959</td>\n",
       "      <td>0.028957</td>\n",
       "      <td>0.565123</td>\n",
       "      <td>0.736987</td>\n",
       "      <td>0.732761</td>\n",
       "      <td>...</td>\n",
       "      <td>0.708439</td>\n",
       "      <td>0.882642</td>\n",
       "      <td>-0.207580</td>\n",
       "      <td>0.360537</td>\n",
       "      <td>-0.392219</td>\n",
       "      <td>-0.395173</td>\n",
       "      <td>-0.251175</td>\n",
       "      <td>-0.386422</td>\n",
       "      <td>0.563241</td>\n",
       "      <td>3</td>\n",
       "    </tr>\n",
       "    <tr>\n",
       "      <th>4</th>\n",
       "      <td>0.056492</td>\n",
       "      <td>-0.140853</td>\n",
       "      <td>-0.314287</td>\n",
       "      <td>-0.019065</td>\n",
       "      <td>-0.113732</td>\n",
       "      <td>-0.389163</td>\n",
       "      <td>0.313304</td>\n",
       "      <td>-0.081298</td>\n",
       "      <td>-0.446126</td>\n",
       "      <td>-0.512435</td>\n",
       "      <td>...</td>\n",
       "      <td>-0.453687</td>\n",
       "      <td>-0.478872</td>\n",
       "      <td>-0.581556</td>\n",
       "      <td>-0.091937</td>\n",
       "      <td>0.799422</td>\n",
       "      <td>0.709520</td>\n",
       "      <td>0.253312</td>\n",
       "      <td>0.794903</td>\n",
       "      <td>-0.469390</td>\n",
       "      <td>4</td>\n",
       "    </tr>\n",
       "  </tbody>\n",
       "</table>\n",
       "<p>5 rows × 39 columns</p>\n",
       "</div>"
      ],
      "text/plain": [
       "       Wins    Losses     Goals  Headed goals  Goals with right foot  \\\n",
       "0 -0.015941  0.008567 -0.346874     -0.100034              -0.240191   \n",
       "1 -0.079605  0.137605 -0.857033     -0.365079              -0.587540   \n",
       "2  0.885228 -0.822643  2.830120      3.131053               2.311714   \n",
       "3 -0.092688  0.116389  0.631125     -0.088489               0.314149   \n",
       "4  0.056492 -0.140853 -0.314287     -0.019065              -0.113732   \n",
       "\n",
       "   Goals with left foot  Penalties scored  Freekicks scored     Shots  \\\n",
       "0             -0.254778         -0.289862         -0.386663 -0.396732   \n",
       "1             -0.585423         -0.244963         -0.386663 -0.750908   \n",
       "2              0.766263          0.750229         -0.028161  2.517698   \n",
       "3              0.715959          0.028957          0.565123  0.736987   \n",
       "4             -0.389163          0.313304         -0.081298 -0.446126   \n",
       "\n",
       "   Shots on target  ...  Big chances created   Crosses  Cross accuracy %  \\\n",
       "0        -0.328208  ...            -0.361680 -0.470322          0.131360   \n",
       "1        -0.796712  ...            -0.602151 -0.407931          1.005528   \n",
       "2         2.772221  ...             1.879606  0.308190         -0.528485   \n",
       "3         0.732761  ...             0.708439  0.882642         -0.207580   \n",
       "4        -0.512435  ...            -0.453687 -0.478872         -0.581556   \n",
       "\n",
       "   Through balls  Accurate long balls  Yellow cards  Red cards     Fouls  \\\n",
       "0      -0.391545            -0.698347     -0.560333  -0.287995 -0.767967   \n",
       "1      -0.369910             0.471720      0.536846   0.483940  0.459982   \n",
       "2       1.617157             0.147591     -0.392820  -0.169950  0.573644   \n",
       "3       0.360537            -0.392219     -0.395173  -0.251175 -0.386422   \n",
       "4      -0.091937             0.799422      0.709520   0.253312  0.794903   \n",
       "\n",
       "   Offsides  Num  \n",
       "0  0.005961    0  \n",
       "1 -0.603487    1  \n",
       "2  1.079892    2  \n",
       "3  0.563241    3  \n",
       "4 -0.469390    4  \n",
       "\n",
       "[5 rows x 39 columns]"
      ]
     },
     "execution_count": 17,
     "metadata": {},
     "output_type": "execute_result"
    }
   ],
   "source": [
    "# Create a DataFrame \"clusterStats\" with the mean statistics (centers) for each \n",
    "#  cluster\n",
    "km = cluster.KMeans(n_clusters=5, random_state=7)\n",
    "km.fit(football)\n",
    "\n",
    "# predict\n",
    "y_pred = km.predict(football)\n",
    "\n",
    "football[\"Num\"] = y_pred\n",
    "\n",
    "clusterStats = football.groupby(\"Num\", as_index=False).mean()\n",
    "\n",
    "temp_cols = clusterStats.columns.tolist()\n",
    "new_cols = temp_cols[1:] + temp_cols[0:1]\n",
    "clusterStats = clusterStats[new_cols]\n",
    "\n",
    "clusterStats.head(10)"
   ]
  },
  {
   "cell_type": "code",
   "execution_count": 18,
   "id": "229c9969",
   "metadata": {
    "deletable": false,
    "editable": false,
    "id": "229c9969"
   },
   "outputs": [
    {
     "data": {
      "text/html": [
       "<p><strong><pre style='display: inline;'>q1f</pre></strong> passed! 🎉</p>"
      ],
      "text/plain": [
       "q1f results: All test cases passed!"
      ]
     },
     "execution_count": 18,
     "metadata": {},
     "output_type": "execute_result"
    }
   ],
   "source": [
    "grader.check(\"q1f\")"
   ]
  },
  {
   "cell_type": "markdown",
   "id": "ee0df537",
   "metadata": {
    "id": "ee0df537"
   },
   "source": [
    "## Q1(g) - Plot Clusters \n",
    "\n",
    "Apply PCA to the football data.  Plot the first two principal components, colored by the best group labels found in Q1(f).  "
   ]
  },
  {
   "cell_type": "code",
   "execution_count": 19,
   "id": "2e1d57c2",
   "metadata": {
    "id": "2e1d57c2",
    "tags": []
   },
   "outputs": [
    {
     "data": {
      "text/plain": [
       "Text(0, 0.5, 'PCA 2')"
      ]
     },
     "execution_count": 19,
     "metadata": {},
     "output_type": "execute_result"
    },
    {
     "data": {
      "image/png": "[encoded data removed]",
      "text/plain": [
       "<Figure size 640x480 with 1 Axes>"
      ]
     },
     "metadata": {},
     "output_type": "display_data"
    }
   ],
   "source": [
    "# Run PCA on the football data and plot the first two principal components\n",
    "#  colored by the group labels. \n",
    "\n",
    "pca = PCA(n_components=2)\n",
    "pca.fit(football)\n",
    "\n",
    "components = pca.transform(football)\n",
    "\n",
    "plt.scatter(components[:,0],components[:,1], c=football[\"Num\"])\n",
    "plt.title(\"2 PCA Components: Football Data\")\n",
    "plt.xlabel(\"PCA 1\")\n",
    "plt.ylabel(\"PCA 2\")\n"
   ]
  },
  {
   "cell_type": "markdown",
   "id": "934f7922",
   "metadata": {
    "id": "934f7922"
   },
   "source": [
    "# Q2 : Clustering - Spotify Music\n",
    "\n",
    "For this problem you will look at popular streaming music.  Specifically, Spotify's top 100 streaming songs.  For each song information about the song is described with different properties: `duration`, `energy`, `key`, etc. \n"
   ]
  },
  {
   "cell_type": "markdown",
   "id": "61d9ae98",
   "metadata": {
    "id": "61d9ae98"
   },
   "source": [
    "## Q2(a) - Load and Prepare the Data \n",
    "\n",
    "Load in the `music.csv` data.  \n",
    "\n",
    "The clustering algorithms will only consider variables of `duration` to the end of the DataFrame. \n",
    "\n",
    "Standardize the variables to be used in clustering.  "
   ]
  },
  {
   "cell_type": "code",
   "execution_count": 21,
   "id": "434692cf",
   "metadata": {
    "id": "434692cf",
    "tags": []
   },
   "outputs": [
    {
     "data": {
      "text/html": [
       "<div>\n",
       "<style scoped>\n",
       "    .dataframe tbody tr th:only-of-type {\n",
       "        vertical-align: middle;\n",
       "    }\n",
       "\n",
       "    .dataframe tbody tr th {\n",
       "        vertical-align: top;\n",
       "    }\n",
       "\n",
       "    .dataframe thead th {\n",
       "        text-align: right;\n",
       "    }\n",
       "</style>\n",
       "<table border=\"1\" class=\"dataframe\">\n",
       "  <thead>\n",
       "    <tr style=\"text-align: right;\">\n",
       "      <th></th>\n",
       "      <th>Song</th>\n",
       "      <th>Artist</th>\n",
       "      <th>Streams (Billions)</th>\n",
       "      <th>Release Date</th>\n",
       "      <th>id</th>\n",
       "      <th>duration</th>\n",
       "      <th>energy</th>\n",
       "      <th>key</th>\n",
       "      <th>loudness</th>\n",
       "      <th>mode</th>\n",
       "      <th>speechiness</th>\n",
       "      <th>acousticness</th>\n",
       "      <th>instrumentalness</th>\n",
       "      <th>liveness</th>\n",
       "      <th>valence</th>\n",
       "      <th>tempo</th>\n",
       "      <th>danceability</th>\n",
       "    </tr>\n",
       "  </thead>\n",
       "  <tbody>\n",
       "    <tr>\n",
       "      <th>0</th>\n",
       "      <td>Blinding Lights</td>\n",
       "      <td>The Weeknd</td>\n",
       "      <td>3.449</td>\n",
       "      <td>29-Nov-19</td>\n",
       "      <td>0VjIjW4GlUZAMYd2vXMi3b</td>\n",
       "      <td>-0.377848</td>\n",
       "      <td>0.652942</td>\n",
       "      <td>-1.196543</td>\n",
       "      <td>0.120637</td>\n",
       "      <td>0.730121</td>\n",
       "      <td>-0.412369</td>\n",
       "      <td>-0.951353</td>\n",
       "      <td>-0.158298</td>\n",
       "      <td>-0.618407</td>\n",
       "      <td>-0.746964</td>\n",
       "      <td>1.683946</td>\n",
       "      <td>-0.937853</td>\n",
       "    </tr>\n",
       "    <tr>\n",
       "      <th>1</th>\n",
       "      <td>Shape of You</td>\n",
       "      <td>Ed Sheeran</td>\n",
       "      <td>3.398</td>\n",
       "      <td>06-Jan-17</td>\n",
       "      <td>7qiZfU4dY1lWllzX7mPBI3</td>\n",
       "      <td>0.327600</td>\n",
       "      <td>0.165579</td>\n",
       "      <td>-1.196543</td>\n",
       "      <td>1.490262</td>\n",
       "      <td>-1.355939</td>\n",
       "      <td>-0.182825</td>\n",
       "      <td>1.173344</td>\n",
       "      <td>-0.160246</td>\n",
       "      <td>-0.590735</td>\n",
       "      <td>1.906921</td>\n",
       "      <td>-0.855557</td>\n",
       "      <td>1.212646</td>\n",
       "    </tr>\n",
       "    <tr>\n",
       "      <th>2</th>\n",
       "      <td>Dance Monkey</td>\n",
       "      <td>Tones And I</td>\n",
       "      <td>2.770</td>\n",
       "      <td>10-May-19</td>\n",
       "      <td>2XU0oxnq2qxCpomAAuJY8K</td>\n",
       "      <td>-0.179827</td>\n",
       "      <td>-0.234309</td>\n",
       "      <td>0.181963</td>\n",
       "      <td>-0.111367</td>\n",
       "      <td>-1.355939</td>\n",
       "      <td>-0.045549</td>\n",
       "      <td>1.580290</td>\n",
       "      <td>-0.158123</td>\n",
       "      <td>-0.135772</td>\n",
       "      <td>0.048757</td>\n",
       "      <td>-0.786170</td>\n",
       "      <td>1.205731</td>\n",
       "    </tr>\n",
       "    <tr>\n",
       "      <th>3</th>\n",
       "      <td>Someone You Loved</td>\n",
       "      <td>Lewis Capaldi</td>\n",
       "      <td>2.680</td>\n",
       "      <td>08-Nov-18</td>\n",
       "      <td>7qEHsqek33rTcFNT9PFqLf</td>\n",
       "      <td>-0.736760</td>\n",
       "      <td>-1.377739</td>\n",
       "      <td>-1.196543</td>\n",
       "      <td>0.247593</td>\n",
       "      <td>0.730121</td>\n",
       "      <td>-0.726305</td>\n",
       "      <td>1.796594</td>\n",
       "      <td>-0.160246</td>\n",
       "      <td>-0.493882</td>\n",
       "      <td>-0.249083</td>\n",
       "      <td>-0.384605</td>\n",
       "      <td>-1.027745</td>\n",
       "    </tr>\n",
       "    <tr>\n",
       "      <th>4</th>\n",
       "      <td>Rockstar</td>\n",
       "      <td>Post Malone featuring 21 Savage</td>\n",
       "      <td>2.620</td>\n",
       "      <td>15-Sep-17</td>\n",
       "      <td>0e7ipj03S05BNilyu5bRzt</td>\n",
       "      <td>0.005817</td>\n",
       "      <td>-0.659190</td>\n",
       "      <td>-0.093738</td>\n",
       "      <td>0.020069</td>\n",
       "      <td>-1.355939</td>\n",
       "      <td>-0.284095</td>\n",
       "      <td>-0.502100</td>\n",
       "      <td>-0.158815</td>\n",
       "      <td>-0.282272</td>\n",
       "      <td>-1.658265</td>\n",
       "      <td>1.304719</td>\n",
       "      <td>-0.446903</td>\n",
       "    </tr>\n",
       "  </tbody>\n",
       "</table>\n",
       "</div>"
      ],
      "text/plain": [
       "                Song                           Artist  Streams (Billions)  \\\n",
       "0    Blinding Lights                       The Weeknd               3.449   \n",
       "1       Shape of You                       Ed Sheeran               3.398   \n",
       "2       Dance Monkey                      Tones And I               2.770   \n",
       "3  Someone You Loved                    Lewis Capaldi               2.680   \n",
       "4           Rockstar  Post Malone featuring 21 Savage               2.620   \n",
       "\n",
       "  Release Date                      id  duration    energy       key  \\\n",
       "0    29-Nov-19  0VjIjW4GlUZAMYd2vXMi3b -0.377848  0.652942 -1.196543   \n",
       "1    06-Jan-17  7qiZfU4dY1lWllzX7mPBI3  0.327600  0.165579 -1.196543   \n",
       "2    10-May-19  2XU0oxnq2qxCpomAAuJY8K -0.179827 -0.234309  0.181963   \n",
       "3    08-Nov-18  7qEHsqek33rTcFNT9PFqLf -0.736760 -1.377739 -1.196543   \n",
       "4    15-Sep-17  0e7ipj03S05BNilyu5bRzt  0.005817 -0.659190 -0.093738   \n",
       "\n",
       "   loudness      mode  speechiness  acousticness  instrumentalness  liveness  \\\n",
       "0  0.120637  0.730121    -0.412369     -0.951353         -0.158298 -0.618407   \n",
       "1  1.490262 -1.355939    -0.182825      1.173344         -0.160246 -0.590735   \n",
       "2 -0.111367 -1.355939    -0.045549      1.580290         -0.158123 -0.135772   \n",
       "3  0.247593  0.730121    -0.726305      1.796594         -0.160246 -0.493882   \n",
       "4  0.020069 -1.355939    -0.284095     -0.502100         -0.158815 -0.282272   \n",
       "\n",
       "    valence     tempo  danceability  \n",
       "0 -0.746964  1.683946     -0.937853  \n",
       "1  1.906921 -0.855557      1.212646  \n",
       "2  0.048757 -0.786170      1.205731  \n",
       "3 -0.249083 -0.384605     -1.027745  \n",
       "4 -1.658265  1.304719     -0.446903  "
      ]
     },
     "execution_count": 21,
     "metadata": {},
     "output_type": "execute_result"
    }
   ],
   "source": [
    "# Load in music data \n",
    "\n",
    "music = pd.read_csv(\"data/music.csv\")\n",
    "\n",
    "music.iloc[:,5:] = (music.iloc[:,5:]-music.iloc[:,5:].mean())/music.iloc[:,5:].std()\n",
    "\n",
    "music.head()"
   ]
  },
  {
   "cell_type": "code",
   "execution_count": 22,
   "id": "2598a837",
   "metadata": {
    "deletable": false,
    "editable": false,
    "id": "2598a837"
   },
   "outputs": [
    {
     "data": {
      "text/html": [
       "<p><strong><pre style='display: inline;'>q2a</pre></strong> passed! 🎉</p>"
      ],
      "text/plain": [
       "q2a results: All test cases passed!"
      ]
     },
     "execution_count": 22,
     "metadata": {},
     "output_type": "execute_result"
    }
   ],
   "source": [
    "grader.check(\"q2a\")"
   ]
  },
  {
   "cell_type": "markdown",
   "id": "ce9cb874",
   "metadata": {
    "id": "ce9cb874"
   },
   "source": [
    "## Q2(b) - Hierarchical Clustering \n",
    "\n",
    "Perform Hierarchical clustering with **single** linkage on just the top 30 songs. \n",
    "\n",
    "Report results in a dendrogram, `dg_single` and label the samples by the Artist.  \n",
    "\n"
   ]
  },
  {
   "cell_type": "code",
   "execution_count": 23,
   "id": "ad9e9716",
   "metadata": {
    "id": "ad9e9716",
    "tags": []
   },
   "outputs": [
    {
     "name": "stdout",
     "output_type": "stream",
     "text": [
      "(29, 4)\n"
     ]
    },
    {
     "data": {
      "image/png": "[encoded data removed]",
      "text/plain": [
       "<Figure size 1000x500 with 1 Axes>"
      ]
     },
     "metadata": {},
     "output_type": "display_data"
    }
   ],
   "source": [
    "# Perform Hierarchical clustering with single linkage on top 30 songs \n",
    "# Report results in a dendrogram, dg_single\n",
    "hc = cluster.AgglomerativeClustering(distance_threshold=0, \n",
    "n_clusters=None, linkage=\"single\")\n",
    "\n",
    "y_pred = hc.fit_predict(music.iloc[:30,5:])\n",
    "\n",
    "linkage = hierarchy.linkage(music.iloc[:30,5:], 'single')\n",
    "plt.figure(figsize=(10, 5))\n",
    "print(linkage.shape)\n",
    "dg_single = hierarchy.dendrogram(linkage, labels=list(music.iloc[:30,1]),\n",
    "    leaf_rotation = 90)"
   ]
  },
  {
   "cell_type": "code",
   "execution_count": 24,
   "id": "4045f8b8",
   "metadata": {
    "deletable": false,
    "editable": false,
    "id": "4045f8b8"
   },
   "outputs": [
    {
     "data": {
      "text/html": [
       "<p><strong><pre style='display: inline;'>q2b</pre></strong> passed! 💯</p>"
      ],
      "text/plain": [
       "q2b results: All test cases passed!"
      ]
     },
     "execution_count": 24,
     "metadata": {},
     "output_type": "execute_result"
    }
   ],
   "source": [
    "grader.check(\"q2b\")"
   ]
  },
  {
   "cell_type": "markdown",
   "id": "d4a152e8",
   "metadata": {
    "id": "d4a152e8"
   },
   "source": [
    "## Q2(c) - Hierarchical Clustering, part 2 \n",
    "\n",
    "Perform Hierarchical clustering with **complete** linkage on just the top 30 songs.\n",
    "\n",
    "Report results in a dendrogram, `dn_complete` and label the samples by the Artist."
   ]
  },
  {
   "cell_type": "code",
   "execution_count": 25,
   "id": "e7e4b557",
   "metadata": {
    "id": "e7e4b557",
    "tags": []
   },
   "outputs": [
    {
     "name": "stdout",
     "output_type": "stream",
     "text": [
      "(29, 4)\n"
     ]
    },
    {
     "data": {
      "image/png": "[encoded data removed]",
      "text/plain": [
       "<Figure size 1000x500 with 1 Axes>"
      ]
     },
     "metadata": {},
     "output_type": "display_data"
    }
   ],
   "source": [
    "# Perform Hierarchical clustering with complete linkage on top 30 songs \n",
    "# Report results in a dendrogram, dg_complete\n",
    "hc2 = cluster.AgglomerativeClustering(distance_threshold=0, \n",
    "n_clusters=None, linkage=\"complete\")\n",
    "y_pred = hc2.fit_predict(music.iloc[:30,5:])\n",
    "\n",
    "linkage = hierarchy.linkage(music.iloc[:30,5:], 'complete')\n",
    "plt.figure(figsize=(10, 5))\n",
    "print(linkage.shape)\n",
    "dg_complete = hierarchy.dendrogram(linkage, labels=list(music.iloc[:30,1]),\n",
    "    leaf_rotation = 90)"
   ]
  },
  {
   "cell_type": "code",
   "execution_count": 26,
   "id": "e57e64d9",
   "metadata": {
    "deletable": false,
    "editable": false,
    "id": "e57e64d9"
   },
   "outputs": [
    {
     "data": {
      "text/html": [
       "<p><strong><pre style='display: inline;'>q2c</pre></strong> passed! 🎉</p>"
      ],
      "text/plain": [
       "q2c results: All test cases passed!"
      ]
     },
     "execution_count": 26,
     "metadata": {},
     "output_type": "execute_result"
    }
   ],
   "source": [
    "grader.check(\"q2c\")"
   ]
  },
  {
   "cell_type": "markdown",
   "id": "2ace61c9",
   "metadata": {
    "id": "2ace61c9"
   },
   "source": [
    "## Q2(d) - Hierarchical Clustering, part 3\n",
    "\n",
    "Perform Hierarchical clustering with **aveage** linkage on just the top 30 songs.\n",
    "\n",
    "Report results in a dendrogram, `dn_average` and label the samples by the Artist."
   ]
  },
  {
   "cell_type": "code",
   "execution_count": 27,
   "id": "42541677",
   "metadata": {
    "id": "42541677",
    "tags": []
   },
   "outputs": [
    {
     "name": "stdout",
     "output_type": "stream",
     "text": [
      "(29, 4)\n"
     ]
    },
    {
     "data": {
      "image/png": "[encoded data removed]",
      "text/plain": [
       "<Figure size 1000x500 with 1 Axes>"
      ]
     },
     "metadata": {},
     "output_type": "display_data"
    }
   ],
   "source": [
    "# Perform Hierarchical clustering with average linkage on top 30 songs \n",
    "# Report results in a dendrogram, dg_average\n",
    "hc2 = cluster.AgglomerativeClustering(distance_threshold=0, \n",
    "n_clusters=None, linkage=\"average\")\n",
    "y_pred = hc2.fit_predict(music.iloc[:30,5:])\n",
    "\n",
    "linkage = hierarchy.linkage(music.iloc[:30,5:], 'average')\n",
    "plt.figure(figsize=(10, 5))\n",
    "print(linkage.shape)\n",
    "dg_average = hierarchy.dendrogram(linkage, labels=list(music.iloc[:30,1]),\n",
    "    leaf_rotation = 90)"
   ]
  },
  {
   "cell_type": "code",
   "execution_count": 28,
   "id": "358bfa9e",
   "metadata": {
    "deletable": false,
    "editable": false,
    "id": "358bfa9e"
   },
   "outputs": [
    {
     "data": {
      "text/html": [
       "<p><strong><pre style='display: inline;'>q2d</pre></strong> passed! 🌈</p>"
      ],
      "text/plain": [
       "q2d results: All test cases passed!"
      ]
     },
     "execution_count": 28,
     "metadata": {},
     "output_type": "execute_result"
    }
   ],
   "source": [
    "grader.check(\"q2d\")"
   ]
  },
  {
   "cell_type": "markdown",
   "id": "76523aa6",
   "metadata": {
    "id": "76523aa6"
   },
   "source": [
    "# Q3 - Association Analysis\n",
    "\n",
    "For this problem, you will analyze a portion of the Instacart Online Grocery Shopping Dataset from 2017.  The full data set is available if you are interested.  \n",
    "https://www.instacart.com/datasets/grocery-shopping-2017\n",
    "\n",
    "We will work with a smaller data set containing just 20K items purchased,  the medium data set has 500K items purchased, adn the original dataset has 3 million orders. \n",
    "\n",
    "You will use the following files for this analysis: \n",
    "\n",
    "* `order_products__train_small.csv`  \n",
    "* `products.csv` \n",
    "\n",
    "The file `order_products__train_small.csv` have items indexed by a number.  You can connect these values with the name of the product in the `products.csv` file.  \n"
   ]
  },
  {
   "cell_type": "markdown",
   "id": "5217a13d",
   "metadata": {
    "id": "5217a13d"
   },
   "source": [
    "## Q3(a) - Load the Data\n",
    "\n",
    "Load the 2 data files mentioned above.  \n",
    "You will need to transform this data into a boolean transaction DataFrame for the small data `orders_small`.  \n",
    "\n",
    "These boolean transaction DataFrame will have rows corresponding to orders / transaction with the `order_id` as the row names.  The DataFrame will have columns corresponding to products with the `product_name` as the column names.  The DataFrame is boolean and entry [i, j] is : \"False\" meaning this product, j, was not purchased in order, i, and \"True\" means product, j, was purchased in order, i. \n",
    "\n",
    "The rows in the DataFrame should be in order of `order_id`.  The columns should be ordered in alphanumeric ordering of the `product_name`.\n",
    "\n",
    "Note, you can not use the `mlxtend.TransactionEncoder` function for this because it expects data as lists of lists.  \n",
    "\n"
   ]
  },
  {
   "cell_type": "code",
   "execution_count": 29,
   "id": "fdf011e3",
   "metadata": {
    "id": "fdf011e3",
    "tags": []
   },
   "outputs": [
    {
     "data": {
      "text/html": [
       "<div>\n",
       "<style scoped>\n",
       "    .dataframe tbody tr th:only-of-type {\n",
       "        vertical-align: middle;\n",
       "    }\n",
       "\n",
       "    .dataframe tbody tr th {\n",
       "        vertical-align: top;\n",
       "    }\n",
       "\n",
       "    .dataframe thead th {\n",
       "        text-align: right;\n",
       "    }\n",
       "</style>\n",
       "<table border=\"1\" class=\"dataframe\">\n",
       "  <thead>\n",
       "    <tr style=\"text-align: right;\">\n",
       "      <th></th>\n",
       "      <th>#2 Coffee Filters</th>\n",
       "      <th>0% Fat Free Organic Milk</th>\n",
       "      <th>0% Fat Organic Greek Vanilla Yogurt</th>\n",
       "      <th>0% Fat Superfruits Greek Yogurt</th>\n",
       "      <th>0% Greek Strained Yogurt</th>\n",
       "      <th>1 Apple + 1 Pear Fruit Bar</th>\n",
       "      <th>1 Liter</th>\n",
       "      <th>1 Ply Paper Towels</th>\n",
       "      <th>1% Chocolate Milk</th>\n",
       "      <th>1% Low Fat Milk</th>\n",
       "      <th>...</th>\n",
       "      <th>Zero Dish Soap Fragrance Free</th>\n",
       "      <th>Zero Go-Go Mixed Berry Vitamin Water</th>\n",
       "      <th>Zero Soda</th>\n",
       "      <th>Zero Strawberry Lemon</th>\n",
       "      <th>Zero Vitamin Water</th>\n",
       "      <th>Zesta Original Saltine Crackers</th>\n",
       "      <th>Zesty Garlic Aiolo Mayo Alternative</th>\n",
       "      <th>Zesty Lemon Hommus</th>\n",
       "      <th>Zucchini Noodles</th>\n",
       "      <th>Zucchini Squash</th>\n",
       "    </tr>\n",
       "    <tr>\n",
       "      <th>order_id</th>\n",
       "      <th></th>\n",
       "      <th></th>\n",
       "      <th></th>\n",
       "      <th></th>\n",
       "      <th></th>\n",
       "      <th></th>\n",
       "      <th></th>\n",
       "      <th></th>\n",
       "      <th></th>\n",
       "      <th></th>\n",
       "      <th></th>\n",
       "      <th></th>\n",
       "      <th></th>\n",
       "      <th></th>\n",
       "      <th></th>\n",
       "      <th></th>\n",
       "      <th></th>\n",
       "      <th></th>\n",
       "      <th></th>\n",
       "      <th></th>\n",
       "      <th></th>\n",
       "    </tr>\n",
       "  </thead>\n",
       "  <tbody>\n",
       "    <tr>\n",
       "      <th>1</th>\n",
       "      <td>False</td>\n",
       "      <td>False</td>\n",
       "      <td>False</td>\n",
       "      <td>False</td>\n",
       "      <td>False</td>\n",
       "      <td>False</td>\n",
       "      <td>False</td>\n",
       "      <td>False</td>\n",
       "      <td>False</td>\n",
       "      <td>False</td>\n",
       "      <td>...</td>\n",
       "      <td>False</td>\n",
       "      <td>False</td>\n",
       "      <td>False</td>\n",
       "      <td>False</td>\n",
       "      <td>False</td>\n",
       "      <td>False</td>\n",
       "      <td>False</td>\n",
       "      <td>False</td>\n",
       "      <td>False</td>\n",
       "      <td>False</td>\n",
       "    </tr>\n",
       "    <tr>\n",
       "      <th>36</th>\n",
       "      <td>False</td>\n",
       "      <td>False</td>\n",
       "      <td>False</td>\n",
       "      <td>False</td>\n",
       "      <td>False</td>\n",
       "      <td>False</td>\n",
       "      <td>False</td>\n",
       "      <td>False</td>\n",
       "      <td>False</td>\n",
       "      <td>False</td>\n",
       "      <td>...</td>\n",
       "      <td>False</td>\n",
       "      <td>False</td>\n",
       "      <td>False</td>\n",
       "      <td>False</td>\n",
       "      <td>False</td>\n",
       "      <td>False</td>\n",
       "      <td>False</td>\n",
       "      <td>False</td>\n",
       "      <td>False</td>\n",
       "      <td>False</td>\n",
       "    </tr>\n",
       "    <tr>\n",
       "      <th>38</th>\n",
       "      <td>False</td>\n",
       "      <td>False</td>\n",
       "      <td>False</td>\n",
       "      <td>False</td>\n",
       "      <td>False</td>\n",
       "      <td>False</td>\n",
       "      <td>False</td>\n",
       "      <td>False</td>\n",
       "      <td>False</td>\n",
       "      <td>False</td>\n",
       "      <td>...</td>\n",
       "      <td>False</td>\n",
       "      <td>False</td>\n",
       "      <td>False</td>\n",
       "      <td>False</td>\n",
       "      <td>False</td>\n",
       "      <td>False</td>\n",
       "      <td>False</td>\n",
       "      <td>False</td>\n",
       "      <td>False</td>\n",
       "      <td>False</td>\n",
       "    </tr>\n",
       "    <tr>\n",
       "      <th>96</th>\n",
       "      <td>False</td>\n",
       "      <td>False</td>\n",
       "      <td>False</td>\n",
       "      <td>False</td>\n",
       "      <td>False</td>\n",
       "      <td>False</td>\n",
       "      <td>False</td>\n",
       "      <td>False</td>\n",
       "      <td>False</td>\n",
       "      <td>False</td>\n",
       "      <td>...</td>\n",
       "      <td>False</td>\n",
       "      <td>False</td>\n",
       "      <td>False</td>\n",
       "      <td>False</td>\n",
       "      <td>False</td>\n",
       "      <td>False</td>\n",
       "      <td>False</td>\n",
       "      <td>False</td>\n",
       "      <td>False</td>\n",
       "      <td>False</td>\n",
       "    </tr>\n",
       "    <tr>\n",
       "      <th>98</th>\n",
       "      <td>False</td>\n",
       "      <td>False</td>\n",
       "      <td>False</td>\n",
       "      <td>False</td>\n",
       "      <td>False</td>\n",
       "      <td>False</td>\n",
       "      <td>False</td>\n",
       "      <td>False</td>\n",
       "      <td>False</td>\n",
       "      <td>False</td>\n",
       "      <td>...</td>\n",
       "      <td>False</td>\n",
       "      <td>False</td>\n",
       "      <td>False</td>\n",
       "      <td>False</td>\n",
       "      <td>False</td>\n",
       "      <td>False</td>\n",
       "      <td>False</td>\n",
       "      <td>False</td>\n",
       "      <td>False</td>\n",
       "      <td>False</td>\n",
       "    </tr>\n",
       "  </tbody>\n",
       "</table>\n",
       "<p>5 rows × 7338 columns</p>\n",
       "</div>"
      ],
      "text/plain": [
       "          #2 Coffee Filters  0% Fat Free Organic Milk  \\\n",
       "order_id                                                \n",
       "1                     False                     False   \n",
       "36                    False                     False   \n",
       "38                    False                     False   \n",
       "96                    False                     False   \n",
       "98                    False                     False   \n",
       "\n",
       "          0% Fat Organic Greek Vanilla Yogurt  \\\n",
       "order_id                                        \n",
       "1                                       False   \n",
       "36                                      False   \n",
       "38                                      False   \n",
       "96                                      False   \n",
       "98                                      False   \n",
       "\n",
       "          0% Fat Superfruits Greek Yogurt  0% Greek Strained Yogurt  \\\n",
       "order_id                                                              \n",
       "1                                   False                     False   \n",
       "36                                  False                     False   \n",
       "38                                  False                     False   \n",
       "96                                  False                     False   \n",
       "98                                  False                     False   \n",
       "\n",
       "          1 Apple + 1 Pear Fruit Bar  1 Liter  1 Ply Paper Towels  \\\n",
       "order_id                                                            \n",
       "1                              False    False               False   \n",
       "36                             False    False               False   \n",
       "38                             False    False               False   \n",
       "96                             False    False               False   \n",
       "98                             False    False               False   \n",
       "\n",
       "          1% Chocolate Milk  1% Low Fat Milk  ...  \\\n",
       "order_id                                      ...   \n",
       "1                     False            False  ...   \n",
       "36                    False            False  ...   \n",
       "38                    False            False  ...   \n",
       "96                    False            False  ...   \n",
       "98                    False            False  ...   \n",
       "\n",
       "          Zero Dish Soap Fragrance Free  Zero Go-Go Mixed Berry Vitamin Water  \\\n",
       "order_id                                                                        \n",
       "1                                 False                                 False   \n",
       "36                                False                                 False   \n",
       "38                                False                                 False   \n",
       "96                                False                                 False   \n",
       "98                                False                                 False   \n",
       "\n",
       "          Zero Soda  Zero Strawberry Lemon  Zero Vitamin Water  \\\n",
       "order_id                                                         \n",
       "1             False                  False               False   \n",
       "36            False                  False               False   \n",
       "38            False                  False               False   \n",
       "96            False                  False               False   \n",
       "98            False                  False               False   \n",
       "\n",
       "          Zesta Original Saltine Crackers  \\\n",
       "order_id                                    \n",
       "1                                   False   \n",
       "36                                  False   \n",
       "38                                  False   \n",
       "96                                  False   \n",
       "98                                  False   \n",
       "\n",
       "          Zesty Garlic Aiolo Mayo Alternative  Zesty Lemon Hommus  \\\n",
       "order_id                                                            \n",
       "1                                       False               False   \n",
       "36                                      False               False   \n",
       "38                                      False               False   \n",
       "96                                      False               False   \n",
       "98                                      False               False   \n",
       "\n",
       "          Zucchini Noodles  Zucchini Squash  \n",
       "order_id                                     \n",
       "1                    False            False  \n",
       "36                   False            False  \n",
       "38                   False            False  \n",
       "96                   False            False  \n",
       "98                   False            False  \n",
       "\n",
       "[5 rows x 7338 columns]"
      ]
     },
     "execution_count": 29,
     "metadata": {},
     "output_type": "execute_result"
    }
   ],
   "source": [
    "# Load and prepare the data \n",
    "# get datasets\n",
    "data1 = pd.read_csv(\"data/instacart-small/order_products__train_small.csv\")\n",
    "\n",
    "data2 = pd.read_csv(\"data/instacart-small/products.csv\")\n",
    "\n",
    "data2.head()\n",
    "\n",
    "# join datasets\n",
    "joinedData = data1.merge(data2, on=\"product_id\").iloc[:,[0,1,4]]\n",
    "\n",
    "# group and aggregate group items\n",
    "txns = joinedData.groupby('order_id').product_name.agg([(\"count\",\"count\"),('items', '[###]'.join)])\n",
    "\n",
    "# convert to list of lists\n",
    "orderTxns = []\n",
    "for index, row in txns.iterrows():\n",
    "  orderTxns.append(row[\"items\"].split(\"[###]\"))\n",
    "\n",
    "# convert to boolean dataframe\n",
    "te = TransactionEncoder()\n",
    "tedata = te.fit(orderTxns).transform(orderTxns)\n",
    "orders_small = pd.DataFrame(tedata, columns=te.columns_, index=txns.index)\n",
    "sorted_columns = list(orders_small.columns)\n",
    "sorted_columns.sort(key=str.casefold)\n",
    "orders_small = orders_small[sorted_columns]\n",
    "\n",
    "orders_small.head()"
   ]
  },
  {
   "cell_type": "code",
   "execution_count": 30,
   "id": "96af7af5",
   "metadata": {
    "deletable": false,
    "editable": false,
    "id": "96af7af5"
   },
   "outputs": [
    {
     "data": {
      "text/html": [
       "<p><strong style='color: red;'><pre style='display: inline;'>q3a</pre> results:</strong></p><p><strong><pre style='display: inline;'>q3a - 1</pre> result:</strong></p><pre>    ✅ Test case passed</pre><p><strong><pre style='display: inline;'>q3a - 2</pre> result:</strong></p><pre>    ✅ Test case passed</pre><p><strong><pre style='display: inline;'>q3a - 3</pre> result:</strong></p><pre>    ✅ Test case passed</pre><p><strong><pre style='display: inline;'>q3a - 4</pre> result:</strong></p><pre>    ✅ Test case passed</pre><p><strong><pre style='display: inline;'>q3a - 5</pre> result:</strong></p><pre>    ❌ Test case failed\n",
       "    Trying:\n",
       "        all(orders_small.iloc[190:200, 500] == [False, False, True, False, True,  \n",
       "                                                False, False, False, False, False])\n",
       "    Expecting:\n",
       "        True\n",
       "    **********************************************************************\n",
       "    Line 1, in q3a 4\n",
       "    Failed example:\n",
       "        all(orders_small.iloc[190:200, 500] == [False, False, True, False, True,  \n",
       "                                                False, False, False, False, False])\n",
       "    Expected:\n",
       "        True\n",
       "    Got:\n",
       "        False\n",
       "</pre>"
      ],
      "text/plain": [
       "q3a results:\n",
       "    q3a - 1 result:\n",
       "        ✅ Test case passed\n",
       "\n",
       "    q3a - 2 result:\n",
       "        ✅ Test case passed\n",
       "\n",
       "    q3a - 3 result:\n",
       "        ✅ Test case passed\n",
       "\n",
       "    q3a - 4 result:\n",
       "        ✅ Test case passed\n",
       "\n",
       "    q3a - 5 result:\n",
       "        ❌ Test case failed\n",
       "        Trying:\n",
       "            all(orders_small.iloc[190:200, 500] == [False, False, True, False, True,  \n",
       "                                                    False, False, False, False, False])\n",
       "        Expecting:\n",
       "            True\n",
       "        **********************************************************************\n",
       "        Line 1, in q3a 4\n",
       "        Failed example:\n",
       "            all(orders_small.iloc[190:200, 500] == [False, False, True, False, True,  \n",
       "                                                    False, False, False, False, False])\n",
       "        Expected:\n",
       "            True\n",
       "        Got:\n",
       "            False"
      ]
     },
     "execution_count": 30,
     "metadata": {},
     "output_type": "execute_result"
    }
   ],
   "source": [
    "grader.check(\"q3a\")"
   ]
  },
  {
   "cell_type": "markdown",
   "id": "aaf1e916",
   "metadata": {
    "id": "aaf1e916"
   },
   "source": [
    "## Q3(b) - Explore the Data \n",
    "\n",
    "Create a density plot showing the number of products per order for the small sets.\n",
    "\n",
    "Also, calculate the mean number of products per order for the small dataset. "
   ]
  },
  {
   "cell_type": "code",
   "execution_count": 31,
   "id": "f26b2b01",
   "metadata": {
    "id": "f26b2b01",
    "tags": []
   },
   "outputs": [
    {
     "name": "stdout",
     "output_type": "stream",
     "text": [
      "Mean number of products per order - Small:  10.604984093319194\n"
     ]
    },
    {
     "data": {
      "image/png": "[encoded data removed]",
      "text/plain": [
       "<Figure size 640x480 with 1 Axes>"
      ]
     },
     "metadata": {},
     "output_type": "display_data"
    }
   ],
   "source": [
    "# Plot the number of products per order \n",
    "\n",
    "\n",
    "sb.set_style('whitegrid')\n",
    "sb.kdeplot(txns[\"count\"], bw_method=0.5)\n",
    "plt.title(\"Number of products per order\")\n",
    "plt.xlabel('Order')\n",
    "plt.ylabel('Density')\n",
    "\n",
    "mn_num_sm = txns[\"count\"].mean()\n",
    "\n",
    "\n",
    "print(\"Mean number of products per order - Small: \", mn_num_sm)"
   ]
  },
  {
   "cell_type": "code",
   "execution_count": 32,
   "id": "37736b31",
   "metadata": {
    "deletable": false,
    "editable": false,
    "id": "37736b31"
   },
   "outputs": [
    {
     "data": {
      "text/html": [
       "<p><strong><pre style='display: inline;'>q3b</pre></strong> passed! 🍀</p>"
      ],
      "text/plain": [
       "q3b results: All test cases passed!"
      ]
     },
     "execution_count": 32,
     "metadata": {},
     "output_type": "execute_result"
    }
   ],
   "source": [
    "grader.check(\"q3b\")"
   ]
  },
  {
   "cell_type": "markdown",
   "id": "d30ae948",
   "metadata": {
    "id": "d30ae948"
   },
   "source": [
    "<!-- BEGIN QUESTION -->\n",
    "\n",
    "## Q3(c) - Explore the Data, part 2 \n",
    "\n",
    "For the samll dataset, create an top 15 item frequency plot, that is plot the top 15 most frequently purchased items. This should be a bar plot with items vs. frequency (relative support)."
   ]
  },
  {
   "cell_type": "code",
   "execution_count": 33,
   "id": "4e5c2910",
   "metadata": {
    "id": "4e5c2910",
    "tags": []
   },
   "outputs": [
    {
     "data": {
      "text/plain": [
       "Text(0.5, 1.0, 'Top 15 most frequently purchased product')"
      ]
     },
     "execution_count": 33,
     "metadata": {},
     "output_type": "execute_result"
    },
    {
     "data": {
      "image/png": "[encoded data removed]",
      "text/plain": [
       "<Figure size 640x480 with 1 Axes>"
      ]
     },
     "metadata": {},
     "output_type": "display_data"
    }
   ],
   "source": [
    "# Plot top 15 most frequently purchased product (by relative support)\n",
    "\n",
    "sup = orders_small.sum()\n",
    "top15 = sup.sort_values(ascending=False)[:15]\n",
    "\n",
    "plt.barh(top15.index, top15.sort_values())\n",
    "plt.xlabel('Frequency')\n",
    "plt.ylabel('Items')\n",
    "plt.title('Top 15 most frequently purchased product')\n",
    "\n",
    "\n"
   ]
  },
  {
   "cell_type": "markdown",
   "id": "232f0ac3",
   "metadata": {
    "id": "232f0ac3"
   },
   "source": [
    "<!-- END QUESTION -->\n",
    "\n",
    "<!-- BEGIN QUESTION -->\n",
    "\n",
    "## Q3(d) - Explore the Data, part 3 \n",
    "\n",
    "For the small dataset, create an histogram of the number of times an item is purchased. You may want to consider using log scaling to view the data distribution more easily. "
   ]
  },
  {
   "cell_type": "code",
   "execution_count": 34,
   "id": "df9def88",
   "metadata": {
    "id": "df9def88",
    "tags": []
   },
   "outputs": [
    {
     "data": {
      "text/plain": [
       "Text(0, 0.5, 'Number of purchases')"
      ]
     },
     "execution_count": 34,
     "metadata": {},
     "output_type": "execute_result"
    },
    {
     "data": {
      "image/png": "[encoded data removed]",
      "text/plain": [
       "<Figure size 640x480 with 1 Axes>"
      ]
     },
     "metadata": {},
     "output_type": "display_data"
    }
   ],
   "source": [
    "# Plot histogram of number of purchases per item. \n",
    "logData = np.log(txns[\"count\"])\n",
    "\n",
    "plt.hist(logData)\n",
    "plt.title(\"Number of purchases per item\")\n",
    "plt.xlabel(\"Items\")\n",
    "plt.ylabel(\"Number of purchases\")\n",
    "\n",
    "\n"
   ]
  },
  {
   "cell_type": "markdown",
   "id": "77a54115",
   "metadata": {
    "id": "77a54115"
   },
   "source": [
    "<!-- END QUESTION -->\n",
    "\n",
    "## Q3(e) - Apriori \n",
    "\n",
    "For the small dataset, use Apriori to find association rules, `rules_sm` with a minimum support of 0.0035 and confidence of 0.5.  \n",
    "\n",
    "Store the top 20 rules sorted by leverage in `q3e_df`.\n",
    "\n",
    "Note, the minimum support level is rather high given the information plotted in Q3(c) and Q3(d). However, this was done to avoid using too much memory (lower support values will require 15-20 GB memory). "
   ]
  },
  {
   "cell_type": "code",
   "execution_count": 35,
   "id": "44ebd072",
   "metadata": {
    "id": "44ebd072",
    "tags": []
   },
   "outputs": [
    {
     "data": {
      "text/html": [
       "<div>\n",
       "<style scoped>\n",
       "    .dataframe tbody tr th:only-of-type {\n",
       "        vertical-align: middle;\n",
       "    }\n",
       "\n",
       "    .dataframe tbody tr th {\n",
       "        vertical-align: top;\n",
       "    }\n",
       "\n",
       "    .dataframe thead th {\n",
       "        text-align: right;\n",
       "    }\n",
       "</style>\n",
       "<table border=\"1\" class=\"dataframe\">\n",
       "  <thead>\n",
       "    <tr style=\"text-align: right;\">\n",
       "      <th></th>\n",
       "      <th>antecedents</th>\n",
       "      <th>consequents</th>\n",
       "      <th>support</th>\n",
       "      <th>confidence</th>\n",
       "      <th>lift</th>\n",
       "    </tr>\n",
       "  </thead>\n",
       "  <tbody>\n",
       "    <tr>\n",
       "      <th>14</th>\n",
       "      <td>(Bag of Organic Bananas, Organic Raspberries)</td>\n",
       "      <td>(Organic Hass Avocado)</td>\n",
       "      <td>0.005832</td>\n",
       "      <td>0.500000</td>\n",
       "      <td>9.155340</td>\n",
       "    </tr>\n",
       "    <tr>\n",
       "      <th>6</th>\n",
       "      <td>(Roma Tomato)</td>\n",
       "      <td>(Banana)</td>\n",
       "      <td>0.006893</td>\n",
       "      <td>0.500000</td>\n",
       "      <td>3.787149</td>\n",
       "    </tr>\n",
       "    <tr>\n",
       "      <th>15</th>\n",
       "      <td>(Organic Hass Avocado, Organic Raspberries)</td>\n",
       "      <td>(Bag of Organic Bananas)</td>\n",
       "      <td>0.005832</td>\n",
       "      <td>0.647059</td>\n",
       "      <td>5.811204</td>\n",
       "    </tr>\n",
       "    <tr>\n",
       "      <th>18</th>\n",
       "      <td>(Organic Avocado, Limes)</td>\n",
       "      <td>(Large Lemon)</td>\n",
       "      <td>0.004772</td>\n",
       "      <td>0.529412</td>\n",
       "      <td>8.533937</td>\n",
       "    </tr>\n",
       "    <tr>\n",
       "      <th>16</th>\n",
       "      <td>(Organic Strawberries, Organic Large Extra Fan...</td>\n",
       "      <td>(Bag of Organic Bananas)</td>\n",
       "      <td>0.005302</td>\n",
       "      <td>0.526316</td>\n",
       "      <td>4.726817</td>\n",
       "    </tr>\n",
       "    <tr>\n",
       "      <th>20</th>\n",
       "      <td>(Organic Avocado, Organic Red Onion)</td>\n",
       "      <td>(Limes)</td>\n",
       "      <td>0.004242</td>\n",
       "      <td>0.800000</td>\n",
       "      <td>16.764444</td>\n",
       "    </tr>\n",
       "    <tr>\n",
       "      <th>11</th>\n",
       "      <td>(Asparagus, Limes)</td>\n",
       "      <td>(Large Lemon)</td>\n",
       "      <td>0.004242</td>\n",
       "      <td>0.888889</td>\n",
       "      <td>14.328585</td>\n",
       "    </tr>\n",
       "    <tr>\n",
       "      <th>10</th>\n",
       "      <td>(Asparagus, Large Lemon)</td>\n",
       "      <td>(Limes)</td>\n",
       "      <td>0.004242</td>\n",
       "      <td>0.666667</td>\n",
       "      <td>13.970370</td>\n",
       "    </tr>\n",
       "    <tr>\n",
       "      <th>22</th>\n",
       "      <td>(Organic Garnet Sweet Potato (Yam), Limes)</td>\n",
       "      <td>(Organic Baby Spinach)</td>\n",
       "      <td>0.004242</td>\n",
       "      <td>0.800000</td>\n",
       "      <td>11.430303</td>\n",
       "    </tr>\n",
       "    <tr>\n",
       "      <th>21</th>\n",
       "      <td>(Organic Red Onion, Limes)</td>\n",
       "      <td>(Organic Avocado)</td>\n",
       "      <td>0.004242</td>\n",
       "      <td>0.500000</td>\n",
       "      <td>10.250000</td>\n",
       "    </tr>\n",
       "  </tbody>\n",
       "</table>\n",
       "</div>"
      ],
      "text/plain": [
       "                                          antecedents  \\\n",
       "14      (Bag of Organic Bananas, Organic Raspberries)   \n",
       "6                                       (Roma Tomato)   \n",
       "15        (Organic Hass Avocado, Organic Raspberries)   \n",
       "18                           (Organic Avocado, Limes)   \n",
       "16  (Organic Strawberries, Organic Large Extra Fan...   \n",
       "20               (Organic Avocado, Organic Red Onion)   \n",
       "11                                 (Asparagus, Limes)   \n",
       "10                           (Asparagus, Large Lemon)   \n",
       "22         (Organic Garnet Sweet Potato (Yam), Limes)   \n",
       "21                         (Organic Red Onion, Limes)   \n",
       "\n",
       "                 consequents   support  confidence       lift  \n",
       "14    (Organic Hass Avocado)  0.005832    0.500000   9.155340  \n",
       "6                   (Banana)  0.006893    0.500000   3.787149  \n",
       "15  (Bag of Organic Bananas)  0.005832    0.647059   5.811204  \n",
       "18             (Large Lemon)  0.004772    0.529412   8.533937  \n",
       "16  (Bag of Organic Bananas)  0.005302    0.526316   4.726817  \n",
       "20                   (Limes)  0.004242    0.800000  16.764444  \n",
       "11             (Large Lemon)  0.004242    0.888889  14.328585  \n",
       "10                   (Limes)  0.004242    0.666667  13.970370  \n",
       "22    (Organic Baby Spinach)  0.004242    0.800000  11.430303  \n",
       "21         (Organic Avocado)  0.004242    0.500000  10.250000  "
      ]
     },
     "execution_count": 35,
     "metadata": {},
     "output_type": "execute_result"
    }
   ],
   "source": [
    "# Run Apriori as instructed\n",
    "\n",
    "fi = apriori(orders_small, min_support=0.0035, use_colnames=True)\n",
    "\n",
    "rules_sm = association_rules(fi, metric='confidence', min_threshold=0.5).iloc[:,:-1].sort_values([\"leverage\"], ascending=False)\n",
    "\n",
    "q3e_df = rules_sm.iloc[:20,:]\n",
    "\n",
    "q3e_df.iloc[0:10, [0, 1, 4, 5, 6]]"
   ]
  },
  {
   "cell_type": "code",
   "execution_count": 36,
   "id": "7d3bc080",
   "metadata": {
    "deletable": false,
    "editable": false,
    "id": "7d3bc080"
   },
   "outputs": [
    {
     "data": {
      "text/html": [
       "<p><strong style='color: red;'><pre style='display: inline;'>q3e</pre> results:</strong></p><p><strong><pre style='display: inline;'>q3e - 1</pre> result:</strong></p><pre>    ✅ Test case passed</pre><p><strong><pre style='display: inline;'>q3e - 2</pre> result:</strong></p><pre>    ✅ Test case passed</pre><p><strong><pre style='display: inline;'>q3e - 3</pre> result:</strong></p><pre>    ✅ Test case passed</pre><p><strong><pre style='display: inline;'>q3e - 4</pre> result:</strong></p><pre>    ❌ Test case failed\n",
       "    Trying:\n",
       "        rules_sm.iloc[2,0] == frozenset({'Organic Unsalted Butter'})\n",
       "    Expecting:\n",
       "        True\n",
       "    **********************************************************************\n",
       "    Line 1, in q3e 3\n",
       "    Failed example:\n",
       "        rules_sm.iloc[2,0] == frozenset({'Organic Unsalted Butter'})\n",
       "    Expected:\n",
       "        True\n",
       "    Got:\n",
       "        False\n",
       "</pre><p><strong><pre style='display: inline;'>q3e - 5</pre> result:</strong></p><pre>    ❌ Test case failed\n",
       "    Trying:\n",
       "        rules_sm.iloc[23, 1] == frozenset({'Organic Baby Spinach'})\n",
       "    Expecting:\n",
       "        True\n",
       "    **********************************************************************\n",
       "    Line 1, in q3e 4\n",
       "    Failed example:\n",
       "        rules_sm.iloc[23, 1] == frozenset({'Organic Baby Spinach'})\n",
       "    Expected:\n",
       "        True\n",
       "    Got:\n",
       "        False\n",
       "</pre><p><strong><pre style='display: inline;'>q3e - 6</pre> result:</strong></p><pre>    ✅ Test case passed</pre><p><strong><pre style='display: inline;'>q3e - 7</pre> result:</strong></p><pre>    ✅ Test case passed</pre><p><strong><pre style='display: inline;'>q3e - 8</pre> result:</strong></p><pre>    ✅ Test case passed</pre><p><strong><pre style='display: inline;'>q3e - 9</pre> result:</strong></p><pre>    ✅ Test case passed</pre>"
      ],
      "text/plain": [
       "q3e results:\n",
       "    q3e - 1 result:\n",
       "        ✅ Test case passed\n",
       "\n",
       "    q3e - 2 result:\n",
       "        ✅ Test case passed\n",
       "\n",
       "    q3e - 3 result:\n",
       "        ✅ Test case passed\n",
       "\n",
       "    q3e - 4 result:\n",
       "        ❌ Test case failed\n",
       "        Trying:\n",
       "            rules_sm.iloc[2,0] == frozenset({'Organic Unsalted Butter'})\n",
       "        Expecting:\n",
       "            True\n",
       "        **********************************************************************\n",
       "        Line 1, in q3e 3\n",
       "        Failed example:\n",
       "            rules_sm.iloc[2,0] == frozenset({'Organic Unsalted Butter'})\n",
       "        Expected:\n",
       "            True\n",
       "        Got:\n",
       "            False\n",
       "\n",
       "    q3e - 5 result:\n",
       "        ❌ Test case failed\n",
       "        Trying:\n",
       "            rules_sm.iloc[23, 1] == frozenset({'Organic Baby Spinach'})\n",
       "        Expecting:\n",
       "            True\n",
       "        **********************************************************************\n",
       "        Line 1, in q3e 4\n",
       "        Failed example:\n",
       "            rules_sm.iloc[23, 1] == frozenset({'Organic Baby Spinach'})\n",
       "        Expected:\n",
       "            True\n",
       "        Got:\n",
       "            False\n",
       "\n",
       "    q3e - 6 result:\n",
       "        ✅ Test case passed\n",
       "\n",
       "    q3e - 7 result:\n",
       "        ✅ Test case passed\n",
       "\n",
       "    q3e - 8 result:\n",
       "        ✅ Test case passed\n",
       "\n",
       "    q3e - 9 result:\n",
       "        ✅ Test case passed"
      ]
     },
     "execution_count": 36,
     "metadata": {},
     "output_type": "execute_result"
    }
   ],
   "source": [
    "grader.check(\"q3e\")"
   ]
  },
  {
   "cell_type": "markdown",
   "id": "443bebcc",
   "metadata": {
    "id": "443bebcc"
   },
   "source": [
    "<!-- BEGIN QUESTION -->\n",
    "\n",
    "## Q3(f) - Apriori, part 2\n",
    "\n",
    "Create a scatterplot of the rules, plotting support vs. confidence colored by lift value. \n"
   ]
  },
  {
   "cell_type": "code",
   "execution_count": 37,
   "id": "e7b47b21",
   "metadata": {
    "id": "e7b47b21",
    "tags": []
   },
   "outputs": [
    {
     "data": {
      "text/plain": [
       "<matplotlib.colorbar.Colorbar at 0x7f4b3010ab50>"
      ]
     },
     "execution_count": 37,
     "metadata": {},
     "output_type": "execute_result"
    },
    {
     "data": {
      "image/png": "[encoded data removed]",
      "text/plain": [
       "<Figure size 640x480 with 2 Axes>"
      ]
     },
     "metadata": {},
     "output_type": "display_data"
    }
   ],
   "source": [
    "# Plot the results of Apriori\n",
    "\n",
    "plt.scatter(q3e_df[\"support\"],q3e_df[\"confidence\"], c=q3e_df[\"lift\"])\n",
    "plt.title(\"Support vs Confidence\")\n",
    "plt.xlabel(\"Support\")\n",
    "plt.ylabel(\"Confidence\")\n",
    "plt.colorbar(label=\"Lift\", orientation=\"vertical\")"
   ]
  },
  {
   "cell_type": "markdown",
   "id": "8ee1c690",
   "metadata": {
    "id": "8ee1c690"
   },
   "source": [
    "<!-- END QUESTION -->\n",
    "\n",
    "## Q3(g) - FPGrowth \n",
    "\n",
    "For the small dataset, use FPGrowth to find association rules, `rules_sm2` with a minimum support of 0.002 and confidence of 0.5.\n",
    "\n",
    "Store the top 20 rules sorted by leverage in `q3g_df`.\n",
    "\n",
    "Note, the minimum support level is much lower here than in Q3(e) for Apriori.  The FPGrowth compactly stores the information necessary to calculate the frequent item patterns."
   ]
  },
  {
   "cell_type": "code",
   "execution_count": 38,
   "id": "a8f14511",
   "metadata": {
    "id": "a8f14511",
    "tags": []
   },
   "outputs": [
    {
     "data": {
      "text/html": [
       "<div>\n",
       "<style scoped>\n",
       "    .dataframe tbody tr th:only-of-type {\n",
       "        vertical-align: middle;\n",
       "    }\n",
       "\n",
       "    .dataframe tbody tr th {\n",
       "        vertical-align: top;\n",
       "    }\n",
       "\n",
       "    .dataframe thead th {\n",
       "        text-align: right;\n",
       "    }\n",
       "</style>\n",
       "<table border=\"1\" class=\"dataframe\">\n",
       "  <thead>\n",
       "    <tr style=\"text-align: right;\">\n",
       "      <th></th>\n",
       "      <th>antecedents</th>\n",
       "      <th>consequents</th>\n",
       "      <th>support</th>\n",
       "      <th>confidence</th>\n",
       "      <th>lift</th>\n",
       "    </tr>\n",
       "  </thead>\n",
       "  <tbody>\n",
       "    <tr>\n",
       "      <th>37</th>\n",
       "      <td>(Bag of Organic Bananas, Organic Raspberries)</td>\n",
       "      <td>(Organic Hass Avocado)</td>\n",
       "      <td>0.005832</td>\n",
       "      <td>0.500000</td>\n",
       "      <td>9.155340</td>\n",
       "    </tr>\n",
       "    <tr>\n",
       "      <th>190</th>\n",
       "      <td>(Roma Tomato)</td>\n",
       "      <td>(Banana)</td>\n",
       "      <td>0.006893</td>\n",
       "      <td>0.500000</td>\n",
       "      <td>3.787149</td>\n",
       "    </tr>\n",
       "    <tr>\n",
       "      <th>38</th>\n",
       "      <td>(Organic Hass Avocado, Organic Raspberries)</td>\n",
       "      <td>(Bag of Organic Bananas)</td>\n",
       "      <td>0.005832</td>\n",
       "      <td>0.647059</td>\n",
       "      <td>5.811204</td>\n",
       "    </tr>\n",
       "    <tr>\n",
       "      <th>130</th>\n",
       "      <td>(Organic Avocado, Limes)</td>\n",
       "      <td>(Large Lemon)</td>\n",
       "      <td>0.004772</td>\n",
       "      <td>0.529412</td>\n",
       "      <td>8.533937</td>\n",
       "    </tr>\n",
       "    <tr>\n",
       "      <th>147</th>\n",
       "      <td>(Organic Strawberries, Organic Large Extra Fan...</td>\n",
       "      <td>(Bag of Organic Bananas)</td>\n",
       "      <td>0.005302</td>\n",
       "      <td>0.526316</td>\n",
       "      <td>4.726817</td>\n",
       "    </tr>\n",
       "    <tr>\n",
       "      <th>249</th>\n",
       "      <td>(Organic Avocado, Organic Red Onion)</td>\n",
       "      <td>(Limes)</td>\n",
       "      <td>0.004242</td>\n",
       "      <td>0.800000</td>\n",
       "      <td>16.764444</td>\n",
       "    </tr>\n",
       "    <tr>\n",
       "      <th>2</th>\n",
       "      <td>(Asparagus, Limes)</td>\n",
       "      <td>(Large Lemon)</td>\n",
       "      <td>0.004242</td>\n",
       "      <td>0.888889</td>\n",
       "      <td>14.328585</td>\n",
       "    </tr>\n",
       "    <tr>\n",
       "      <th>1</th>\n",
       "      <td>(Asparagus, Large Lemon)</td>\n",
       "      <td>(Limes)</td>\n",
       "      <td>0.004242</td>\n",
       "      <td>0.666667</td>\n",
       "      <td>13.970370</td>\n",
       "    </tr>\n",
       "    <tr>\n",
       "      <th>4</th>\n",
       "      <td>(Organic Garnet Sweet Potato (Yam), Limes)</td>\n",
       "      <td>(Organic Baby Spinach)</td>\n",
       "      <td>0.004242</td>\n",
       "      <td>0.800000</td>\n",
       "      <td>11.430303</td>\n",
       "    </tr>\n",
       "    <tr>\n",
       "      <th>250</th>\n",
       "      <td>(Organic Red Onion, Limes)</td>\n",
       "      <td>(Organic Avocado)</td>\n",
       "      <td>0.004242</td>\n",
       "      <td>0.500000</td>\n",
       "      <td>10.250000</td>\n",
       "    </tr>\n",
       "  </tbody>\n",
       "</table>\n",
       "</div>"
      ],
      "text/plain": [
       "                                           antecedents  \\\n",
       "37       (Bag of Organic Bananas, Organic Raspberries)   \n",
       "190                                      (Roma Tomato)   \n",
       "38         (Organic Hass Avocado, Organic Raspberries)   \n",
       "130                           (Organic Avocado, Limes)   \n",
       "147  (Organic Strawberries, Organic Large Extra Fan...   \n",
       "249               (Organic Avocado, Organic Red Onion)   \n",
       "2                                   (Asparagus, Limes)   \n",
       "1                             (Asparagus, Large Lemon)   \n",
       "4           (Organic Garnet Sweet Potato (Yam), Limes)   \n",
       "250                         (Organic Red Onion, Limes)   \n",
       "\n",
       "                  consequents   support  confidence       lift  \n",
       "37     (Organic Hass Avocado)  0.005832    0.500000   9.155340  \n",
       "190                  (Banana)  0.006893    0.500000   3.787149  \n",
       "38   (Bag of Organic Bananas)  0.005832    0.647059   5.811204  \n",
       "130             (Large Lemon)  0.004772    0.529412   8.533937  \n",
       "147  (Bag of Organic Bananas)  0.005302    0.526316   4.726817  \n",
       "249                   (Limes)  0.004242    0.800000  16.764444  \n",
       "2               (Large Lemon)  0.004242    0.888889  14.328585  \n",
       "1                     (Limes)  0.004242    0.666667  13.970370  \n",
       "4      (Organic Baby Spinach)  0.004242    0.800000  11.430303  \n",
       "250         (Organic Avocado)  0.004242    0.500000  10.250000  "
      ]
     },
     "execution_count": 38,
     "metadata": {},
     "output_type": "execute_result"
    }
   ],
   "source": [
    "# Run FPGrowth as instructed\n",
    "\n",
    "# Generate frequent itemsets with a minimum support of 0.0035 using the FP-Growth algorithm\n",
    "fi = fpgrowth(orders_small, min_support=0.002, use_colnames=True)\n",
    "\n",
    "# Generate association rules with a minimum confidence of 0.5\n",
    "rules_sm2 = association_rules(fi, metric='confidence', min_threshold=0.5).sort_values([\"leverage\"], ascending=False).iloc[:,:-1]\n",
    "\n",
    "# Sort the association rules by leverage \n",
    "q3g_df = rules_sm2.iloc[:20,:]\n",
    "\n",
    "\n",
    "q3g_df.iloc[0:10, [0, 1, 4, 5, 6]]"
   ]
  },
  {
   "cell_type": "code",
   "execution_count": 39,
   "id": "c00c742f",
   "metadata": {
    "deletable": false,
    "editable": false,
    "id": "c00c742f"
   },
   "outputs": [
    {
     "data": {
      "text/html": [
       "<p><strong><pre style='display: inline;'>q3g</pre></strong> passed! 🙌</p>"
      ],
      "text/plain": [
       "q3g results: All test cases passed!"
      ]
     },
     "execution_count": 39,
     "metadata": {},
     "output_type": "execute_result"
    }
   ],
   "source": [
    "grader.check(\"q3g\")"
   ]
  },
  {
   "cell_type": "code",
   "execution_count": null,
   "id": "7f458ade",
   "metadata": {},
   "outputs": [],
   "source": []
  }
 ],
 "metadata": {
  "colab": {
   "provenance": []
  },
  "kernelspec": {
   "display_name": "cs4821",
   "language": "python",
   "name": "cs4821"
  },
  "language_info": {
   "codemirror_mode": {
    "name": "ipython",
    "version": 3
   },
   "file_extension": ".py",
   "mimetype": "text/x-python",
   "name": "python",
   "nbconvert_exporter": "python",
   "pygments_lexer": "ipython3",
   "version": "3.8.10"
  },
  "otter": {
   "OK_FORMAT": true,
   "assignment_name": "a4",
   "tests": {
    "q0": {
     "name": "q0",
     "points": 2,
     "suites": [
      {
       "cases": [
        {
         "code": ">>> COLAB == False\nTrue",
         "hidden": false,
         "locked": false
        },
        {
         "code": ">>> LLM == True | GS == True\nTrue",
         "hidden": false,
         "locked": false
        }
       ],
       "scored": true,
       "setup": "",
       "teardown": "",
       "type": "doctest"
      }
     ]
    },
    "q1a": {
     "name": "q1a",
     "points": 3,
     "suites": [
      {
       "cases": [
        {
         "code": ">>> q1df.shape == (571, 59)\nTrue",
         "hidden": false,
         "locked": false
        },
        {
         "code": ">>> all(q1df.columns[[1, 4, 39, 34, 24]] == ['Jersey Number', 'Nationality', 'Assists', \n...                                  'Successful 50/50s', 'Tackle success %'])\nTrue",
         "hidden": false,
         "locked": false
        },
        {
         "code": ">>> all(q1df.iloc[433, 5:10] == [34.0, 28, 7, 13, 3])\nTrue",
         "hidden": false,
         "locked": false
        }
       ],
       "scored": true,
       "setup": "",
       "teardown": "",
       "type": "doctest"
      }
     ]
    },
    "q1b": {
     "name": "q1b",
     "points": 5,
     "suites": [
      {
       "cases": [
        {
         "code": ">>> q1df.shape == (126, 45)\nTrue",
         "hidden": false,
         "locked": false
        },
        {
         "code": ">>> all(q1df.columns[[9, 17, 39, 41]] == ['Goals', 'Shooting accuracy %', \n...                                       'Through balls', 'Yellow cards'])\nTrue",
         "hidden": false,
         "locked": false
        },
        {
         "code": ">>> all(q1df.iloc[[5, 23, 45],0] == ['Matteo Guendouzi', 'Robbie Brady', \n...                                  'Jean Michael Seri'])\nTrue",
         "hidden": false,
         "locked": false
        },
        {
         "code": ">>> all(q1df.iloc[[49, 90, 23], 9] == [2, 3, 9])\nTrue",
         "hidden": false,
         "locked": false
        },
        {
         "code": ">>> all(q1df.iloc[[120, 30, 45, 1, 38], 37] == [39.0, 138.0, 108.0, 40.0, 8.0])\nTrue",
         "hidden": false,
         "locked": false
        }
       ],
       "scored": true,
       "setup": "",
       "teardown": "",
       "type": "doctest"
      }
     ]
    },
    "q1c": {
     "name": "q1c",
     "points": 5,
     "suites": [
      {
       "cases": [
        {
         "code": ">>> football.shape == (126, 38)\nTrue",
         "hidden": false,
         "locked": false
        },
        {
         "code": ">>> all(np.isclose(football.mean(axis=0), 0))\nTrue",
         "hidden": false,
         "locked": false
        }
       ],
       "scored": true,
       "setup": "",
       "teardown": "",
       "type": "doctest"
      }
     ]
    },
    "q1d": {
     "name": "q1d",
     "points": 15,
     "suites": [
      {
       "cases": [],
       "scored": true,
       "setup": "",
       "teardown": "",
       "type": "doctest"
      }
     ]
    },
    "q1e": {
     "name": "q1e",
     "points": 2,
     "suites": [
      {
       "cases": [
        {
         "code": ">>> bestk == 5\nTrue",
         "hidden": false,
         "locked": false
        }
       ],
       "scored": true,
       "setup": "",
       "teardown": "",
       "type": "doctest"
      }
     ]
    },
    "q1f": {
     "name": "q1f",
     "points": 10,
     "suites": [
      {
       "cases": [
        {
         "code": ">>> clusterStats.shape == (5, 39)\nTrue",
         "hidden": false,
         "locked": false
        },
        {
         "code": ">>> all(clusterStats.columns == ['Wins', 'Losses', 'Goals', 'Headed goals', \n...                              'Goals with right foot',\n...        'Goals with left foot', 'Penalties scored', 'Freekicks scored', 'Shots',\n...        'Shots on target', 'Shooting accuracy %', 'Hit woodwork',\n...        'Big chances missed', 'Tackles', 'Tackle success %', 'Blocked shots',\n...        'Interceptions', 'Clearances', 'Headed Clearance', 'Recoveries',\n...        'Duels won', 'Duels lost', 'Successful 50/50s', 'Aerial battles won',\n...        'Aerial battles lost', 'Errors leading to goal', 'Assists', 'Passes',\n...        'Passes per match', 'Big chances created', 'Crosses',\n...        'Cross accuracy %', 'Through balls', 'Accurate long balls',\n...        'Yellow cards', 'Red cards', 'Fouls', 'Offsides', 'Num'])\nTrue",
         "hidden": false,
         "locked": false
        }
       ],
       "scored": true,
       "setup": "",
       "teardown": "",
       "type": "doctest"
      }
     ]
    },
    "q2a": {
     "name": "q2a",
     "points": 4,
     "suites": [
      {
       "cases": [
        {
         "code": ">>> music.shape == (100, 17)\nTrue",
         "hidden": false,
         "locked": false
        },
        {
         "code": ">>> all(music.columns == ['Song', 'Artist', 'Streams (Billions)', 'Release Date', 'id',\n...        'duration', 'energy', 'key', 'loudness', 'mode', 'speechiness',\n...        'acousticness', 'instrumentalness', 'liveness', 'valence', 'tempo',\n...        'danceability'])\nTrue",
         "hidden": false,
         "locked": false
        }
       ],
       "scored": true,
       "setup": "",
       "teardown": "",
       "type": "doctest"
      }
     ]
    },
    "q2b": {
     "name": "q2b",
     "points": 9,
     "suites": [
      {
       "cases": [
        {
         "code": ">>> dg_single['leaves'][1:5] == [23, 11, 14, 21]\nTrue",
         "hidden": false,
         "locked": false
        },
        {
         "code": ">>> dg_single['leaves'][20:24] == [8, 19, 25, 4]\nTrue",
         "hidden": false,
         "locked": false
        },
        {
         "code": ">>> dg_single['leaves'][10:15] == [10, 13, 2, 5, 3]\nTrue",
         "hidden": false,
         "locked": false
        }
       ],
       "scored": true,
       "setup": "",
       "teardown": "",
       "type": "doctest"
      }
     ]
    },
    "q2c": {
     "name": "q2c",
     "points": 9,
     "suites": [
      {
       "cases": [
        {
         "code": ">>> dg_complete['leaves'][1:5] == [1, 2, 3, 5]\nTrue",
         "hidden": false,
         "locked": false
        },
        {
         "code": ">>> dg_complete['leaves'][10:15] == [27, 11, 13, 6, 20]\nTrue",
         "hidden": false,
         "locked": false
        },
        {
         "code": ">>> dg_complete['leaves'][23:27] == [22, 16, 26, 7]\nTrue",
         "hidden": false,
         "locked": false
        }
       ],
       "scored": true,
       "setup": "",
       "teardown": "",
       "type": "doctest"
      }
     ]
    },
    "q2d": {
     "name": "q2d",
     "points": 9,
     "suites": [
      {
       "cases": [
        {
         "code": ">>> dg_average['leaves'][1:5] == [15, 28, 23, 8]\nTrue",
         "hidden": false,
         "locked": false
        },
        {
         "code": ">>> dg_average['leaves'][10:15] == [20, 3, 5, 13, 22]\nTrue",
         "hidden": false,
         "locked": false
        },
        {
         "code": ">>> dg_average['leaves'][24:29] == [10, 11, 14, 27, 0]\nTrue",
         "hidden": false,
         "locked": false
        }
       ],
       "scored": true,
       "setup": "",
       "teardown": "",
       "type": "doctest"
      }
     ]
    },
    "q3a": {
     "name": "q3a",
     "points": 10,
     "suites": [
      {
       "cases": [
        {
         "code": ">>> orders_small.shape == (1886, 7338)\nTrue",
         "hidden": false,
         "locked": false
        },
        {
         "code": ">>> all(orders_small.columns[[5, 15, 103, 987]] == ['1 Apple + 1 Pear Fruit Bar', \n...     '10 Grain Pancake & Waffle Mix',\n...     '2% Milkfat Greek Yogurt Key Lime Blended', \n...     'Cheese Curls'])\nTrue",
         "hidden": false,
         "locked": false
        },
        {
         "code": ">>> all(orders_small.iloc[10,34:40] == [False, False, False, False, False, False])\nTrue",
         "hidden": false,
         "locked": false
        },
        {
         "code": ">>> all(orders_small.iloc[59, 100:110] == [False, False, False, False, False, \n...                                        False, True, False, False, False])\nTrue",
         "hidden": false,
         "locked": false
        },
        {
         "code": ">>> all(orders_small.iloc[190:200, 500] == [False, False, True, False, True,  \n...                                         False, False, False, False, False])\nTrue",
         "hidden": false,
         "locked": false
        }
       ],
       "scored": true,
       "setup": "",
       "teardown": "",
       "type": "doctest"
      }
     ]
    },
    "q3b": {
     "name": "q3b",
     "points": 4,
     "suites": [
      {
       "cases": [
        {
         "code": ">>> np.isclose(mn_num_sm, 10.6049840933191)\nTrue",
         "hidden": false,
         "locked": false
        }
       ],
       "scored": true,
       "setup": "",
       "teardown": "",
       "type": "doctest"
      }
     ]
    },
    "q3e": {
     "name": "q3e",
     "points": [
      1,
      1,
      2,
      2,
      2,
      2,
      2,
      2,
      2
     ],
     "suites": [
      {
       "cases": [
        {
         "code": ">>> rules_sm.shape == (24, 9)\nTrue",
         "hidden": false,
         "locked": false
        },
        {
         "code": ">>> all(rules_sm.columns == ['antecedents', 'consequents', 'antecedent support',\n...        'consequent support', 'support', 'confidence', 'lift', 'leverage',\n...        'conviction'])\nTrue",
         "hidden": false,
         "locked": false
        },
        {
         "code": ">>> q3e_df.iloc[5, 1] == frozenset({'Limes'})\nTrue",
         "hidden": false,
         "locked": false
        },
        {
         "code": ">>> rules_sm.iloc[2,0] == frozenset({'Organic Unsalted Butter'})\nTrue",
         "hidden": false,
         "locked": false
        },
        {
         "code": ">>> rules_sm.iloc[23, 1] == frozenset({'Organic Baby Spinach'})\nTrue",
         "hidden": false,
         "locked": false
        },
        {
         "code": ">>> q3e_df.iloc[15, 0] == frozenset({'Organic Hass Avocado', \n...                                  'Organic Large Extra Fancy Fuji Apple'})\nTrue",
         "hidden": false,
         "locked": false
        },
        {
         "code": ">>> all(np.isclose(q3e_df.iloc[1:5, 5], [0.500000, 0.647059, 0.529412, 0.526316]))\nTrue",
         "hidden": false,
         "locked": false
        },
        {
         "code": ">>> all(np.isclose(q3e_df.iloc[13:17, 6], [12.224074, 9.092287, 7.858333, 6.985185]))\nTrue",
         "hidden": false,
         "locked": false
        },
        {
         "code": ">>> all(np.isclose(q3e_df.iloc[0:4, 7], [0.005195, 0.005073, 0.004829, 0.004213], 1e-4))\nTrue",
         "hidden": false,
         "locked": false
        }
       ],
       "scored": true,
       "setup": "",
       "teardown": "",
       "type": "doctest"
      }
     ]
    },
    "q3g": {
     "name": "q3g",
     "points": [
      1,
      1,
      2,
      2,
      2,
      2,
      2,
      2,
      2
     ],
     "suites": [
      {
       "cases": [
        {
         "code": ">>> rules_sm2.shape == (340, 9)\nTrue",
         "hidden": false,
         "locked": false
        },
        {
         "code": ">>> all(rules_sm2.columns == ['antecedents', 'consequents', 'antecedent support',\n...        'consequent support', 'support', 'confidence', 'lift', 'leverage',\n...        'conviction'])\nTrue",
         "hidden": false,
         "locked": false
        },
        {
         "code": ">>> q3g_df.iloc[0, 0] == frozenset({'Bag of Organic Bananas', 'Organic Raspberries'})\nTrue",
         "hidden": false,
         "locked": false
        },
        {
         "code": ">>> q3g_df.iloc[5, 1] == frozenset({'Limes'})\nTrue",
         "hidden": false,
         "locked": false
        },
        {
         "code": ">>> q3g_df.iloc[4, 0] == frozenset({'Organic Large Extra Fancy Fuji Apple', \n...                                 'Organic Strawberries'})\nTrue",
         "hidden": false,
         "locked": false
        },
        {
         "code": ">>> q3g_df.iloc[16, 1] == frozenset({'Bag of Organic Bananas'})\nTrue",
         "hidden": false,
         "locked": false
        },
        {
         "code": ">>> all(np.isclose(q3g_df.iloc[5:9, 4], \n...                [0.004242, 0.004242, 0.004242, 0.004242], 1e-4))\nTrue",
         "hidden": false,
         "locked": false
        },
        {
         "code": ">>> all(np.isclose(q3g_df.iloc[13:16, 6], [12.224074, 9.092287, 7.858333]))\nTrue",
         "hidden": false,
         "locked": false
        },
        {
         "code": ">>> all(np.isclose(q3g_df.iloc[2:5, 5], [0.647059, 0.529412, 0.526316]))\nTrue",
         "hidden": false,
         "locked": false
        }
       ],
       "scored": true,
       "setup": "",
       "teardown": "",
       "type": "doctest"
      }
     ]
    }
   }
  }
 },
 "nbformat": 4,
 "nbformat_minor": 5
}
