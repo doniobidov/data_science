{
 "cells": [
  {
   "cell_type": "markdown",
   "id": "20a2caad",
   "metadata": {
    "id": "20a2caad"
   },
   "source": [
    "# A3 - Python\n",
    "\n",
    "This assignment will cover topics of classification, dimensionality reduction, and text mining.\n",
    "\n",
    "Make sure that you keep this notebook named as \"a3.ipynb\" \n",
    "\n",
    "Any other packages or tools, outside those listed in the assignments or Canvas, should be cleared\n",
    "by Dr. Brown before use in your submission."
   ]
  },
  {
   "cell_type": "markdown",
   "id": "7b2ec973",
   "metadata": {
    "id": "7b2ec973"
   },
   "source": [
    "# Q0 - Setup\n",
    "\n",
    "The following code looks to see whether your notebook is run on Gradescope (GS), Colab (COLAB), or the linux Python environment you were asked to setup."
   ]
  },
  {
   "cell_type": "code",
   "execution_count": 63,
   "id": "c2461b0a",
   "metadata": {
    "colab": {
     "base_uri": "https://localhost:8080/"
    },
    "executionInfo": {
     "elapsed": 183,
     "status": "ok",
     "timestamp": 1681525182728,
     "user": {
      "displayName": "Doni Obidov",
      "userId": "06928243585112473649"
     },
     "user_tz": 240
    },
    "id": "c2461b0a",
    "outputId": "6653792f-19c8-42a5-ed00-774446b50707",
    "tags": []
   },
   "outputs": [
    {
     "name": "stdout",
     "output_type": "stream",
     "text": [
      "System: GS - False, COLAB - False, LLM - False\n"
     ]
    }
   ],
   "source": [
    "import re \n",
    "import os\n",
    "import platform \n",
    "import sys \n",
    "\n",
    "# flag if notebook is running on Gradescope \n",
    "if re.search(r'amzn', platform.uname().release): \n",
    "    GS = True\n",
    "else: \n",
    "    GS = False\n",
    "\n",
    "# flag if notebook is running on Colaboratory \n",
    "try:\n",
    "  import google.colab\n",
    "  COLAB = True\n",
    "except:\n",
    "  COLAB = False\n",
    "\n",
    "# flag if running on Linux lab machines. \n",
    "cname = platform.uname().node\n",
    "if re.search(r'(guardian|colossus|c28|lebrown)', cname):\n",
    "    LLM = True \n",
    "else: \n",
    "    LLM = False\n",
    "\n",
    "print(\"System: GS - %s, COLAB - %s, LLM - %s\" % (GS, COLAB, LLM))"
   ]
  },
  {
   "cell_type": "markdown",
   "id": "48541008",
   "metadata": {
    "id": "48541008"
   },
   "source": [
    "## Notebook Setup\n",
    "\n",
    "It is good practice to list all imports needed at the top of the notebook. You can import modules in later cells as needed, but listing them at the top clearly shows all which are needed to be available / installed.\n",
    "\n",
    "If you are doing development on Colab, the otter-grader package is not available, so you will need to install it with pip (uncomment the cell directly below)."
   ]
  },
  {
   "cell_type": "code",
   "execution_count": 64,
   "id": "c62e5d49",
   "metadata": {
    "colab": {
     "base_uri": "https://localhost:8080/"
    },
    "executionInfo": {
     "elapsed": 3592,
     "status": "ok",
     "timestamp": 1681525207928,
     "user": {
      "displayName": "Doni Obidov",
      "userId": "06928243585112473649"
     },
     "user_tz": 240
    },
    "id": "c62e5d49",
    "outputId": "99eee470-32cf-43c6-f42a-5accc19a32bc"
   },
   "outputs": [],
   "source": [
    "# Only uncomment if you developing on Colab \n",
    "#if COLAB == True: \n",
    "#    print(\"Installing otter:\")\n",
    "#    !pip install otter-grader==4.2.0 "
   ]
  },
  {
   "cell_type": "code",
   "execution_count": 65,
   "id": "164a4b55",
   "metadata": {
    "colab": {
     "base_uri": "https://localhost:8080/",
     "height": 345
    },
    "executionInfo": {
     "elapsed": 238,
     "status": "error",
     "timestamp": 1681525215435,
     "user": {
      "displayName": "Doni Obidov",
      "userId": "06928243585112473649"
     },
     "user_tz": 240
    },
    "id": "164a4b55",
    "outputId": "ec8411f9-a49f-43b3-b9da-1967182cc64f"
   },
   "outputs": [],
   "source": [
    "# Import standard DS packages \n",
    "import pandas as pd\n",
    "import numpy as np\n",
    "import matplotlib as mpl\n",
    "import matplotlib.pyplot as plt\n",
    "import seaborn as sns\n",
    "import math\n",
    "import scipy\n",
    "import statistics\n",
    "import textwrap\n",
    "%matplotlib inline\n",
    "\n",
    "\n",
    "from sklearn.model_selection import train_test_split, StratifiedKFold \n",
    "from sklearn.preprocessing import StandardScaler, MinMaxScaler\n",
    "from sklearn.pipeline import Pipeline, make_pipeline\n",
    "from sklearn.model_selection import GridSearchCV\n",
    "from sklearn import tree        # decision tree classifier\n",
    "from sklearn import neighbors   # knn classifier\n",
    "from sklearn import naive_bayes # naive bayes classifier \n",
    "from sklearn import svm         # svm classifier\n",
    "from sklearn import ensemble    # ensemble classifiers\n",
    "from sklearn import metrics     # performance evaluation metrics\n",
    "from sklearn import model_selection\n",
    "from sklearn import preprocessing \n",
    "from sklearn.decomposition import PCA\n",
    "from sklearn.datasets import load_files\n",
    "from sklearn.feature_extraction.text import CountVectorizer\n",
    "from sklearn.feature_extraction.text import TfidfVectorizer, TfidfTransformer\n",
    "\n",
    "# Package for Autograder \n",
    "import otter \n",
    "grader = otter.Notebook()"
   ]
  },
  {
   "cell_type": "code",
   "execution_count": 66,
   "id": "8a9fe366",
   "metadata": {
    "colab": {
     "base_uri": "https://localhost:8080/",
     "height": 165
    },
    "deletable": false,
    "editable": false,
    "executionInfo": {
     "elapsed": 224,
     "status": "error",
     "timestamp": 1681525221144,
     "user": {
      "displayName": "Doni Obidov",
      "userId": "06928243585112473649"
     },
     "user_tz": 240
    },
    "id": "8a9fe366",
    "outputId": "726ed0fb-f8fa-4acc-a955-f3addbc3ae25"
   },
   "outputs": [
    {
     "data": {
      "text/html": [
       "<p><strong style='color: red;'><pre style='display: inline;'>q0</pre> results:</strong></p><p><strong><pre style='display: inline;'>q0 - 1</pre> result:</strong></p><pre>    ✅ Test case passed</pre><p><strong><pre style='display: inline;'>q0 - 2</pre> result:</strong></p><pre>    ❌ Test case failed\n",
       "    Trying:\n",
       "        LLM == True | GS == True\n",
       "    Expecting:\n",
       "        True\n",
       "    **********************************************************************\n",
       "    Line 1, in q0 1\n",
       "    Failed example:\n",
       "        LLM == True | GS == True\n",
       "    Expected:\n",
       "        True\n",
       "    Got:\n",
       "        False\n",
       "</pre>"
      ],
      "text/plain": [
       "q0 results:\n",
       "    q0 - 1 result:\n",
       "        ✅ Test case passed\n",
       "\n",
       "    q0 - 2 result:\n",
       "        ❌ Test case failed\n",
       "        Trying:\n",
       "            LLM == True | GS == True\n",
       "        Expecting:\n",
       "            True\n",
       "        **********************************************************************\n",
       "        Line 1, in q0 1\n",
       "        Failed example:\n",
       "            LLM == True | GS == True\n",
       "        Expected:\n",
       "            True\n",
       "        Got:\n",
       "            False"
      ]
     },
     "execution_count": 66,
     "metadata": {},
     "output_type": "execute_result"
    }
   ],
   "source": [
    "grader.check(\"q0\")"
   ]
  },
  {
   "cell_type": "markdown",
   "id": "a71219a6",
   "metadata": {
    "id": "a71219a6"
   },
   "source": [
    "# Q1 - Pokemon Data \n",
    "\n",
    "Consider the following data set of Pokemon (collected from several sources, pokemon.com, pokemondb, bulbapedia). \n",
    "\n"
   ]
  },
  {
   "cell_type": "markdown",
   "id": "a3f52375",
   "metadata": {
    "id": "a3f52375"
   },
   "source": [
    "## Q1(a) - Load the data \n",
    "\n",
    "Load the Pokemon data into a Data Frame, `pok`, consider how to read in missing data."
   ]
  },
  {
   "cell_type": "code",
   "execution_count": 67,
   "id": "af240a41",
   "metadata": {
    "colab": {
     "base_uri": "https://localhost:8080/",
     "height": 206
    },
    "executionInfo": {
     "elapsed": 169,
     "status": "ok",
     "timestamp": 1681525604471,
     "user": {
      "displayName": "Doni Obidov",
      "userId": "06928243585112473649"
     },
     "user_tz": 240
    },
    "id": "af240a41",
    "outputId": "c7554fbd-63d4-40ea-853f-34aa3637e7fe",
    "tags": []
   },
   "outputs": [
    {
     "data": {
      "text/html": [
       "<div>\n",
       "<style scoped>\n",
       "    .dataframe tbody tr th:only-of-type {\n",
       "        vertical-align: middle;\n",
       "    }\n",
       "\n",
       "    .dataframe tbody tr th {\n",
       "        vertical-align: top;\n",
       "    }\n",
       "\n",
       "    .dataframe thead th {\n",
       "        text-align: right;\n",
       "    }\n",
       "</style>\n",
       "<table border=\"1\" class=\"dataframe\">\n",
       "  <thead>\n",
       "    <tr style=\"text-align: right;\">\n",
       "      <th></th>\n",
       "      <th>Num</th>\n",
       "      <th>Name</th>\n",
       "      <th>Type1</th>\n",
       "      <th>Type2</th>\n",
       "      <th>Total</th>\n",
       "      <th>HP</th>\n",
       "      <th>Attack</th>\n",
       "      <th>Defense</th>\n",
       "      <th>SpAtk</th>\n",
       "      <th>SpDef</th>\n",
       "      <th>Speed</th>\n",
       "      <th>Generation</th>\n",
       "      <th>Legendary</th>\n",
       "    </tr>\n",
       "  </thead>\n",
       "  <tbody>\n",
       "    <tr>\n",
       "      <th>0</th>\n",
       "      <td>1</td>\n",
       "      <td>Bulbasaur</td>\n",
       "      <td>Grass</td>\n",
       "      <td>Poison</td>\n",
       "      <td>318</td>\n",
       "      <td>45</td>\n",
       "      <td>49</td>\n",
       "      <td>49</td>\n",
       "      <td>65</td>\n",
       "      <td>65</td>\n",
       "      <td>45</td>\n",
       "      <td>1</td>\n",
       "      <td>False</td>\n",
       "    </tr>\n",
       "    <tr>\n",
       "      <th>1</th>\n",
       "      <td>2</td>\n",
       "      <td>Ivysaur</td>\n",
       "      <td>Grass</td>\n",
       "      <td>Poison</td>\n",
       "      <td>405</td>\n",
       "      <td>60</td>\n",
       "      <td>62</td>\n",
       "      <td>63</td>\n",
       "      <td>80</td>\n",
       "      <td>80</td>\n",
       "      <td>60</td>\n",
       "      <td>1</td>\n",
       "      <td>False</td>\n",
       "    </tr>\n",
       "    <tr>\n",
       "      <th>2</th>\n",
       "      <td>3</td>\n",
       "      <td>Venusaur</td>\n",
       "      <td>Grass</td>\n",
       "      <td>Poison</td>\n",
       "      <td>525</td>\n",
       "      <td>80</td>\n",
       "      <td>82</td>\n",
       "      <td>83</td>\n",
       "      <td>100</td>\n",
       "      <td>100</td>\n",
       "      <td>80</td>\n",
       "      <td>1</td>\n",
       "      <td>False</td>\n",
       "    </tr>\n",
       "    <tr>\n",
       "      <th>3</th>\n",
       "      <td>3</td>\n",
       "      <td>VenusaurMega Venusaur</td>\n",
       "      <td>Grass</td>\n",
       "      <td>Poison</td>\n",
       "      <td>625</td>\n",
       "      <td>80</td>\n",
       "      <td>100</td>\n",
       "      <td>123</td>\n",
       "      <td>122</td>\n",
       "      <td>120</td>\n",
       "      <td>80</td>\n",
       "      <td>1</td>\n",
       "      <td>False</td>\n",
       "    </tr>\n",
       "    <tr>\n",
       "      <th>4</th>\n",
       "      <td>4</td>\n",
       "      <td>Charmander</td>\n",
       "      <td>Fire</td>\n",
       "      <td>NaN</td>\n",
       "      <td>309</td>\n",
       "      <td>39</td>\n",
       "      <td>52</td>\n",
       "      <td>43</td>\n",
       "      <td>60</td>\n",
       "      <td>50</td>\n",
       "      <td>65</td>\n",
       "      <td>1</td>\n",
       "      <td>False</td>\n",
       "    </tr>\n",
       "  </tbody>\n",
       "</table>\n",
       "</div>"
      ],
      "text/plain": [
       "   Num                   Name  Type1   Type2  Total  HP  Attack  Defense  \\\n",
       "0    1              Bulbasaur  Grass  Poison    318  45      49       49   \n",
       "1    2                Ivysaur  Grass  Poison    405  60      62       63   \n",
       "2    3               Venusaur  Grass  Poison    525  80      82       83   \n",
       "3    3  VenusaurMega Venusaur  Grass  Poison    625  80     100      123   \n",
       "4    4             Charmander   Fire     NaN    309  39      52       43   \n",
       "\n",
       "   SpAtk  SpDef  Speed  Generation  Legendary  \n",
       "0     65     65     45           1      False  \n",
       "1     80     80     60           1      False  \n",
       "2    100    100     80           1      False  \n",
       "3    122    120     80           1      False  \n",
       "4     60     50     65           1      False  "
      ]
     },
     "execution_count": 67,
     "metadata": {},
     "output_type": "execute_result"
    }
   ],
   "source": [
    "# Read in Pokemon data\n",
    "pok = pd.read_csv('data/Pokemon.csv', na_values=['NA', 'N/A', ''])\n",
    "\n",
    "pok.head()"
   ]
  },
  {
   "cell_type": "code",
   "execution_count": 68,
   "id": "b1588274",
   "metadata": {
    "colab": {
     "base_uri": "https://localhost:8080/",
     "height": 165
    },
    "deletable": false,
    "editable": false,
    "executionInfo": {
     "elapsed": 136,
     "status": "error",
     "timestamp": 1681525611433,
     "user": {
      "displayName": "Doni Obidov",
      "userId": "06928243585112473649"
     },
     "user_tz": 240
    },
    "id": "b1588274",
    "outputId": "24d517f2-f905-4573-b22f-98571df6b8f6"
   },
   "outputs": [
    {
     "data": {
      "text/html": [
       "<p><strong><pre style='display: inline;'>q1a</pre></strong> passed! 💯</p>"
      ],
      "text/plain": [
       "q1a results: All test cases passed!"
      ]
     },
     "execution_count": 68,
     "metadata": {},
     "output_type": "execute_result"
    }
   ],
   "source": [
    "grader.check(\"q1a\")"
   ]
  },
  {
   "cell_type": "markdown",
   "id": "20f5f3a7",
   "metadata": {
    "id": "20f5f3a7"
   },
   "source": [
    "<!-- BEGIN QUESTION -->\n",
    "\n",
    "## Q1(b) - Explore the Data \n",
    "\n",
    "Look at the distribution of Pokemon skills we will use in this analysis: `HP`, `Attack`, `Defense`, `SpAtk` - Special Attack, `SpDef` - Special Defense, and `Speed`. \n",
    "\n",
    "Create a violinplot showing the distribution of these variables. \n"
   ]
  },
  {
   "cell_type": "code",
   "execution_count": 69,
   "id": "6fa966f5",
   "metadata": {
    "colab": {
     "base_uri": "https://localhost:8080/",
     "height": 472
    },
    "executionInfo": {
     "elapsed": 458,
     "status": "ok",
     "timestamp": 1681526238694,
     "user": {
      "displayName": "Doni Obidov",
      "userId": "06928243585112473649"
     },
     "user_tz": 240
    },
    "id": "6fa966f5",
    "outputId": "52f93e3b-debf-4280-d423-5f71682e26e1",
    "tags": []
   },
   "outputs": [
    {
     "data": {
      "image/png": "[encoded data removed]",
      "text/plain": [
       "<Figure size 640x480 with 1 Axes>"
      ]
     },
     "metadata": {},
     "output_type": "display_data"
    }
   ],
   "source": [
    "# Pokemon skills to plot\n",
    "skills = ['HP', 'Attack', 'Defense', 'SpAtk', 'SpDef', 'Speed']\n",
    "# Create violinplot\n",
    "sns.violinplot(data=pok[skills])\n",
    "# Set the plot title and axis labels\n",
    "plt.title('Distribution of Pokemon Skills')\n",
    "plt.ylabel('Skill Level')\n",
    "plt.xlabel('Pokemon Skill')\n",
    "# Show the plot\n",
    "plt.show();"
   ]
  },
  {
   "cell_type": "markdown",
   "id": "b6d786dd",
   "metadata": {
    "id": "b6d786dd"
   },
   "source": [
    "<!-- END QUESTION -->\n",
    "\n",
    "## Q1(c) - Prepare the data \n",
    "\n",
    "The six features (Pokemon Skills) have different ranges, therefore we should scale the data before considering PCA. Standardize the data over the six features of interest, store this in `pokScaled`."
   ]
  },
  {
   "cell_type": "code",
   "execution_count": 70,
   "id": "b14be7c8",
   "metadata": {
    "colab": {
     "base_uri": "https://localhost:8080/",
     "height": 206
    },
    "executionInfo": {
     "elapsed": 156,
     "status": "ok",
     "timestamp": 1681526578679,
     "user": {
      "displayName": "Doni Obidov",
      "userId": "06928243585112473649"
     },
     "user_tz": 240
    },
    "id": "b14be7c8",
    "outputId": "e91782f3-92b7-408b-b851-fc8c61c16ff9",
    "tags": []
   },
   "outputs": [],
   "source": [
    "# Pokemon skills to standardize\n",
    "skills = ['HP', 'Attack', 'Defense', 'SpAtk', 'SpDef', 'Speed']\n",
    "\n",
    "# Scale the data \n",
    "pokScaled = StandardScaler().fit_transform(pok[skills])"
   ]
  },
  {
   "cell_type": "code",
   "execution_count": 71,
   "id": "3381a36d",
   "metadata": {
    "deletable": false,
    "editable": false,
    "id": "3381a36d"
   },
   "outputs": [
    {
     "data": {
      "text/html": [
       "<p><strong><pre style='display: inline;'>q1c</pre></strong> passed! 🌈</p>"
      ],
      "text/plain": [
       "q1c results: All test cases passed!"
      ]
     },
     "execution_count": 71,
     "metadata": {},
     "output_type": "execute_result"
    }
   ],
   "source": [
    "grader.check(\"q1c\")"
   ]
  },
  {
   "cell_type": "markdown",
   "id": "4c32cd3d",
   "metadata": {
    "id": "4c32cd3d"
   },
   "source": [
    "## Q1(d) - Principal Components Analysis \n",
    "\n",
    "Perform principal components analysis (PCA) on the scaled Pokemon skills data. \n",
    "Store the results of PCA in `pokPCA` and the transformed data in `pokTr`."
   ]
  },
  {
   "cell_type": "code",
   "execution_count": 72,
   "id": "46524820",
   "metadata": {
    "executionInfo": {
     "elapsed": 144,
     "status": "ok",
     "timestamp": 1681528646382,
     "user": {
      "displayName": "Doni Obidov",
      "userId": "06928243585112473649"
     },
     "user_tz": 240
    },
    "id": "46524820",
    "tags": []
   },
   "outputs": [],
   "source": [
    "# Run PCA on the scaled data \n",
    "pca = PCA()\n",
    "pokPCA = pca.fit(pokScaled)\n",
    "\n",
    "# Store the transformed data in pokTr\n",
    "pokTr = pca.transform(pokScaled)"
   ]
  },
  {
   "cell_type": "code",
   "execution_count": 73,
   "id": "e2985bfa",
   "metadata": {
    "colab": {
     "base_uri": "https://localhost:8080/",
     "height": 165
    },
    "deletable": false,
    "editable": false,
    "executionInfo": {
     "elapsed": 123,
     "status": "error",
     "timestamp": 1681527684123,
     "user": {
      "displayName": "Doni Obidov",
      "userId": "06928243585112473649"
     },
     "user_tz": 240
    },
    "id": "e2985bfa",
    "outputId": "fe1b80ec-f93e-42b6-e8ac-23175bf98597"
   },
   "outputs": [
    {
     "data": {
      "text/html": [
       "<p><strong><pre style='display: inline;'>q1d</pre></strong> passed! 🍀</p>"
      ],
      "text/plain": [
       "q1d results: All test cases passed!"
      ]
     },
     "execution_count": 73,
     "metadata": {},
     "output_type": "execute_result"
    }
   ],
   "source": [
    "grader.check(\"q1d\")"
   ]
  },
  {
   "cell_type": "markdown",
   "id": "2b6eb0fa",
   "metadata": {
    "id": "2b6eb0fa"
   },
   "source": [
    "<!-- BEGIN QUESTION -->\n",
    "\n",
    "## Q1(e) - Explore the Results \n",
    "\n",
    "Plot the transformed data in the space defined by the first two principal components. This should be a scatterplot."
   ]
  },
  {
   "cell_type": "code",
   "execution_count": 74,
   "id": "Rr8ybld_6NHQ",
   "metadata": {
    "colab": {
     "base_uri": "https://localhost:8080/",
     "height": 206
    },
    "executionInfo": {
     "elapsed": 135,
     "status": "ok",
     "timestamp": 1681528781573,
     "user": {
      "displayName": "Doni Obidov",
      "userId": "06928243585112473649"
     },
     "user_tz": 240
    },
    "id": "Rr8ybld_6NHQ",
    "outputId": "197398e2-ca52-4a19-a5eb-4303aed23d94"
   },
   "outputs": [
    {
     "data": {
      "text/html": [
       "<div>\n",
       "<style scoped>\n",
       "    .dataframe tbody tr th:only-of-type {\n",
       "        vertical-align: middle;\n",
       "    }\n",
       "\n",
       "    .dataframe tbody tr th {\n",
       "        vertical-align: top;\n",
       "    }\n",
       "\n",
       "    .dataframe thead th {\n",
       "        text-align: right;\n",
       "    }\n",
       "</style>\n",
       "<table border=\"1\" class=\"dataframe\">\n",
       "  <thead>\n",
       "    <tr style=\"text-align: right;\">\n",
       "      <th></th>\n",
       "      <th>PC1</th>\n",
       "      <th>PC2</th>\n",
       "      <th>PC3</th>\n",
       "      <th>PC4</th>\n",
       "      <th>PC5</th>\n",
       "      <th>PC6</th>\n",
       "    </tr>\n",
       "  </thead>\n",
       "  <tbody>\n",
       "    <tr>\n",
       "      <th>0</th>\n",
       "      <td>-1.556375</td>\n",
       "      <td>-0.021482</td>\n",
       "      <td>0.666504</td>\n",
       "      <td>0.184176</td>\n",
       "      <td>-0.403807</td>\n",
       "      <td>-0.303004</td>\n",
       "    </tr>\n",
       "    <tr>\n",
       "      <th>1</th>\n",
       "      <td>-0.362867</td>\n",
       "      <td>-0.050269</td>\n",
       "      <td>0.667913</td>\n",
       "      <td>0.269254</td>\n",
       "      <td>-0.225788</td>\n",
       "      <td>-0.194487</td>\n",
       "    </tr>\n",
       "    <tr>\n",
       "      <th>2</th>\n",
       "      <td>1.280152</td>\n",
       "      <td>-0.062720</td>\n",
       "      <td>0.623914</td>\n",
       "      <td>0.331391</td>\n",
       "      <td>-0.001545</td>\n",
       "      <td>-0.068177</td>\n",
       "    </tr>\n",
       "    <tr>\n",
       "      <th>3</th>\n",
       "      <td>2.620916</td>\n",
       "      <td>0.704263</td>\n",
       "      <td>0.995538</td>\n",
       "      <td>-0.199321</td>\n",
       "      <td>-0.310170</td>\n",
       "      <td>0.087380</td>\n",
       "    </tr>\n",
       "    <tr>\n",
       "      <th>4</th>\n",
       "      <td>-1.758284</td>\n",
       "      <td>-0.706179</td>\n",
       "      <td>0.411454</td>\n",
       "      <td>-0.268602</td>\n",
       "      <td>-0.168877</td>\n",
       "      <td>-0.069368</td>\n",
       "    </tr>\n",
       "  </tbody>\n",
       "</table>\n",
       "</div>"
      ],
      "text/plain": [
       "        PC1       PC2       PC3       PC4       PC5       PC6\n",
       "0 -1.556375 -0.021482  0.666504  0.184176 -0.403807 -0.303004\n",
       "1 -0.362867 -0.050269  0.667913  0.269254 -0.225788 -0.194487\n",
       "2  1.280152 -0.062720  0.623914  0.331391 -0.001545 -0.068177\n",
       "3  2.620916  0.704263  0.995538 -0.199321 -0.310170  0.087380\n",
       "4 -1.758284 -0.706179  0.411454 -0.268602 -0.168877 -0.069368"
      ]
     },
     "execution_count": 74,
     "metadata": {},
     "output_type": "execute_result"
    }
   ],
   "source": [
    "# Turn into a DF\n",
    "pokTr = pd.DataFrame(pokTr, columns=['PC1', 'PC2', 'PC3', 'PC4', 'PC5', 'PC6'])\n",
    "\n",
    "pokTr.head()"
   ]
  },
  {
   "cell_type": "code",
   "execution_count": 75,
   "id": "880e6a47",
   "metadata": {
    "colab": {
     "base_uri": "https://localhost:8080/",
     "height": 472
    },
    "executionInfo": {
     "elapsed": 184,
     "status": "ok",
     "timestamp": 1681528782321,
     "user": {
      "displayName": "Doni Obidov",
      "userId": "06928243585112473649"
     },
     "user_tz": 240
    },
    "id": "880e6a47",
    "outputId": "058f90dc-1b95-43ba-e465-e4e27d73f92c",
    "tags": []
   },
   "outputs": [
    {
     "data": {
      "image/png": "[encoded data removed]",
      "text/plain": [
       "<Figure size 640x480 with 1 Axes>"
      ]
     },
     "metadata": {},
     "output_type": "display_data"
    }
   ],
   "source": [
    "# Plot the transformed data  \n",
    "plt.scatter(pokTr['PC1'], pokTr['PC2'])\n",
    "plt.title('PC1 vs PC2')\n",
    "plt.xlabel('PC1')\n",
    "plt.ylabel('PC2')\n",
    "plt.show()"
   ]
  },
  {
   "cell_type": "markdown",
   "id": "077b1fcf",
   "metadata": {
    "id": "077b1fcf"
   },
   "source": [
    "<!-- END QUESTION -->\n",
    "\n",
    "<!-- BEGIN QUESTION -->\n",
    "\n",
    "## Q1(f) - Explore the Results, part 2 \n",
    "\n",
    "Explore the amount of variance explained by each principal component direction. First, plot the proportion of variance explained (y-axis) vs. the different principal components."
   ]
  },
  {
   "cell_type": "code",
   "execution_count": 76,
   "id": "6a20d9ad",
   "metadata": {
    "colab": {
     "base_uri": "https://localhost:8080/",
     "height": 472
    },
    "executionInfo": {
     "elapsed": 496,
     "status": "ok",
     "timestamp": 1681528784013,
     "user": {
      "displayName": "Doni Obidov",
      "userId": "06928243585112473649"
     },
     "user_tz": 240
    },
    "id": "6a20d9ad",
    "outputId": "58645ceb-b990-4d3f-bf97-e258a27cebcc",
    "tags": []
   },
   "outputs": [
    {
     "data": {
      "image/png": "[encoded data removed]",
      "text/plain": [
       "<Figure size 640x480 with 1 Axes>"
      ]
     },
     "metadata": {},
     "output_type": "display_data"
    }
   ],
   "source": [
    "# Plot variance explained by each component   \n",
    "plt.plot(pca.explained_variance_ratio_)\n",
    "plt.title('Variance explained by each component')\n",
    "plt.xlabel('Principal Component')\n",
    "plt.ylabel('Proportion of Variance Explained')\n",
    "plt.show()"
   ]
  },
  {
   "cell_type": "markdown",
   "id": "c3969bb7",
   "metadata": {
    "id": "c3969bb7"
   },
   "source": [
    "<!-- END QUESTION -->\n",
    "\n",
    "<!-- BEGIN QUESTION -->\n",
    "\n",
    "## Q1(g) - Explore the Results, part 3\n",
    "\n",
    "Plot the cumulative proportion of variance explained by the principal components.\n"
   ]
  },
  {
   "cell_type": "code",
   "execution_count": 77,
   "id": "f2ef7a0e",
   "metadata": {
    "colab": {
     "base_uri": "https://localhost:8080/",
     "height": 472
    },
    "executionInfo": {
     "elapsed": 330,
     "status": "ok",
     "timestamp": 1681528786219,
     "user": {
      "displayName": "Doni Obidov",
      "userId": "06928243585112473649"
     },
     "user_tz": 240
    },
    "id": "f2ef7a0e",
    "outputId": "f878b852-f652-411e-be49-e10fd5c2515b",
    "tags": []
   },
   "outputs": [
    {
     "data": {
      "image/png": "[encoded data removed]",
      "text/plain": [
       "<Figure size 640x480 with 1 Axes>"
      ]
     },
     "metadata": {},
     "output_type": "display_data"
    }
   ],
   "source": [
    "# Plot the cumulative variance explained \n",
    "plt.plot(pca.explained_variance_ratio_.cumsum())\n",
    "plt.title('Cumulative variance explained')\n",
    "plt.xlabel('Principal Component')\n",
    "plt.ylabel('Cumulative Proportion of Variance Explained')\n",
    "plt.show()"
   ]
  },
  {
   "cell_type": "markdown",
   "id": "ce3d10f7",
   "metadata": {
    "id": "ce3d10f7"
   },
   "source": [
    "<!-- END QUESTION -->\n",
    "\n",
    "# Q2 - College Data \n",
    "\n",
    "In this problem, we will explore data on colleges.  The set of colleges considered have high earning potential for undergraduates with computer science degrees  (data comes from the National Center for Education Statistics, NCES and Payscale.com).  \n"
   ]
  },
  {
   "cell_type": "markdown",
   "id": "13608e4a",
   "metadata": {
    "id": "13608e4a"
   },
   "source": [
    "## Q2(a) - PCA on College Data \n",
    "\n",
    "\n",
    "Read in the `college_data` file into a DataFrame `college`.  Make sure to process it in an appropriate manner `college_sc` (ignore the first three columns in the analysis). Then, perform PCA on the prepared data `college_pca` and transform the data `college_tr`. "
   ]
  },
  {
   "cell_type": "code",
   "execution_count": 78,
   "id": "c9743489",
   "metadata": {
    "executionInfo": {
     "elapsed": 139,
     "status": "ok",
     "timestamp": 1681530738605,
     "user": {
      "displayName": "Doni Obidov",
      "userId": "06928243585112473649"
     },
     "user_tz": 240
    },
    "id": "c9743489",
    "tags": []
   },
   "outputs": [],
   "source": [
    "# Load, preprocess and run PCA on the college data    \n",
    "\n",
    "college = pd.read_csv('data/college_data.csv', na_values=['NA', 'N/A', ''])\n",
    "\n",
    "college_sc = StandardScaler().fit_transform(college.iloc[:,3:])\n",
    "\n",
    "pca = PCA()\n",
    "college_pca = pca.fit(college_sc)\n",
    "\n",
    "college_tr = pca.transform(college_sc)"
   ]
  },
  {
   "cell_type": "code",
   "execution_count": 79,
   "id": "e1de5d48",
   "metadata": {
    "deletable": false,
    "editable": false,
    "id": "e1de5d48"
   },
   "outputs": [
    {
     "data": {
      "text/html": [
       "<p><strong><pre style='display: inline;'>q2a</pre></strong> passed! 🌈</p>"
      ],
      "text/plain": [
       "q2a results: All test cases passed!"
      ]
     },
     "execution_count": 79,
     "metadata": {},
     "output_type": "execute_result"
    }
   ],
   "source": [
    "grader.check(\"q2a\")"
   ]
  },
  {
   "cell_type": "markdown",
   "id": "80320ff2",
   "metadata": {
    "id": "80320ff2"
   },
   "source": [
    "<!-- BEGIN QUESTION -->\n",
    "\n",
    "## Q2(b) - Explore the Results \n",
    "\n",
    "Plot the data in the space defined by the first two principal components (labeling each point with the school it represents - use the `ShortHandName` column)."
   ]
  },
  {
   "cell_type": "code",
   "execution_count": 80,
   "id": "mS9ovg-K-H_f",
   "metadata": {
    "colab": {
     "base_uri": "https://localhost:8080/",
     "height": 270
    },
    "executionInfo": {
     "elapsed": 135,
     "status": "ok",
     "timestamp": 1681530759973,
     "user": {
      "displayName": "Doni Obidov",
      "userId": "06928243585112473649"
     },
     "user_tz": 240
    },
    "id": "mS9ovg-K-H_f",
    "outputId": "04649a62-c6f6-4247-fc36-8cb3a418c5be"
   },
   "outputs": [
    {
     "data": {
      "text/html": [
       "<div>\n",
       "<style scoped>\n",
       "    .dataframe tbody tr th:only-of-type {\n",
       "        vertical-align: middle;\n",
       "    }\n",
       "\n",
       "    .dataframe tbody tr th {\n",
       "        vertical-align: top;\n",
       "    }\n",
       "\n",
       "    .dataframe thead th {\n",
       "        text-align: right;\n",
       "    }\n",
       "</style>\n",
       "<table border=\"1\" class=\"dataframe\">\n",
       "  <thead>\n",
       "    <tr style=\"text-align: right;\">\n",
       "      <th></th>\n",
       "      <th>PC1</th>\n",
       "      <th>PC2</th>\n",
       "      <th>PC3</th>\n",
       "      <th>PC4</th>\n",
       "      <th>PC5</th>\n",
       "      <th>PC6</th>\n",
       "      <th>PC7</th>\n",
       "      <th>PC8</th>\n",
       "      <th>PC9</th>\n",
       "      <th>PC10</th>\n",
       "      <th>PC11</th>\n",
       "      <th>PC12</th>\n",
       "      <th>PC13</th>\n",
       "      <th>PC14</th>\n",
       "      <th>PC15</th>\n",
       "      <th>PC16</th>\n",
       "      <th>PC17</th>\n",
       "      <th>PC18</th>\n",
       "    </tr>\n",
       "  </thead>\n",
       "  <tbody>\n",
       "    <tr>\n",
       "      <th>0</th>\n",
       "      <td>-0.823056</td>\n",
       "      <td>-0.689564</td>\n",
       "      <td>-0.494525</td>\n",
       "      <td>-0.557486</td>\n",
       "      <td>1.885040</td>\n",
       "      <td>0.992604</td>\n",
       "      <td>-0.368774</td>\n",
       "      <td>1.001835</td>\n",
       "      <td>0.117968</td>\n",
       "      <td>0.095512</td>\n",
       "      <td>-0.109656</td>\n",
       "      <td>-0.105228</td>\n",
       "      <td>-0.106119</td>\n",
       "      <td>-0.053931</td>\n",
       "      <td>-0.029127</td>\n",
       "      <td>-0.058342</td>\n",
       "      <td>0.033848</td>\n",
       "      <td>-0.001565</td>\n",
       "    </tr>\n",
       "    <tr>\n",
       "      <th>1</th>\n",
       "      <td>-4.306220</td>\n",
       "      <td>-0.285363</td>\n",
       "      <td>-0.302499</td>\n",
       "      <td>-0.629897</td>\n",
       "      <td>-0.175696</td>\n",
       "      <td>0.300109</td>\n",
       "      <td>0.651592</td>\n",
       "      <td>-0.030590</td>\n",
       "      <td>0.113379</td>\n",
       "      <td>0.750902</td>\n",
       "      <td>-0.048463</td>\n",
       "      <td>0.227797</td>\n",
       "      <td>-0.126912</td>\n",
       "      <td>0.093760</td>\n",
       "      <td>-0.089645</td>\n",
       "      <td>0.010271</td>\n",
       "      <td>-0.019936</td>\n",
       "      <td>-0.013308</td>\n",
       "    </tr>\n",
       "    <tr>\n",
       "      <th>2</th>\n",
       "      <td>-4.872178</td>\n",
       "      <td>-0.198929</td>\n",
       "      <td>-1.628556</td>\n",
       "      <td>0.346716</td>\n",
       "      <td>-0.919910</td>\n",
       "      <td>-1.086315</td>\n",
       "      <td>-0.224867</td>\n",
       "      <td>0.322017</td>\n",
       "      <td>-0.179264</td>\n",
       "      <td>-0.053733</td>\n",
       "      <td>0.556616</td>\n",
       "      <td>-0.045888</td>\n",
       "      <td>-0.184965</td>\n",
       "      <td>0.018247</td>\n",
       "      <td>0.090884</td>\n",
       "      <td>-0.053305</td>\n",
       "      <td>0.039003</td>\n",
       "      <td>0.004469</td>\n",
       "    </tr>\n",
       "    <tr>\n",
       "      <th>3</th>\n",
       "      <td>2.384135</td>\n",
       "      <td>-2.461195</td>\n",
       "      <td>0.310577</td>\n",
       "      <td>1.062420</td>\n",
       "      <td>0.863052</td>\n",
       "      <td>-0.843605</td>\n",
       "      <td>-0.097707</td>\n",
       "      <td>0.469127</td>\n",
       "      <td>0.216121</td>\n",
       "      <td>-0.310599</td>\n",
       "      <td>-0.022806</td>\n",
       "      <td>0.220750</td>\n",
       "      <td>0.004697</td>\n",
       "      <td>0.217311</td>\n",
       "      <td>-0.024286</td>\n",
       "      <td>0.034719</td>\n",
       "      <td>-0.039706</td>\n",
       "      <td>0.012434</td>\n",
       "    </tr>\n",
       "    <tr>\n",
       "      <th>4</th>\n",
       "      <td>4.891553</td>\n",
       "      <td>0.399386</td>\n",
       "      <td>0.118751</td>\n",
       "      <td>1.502727</td>\n",
       "      <td>-0.690353</td>\n",
       "      <td>-0.007117</td>\n",
       "      <td>-0.104884</td>\n",
       "      <td>0.575188</td>\n",
       "      <td>-0.595767</td>\n",
       "      <td>0.631389</td>\n",
       "      <td>-0.242412</td>\n",
       "      <td>-0.005240</td>\n",
       "      <td>0.298693</td>\n",
       "      <td>-0.044181</td>\n",
       "      <td>0.077752</td>\n",
       "      <td>-0.030921</td>\n",
       "      <td>0.001625</td>\n",
       "      <td>0.002990</td>\n",
       "    </tr>\n",
       "  </tbody>\n",
       "</table>\n",
       "</div>"
      ],
      "text/plain": [
       "        PC1       PC2       PC3       PC4       PC5       PC6       PC7  \\\n",
       "0 -0.823056 -0.689564 -0.494525 -0.557486  1.885040  0.992604 -0.368774   \n",
       "1 -4.306220 -0.285363 -0.302499 -0.629897 -0.175696  0.300109  0.651592   \n",
       "2 -4.872178 -0.198929 -1.628556  0.346716 -0.919910 -1.086315 -0.224867   \n",
       "3  2.384135 -2.461195  0.310577  1.062420  0.863052 -0.843605 -0.097707   \n",
       "4  4.891553  0.399386  0.118751  1.502727 -0.690353 -0.007117 -0.104884   \n",
       "\n",
       "        PC8       PC9      PC10      PC11      PC12      PC13      PC14  \\\n",
       "0  1.001835  0.117968  0.095512 -0.109656 -0.105228 -0.106119 -0.053931   \n",
       "1 -0.030590  0.113379  0.750902 -0.048463  0.227797 -0.126912  0.093760   \n",
       "2  0.322017 -0.179264 -0.053733  0.556616 -0.045888 -0.184965  0.018247   \n",
       "3  0.469127  0.216121 -0.310599 -0.022806  0.220750  0.004697  0.217311   \n",
       "4  0.575188 -0.595767  0.631389 -0.242412 -0.005240  0.298693 -0.044181   \n",
       "\n",
       "       PC15      PC16      PC17      PC18  \n",
       "0 -0.029127 -0.058342  0.033848 -0.001565  \n",
       "1 -0.089645  0.010271 -0.019936 -0.013308  \n",
       "2  0.090884 -0.053305  0.039003  0.004469  \n",
       "3 -0.024286  0.034719 -0.039706  0.012434  \n",
       "4  0.077752 -0.030921  0.001625  0.002990  "
      ]
     },
     "execution_count": 80,
     "metadata": {},
     "output_type": "execute_result"
    }
   ],
   "source": [
    "# Turn into a DF\n",
    "college_tr = pd.DataFrame(college_tr, columns=['PC1','PC2','PC3','PC4','PC5','PC6','PC7','PC8','PC9',\n",
    "                                               'PC10','PC11','PC12','PC13','PC14','PC15','PC16','PC17','PC18'])\n",
    "\n",
    "college_tr.head()"
   ]
  },
  {
   "cell_type": "code",
   "execution_count": 81,
   "id": "c78b4f1f",
   "metadata": {
    "colab": {
     "base_uri": "https://localhost:8080/",
     "height": 422
    },
    "executionInfo": {
     "elapsed": 735,
     "status": "ok",
     "timestamp": 1681531323018,
     "user": {
      "displayName": "Doni Obidov",
      "userId": "06928243585112473649"
     },
     "user_tz": 240
    },
    "id": "c78b4f1f",
    "outputId": "9a75c20a-0de3-48be-f9bd-5f31fa6b2201",
    "tags": []
   },
   "outputs": [
    {
     "data": {
      "image/png": "[encoded data removed]",
      "text/plain": [
       "<Figure size 700x400 with 1 Axes>"
      ]
     },
     "metadata": {},
     "output_type": "display_data"
    }
   ],
   "source": [
    "# Plot college data in the first two principal components\n",
    "# Set plot size\n",
    "plt.figure(figsize=(7, 4))\n",
    "\n",
    "plt.scatter(college_tr['PC1'], college_tr['PC2'])\n",
    "\n",
    "# Add labels to each point with the ShortHandName column\n",
    "for i, name in enumerate(college['ShortHandName']):\n",
    "    plt.text(college_tr.loc[i, 'PC1'], college_tr.loc[i, 'PC2'], name, fontsize=8)\n",
    "\n",
    "plt.title('PC1 vs PC2')\n",
    "plt.xlabel('PC1')\n",
    "plt.ylabel('PC2')\n",
    "\n",
    "# Set clearance\n",
    "plt.subplots_adjust(left=0.1, right=1.2, bottom=0.1, top=0.9)\n",
    "\n",
    "plt.show()"
   ]
  },
  {
   "cell_type": "markdown",
   "id": "b43046e8",
   "metadata": {
    "id": "b43046e8"
   },
   "source": [
    "<!-- END QUESTION -->\n",
    "\n",
    "## Q2(c) - Explore the Results, part 2 \n",
    "\n",
    "Plot the amount of cumulative variance explained. How many principal components should be used for any further analysis to be done on the data if you want 90% of the variance explained?"
   ]
  },
  {
   "cell_type": "code",
   "execution_count": 82,
   "id": "17c3d041",
   "metadata": {
    "colab": {
     "base_uri": "https://localhost:8080/",
     "height": 489
    },
    "executionInfo": {
     "elapsed": 557,
     "status": "ok",
     "timestamp": 1681531989630,
     "user": {
      "displayName": "Doni Obidov",
      "userId": "06928243585112473649"
     },
     "user_tz": 240
    },
    "id": "17c3d041",
    "outputId": "11d9e108-0677-4ec1-a0bb-5949471ee83b",
    "tags": []
   },
   "outputs": [
    {
     "data": {
      "image/png": "[encoded data removed]",
      "text/plain": [
       "<Figure size 640x480 with 1 Axes>"
      ]
     },
     "metadata": {},
     "output_type": "display_data"
    },
    {
     "name": "stdout",
     "output_type": "stream",
     "text": [
      "Number of principal components needed to explain 90% of the variance: 5\n"
     ]
    }
   ],
   "source": [
    "# Plot cumulative variance explained.    \n",
    "plt.plot(pca.explained_variance_ratio_.cumsum())\n",
    "plt.title('Cumulative variance explained')\n",
    "plt.xlabel('Principal Component')\n",
    "plt.ylabel('Cumulative Proportion of Variance Explained')\n",
    "plt.xticks(range(len(pca.explained_variance_ratio_)))\n",
    "plt.show()\n",
    "\n",
    "cumulative_var_ratio = np.cumsum(pca.explained_variance_ratio_)\n",
    "n_components = np.argmax(cumulative_var_ratio >= 0.9) + 1\n",
    "print(f\"Number of principal components needed to explain 90% of the variance: {n_components}\")\n",
    "\n",
    "numPC = 5"
   ]
  },
  {
   "cell_type": "markdown",
   "id": "bf12dafe",
   "metadata": {
    "id": "bf12dafe"
   },
   "source": [
    "# Q3 - Text Classification \n",
    "\n",
    "\n",
    "You will look to predict whether authors of 19th and early 20th centuries novels are men or women. The data set consists of 45 books available from Project Gutenberg.  \n",
    "\n",
    "The text files are split into negative - Men and positive - Female authors.  Additional information about the authors, books, and other metadata is available in the `books_data.csv` file. \n",
    "\n"
   ]
  },
  {
   "cell_type": "markdown",
   "id": "12d90c60",
   "metadata": {
    "id": "12d90c60"
   },
   "source": [
    "## Q3(a) - Load the Data \n",
    "Load the books into a list `textdata` and a np.ndarray `yvalues`.  I highly suggest using `scikit-learn`'s `load_files` function. \n",
    "\n",
    "Load the additional data file into a Data Frame called `books_data`. "
   ]
  },
  {
   "cell_type": "code",
   "execution_count": 83,
   "id": "7a61ab78",
   "metadata": {
    "id": "7a61ab78",
    "scrolled": true,
    "tags": []
   },
   "outputs": [
    {
     "name": "stdout",
     "output_type": "stream",
     "text": [
      "Samples per class: [30 15]\n"
     ]
    },
    {
     "data": {
      "text/html": [
       "<div>\n",
       "<style scoped>\n",
       "    .dataframe tbody tr th:only-of-type {\n",
       "        vertical-align: middle;\n",
       "    }\n",
       "\n",
       "    .dataframe tbody tr th {\n",
       "        vertical-align: top;\n",
       "    }\n",
       "\n",
       "    .dataframe thead th {\n",
       "        text-align: right;\n",
       "    }\n",
       "</style>\n",
       "<table border=\"1\" class=\"dataframe\">\n",
       "  <thead>\n",
       "    <tr style=\"text-align: right;\">\n",
       "      <th></th>\n",
       "      <th>Author Name</th>\n",
       "      <th>Gender</th>\n",
       "      <th>Active Decade</th>\n",
       "      <th>Genres</th>\n",
       "      <th>Fiction-Nonfiction</th>\n",
       "      <th>Gid</th>\n",
       "      <th>Char-F</th>\n",
       "      <th>Char-M</th>\n",
       "      <th>Char-Occur-F</th>\n",
       "      <th>Char-Occur-M</th>\n",
       "      <th>Pronouns-F</th>\n",
       "      <th>Pronouns-M</th>\n",
       "    </tr>\n",
       "  </thead>\n",
       "  <tbody>\n",
       "    <tr>\n",
       "      <th>0</th>\n",
       "      <td>Dickens, Charles</td>\n",
       "      <td>M</td>\n",
       "      <td>1850</td>\n",
       "      <td>Novel</td>\n",
       "      <td>Fiction</td>\n",
       "      <td>98</td>\n",
       "      <td>9</td>\n",
       "      <td>33</td>\n",
       "      <td>347</td>\n",
       "      <td>833</td>\n",
       "      <td>1280</td>\n",
       "      <td>4264</td>\n",
       "    </tr>\n",
       "    <tr>\n",
       "      <th>1</th>\n",
       "      <td>Dickens, Charles</td>\n",
       "      <td>M</td>\n",
       "      <td>1850</td>\n",
       "      <td>Novel</td>\n",
       "      <td>Fiction</td>\n",
       "      <td>1023</td>\n",
       "      <td>26</td>\n",
       "      <td>95</td>\n",
       "      <td>567</td>\n",
       "      <td>2566</td>\n",
       "      <td>4002</td>\n",
       "      <td>9652</td>\n",
       "    </tr>\n",
       "    <tr>\n",
       "      <th>2</th>\n",
       "      <td>Dickens, Charles</td>\n",
       "      <td>M</td>\n",
       "      <td>1850</td>\n",
       "      <td>Novel</td>\n",
       "      <td>Fiction</td>\n",
       "      <td>766</td>\n",
       "      <td>33</td>\n",
       "      <td>102</td>\n",
       "      <td>694</td>\n",
       "      <td>2566</td>\n",
       "      <td>5631</td>\n",
       "      <td>7210</td>\n",
       "    </tr>\n",
       "    <tr>\n",
       "      <th>3</th>\n",
       "      <td>Dickens, Charles</td>\n",
       "      <td>M</td>\n",
       "      <td>1850</td>\n",
       "      <td>Novel</td>\n",
       "      <td>Fiction</td>\n",
       "      <td>1400</td>\n",
       "      <td>14</td>\n",
       "      <td>39</td>\n",
       "      <td>376</td>\n",
       "      <td>657</td>\n",
       "      <td>1784</td>\n",
       "      <td>4573</td>\n",
       "    </tr>\n",
       "    <tr>\n",
       "      <th>4</th>\n",
       "      <td>Dickens, Charles</td>\n",
       "      <td>M</td>\n",
       "      <td>1850</td>\n",
       "      <td>Novel</td>\n",
       "      <td>Fiction</td>\n",
       "      <td>963</td>\n",
       "      <td>28</td>\n",
       "      <td>71</td>\n",
       "      <td>218</td>\n",
       "      <td>1076</td>\n",
       "      <td>5149</td>\n",
       "      <td>10251</td>\n",
       "    </tr>\n",
       "  </tbody>\n",
       "</table>\n",
       "</div>"
      ],
      "text/plain": [
       "        Author Name Gender  Active Decade Genres Fiction-Nonfiction   Gid  \\\n",
       "0  Dickens, Charles      M           1850  Novel            Fiction    98   \n",
       "1  Dickens, Charles      M           1850  Novel            Fiction  1023   \n",
       "2  Dickens, Charles      M           1850  Novel            Fiction   766   \n",
       "3  Dickens, Charles      M           1850  Novel            Fiction  1400   \n",
       "4  Dickens, Charles      M           1850  Novel            Fiction   963   \n",
       "\n",
       "   Char-F  Char-M  Char-Occur-F  Char-Occur-M  Pronouns-F  Pronouns-M  \n",
       "0       9      33           347           833        1280        4264  \n",
       "1      26      95           567          2566        4002        9652  \n",
       "2      33     102           694          2566        5631        7210  \n",
       "3      14      39           376           657        1784        4573  \n",
       "4      28      71           218          1076        5149       10251  "
      ]
     },
     "execution_count": 83,
     "metadata": {},
     "output_type": "execute_result"
    }
   ],
   "source": [
    "# Load the book data\n",
    "\n",
    "# Set the path to the directory containing the books\n",
    "books_dir = r'data/books/'\n",
    "\n",
    "# Load the books\n",
    "books = load_files(books_dir)\n",
    "\n",
    "# Store the text data and target labels\n",
    "textdata = books.data\n",
    "textdata = [doc for doc in textdata]\n",
    "\n",
    "yvalues = books.target\n",
    "\n",
    "# Load the additional data\n",
    "books_data = pd.read_csv('data/books_data.csv', na_values=['NA', 'N/A', ''])\n",
    "\n",
    "print(\"Samples per class: {}\".format(np.bincount(yvalues)))\n",
    "books_data.head()"
   ]
  },
  {
   "cell_type": "code",
   "execution_count": 84,
   "id": "27135bfb",
   "metadata": {
    "deletable": false,
    "editable": false,
    "id": "27135bfb"
   },
   "outputs": [
    {
     "data": {
      "text/html": [
       "<p><strong><pre style='display: inline;'>q3a</pre></strong> passed! 💯</p>"
      ],
      "text/plain": [
       "q3a results: All test cases passed!"
      ]
     },
     "execution_count": 84,
     "metadata": {},
     "output_type": "execute_result"
    }
   ],
   "source": [
    "grader.check(\"q3a\")"
   ]
  },
  {
   "cell_type": "markdown",
   "id": "1e949d03",
   "metadata": {
    "id": "1e949d03"
   },
   "source": [
    "## Q3(b) - Prepare the Data \n",
    "\n",
    "Split the data into `text_trainval`, `text_test` and `y_trainval`, `y_test` variables.  Use 20% of the data in the test set with a `random_state` of 42 and make sure to stratify the split (the data is imbalanced). "
   ]
  },
  {
   "cell_type": "code",
   "execution_count": 85,
   "id": "7dae545c",
   "metadata": {
    "id": "7dae545c",
    "tags": []
   },
   "outputs": [],
   "source": [
    "# Split the data \n",
    "text_trainval, text_test, y_trainval, y_test = train_test_split(textdata, yvalues, \n",
    "                                                                test_size=0.2, \n",
    "                                                                random_state=42, \n",
    "                                                                stratify=yvalues)"
   ]
  },
  {
   "cell_type": "code",
   "execution_count": 86,
   "id": "e783cb0f",
   "metadata": {
    "deletable": false,
    "editable": false,
    "id": "e783cb0f"
   },
   "outputs": [
    {
     "data": {
      "text/html": [
       "<p><strong><pre style='display: inline;'>q3b</pre></strong> passed! ✨</p>"
      ],
      "text/plain": [
       "q3b results: All test cases passed!"
      ]
     },
     "execution_count": 86,
     "metadata": {},
     "output_type": "execute_result"
    }
   ],
   "source": [
    "grader.check(\"q3b\")"
   ]
  },
  {
   "cell_type": "markdown",
   "id": "1403bcdf",
   "metadata": {
    "id": "1403bcdf"
   },
   "source": [
    "## Q3(c)  - Explore the Data\n",
    "\n",
    "Replace underscore symbols in both the trainval text data and test text data.  \n",
    "\n",
    "Create a document-term count matrix for the \"trainval\" data using the default tokenizer, removing the standard English stopwords and store this in `dtm_trainval`.\n",
    "\n",
    "Store the names of the terms in the dtm matrix in the variable `vocab`."
   ]
  },
  {
   "cell_type": "code",
   "execution_count": 87,
   "id": "b5f988da",
   "metadata": {
    "id": "b5f988da",
    "tags": []
   },
   "outputs": [],
   "source": [
    "# Create document-term count matrix for the \"trainval\" text data \n",
    "text_trainval = [doc.decode('utf-8').replace(\"_\", \" \") for doc in text_trainval]\n",
    "text_test = [doc.decode('utf-8').replace(\"_\", \" \") for doc in text_test]\n",
    "\n",
    "vectorizer = CountVectorizer(stop_words='english')\n",
    "dtm_trainval = vectorizer.fit_transform(text_trainval)\n",
    "dtm_test = vectorizer.transform(text_test)\n",
    "\n",
    "vocab = vectorizer.get_feature_names_out()"
   ]
  },
  {
   "cell_type": "code",
   "execution_count": 88,
   "id": "33ddff76",
   "metadata": {
    "deletable": false,
    "editable": false,
    "id": "33ddff76"
   },
   "outputs": [
    {
     "data": {
      "text/html": [
       "<p><strong><pre style='display: inline;'>q3c</pre></strong> passed! 💯</p>"
      ],
      "text/plain": [
       "q3c results: All test cases passed!"
      ]
     },
     "execution_count": 88,
     "metadata": {},
     "output_type": "execute_result"
    }
   ],
   "source": [
    "grader.check(\"q3c\")"
   ]
  },
  {
   "cell_type": "markdown",
   "id": "8d6229bb",
   "metadata": {
    "id": "8d6229bb"
   },
   "source": [
    "<!-- BEGIN QUESTION -->\n",
    "\n",
    "## Q3(d) - Explore the Data \n",
    "\n",
    "Create a plot showing the top 15 most frequently used words in the trainval text data. "
   ]
  },
  {
   "cell_type": "code",
   "execution_count": 89,
   "id": "5d87bc9d",
   "metadata": {
    "id": "5d87bc9d",
    "tags": []
   },
   "outputs": [
    {
     "data": {
      "image/png": "[encoded data removed]",
      "text/plain": [
       "<Figure size 640x480 with 1 Axes>"
      ]
     },
     "metadata": {},
     "output_type": "display_data"
    }
   ],
   "source": [
    "# Get the total frequency of each term\n",
    "term_freq = dtm_trainval.sum(axis=0)\n",
    "\n",
    "# Convert the term frequencies to df\n",
    "term_freq_df = pd.DataFrame({'term': vectorizer.get_feature_names_out(), 'freq': term_freq.tolist()[0]})\n",
    "term_freq_df = term_freq_df.sort_values('freq', ascending=False)\n",
    "\n",
    "freq_words = term_freq_df[:15]\n",
    "freq_words = freq_words.sort_values('freq', ascending=True)\n",
    "\n",
    "# Plot the top 15 terms using a horizontal bar chart\n",
    "plt.barh(freq_words['term'], freq_words['freq'])\n",
    "plt.xlabel('Frequency')\n",
    "plt.ylabel('Term')\n",
    "plt.title('Top 15 Most Frequently Used Words in Trainval Data')\n",
    "plt.show()"
   ]
  },
  {
   "cell_type": "markdown",
   "id": "37e8927e",
   "metadata": {
    "id": "37e8927e"
   },
   "source": [
    "<!-- END QUESTION -->\n",
    "\n",
    "<!-- BEGIN QUESTION -->\n",
    "\n",
    "## Q3(e) - Explore the Data \n",
    "\n",
    "For the trainval text data, plot the top 15 most frequently used words in the Female-authored books and the Male-authored books.  Put these two bar plots side-by-side to compare the results. "
   ]
  },
  {
   "cell_type": "code",
   "execution_count": 90,
   "id": "2b7a5205",
   "metadata": {
    "id": "2b7a5205",
    "tags": []
   },
   "outputs": [
    {
     "data": {
      "image/png": "[encoded data removed]",
      "text/plain": [
       "<Figure size 1000x500 with 2 Axes>"
      ]
     },
     "metadata": {},
     "output_type": "display_data"
    }
   ],
   "source": [
    "# Create a plot of the top 15 most frequently used words in the \n",
    "# Female-authored and Male-authored books.\n",
    "female_indices = np.where(y_trainval == 1)[0]\n",
    "male_indices = np.where(y_trainval == 0)[0]\n",
    "dtm_trainval_female = dtm_trainval[female_indices, :]\n",
    "dtm_trainval_male = dtm_trainval[male_indices, :]\n",
    "\n",
    "# Get the total frequency of each term in the female-authored books\n",
    "term_freq_female = dtm_trainval_female.sum(axis=0)\n",
    "\n",
    "# Convert the term frequencies to df\n",
    "term_freq_female_df = pd.DataFrame({'term': vectorizer.get_feature_names_out(), 'freq': term_freq_female.tolist()[0]})\n",
    "term_freq_female_df = term_freq_female_df.sort_values('freq', ascending=False)\n",
    "\n",
    "# Get the top 15 terms in the female-authored books\n",
    "freq_words_female = term_freq_female_df[:15]\n",
    "freq_words_female = freq_words_female.sort_values('freq', ascending=True)\n",
    "\n",
    "# Plot the top 15 terms in the female-authored books using a horizontal bar chart\n",
    "plt.figure(figsize=(10, 5))\n",
    "\n",
    "plt.subplot(1, 2, 1)\n",
    "plt.barh(freq_words_female['term'], freq_words_female['freq'])\n",
    "plt.xlabel('Frequency')\n",
    "plt.ylabel('Term')\n",
    "plt.title('Top 15 Frequent Words in Female-authored Books')\n",
    "\n",
    "# Get the total frequency of each term in the male-authored books\n",
    "term_freq_male = dtm_trainval_male.sum(axis=0)\n",
    "\n",
    "# Convert the term frequencies to df\n",
    "term_freq_male_df = pd.DataFrame({'term': vectorizer.get_feature_names_out(), 'freq': term_freq_male.tolist()[0]})\n",
    "term_freq_male_df = term_freq_male_df.sort_values('freq', ascending=False)\n",
    "\n",
    "# Get the top 15 terms in the male-authored books\n",
    "freq_words_male = term_freq_male_df[:15]\n",
    "freq_words_male = freq_words_male.sort_values('freq', ascending=True)\n",
    "\n",
    "# Plot the top 15 terms in the male-authored books using a horizontal bar chart\n",
    "plt.subplot(1, 2, 2)\n",
    "plt.barh(freq_words_male['term'], freq_words_male['freq'])\n",
    "plt.xlabel('Frequency')\n",
    "plt.ylabel('Term')\n",
    "plt.title('Top 15 Frequent Words in Male-authored Books')\n",
    "\n",
    "# Spacing between the subplots\n",
    "plt.subplots_adjust(wspace=0.5)\n",
    "\n",
    "# Show the plot\n",
    "plt.show();"
   ]
  },
  {
   "cell_type": "markdown",
   "id": "b657bf7c",
   "metadata": {
    "id": "b657bf7c"
   },
   "source": [
    "<!-- END QUESTION -->\n",
    "\n",
    "## Q3(f) - Bernoulli Naive Bayes \n",
    "\n",
    "Let's know explore using Bernoulli Naive Bayes as a classifier to predict the gender of the author. \n",
    "\n",
    "We will use the split of the data into trainval / test found above to train the model and then evaluate it's performance. \n",
    "\n",
    "Create the training data, `X_trainval` to be binary with features using the default tokenizer, stop words removed, appear in at least 5 documents and is limited to the top 5000 features.  \n",
    "\n",
    "Calculate the training accuracy `train_acc` and testing accuracy `test_acc` for the model.\n",
    "\n"
   ]
  },
  {
   "cell_type": "code",
   "execution_count": 91,
   "id": "6c2c63da",
   "metadata": {
    "id": "6c2c63da",
    "tags": []
   },
   "outputs": [
    {
     "name": "stdout",
     "output_type": "stream",
     "text": [
      "Training accuracy: 0.861\n",
      "Testing accuracy: 0.667\n"
     ]
    }
   ],
   "source": [
    "# Run Bernoulli Naive Bayes model\n",
    "binary_vectorizer = CountVectorizer(binary=True, stop_words='english', min_df=5, max_features=5000)\n",
    "X_trainval = binary_vectorizer.fit_transform(text_trainval)\n",
    "X_test = binary_vectorizer.transform(text_test)\n",
    "\n",
    "# Fit the Bernoulli Naive Bayes classifier on the training data\n",
    "clf = naive_bayes.BernoulliNB()\n",
    "clf.fit(X_trainval, y_trainval)\n",
    "\n",
    "# Predict on the test data\n",
    "y_pred = clf.predict(X_test)\n",
    "\n",
    "# Calculate the training accuracy and testing accuracy for the model\n",
    "train_acc = clf.score(X_trainval, y_trainval)\n",
    "test_acc = clf.score(X_test, y_test)\n",
    "\n",
    "print(f\"Training accuracy: {train_acc:.3f}\")\n",
    "print(f\"Testing accuracy: {test_acc:.3f}\")"
   ]
  },
  {
   "cell_type": "code",
   "execution_count": 92,
   "id": "0e7c90d6",
   "metadata": {
    "deletable": false,
    "editable": false,
    "id": "0e7c90d6"
   },
   "outputs": [
    {
     "data": {
      "text/html": [
       "<p><strong><pre style='display: inline;'>q3f</pre></strong> passed! ✨</p>"
      ],
      "text/plain": [
       "q3f results: All test cases passed!"
      ]
     },
     "execution_count": 92,
     "metadata": {},
     "output_type": "execute_result"
    }
   ],
   "source": [
    "grader.check(\"q3f\")"
   ]
  },
  {
   "cell_type": "markdown",
   "id": "f7de32cf",
   "metadata": {
    "id": "f7de32cf"
   },
   "source": [
    "## Q3(g) - Multinomial Naive Bayes \n",
    "\n",
    "Let's know explore using Multinomial Naive Bayes as a classifier to predict the gender of the author. \n",
    "\n",
    "We will use the split of the data into trainval / test found above to train the model and then evaluate it's performance. \n",
    "\n",
    "Create the training data, `X_trainval` with features using the default tokenizer, stop words removed, appear in at least 5 documents and is limited to the top 5000 features.  \n",
    "\n",
    "Calculate the training accuracy `train_acc2` and testing accuracy `test_acc2` for the model.\n"
   ]
  },
  {
   "cell_type": "code",
   "execution_count": 93,
   "id": "5f9c1a45",
   "metadata": {
    "id": "5f9c1a45",
    "tags": []
   },
   "outputs": [
    {
     "name": "stdout",
     "output_type": "stream",
     "text": [
      "Training accuracy: 1.000\n",
      "Testing accuracy: 0.889\n"
     ]
    }
   ],
   "source": [
    "# Run Multinomial Naive Bayes model\n",
    "vectorizer = CountVectorizer(stop_words='english', min_df=5, max_features=5000)\n",
    "X_trainval = vectorizer.fit_transform(text_trainval)\n",
    "X_test = vectorizer.transform(text_test)\n",
    "\n",
    "# Fit the Multinomial Naive Bayes classifier on the training data\n",
    "clf2 = naive_bayes.MultinomialNB()\n",
    "clf2.fit(X_trainval, y_trainval)\n",
    "\n",
    "# Predict on the test data\n",
    "y_pred = clf2.predict(X_test)\n",
    "\n",
    "# Calculate the training accuracy and testing accuracy for the model\n",
    "train_acc2 = clf2.score(X_trainval, y_trainval)\n",
    "test_acc2 = clf2.score(X_test, y_test)\n",
    "\n",
    "print(f\"Training accuracy: {train_acc2:.3f}\")\n",
    "print(f\"Testing accuracy: {test_acc2:.3f}\")"
   ]
  },
  {
   "cell_type": "code",
   "execution_count": 94,
   "id": "12181051",
   "metadata": {
    "deletable": false,
    "editable": false,
    "id": "12181051"
   },
   "outputs": [
    {
     "data": {
      "text/html": [
       "<p><strong><pre style='display: inline;'>q3g</pre></strong> passed! 🙌</p>"
      ],
      "text/plain": [
       "q3g results: All test cases passed!"
      ]
     },
     "execution_count": 94,
     "metadata": {},
     "output_type": "execute_result"
    }
   ],
   "source": [
    "grader.check(\"q3g\")"
   ]
  },
  {
   "cell_type": "markdown",
   "id": "02c59049",
   "metadata": {
    "id": "02c59049"
   },
   "source": [
    "<!-- BEGIN QUESTION -->\n",
    "\n",
    "## Q3(h) - Naive Bayes Models \n",
    "\n",
    "Looking at the results of the two models above. Answer the following questions.  \n"
   ]
  },
  {
   "cell_type": "markdown",
   "id": "7aa13400",
   "metadata": {
    "id": "7aa13400"
   },
   "source": [
    "Which of the two models is preferred?  Why?   (10 words or less)\n",
    "\n",
    "***Multinomial Naive Bayes has much higher test set accuracy, so it is preffered.***\n",
    "\n",
    "\n",
    "What is a problem for both models?  How might you solve it? (12 words or less)\n",
    "\n",
    "***Both models assume that all features in a document are independent of each other. Moreover, both models are overfitting. As a solution, a different model could be used. We can use regularization to address overfitting.***"
   ]
  },
  {
   "cell_type": "markdown",
   "id": "1dc0f4b3",
   "metadata": {
    "id": "1dc0f4b3"
   },
   "source": [
    "<!-- END QUESTION -->\n",
    "\n",
    "## Q3(i) - Other Models \n",
    "\n",
    "Let's now look to explore using other models. \n",
    "\n",
    "You will set up a pipeline, `pipe`, that will use a Random Forest model with 100 trees and a random_state = 4821.  \n",
    "\n",
    "In the pipeline (`param_grid`), you will consider using both a document term count matrix as well as a TF-IDF matrix. \n",
    "In either case, limit the matrix to words that appear in at least 4 documents and remove English stop words.  Consider features of unigrams, unigrams + bigrams, and bigrams.  Examine a maximum feature limit of either 5000 or 10000.  \n",
    "\n",
    "Optimize your choice of hyperparameters using GridSearchCV, `grid`, with stratified 4-fold cross-validation (random_state = 4821), select the parameters using AUC. \n",
    "\n",
    "Note, do not run the jobs in parallel, you may exceed the memory resources of the autograder on Gradescope. "
   ]
  },
  {
   "cell_type": "code",
   "execution_count": 101,
   "id": "13dc5eac",
   "metadata": {
    "id": "13dc5eac",
    "tags": []
   },
   "outputs": [
    {
     "name": "stdout",
     "output_type": "stream",
     "text": [
      "Fitting 4 folds for each of 12 candidates, totalling 48 fits\n",
      "Best cross-validation score: 0.91\n",
      "Best parameters:\n",
      "{'rf__n_estimators': 100, 'vec': TfidfVectorizer(max_features=5000, min_df=4, ngram_range=(1, 2),\n",
      "                stop_words='english'), 'vec__max_features': 5000, 'vec__ngram_range': (1, 2)}\n"
     ]
    }
   ],
   "source": [
    "# Run Pipeline to find best model\n",
    "# Set up the pipeline\n",
    "pipe = Pipeline([\n",
    "    ('vec', CountVectorizer()),\n",
    "    ('rf', ensemble.RandomForestClassifier(random_state=4821))\n",
    "])\n",
    "\n",
    "# Set up the parameter grid\n",
    "param_grid = [    \n",
    "    {'vec': [CountVectorizer(stop_words='english', min_df=4)],\n",
    "    'vec__ngram_range': [(1, 1), (1, 2), (2, 2)],\n",
    "    'rf__n_estimators': [100],\n",
    "    'vec__max_features': [2500, 5000]},\n",
    "    {'vec': [TfidfVectorizer(stop_words='english', min_df=4)],\n",
    "    'vec__ngram_range': [(1, 1), (1, 2), (2, 2)],\n",
    "    'rf__n_estimators': [100],\n",
    "    'vec__max_features': [2500, 5000]}]\n",
    "\n",
    "# Perform the grid search\n",
    "grid = GridSearchCV(pipe,param_grid,cv=StratifiedKFold(n_splits=4,random_state = 4821,shuffle=True),\n",
    "                    scoring='roc_auc',n_jobs=1,verbose=1)\n",
    "grid.fit(text_trainval, y_trainval)\n",
    "\n",
    "print(\"Best cross-validation score: {:.2f}\".format(grid.best_score_))\n",
    "print(\"Best parameters:\\n{}\".format(grid.best_params_))"
   ]
  },
  {
   "cell_type": "code",
   "execution_count": 102,
   "id": "ed99eae5",
   "metadata": {
    "deletable": false,
    "editable": false,
    "id": "ed99eae5"
   },
   "outputs": [
    {
     "data": {
      "text/html": [
       "<p><strong><pre style='display: inline;'>q3i</pre></strong> passed! 🍀</p>"
      ],
      "text/plain": [
       "q3i results: All test cases passed!"
      ]
     },
     "execution_count": 102,
     "metadata": {},
     "output_type": "execute_result"
    }
   ],
   "source": [
    "grader.check(\"q3i\")"
   ]
  },
  {
   "cell_type": "markdown",
   "id": "e7e76411",
   "metadata": {
    "id": "e7e76411"
   },
   "source": [
    "## Q3(j) - Explore the Results \n",
    "\n",
    "Calculate the AUC on the test text, `auc_test`.   \n",
    "\n",
    "Gather the importances of the features in the best model in `importance`.\n",
    "\n",
    "Create a bar plot with the top 20 features sorted by importance.  \n"
   ]
  },
  {
   "cell_type": "code",
   "execution_count": 103,
   "id": "5be4f935",
   "metadata": {
    "id": "5be4f935",
    "tags": []
   },
   "outputs": [
    {
     "name": "stdout",
     "output_type": "stream",
     "text": [
      "AUC on test set: 1.00\n"
     ]
    },
    {
     "data": {
      "image/png": "[encoded data removed]",
      "text/plain": [
       "<Figure size 1000x600 with 1 Axes>"
      ]
     },
     "metadata": {},
     "output_type": "display_data"
    }
   ],
   "source": [
    "y_pred = grid.best_estimator_.predict(text_test)\n",
    "auc_test = metrics.roc_auc_score(y_test, y_pred)\n",
    "print(f\"AUC on test set: {auc_test:.2f}\")\n",
    "\n",
    "importance = grid.best_estimator_.named_steps['rf'].feature_importances_\n",
    "\n",
    "# Get indices of top 20 features sorted by importance\n",
    "indices = importance.argsort()[::-1][:20]\n",
    "\n",
    "# Plot horizontal bar chart\n",
    "plt.figure(figsize=(10, 6))\n",
    "plt.title(\"Top 20 Features by Importance\")\n",
    "plt.barh(range(len(indices)), importance[indices][::-1])\n",
    "plt.yticks(range(len(indices)), [vocab[i] for i in indices][::-1])\n",
    "plt.xlabel(\"Importance\")\n",
    "plt.ylabel(\"Feature\")\n",
    "plt.show();"
   ]
  },
  {
   "cell_type": "code",
   "execution_count": 104,
   "id": "d4911024",
   "metadata": {
    "deletable": false,
    "editable": false,
    "id": "d4911024"
   },
   "outputs": [
    {
     "data": {
      "text/html": [
       "<p><strong><pre style='display: inline;'>q3j</pre></strong> passed! 🌈</p>"
      ],
      "text/plain": [
       "q3j results: All test cases passed!"
      ]
     },
     "execution_count": 104,
     "metadata": {},
     "output_type": "execute_result"
    }
   ],
   "source": [
    "grader.check(\"q3j\")"
   ]
  }
 ],
 "metadata": {
  "colab": {
   "provenance": []
  },
  "kernelspec": {
   "display_name": "Python [conda env:.conda-cs4821] *",
   "language": "python",
   "name": "conda-env-.conda-cs4821-py"
  },
  "language_info": {
   "codemirror_mode": {
    "name": "ipython",
    "version": 3
   },
   "file_extension": ".py",
   "mimetype": "text/x-python",
   "name": "python",
   "nbconvert_exporter": "python",
   "pygments_lexer": "ipython3",
   "version": "3.8.10"
  },
  "otter": {
   "OK_FORMAT": true,
   "assignment_name": "a3",
   "tests": {
    "q0": {
     "name": "q0",
     "points": 2,
     "suites": [
      {
       "cases": [
        {
         "code": ">>> COLAB == False\nTrue",
         "hidden": false,
         "locked": false
        },
        {
         "code": ">>> LLM == True | GS == True\nTrue",
         "hidden": false,
         "locked": false
        }
       ],
       "scored": true,
       "setup": "",
       "teardown": "",
       "type": "doctest"
      }
     ]
    },
    "q1a": {
     "name": "q1a",
     "points": 2,
     "suites": [
      {
       "cases": [
        {
         "code": ">>> pok.shape == (800, 13)\nTrue",
         "hidden": false,
         "locked": false
        },
        {
         "code": ">>> all(pok.columns == ['Num', 'Name', 'Type1', 'Type2', 'Total', 'HP', 'Attack', \n...                     'Defense', 'SpAtk', 'SpDef', 'Speed', 'Generation', \n...                     'Legendary'])\nTrue",
         "hidden": false,
         "locked": false
        },
        {
         "code": ">>> all(pok.iloc[0,1:4] == ['Bulbasaur', 'Grass', 'Poison'])\nTrue",
         "hidden": false,
         "locked": false
        },
        {
         "code": ">>> all(pok.iloc[10:15,6] == [63, 83, 103, 30, 20])\nTrue",
         "hidden": false,
         "locked": false
        }
       ],
       "scored": true,
       "setup": "",
       "teardown": "",
       "type": "doctest"
      }
     ]
    },
    "q1c": {
     "name": "q1c",
     "points": 6,
     "suites": [
      {
       "cases": [
        {
         "code": ">>> pokScaled.shape == (800,6)\nTrue",
         "hidden": false,
         "locked": false
        },
        {
         "code": ">>> type(pokScaled) == np.ndarray\nTrue",
         "hidden": false,
         "locked": false
        },
        {
         "code": ">>> all(np.isclose(pokScaled[0,1:4], \n...                [-0.92490618, -0.79715364, -0.2391303 ]))\nTrue",
         "hidden": false,
         "locked": false
        },
        {
         "code": ">>> all(np.isclose(pokScaled[10:14,5], \n...                [-0.35388031,  0.33477026,  0.33477026,  -0.80150318]))\nTrue",
         "hidden": false,
         "locked": false
        },
        {
         "code": ">>> all(np.isclose(pokScaled[598:602,3], \n...                [-1.30940659, -1.30940659, -1.00361336, -0.69782014]))\nTrue",
         "hidden": false,
         "locked": false
        },
        {
         "code": ">>> all(np.isclose(pokScaled[764, 0:4], \n...                [-0.98981316, -1.26402432, -1.31056648, -0.36144759]))\nTrue",
         "hidden": false,
         "locked": false
        }
       ],
       "scored": true,
       "setup": "",
       "teardown": "",
       "type": "doctest"
      }
     ]
    },
    "q1d": {
     "name": "q1d",
     "points": 8,
     "suites": [
      {
       "cases": [
        {
         "code": ">>> pokPCA.components_.shape == (6, 6)\nTrue",
         "hidden": false,
         "locked": false
        },
        {
         "code": ">>> all(np.isclose(pokPCA.singular_values_, \n...                [46.57415509, 29.57730829, 24.95989026, 24.01108605, \n...                 18.51572769, 14.6174678 ]))\nTrue",
         "hidden": false,
         "locked": false
        },
        {
         "code": ">>> all(np.isclose(pokPCA.explained_variance_, \n...                [2.71483344, 1.09489007, 0.7797198 , 0.72156728, 0.42907656,\n...                 0.26742223]))\nTrue",
         "hidden": false,
         "locked": false
        },
        {
         "code": ">>> pokPCA.n_components_ == 6\nTrue",
         "hidden": false,
         "locked": false
        },
        {
         "code": ">>> pokPCA.n_features_in_ == 6\nTrue",
         "hidden": false,
         "locked": false
        },
        {
         "code": ">>> all(np.isclose(pokPCA.components_[1,1:4],\n...                [-0.01182493,  0.62878867, -0.30541446]))\nTrue",
         "hidden": false,
         "locked": false
        },
        {
         "code": ">>> all(np.isclose(pokPCA.mean_, \n...                [-2.48689958e-16,  5.32907052e-17, -4.44089210e-17,  \n...                 1.95399252e-16, -1.42108547e-16, -1.15463195e-16]))\nTrue",
         "hidden": false,
         "locked": false
        },
        {
         "code": ">>> pokPCA.n_samples_ == 800\nTrue",
         "hidden": false,
         "locked": false
        }
       ],
       "scored": true,
       "setup": "",
       "teardown": "",
       "type": "doctest"
      }
     ]
    },
    "q2a": {
     "name": "q2a",
     "points": 12,
     "suites": [
      {
       "cases": [
        {
         "code": ">>> college.shape == (21,21)\nTrue",
         "hidden": false,
         "locked": false
        },
        {
         "code": ">>> all(college.iloc[10,13:15] == [13, 13])\nTrue",
         "hidden": false,
         "locked": false
        },
        {
         "code": ">>> college_sc.shape == (21, 18)\nTrue",
         "hidden": false,
         "locked": false
        },
        {
         "code": ">>> all(np.isclose(college_sc[12, 13:15], [1.71195253, 0.19334928]))\nTrue",
         "hidden": false,
         "locked": false
        }
       ],
       "scored": true,
       "setup": "",
       "teardown": "",
       "type": "doctest"
      }
     ]
    },
    "q2c": {
     "name": "q2c",
     "points": 2,
     "suites": [
      {
       "cases": [],
       "scored": true,
       "setup": "",
       "teardown": "",
       "type": "doctest"
      }
     ]
    },
    "q3a": {
     "name": "q3a",
     "points": 12,
     "suites": [
      {
       "cases": [
        {
         "code": ">>> len(textdata) == 45 \nTrue",
         "hidden": false,
         "locked": false
        },
        {
         "code": ">>> textdata[0].decode()[0:40] == '[Illustration: Moore placed his hand on '\nTrue",
         "hidden": false,
         "locked": false
        },
        {
         "code": ">>> textdata[10].decode()[0:40] == 'OUR MUTUAL FRIEND\\n\\nCharles Dickens\\n\\n\\n\\nCO'\nTrue",
         "hidden": false,
         "locked": false
        },
        {
         "code": ">>> books_data.shape == (45, 12)\nTrue",
         "hidden": false,
         "locked": false
        },
        {
         "code": ">>> textdata[23].decode()[200:250] == 'Crowd\\n\\nby Thomas Hardy\\n\\nAUTHOR OF\\n“A PAIR OF BLUE '\nTrue",
         "hidden": false,
         "locked": false
        },
        {
         "code": ">>> textdata[13].decode()[50:100] == 'Boston\\nH. M. Caldwell Company Publishers\\n\\nTo my de'\nTrue",
         "hidden": false,
         "locked": false
        }
       ],
       "scored": true,
       "setup": "",
       "teardown": "",
       "type": "doctest"
      }
     ]
    },
    "q3b": {
     "name": "q3b",
     "points": 10,
     "suites": [
      {
       "cases": [
        {
         "code": ">>> len(text_trainval) == 36\nTrue",
         "hidden": false,
         "locked": false
        },
        {
         "code": ">>> len(text_test) == 9\nTrue",
         "hidden": false,
         "locked": false
        },
        {
         "code": ">>> all(y_trainval[0:10] == [0, 0, 1, 0, 1, 0, 1, 0, 1, 0])\nTrue",
         "hidden": false,
         "locked": false
        },
        {
         "code": ">>> all(y_test == [0, 0, 0, 0, 1, 1, 1, 0, 0])\nTrue",
         "hidden": false,
         "locked": false
        },
        {
         "code": ">>> text_trainval[0].decode()[500:530] == ' maroons,\\n                  An'\nTrue",
         "hidden": false,
         "locked": false
        },
        {
         "code": ">>> text_test[0].decode()[1000:1040] == 'le;\\n    but on reflection it appears tha'\nTrue",
         "hidden": false,
         "locked": false
        }
       ],
       "scored": true,
       "setup": "",
       "teardown": "",
       "type": "doctest"
      }
     ]
    },
    "q3c": {
     "name": "q3c",
     "points": 6,
     "suites": [
      {
       "cases": [
        {
         "code": ">>> dtm_trainval.shape == (36, 60553)\nTrue",
         "hidden": false,
         "locked": false
        },
        {
         "code": ">>> type(dtm_trainval) == scipy.sparse._csr.csr_matrix\nTrue",
         "hidden": false,
         "locked": false
        },
        {
         "code": ">>> all(vocab[450:460] == ['abaft', 'abaht', 'abana', 'abandon', 'abandoned', \n...                        'abandonedly', 'abandoning', 'abandonment', 'abandons', \n...                        'abart'])\nTrue",
         "hidden": false,
         "locked": false
        },
        {
         "code": ">>> len(vocab) == 60553\nTrue",
         "hidden": false,
         "locked": false
        },
        {
         "code": ">>> all(dtm_trainval[0,0:10].toarray()[0] == [0, 0, 2, 1, 0, 0, 1, 0, 0, 0])\nTrue",
         "hidden": false,
         "locked": false
        },
        {
         "code": ">>> all(dtm_trainval[32, 503:513].toarray()[0] == [0, 0, 0, 0, 0, 0, 0, 0, 0, 0])\nTrue",
         "hidden": false,
         "locked": false
        }
       ],
       "scored": true,
       "setup": "",
       "teardown": "",
       "type": "doctest"
      }
     ]
    },
    "q3f": {
     "name": "q3f",
     "points": 8,
     "suites": [
      {
       "cases": [
        {
         "code": ">>> np.isclose(train_acc, 0.86111111111)\nTrue",
         "hidden": false,
         "locked": false
        },
        {
         "code": ">>> np.isclose(test_acc, 0.66666666666)\nTrue",
         "hidden": false,
         "locked": false
        },
        {
         "code": ">>> all(X_trainval[0,1:10].toarray()[0] == [1, 0, 1, 0, 1, 1, 0, 0, 1])\nTrue",
         "hidden": false,
         "locked": false
        },
        {
         "code": ">>> all(X_trainval[5,400:410].toarray()[0] == [1, 1, 1, 1, 1, 1, 1, 1, 1, 1])\nTrue",
         "hidden": false,
         "locked": false
        }
       ],
       "scored": true,
       "setup": "",
       "teardown": "",
       "type": "doctest"
      }
     ]
    },
    "q3g": {
     "name": "q3g",
     "points": 8,
     "suites": [
      {
       "cases": [
        {
         "code": ">>> train_acc2 == 1.0\nTrue",
         "hidden": false,
         "locked": false
        },
        {
         "code": ">>> np.isclose(test_acc2, 0.8888888)\nTrue",
         "hidden": false,
         "locked": false
        },
        {
         "code": ">>> all(X_trainval[0,1:10].toarray()[0] == [ 0,  0,  6, 35,  0,  3,  4,  0,  4])\nTrue",
         "hidden": false,
         "locked": false
        },
        {
         "code": ">>> all(X_trainval[5,400:410].toarray()[0] == \n...     [ 2, 22,  6, 10,  2,  5, 37,  4,  4,  0])\nTrue",
         "hidden": false,
         "locked": false
        }
       ],
       "scored": true,
       "setup": "",
       "teardown": "",
       "type": "doctest"
      }
     ]
    },
    "q3i": {
     "name": "q3i",
     "points": [
      3,
      3,
      3,
      7,
      4
     ],
     "suites": [
      {
       "cases": [
        {
         "code": ">>> type(grid.best_params_['vec']) == TfidfVectorizer\nTrue",
         "hidden": false,
         "locked": false
        },
        {
         "code": ">>> grid.best_params_['vec__max_features'] == 5000\nTrue",
         "hidden": false,
         "locked": false
        },
        {
         "code": ">>> grid.best_params_['vec__ngram_range'] == (1, 2)\nTrue",
         "hidden": false,
         "locked": false
        },
        {
         "code": ">>> all(np.isclose(grid.cv_results_['mean_test_score'],\n...                [0.77083333, 0.78472222, 0.78472222, 0.80555556, 0.85416667,\n...                 0.77083333, 0.85416667, 0.88194444, 0.80555556, 0.875     ,\n...                 0.90972222, 0.80555556]))\nTrue",
         "hidden": false,
         "locked": false
        },
        {
         "code": ">>> np.isclose(grid.best_score_, 0.909722222)\nTrue",
         "hidden": false,
         "locked": false
        }
       ],
       "scored": true,
       "setup": "",
       "teardown": "",
       "type": "doctest"
      }
     ]
    },
    "q3j": {
     "name": "q3j",
     "points": 8,
     "suites": [
      {
       "cases": [
        {
         "code": ">>> auc_test == 1.0\nTrue",
         "hidden": false,
         "locked": false
        },
        {
         "code": ">>> all(np.isclose(importance[0:10],\n...            [0.        , 0.        , 0.        , 0.00125874, 0.        ,\n...             0.        , 0.        , 0.        , 0.        , 0.00242424]))\nTrue",
         "hidden": false,
         "locked": false
        }
       ],
       "scored": true,
       "setup": "",
       "teardown": "",
       "type": "doctest"
      }
     ]
    }
   }
  }
 },
 "nbformat": 4,
 "nbformat_minor": 5
}
