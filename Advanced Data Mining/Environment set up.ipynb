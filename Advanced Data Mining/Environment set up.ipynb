{
 "cells": [
  {
   "cell_type": "markdown",
   "id": "41c74452",
   "metadata": {},
   "source": [
    "# A0 - Python Assignment \n",
    "\n",
    "Upon successful completion of this assignment, a student will be able to:\n",
    "\n",
    "* Correctly setup Python environment on Campus Linux Machines\n",
    "* Gain experience in formatting text using Markdown\n",
    "* Submit assignment to Gradescope."
   ]
  },
  {
   "cell_type": "markdown",
   "id": "ea2f3684",
   "metadata": {},
   "source": [
    "# Q1 - Setup\n",
    "\n",
    "The following code looks to see whether your notebook is run on Gradescope (GS), Colab (COLAB), or the linux Python environment you were asked to setup."
   ]
  },
  {
   "cell_type": "code",
   "execution_count": 3,
   "id": "20a3b4de",
   "metadata": {},
   "outputs": [
    {
     "name": "stdout",
     "output_type": "stream",
     "text": [
      "System: GS - False, COLAB - False, LLM - True\n"
     ]
    }
   ],
   "source": [
    "import re \n",
    "import os\n",
    "import platform \n",
    "import sys \n",
    "\n",
    "# flag if notebook is running on Gradescope \n",
    "if re.search(r'amzn', platform.uname().release): \n",
    "    GS = True\n",
    "else: \n",
    "    GS = False\n",
    "\n",
    "# flag if notebook is running on Colaboratory \n",
    "try:\n",
    "  import google.colab\n",
    "  COLAB = True\n",
    "except:\n",
    "  COLAB = False\n",
    "\n",
    "# flag if running on Linux lab machines. \n",
    "cname = platform.uname().node\n",
    "if re.search(r'(guardian|colossus|c28)', cname):\n",
    "    LLM = True \n",
    "else: \n",
    "    LLM = False\n",
    "\n",
    "print(\"System: GS - %s, COLAB - %s, LLM - %s\" % (GS, COLAB, LLM))"
   ]
  },
  {
   "cell_type": "markdown",
   "id": "f823ba8d",
   "metadata": {},
   "source": [
    "## Python Setup \n",
    "\n",
    "Check to make sure the correct version of Python was run. "
   ]
  },
  {
   "cell_type": "code",
   "execution_count": 4,
   "id": "40a788d0",
   "metadata": {},
   "outputs": [
    {
     "name": "stdout",
     "output_type": "stream",
     "text": [
      "3.8.10 (default, Jun  4 2021, 15:09:15) \n",
      "[GCC 7.5.0]\n"
     ]
    }
   ],
   "source": [
    "pver = sys.version \n",
    "print(pver) "
   ]
  },
  {
   "cell_type": "markdown",
   "id": "e45a9efc",
   "metadata": {},
   "source": [
    "## Notebook Setup \n",
    "\n",
    "It is good practice to list all imports needed at the top of the notebook. You can import modules in later cells as needed, but listing them at the top clearly shows all which are needed to be available / installed.\n",
    "\n",
    "If you are doing development on Colab, the otter-grader package is not available, so you will need to install it with pip (uncomment the cell directly below)."
   ]
  },
  {
   "cell_type": "code",
   "execution_count": 5,
   "id": "a48212b5",
   "metadata": {},
   "outputs": [],
   "source": [
    "# Only uncomment if you developing on Colab \n",
    "# if COLAB == True: \n",
    "#     print(\"Installing otter:\")\n",
    "#     !pip install otter-grader==4.2.0 "
   ]
  },
  {
   "cell_type": "code",
   "execution_count": 6,
   "id": "608e7b99",
   "metadata": {},
   "outputs": [],
   "source": [
    "# Import standard DS packages \n",
    "import pandas as pd \n",
    "import numpy as np\n",
    "import matplotlib as mpl \n",
    "import matplotlib.pyplot as plt \n",
    "%matplotlib inline \n",
    "\n",
    "# Package for Autograder \n",
    "import otter \n",
    "grader = otter.Notebook()"
   ]
  },
  {
   "cell_type": "markdown",
   "id": "7571c440",
   "metadata": {},
   "source": [
    "## Environment Setup \n",
    "\n",
    "The python environment that is running is: "
   ]
  },
  {
   "cell_type": "code",
   "execution_count": 7,
   "id": "53944bcf",
   "metadata": {},
   "outputs": [
    {
     "name": "stdout",
     "output_type": "stream",
     "text": [
      "/home/campus24/dobidov/.conda/envs/cs4821/bin/python\n"
     ]
    }
   ],
   "source": [
    "env1 = sys.executable\n",
    "print(env1)"
   ]
  },
  {
   "cell_type": "code",
   "execution_count": 8,
   "id": "3e4cecde",
   "metadata": {},
   "outputs": [
    {
     "name": "stdout",
     "output_type": "stream",
     "text": [
      "['     active environment : cs4821', '    active env location : /home/campus24/dobidov/.conda/envs/cs4821']\n"
     ]
    }
   ],
   "source": [
    "env2 =!conda info | grep 'active env'\n",
    "print(env2)"
   ]
  },
  {
   "cell_type": "markdown",
   "id": "f3b5eb6f",
   "metadata": {},
   "source": [
    "Make sure that the environment you set up for the class is what is being used to execute your notebook. For example, the default name should be \"cs4821\". \n",
    "\n",
    "Next, we are going to look at all the packages installed. "
   ]
  },
  {
   "cell_type": "code",
   "execution_count": 9,
   "id": "7c21c9bb",
   "metadata": {},
   "outputs": [
    {
     "name": "stdout",
     "output_type": "stream",
     "text": [
      "\u001b[42m[ OK ]\u001b[0m numpy version 1.21.6\n",
      "\u001b[42m[ OK ]\u001b[0m scipy version 1.9.3\n",
      "\u001b[42m[ OK ]\u001b[0m matplotlib version 3.2.2\n",
      "\u001b[42m[ OK ]\u001b[0m pandas version 1.3.5\n",
      "\u001b[42m[ OK ]\u001b[0m IPython version 8.7.0\n",
      "\u001b[42m[ OK ]\u001b[0m seaborn version 0.12.2\n",
      "\u001b[42m[ OK ]\u001b[0m plotly version 5.9.0\n",
      "\u001b[42m[ OK ]\u001b[0m dill version 0.3.6\n",
      "\u001b[42m[ OK ]\u001b[0m sklearn version 1.0.2\n"
     ]
    }
   ],
   "source": [
    "import importlib\n",
    "from packaging.version import Version, parse \n",
    "\n",
    "OK = '\\x1b[42m[ OK ]\\x1b[0m'\n",
    "FAIL = \"\\x1b[41m[FAIL]\\x1b[0m\"\n",
    "\n",
    "def import_version(pkg, req_ver, fail_msg=\"\"):\n",
    "    mod = None\n",
    "    try:\n",
    "        mod = importlib.import_module(pkg)\n",
    "        ver = mod.__version__\n",
    "        if Version(ver) != req_ver:\n",
    "            print(FAIL, \"%s version %s required, but %s installed.\"\n",
    "                  % (lib, req_ver, ver))\n",
    "        else:\n",
    "            print(OK, '%s version %s' % (pkg, ver))\n",
    "    except ImportError:\n",
    "        print(FAIL, '%s not installed. %s' % (pkg, fail_msg))\n",
    "        ver = ''\n",
    "    return (mod, Version(ver), req_ver)\n",
    "\n",
    "requirements = {'numpy': parse(\"1.21.6\"), 'scipy': parse(\"1.9.3\"),\n",
    "                'matplotlib': parse(\"3.2.2\"), 'pandas': parse(\"1.3.5\"),\n",
    "                'IPython': parse(\"8.7.0\"), 'seaborn': parse('0.12.2'),\n",
    "                'plotly': parse(\"5.9.0\"), 'dill': parse('0.3.6'),\n",
    "                'sklearn': parse(\"1.0.2\")\n",
    "                }\n",
    "\n",
    "pks = []\n",
    "for lib, required_version in list(requirements.items()):\n",
    "    pks.append(import_version(lib, required_version))"
   ]
  },
  {
   "cell_type": "code",
   "execution_count": 10,
   "id": "5bf82412",
   "metadata": {
    "deletable": false,
    "editable": false
   },
   "outputs": [
    {
     "data": {
      "text/html": [
       "<p><strong><pre style='display: inline;'>q1</pre></strong> passed! ✨</p>"
      ],
      "text/plain": [
       "q1 results: All test cases passed!"
      ]
     },
     "execution_count": 10,
     "metadata": {},
     "output_type": "execute_result"
    }
   ],
   "source": [
    "grader.check(\"q1\")"
   ]
  },
  {
   "cell_type": "markdown",
   "id": "3b87d010",
   "metadata": {},
   "source": [
    "<!-- BEGIN QUESTION -->\n",
    "\n",
    "# Q2 \n",
    "\n",
    "Enter the following formatted text into the Markdown cell below. \n",
    "\n",
    "In the same Markdown cell: \n",
    "* Add a first level heading with \"a0-Python\" \n",
    "* Add a second level heading with the due date formatted as:  `Due: %a %b %-d @ %-I:%-M%p`  \n",
    "  Use `strftime()` and `strptime` format codes \n",
    "* Add boldface course \"CS 4821\" or \"CS 5841\"  \n",
    "* On the next line, add the semester \"Spring 2023\" in italics \n",
    "* Copy over the course objectives from the [syllabus](https://mtu.instructure.com/courses/1441806/assignments/syllabus) as an unordered list, e.g., \"Upon successful completion of this course, ...\" \n",
    "* Create a table with the grading scale A-F from the syllabus\n",
    "* Add a link to the Office of Academic and Community Conduct Resource Center for Students "
   ]
  },
  {
   "cell_type": "markdown",
   "id": "3d134a19",
   "metadata": {},
   "source": [
    "# a0-Python\n",
    "\n",
    "## Due: Thu Jan 26 @ 11:59PM\n",
    "\n",
    "**CS 5841**\n",
    "\n",
    "*Spring 2023*\n",
    "\n",
    "Upon successful completion of this course, students will be able to:\n",
    "\n",
    "-  Describe advanced data mining concepts and techniques\n",
    "-  Apply the techniques of clustering, classification, association finding, and visualization on sample and real-world data sets\n",
    "-  Select and apply data mining tools to real-world problems\n",
    "-  Formulate a real-world data mining problem: find, get, and clean the data, select and implement appropriate methods, evaluate the performance of the methods, etc.\n",
    "-  Discuss and communicate the results and methods of applying data mining techniques to a problem\n",
    "\n",
    "| Percentage | Letter Grade |\n",
    "|:-----------|:-------------|\n",
    "| > 93% |A|\n",
    "| [88 - 93%) | AB |\n",
    "| [83 - 88%) | B |\n",
    "| [78 - 83%) | BC |\n",
    "| [73 - 78%) | C |\n",
    "| [68 - 73%) | CD |\n",
    "| [60 - 68%) | D |\n",
    "| < 60% | F |\n",
    "\n",
    "[Office of Academic and Community Conduct Resource Center for Students](https://www.mtu.edu/conduct/)"
   ]
  },
  {
   "cell_type": "markdown",
   "id": "76a933a7",
   "metadata": {},
   "source": [
    "<!-- END QUESTION -->\n",
    "\n",
    "# Checks before submitting \n",
    "\n",
    "Make sure to run this notebook on the campus linux machines and submit to Gradescope the zip file that is created. \n",
    "\n",
    "**FAQ:** \n",
    "\n",
    "* Q: I notice my zip file is growing as I repeatedly run the notebook? \n",
    "* A: This assignment is graded from a log file called `.OTTER_LOG`.  Other assignments will be graded by rerunning your code. Before rerunning the entire notebook `Cell -> Run All`, delete the `.OTTER_LOG` file.  \n",
    "\n",
    "\n",
    "\n",
    "* Q: I am getting different package numbers? \n",
    "* A: Make sure you follow the instructions to set up the Python environment on the campus linux machines.  \n"
   ]
  },
  {
   "cell_type": "markdown",
   "id": "cb6eaf27",
   "metadata": {
    "deletable": false,
    "editable": false
   },
   "source": [
    "## Submission\n",
    "\n",
    "Make sure you have run all cells in your notebook in order before running the cell below, so that all images/graphs appear in the output. The cell below will generate a zip file for you to submit. **Please save before exporting!**\n",
    "\n",
    "**NOTE** the submission must be run on the campus linux machines.  See the instruction in the Canvas assignment."
   ]
  },
  {
   "cell_type": "code",
   "execution_count": 12,
   "id": "29ebfc8a",
   "metadata": {
    "deletable": false,
    "editable": false
   },
   "outputs": [
    {
     "name": "stdout",
     "output_type": "stream",
     "text": [
      "Running your submission against local test cases...\n",
      "\n",
      "\n",
      "\n",
      "Your submission received the following results when run against available test cases:\n",
      "\n",
      "    q1 results: All test cases passed!\n"
     ]
    },
    {
     "data": {
      "text/html": [
       "\n",
       "            <p>Your submission has been exported. Click <a href=\"a0_2023_01_25T19_52_37_021394.zip\" download=\"a0_2023_01_25T19_52_37_021394.zip\" target=\"_blank\">here</a>\n",
       "            to download the zip file.</p>\n",
       "            "
      ],
      "text/plain": [
       "<IPython.core.display.HTML object>"
      ]
     },
     "metadata": {},
     "output_type": "display_data"
    }
   ],
   "source": [
    "# Save your notebook first, then run this cell to export your submission.\n",
    "grader.export(pdf=False, run_tests=True)"
   ]
  },
  {
   "cell_type": "markdown",
   "id": "1a1ee306",
   "metadata": {},
   "source": [
    " "
   ]
  },
  {
   "cell_type": "code",
   "execution_count": null,
   "id": "57759dad",
   "metadata": {},
   "outputs": [],
   "source": []
  }
 ],
 "metadata": {
  "kernelspec": {
   "display_name": "cs4821",
   "language": "python",
   "name": "cs4821"
  },
  "language_info": {
   "codemirror_mode": {
    "name": "ipython",
    "version": 3
   },
   "file_extension": ".py",
   "mimetype": "text/x-python",
   "name": "python",
   "nbconvert_exporter": "python",
   "pygments_lexer": "ipython3",
   "version": "3.8.10"
  },
  "otter": {
   "OK_FORMAT": true,
   "assignment_name": "a0",
   "tests": {
    "q1": {
     "name": "q1",
     "points": 13,
     "suites": [
      {
       "cases": [
        {
         "code": ">>> GS == False \nTrue",
         "hidden": false,
         "locked": false
        },
        {
         "code": ">>> COLAB == False \nTrue",
         "hidden": false,
         "locked": false
        },
        {
         "code": ">>> LLM == True \nTrue",
         "hidden": false,
         "locked": false
        },
        {
         "code": ">>> pver[0:6] == '3.8.10' \nTrue",
         "hidden": false,
         "locked": false
        },
        {
         "code": ">>> pks[0][1] == parse('1.21.6')\nTrue",
         "hidden": false,
         "locked": false
        },
        {
         "code": ">>> pks[1][1] == parse('1.9.3')\nTrue",
         "hidden": false,
         "locked": false
        },
        {
         "code": ">>> pks[2][1] == parse('3.2.2')\nTrue",
         "hidden": false,
         "locked": false
        },
        {
         "code": ">>> pks[3][1] == parse('1.3.5')\nTrue",
         "hidden": false,
         "locked": false
        },
        {
         "code": ">>> pks[4][1] == parse('8.7.0')\nTrue",
         "hidden": false,
         "locked": false
        },
        {
         "code": ">>> pks[5][1] == parse('0.12.2')\nTrue",
         "hidden": false,
         "locked": false
        },
        {
         "code": ">>> pks[6][1] == parse('5.9.0')\nTrue",
         "hidden": false,
         "locked": false
        },
        {
         "code": ">>> pks[7][1] == parse('0.3.6')\nTrue",
         "hidden": false,
         "locked": false
        },
        {
         "code": ">>> pks[8][1] == parse('1.0.2')\nTrue",
         "hidden": false,
         "locked": false
        }
       ],
       "scored": true,
       "setup": "",
       "teardown": "",
       "type": "doctest"
      }
     ]
    }
   }
  }
 },
 "nbformat": 4,
 "nbformat_minor": 5
}
