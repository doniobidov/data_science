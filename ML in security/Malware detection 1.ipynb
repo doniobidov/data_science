{
  "nbformat": 4,
  "nbformat_minor": 0,
  "metadata": {
    "colab": {
      "provenance": []
    },
    "kernelspec": {
      "name": "python3",
      "display_name": "Python 3"
    },
    "language_info": {
      "name": "python"
    }
  },
  "cells": [
    {
      "cell_type": "code",
      "execution_count": 46,
      "metadata": {
        "id": "lW7MsCbgsxjJ"
      },
      "outputs": [],
      "source": [
        "# Import libraries\n",
        "import pandas as pd\n",
        "import numpy as np\n",
        "from sklearn.preprocessing import LabelEncoder, StandardScaler\n",
        "from sklearn.neighbors import KNeighborsClassifier\n",
        "from sklearn.linear_model import LogisticRegression\n",
        "from sklearn.svm import SVC\n",
        "from sklearn.naive_bayes import GaussianNB\n",
        "from sklearn.ensemble import RandomForestClassifier\n",
        "from sklearn.metrics import accuracy_score\n",
        "from sklearn.metrics import f1_score"
      ]
    },
    {
      "cell_type": "code",
      "source": [
        "# Read train_kdd_small.csv\n",
        "train_kdd_small = pd.read_csv(\"train_kdd_small.csv\", delimiter=',', header=0)\n",
        "\n",
        "# Read test_kdd_small.csv\n",
        "test_kdd_small = pd.read_csv(\"test_kdd_small.csv\", delimiter=',', header=0)"
      ],
      "metadata": {
        "id": "lc-Eh7TOuaCM"
      },
      "execution_count": 35,
      "outputs": []
    },
    {
      "cell_type": "code",
      "source": [
        "# Extract features (X_train, X_test) and target variable (y_train, y_test) for train_kdd_small\n",
        "x_train = train_kdd_small.iloc[:, :-1]  # Features (all columns except the last one)\n",
        "y_train = train_kdd_small.iloc[:, -1]   # Target variable (last column)\n",
        "\n",
        "# Extract features (X_test) and target variable (y_test) for test_kdd_small\n",
        "x_test = test_kdd_small.iloc[:, :-1]    # Features (all columns except the last one)\n",
        "y_test = test_kdd_small.iloc[:, -1]     # Target variable (last column)"
      ],
      "metadata": {
        "id": "l4tLnPP1ufUU"
      },
      "execution_count": 36,
      "outputs": []
    },
    {
      "cell_type": "code",
      "source": [
        "# Apply LabelEncoder to the second to fourth features in X_train and X_test\n",
        "label_encoder = LabelEncoder()\n",
        "for c in range(1, 4):\n",
        "    x_train.iloc[:, c] = label_encoder.fit_transform(x_train.iloc[:, c])\n",
        "    x_test.iloc[:, c] = label_encoder.transform(x_test.iloc[:, c])\n",
        "\n",
        "# Convert the data type to np.float64\n",
        "x_train = x_train.astype(np.float64)\n",
        "x_test = x_test.astype(np.float64)"
      ],
      "metadata": {
        "colab": {
          "base_uri": "https://localhost:8080/"
        },
        "id": "S4WVL4LdvpRw",
        "outputId": "23093396-f1ae-4a6b-cedf-5a80fd7c368a"
      },
      "execution_count": 37,
      "outputs": [
        {
          "output_type": "stream",
          "name": "stderr",
          "text": [
            "<ipython-input-37-8f8fcfd5ab56>:4: DeprecationWarning: In a future version, `df.iloc[:, i] = newvals` will attempt to set the values inplace instead of always setting a new array. To retain the old behavior, use either `df[df.columns[i]] = newvals` or, if columns are non-unique, `df.isetitem(i, newvals)`\n",
            "  x_train.iloc[:, c] = label_encoder.fit_transform(x_train.iloc[:, c])\n",
            "<ipython-input-37-8f8fcfd5ab56>:5: DeprecationWarning: In a future version, `df.iloc[:, i] = newvals` will attempt to set the values inplace instead of always setting a new array. To retain the old behavior, use either `df[df.columns[i]] = newvals` or, if columns are non-unique, `df.isetitem(i, newvals)`\n",
            "  x_test.iloc[:, c] = label_encoder.transform(x_test.iloc[:, c])\n",
            "<ipython-input-37-8f8fcfd5ab56>:4: DeprecationWarning: In a future version, `df.iloc[:, i] = newvals` will attempt to set the values inplace instead of always setting a new array. To retain the old behavior, use either `df[df.columns[i]] = newvals` or, if columns are non-unique, `df.isetitem(i, newvals)`\n",
            "  x_train.iloc[:, c] = label_encoder.fit_transform(x_train.iloc[:, c])\n",
            "<ipython-input-37-8f8fcfd5ab56>:5: DeprecationWarning: In a future version, `df.iloc[:, i] = newvals` will attempt to set the values inplace instead of always setting a new array. To retain the old behavior, use either `df[df.columns[i]] = newvals` or, if columns are non-unique, `df.isetitem(i, newvals)`\n",
            "  x_test.iloc[:, c] = label_encoder.transform(x_test.iloc[:, c])\n",
            "<ipython-input-37-8f8fcfd5ab56>:4: DeprecationWarning: In a future version, `df.iloc[:, i] = newvals` will attempt to set the values inplace instead of always setting a new array. To retain the old behavior, use either `df[df.columns[i]] = newvals` or, if columns are non-unique, `df.isetitem(i, newvals)`\n",
            "  x_train.iloc[:, c] = label_encoder.fit_transform(x_train.iloc[:, c])\n",
            "<ipython-input-37-8f8fcfd5ab56>:5: DeprecationWarning: In a future version, `df.iloc[:, i] = newvals` will attempt to set the values inplace instead of always setting a new array. To retain the old behavior, use either `df[df.columns[i]] = newvals` or, if columns are non-unique, `df.isetitem(i, newvals)`\n",
            "  x_test.iloc[:, c] = label_encoder.transform(x_test.iloc[:, c])\n"
          ]
        }
      ]
    },
    {
      "cell_type": "code",
      "source": [
        "# Initialize StandardScaler\n",
        "scaler = StandardScaler()\n",
        "\n",
        "# Fit and transform the features in x_train\n",
        "x_train = scaler.fit_transform(x_train)\n",
        "# Transform the features in x_test using the same scaler\n",
        "x_test = scaler.transform(x_test)\n",
        "\n",
        "# Initialize LabelEncoder\n",
        "label_encoder = LabelEncoder()\n",
        "\n",
        "# Fit and transform the target variable y_train\n",
        "y_train = label_encoder.fit_transform(y_train)\n",
        "# Transform the target variable y_test using the same encoder\n",
        "y_test = label_encoder.transform(y_test)"
      ],
      "metadata": {
        "colab": {
          "base_uri": "https://localhost:8080/"
        },
        "id": "ZWqyAdJxzoz2",
        "outputId": "bcccb5c3-f603-4deb-aa7e-c47d7029714b"
      },
      "execution_count": 39,
      "outputs": [
        {
          "output_type": "stream",
          "name": "stderr",
          "text": [
            "/usr/local/lib/python3.10/dist-packages/sklearn/base.py:432: UserWarning: X has feature names, but StandardScaler was fitted without feature names\n",
            "  warnings.warn(\n"
          ]
        }
      ]
    },
    {
      "cell_type": "code",
      "source": [
        "# Initialize the classifiers:\n",
        "knn_classifier = KNeighborsClassifier()\n",
        "logistic_classifier = LogisticRegression()\n",
        "svm_classifier = SVC()\n",
        "nb_classifier = GaussianNB()\n",
        "rf_classifier = RandomForestClassifier()"
      ],
      "metadata": {
        "id": "NIF9USk1GFQI"
      },
      "execution_count": 42,
      "outputs": []
    },
    {
      "cell_type": "code",
      "source": [
        "# Training KNN classifier\n",
        "knn_classifier.fit(x_train, y_train)\n",
        "\n",
        "# Training Logistic Regression classifier\n",
        "logistic_classifier.fit(x_train, y_train)\n",
        "\n",
        "# Training SVM classifier\n",
        "svm_classifier.fit(x_train, y_train)\n",
        "\n",
        "# Training Naive Bayes classifier\n",
        "nb_classifier.fit(x_train, y_train)\n",
        "\n",
        "# Training Random Forest classifier\n",
        "rf_classifier.fit(x_train, y_train)"
      ],
      "metadata": {
        "colab": {
          "base_uri": "https://localhost:8080/",
          "height": 74
        },
        "id": "QckPbv72G8Zl",
        "outputId": "fa189fc2-6f86-4d2e-9b4d-c70e8e798fe2"
      },
      "execution_count": 43,
      "outputs": [
        {
          "output_type": "execute_result",
          "data": {
            "text/plain": [
              "RandomForestClassifier()"
            ],
            "text/html": [
              "<style>#sk-container-id-2 {color: black;background-color: white;}#sk-container-id-2 pre{padding: 0;}#sk-container-id-2 div.sk-toggleable {background-color: white;}#sk-container-id-2 label.sk-toggleable__label {cursor: pointer;display: block;width: 100%;margin-bottom: 0;padding: 0.3em;box-sizing: border-box;text-align: center;}#sk-container-id-2 label.sk-toggleable__label-arrow:before {content: \"▸\";float: left;margin-right: 0.25em;color: #696969;}#sk-container-id-2 label.sk-toggleable__label-arrow:hover:before {color: black;}#sk-container-id-2 div.sk-estimator:hover label.sk-toggleable__label-arrow:before {color: black;}#sk-container-id-2 div.sk-toggleable__content {max-height: 0;max-width: 0;overflow: hidden;text-align: left;background-color: #f0f8ff;}#sk-container-id-2 div.sk-toggleable__content pre {margin: 0.2em;color: black;border-radius: 0.25em;background-color: #f0f8ff;}#sk-container-id-2 input.sk-toggleable__control:checked~div.sk-toggleable__content {max-height: 200px;max-width: 100%;overflow: auto;}#sk-container-id-2 input.sk-toggleable__control:checked~label.sk-toggleable__label-arrow:before {content: \"▾\";}#sk-container-id-2 div.sk-estimator input.sk-toggleable__control:checked~label.sk-toggleable__label {background-color: #d4ebff;}#sk-container-id-2 div.sk-label input.sk-toggleable__control:checked~label.sk-toggleable__label {background-color: #d4ebff;}#sk-container-id-2 input.sk-hidden--visually {border: 0;clip: rect(1px 1px 1px 1px);clip: rect(1px, 1px, 1px, 1px);height: 1px;margin: -1px;overflow: hidden;padding: 0;position: absolute;width: 1px;}#sk-container-id-2 div.sk-estimator {font-family: monospace;background-color: #f0f8ff;border: 1px dotted black;border-radius: 0.25em;box-sizing: border-box;margin-bottom: 0.5em;}#sk-container-id-2 div.sk-estimator:hover {background-color: #d4ebff;}#sk-container-id-2 div.sk-parallel-item::after {content: \"\";width: 100%;border-bottom: 1px solid gray;flex-grow: 1;}#sk-container-id-2 div.sk-label:hover label.sk-toggleable__label {background-color: #d4ebff;}#sk-container-id-2 div.sk-serial::before {content: \"\";position: absolute;border-left: 1px solid gray;box-sizing: border-box;top: 0;bottom: 0;left: 50%;z-index: 0;}#sk-container-id-2 div.sk-serial {display: flex;flex-direction: column;align-items: center;background-color: white;padding-right: 0.2em;padding-left: 0.2em;position: relative;}#sk-container-id-2 div.sk-item {position: relative;z-index: 1;}#sk-container-id-2 div.sk-parallel {display: flex;align-items: stretch;justify-content: center;background-color: white;position: relative;}#sk-container-id-2 div.sk-item::before, #sk-container-id-2 div.sk-parallel-item::before {content: \"\";position: absolute;border-left: 1px solid gray;box-sizing: border-box;top: 0;bottom: 0;left: 50%;z-index: -1;}#sk-container-id-2 div.sk-parallel-item {display: flex;flex-direction: column;z-index: 1;position: relative;background-color: white;}#sk-container-id-2 div.sk-parallel-item:first-child::after {align-self: flex-end;width: 50%;}#sk-container-id-2 div.sk-parallel-item:last-child::after {align-self: flex-start;width: 50%;}#sk-container-id-2 div.sk-parallel-item:only-child::after {width: 0;}#sk-container-id-2 div.sk-dashed-wrapped {border: 1px dashed gray;margin: 0 0.4em 0.5em 0.4em;box-sizing: border-box;padding-bottom: 0.4em;background-color: white;}#sk-container-id-2 div.sk-label label {font-family: monospace;font-weight: bold;display: inline-block;line-height: 1.2em;}#sk-container-id-2 div.sk-label-container {text-align: center;}#sk-container-id-2 div.sk-container {/* jupyter's `normalize.less` sets `[hidden] { display: none; }` but bootstrap.min.css set `[hidden] { display: none !important; }` so we also need the `!important` here to be able to override the default hidden behavior on the sphinx rendered scikit-learn.org. See: https://github.com/scikit-learn/scikit-learn/issues/21755 */display: inline-block !important;position: relative;}#sk-container-id-2 div.sk-text-repr-fallback {display: none;}</style><div id=\"sk-container-id-2\" class=\"sk-top-container\"><div class=\"sk-text-repr-fallback\"><pre>RandomForestClassifier()</pre><b>In a Jupyter environment, please rerun this cell to show the HTML representation or trust the notebook. <br />On GitHub, the HTML representation is unable to render, please try loading this page with nbviewer.org.</b></div><div class=\"sk-container\" hidden><div class=\"sk-item\"><div class=\"sk-estimator sk-toggleable\"><input class=\"sk-toggleable__control sk-hidden--visually\" id=\"sk-estimator-id-2\" type=\"checkbox\" checked><label for=\"sk-estimator-id-2\" class=\"sk-toggleable__label sk-toggleable__label-arrow\">RandomForestClassifier</label><div class=\"sk-toggleable__content\"><pre>RandomForestClassifier()</pre></div></div></div></div></div>"
            ]
          },
          "metadata": {},
          "execution_count": 43
        }
      ]
    },
    {
      "cell_type": "code",
      "source": [
        "# Predictions using KNN classifier\n",
        "knn_predictions = knn_classifier.predict(x_test)\n",
        "\n",
        "# Predictions using Logistic Regression classifier\n",
        "logistic_predictions = logistic_classifier.predict(x_test)\n",
        "\n",
        "# Predictions using SVM classifier\n",
        "svm_predictions = svm_classifier.predict(x_test)\n",
        "\n",
        "# Predictions using Naive Bayes classifier\n",
        "nb_predictions = nb_classifier.predict(x_test)\n",
        "\n",
        "# Predictions using Random Forest classifier\n",
        "rf_predictions = rf_classifier.predict(x_test)"
      ],
      "metadata": {
        "id": "ocFFGzNYHBbz"
      },
      "execution_count": 44,
      "outputs": []
    },
    {
      "cell_type": "code",
      "source": [
        "# Calculate accuracy scores\n",
        "knn_accuracy = accuracy_score(y_test, knn_predictions)\n",
        "logistic_accuracy = accuracy_score(y_test, logistic_predictions)\n",
        "svm_accuracy = accuracy_score(y_test, svm_predictions)\n",
        "nb_accuracy = accuracy_score(y_test, nb_predictions)\n",
        "rf_accuracy = accuracy_score(y_test, rf_predictions)\n",
        "\n",
        "# Print the accuracy scores\n",
        "print(\"KNN Accuracy:\", knn_accuracy)\n",
        "print(\"Logistic Regression Accuracy:\", logistic_accuracy)\n",
        "print(\"SVM Accuracy:\", svm_accuracy)\n",
        "print(\"Naive Bayes Accuracy:\", nb_accuracy)\n",
        "print(\"Random Forest Accuracy:\", rf_accuracy)"
      ],
      "metadata": {
        "colab": {
          "base_uri": "https://localhost:8080/"
        },
        "id": "_CMBnjO7HEVN",
        "outputId": "4f52f48a-816d-4c14-a8a9-9127e8402da2"
      },
      "execution_count": 45,
      "outputs": [
        {
          "output_type": "stream",
          "name": "stdout",
          "text": [
            "KNN Accuracy: 1.0\n",
            "Logistic Regression Accuracy: 0.841534612176814\n",
            "SVM Accuracy: 0.49791492910758967\n",
            "Naive Bayes Accuracy: 0.926605504587156\n",
            "Random Forest Accuracy: 0.5004170141784821\n"
          ]
        }
      ]
    },
    {
      "cell_type": "code",
      "source": [
        "# Calculate F1 scores\n",
        "knn_f1 = f1_score(y_test, knn_predictions, average='weighted')\n",
        "logistic_f1 = f1_score(y_test, logistic_predictions, average='weighted')\n",
        "svm_f1 = f1_score(y_test, svm_predictions, average='weighted')\n",
        "nb_f1 = f1_score(y_test, nb_predictions, average='weighted')\n",
        "rf_f1 = f1_score(y_test, rf_predictions, average='weighted')\n",
        "\n",
        "# Print the F1 scores\n",
        "print(\"KNN F1 Score:\", knn_f1)\n",
        "print(\"Logistic Regression F1 Score:\", logistic_f1)\n",
        "print(\"SVM F1 Score:\", svm_f1)\n",
        "print(\"Naive Bayes F1 Score:\", nb_f1)\n",
        "print(\"Random Forest F1 Score:\", rf_f1)"
      ],
      "metadata": {
        "colab": {
          "base_uri": "https://localhost:8080/"
        },
        "id": "CLmCYcnsHMa7",
        "outputId": "676815f5-5162-421d-8c74-ab54fbf40acf"
      },
      "execution_count": 47,
      "outputs": [
        {
          "output_type": "stream",
          "name": "stdout",
          "text": [
            "KNN F1 Score: 1.0\n",
            "Logistic Regression F1 Score: 0.8374754258864535\n",
            "SVM F1 Score: 0.3321281097276684\n",
            "Naive Bayes F1 Score: 0.926212570543106\n",
            "Random Forest F1 Score: 0.33379678544423486\n"
          ]
        }
      ]
    },
    {
      "cell_type": "code",
      "source": [],
      "metadata": {
        "id": "zt2SX-noHneT"
      },
      "execution_count": null,
      "outputs": []
    }
  ]
}