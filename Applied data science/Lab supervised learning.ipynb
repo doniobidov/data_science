{
  "cells": [
    {
      "cell_type": "markdown",
      "metadata": {
        "id": "ljY9Ymj3YlZZ"
      },
      "source": [
        "# Lab 9, Supervised Learning \n",
        "\n",
        "\n",
        "In class you had been introduced to the concepts of supervised learning. \n",
        "* Exposure to the Scikit-learn toolbox\n",
        "* Metrics to evaluate performance of ML algorithm\n",
        "* Training / Validation / Testing\n",
        "* KNN classification using Iris dataset \n",
        "\n",
        "Particularly, the module focused on a supervised machine learning - classification. Chapter 5 in the textbook provides the basics of Machine learning and example codes in python are expicitly demonstrated. \n",
        "\n",
        "\n",
        "In this lab session, we will look into\n",
        "* SciKit learning methods and useful functions\n",
        "* Install the required libraries for Project\n",
        "* Scikit-plot module\n",
        "\n",
        "\n",
        "**Dataset used:** Iris, breast cancer, and wine  datasets\n",
        "\n",
        "**scikit-learn Documentation**: http://scikit-learn.org/stable/index.html"
      ]
    },
    {
      "cell_type": "markdown",
      "metadata": {
        "id": "1LS5h8g1kHkz"
      },
      "source": [
        "## Autograder Setup\n",
        "\n",
        "Below you will see new code establishing a condition so that you don't have to worry about commenting out lines of code before submitting."
      ]
    },
    {
      "cell_type": "code",
      "execution_count": null,
      "metadata": {
        "colab": {
          "base_uri": "https://localhost:8080/"
        },
        "id": "7g5Tg_WgkHk0",
        "outputId": "535bce82-ae2a-4866-ce9a-c6147d1f9b67"
      },
      "outputs": [
        {
          "output_type": "execute_result",
          "data": {
            "text/plain": [
              "False"
            ]
          },
          "metadata": {},
          "execution_count": 84
        }
      ],
      "source": [
        "import re\n",
        "import os\n",
        "if re.search(r'amzn', os.uname().release): \n",
        "    GS = True\n",
        "else: \n",
        "    GS = False\n",
        "GS"
      ]
    },
    {
      "cell_type": "code",
      "execution_count": null,
      "metadata": {
        "colab": {
          "base_uri": "https://localhost:8080/"
        },
        "id": "BRc0J7uYkHk2",
        "outputId": "7863559d-29af-4535-df67-70d6276b697c"
      },
      "outputs": [
        {
          "output_type": "stream",
          "name": "stdout",
          "text": [
            "Installing otter:\n",
            "Looking in indexes: https://pypi.org/simple, https://us-python.pkg.dev/colab-wheels/public/simple/\n",
            "Requirement already satisfied: otter-grader in /usr/local/lib/python3.7/dist-packages (4.1.1)\n",
            "Requirement already satisfied: google-auth-oauthlib in /usr/local/lib/python3.7/dist-packages (from otter-grader) (0.4.6)\n",
            "Requirement already satisfied: jupytext in /usr/local/lib/python3.7/dist-packages (from otter-grader) (1.14.1)\n",
            "Requirement already satisfied: gspread in /usr/local/lib/python3.7/dist-packages (from otter-grader) (3.4.2)\n",
            "Requirement already satisfied: fica>=0.2.0 in /usr/local/lib/python3.7/dist-packages (from otter-grader) (0.2.2)\n",
            "Requirement already satisfied: click in /usr/local/lib/python3.7/dist-packages (from otter-grader) (7.1.2)\n",
            "Requirement already satisfied: dill in /usr/local/lib/python3.7/dist-packages (from otter-grader) (0.3.6)\n",
            "Requirement already satisfied: PyYAML in /usr/local/lib/python3.7/dist-packages (from otter-grader) (6.0)\n",
            "Requirement already satisfied: jinja2 in /usr/local/lib/python3.7/dist-packages (from otter-grader) (2.11.3)\n",
            "Requirement already satisfied: pandas in /usr/local/lib/python3.7/dist-packages (from otter-grader) (1.3.5)\n",
            "Requirement already satisfied: nbformat in /usr/local/lib/python3.7/dist-packages (from otter-grader) (5.7.0)\n",
            "Requirement already satisfied: python-on-whales in /usr/local/lib/python3.7/dist-packages (from otter-grader) (0.53.0)\n",
            "Requirement already satisfied: google-api-python-client in /usr/local/lib/python3.7/dist-packages (from otter-grader) (1.12.11)\n",
            "Requirement already satisfied: six in /usr/local/lib/python3.7/dist-packages (from otter-grader) (1.15.0)\n",
            "Requirement already satisfied: wrapt in /usr/local/lib/python3.7/dist-packages (from otter-grader) (1.14.1)\n",
            "Requirement already satisfied: requests in /usr/local/lib/python3.7/dist-packages (from otter-grader) (2.23.0)\n",
            "Requirement already satisfied: docutils in /usr/local/lib/python3.7/dist-packages (from fica>=0.2.0->otter-grader) (0.17.1)\n",
            "Requirement already satisfied: sphinx in /usr/local/lib/python3.7/dist-packages (from fica>=0.2.0->otter-grader) (1.8.6)\n",
            "Requirement already satisfied: google-auth-httplib2>=0.0.3 in /usr/local/lib/python3.7/dist-packages (from google-api-python-client->otter-grader) (0.0.4)\n",
            "Requirement already satisfied: google-api-core<3dev,>=1.21.0 in /usr/local/lib/python3.7/dist-packages (from google-api-python-client->otter-grader) (1.31.6)\n",
            "Requirement already satisfied: google-auth<3dev,>=1.16.0 in /usr/local/lib/python3.7/dist-packages (from google-api-python-client->otter-grader) (1.35.0)\n",
            "Requirement already satisfied: uritemplate<4dev,>=3.0.0 in /usr/local/lib/python3.7/dist-packages (from google-api-python-client->otter-grader) (3.0.1)\n",
            "Requirement already satisfied: httplib2<1dev,>=0.15.0 in /usr/local/lib/python3.7/dist-packages (from google-api-python-client->otter-grader) (0.17.4)\n",
            "Requirement already satisfied: pytz in /usr/local/lib/python3.7/dist-packages (from google-api-core<3dev,>=1.21.0->google-api-python-client->otter-grader) (2022.5)\n",
            "Requirement already satisfied: protobuf<4.0.0dev,>=3.12.0 in /usr/local/lib/python3.7/dist-packages (from google-api-core<3dev,>=1.21.0->google-api-python-client->otter-grader) (3.17.3)\n",
            "Requirement already satisfied: googleapis-common-protos<2.0dev,>=1.6.0 in /usr/local/lib/python3.7/dist-packages (from google-api-core<3dev,>=1.21.0->google-api-python-client->otter-grader) (1.56.4)\n",
            "Requirement already satisfied: setuptools>=40.3.0 in /usr/local/lib/python3.7/dist-packages (from google-api-core<3dev,>=1.21.0->google-api-python-client->otter-grader) (57.4.0)\n",
            "Requirement already satisfied: packaging>=14.3 in /usr/local/lib/python3.7/dist-packages (from google-api-core<3dev,>=1.21.0->google-api-python-client->otter-grader) (21.3)\n",
            "Requirement already satisfied: rsa<5,>=3.1.4 in /usr/local/lib/python3.7/dist-packages (from google-auth<3dev,>=1.16.0->google-api-python-client->otter-grader) (4.9)\n",
            "Requirement already satisfied: pyasn1-modules>=0.2.1 in /usr/local/lib/python3.7/dist-packages (from google-auth<3dev,>=1.16.0->google-api-python-client->otter-grader) (0.2.8)\n",
            "Requirement already satisfied: cachetools<5.0,>=2.0.0 in /usr/local/lib/python3.7/dist-packages (from google-auth<3dev,>=1.16.0->google-api-python-client->otter-grader) (4.2.4)\n",
            "Requirement already satisfied: pyparsing!=3.0.5,>=2.0.2 in /usr/local/lib/python3.7/dist-packages (from packaging>=14.3->google-api-core<3dev,>=1.21.0->google-api-python-client->otter-grader) (3.0.9)\n",
            "Requirement already satisfied: pyasn1<0.5.0,>=0.4.6 in /usr/local/lib/python3.7/dist-packages (from pyasn1-modules>=0.2.1->google-auth<3dev,>=1.16.0->google-api-python-client->otter-grader) (0.4.8)\n",
            "Requirement already satisfied: idna<3,>=2.5 in /usr/local/lib/python3.7/dist-packages (from requests->otter-grader) (2.10)\n",
            "Requirement already satisfied: chardet<4,>=3.0.2 in /usr/local/lib/python3.7/dist-packages (from requests->otter-grader) (3.0.4)\n",
            "Requirement already satisfied: urllib3!=1.25.0,!=1.25.1,<1.26,>=1.21.1 in /usr/local/lib/python3.7/dist-packages (from requests->otter-grader) (1.24.3)\n",
            "Requirement already satisfied: certifi>=2017.4.17 in /usr/local/lib/python3.7/dist-packages (from requests->otter-grader) (2022.9.24)\n",
            "Requirement already satisfied: requests-oauthlib>=0.7.0 in /usr/local/lib/python3.7/dist-packages (from google-auth-oauthlib->otter-grader) (1.3.1)\n",
            "Requirement already satisfied: oauthlib>=3.0.0 in /usr/local/lib/python3.7/dist-packages (from requests-oauthlib>=0.7.0->google-auth-oauthlib->otter-grader) (3.2.2)\n",
            "Requirement already satisfied: MarkupSafe>=0.23 in /usr/local/lib/python3.7/dist-packages (from jinja2->otter-grader) (2.0.1)\n",
            "Requirement already satisfied: markdown-it-py<3.0.0,>=1.0.0 in /usr/local/lib/python3.7/dist-packages (from jupytext->otter-grader) (2.1.0)\n",
            "Requirement already satisfied: mdit-py-plugins in /usr/local/lib/python3.7/dist-packages (from jupytext->otter-grader) (0.3.1)\n",
            "Requirement already satisfied: toml in /usr/local/lib/python3.7/dist-packages (from jupytext->otter-grader) (0.10.2)\n",
            "Requirement already satisfied: mdurl~=0.1 in /usr/local/lib/python3.7/dist-packages (from markdown-it-py<3.0.0,>=1.0.0->jupytext->otter-grader) (0.1.2)\n",
            "Requirement already satisfied: typing_extensions>=3.7.4 in /usr/local/lib/python3.7/dist-packages (from markdown-it-py<3.0.0,>=1.0.0->jupytext->otter-grader) (4.1.1)\n",
            "Requirement already satisfied: jsonschema>=2.6 in /usr/local/lib/python3.7/dist-packages (from nbformat->otter-grader) (4.3.3)\n",
            "Requirement already satisfied: traitlets>=5.1 in /usr/local/lib/python3.7/dist-packages (from nbformat->otter-grader) (5.1.1)\n",
            "Requirement already satisfied: importlib-metadata>=3.6 in /usr/local/lib/python3.7/dist-packages (from nbformat->otter-grader) (4.13.0)\n",
            "Requirement already satisfied: jupyter-core in /usr/local/lib/python3.7/dist-packages (from nbformat->otter-grader) (4.11.2)\n",
            "Requirement already satisfied: fastjsonschema in /usr/local/lib/python3.7/dist-packages (from nbformat->otter-grader) (2.16.2)\n",
            "Requirement already satisfied: zipp>=0.5 in /usr/local/lib/python3.7/dist-packages (from importlib-metadata>=3.6->nbformat->otter-grader) (3.10.0)\n",
            "Requirement already satisfied: pyrsistent!=0.17.0,!=0.17.1,!=0.17.2,>=0.14.0 in /usr/local/lib/python3.7/dist-packages (from jsonschema>=2.6->nbformat->otter-grader) (0.18.1)\n",
            "Requirement already satisfied: importlib-resources>=1.4.0 in /usr/local/lib/python3.7/dist-packages (from jsonschema>=2.6->nbformat->otter-grader) (5.10.0)\n",
            "Requirement already satisfied: attrs>=17.4.0 in /usr/local/lib/python3.7/dist-packages (from jsonschema>=2.6->nbformat->otter-grader) (22.1.0)\n",
            "Requirement already satisfied: python-dateutil>=2.7.3 in /usr/local/lib/python3.7/dist-packages (from pandas->otter-grader) (2.8.2)\n",
            "Requirement already satisfied: numpy>=1.17.3 in /usr/local/lib/python3.7/dist-packages (from pandas->otter-grader) (1.21.6)\n",
            "Requirement already satisfied: typer>=0.4.1 in /usr/local/lib/python3.7/dist-packages (from python-on-whales->otter-grader) (0.4.2)\n",
            "Requirement already satisfied: tqdm in /usr/local/lib/python3.7/dist-packages (from python-on-whales->otter-grader) (4.64.1)\n",
            "Requirement already satisfied: pydantic in /usr/local/lib/python3.7/dist-packages (from python-on-whales->otter-grader) (1.10.2)\n",
            "Requirement already satisfied: sphinxcontrib-websupport in /usr/local/lib/python3.7/dist-packages (from sphinx->fica>=0.2.0->otter-grader) (1.2.4)\n",
            "Requirement already satisfied: Pygments>=2.0 in /usr/local/lib/python3.7/dist-packages (from sphinx->fica>=0.2.0->otter-grader) (2.6.1)\n",
            "Requirement already satisfied: alabaster<0.8,>=0.7 in /usr/local/lib/python3.7/dist-packages (from sphinx->fica>=0.2.0->otter-grader) (0.7.12)\n",
            "Requirement already satisfied: snowballstemmer>=1.1 in /usr/local/lib/python3.7/dist-packages (from sphinx->fica>=0.2.0->otter-grader) (2.2.0)\n",
            "Requirement already satisfied: imagesize in /usr/local/lib/python3.7/dist-packages (from sphinx->fica>=0.2.0->otter-grader) (1.4.1)\n",
            "Requirement already satisfied: babel!=2.0,>=1.3 in /usr/local/lib/python3.7/dist-packages (from sphinx->fica>=0.2.0->otter-grader) (2.10.3)\n",
            "Requirement already satisfied: sphinxcontrib-serializinghtml in /usr/local/lib/python3.7/dist-packages (from sphinxcontrib-websupport->sphinx->fica>=0.2.0->otter-grader) (1.1.5)\n",
            "--2022-11-01 20:57:13--  https://pages.mtu.edu/~lebrown/un5550-f22/labs/lab9/lab9.files.zip\n",
            "Resolving pages.mtu.edu (pages.mtu.edu)... 141.219.70.232\n",
            "Connecting to pages.mtu.edu (pages.mtu.edu)|141.219.70.232|:443... connected.\n",
            "HTTP request sent, awaiting response... 200 OK\n",
            "Length: 3220 (3.1K) [application/zip]\n",
            "Saving to: ‘lab9.files.zip.1’\n",
            "\n",
            "lab9.files.zip.1    100%[===================>]   3.14K  --.-KB/s    in 0s      \n",
            "\n",
            "2022-11-01 20:57:14 (347 MB/s) - ‘lab9.files.zip.1’ saved [3220/3220]\n",
            "\n",
            "Archive:  lab9.files.zip\n",
            "replace tests/q3b.py? [y]es, [n]o, [A]ll, [N]one, [r]ename: n\n",
            "replace tests/q1c.py? [y]es, [n]o, [A]ll, [N]one, [r]ename: n\n",
            "replace tests/q3c.py? [y]es, [n]o, [A]ll, [N]one, [r]ename: n\n",
            "replace tests/q3d.py? [y]es, [n]o, [A]ll, [N]one, [r]ename: n\n",
            "replace tests/q2a.py? [y]es, [n]o, [A]ll, [N]one, [r]ename: n\n",
            "replace tests/q3a.py? [y]es, [n]o, [A]ll, [N]one, [r]ename: n\n",
            "replace tests/q1a.py? [y]es, [n]o, [A]ll, [N]one, [r]ename: n\n"
          ]
        }
      ],
      "source": [
        "if GS==False:\n",
        "    print(\"Installing otter:\")\n",
        "    !pip install otter-grader\n",
        "    !wget https://pages.mtu.edu/~lebrown/un5550-f22/labs/lab9/lab9.files.zip\n",
        "    !unzip lab9.files.zip"
      ]
    },
    {
      "cell_type": "markdown",
      "metadata": {
        "id": "bubv3voikHk3"
      },
      "source": [
        "## Lab Setup"
      ]
    },
    {
      "cell_type": "code",
      "execution_count": null,
      "metadata": {
        "id": "fvZzQt3UkHk3"
      },
      "outputs": [],
      "source": [
        "# import matplotlib.pyplot for plotting framework\n",
        "import matplotlib.pyplot as plt\n",
        "import matplotlib as mpl\n",
        "# for ploting in within notebook\n",
        "%matplotlib inline\n",
        "\n",
        "import pandas as pd\n",
        "\n",
        "# import numpy\n",
        "import numpy as np\n",
        "\n",
        "# import math and random modules\n",
        "import math, random\n",
        "\n",
        "import seaborn as sns\n",
        "\n",
        "# sklearn functions \n",
        "from sklearn.datasets import load_iris, load_breast_cancer, load_wine\n",
        "\n",
        "# import neighbors and metrics\n",
        "from sklearn import neighbors, metrics\n",
        "\n",
        "# look into metrics and import confusion matrix \n",
        "# and accuracy function\n",
        "from sklearn.metrics import confusion_matrix\n",
        "from sklearn.metrics import accuracy_score\n",
        "\n",
        "# import train and test split function from sklearn\n",
        "from sklearn.model_selection import train_test_split\n",
        "\n",
        "\n",
        "import otter\n",
        "grader = otter.Notebook()"
      ]
    },
    {
      "cell_type": "markdown",
      "metadata": {
        "id": "t4M9_KIsZfWA"
      },
      "source": [
        "## Exercise 1: Understand the Data \n",
        "\n",
        "Using scikit-learn package load the toy datasets\n",
        "\n",
        "\n",
        "Read about how to load the toy datasets using scikit-learn:  \n",
        "https://scikit-learn.org/stable/datasets/index.html"
      ]
    },
    {
      "cell_type": "markdown",
      "metadata": {
        "id": "_aQZzi9rkHk5"
      },
      "source": [
        "### Ex 1A. Load the data sets\n",
        "\n",
        "Load iris, breast cancer and wine standard datasets and assign them to iris, cancer and wine variables."
      ]
    },
    {
      "cell_type": "code",
      "execution_count": null,
      "metadata": {
        "colab": {
          "base_uri": "https://localhost:8080/"
        },
        "id": "ICdth4h9YiYx",
        "outputId": "db3ced7e-e224-4eed-f121-39290753a17e",
        "tags": []
      },
      "outputs": [
        {
          "output_type": "stream",
          "name": "stdout",
          "text": [
            "[[5.1 3.5 1.4 0.2]\n",
            " [4.9 3.  1.4 0.2]\n",
            " [4.7 3.2 1.3 0.2]\n",
            " [4.6 3.1 1.5 0.2]\n",
            " [5.  3.6 1.4 0.2]\n",
            " [5.4 3.9 1.7 0.4]\n",
            " [4.6 3.4 1.4 0.3]\n",
            " [5.  3.4 1.5 0.2]\n",
            " [4.4 2.9 1.4 0.2]\n",
            " [4.9 3.1 1.5 0.1]]\n",
            "\n",
            "[0 0 0 0 0 0 0 0 0]\n",
            "\n",
            "<class 'sklearn.utils.Bunch'>\n"
          ]
        }
      ],
      "source": [
        "# import load datasets methods\n",
        "# from sklearn.datasets import load_iris, load_breast_cancer, load_wine\n",
        "\n",
        "# assign them to iris, cancer and wine\n",
        "iris = load_iris()\n",
        "cancer = load_breast_cancer()\n",
        "wine = load_wine()\n",
        "\n",
        "\n",
        "print(iris.data[0:10, ])\n",
        "print(\"\")\n",
        "print (iris.target[1:10])\n",
        "print(\"\")\n",
        "print(type(iris))"
      ]
    },
    {
      "cell_type": "code",
      "execution_count": null,
      "metadata": {
        "deletable": false,
        "editable": false,
        "colab": {
          "base_uri": "https://localhost:8080/",
          "height": 46
        },
        "id": "eGJPwaRukHk7",
        "outputId": "15dd1054-3197-49bb-83fb-1f65efd9d5c2"
      },
      "outputs": [
        {
          "output_type": "execute_result",
          "data": {
            "text/plain": [
              "q1a results: All test cases passed!"
            ],
            "text/html": [
              "<p><strong><pre style='display: inline;'>q1a</pre></strong> passed! 🍀</p>"
            ]
          },
          "metadata": {},
          "execution_count": 88
        }
      ],
      "source": [
        "grader.check(\"q1a\")"
      ]
    },
    {
      "cell_type": "code",
      "source": [
        "iris.data.shape[0]"
      ],
      "metadata": {
        "colab": {
          "base_uri": "https://localhost:8080/"
        },
        "id": "txirkOklmD9w",
        "outputId": "4c869fa5-6db3-40cd-bff8-f09092bc7e04"
      },
      "execution_count": null,
      "outputs": [
        {
          "output_type": "execute_result",
          "data": {
            "text/plain": [
              "150"
            ]
          },
          "metadata": {},
          "execution_count": 89
        }
      ]
    },
    {
      "cell_type": "markdown",
      "metadata": {
        "id": "EYGbawUQkHk8"
      },
      "source": [
        "<!-- BEGIN QUESTION -->\n",
        "\n",
        "### Ex 1B. Understand form of the data \n",
        "\n",
        "Read Section 5.3 and from class material, what does the following represent:\n",
        " \n",
        "\n",
        "\n"
      ]
    },
    {
      "cell_type": "markdown",
      "metadata": {
        "id": "fPslp6ijkHk8"
      },
      "source": [
        "i. Columns  \n",
        "ii. Rows  \n",
        "iii. Target "
      ]
    },
    {
      "cell_type": "markdown",
      "metadata": {
        "id": "qXtHlGnzacqu"
      },
      "source": [
        "<!-- END QUESTION -->\n",
        "\n",
        "### Ex 1C. Understand the form of the data\n",
        "\n",
        "Read Section 5.3 and from class material:  \n",
        "a. How many rows and columns are there in the iris, cancer and wine data sets?  \n",
        "b. What are the labels in these datasets?"
      ]
    },
    {
      "cell_type": "code",
      "execution_count": null,
      "metadata": {
        "colab": {
          "base_uri": "https://localhost:8080/"
        },
        "id": "5CUV5Wxrat5J",
        "outputId": "319b96a5-1989-491c-edbf-7c7332dce2b9",
        "tags": []
      },
      "outputs": [
        {
          "output_type": "stream",
          "name": "stdout",
          "text": [
            "Num of samples and features in iris datasets\n",
            "\t are 150 and 4 respectively\n",
            "Num of samples and features in cancer datasets\n",
            "\t are 569 and 30 respectively\n",
            "Num of samples and features in wine datasets\n",
            "\t are 178 and 13 respectively\n",
            "iris:  ['setosa' 'versicolor' 'virginica']\n",
            "cancer:  ['malignant' 'benign']\n",
            "wine:  ['class_0' 'class_1' 'class_2']\n"
          ]
        }
      ],
      "source": [
        "# How many rows and columns are there in the data sets? \n",
        "irisNumSamples = iris.data.shape[0]\n",
        "irisNumFeatures = iris.data.shape[1]\n",
        "print(\"Num of samples and features in iris datasets\\n\\t are {0} and {1} respectively\".\n",
        "       format(irisNumSamples, irisNumFeatures))\n",
        "cancerNumSamples = cancer.data.shape[0]\n",
        "cancerNumFeatures = cancer.data.shape[1]\n",
        "print(\"Num of samples and features in cancer datasets\\n\\t are {0} and {1} respectively\".\n",
        "       format(cancerNumSamples, cancerNumFeatures))\n",
        "wineNumSamples = wine.data.shape[0]\n",
        "wineNumFeatures = wine.data.shape[1]\n",
        "print(\"Num of samples and features in wine datasets\\n\\t are {0} and {1} respectively\".\n",
        "       format(wineNumSamples, wineNumFeatures))\n",
        "\n",
        "# print out the labels for each data set\n",
        "iris_labels = iris.target_names\n",
        "cancer_labels = cancer.target_names\n",
        "wine_labels = wine.target_names\n",
        "print(\"iris: \", iris_labels)\n",
        "print(\"cancer: \", cancer_labels)\n",
        "print(\"wine: \", wine_labels)"
      ]
    },
    {
      "cell_type": "code",
      "execution_count": null,
      "metadata": {
        "deletable": false,
        "editable": false,
        "colab": {
          "base_uri": "https://localhost:8080/",
          "height": 46
        },
        "id": "kiywjHcDkHk-",
        "outputId": "f2399e97-3c6e-4aa4-cc68-d8199289f237"
      },
      "outputs": [
        {
          "output_type": "execute_result",
          "data": {
            "text/plain": [
              "q1c results: All test cases passed!"
            ],
            "text/html": [
              "<p><strong><pre style='display: inline;'>q1c</pre></strong> passed! 🙌</p>"
            ]
          },
          "metadata": {},
          "execution_count": 91
        }
      ],
      "source": [
        "grader.check(\"q1c\")"
      ]
    },
    {
      "cell_type": "markdown",
      "metadata": {
        "id": "DOvnu_upa73D"
      },
      "source": [
        "<!-- BEGIN QUESTION -->\n",
        "\n",
        "### Ex 1D.  Access aspects of the data \n",
        "\n",
        "http://scikit-learn.org/stable/datasets/index.html\n",
        "\n",
        "\n",
        "**Iris**  \n",
        "How do we access additional information other than the data and target class for the iris dataset?"
      ]
    },
    {
      "cell_type": "code",
      "execution_count": null,
      "metadata": {
        "colab": {
          "base_uri": "https://localhost:8080/"
        },
        "id": "GzPVvN0Na45y",
        "outputId": "81de7791-1b42-447c-9c12-53720e53f2d7"
      },
      "outputs": [
        {
          "output_type": "stream",
          "name": "stdout",
          "text": [
            "[[5.1 3.5 1.4 0.2]\n",
            " [4.9 3.  1.4 0.2]\n",
            " [4.7 3.2 1.3 0.2]\n",
            " [4.6 3.1 1.5 0.2]\n",
            " [5.  3.6 1.4 0.2]]\n",
            "[0 0 0 0 0 0 0 0 0 0 0 0 0 0 0 0 0 0 0 0 0 0 0 0 0 0 0 0 0 0 0 0 0 0 0 0 0\n",
            " 0 0 0 0 0 0 0 0 0 0 0 0 0 1 1 1 1 1 1 1 1 1 1 1 1 1 1 1 1 1 1 1 1 1 1 1 1\n",
            " 1 1 1 1 1 1 1 1 1 1 1 1 1 1 1 1 1 1 1 1 1 1 1 1 1 1 2 2 2 2 2 2 2 2 2 2 2\n",
            " 2 2 2 2 2 2 2 2 2 2 2 2 2 2 2 2 2 2 2 2 2 2 2 2 2 2 2 2 2 2 2 2 2 2 2 2 2\n",
            " 2 2]\n",
            ".. _iris_dataset:\n",
            "\n",
            "Iris plants dataset\n",
            "--------------------\n",
            "\n",
            "**Data Set Characteristics:**\n",
            "\n",
            "    :Number of Instances: 150 (50 in each of three classes)\n",
            "    :Number of Attributes: 4 numeric, predictive attributes and the class\n",
            "    :Attribute Information:\n",
            "        - sepal length in cm\n",
            "        - sepal width in cm\n",
            "        - petal length in cm\n",
            "        - petal width in cm\n",
            "        - class:\n",
            "                - Iris-Setosa\n",
            "                - Iris-Versicolour\n",
            "                - Iris-Virginica\n",
            "                \n",
            "    :Summary Statistics:\n",
            "\n",
            "    ============== ==== ==== ======= ===== ====================\n",
            "                    Min  Max   Mean    SD   Class Correlation\n",
            "    ============== ==== ==== ======= ===== ====================\n",
            "    sepal length:   4.3  7.9   5.84   0.83    0.7826\n",
            "    sepal width:    2.0  4.4   3.05   0.43   -0.4194\n",
            "    petal length:   1.0  6.9   3.76   1.76    0.9490  (high!)\n",
            "    petal width:    0.1  2.5   1.20   0.76    0.9565  (high!)\n",
            "    ============== ==== ==== ======= ===== ====================\n",
            "\n",
            "    :Missing Attribute Values: None\n",
            "    :Class Distribution: 33.3% for each of 3 classes.\n",
            "    :Creator: R.A. Fisher\n",
            "    :Donor: Michael Marshall (MARSHALL%PLU@io.arc.nasa.gov)\n",
            "    :Date: July, 1988\n",
            "\n",
            "The famous Iris database, first used by Sir R.A. Fisher. The dataset is taken\n",
            "from Fisher's paper. Note that it's the same as in R, but not as in the UCI\n",
            "Machine Learning Repository, which has two wrong data points.\n",
            "\n",
            "This is perhaps the best known database to be found in the\n",
            "pattern recognition literature.  Fisher's paper is a classic in the field and\n",
            "is referenced frequently to this day.  (See Duda & Hart, for example.)  The\n",
            "data set contains 3 classes of 50 instances each, where each class refers to a\n",
            "type of iris plant.  One class is linearly separable from the other 2; the\n",
            "latter are NOT linearly separable from each other.\n",
            "\n",
            ".. topic:: References\n",
            "\n",
            "   - Fisher, R.A. \"The use of multiple measurements in taxonomic problems\"\n",
            "     Annual Eugenics, 7, Part II, 179-188 (1936); also in \"Contributions to\n",
            "     Mathematical Statistics\" (John Wiley, NY, 1950).\n",
            "   - Duda, R.O., & Hart, P.E. (1973) Pattern Classification and Scene Analysis.\n",
            "     (Q327.D83) John Wiley & Sons.  ISBN 0-471-22361-1.  See page 218.\n",
            "   - Dasarathy, B.V. (1980) \"Nosing Around the Neighborhood: A New System\n",
            "     Structure and Classification Rule for Recognition in Partially Exposed\n",
            "     Environments\".  IEEE Transactions on Pattern Analysis and Machine\n",
            "     Intelligence, Vol. PAMI-2, No. 1, 67-71.\n",
            "   - Gates, G.W. (1972) \"The Reduced Nearest Neighbor Rule\".  IEEE Transactions\n",
            "     on Information Theory, May 1972, 431-433.\n",
            "   - See also: 1988 MLC Proceedings, 54-64.  Cheeseman et al\"s AUTOCLASS II\n",
            "     conceptual clustering system finds 3 classes in the data.\n",
            "   - Many, many more ...\n"
          ]
        }
      ],
      "source": [
        "# We can access the scikit datasets by using .data, **.target and **.DESCR \n",
        "print(iris.data[0:5,])\n",
        "print(iris.target)\n",
        "print(iris.DESCR)"
      ]
    },
    {
      "cell_type": "markdown",
      "metadata": {
        "id": "64npiprkbL4M"
      },
      "source": [
        "**Cancer**   \n",
        "Access dataset information for the cancer dataset. "
      ]
    },
    {
      "cell_type": "code",
      "execution_count": null,
      "metadata": {
        "colab": {
          "base_uri": "https://localhost:8080/"
        },
        "id": "bvId8VUobJGB",
        "outputId": "0bd6ace9-d6bb-4cd7-cfc6-1d9790b840cf",
        "tags": []
      },
      "outputs": [
        {
          "output_type": "stream",
          "name": "stdout",
          "text": [
            "[[1.799e+01 1.038e+01 1.228e+02 1.001e+03 1.184e-01 2.776e-01 3.001e-01\n",
            "  1.471e-01 2.419e-01 7.871e-02 1.095e+00 9.053e-01 8.589e+00 1.534e+02\n",
            "  6.399e-03 4.904e-02 5.373e-02 1.587e-02 3.003e-02 6.193e-03 2.538e+01\n",
            "  1.733e+01 1.846e+02 2.019e+03 1.622e-01 6.656e-01 7.119e-01 2.654e-01\n",
            "  4.601e-01 1.189e-01]\n",
            " [2.057e+01 1.777e+01 1.329e+02 1.326e+03 8.474e-02 7.864e-02 8.690e-02\n",
            "  7.017e-02 1.812e-01 5.667e-02 5.435e-01 7.339e-01 3.398e+00 7.408e+01\n",
            "  5.225e-03 1.308e-02 1.860e-02 1.340e-02 1.389e-02 3.532e-03 2.499e+01\n",
            "  2.341e+01 1.588e+02 1.956e+03 1.238e-01 1.866e-01 2.416e-01 1.860e-01\n",
            "  2.750e-01 8.902e-02]\n",
            " [1.969e+01 2.125e+01 1.300e+02 1.203e+03 1.096e-01 1.599e-01 1.974e-01\n",
            "  1.279e-01 2.069e-01 5.999e-02 7.456e-01 7.869e-01 4.585e+00 9.403e+01\n",
            "  6.150e-03 4.006e-02 3.832e-02 2.058e-02 2.250e-02 4.571e-03 2.357e+01\n",
            "  2.553e+01 1.525e+02 1.709e+03 1.444e-01 4.245e-01 4.504e-01 2.430e-01\n",
            "  3.613e-01 8.758e-02]\n",
            " [1.142e+01 2.038e+01 7.758e+01 3.861e+02 1.425e-01 2.839e-01 2.414e-01\n",
            "  1.052e-01 2.597e-01 9.744e-02 4.956e-01 1.156e+00 3.445e+00 2.723e+01\n",
            "  9.110e-03 7.458e-02 5.661e-02 1.867e-02 5.963e-02 9.208e-03 1.491e+01\n",
            "  2.650e+01 9.887e+01 5.677e+02 2.098e-01 8.663e-01 6.869e-01 2.575e-01\n",
            "  6.638e-01 1.730e-01]\n",
            " [2.029e+01 1.434e+01 1.351e+02 1.297e+03 1.003e-01 1.328e-01 1.980e-01\n",
            "  1.043e-01 1.809e-01 5.883e-02 7.572e-01 7.813e-01 5.438e+00 9.444e+01\n",
            "  1.149e-02 2.461e-02 5.688e-02 1.885e-02 1.756e-02 5.115e-03 2.254e+01\n",
            "  1.667e+01 1.522e+02 1.575e+03 1.374e-01 2.050e-01 4.000e-01 1.625e-01\n",
            "  2.364e-01 7.678e-02]]\n",
            "[0 0 0 0 0 0 0 0 0 0 0 0 0 0 0 0 0 0 0 1 1 1 0 0 0 0 0 0 0 0 0 0 0 0 0 0 0\n",
            " 1 0 0 0 0 0 0 0 0 1 0 1 1 1 1 1 0 0 1 0 0 1 1 1 1 0 1 0 0 1 1 1 1 0 1 0 0\n",
            " 1 0 1 0 0 1 1 1 0 0 1 0 0 0 1 1 1 0 1 1 0 0 1 1 1 0 0 1 1 1 1 0 1 1 0 1 1\n",
            " 1 1 1 1 1 1 0 0 0 1 0 0 1 1 1 0 0 1 0 1 0 0 1 0 0 1 1 0 1 1 0 1 1 1 1 0 1\n",
            " 1 1 1 1 1 1 1 1 0 1 1 1 1 0 0 1 0 1 1 0 0 1 1 0 0 1 1 1 1 0 1 1 0 0 0 1 0\n",
            " 1 0 1 1 1 0 1 1 0 0 1 0 0 0 0 1 0 0 0 1 0 1 0 1 1 0 1 0 0 0 0 1 1 0 0 1 1\n",
            " 1 0 1 1 1 1 1 0 0 1 1 0 1 1 0 0 1 0 1 1 1 1 0 1 1 1 1 1 0 1 0 0 0 0 0 0 0\n",
            " 0 0 0 0 0 0 0 1 1 1 1 1 1 0 1 0 1 1 0 1 1 0 1 0 0 1 1 1 1 1 1 1 1 1 1 1 1\n",
            " 1 0 1 1 0 1 0 1 1 1 1 1 1 1 1 1 1 1 1 1 1 0 1 1 1 0 1 0 1 1 1 1 0 0 0 1 1\n",
            " 1 1 0 1 0 1 0 1 1 1 0 1 1 1 1 1 1 1 0 0 0 1 1 1 1 1 1 1 1 1 1 1 0 0 1 0 0\n",
            " 0 1 0 0 1 1 1 1 1 0 1 1 1 1 1 0 1 1 1 0 1 1 0 0 1 1 1 1 1 1 0 1 1 1 1 1 1\n",
            " 1 0 1 1 1 1 1 0 1 1 0 1 1 1 1 1 1 1 1 1 1 1 1 0 1 0 0 1 0 1 1 1 1 1 0 1 1\n",
            " 0 1 0 1 1 0 1 0 1 1 1 1 1 1 1 1 0 0 1 1 1 1 1 1 0 1 1 1 1 1 1 1 1 1 1 0 1\n",
            " 1 1 1 1 1 1 0 1 0 1 1 0 1 1 1 1 1 0 0 1 0 1 0 1 1 1 1 1 0 1 1 0 1 0 1 0 0\n",
            " 1 1 1 0 1 1 1 1 1 1 1 1 1 1 1 0 1 0 0 1 1 1 1 1 1 1 1 1 1 1 1 1 1 1 1 1 1\n",
            " 1 1 1 1 1 1 1 0 0 0 0 0 0 1]\n",
            ".. _breast_cancer_dataset:\n",
            "\n",
            "Breast cancer wisconsin (diagnostic) dataset\n",
            "--------------------------------------------\n",
            "\n",
            "**Data Set Characteristics:**\n",
            "\n",
            "    :Number of Instances: 569\n",
            "\n",
            "    :Number of Attributes: 30 numeric, predictive attributes and the class\n",
            "\n",
            "    :Attribute Information:\n",
            "        - radius (mean of distances from center to points on the perimeter)\n",
            "        - texture (standard deviation of gray-scale values)\n",
            "        - perimeter\n",
            "        - area\n",
            "        - smoothness (local variation in radius lengths)\n",
            "        - compactness (perimeter^2 / area - 1.0)\n",
            "        - concavity (severity of concave portions of the contour)\n",
            "        - concave points (number of concave portions of the contour)\n",
            "        - symmetry\n",
            "        - fractal dimension (\"coastline approximation\" - 1)\n",
            "\n",
            "        The mean, standard error, and \"worst\" or largest (mean of the three\n",
            "        worst/largest values) of these features were computed for each image,\n",
            "        resulting in 30 features.  For instance, field 0 is Mean Radius, field\n",
            "        10 is Radius SE, field 20 is Worst Radius.\n",
            "\n",
            "        - class:\n",
            "                - WDBC-Malignant\n",
            "                - WDBC-Benign\n",
            "\n",
            "    :Summary Statistics:\n",
            "\n",
            "    ===================================== ====== ======\n",
            "                                           Min    Max\n",
            "    ===================================== ====== ======\n",
            "    radius (mean):                        6.981  28.11\n",
            "    texture (mean):                       9.71   39.28\n",
            "    perimeter (mean):                     43.79  188.5\n",
            "    area (mean):                          143.5  2501.0\n",
            "    smoothness (mean):                    0.053  0.163\n",
            "    compactness (mean):                   0.019  0.345\n",
            "    concavity (mean):                     0.0    0.427\n",
            "    concave points (mean):                0.0    0.201\n",
            "    symmetry (mean):                      0.106  0.304\n",
            "    fractal dimension (mean):             0.05   0.097\n",
            "    radius (standard error):              0.112  2.873\n",
            "    texture (standard error):             0.36   4.885\n",
            "    perimeter (standard error):           0.757  21.98\n",
            "    area (standard error):                6.802  542.2\n",
            "    smoothness (standard error):          0.002  0.031\n",
            "    compactness (standard error):         0.002  0.135\n",
            "    concavity (standard error):           0.0    0.396\n",
            "    concave points (standard error):      0.0    0.053\n",
            "    symmetry (standard error):            0.008  0.079\n",
            "    fractal dimension (standard error):   0.001  0.03\n",
            "    radius (worst):                       7.93   36.04\n",
            "    texture (worst):                      12.02  49.54\n",
            "    perimeter (worst):                    50.41  251.2\n",
            "    area (worst):                         185.2  4254.0\n",
            "    smoothness (worst):                   0.071  0.223\n",
            "    compactness (worst):                  0.027  1.058\n",
            "    concavity (worst):                    0.0    1.252\n",
            "    concave points (worst):               0.0    0.291\n",
            "    symmetry (worst):                     0.156  0.664\n",
            "    fractal dimension (worst):            0.055  0.208\n",
            "    ===================================== ====== ======\n",
            "\n",
            "    :Missing Attribute Values: None\n",
            "\n",
            "    :Class Distribution: 212 - Malignant, 357 - Benign\n",
            "\n",
            "    :Creator:  Dr. William H. Wolberg, W. Nick Street, Olvi L. Mangasarian\n",
            "\n",
            "    :Donor: Nick Street\n",
            "\n",
            "    :Date: November, 1995\n",
            "\n",
            "This is a copy of UCI ML Breast Cancer Wisconsin (Diagnostic) datasets.\n",
            "https://goo.gl/U2Uwz2\n",
            "\n",
            "Features are computed from a digitized image of a fine needle\n",
            "aspirate (FNA) of a breast mass.  They describe\n",
            "characteristics of the cell nuclei present in the image.\n",
            "\n",
            "Separating plane described above was obtained using\n",
            "Multisurface Method-Tree (MSM-T) [K. P. Bennett, \"Decision Tree\n",
            "Construction Via Linear Programming.\" Proceedings of the 4th\n",
            "Midwest Artificial Intelligence and Cognitive Science Society,\n",
            "pp. 97-101, 1992], a classification method which uses linear\n",
            "programming to construct a decision tree.  Relevant features\n",
            "were selected using an exhaustive search in the space of 1-4\n",
            "features and 1-3 separating planes.\n",
            "\n",
            "The actual linear program used to obtain the separating plane\n",
            "in the 3-dimensional space is that described in:\n",
            "[K. P. Bennett and O. L. Mangasarian: \"Robust Linear\n",
            "Programming Discrimination of Two Linearly Inseparable Sets\",\n",
            "Optimization Methods and Software 1, 1992, 23-34].\n",
            "\n",
            "This database is also available through the UW CS ftp server:\n",
            "\n",
            "ftp ftp.cs.wisc.edu\n",
            "cd math-prog/cpo-dataset/machine-learn/WDBC/\n",
            "\n",
            ".. topic:: References\n",
            "\n",
            "   - W.N. Street, W.H. Wolberg and O.L. Mangasarian. Nuclear feature extraction \n",
            "     for breast tumor diagnosis. IS&T/SPIE 1993 International Symposium on \n",
            "     Electronic Imaging: Science and Technology, volume 1905, pages 861-870,\n",
            "     San Jose, CA, 1993.\n",
            "   - O.L. Mangasarian, W.N. Street and W.H. Wolberg. Breast cancer diagnosis and \n",
            "     prognosis via linear programming. Operations Research, 43(4), pages 570-577, \n",
            "     July-August 1995.\n",
            "   - W.H. Wolberg, W.N. Street, and O.L. Mangasarian. Machine learning techniques\n",
            "     to diagnose breast cancer from fine-needle aspirates. Cancer Letters 77 (1994) \n",
            "     163-171.\n"
          ]
        }
      ],
      "source": [
        "# We can access the scikit datasets by using .data, **.target and **.DESCR \n",
        "print(cancer.data[0:5,])\n",
        "print(cancer.target)\n",
        "print(cancer.DESCR)\n"
      ]
    },
    {
      "cell_type": "markdown",
      "metadata": {
        "id": "i97hF9jlbPx-"
      },
      "source": [
        "**Wine**  \n",
        "Access dataset information for the wine dataset. "
      ]
    },
    {
      "cell_type": "code",
      "execution_count": null,
      "metadata": {
        "colab": {
          "base_uri": "https://localhost:8080/"
        },
        "id": "m8bAawGYbPJu",
        "outputId": "b95b72e2-fa95-49c8-aafd-c97f1f4c7744",
        "tags": []
      },
      "outputs": [
        {
          "output_type": "stream",
          "name": "stdout",
          "text": [
            "[[1.423e+01 1.710e+00 2.430e+00 1.560e+01 1.270e+02 2.800e+00 3.060e+00\n",
            "  2.800e-01 2.290e+00 5.640e+00 1.040e+00 3.920e+00 1.065e+03]\n",
            " [1.320e+01 1.780e+00 2.140e+00 1.120e+01 1.000e+02 2.650e+00 2.760e+00\n",
            "  2.600e-01 1.280e+00 4.380e+00 1.050e+00 3.400e+00 1.050e+03]\n",
            " [1.316e+01 2.360e+00 2.670e+00 1.860e+01 1.010e+02 2.800e+00 3.240e+00\n",
            "  3.000e-01 2.810e+00 5.680e+00 1.030e+00 3.170e+00 1.185e+03]\n",
            " [1.437e+01 1.950e+00 2.500e+00 1.680e+01 1.130e+02 3.850e+00 3.490e+00\n",
            "  2.400e-01 2.180e+00 7.800e+00 8.600e-01 3.450e+00 1.480e+03]\n",
            " [1.324e+01 2.590e+00 2.870e+00 2.100e+01 1.180e+02 2.800e+00 2.690e+00\n",
            "  3.900e-01 1.820e+00 4.320e+00 1.040e+00 2.930e+00 7.350e+02]]\n",
            "[0 0 0 0 0 0 0 0 0 0 0 0 0 0 0 0 0 0 0 0 0 0 0 0 0 0 0 0 0 0 0 0 0 0 0 0 0\n",
            " 0 0 0 0 0 0 0 0 0 0 0 0 0 0 0 0 0 0 0 0 0 0 1 1 1 1 1 1 1 1 1 1 1 1 1 1 1\n",
            " 1 1 1 1 1 1 1 1 1 1 1 1 1 1 1 1 1 1 1 1 1 1 1 1 1 1 1 1 1 1 1 1 1 1 1 1 1\n",
            " 1 1 1 1 1 1 1 1 1 1 1 1 1 1 1 1 1 1 1 2 2 2 2 2 2 2 2 2 2 2 2 2 2 2 2 2 2\n",
            " 2 2 2 2 2 2 2 2 2 2 2 2 2 2 2 2 2 2 2 2 2 2 2 2 2 2 2 2 2 2]\n",
            ".. _wine_dataset:\n",
            "\n",
            "Wine recognition dataset\n",
            "------------------------\n",
            "\n",
            "**Data Set Characteristics:**\n",
            "\n",
            "    :Number of Instances: 178 (50 in each of three classes)\n",
            "    :Number of Attributes: 13 numeric, predictive attributes and the class\n",
            "    :Attribute Information:\n",
            " \t\t- Alcohol\n",
            " \t\t- Malic acid\n",
            " \t\t- Ash\n",
            "\t\t- Alcalinity of ash  \n",
            " \t\t- Magnesium\n",
            "\t\t- Total phenols\n",
            " \t\t- Flavanoids\n",
            " \t\t- Nonflavanoid phenols\n",
            " \t\t- Proanthocyanins\n",
            "\t\t- Color intensity\n",
            " \t\t- Hue\n",
            " \t\t- OD280/OD315 of diluted wines\n",
            " \t\t- Proline\n",
            "\n",
            "    - class:\n",
            "            - class_0\n",
            "            - class_1\n",
            "            - class_2\n",
            "\t\t\n",
            "    :Summary Statistics:\n",
            "    \n",
            "    ============================= ==== ===== ======= =====\n",
            "                                   Min   Max   Mean     SD\n",
            "    ============================= ==== ===== ======= =====\n",
            "    Alcohol:                      11.0  14.8    13.0   0.8\n",
            "    Malic Acid:                   0.74  5.80    2.34  1.12\n",
            "    Ash:                          1.36  3.23    2.36  0.27\n",
            "    Alcalinity of Ash:            10.6  30.0    19.5   3.3\n",
            "    Magnesium:                    70.0 162.0    99.7  14.3\n",
            "    Total Phenols:                0.98  3.88    2.29  0.63\n",
            "    Flavanoids:                   0.34  5.08    2.03  1.00\n",
            "    Nonflavanoid Phenols:         0.13  0.66    0.36  0.12\n",
            "    Proanthocyanins:              0.41  3.58    1.59  0.57\n",
            "    Colour Intensity:              1.3  13.0     5.1   2.3\n",
            "    Hue:                          0.48  1.71    0.96  0.23\n",
            "    OD280/OD315 of diluted wines: 1.27  4.00    2.61  0.71\n",
            "    Proline:                       278  1680     746   315\n",
            "    ============================= ==== ===== ======= =====\n",
            "\n",
            "    :Missing Attribute Values: None\n",
            "    :Class Distribution: class_0 (59), class_1 (71), class_2 (48)\n",
            "    :Creator: R.A. Fisher\n",
            "    :Donor: Michael Marshall (MARSHALL%PLU@io.arc.nasa.gov)\n",
            "    :Date: July, 1988\n",
            "\n",
            "This is a copy of UCI ML Wine recognition datasets.\n",
            "https://archive.ics.uci.edu/ml/machine-learning-databases/wine/wine.data\n",
            "\n",
            "The data is the results of a chemical analysis of wines grown in the same\n",
            "region in Italy by three different cultivators. There are thirteen different\n",
            "measurements taken for different constituents found in the three types of\n",
            "wine.\n",
            "\n",
            "Original Owners: \n",
            "\n",
            "Forina, M. et al, PARVUS - \n",
            "An Extendible Package for Data Exploration, Classification and Correlation. \n",
            "Institute of Pharmaceutical and Food Analysis and Technologies,\n",
            "Via Brigata Salerno, 16147 Genoa, Italy.\n",
            "\n",
            "Citation:\n",
            "\n",
            "Lichman, M. (2013). UCI Machine Learning Repository\n",
            "[https://archive.ics.uci.edu/ml]. Irvine, CA: University of California,\n",
            "School of Information and Computer Science. \n",
            "\n",
            ".. topic:: References\n",
            "\n",
            "  (1) S. Aeberhard, D. Coomans and O. de Vel, \n",
            "  Comparison of Classifiers in High Dimensional Settings, \n",
            "  Tech. Rep. no. 92-02, (1992), Dept. of Computer Science and Dept. of  \n",
            "  Mathematics and Statistics, James Cook University of North Queensland. \n",
            "  (Also submitted to Technometrics). \n",
            "\n",
            "  The data was used with many others for comparing various \n",
            "  classifiers. The classes are separable, though only RDA \n",
            "  has achieved 100% correct classification. \n",
            "  (RDA : 100%, QDA 99.4%, LDA 98.9%, 1NN 96.1% (z-transformed data)) \n",
            "  (All results using the leave-one-out technique) \n",
            "\n",
            "  (2) S. Aeberhard, D. Coomans and O. de Vel, \n",
            "  \"THE CLASSIFICATION PERFORMANCE OF RDA\" \n",
            "  Tech. Rep. no. 92-01, (1992), Dept. of Computer Science and Dept. of \n",
            "  Mathematics and Statistics, James Cook University of North Queensland. \n",
            "  (Also submitted to Journal of Chemometrics).\n",
            "\n"
          ]
        }
      ],
      "source": [
        "# We can access the scikit datasets by using .data, **.target and **.DESCR \n",
        "print(wine.data[0:5,])\n",
        "print(wine.target)\n",
        "print(wine.DESCR)\n"
      ]
    },
    {
      "cell_type": "markdown",
      "metadata": {
        "id": "DUEcsIQ7bfPN"
      },
      "source": [
        "<!-- END QUESTION -->\n",
        "\n",
        "## Other packages \n",
        "\n",
        "Import other important packages necessary for supervised learning. The below links gives information and significance of each sklearn modules.\n",
        "\n",
        "https://docs.python.org/3/library/math.html\n",
        "\n",
        "https://docs.python.org/3/library/random.html\n",
        "\n",
        "http://scikit-learn.org/stable/modules/neighbors.html\n",
        "\n",
        "https://scikit-learn.org/stable/modules/generated/sklearn.model_selection.train_test_split.html\n",
        "\n"
      ]
    },
    {
      "cell_type": "markdown",
      "metadata": {
        "id": "a1dEpg52b4Zi"
      },
      "source": [
        "We know that Sci-kit learn input data is structured in Numpy arrays, organized as\n",
        "\n",
        "**X** := n_samples x  n_features"
      ]
    },
    {
      "cell_type": "code",
      "execution_count": null,
      "metadata": {
        "id": "Ufw7Jda1bzhb"
      },
      "outputs": [],
      "source": [
        "\"\"\" \n",
        "Assign the data of iris to Xi and target class to yi (beware of case sensitive variables \n",
        "defined here). Similarly, assign Xc and yc to cancer data and target respectively and \n",
        "Xw and yw for the wine data.\n",
        "\"\"\"\n",
        "#i suffix for iris dataset\n",
        "Xi = iris.data \n",
        "yi = iris.target \n",
        "\n",
        "# c suffix for cancer dataset\n",
        "Xc = cancer.data\n",
        "yc = cancer.target\n",
        "\n",
        "# w suffix for wine dataset\n",
        "Xw = wine.data\n",
        "yw = wine.target"
      ]
    },
    {
      "cell_type": "markdown",
      "metadata": {
        "id": "XGn3RORKcIjl"
      },
      "source": [
        "## Exercise 2: KNN\n",
        "\n"
      ]
    },
    {
      "cell_type": "markdown",
      "metadata": {
        "id": "RKmV3gMKcQvk"
      },
      "source": [
        "### Ex 2A. `scikit-learn` model selection \n",
        "\n",
        "In section 5.3, page 75, the dataset is randomly split to train and test data. The code uses random function with permutation and a `ravel()` function. Let us use scikit learn function to perform the similar action.\n",
        "\n",
        "Use the `train_test_split` function to split the toy data sets in the following ways: \n",
        "\n",
        "1. Iris: create a test set with size of 33% of the data \n",
        "2. Cancer: create a test set with 1/4th of the samples \n",
        "3. Wine: create a test set with 20% of the samples \n",
        "\n",
        "Use the random state of 5 - for  repeatability.\n",
        "\n",
        "To ensure that the distribution of labels remains in the same proportion for the training and testing set, make sure to use the `stratify` parameter. \n",
        "\n",
        "Refer link below to learn more:\n",
        "http://scikit-learn.org/stable/modules/generated/sklearn.model_selection.train_test_split.html"
      ]
    },
    {
      "cell_type": "code",
      "execution_count": null,
      "metadata": {
        "id": "leGbFI8xcG-a",
        "tags": []
      },
      "outputs": [],
      "source": [
        "# for iris dataset\n",
        "Xi_train, Xi_test, yi_train, yi_test = train_test_split(iris.data, iris.target, \n",
        "                        test_size=0.33, random_state=5, stratify = iris.target)\n",
        "\n",
        "# for cancer dataset\n",
        "Xc_train, Xc_test, yc_train, yc_test = train_test_split(cancer.data, cancer.target, \n",
        "                        test_size=0.25, random_state=5, stratify = cancer.target)\n",
        "\n",
        "# for wine dataset\n",
        "Xw_train, Xw_test, yw_train, yw_test = train_test_split(wine.data, wine.target, \n",
        "                        test_size=0.20, random_state=5, stratify = wine.target)"
      ]
    },
    {
      "cell_type": "markdown",
      "metadata": {
        "id": "glUo9_71cijg"
      },
      "source": [
        "Observe the size of test and train sets "
      ]
    },
    {
      "cell_type": "code",
      "execution_count": null,
      "metadata": {
        "colab": {
          "base_uri": "https://localhost:8080/"
        },
        "id": "XqvGJKSTclss",
        "outputId": "3329999b-a4f3-495f-bf58-5c32831f3197"
      },
      "outputs": [
        {
          "output_type": "stream",
          "name": "stdout",
          "text": [
            "For Iris Dataset\n",
            "data shape (X): (150, 4) and Target shape (y): (150,)\n",
            "Training shape: (100, 4) and Training targets shape: (100,)\n",
            "Testing shape: (50, 4) and Testing targets shape: (50,)\n",
            "\n",
            "\n",
            "For Cancer Dataset\n",
            "data shape (X): (569, 30) and Target shape (y): (569,)\n",
            "Training shape: (426, 30) and Training targets shape: (426,)\n",
            "Testing shape: (143, 30) and Testing targets shape: (143,)\n",
            "\n",
            "\n",
            "For wine Dataset\n",
            "data shape (X): (178, 13) and Target shape (y): (178,)\n",
            "Training shape: (142, 13) and Training targets shape: (142,)\n",
            "Testing shape: (36, 13) and Testing targets shape: (36,)\n"
          ]
        }
      ],
      "source": [
        "print(\"For Iris Dataset\")\n",
        "print(\"data shape (X):\", Xi.shape, \"and\",  \n",
        "      \"Target shape (y):\", yi.shape)\n",
        "print(\"Training shape:\", Xi_train.shape, \"and\",  \n",
        "      \"Training targets shape:\", yi_train.shape)\n",
        "print(\"Testing shape:\", Xi_test.shape, \"and\",  \n",
        "      \"Testing targets shape:\", yi_test.shape)\n",
        "print(\"\\n\")\n",
        "\n",
        "print(\"For Cancer Dataset\")\n",
        "print(\"data shape (X):\", Xc.shape, \"and\",  \n",
        "      \"Target shape (y):\", yc.shape)\n",
        "print(\"Training shape:\", Xc_train.shape, \"and\",  \n",
        "      \"Training targets shape:\", yc_train.shape)\n",
        "print(\"Testing shape:\", Xc_test.shape, \"and\",  \n",
        "      \"Testing targets shape:\", yc_test.shape)\n",
        "print(\"\\n\")\n",
        "\n",
        "print(\"For wine Dataset\")\n",
        "print(\"data shape (X):\", Xw.shape, \"and\",  \n",
        "      \"Target shape (y):\", yw.shape)\n",
        "print(\"Training shape:\", Xw_train.shape, \"and\",  \n",
        "      \"Training targets shape:\", yw_train.shape)\n",
        "print(\"Testing shape:\", Xw_test.shape, \"and\",  \n",
        "      \"Testing targets shape:\", yw_test.shape)"
      ]
    },
    {
      "cell_type": "code",
      "execution_count": null,
      "metadata": {
        "deletable": false,
        "editable": false,
        "colab": {
          "base_uri": "https://localhost:8080/",
          "height": 46
        },
        "id": "ouB0u-KSkHlC",
        "outputId": "af1d910b-b0c8-4051-f527-a83f315ea801"
      },
      "outputs": [
        {
          "output_type": "execute_result",
          "data": {
            "text/plain": [
              "q2a results: All test cases passed!"
            ],
            "text/html": [
              "<p><strong><pre style='display: inline;'>q2a</pre></strong> passed! 🙌</p>"
            ]
          },
          "metadata": {},
          "execution_count": 98
        }
      ],
      "source": [
        "grader.check(\"q2a\")"
      ]
    },
    {
      "cell_type": "markdown",
      "metadata": {
        "id": "mztt6ZtPkHlC"
      },
      "source": [
        "<!-- BEGIN QUESTION -->\n",
        "\n",
        "### Ex 2B.  Distribution of class labels"
      ]
    },
    {
      "cell_type": "markdown",
      "metadata": {
        "id": "9HW-D_Crcrt7"
      },
      "source": [
        "Show the distribution of class labels is the same between the full dataset, training set, and test set for the wine dataset."
      ]
    },
    {
      "cell_type": "code",
      "execution_count": null,
      "metadata": {
        "colab": {
          "base_uri": "https://localhost:8080/",
          "height": 295
        },
        "id": "nz0nXRBxcoOm",
        "outputId": "2a11338d-67dd-4374-e621-d1b6c199f0bc",
        "tags": []
      },
      "outputs": [
        {
          "output_type": "display_data",
          "data": {
            "text/plain": [
              "<Figure size 792x288 with 3 Axes>"
            ],
            "image/png": "[encoded data removed]"
          },
          "metadata": {
            "needs_background": "light"
          }
        }
      ],
      "source": [
        "plt.figure(figsize=(11,4)) \n",
        "plt.subplot(1, 3, 1)\n",
        "plt.hist(yw)\n",
        "plt.xlabel(\"Y values\")\n",
        "plt.ylabel(\"Counts\")\n",
        "plt.title(\"Data Set\")\n",
        "\n",
        "plt.subplot(1, 3, 2)\n",
        "plt.hist(yw_train)\n",
        "plt.xlabel(\"Y values\")\n",
        "plt.ylabel(\"Counts\")\n",
        "plt.title(\"Train Set\")\n",
        "\n",
        "plt.subplot(1, 3, 3)\n",
        "plt.hist(yw_test)\n",
        "plt.xlabel(\"Y values\")\n",
        "plt.ylabel(\"Counts\")\n",
        "plt.title(\"Test Set\");\n"
      ]
    },
    {
      "cell_type": "markdown",
      "metadata": {
        "id": "6bWj9tK9cyE9"
      },
      "source": [
        "<!-- END QUESTION -->\n",
        "\n",
        "<!-- BEGIN QUESTION -->\n",
        "\n",
        "### Ex. 2C. Train a KNN model \n",
        "\n",
        "For KNN classification, use 5 neighbors initially."
      ]
    },
    {
      "cell_type": "code",
      "execution_count": null,
      "metadata": {
        "id": "3v7Bw0j0cvLv",
        "colab": {
          "base_uri": "https://localhost:8080/",
          "height": 36
        },
        "outputId": "aa766b44-3b9d-4809-82e0-6ef316c21390"
      },
      "outputs": [
        {
          "output_type": "execute_result",
          "data": {
            "text/plain": [
              "' For wine dataset analysis '"
            ],
            "application/vnd.google.colaboratory.intrinsic+json": {
              "type": "string"
            }
          },
          "metadata": {},
          "execution_count": 100
        }
      ],
      "source": [
        "\"\"\" For iris dataset analysis \"\"\"\n",
        "X_train = Xi_train\n",
        "y_train = yi_train\n",
        "X_test =  Xi_test\n",
        "y_test =  yi_test\n",
        "target_names = iris.target_names\n",
        "\n",
        "\n",
        "\n",
        "\"\"\" For cancer dataset analysis \"\"\"\n",
        "# X_train = Xc_train\n",
        "# y_train = yc_train\n",
        "# X_test =  Xc_test\n",
        "# y_test =  yc_test\n",
        "# target_names = cancer.target_names\n",
        "\n",
        "\n",
        "\"\"\" For wine dataset analysis \"\"\"\n",
        "# X_train = Xw_train\n",
        "# y_train = yw_train\n",
        "# X_test =  Xw_test\n",
        "# y_test =  yw_test\n",
        "# target_names = wine.target_names\n"
      ]
    },
    {
      "cell_type": "code",
      "execution_count": null,
      "metadata": {
        "tags": [],
        "colab": {
          "base_uri": "https://localhost:8080/"
        },
        "id": "id3E_nTNkHlE",
        "outputId": "e125cd1b-b430-408b-b000-e21fa0844a28"
      },
      "outputs": [
        {
          "output_type": "stream",
          "name": "stdout",
          "text": [
            "0.94\n"
          ]
        }
      ],
      "source": [
        "# set n_neighbors = 5 \n",
        "knn = neighbors.KNeighborsClassifier(n_neighbors = 5)\n",
        "\n",
        "# train the classifier using the training data, use fit()\n",
        "knn.fit(X_train, y_train)\n",
        "\n",
        "# compute the prediction of the test set using predict()\n",
        "predict = knn.predict(X_test)\n",
        "\n",
        "# compute the accuracy in predicting the test set \n",
        "# from sklearn.metrics import accuracy_score \n",
        "accVal = accuracy_score(y_test, predict)\n",
        "print(accVal)"
      ]
    },
    {
      "cell_type": "markdown",
      "metadata": {
        "id": "u1YCl7mjdIQ4"
      },
      "source": [
        "We can see that the accuracy score for iris dataset is 0.94. For the same neighbor hyperparameter, what is the accuracy score for different datasets.\n",
        "\n",
        "* What was the accuracy score for breast cancer dataset?\n",
        "* What was the accuracy score for wine dataset?"
      ]
    },
    {
      "cell_type": "markdown",
      "metadata": {
        "id": "kwKPQOWedqil"
      },
      "source": [
        "<!-- END QUESTION -->\n",
        "\n",
        "## Exercise 3: Performance Measures \n",
        "\n"
      ]
    },
    {
      "cell_type": "markdown",
      "metadata": {
        "id": "8JD1dxdaeLEg"
      },
      "source": [
        "### Ex. 3A. Write your own functions \n",
        "\n",
        "From page 73 of the book, the performance metrics are defined. Create a functions for accuracy, sensitivity, specificity, recall, precision, positive predictive value, and negative predictive value. \n",
        "\n",
        "You can **not** use the built-in sklearn functions or any other python module. \n",
        "\n",
        "Refer to either class notes or textbook for these definitions. "
      ]
    },
    {
      "cell_type": "code",
      "execution_count": null,
      "metadata": {
        "id": "2G1GnKTFdo5l",
        "tags": []
      },
      "outputs": [],
      "source": [
        "def accuracy(tp, fp, fn, tn):\n",
        "    # Define an accuracy function \n",
        "    # <formula for accuracy>\n",
        "    return (tp+tn)/(tp+tn+fp+fn)\n",
        "    \n",
        "\n",
        "\n",
        "def sensitivity(tp, fp, fn, tn):\n",
        "    # Define a sensitivity function \n",
        "    # <formula for sensitivity>\n",
        "    return tp/(tp+fn)\n",
        "\n",
        "\n",
        "def specificity(tp, fp, fn, tn):\n",
        "    # Define a specificity function \n",
        "    # <formula for specificity>\n",
        "    return tn/(tn+fp)\n",
        "\n",
        "def recall(tp, fp, fn, tn):\n",
        "    # Define a recall function \n",
        "    # <formula for recall>\n",
        "    return tp/(tp+fn)\n",
        "\n",
        "def precision(tp, fp, fn, tn):\n",
        "    # Define a precision function\n",
        "    # <formula for precision>\n",
        "    return tp/(tp+fp)\n",
        "\n",
        "def negPredValue(tp, fp, fn, tn):\n",
        "    # Define a negative predictive value function \n",
        "    # <formula for npv>\n",
        "    return tn/(tn+fn)\n",
        "\n",
        "def posPredValue(tp, fp, fn, tn):\n",
        "    # Define a positive predictive value function \n",
        "    # <formula for ppv>\n",
        "    return tp/(tp+fp)\n",
        "\n",
        "def f1_score(tp, fp, fn, tn):\n",
        "    # Define a f1-score function \n",
        "    # <formula for f1-score> \n",
        "    return 2*precision(tp, fp, fn, tn)*recall(tp, fp, fn, tn)/(precision(tp, fp, fn, tn)+recall(tp, fp, fn, tn))"
      ]
    },
    {
      "cell_type": "markdown",
      "metadata": {
        "id": "0F615WOVkHlG"
      },
      "source": [
        "Test the function above for the binary case as detailed in Page [74] What values does the function return for accuracy, recall, specificity, precision, negPredValue, posPredValue and F1 score."
      ]
    },
    {
      "cell_type": "code",
      "execution_count": null,
      "metadata": {
        "id": "z_8yu0pRkHlG",
        "colab": {
          "base_uri": "https://localhost:8080/"
        },
        "outputId": "98811415-001e-437f-ec8d-90a2e8aa055f"
      },
      "outputs": [
        {
          "output_type": "stream",
          "name": "stdout",
          "text": [
            "Accuracy:  0.8316425120772947\n",
            "sensitivity:  0.9979271542789458\n",
            "specificity:  0.09567496723460026\n",
            "precision:  0.8300492610837439\n",
            "recall:  0.9979271542789458\n",
            "NegativePredictiveValue:  0.9125\n",
            "PositivePredictiveValue:  0.8300492610837439\n",
            "f1_score: 0.9062794137421004\n",
            "3370.0 73.0 7.0 690.0\n"
          ]
        }
      ],
      "source": [
        "tp=3370.\n",
        "tn=73.\n",
        "fn=7.\n",
        "fp=690.\n",
        "\n",
        "\n",
        "accVal = accuracy(tp,fp,fn,tn)\n",
        "sensVal = sensitivity(tp,fp,fn,tn)\n",
        "specVal = specificity(tp,fp,fn,tn)\n",
        "precVal = precision(tp,fp,fn,tn)\n",
        "recVal = recall(tp,fp,fn,tn)\n",
        "ppVal = posPredValue(tp,fp,fn,tn)\n",
        "npVal = negPredValue(tp,fp,fn,tn)\n",
        "f1Val = f1_score(tp,fp,fn,tn)\n",
        "\n",
        "print(\"Accuracy: \", accVal)\n",
        "print(\"sensitivity: \", sensVal)\n",
        "print(\"specificity: \", specVal)\n",
        "print(\"precision: \", precVal)\n",
        "print(\"recall: \", recVal)\n",
        "print(\"NegativePredictiveValue: \", npVal)\n",
        "print(\"PositivePredictiveValue: \", ppVal)\n",
        "print(\"f1_score:\", f1Val)\n",
        "print(tp, tn, fn, fp)"
      ]
    },
    {
      "cell_type": "code",
      "execution_count": null,
      "metadata": {
        "deletable": false,
        "editable": false,
        "id": "jh7vAu_ckHlG",
        "colab": {
          "base_uri": "https://localhost:8080/",
          "height": 46
        },
        "outputId": "ac99d3b9-eb75-4168-a2aa-9dec5f08500e"
      },
      "outputs": [
        {
          "output_type": "execute_result",
          "data": {
            "text/plain": [
              "q3a results: All test cases passed!"
            ],
            "text/html": [
              "<p><strong><pre style='display: inline;'>q3a</pre></strong> passed! 🌟</p>"
            ]
          },
          "metadata": {},
          "execution_count": 104
        }
      ],
      "source": [
        "grader.check(\"q3a\")"
      ]
    },
    {
      "cell_type": "markdown",
      "metadata": {
        "id": "S9Bx0K_qeSy_"
      },
      "source": [
        "### Ex. 3B. Practice computing performance metrics \n",
        "\n",
        "\n",
        "Work on the following and using the function developed earlier, compute the performance metrices. \n",
        "\n",
        "We have 100 objects: 90 of the positive class, and 10 of the negative class.\n",
        "* A. The supervised learning algorithm correctly classified 45 of the positive class, and 5 of the negative class.\n",
        "* B. The supervised learning algorithm correctly classified 10 of the positive class, and 9 of the negative class.\n",
        "\n",
        "We have 100 objects: 50 of the positive class, and 50 of the negative class.\n",
        "* C. The supervised learning algorithm correctly classified 40 of the positive class, and 10 of the negative class.\n",
        "* D. The supervised learning algorithm correctly classified 40 of the positive class, and 40 of the negative class.\n",
        "\n",
        "\n",
        "What is the computed accuracy, precision, recall and f1 score for the above problem?"
      ]
    },
    {
      "cell_type": "code",
      "execution_count": null,
      "metadata": {
        "id": "-ImaCeeceQkz",
        "tags": [],
        "colab": {
          "base_uri": "https://localhost:8080/"
        },
        "outputId": "9956ccf3-f1d7-4e76-b18b-d2ef38a9d149"
      },
      "outputs": [
        {
          "output_type": "stream",
          "name": "stdout",
          "text": [
            "\n",
            "Output A \n",
            "\n",
            "0.5\n",
            "0.9\n",
            "0.5\n",
            "0.6428571428571429\n",
            "\n",
            "Output B \n",
            "\n",
            "0.19\n",
            "0.9090909090909091\n",
            "0.1111111111111111\n",
            "0.198019801980198\n",
            "\n",
            "Output C \n",
            "\n",
            "0.5\n",
            "0.5\n",
            "0.8\n",
            "0.6153846153846154\n",
            "\n",
            "Output D \n",
            "\n",
            "0.8\n",
            "0.8\n",
            "0.8\n",
            "0.8000000000000002\n"
          ]
        }
      ],
      "source": [
        "# We know that we have 100 objects: 90 of the positive class, and 10 of the negative class.\n",
        "# a) Correctly classified 45 of the positive class, and 5 of the negative class.\n",
        "tpA= 45\n",
        "tnA= 5\n",
        "fnA= 45\n",
        "fpA= 5\n",
        "print(\"\\nOutput A \\n\")\n",
        "print(accuracy(tpA,fpA,fnA,tnA))\n",
        "print(precision(tpA,fpA,fn,tnA))\n",
        "print(recall(tpA,fpA,fnA,tnA))\n",
        "print(f1_score(tpA,fpA,fnA,tnA))\n",
        "\n",
        "\n",
        "# b. Correctly classified 10 of the positive class, and 9 of the negative class.\n",
        "tpB= 10\n",
        "tnB= 9\n",
        "fnB= 80\n",
        "fpB= 1\n",
        "print(\"\\nOutput B \\n\")\n",
        "print(accuracy(tpB,fpB,fnB,tnB))\n",
        "print(precision(tpB,fpB,fnB,tnB))\n",
        "print(recall(tpB,fpB,fnB,tnB))\n",
        "print(f1_score(tpB,fpB,fnB,tnB))\n",
        "\n",
        "\n",
        "# We know that we have 100 objects: 50 of the positive class, and 50 of the negative class.\n",
        "# c. correctly classified 40 of the positive class, and 10 of the negative class.\n",
        "tpC= 40\n",
        "tnC= 10\n",
        "fnC= 10\n",
        "fpC= 40\n",
        "print(\"\\nOutput C \\n\")\n",
        "print(accuracy(tpC,fpC,fnC,tnC))\n",
        "print(precision(tpC,fpC,fnC,tnC))\n",
        "print(recall(tpC,fpC,fnC,tnC))\n",
        "print(f1_score(tpC,fpC,fnC,tnC))\n",
        "\n",
        "\n",
        "#  d. correctly classified 40 of the positive class, and 40 of the negative class\n",
        "tpD= 40\n",
        "tnD= 40\n",
        "fnD= 10\n",
        "fpD= 10\n",
        "print(\"\\nOutput D \\n\")\n",
        "print(accuracy(tpD,fpD,fnD,tnD))\n",
        "print(precision(tpD,fpD,fnD,tnD))\n",
        "print(recall(tpD,fpD,fnD,tnD))\n",
        "print(f1_score(tpD,fpD,fnD,tnD))\n"
      ]
    },
    {
      "cell_type": "code",
      "execution_count": null,
      "metadata": {
        "deletable": false,
        "editable": false,
        "id": "bR4ewbJ2kHlH",
        "colab": {
          "base_uri": "https://localhost:8080/",
          "height": 46
        },
        "outputId": "5a314e86-163c-4c46-b810-695949f40c0f"
      },
      "outputs": [
        {
          "output_type": "execute_result",
          "data": {
            "text/plain": [
              "q3b results: All test cases passed!"
            ],
            "text/html": [
              "<p><strong><pre style='display: inline;'>q3b</pre></strong> passed! 🙌</p>"
            ]
          },
          "metadata": {},
          "execution_count": 106
        }
      ],
      "source": [
        "grader.check(\"q3b\")"
      ]
    },
    {
      "cell_type": "markdown",
      "metadata": {
        "id": "C7RrbdpdefPW"
      },
      "source": [
        "### Ex. 3C. Use `scikit-learn` performance measure methods \n",
        "\n",
        "Now that we have looked into performance metrics, we can use the inbuilt function to measure the score or values. \n",
        "\n",
        "First, let's look at the classification report.\n",
        "\n",
        "Then, precision, recall and f1-score. "
      ]
    },
    {
      "cell_type": "code",
      "execution_count": null,
      "metadata": {
        "id": "TOWxCVypedR9",
        "tags": [],
        "colab": {
          "base_uri": "https://localhost:8080/"
        },
        "outputId": "c08698e7-7101-46b2-a899-e67e5b703c8d"
      },
      "outputs": [
        {
          "output_type": "stream",
          "name": "stdout",
          "text": [
            "              precision    recall  f1-score   support\n",
            "\n",
            "           0       0.91      0.94      0.93        53\n",
            "           1       0.97      0.94      0.96        90\n",
            "\n",
            "    accuracy                           0.94       143\n",
            "   macro avg       0.94      0.94      0.94       143\n",
            "weighted avg       0.94      0.94      0.94       143\n",
            "\n",
            "precision:  0.9659090909090909\n",
            "recall:     0.9444444444444444\n",
            "F1 score:   0.9550561797752809\n"
          ]
        }
      ],
      "source": [
        "# Use evaluation functions from metrics module. \n",
        "\n",
        "# Model for Cancer\n",
        "# remember names for data \n",
        "#  Xc_train, yc_train, ...  \n",
        "#  cancer.target_names\n",
        "knnC = neighbors.KNeighborsClassifier(n_neighbors = 5)\n",
        "\n",
        "# train the classifier using the training data, use fit()\n",
        "knnC.fit(Xc_train, yc_train)\n",
        "\n",
        "# compute the prediction of the test set using predict()\n",
        "predictC = knnC.predict(Xc_test)\n",
        " \n",
        "precValC = metrics.precision_score(yc_test, predictC)\n",
        "recValC = metrics.recall_score(yc_test, predictC)\n",
        "f1ValC = metrics.f1_score(yc_test, predictC)\n",
        "\n",
        "print(metrics.classification_report(yc_test, predictC))\n",
        "print (\"precision: \", precValC)\n",
        "print (\"recall:    \", recValC)\n",
        "print (\"F1 score:  \", f1ValC)"
      ]
    },
    {
      "cell_type": "code",
      "execution_count": null,
      "metadata": {
        "deletable": false,
        "editable": false,
        "id": "qrx7yTozkHlI",
        "colab": {
          "base_uri": "https://localhost:8080/",
          "height": 46
        },
        "outputId": "8a9e75dd-a418-4724-df41-38015e89453a"
      },
      "outputs": [
        {
          "output_type": "execute_result",
          "data": {
            "text/plain": [
              "q3c results: All test cases passed!"
            ],
            "text/html": [
              "<p><strong><pre style='display: inline;'>q3c</pre></strong> passed! 🌟</p>"
            ]
          },
          "metadata": {},
          "execution_count": 108
        }
      ],
      "source": [
        "grader.check(\"q3c\")"
      ]
    },
    {
      "cell_type": "markdown",
      "metadata": {
        "id": "opnSwAk4es7V"
      },
      "source": [
        "### Ex. 3D. Three-fold Split  \n",
        "\n",
        "Create and explore a visualization for the when number of neighbors in KNN is changed from 1 to 25 and different weight hyperparameters are used for KNN on the cancer data set. \n",
        "\n",
        "Use the following procedure:\n",
        "\n",
        "* Split the data into training (60%), validation (20%), and testing (20%)\n",
        "    * To maintain consistency among students, let's use random state of 25\n",
        "* Use nested for-loops\n",
        "    * the first loop should take care of weights and second loop needs to take care of the no. of neighbors. \n",
        "    * Inside the loops, you will have to build the knn, train the model and compute the accuracy on train and test sets \n",
        "    * The training and testing accuracy for each weight/neighbor combination can be stored\n",
        "* Plot the testing accuracy versus the number of neighbors \n",
        "    * one line for each way of calculating the weights\n",
        "* Report out the best hyperparameter combination \n",
        "* Using the best hyperparameters, retrain a model on the train + val set  \n",
        "    * report the performance on the test set\n",
        "\n",
        "*Hint* Look at and adapt the last example in `nb_week9` for this problem. "
      ]
    },
    {
      "cell_type": "code",
      "source": [
        "def max_finder(x):\n",
        "  n_rows = x.shape[0]\n",
        "  n_cols = x.shape[1]\n",
        "  max_i_row, max_i_col = 0, 0\n",
        "  for i_row in range(0, n_rows):\n",
        "    for i_col in range(0, n_cols):\n",
        "      if x[i_row, i_col] > x[max_i_row, max_i_col]:\n",
        "        max_i_row, max_i_col = i_row, i_col\n",
        "  return max_i_row, max_i_col"
      ],
      "metadata": {
        "id": "ook6tL6Aeffk"
      },
      "execution_count": null,
      "outputs": []
    },
    {
      "cell_type": "code",
      "execution_count": null,
      "metadata": {
        "id": "wZtVNIryeqip",
        "tags": [],
        "colab": {
          "base_uri": "https://localhost:8080/",
          "height": 419
        },
        "outputId": "15e273fe-779d-44eb-892b-6fcc06f7c2d1"
      },
      "outputs": [
        {
          "output_type": "display_data",
          "data": {
            "text/plain": [
              "<Figure size 720x360 with 1 Axes>"
            ],
            "image/png": "[encoded data removed]"
          },
          "metadata": {
            "needs_background": "light"
          }
        },
        {
          "output_type": "stream",
          "name": "stdout",
          "text": [
            "best validation accuracy:  0.947\n",
            "best weights:  uniform\n",
            "best n_neighbors: 7\n",
            "test-set accuracy: 0.921\n"
          ]
        }
      ],
      "source": [
        "# Split off the test set \n",
        "X_trainval, X_test, y_trainval, y_test = train_test_split(\n",
        "    cancer.data, cancer.target, test_size=0.20, random_state = 25)\n",
        "\n",
        "# Split trainval into train + val \n",
        "X_train, X_val, y_train, y_val = train_test_split(\n",
        "    X_trainval, y_trainval, test_size=0.25, random_state=25)\n",
        "\n",
        "wt_options = ['uniform', 'distance']\n",
        "k_range = range(1,25)\n",
        "acc_vals = np.zeros([2, 25])\n",
        "\n",
        "# Create for loop for weights first\n",
        "for w in range(len(wt_options)):\n",
        "    weight = wt_options[w]\n",
        "    # create for loop for neighbors\n",
        "    for k in k_range:\n",
        "    \n",
        "        # build a model \n",
        "        clf = neighbors.KNeighborsClassifier(n_neighbors=k, weights=weight)\n",
        "        \n",
        "        # fit the model \n",
        "        clf.fit(X_train, y_train)\n",
        "        \n",
        "        # predict y-values on validation set \n",
        "        pred_val =clf.predict(X_val)\n",
        "        \n",
        "        # calculate performance on validation set \n",
        "        acc_vals[w,k] = clf.score(X_val, y_val)\n",
        "\n",
        "fig = plt.figure(figsize=(10, 5)) \n",
        "# Plotting both the curves simultaneously\n",
        "plt.plot(k_range, acc_vals[0,1:], color='r', label='uniform')\n",
        "plt.plot(k_range, acc_vals[1,1:], color='g', label='distance')  \n",
        "# Naming the x-axis, y-axis and the whole graph\n",
        "plt.xlabel(\"Number of neighbours\")\n",
        "plt.ylabel(\"Accuracy\")\n",
        "plt.title(\"Tuning KNN parameters\")  \n",
        "# Adding legend\n",
        "plt.legend()\n",
        "# specify x-axis locations\n",
        "x_ticks = [1, 5, 7, 10, 15, 20, 24]\n",
        "# specify x-axis labels\n",
        "x_labels = [1, 5, 7, 10, 15, 20, 24] \n",
        "# add x-axis values to plot\n",
        "plt.xticks(ticks=x_ticks, labels=x_labels)\n",
        "# To load the display window\n",
        "plt.show()\n",
        "\n",
        "# Find the best score and best hyper-parameter\n",
        "max_ind = max_finder(acc_vals)\n",
        "best_val_acc = acc_vals[max_ind[0], max_ind[1]]\n",
        "print(\"best validation accuracy:  %.3f\" % best_val_acc)\n",
        "best_wts = wt_options[max_ind[0]]\n",
        "print(\"best weights:  %s\" % best_wts)\n",
        "best_nbrs = k_range[max_ind[1]-1]\n",
        "print(\"best n_neighbors: %d\" % best_nbrs)\n",
        "\n",
        "# Retrain model on train + validation set \n",
        "knn = neighbors.KNeighborsClassifier(\n",
        "    n_neighbors=best_nbrs, weights = best_wts)\n",
        "knn.fit(X_trainval, y_trainval)\n",
        "# Predict and evaluate on test set\n",
        "pred_test =knn.predict(X_test)\n",
        "test_acc = knn.score(X_test, y_test)\n",
        "print(\"test-set accuracy: %.3f\" % test_acc)"
      ]
    },
    {
      "cell_type": "code",
      "execution_count": null,
      "metadata": {
        "deletable": false,
        "editable": false,
        "id": "X2Xbl2eSkHlJ",
        "colab": {
          "base_uri": "https://localhost:8080/",
          "height": 46
        },
        "outputId": "3dd2f2a5-8399-48ab-cab1-34cbe0430d53"
      },
      "outputs": [
        {
          "output_type": "execute_result",
          "data": {
            "text/plain": [
              "q3d results: All test cases passed!"
            ],
            "text/html": [
              "<p><strong><pre style='display: inline;'>q3d</pre></strong> passed! 🎉</p>"
            ]
          },
          "metadata": {},
          "execution_count": 196
        }
      ],
      "source": [
        "grader.check(\"q3d\")"
      ]
    },
    {
      "cell_type": "code",
      "execution_count": null,
      "metadata": {
        "id": "WA-tD8MNkHlJ"
      },
      "outputs": [],
      "source": []
    }
  ],
  "metadata": {
    "colab": {
      "collapsed_sections": [],
      "provenance": []
    },
    "kernelspec": {
      "display_name": "Python 3",
      "language": "python",
      "name": "python3"
    },
    "language_info": {
      "codemirror_mode": {
        "name": "ipython",
        "version": 3
      },
      "file_extension": ".py",
      "mimetype": "text/x-python",
      "name": "python",
      "nbconvert_exporter": "python",
      "pygments_lexer": "ipython3",
      "version": "3.7.4"
    },
    "otter": {
      "OK_FORMAT": true,
      "tests": {
        "q1a": {
          "name": "q1a",
          "points": 0.5,
          "suites": [
            {
              "cases": [
                {
                  "code": ">>> all(iris.data[15,0:2] == np.array([5.7, 4.4]))\nTrue",
                  "hidden": false,
                  "locked": false
                },
                {
                  "code": ">>> all(cancer.data[23,1:3] == np.array([23.04, 137.2]))\nTrue",
                  "hidden": false,
                  "locked": false
                },
                {
                  "code": ">>> all(wine.data[24,0:2] == np.array([13.5, 1.81]))\nTrue",
                  "hidden": false,
                  "locked": false
                },
                {
                  "code": ">>> all(cancer.target[0:5] == np.array([0, 0, 0, 0, 0])) and \\\n... all(wine.target[[10, 100, 150]] == np.array([0, 1, 2]))\nTrue",
                  "hidden": false,
                  "locked": false
                }
              ],
              "scored": true,
              "setup": "",
              "teardown": "",
              "type": "doctest"
            }
          ]
        },
        "q1c": {
          "name": "q1c",
          "points": 0.5,
          "suites": [
            {
              "cases": [
                {
                  "code": ">>> cancerNumSamples==569 and wineNumFeatures==13\nTrue",
                  "hidden": false,
                  "locked": false
                },
                {
                  "code": ">>> cancer_labels[1] == 'benign' and wine_labels[0] == 'class_0'\nTrue",
                  "hidden": false,
                  "locked": false
                }
              ],
              "scored": true,
              "setup": "",
              "teardown": "",
              "type": "doctest"
            }
          ]
        },
        "q2a": {
          "name": "q2a",
          "points": 0.5,
          "suites": [
            {
              "cases": [
                {
                  "code": ">>> Xi_train[2,2] == 1.4 and Xw_test[3,4] == 97.0 and Xc_train[4,5] == 0.1117\nTrue",
                  "hidden": false,
                  "locked": false
                },
                {
                  "code": ">>> all(yi_train[0:7] == np.array([1, 2, 0, 2, 1, 1, 1]))\nTrue",
                  "hidden": false,
                  "locked": false
                }
              ],
              "scored": true,
              "setup": "",
              "teardown": "",
              "type": "doctest"
            }
          ]
        },
        "q3a": {
          "name": "q3a",
          "points": 2.5,
          "suites": [
            {
              "cases": [
                {
                  "code": ">>> dat1 = [3,1,2,4]\n>>> dat2 = [5,0,3,2]\n>>> dat3 = [4,1,1,4]\n>>> accuracy(dat1[0], dat1[1], dat1[2], dat1[3]) == 0.7 and \\\n... recall(dat1[0], dat1[1], dat1[2], dat1[3]) == 0.6 and \\\n... np.isclose(negPredValue(dat1[0], dat1[1], dat1[2], dat1[3]), 0.66666)\nTrue",
                  "hidden": false,
                  "locked": false
                },
                {
                  "code": ">>> dat1 = [3,1,2,4]\n>>> sensitivity(dat1[0], dat1[1], dat1[2], dat1[3]) == 0.6 and \\\n... posPredValue(dat1[0], dat1[1], dat1[2], dat1[3]) == 0.75 and \\\n... np.isclose(f1_score(dat1[0], dat1[1], dat1[2], dat1[3]), 0.666666)\nTrue",
                  "hidden": false,
                  "locked": false
                },
                {
                  "code": ">>> dat1 = [3,1,2,4]\n>>> precision(dat1[0], dat1[1], dat1[2], dat1[3]) == 0.75 and \\\n... specificity(dat1[0], dat1[1], dat1[2], dat1[3]) == 0.8 \nTrue",
                  "hidden": false,
                  "locked": false
                },
                {
                  "code": ">>> dat2 = [5,0,3,2]\n>>> sensitivity(dat2[0], dat2[1], dat2[2], dat2[3]) == 0.625 and \\\n... precision(dat2[0], dat2[1], dat2[2], dat2[3]) == 1.0 and \\\n... np.isclose(negPredValue(dat2[0], dat2[1], dat2[2], dat2[3]), 0.4)\nTrue",
                  "hidden": false,
                  "locked": false
                },
                {
                  "code": ">>> dat2 = [5,0,3,2]\n>>> recall(dat2[0], dat2[1], dat2[2], dat2[3]) == 0.625 and \\\n... specificity(dat2[0], dat2[1], dat2[2], dat2[3]) == 1.0 and \\\n... np.isclose(f1_score(dat2[0], dat2[1], dat2[2], dat2[3]), 0.76923)\nTrue",
                  "hidden": false,
                  "locked": false
                },
                {
                  "code": ">>> dat2 = [5,0,3,2]\n>>> accuracy(dat2[0], dat2[1], dat2[2], dat2[3]) == 0.7 and \\\n... posPredValue(dat2[0], dat2[1], dat2[2], dat2[3]) == 1\nTrue",
                  "hidden": false,
                  "locked": false
                },
                {
                  "code": ">>> dat3 = [4,1,1,4]\n>>> accuracy(dat3[0], dat3[1], dat3[2], dat3[3]) == 0.8 and \\\n... sensitivity(dat3[0], dat3[1], dat3[2], dat3[3]) == 0.8 and \\\n... np.isclose(posPredValue(dat3[0], dat3[1], dat3[2], dat3[3]), 0.8)\nTrue",
                  "hidden": false,
                  "locked": false
                },
                {
                  "code": ">>> dat3 = [4,1,1,4]\n>>> specificity(dat3[0], dat3[1], dat3[2], dat3[3]) == 0.8 and \\\n... precision(dat3[0], dat3[1], dat3[2], dat3[3]) == 0.8 and \\\n... np.isclose(f1_score(dat3[0], dat3[1], dat3[2], dat3[3]), 0.8)\nTrue",
                  "hidden": false,
                  "locked": false
                },
                {
                  "code": ">>> np.isclose(accVal, 0.8316425) and np.isclose(sensVal, 0.9979271) and \\\n... np.isclose(specVal, 0.095674967) and np.isclose(f1Val, 0.90627941)\nTrue",
                  "hidden": false,
                  "locked": false
                },
                {
                  "code": ">>> np.isclose(precVal, 0.83004926) and np.isclose(recVal, 0.99792715) and \\\n... np.isclose(ppVal, 0.83004926) and np.isclose(npVal, 0.9125)\nTrue",
                  "hidden": false,
                  "locked": false
                }
              ],
              "scored": true,
              "setup": "",
              "teardown": "",
              "type": "doctest"
            }
          ]
        },
        "q3b": {
          "name": "q3b",
          "points": 1,
          "suites": [
            {
              "cases": [
                {
                  "code": ">>> tpA==45. and tnA==5.  and  fnA==45. and  fpA==5.\nTrue",
                  "hidden": false,
                  "locked": false
                }
              ],
              "scored": true,
              "setup": "",
              "teardown": "",
              "type": "doctest"
            }
          ]
        },
        "q3c": {
          "name": "q3c",
          "points": 0.5,
          "suites": [
            {
              "cases": [
                {
                  "code": ">>> np.isclose(metrics.accuracy_score(yc_test, predictC), 0.944055944)\nTrue",
                  "hidden": false,
                  "locked": false
                }
              ],
              "scored": true,
              "setup": "",
              "teardown": "",
              "type": "doctest"
            }
          ]
        },
        "q3d": {
          "name": "q3d",
          "points": 1,
          "suites": [
            {
              "cases": [
                {
                  "code": ">>> np.isclose(best_val_acc, 0.94736842)\nTrue",
                  "hidden": false,
                  "locked": false
                }
              ],
              "scored": true,
              "setup": "",
              "teardown": "",
              "type": "doctest"
            }
          ]
        }
      }
    }
  },
  "nbformat": 4,
  "nbformat_minor": 0
}