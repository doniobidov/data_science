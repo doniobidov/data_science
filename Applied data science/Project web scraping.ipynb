{
  "cells": [
    {
      "cell_type": "markdown",
      "metadata": {
        "id": "xMC9hGGknkad"
      },
      "source": [
        "# P3 \n",
        "\n",
        "\n",
        "This project gives you experience with getting data from the web. \n",
        "\n"
      ]
    },
    {
      "cell_type": "markdown",
      "metadata": {
        "id": "4wYE9A1dULmG"
      },
      "source": [
        "### Autograder Setup\n",
        "\n",
        "The next code cell should be uncommented to run the autograder tests when using Colab/DeepNote. If you are using an environment with `otter-grader` already installed (your own machine, lab machines), then do not uncomment the code."
      ]
    },
    {
      "cell_type": "code",
      "execution_count": null,
      "metadata": {
        "colab": {
          "base_uri": "https://localhost:8080/"
        },
        "id": "dURMmllSULmH",
        "outputId": "e6b3f0bc-2520-41c2-a40a-4e6cfec0d061"
      },
      "outputs": [
        {
          "output_type": "stream",
          "name": "stdout",
          "text": [
            "Looking in indexes: https://pypi.org/simple, https://us-python.pkg.dev/colab-wheels/public/simple/\n",
            "Requirement already satisfied: otter-grader in /usr/local/lib/python3.7/dist-packages (4.1.0)\n",
            "Requirement already satisfied: nbformat in /usr/local/lib/python3.7/dist-packages (from otter-grader) (5.7.0)\n",
            "Requirement already satisfied: python-on-whales in /usr/local/lib/python3.7/dist-packages (from otter-grader) (0.52.0)\n",
            "Requirement already satisfied: wrapt in /usr/local/lib/python3.7/dist-packages (from otter-grader) (1.14.1)\n",
            "Requirement already satisfied: google-auth-oauthlib in /usr/local/lib/python3.7/dist-packages (from otter-grader) (0.4.6)\n",
            "Requirement already satisfied: pandas in /usr/local/lib/python3.7/dist-packages (from otter-grader) (1.3.5)\n",
            "Requirement already satisfied: six in /usr/local/lib/python3.7/dist-packages (from otter-grader) (1.15.0)\n",
            "Requirement already satisfied: jinja2 in /usr/local/lib/python3.7/dist-packages (from otter-grader) (2.11.3)\n",
            "Requirement already satisfied: requests in /usr/local/lib/python3.7/dist-packages (from otter-grader) (2.23.0)\n",
            "Requirement already satisfied: jupytext in /usr/local/lib/python3.7/dist-packages (from otter-grader) (1.14.1)\n",
            "Requirement already satisfied: google-api-python-client in /usr/local/lib/python3.7/dist-packages (from otter-grader) (1.12.11)\n",
            "Requirement already satisfied: gspread in /usr/local/lib/python3.7/dist-packages (from otter-grader) (3.4.2)\n",
            "Requirement already satisfied: dill in /usr/local/lib/python3.7/dist-packages (from otter-grader) (0.3.5.1)\n",
            "Requirement already satisfied: click in /usr/local/lib/python3.7/dist-packages (from otter-grader) (7.1.2)\n",
            "Requirement already satisfied: PyYAML in /usr/local/lib/python3.7/dist-packages (from otter-grader) (6.0)\n",
            "Requirement already satisfied: fica>=0.2.0 in /usr/local/lib/python3.7/dist-packages (from otter-grader) (0.2.0)\n",
            "Requirement already satisfied: sphinx in /usr/local/lib/python3.7/dist-packages (from fica>=0.2.0->otter-grader) (1.8.6)\n",
            "Requirement already satisfied: docutils in /usr/local/lib/python3.7/dist-packages (from fica>=0.2.0->otter-grader) (0.17.1)\n",
            "Requirement already satisfied: google-auth<3dev,>=1.16.0 in /usr/local/lib/python3.7/dist-packages (from google-api-python-client->otter-grader) (1.35.0)\n",
            "Requirement already satisfied: uritemplate<4dev,>=3.0.0 in /usr/local/lib/python3.7/dist-packages (from google-api-python-client->otter-grader) (3.0.1)\n",
            "Requirement already satisfied: google-api-core<3dev,>=1.21.0 in /usr/local/lib/python3.7/dist-packages (from google-api-python-client->otter-grader) (1.31.6)\n",
            "Requirement already satisfied: httplib2<1dev,>=0.15.0 in /usr/local/lib/python3.7/dist-packages (from google-api-python-client->otter-grader) (0.17.4)\n",
            "Requirement already satisfied: google-auth-httplib2>=0.0.3 in /usr/local/lib/python3.7/dist-packages (from google-api-python-client->otter-grader) (0.0.4)\n",
            "Requirement already satisfied: protobuf<4.0.0dev,>=3.12.0 in /usr/local/lib/python3.7/dist-packages (from google-api-core<3dev,>=1.21.0->google-api-python-client->otter-grader) (3.17.3)\n",
            "Requirement already satisfied: pytz in /usr/local/lib/python3.7/dist-packages (from google-api-core<3dev,>=1.21.0->google-api-python-client->otter-grader) (2022.4)\n",
            "Requirement already satisfied: packaging>=14.3 in /usr/local/lib/python3.7/dist-packages (from google-api-core<3dev,>=1.21.0->google-api-python-client->otter-grader) (21.3)\n",
            "Requirement already satisfied: setuptools>=40.3.0 in /usr/local/lib/python3.7/dist-packages (from google-api-core<3dev,>=1.21.0->google-api-python-client->otter-grader) (57.4.0)\n",
            "Requirement already satisfied: googleapis-common-protos<2.0dev,>=1.6.0 in /usr/local/lib/python3.7/dist-packages (from google-api-core<3dev,>=1.21.0->google-api-python-client->otter-grader) (1.56.4)\n",
            "Requirement already satisfied: rsa<5,>=3.1.4 in /usr/local/lib/python3.7/dist-packages (from google-auth<3dev,>=1.16.0->google-api-python-client->otter-grader) (4.9)\n",
            "Requirement already satisfied: pyasn1-modules>=0.2.1 in /usr/local/lib/python3.7/dist-packages (from google-auth<3dev,>=1.16.0->google-api-python-client->otter-grader) (0.2.8)\n",
            "Requirement already satisfied: cachetools<5.0,>=2.0.0 in /usr/local/lib/python3.7/dist-packages (from google-auth<3dev,>=1.16.0->google-api-python-client->otter-grader) (4.2.4)\n",
            "Requirement already satisfied: pyparsing!=3.0.5,>=2.0.2 in /usr/local/lib/python3.7/dist-packages (from packaging>=14.3->google-api-core<3dev,>=1.21.0->google-api-python-client->otter-grader) (3.0.9)\n",
            "Requirement already satisfied: pyasn1<0.5.0,>=0.4.6 in /usr/local/lib/python3.7/dist-packages (from pyasn1-modules>=0.2.1->google-auth<3dev,>=1.16.0->google-api-python-client->otter-grader) (0.4.8)\n",
            "Requirement already satisfied: idna<3,>=2.5 in /usr/local/lib/python3.7/dist-packages (from requests->otter-grader) (2.10)\n",
            "Requirement already satisfied: chardet<4,>=3.0.2 in /usr/local/lib/python3.7/dist-packages (from requests->otter-grader) (3.0.4)\n",
            "Requirement already satisfied: certifi>=2017.4.17 in /usr/local/lib/python3.7/dist-packages (from requests->otter-grader) (2022.9.24)\n",
            "Requirement already satisfied: urllib3!=1.25.0,!=1.25.1,<1.26,>=1.21.1 in /usr/local/lib/python3.7/dist-packages (from requests->otter-grader) (1.24.3)\n",
            "Requirement already satisfied: requests-oauthlib>=0.7.0 in /usr/local/lib/python3.7/dist-packages (from google-auth-oauthlib->otter-grader) (1.3.1)\n",
            "Requirement already satisfied: oauthlib>=3.0.0 in /usr/local/lib/python3.7/dist-packages (from requests-oauthlib>=0.7.0->google-auth-oauthlib->otter-grader) (3.2.1)\n",
            "Requirement already satisfied: MarkupSafe>=0.23 in /usr/local/lib/python3.7/dist-packages (from jinja2->otter-grader) (2.0.1)\n",
            "Requirement already satisfied: markdown-it-py<3.0.0,>=1.0.0 in /usr/local/lib/python3.7/dist-packages (from jupytext->otter-grader) (2.1.0)\n",
            "Requirement already satisfied: mdit-py-plugins in /usr/local/lib/python3.7/dist-packages (from jupytext->otter-grader) (0.3.1)\n",
            "Requirement already satisfied: toml in /usr/local/lib/python3.7/dist-packages (from jupytext->otter-grader) (0.10.2)\n",
            "Requirement already satisfied: mdurl~=0.1 in /usr/local/lib/python3.7/dist-packages (from markdown-it-py<3.0.0,>=1.0.0->jupytext->otter-grader) (0.1.2)\n",
            "Requirement already satisfied: typing_extensions>=3.7.4 in /usr/local/lib/python3.7/dist-packages (from markdown-it-py<3.0.0,>=1.0.0->jupytext->otter-grader) (4.1.1)\n",
            "Requirement already satisfied: jsonschema>=2.6 in /usr/local/lib/python3.7/dist-packages (from nbformat->otter-grader) (4.3.3)\n",
            "Requirement already satisfied: jupyter-core in /usr/local/lib/python3.7/dist-packages (from nbformat->otter-grader) (4.11.1)\n",
            "Requirement already satisfied: fastjsonschema in /usr/local/lib/python3.7/dist-packages (from nbformat->otter-grader) (2.16.2)\n",
            "Requirement already satisfied: importlib-metadata>=3.6 in /usr/local/lib/python3.7/dist-packages (from nbformat->otter-grader) (5.0.0)\n",
            "Requirement already satisfied: traitlets>=5.1 in /usr/local/lib/python3.7/dist-packages (from nbformat->otter-grader) (5.1.1)\n",
            "Requirement already satisfied: zipp>=0.5 in /usr/local/lib/python3.7/dist-packages (from importlib-metadata>=3.6->nbformat->otter-grader) (3.9.0)\n",
            "Requirement already satisfied: pyrsistent!=0.17.0,!=0.17.1,!=0.17.2,>=0.14.0 in /usr/local/lib/python3.7/dist-packages (from jsonschema>=2.6->nbformat->otter-grader) (0.18.1)\n",
            "Requirement already satisfied: attrs>=17.4.0 in /usr/local/lib/python3.7/dist-packages (from jsonschema>=2.6->nbformat->otter-grader) (22.1.0)\n",
            "Requirement already satisfied: importlib-resources>=1.4.0 in /usr/local/lib/python3.7/dist-packages (from jsonschema>=2.6->nbformat->otter-grader) (5.10.0)\n",
            "Requirement already satisfied: python-dateutil>=2.7.3 in /usr/local/lib/python3.7/dist-packages (from pandas->otter-grader) (2.8.2)\n",
            "Requirement already satisfied: numpy>=1.17.3 in /usr/local/lib/python3.7/dist-packages (from pandas->otter-grader) (1.21.6)\n",
            "Requirement already satisfied: tqdm in /usr/local/lib/python3.7/dist-packages (from python-on-whales->otter-grader) (4.64.1)\n",
            "Requirement already satisfied: pydantic in /usr/local/lib/python3.7/dist-packages (from python-on-whales->otter-grader) (1.9.2)\n",
            "Requirement already satisfied: typer>=0.4.1 in /usr/local/lib/python3.7/dist-packages (from python-on-whales->otter-grader) (0.4.2)\n",
            "Requirement already satisfied: imagesize in /usr/local/lib/python3.7/dist-packages (from sphinx->fica>=0.2.0->otter-grader) (1.4.1)\n",
            "Requirement already satisfied: snowballstemmer>=1.1 in /usr/local/lib/python3.7/dist-packages (from sphinx->fica>=0.2.0->otter-grader) (2.2.0)\n",
            "Requirement already satisfied: Pygments>=2.0 in /usr/local/lib/python3.7/dist-packages (from sphinx->fica>=0.2.0->otter-grader) (2.6.1)\n",
            "Requirement already satisfied: sphinxcontrib-websupport in /usr/local/lib/python3.7/dist-packages (from sphinx->fica>=0.2.0->otter-grader) (1.2.4)\n",
            "Requirement already satisfied: alabaster<0.8,>=0.7 in /usr/local/lib/python3.7/dist-packages (from sphinx->fica>=0.2.0->otter-grader) (0.7.12)\n",
            "Requirement already satisfied: babel!=2.0,>=1.3 in /usr/local/lib/python3.7/dist-packages (from sphinx->fica>=0.2.0->otter-grader) (2.10.3)\n",
            "Requirement already satisfied: sphinxcontrib-serializinghtml in /usr/local/lib/python3.7/dist-packages (from sphinxcontrib-websupport->sphinx->fica>=0.2.0->otter-grader) (1.1.5)\n"
          ]
        }
      ],
      "source": [
        "# !pip install otter-grader"
      ]
    },
    {
      "cell_type": "markdown",
      "metadata": {
        "id": "Haws1SdYULmI"
      },
      "source": [
        "You will have access to a few tests for the project. Note, when you submit the autograder will run additional \"hidden\" tests on your solutions.\n",
        "\n",
        "Please comment out this cell before submitting."
      ]
    },
    {
      "cell_type": "code",
      "execution_count": null,
      "metadata": {
        "colab": {
          "base_uri": "https://localhost:8080/"
        },
        "id": "G6VfufRMULmJ",
        "outputId": "5417cac6-7251-495f-e848-ea2b9bed7ee2"
      },
      "outputs": [
        {
          "output_type": "stream",
          "name": "stdout",
          "text": [
            "--2022-10-16 23:06:48--  https://pages.mtu.edu/~lebrown/un5550-f22/projects/p3/p3.files.zip\n",
            "Resolving pages.mtu.edu (pages.mtu.edu)... 141.219.70.232\n",
            "Connecting to pages.mtu.edu (pages.mtu.edu)|141.219.70.232|:443... connected.\n",
            "HTTP request sent, awaiting response... 200 OK\n",
            "Length: 1730 (1.7K) [application/zip]\n",
            "Saving to: ‘p3.files.zip.1’\n",
            "\n",
            "p3.files.zip.1      100%[===================>]   1.69K  --.-KB/s    in 0s      \n",
            "\n",
            "2022-10-16 23:06:48 (478 MB/s) - ‘p3.files.zip.1’ saved [1730/1730]\n",
            "\n",
            "Archive:  p3.files.zip\n",
            "replace tests/q1.py? [y]es, [n]o, [A]ll, [N]one, [r]ename: n\n",
            "replace tests/q4.py? [y]es, [n]o, [A]ll, [N]one, [r]ename: n\n",
            "replace tests/q3.py? [y]es, [n]o, [A]ll, [N]one, [r]ename: n\n",
            "replace tests/q2.py? [y]es, [n]o, [A]ll, [N]one, [r]ename: n\n"
          ]
        }
      ],
      "source": [
        "# !wget https://pages.mtu.edu/~lebrown/un5550-f22/projects/p3/p3.files.zip\n",
        "# !unzip p3.files.zip"
      ]
    },
    {
      "cell_type": "code",
      "execution_count": null,
      "metadata": {
        "id": "4i05x2H2uD9z"
      },
      "outputs": [],
      "source": [
        "import pandas as pd \n",
        "import numpy as np\n",
        "from bs4 import BeautifulSoup\n",
        "import requests \n",
        "import re \n",
        "import matplotlib.pyplot as plt\n",
        "%matplotlib inline \n",
        "import seaborn as sns\n",
        "\n",
        "import otter\n",
        "grader = otter.Notebook()"
      ]
    },
    {
      "cell_type": "markdown",
      "metadata": {
        "id": "GXNHkMazULmK"
      },
      "source": [
        "**NOTE** A note on grading for this project.  \n",
        "Each question has the totoal points listed which will be split between autograding methods and manual grading review your code to achieve the requested result.   "
      ]
    },
    {
      "cell_type": "markdown",
      "metadata": {
        "id": "3Gnokidqn_H7"
      },
      "source": [
        "## Q1 - (5 pts total)\n",
        "\n",
        "Scrape [https://www.data.gov](https://www.data.gov) to identify and print out the number of data sets available."
      ]
    },
    {
      "cell_type": "code",
      "execution_count": null,
      "metadata": {
        "id": "MLg0cuqsoMU8",
        "tags": []
      },
      "outputs": [],
      "source": [
        "site = requests.get('https://www.data.gov').text\n",
        "q1 = BeautifulSoup(site, 'html5lib')"
      ]
    },
    {
      "cell_type": "code",
      "execution_count": null,
      "metadata": {
        "tags": [],
        "colab": {
          "base_uri": "https://localhost:8080/"
        },
        "id": "bidP1VnwULmM",
        "outputId": "fe729c69-8b21-450c-fa51-b4cc0782f784"
      },
      "outputs": [
        {
          "output_type": "stream",
          "name": "stdout",
          "text": [
            "The number of datasets is  335221\n"
          ]
        }
      ],
      "source": [
        "# find number a number with a possible comma in the middle, remove the comma, and turn into an integer\n",
        "pattern = r'\\d+,?\\d*'\n",
        "# total_datasets should be an integer\n",
        "total_datasets = int(re.search(pattern, q1.find('small').a.text).group().replace(',', ''))\n",
        "print(\"The number of datasets is \", str(total_datasets))"
      ]
    },
    {
      "cell_type": "code",
      "execution_count": null,
      "metadata": {
        "deletable": false,
        "editable": false,
        "colab": {
          "base_uri": "https://localhost:8080/",
          "height": 46
        },
        "id": "6yYGFzDMULmN",
        "outputId": "4319b36b-6614-4210-ab78-460caae6d243"
      },
      "outputs": [
        {
          "output_type": "execute_result",
          "data": {
            "text/plain": [
              "q1 results: All test cases passed!"
            ],
            "text/html": [
              "<p><strong><pre style='display: inline;'>q1</pre></strong> passed! 🌟</p>"
            ]
          },
          "metadata": {},
          "execution_count": 26
        }
      ],
      "source": [
        "grader.check(\"q1\")"
      ]
    },
    {
      "cell_type": "markdown",
      "metadata": {
        "id": "S3ktojVzoTbe"
      },
      "source": [
        "## Q2 - (20 pts total) \n",
        "\n",
        "You will be looking at the votes for U.S. Senate in the 117th Congress 1st session (2021).  In particular, we are seeking to identify the items that were rejected by a margin of less than 5 votes.  \n",
        "\n",
        "Report in a DataFrame which items match this criteria.  \n",
        "The DataFrame should have separate columns for the vote number, the tally, questions: description, and issue. \n",
        "\n",
        "Data available at: https://www.senate.gov/legislative/LIS/roll_call_lists/vote_menu_117_1.htm\n",
        "\n",
        "Consider completing one of the following methods: \n",
        "* using pandas read_html \n",
        "* using BeautifulSoup to parse the information. "
      ]
    },
    {
      "cell_type": "code",
      "execution_count": null,
      "metadata": {
        "id": "OU7yTmKRpWrU",
        "tags": []
      },
      "outputs": [],
      "source": [
        "url = \"https://www.senate.gov/legislative/LIS/roll_call_lists/vote_menu_117_1.htm\"\n",
        "headers = {\"User-agent\":\n",
        "           \"Mozilla/5.0 (X11; Linux x86_64) AppleWebKit/537.36 (KHTML, like Gecko) Chrome/47.0.2526.80 Safari/537.36\"}\n",
        "site = requests.get(url, headers=headers).text\n",
        "q2 = BeautifulSoup(site, 'html5lib')"
      ]
    },
    {
      "cell_type": "code",
      "execution_count": null,
      "metadata": {
        "id": "mPSZYUyhpXjE",
        "tags": [],
        "colab": {
          "base_uri": "https://localhost:8080/"
        },
        "outputId": "ea911720-64d1-4067-b671-aa329bd797ed"
      },
      "outputs": [
        {
          "output_type": "stream",
          "name": "stdout",
          "text": [
            "Number of rejected votes with margin < 5 : 91\n"
          ]
        }
      ],
      "source": [
        "# Use one of the two methods to get the Senate votes data \n",
        "# Filter/Select only those items that are rejected with a margin \n",
        "#  of less than 5 votes.  \n",
        "# Report in a DataFrame 'tableRejVotes' with columns of: \n",
        "#  vote number 'Vnum', tally 'Tally', question: description 'Desc', \n",
        "#  and issue 'Issue'\n",
        "# read table from html and turn into a df\n",
        "tableRejVotes_temp = pd.read_html(site)[0]\n",
        "# leave only rejected results\n",
        "tableRejVotes_temp = tableRejVotes_temp[tableRejVotes_temp['Result'] == 'Rejected']\n",
        "# create an empty df\n",
        "tableRejVotes = pd.DataFrame()\n",
        "# create a column for Vnum\n",
        "tableRejVotes['Vnum'] = tableRejVotes_temp['Vote (Tally)'].apply(lambda x: int(re.search('^\\d\\d*',x).group()))\n",
        "# create a column for Tally\n",
        "tableRejVotes['Tally'] = tableRejVotes_temp['Vote (Tally)'].apply(lambda x: re.search('\\d*-\\d*',x).group())\n",
        "# create a temorary column for tally difference\n",
        "tableRejVotes['Tally_Diff'] = tableRejVotes['Tally'].apply(lambda x: abs(int(x.split('-')[0]) - int(x.split('-')[1])))\n",
        "# create a column for description\n",
        "tableRejVotes['Desc'] = tableRejVotes_temp['Question: Description']\n",
        "# create a column for Issue\n",
        "tableRejVotes['Issue'] = tableRejVotes_temp['Issue']\n",
        "# leave only columns with tally difference less than 5\n",
        "tableRejVotes = tableRejVotes[tableRejVotes['Tally_Diff'] < 5]\n",
        "# remove the temporary column\n",
        "tableRejVotes = tableRejVotes.loc[:, tableRejVotes.columns != 'Tally_Diff']\n",
        "print (\"Number of rejected votes with margin < 5 : \" + \n",
        "       str(tableRejVotes.shape[0]))"
      ]
    },
    {
      "cell_type": "code",
      "execution_count": null,
      "metadata": {
        "colab": {
          "base_uri": "https://localhost:8080/",
          "height": 206
        },
        "id": "4YgLtO6eDOFo",
        "outputId": "84e20a15-8383-403e-9f56-bf1664f093bc",
        "tags": []
      },
      "outputs": [
        {
          "output_type": "execute_result",
          "data": {
            "text/plain": [
              "     Vnum  Tally                                               Desc      Issue\n",
              "52    476  48-50  On the Amendment S.Amdt. 4868: Marshall Amdt. ...  H.R. 6119\n",
              "69    459  50-49  On Cloture on the Motion to Proceed: Motion to...       S. 4\n",
              "108   420  49-51  On Cloture on the Motion to Proceed: Motion to...    S. 2747\n",
              "133   395  50-50  On the Amendment S.Amdt. 3831: Marshall Amdt. ...  H.R. 5305\n",
              "134   394  50-50  On the Amendment S.Amdt. 3833: Cotton Amdt. No...  H.R. 5305"
            ],
            "text/html": [
              "\n",
              "  <div id=\"df-0fc49bd1-eae8-432c-be0c-a126d505fbba\">\n",
              "    <div class=\"colab-df-container\">\n",
              "      <div>\n",
              "<style scoped>\n",
              "    .dataframe tbody tr th:only-of-type {\n",
              "        vertical-align: middle;\n",
              "    }\n",
              "\n",
              "    .dataframe tbody tr th {\n",
              "        vertical-align: top;\n",
              "    }\n",
              "\n",
              "    .dataframe thead th {\n",
              "        text-align: right;\n",
              "    }\n",
              "</style>\n",
              "<table border=\"1\" class=\"dataframe\">\n",
              "  <thead>\n",
              "    <tr style=\"text-align: right;\">\n",
              "      <th></th>\n",
              "      <th>Vnum</th>\n",
              "      <th>Tally</th>\n",
              "      <th>Desc</th>\n",
              "      <th>Issue</th>\n",
              "    </tr>\n",
              "  </thead>\n",
              "  <tbody>\n",
              "    <tr>\n",
              "      <th>52</th>\n",
              "      <td>476</td>\n",
              "      <td>48-50</td>\n",
              "      <td>On the Amendment S.Amdt. 4868: Marshall Amdt. ...</td>\n",
              "      <td>H.R. 6119</td>\n",
              "    </tr>\n",
              "    <tr>\n",
              "      <th>69</th>\n",
              "      <td>459</td>\n",
              "      <td>50-49</td>\n",
              "      <td>On Cloture on the Motion to Proceed: Motion to...</td>\n",
              "      <td>S. 4</td>\n",
              "    </tr>\n",
              "    <tr>\n",
              "      <th>108</th>\n",
              "      <td>420</td>\n",
              "      <td>49-51</td>\n",
              "      <td>On Cloture on the Motion to Proceed: Motion to...</td>\n",
              "      <td>S. 2747</td>\n",
              "    </tr>\n",
              "    <tr>\n",
              "      <th>133</th>\n",
              "      <td>395</td>\n",
              "      <td>50-50</td>\n",
              "      <td>On the Amendment S.Amdt. 3831: Marshall Amdt. ...</td>\n",
              "      <td>H.R. 5305</td>\n",
              "    </tr>\n",
              "    <tr>\n",
              "      <th>134</th>\n",
              "      <td>394</td>\n",
              "      <td>50-50</td>\n",
              "      <td>On the Amendment S.Amdt. 3833: Cotton Amdt. No...</td>\n",
              "      <td>H.R. 5305</td>\n",
              "    </tr>\n",
              "  </tbody>\n",
              "</table>\n",
              "</div>\n",
              "      <button class=\"colab-df-convert\" onclick=\"convertToInteractive('df-0fc49bd1-eae8-432c-be0c-a126d505fbba')\"\n",
              "              title=\"Convert this dataframe to an interactive table.\"\n",
              "              style=\"display:none;\">\n",
              "        \n",
              "  <svg xmlns=\"http://www.w3.org/2000/svg\" height=\"24px\"viewBox=\"0 0 24 24\"\n",
              "       width=\"24px\">\n",
              "    <path d=\"M0 0h24v24H0V0z\" fill=\"none\"/>\n",
              "    <path d=\"M18.56 5.44l.94 2.06.94-2.06 2.06-.94-2.06-.94-.94-2.06-.94 2.06-2.06.94zm-11 1L8.5 8.5l.94-2.06 2.06-.94-2.06-.94L8.5 2.5l-.94 2.06-2.06.94zm10 10l.94 2.06.94-2.06 2.06-.94-2.06-.94-.94-2.06-.94 2.06-2.06.94z\"/><path d=\"M17.41 7.96l-1.37-1.37c-.4-.4-.92-.59-1.43-.59-.52 0-1.04.2-1.43.59L10.3 9.45l-7.72 7.72c-.78.78-.78 2.05 0 2.83L4 21.41c.39.39.9.59 1.41.59.51 0 1.02-.2 1.41-.59l7.78-7.78 2.81-2.81c.8-.78.8-2.07 0-2.86zM5.41 20L4 18.59l7.72-7.72 1.47 1.35L5.41 20z\"/>\n",
              "  </svg>\n",
              "      </button>\n",
              "      \n",
              "  <style>\n",
              "    .colab-df-container {\n",
              "      display:flex;\n",
              "      flex-wrap:wrap;\n",
              "      gap: 12px;\n",
              "    }\n",
              "\n",
              "    .colab-df-convert {\n",
              "      background-color: #E8F0FE;\n",
              "      border: none;\n",
              "      border-radius: 50%;\n",
              "      cursor: pointer;\n",
              "      display: none;\n",
              "      fill: #1967D2;\n",
              "      height: 32px;\n",
              "      padding: 0 0 0 0;\n",
              "      width: 32px;\n",
              "    }\n",
              "\n",
              "    .colab-df-convert:hover {\n",
              "      background-color: #E2EBFA;\n",
              "      box-shadow: 0px 1px 2px rgba(60, 64, 67, 0.3), 0px 1px 3px 1px rgba(60, 64, 67, 0.15);\n",
              "      fill: #174EA6;\n",
              "    }\n",
              "\n",
              "    [theme=dark] .colab-df-convert {\n",
              "      background-color: #3B4455;\n",
              "      fill: #D2E3FC;\n",
              "    }\n",
              "\n",
              "    [theme=dark] .colab-df-convert:hover {\n",
              "      background-color: #434B5C;\n",
              "      box-shadow: 0px 1px 3px 1px rgba(0, 0, 0, 0.15);\n",
              "      filter: drop-shadow(0px 1px 2px rgba(0, 0, 0, 0.3));\n",
              "      fill: #FFFFFF;\n",
              "    }\n",
              "  </style>\n",
              "\n",
              "      <script>\n",
              "        const buttonEl =\n",
              "          document.querySelector('#df-0fc49bd1-eae8-432c-be0c-a126d505fbba button.colab-df-convert');\n",
              "        buttonEl.style.display =\n",
              "          google.colab.kernel.accessAllowed ? 'block' : 'none';\n",
              "\n",
              "        async function convertToInteractive(key) {\n",
              "          const element = document.querySelector('#df-0fc49bd1-eae8-432c-be0c-a126d505fbba');\n",
              "          const dataTable =\n",
              "            await google.colab.kernel.invokeFunction('convertToInteractive',\n",
              "                                                     [key], {});\n",
              "          if (!dataTable) return;\n",
              "\n",
              "          const docLinkHtml = 'Like what you see? Visit the ' +\n",
              "            '<a target=\"_blank\" href=https://colab.research.google.com/notebooks/data_table.ipynb>data table notebook</a>'\n",
              "            + ' to learn more about interactive tables.';\n",
              "          element.innerHTML = '';\n",
              "          dataTable['output_type'] = 'display_data';\n",
              "          await google.colab.output.renderOutput(dataTable, element);\n",
              "          const docLink = document.createElement('div');\n",
              "          docLink.innerHTML = docLinkHtml;\n",
              "          element.appendChild(docLink);\n",
              "        }\n",
              "      </script>\n",
              "    </div>\n",
              "  </div>\n",
              "  "
            ]
          },
          "metadata": {},
          "execution_count": 29
        }
      ],
      "source": [
        "tableRejVotes.head()"
      ]
    },
    {
      "cell_type": "code",
      "execution_count": null,
      "metadata": {
        "deletable": false,
        "editable": false,
        "colab": {
          "base_uri": "https://localhost:8080/",
          "height": 46
        },
        "id": "sHJSVDk2ULmQ",
        "outputId": "5c3a1ab9-aa2b-4944-f6d5-61ef5615b646"
      },
      "outputs": [
        {
          "output_type": "execute_result",
          "data": {
            "text/plain": [
              "q2 results: All test cases passed!"
            ],
            "text/html": [
              "<p><strong><pre style='display: inline;'>q2</pre></strong> passed! 🌟</p>"
            ]
          },
          "metadata": {},
          "execution_count": 30
        }
      ],
      "source": [
        "grader.check(\"q2\")"
      ]
    },
    {
      "cell_type": "markdown",
      "metadata": {
        "id": "3mJlHZc8pYNK"
      },
      "source": [
        "## Q3 - (20 pts total) \n",
        "\n",
        "From the list of top 200 most popular names for babies born in the US in the 2010s.  We are interested in the names that start with 'W' or contain a letter  'P' or 'p'.  \n",
        "\n",
        "Create a DataFrame with the names that start with 'W' or contain a letter  'P' or 'p' (for both male and female together), their rank, and the number of times the name is used.  DataFrame has four columns: \"Rank\" - int, \"Names\" - str, \"Number\" - int, and \"Gender\" - str - \"Male\"/\"Female\". \n",
        "\n",
        "Examples names from the table are: \n",
        "* 4, William, 159773\n",
        "* 37, Wyatt, 87644\n",
        "* 118, Willow, 26999\n",
        "* 44, Penelope, 47570\n",
        "* 64, Peyton, 39582\n",
        "* ... \n",
        "\n",
        "Display the first 10 rows of the DataFrame, sorted by decreasing number.  Also, print out the sum of the number of the 'W' names and the sum of the number of names with 'P' or 'p'.  \n",
        "\n",
        "Data available at: https://www.ssa.gov/OACT/babynames/decades/names2010s.html"
      ]
    },
    {
      "cell_type": "code",
      "execution_count": null,
      "metadata": {
        "id": "59rffn1hqxj1",
        "tags": []
      },
      "outputs": [],
      "source": [
        "site = requests.get('https://www.ssa.gov/OACT/babynames/decades/names2010s.html').text\n",
        "q3 = BeautifulSoup(site, 'html5lib')"
      ]
    },
    {
      "cell_type": "code",
      "execution_count": null,
      "metadata": {
        "tags": [],
        "colab": {
          "base_uri": "https://localhost:8080/"
        },
        "id": "3sAZfDHCULmR",
        "outputId": "8679313d-3a87-40cd-e023-8e721a60b3bc"
      },
      "outputs": [
        {
          "output_type": "execute_result",
          "data": {
            "text/plain": [
              "Ellipsis"
            ]
          },
          "metadata": {},
          "execution_count": 32
        }
      ],
      "source": [
        "..."
      ]
    },
    {
      "cell_type": "code",
      "execution_count": null,
      "metadata": {
        "colab": {
          "base_uri": "https://localhost:8080/",
          "height": 398
        },
        "id": "FQ-XVx5_qxXO",
        "outputId": "c51e13db-4aae-4b72-bd00-accf3d4349c5",
        "tags": []
      },
      "outputs": [
        {
          "output_type": "stream",
          "name": "stdout",
          "text": [
            "Total number of names that start with W  : 334332\n",
            "Total number of names that contain P/p   : 895223\n"
          ]
        },
        {
          "output_type": "execute_result",
          "data": {
            "text/plain": [
              "    Rank         Name     Num  Gender\n",
              "2      3       Sophia  180953  Female\n",
              "3      4      William  159773    Male\n",
              "19    20       Joseph  115497    Male\n",
              "26    27  Christopher  101968    Male\n",
              "36    37        Wyatt   87644    Male\n",
              "15    16       Harper   85111  Female\n",
              "82    83       Cooper   49232    Male\n",
              "83    84       Parker   49187    Male\n",
              "43    44     Penelope   47570  Female\n",
              "63    64       Peyton   39582  Female"
            ],
            "text/html": [
              "\n",
              "  <div id=\"df-9fa3876a-598a-4b68-9ed2-85ef91a92efb\">\n",
              "    <div class=\"colab-df-container\">\n",
              "      <div>\n",
              "<style scoped>\n",
              "    .dataframe tbody tr th:only-of-type {\n",
              "        vertical-align: middle;\n",
              "    }\n",
              "\n",
              "    .dataframe tbody tr th {\n",
              "        vertical-align: top;\n",
              "    }\n",
              "\n",
              "    .dataframe thead th {\n",
              "        text-align: right;\n",
              "    }\n",
              "</style>\n",
              "<table border=\"1\" class=\"dataframe\">\n",
              "  <thead>\n",
              "    <tr style=\"text-align: right;\">\n",
              "      <th></th>\n",
              "      <th>Rank</th>\n",
              "      <th>Name</th>\n",
              "      <th>Num</th>\n",
              "      <th>Gender</th>\n",
              "    </tr>\n",
              "  </thead>\n",
              "  <tbody>\n",
              "    <tr>\n",
              "      <th>2</th>\n",
              "      <td>3</td>\n",
              "      <td>Sophia</td>\n",
              "      <td>180953</td>\n",
              "      <td>Female</td>\n",
              "    </tr>\n",
              "    <tr>\n",
              "      <th>3</th>\n",
              "      <td>4</td>\n",
              "      <td>William</td>\n",
              "      <td>159773</td>\n",
              "      <td>Male</td>\n",
              "    </tr>\n",
              "    <tr>\n",
              "      <th>19</th>\n",
              "      <td>20</td>\n",
              "      <td>Joseph</td>\n",
              "      <td>115497</td>\n",
              "      <td>Male</td>\n",
              "    </tr>\n",
              "    <tr>\n",
              "      <th>26</th>\n",
              "      <td>27</td>\n",
              "      <td>Christopher</td>\n",
              "      <td>101968</td>\n",
              "      <td>Male</td>\n",
              "    </tr>\n",
              "    <tr>\n",
              "      <th>36</th>\n",
              "      <td>37</td>\n",
              "      <td>Wyatt</td>\n",
              "      <td>87644</td>\n",
              "      <td>Male</td>\n",
              "    </tr>\n",
              "    <tr>\n",
              "      <th>15</th>\n",
              "      <td>16</td>\n",
              "      <td>Harper</td>\n",
              "      <td>85111</td>\n",
              "      <td>Female</td>\n",
              "    </tr>\n",
              "    <tr>\n",
              "      <th>82</th>\n",
              "      <td>83</td>\n",
              "      <td>Cooper</td>\n",
              "      <td>49232</td>\n",
              "      <td>Male</td>\n",
              "    </tr>\n",
              "    <tr>\n",
              "      <th>83</th>\n",
              "      <td>84</td>\n",
              "      <td>Parker</td>\n",
              "      <td>49187</td>\n",
              "      <td>Male</td>\n",
              "    </tr>\n",
              "    <tr>\n",
              "      <th>43</th>\n",
              "      <td>44</td>\n",
              "      <td>Penelope</td>\n",
              "      <td>47570</td>\n",
              "      <td>Female</td>\n",
              "    </tr>\n",
              "    <tr>\n",
              "      <th>63</th>\n",
              "      <td>64</td>\n",
              "      <td>Peyton</td>\n",
              "      <td>39582</td>\n",
              "      <td>Female</td>\n",
              "    </tr>\n",
              "  </tbody>\n",
              "</table>\n",
              "</div>\n",
              "      <button class=\"colab-df-convert\" onclick=\"convertToInteractive('df-9fa3876a-598a-4b68-9ed2-85ef91a92efb')\"\n",
              "              title=\"Convert this dataframe to an interactive table.\"\n",
              "              style=\"display:none;\">\n",
              "        \n",
              "  <svg xmlns=\"http://www.w3.org/2000/svg\" height=\"24px\"viewBox=\"0 0 24 24\"\n",
              "       width=\"24px\">\n",
              "    <path d=\"M0 0h24v24H0V0z\" fill=\"none\"/>\n",
              "    <path d=\"M18.56 5.44l.94 2.06.94-2.06 2.06-.94-2.06-.94-.94-2.06-.94 2.06-2.06.94zm-11 1L8.5 8.5l.94-2.06 2.06-.94-2.06-.94L8.5 2.5l-.94 2.06-2.06.94zm10 10l.94 2.06.94-2.06 2.06-.94-2.06-.94-.94-2.06-.94 2.06-2.06.94z\"/><path d=\"M17.41 7.96l-1.37-1.37c-.4-.4-.92-.59-1.43-.59-.52 0-1.04.2-1.43.59L10.3 9.45l-7.72 7.72c-.78.78-.78 2.05 0 2.83L4 21.41c.39.39.9.59 1.41.59.51 0 1.02-.2 1.41-.59l7.78-7.78 2.81-2.81c.8-.78.8-2.07 0-2.86zM5.41 20L4 18.59l7.72-7.72 1.47 1.35L5.41 20z\"/>\n",
              "  </svg>\n",
              "      </button>\n",
              "      \n",
              "  <style>\n",
              "    .colab-df-container {\n",
              "      display:flex;\n",
              "      flex-wrap:wrap;\n",
              "      gap: 12px;\n",
              "    }\n",
              "\n",
              "    .colab-df-convert {\n",
              "      background-color: #E8F0FE;\n",
              "      border: none;\n",
              "      border-radius: 50%;\n",
              "      cursor: pointer;\n",
              "      display: none;\n",
              "      fill: #1967D2;\n",
              "      height: 32px;\n",
              "      padding: 0 0 0 0;\n",
              "      width: 32px;\n",
              "    }\n",
              "\n",
              "    .colab-df-convert:hover {\n",
              "      background-color: #E2EBFA;\n",
              "      box-shadow: 0px 1px 2px rgba(60, 64, 67, 0.3), 0px 1px 3px 1px rgba(60, 64, 67, 0.15);\n",
              "      fill: #174EA6;\n",
              "    }\n",
              "\n",
              "    [theme=dark] .colab-df-convert {\n",
              "      background-color: #3B4455;\n",
              "      fill: #D2E3FC;\n",
              "    }\n",
              "\n",
              "    [theme=dark] .colab-df-convert:hover {\n",
              "      background-color: #434B5C;\n",
              "      box-shadow: 0px 1px 3px 1px rgba(0, 0, 0, 0.15);\n",
              "      filter: drop-shadow(0px 1px 2px rgba(0, 0, 0, 0.3));\n",
              "      fill: #FFFFFF;\n",
              "    }\n",
              "  </style>\n",
              "\n",
              "      <script>\n",
              "        const buttonEl =\n",
              "          document.querySelector('#df-9fa3876a-598a-4b68-9ed2-85ef91a92efb button.colab-df-convert');\n",
              "        buttonEl.style.display =\n",
              "          google.colab.kernel.accessAllowed ? 'block' : 'none';\n",
              "\n",
              "        async function convertToInteractive(key) {\n",
              "          const element = document.querySelector('#df-9fa3876a-598a-4b68-9ed2-85ef91a92efb');\n",
              "          const dataTable =\n",
              "            await google.colab.kernel.invokeFunction('convertToInteractive',\n",
              "                                                     [key], {});\n",
              "          if (!dataTable) return;\n",
              "\n",
              "          const docLinkHtml = 'Like what you see? Visit the ' +\n",
              "            '<a target=\"_blank\" href=https://colab.research.google.com/notebooks/data_table.ipynb>data table notebook</a>'\n",
              "            + ' to learn more about interactive tables.';\n",
              "          element.innerHTML = '';\n",
              "          dataTable['output_type'] = 'display_data';\n",
              "          await google.colab.output.renderOutput(dataTable, element);\n",
              "          const docLink = document.createElement('div');\n",
              "          docLink.innerHTML = docLinkHtml;\n",
              "          element.appendChild(docLink);\n",
              "        }\n",
              "      </script>\n",
              "    </div>\n",
              "  </div>\n",
              "  "
            ]
          },
          "metadata": {},
          "execution_count": 33
        }
      ],
      "source": [
        "# Create a DataFrame 'names' for the names that start with W or have a P/p\n",
        "# The 'names' DataFrame has four colummns: \n",
        "#   'Rank' (int) \n",
        "#   'Name' (str)\n",
        "#   'Num' (int) \n",
        "#   'Gender' (str) 'Female' / 'Male'\n",
        "# read from html and drop the last row\n",
        "names = pd.read_html(site)[0]\n",
        "names.drop(index=names.index[-1], axis=0, inplace=True)\n",
        "# rename columns\n",
        "names.columns = ['Rank','Name_Male','Num_Male','Name_Female','Num_Female']\n",
        "# create df for male\n",
        "names_male = pd.DataFrame(dict(Rank = names['Rank'], Name = names['Name_Male'], Num = names['Num_Male']))\n",
        "names_male['Gender'] = 'Male'\n",
        "# create df for female\n",
        "names_female = pd.DataFrame(dict(Rank = names['Rank'], Name = names['Name_Female'], Num = names['Num_Female']))\n",
        "names_female['Gender'] = 'Female'\n",
        "# concat male and female dfs and set column data types\n",
        "names = pd.concat([names_male, names_female], axis=0)\n",
        "names['Rank'] = names['Rank'].astype('int')\n",
        "names['Name'] = names['Name'].astype('str') \n",
        "names['Num'] = names['Num'].astype('int') \n",
        "names['Gender'] = names['Gender'].astype('str')\n",
        "# sort name df by Num\n",
        "names.sort_values(by=['Num'], inplace=True, ascending=False)\n",
        "# indices of names beginning with W\n",
        "Wnames = names['Name'].apply(lambda x: re.findall('^W.*',x)).astype(bool)\n",
        "Wnames_list = [i for i, name in enumerate(Wnames) if name]\n",
        "# indices of names with a P/p\n",
        "Pnames = names['Name'].apply(lambda x: re.findall('.*[Pp].*',x)).astype(bool)\n",
        "Pnames_list = [i for i, name in enumerate(Pnames) if name]\n",
        "# the sum of the names beginning with W\n",
        "numWnames = names.iloc[Wnames_list]['Num'].sum()\n",
        "# the sum of the names with a P/p\n",
        "numPnames = names.iloc[Pnames_list]['Num'].sum()\n",
        "# get indices for names df and filter names df\n",
        "names_list = sorted(Wnames_list + Pnames_list)\n",
        "names = names.iloc[names_list]\n",
        "\n",
        "print(\"Total number of names that start with W  : \" + str(numWnames))\n",
        "print(\"Total number of names that contain P/p   : \" + str(numPnames))\n",
        "\n",
        "names.head(10)"
      ]
    },
    {
      "cell_type": "code",
      "execution_count": null,
      "metadata": {
        "deletable": false,
        "editable": false,
        "colab": {
          "base_uri": "https://localhost:8080/",
          "height": 46
        },
        "id": "ScP6-rwuULmS",
        "outputId": "40a1c5eb-3c53-45ee-c5f6-5be230e5cc72"
      },
      "outputs": [
        {
          "output_type": "execute_result",
          "data": {
            "text/plain": [
              "q3 results: All test cases passed!"
            ],
            "text/html": [
              "<p><strong><pre style='display: inline;'>q3</pre></strong> passed! 🙌</p>"
            ]
          },
          "metadata": {},
          "execution_count": 40
        }
      ],
      "source": [
        "grader.check(\"q3\")"
      ]
    },
    {
      "cell_type": "markdown",
      "metadata": {
        "id": "JzLFYsEgq1kx"
      },
      "source": [
        "## Q4 - (20 pts total) \n",
        "\n",
        "Use Python to scrape the articles posted to https://techcrunch.com/  front page under \"The Latest\", and report this in a DataFrame.  \n",
        "\n",
        "The columns of the DataFrame `news` should be:\n",
        "\n",
        "* 'Title' - article title, type `object` *string*\n",
        "* 'Date' - publish date, type `datetime64[ns, tz]` _will have to convert to this type_\n",
        "* 'Author' - author, type `object` *string*\n",
        "\n",
        "Note: be respectful to the website (obey robots.txt information) and do not repeatedly access the site.\n"
      ]
    },
    {
      "cell_type": "code",
      "execution_count": null,
      "metadata": {
        "id": "lYL-RJRprIF5",
        "tags": []
      },
      "outputs": [],
      "source": [
        "html = requests.get(\"https://techcrunch.com\").text\n",
        "soup = BeautifulSoup(html, 'html5lib')"
      ]
    },
    {
      "cell_type": "code",
      "execution_count": null,
      "metadata": {
        "colab": {
          "base_uri": "https://localhost:8080/",
          "height": 676
        },
        "id": "sNie1tvarIlF",
        "outputId": "bf91978b-be0e-4bdd-a601-b0d019d1ba29",
        "tags": []
      },
      "outputs": [
        {
          "output_type": "execute_result",
          "data": {
            "text/plain": [
              "                                                Title  \\\n",
              "0   Why Cruise is making its own chips, and a lot ...   \n",
              "1   Top climate tech deals net nearly $4B in Q3, o...   \n",
              "2   With a $13B valuation, Celonis defies current ...   \n",
              "3                Even decacorns have their challenges   \n",
              "4   India launches 75 digital banking units across...   \n",
              "5   Meta announces legs, Hulu raises prices, and M...   \n",
              "6                                     Zombie startups   \n",
              "7   This Week in Apps: Play Store revamp, Google a...   \n",
              "8             Pay as you drive, or pay how you drive?   \n",
              "9   Starlink isn’t a charity, but the Ukraine war ...   \n",
              "10  An Apple Store in Oklahoma City votes to unionize   \n",
              "11  Are CFOs OK? (Answer: Yes, but CEOs? That’s co...   \n",
              "12  Daily Crunch: Andreessen Horowitz backs Synony...   \n",
              "13  Former Everyrealm execs sue company for sexual...   \n",
              "14   The Shure MV7 is a nearly perfect USB microphone   \n",
              "15  Tata Power, a top power producer in India, con...   \n",
              "16  The highs and lows of Q3 venture capital data ...   \n",
              "17  Fast Forward Venture Studio to build African s...   \n",
              "18  Is this really the second-best time ever to ra...   \n",
              "19     Clear Capital lays off 27% of its global staff   \n",
              "\n",
              "                        Date                          Author  \n",
              "0  2022-10-16 16:05:56-07:00                 Roberto Baldwin  \n",
              "1  2022-10-16 11:00:47-07:00                    Tim De Chant  \n",
              "2  2022-10-16 10:00:14-07:00                      Ron Miller  \n",
              "3  2022-10-16 07:16:24-07:00                Mary Ann Azevedo  \n",
              "4  2022-10-16 01:32:24-07:00                    Manish Singh  \n",
              "5  2022-10-15 13:15:36-07:00                   Greg Kumparak  \n",
              "6  2022-10-15 11:01:54-07:00             Natasha Mascarenhas  \n",
              "7  2022-10-15 11:00:25-07:00                     Sarah Perez  \n",
              "8  2022-10-15 10:00:32-07:00                       Anna Heim  \n",
              "9  2022-10-15 08:02:59-07:00                  Devin Coldewey  \n",
              "10 2022-10-15 07:21:17-07:00               Amanda Silberling  \n",
              "11 2022-10-15 06:00:21-07:00             Natasha Mascarenhas  \n",
              "12 2022-10-14 15:05:09-07:00  Christine Hall, Haje Jan Kamps  \n",
              "13 2022-10-14 14:40:30-07:00                 Anita Ramaswamy  \n",
              "14 2022-10-14 13:44:59-07:00                    Brian Heater  \n",
              "15 2022-10-14 12:34:39-07:00                   Jagmeet Singh  \n",
              "16 2022-10-14 12:00:59-07:00            Dominic-Madori Davis  \n",
              "17 2022-10-14 11:05:06-07:00                Tage Kene-Okafor  \n",
              "18 2022-10-14 11:00:44-07:00                    Alex Wilhelm  \n",
              "19 2022-10-14 10:56:45-07:00                   Andrew Mendez  "
            ],
            "text/html": [
              "\n",
              "  <div id=\"df-7a9be1db-e51d-4fde-9ee2-fe8178b53ebe\">\n",
              "    <div class=\"colab-df-container\">\n",
              "      <div>\n",
              "<style scoped>\n",
              "    .dataframe tbody tr th:only-of-type {\n",
              "        vertical-align: middle;\n",
              "    }\n",
              "\n",
              "    .dataframe tbody tr th {\n",
              "        vertical-align: top;\n",
              "    }\n",
              "\n",
              "    .dataframe thead th {\n",
              "        text-align: right;\n",
              "    }\n",
              "</style>\n",
              "<table border=\"1\" class=\"dataframe\">\n",
              "  <thead>\n",
              "    <tr style=\"text-align: right;\">\n",
              "      <th></th>\n",
              "      <th>Title</th>\n",
              "      <th>Date</th>\n",
              "      <th>Author</th>\n",
              "    </tr>\n",
              "  </thead>\n",
              "  <tbody>\n",
              "    <tr>\n",
              "      <th>0</th>\n",
              "      <td>Why Cruise is making its own chips, and a lot ...</td>\n",
              "      <td>2022-10-16 16:05:56-07:00</td>\n",
              "      <td>Roberto Baldwin</td>\n",
              "    </tr>\n",
              "    <tr>\n",
              "      <th>1</th>\n",
              "      <td>Top climate tech deals net nearly $4B in Q3, o...</td>\n",
              "      <td>2022-10-16 11:00:47-07:00</td>\n",
              "      <td>Tim De Chant</td>\n",
              "    </tr>\n",
              "    <tr>\n",
              "      <th>2</th>\n",
              "      <td>With a $13B valuation, Celonis defies current ...</td>\n",
              "      <td>2022-10-16 10:00:14-07:00</td>\n",
              "      <td>Ron Miller</td>\n",
              "    </tr>\n",
              "    <tr>\n",
              "      <th>3</th>\n",
              "      <td>Even decacorns have their challenges</td>\n",
              "      <td>2022-10-16 07:16:24-07:00</td>\n",
              "      <td>Mary Ann Azevedo</td>\n",
              "    </tr>\n",
              "    <tr>\n",
              "      <th>4</th>\n",
              "      <td>India launches 75 digital banking units across...</td>\n",
              "      <td>2022-10-16 01:32:24-07:00</td>\n",
              "      <td>Manish Singh</td>\n",
              "    </tr>\n",
              "    <tr>\n",
              "      <th>5</th>\n",
              "      <td>Meta announces legs, Hulu raises prices, and M...</td>\n",
              "      <td>2022-10-15 13:15:36-07:00</td>\n",
              "      <td>Greg Kumparak</td>\n",
              "    </tr>\n",
              "    <tr>\n",
              "      <th>6</th>\n",
              "      <td>Zombie startups</td>\n",
              "      <td>2022-10-15 11:01:54-07:00</td>\n",
              "      <td>Natasha Mascarenhas</td>\n",
              "    </tr>\n",
              "    <tr>\n",
              "      <th>7</th>\n",
              "      <td>This Week in Apps: Play Store revamp, Google a...</td>\n",
              "      <td>2022-10-15 11:00:25-07:00</td>\n",
              "      <td>Sarah Perez</td>\n",
              "    </tr>\n",
              "    <tr>\n",
              "      <th>8</th>\n",
              "      <td>Pay as you drive, or pay how you drive?</td>\n",
              "      <td>2022-10-15 10:00:32-07:00</td>\n",
              "      <td>Anna Heim</td>\n",
              "    </tr>\n",
              "    <tr>\n",
              "      <th>9</th>\n",
              "      <td>Starlink isn’t a charity, but the Ukraine war ...</td>\n",
              "      <td>2022-10-15 08:02:59-07:00</td>\n",
              "      <td>Devin Coldewey</td>\n",
              "    </tr>\n",
              "    <tr>\n",
              "      <th>10</th>\n",
              "      <td>An Apple Store in Oklahoma City votes to unionize</td>\n",
              "      <td>2022-10-15 07:21:17-07:00</td>\n",
              "      <td>Amanda Silberling</td>\n",
              "    </tr>\n",
              "    <tr>\n",
              "      <th>11</th>\n",
              "      <td>Are CFOs OK? (Answer: Yes, but CEOs? That’s co...</td>\n",
              "      <td>2022-10-15 06:00:21-07:00</td>\n",
              "      <td>Natasha Mascarenhas</td>\n",
              "    </tr>\n",
              "    <tr>\n",
              "      <th>12</th>\n",
              "      <td>Daily Crunch: Andreessen Horowitz backs Synony...</td>\n",
              "      <td>2022-10-14 15:05:09-07:00</td>\n",
              "      <td>Christine Hall, Haje Jan Kamps</td>\n",
              "    </tr>\n",
              "    <tr>\n",
              "      <th>13</th>\n",
              "      <td>Former Everyrealm execs sue company for sexual...</td>\n",
              "      <td>2022-10-14 14:40:30-07:00</td>\n",
              "      <td>Anita Ramaswamy</td>\n",
              "    </tr>\n",
              "    <tr>\n",
              "      <th>14</th>\n",
              "      <td>The Shure MV7 is a nearly perfect USB microphone</td>\n",
              "      <td>2022-10-14 13:44:59-07:00</td>\n",
              "      <td>Brian Heater</td>\n",
              "    </tr>\n",
              "    <tr>\n",
              "      <th>15</th>\n",
              "      <td>Tata Power, a top power producer in India, con...</td>\n",
              "      <td>2022-10-14 12:34:39-07:00</td>\n",
              "      <td>Jagmeet Singh</td>\n",
              "    </tr>\n",
              "    <tr>\n",
              "      <th>16</th>\n",
              "      <td>The highs and lows of Q3 venture capital data ...</td>\n",
              "      <td>2022-10-14 12:00:59-07:00</td>\n",
              "      <td>Dominic-Madori Davis</td>\n",
              "    </tr>\n",
              "    <tr>\n",
              "      <th>17</th>\n",
              "      <td>Fast Forward Venture Studio to build African s...</td>\n",
              "      <td>2022-10-14 11:05:06-07:00</td>\n",
              "      <td>Tage Kene-Okafor</td>\n",
              "    </tr>\n",
              "    <tr>\n",
              "      <th>18</th>\n",
              "      <td>Is this really the second-best time ever to ra...</td>\n",
              "      <td>2022-10-14 11:00:44-07:00</td>\n",
              "      <td>Alex Wilhelm</td>\n",
              "    </tr>\n",
              "    <tr>\n",
              "      <th>19</th>\n",
              "      <td>Clear Capital lays off 27% of its global staff</td>\n",
              "      <td>2022-10-14 10:56:45-07:00</td>\n",
              "      <td>Andrew Mendez</td>\n",
              "    </tr>\n",
              "  </tbody>\n",
              "</table>\n",
              "</div>\n",
              "      <button class=\"colab-df-convert\" onclick=\"convertToInteractive('df-7a9be1db-e51d-4fde-9ee2-fe8178b53ebe')\"\n",
              "              title=\"Convert this dataframe to an interactive table.\"\n",
              "              style=\"display:none;\">\n",
              "        \n",
              "  <svg xmlns=\"http://www.w3.org/2000/svg\" height=\"24px\"viewBox=\"0 0 24 24\"\n",
              "       width=\"24px\">\n",
              "    <path d=\"M0 0h24v24H0V0z\" fill=\"none\"/>\n",
              "    <path d=\"M18.56 5.44l.94 2.06.94-2.06 2.06-.94-2.06-.94-.94-2.06-.94 2.06-2.06.94zm-11 1L8.5 8.5l.94-2.06 2.06-.94-2.06-.94L8.5 2.5l-.94 2.06-2.06.94zm10 10l.94 2.06.94-2.06 2.06-.94-2.06-.94-.94-2.06-.94 2.06-2.06.94z\"/><path d=\"M17.41 7.96l-1.37-1.37c-.4-.4-.92-.59-1.43-.59-.52 0-1.04.2-1.43.59L10.3 9.45l-7.72 7.72c-.78.78-.78 2.05 0 2.83L4 21.41c.39.39.9.59 1.41.59.51 0 1.02-.2 1.41-.59l7.78-7.78 2.81-2.81c.8-.78.8-2.07 0-2.86zM5.41 20L4 18.59l7.72-7.72 1.47 1.35L5.41 20z\"/>\n",
              "  </svg>\n",
              "      </button>\n",
              "      \n",
              "  <style>\n",
              "    .colab-df-container {\n",
              "      display:flex;\n",
              "      flex-wrap:wrap;\n",
              "      gap: 12px;\n",
              "    }\n",
              "\n",
              "    .colab-df-convert {\n",
              "      background-color: #E8F0FE;\n",
              "      border: none;\n",
              "      border-radius: 50%;\n",
              "      cursor: pointer;\n",
              "      display: none;\n",
              "      fill: #1967D2;\n",
              "      height: 32px;\n",
              "      padding: 0 0 0 0;\n",
              "      width: 32px;\n",
              "    }\n",
              "\n",
              "    .colab-df-convert:hover {\n",
              "      background-color: #E2EBFA;\n",
              "      box-shadow: 0px 1px 2px rgba(60, 64, 67, 0.3), 0px 1px 3px 1px rgba(60, 64, 67, 0.15);\n",
              "      fill: #174EA6;\n",
              "    }\n",
              "\n",
              "    [theme=dark] .colab-df-convert {\n",
              "      background-color: #3B4455;\n",
              "      fill: #D2E3FC;\n",
              "    }\n",
              "\n",
              "    [theme=dark] .colab-df-convert:hover {\n",
              "      background-color: #434B5C;\n",
              "      box-shadow: 0px 1px 3px 1px rgba(0, 0, 0, 0.15);\n",
              "      filter: drop-shadow(0px 1px 2px rgba(0, 0, 0, 0.3));\n",
              "      fill: #FFFFFF;\n",
              "    }\n",
              "  </style>\n",
              "\n",
              "      <script>\n",
              "        const buttonEl =\n",
              "          document.querySelector('#df-7a9be1db-e51d-4fde-9ee2-fe8178b53ebe button.colab-df-convert');\n",
              "        buttonEl.style.display =\n",
              "          google.colab.kernel.accessAllowed ? 'block' : 'none';\n",
              "\n",
              "        async function convertToInteractive(key) {\n",
              "          const element = document.querySelector('#df-7a9be1db-e51d-4fde-9ee2-fe8178b53ebe');\n",
              "          const dataTable =\n",
              "            await google.colab.kernel.invokeFunction('convertToInteractive',\n",
              "                                                     [key], {});\n",
              "          if (!dataTable) return;\n",
              "\n",
              "          const docLinkHtml = 'Like what you see? Visit the ' +\n",
              "            '<a target=\"_blank\" href=https://colab.research.google.com/notebooks/data_table.ipynb>data table notebook</a>'\n",
              "            + ' to learn more about interactive tables.';\n",
              "          element.innerHTML = '';\n",
              "          dataTable['output_type'] = 'display_data';\n",
              "          await google.colab.output.renderOutput(dataTable, element);\n",
              "          const docLink = document.createElement('div');\n",
              "          docLink.innerHTML = docLinkHtml;\n",
              "          element.appendChild(docLink);\n",
              "        }\n",
              "      </script>\n",
              "    </div>\n",
              "  </div>\n",
              "  "
            ]
          },
          "metadata": {},
          "execution_count": 36
        }
      ],
      "source": [
        "# Pull information from website into DataFrame 'news'\n",
        "#  'news' has columns: \n",
        "#     - 'Title', str \n",
        "#     - 'Date', datetime object \n",
        "#     - 'Author', str\n",
        "# create emty lists for rach column\n",
        "Title = []\n",
        "Date = []\n",
        "Author = []\n",
        "# loop over each article and add information to each column\n",
        "for article in soup.find_all('header'):\n",
        "  Title.append(article.a.text.strip())\n",
        "  Date.append(article.div.time.attrs['datetime'])\n",
        "  Author.append(article.span.text.strip().replace('\\t', ''))\n",
        "news = pd.DataFrame(data = [Title, Date, Author]).transpose()\n",
        "news.columns = ['Title', 'Date', 'Author']\n",
        "news['Date'] = pd.to_datetime(news['Date'])\n",
        "\n",
        "news"
      ]
    },
    {
      "cell_type": "code",
      "execution_count": null,
      "metadata": {
        "deletable": false,
        "editable": false,
        "colab": {
          "base_uri": "https://localhost:8080/",
          "height": 46
        },
        "id": "wdn6mmclULmT",
        "outputId": "55b87c84-0751-45d9-f664-62e8b7f2bf51"
      },
      "outputs": [
        {
          "output_type": "execute_result",
          "data": {
            "text/plain": [
              "q4 results: All test cases passed!"
            ],
            "text/html": [
              "<p><strong><pre style='display: inline;'>q4</pre></strong> passed! 🌟</p>"
            ]
          },
          "metadata": {},
          "execution_count": 37
        }
      ],
      "source": [
        "grader.check(\"q4\")"
      ]
    },
    {
      "cell_type": "markdown",
      "metadata": {
        "id": "bzkHhmtLULmT"
      },
      "source": [
        "<!-- BEGIN QUESTION -->\n",
        "\n",
        "## Bonus - (4 points) \n",
        "\n",
        "Going back to the names data from Q3.  Let's look at how the distribution of popular names has changed over time. \n",
        "\n",
        "Create a small multiples plot (meaning each plot is the same type and showing similar information in a grid).  \n",
        "\n",
        "The small multiples plot will show how the distribution of names has changed from the 1960s to 2010s.  \n",
        "\n",
        "1960s data - https://www.ssa.gov/OACT/babynames/decades/names1960s.html  \n",
        "1970s data - https://www.ssa.gov/OACT/babynames/decades/names1970s.html  \n",
        "...  \n",
        "2010s data - https://www.ssa.gov/OACT/babynames/decades/names2010s.html\n",
        "\n",
        "Let's focus on just how the distribution of girls names have changed.  This can be displayed using a line plot on just the top 100 names per decade.\n",
        "\n",
        "When getting the information, you should also scrape the total number of female births in that period to normalize the number of names as a percent in that decade. \n",
        "\n",
        "\n",
        "Your final grid should display: \n",
        "\n",
        "|         | Col 1 | Col 2 | \n",
        "|-------|-----------|-----------|\n",
        "| Row 1 | 1960 plot | 1970 plot | \n",
        "| Row 2 | 1980 plot | 1990 plot | \n",
        "| Row 3 | 2000 plot | 2010 plot | \n",
        "\n"
      ]
    },
    {
      "cell_type": "code",
      "source": [],
      "metadata": {
        "id": "pXQdl38PJFCa"
      },
      "execution_count": null,
      "outputs": []
    },
    {
      "cell_type": "code",
      "execution_count": null,
      "metadata": {
        "tags": [],
        "id": "K6GZkB6pULmT",
        "colab": {
          "base_uri": "https://localhost:8080/",
          "height": 651
        },
        "outputId": "0010d7e3-251b-4404-e986-d0b80ee40fdf"
      },
      "outputs": [
        {
          "output_type": "display_data",
          "data": {
            "text/plain": [
              "<Figure size 1152x720 with 6 Axes>"
            ],
            "image/png": "[encoded data removed]"
          },
          "metadata": {
            "needs_background": "light"
          }
        }
      ],
      "source": [
        "# Create small multiples plot.\n",
        "# for 1960 \n",
        "sixty = requests.get('https://www.ssa.gov/OACT/babynames/decades/names1960s.html').text\n",
        "sixty_soup = BeautifulSoup(sixty, 'html5lib')\n",
        "# read from html and drop the last row\n",
        "sixty_df = pd.read_html(sixty)[0]\n",
        "sixty_df.drop(index=sixty_df.index[-1], axis=0, inplace=True)\n",
        "# rename columns\n",
        "sixty_df.columns = ['Rank','Name_Male','Num_Male','Name_Female','Num_Female']\n",
        "# find female births number for that year\n",
        "sixty_f_birth_text = sixty_soup.find('div', class_='m-pa2').text\n",
        "pattern = r'(\\d+.*) female births'\n",
        "sixty_f_birth = int(re.search(pattern, sixty_f_birth_text).group(1).replace(',',''))\n",
        "# create a proportion df for female names\n",
        "sixty_df['Num_Female'] = sixty_df['Num_Female'].astype('int')\n",
        "sixty_prop = pd.DataFrame(dict(Name = sixty_df['Name_Female'],\n",
        "  Name_perc = round(100*sixty_df['Num_Female']/sixty_f_birth, 2)))\n",
        "##\n",
        "# for 1970 \n",
        "seventy = requests.get('https://www.ssa.gov/OACT/babynames/decades/names1970s.html').text\n",
        "seventy_soup = BeautifulSoup(seventy, 'html5lib')\n",
        "# read from html and drop the last row\n",
        "seventy_df = pd.read_html(seventy)[0]\n",
        "seventy_df.drop(index=seventy_df.index[-1], axis=0, inplace=True)\n",
        "# rename columns\n",
        "seventy_df.columns = ['Rank','Name_Male','Num_Male','Name_Female','Num_Female']\n",
        "# find female births number for that year\n",
        "seventy_f_birth_text = seventy_soup.find('div', class_='m-pa2').text\n",
        "pattern = r'(\\d+.*) female births'\n",
        "seventy_f_birth = int(re.search(pattern, seventy_f_birth_text).group(1).replace(',',''))\n",
        "# create a proportion df for female names\n",
        "seventy_df['Num_Female'] = seventy_df['Num_Female'].astype('int')\n",
        "seventy_prop = pd.DataFrame(dict(Name = seventy_df['Name_Female'],\n",
        "  Name_perc = round(100*seventy_df['Num_Female']/seventy_f_birth, 2)))\n",
        "# for 1980 \n",
        "eighty = requests.get('https://www.ssa.gov/OACT/babynames/decades/names1980s.html').text\n",
        "eighty_soup = BeautifulSoup(eighty, 'html5lib')\n",
        "# read from html and drop the last row\n",
        "eighty_df = pd.read_html(eighty)[0]\n",
        "eighty_df.drop(index=eighty_df.index[-1], axis=0, inplace=True)\n",
        "# rename columns\n",
        "eighty_df.columns = ['Rank','Name_Male','Num_Male','Name_Female','Num_Female']\n",
        "# find female births number for that year\n",
        "eighty_f_birth_text = eighty_soup.find('div', class_='m-pa2').text\n",
        "pattern = r'(\\d+.*) female births'\n",
        "eighty_f_birth = int(re.search(pattern, eighty_f_birth_text).group(1).replace(',',''))\n",
        "# create a proportion df for female names\n",
        "eighty_df['Num_Female'] = eighty_df['Num_Female'].astype('int')\n",
        "eighty_prop = pd.DataFrame(dict(Name = eighty_df['Name_Female'],\n",
        "  Name_perc = round(100*eighty_df['Num_Female']/eighty_f_birth, 2)))\n",
        "# for 1990 \n",
        "ninety = requests.get('https://www.ssa.gov/OACT/babynames/decades/names1990s.html').text\n",
        "ninety_soup = BeautifulSoup(ninety, 'html5lib')\n",
        "# read from html and drop the last row\n",
        "ninety_df = pd.read_html(ninety)[0]\n",
        "ninety_df.drop(index=ninety_df.index[-1], axis=0, inplace=True)\n",
        "# rename columns\n",
        "ninety_df.columns = ['Rank','Name_Male','Num_Male','Name_Female','Num_Female']\n",
        "# find female births number for that year\n",
        "ninety_f_birth_text = ninety_soup.find('div', class_='m-pa2').text\n",
        "pattern = r'(\\d+.*) female births'\n",
        "ninety_f_birth = int(re.search(pattern, ninety_f_birth_text).group(1).replace(',',''))\n",
        "# create a proportion df for female names\n",
        "ninety_df['Num_Female'] = ninety_df['Num_Female'].astype('int')\n",
        "ninety_prop = pd.DataFrame(dict(Name = ninety_df['Name_Female'],\n",
        "  Name_perc = round(100*ninety_df['Num_Female']/ninety_f_birth, 2)))\n",
        "# for 2000 \n",
        "zero = requests.get('https://www.ssa.gov/OACT/babynames/decades/names2000s.html').text\n",
        "zero_soup = BeautifulSoup(zero, 'html5lib')\n",
        "# read from html and drop the last row\n",
        "zero_df = pd.read_html(zero)[0]\n",
        "zero_df.drop(index=zero_df.index[-1], axis=0, inplace=True)\n",
        "# rename columns\n",
        "zero_df.columns = ['Rank','Name_Male','Num_Male','Name_Female','Num_Female']\n",
        "# find female births number for that year\n",
        "zero_f_birth_text = zero_soup.find('div', class_='m-pa2').text\n",
        "pattern = r'(\\d+.*) female births'\n",
        "zero_f_birth = int(re.search(pattern, zero_f_birth_text).group(1).replace(',',''))\n",
        "# create a proportion df for female names\n",
        "zero_df['Num_Female'] = zero_df['Num_Female'].astype('int')\n",
        "zero_prop = pd.DataFrame(dict(Name = zero_df['Name_Female'],\n",
        "  Name_perc = round(100*zero_df['Num_Female']/zero_f_birth, 2)))\n",
        "# for 2010 \n",
        "ten = requests.get('https://www.ssa.gov/OACT/babynames/decades/names2010s.html').text\n",
        "ten_soup = BeautifulSoup(ten, 'html5lib')\n",
        "# read from html and drop the last row\n",
        "ten_df = pd.read_html(ten)[0]\n",
        "ten_df.drop(index=ten_df.index[-1], axis=0, inplace=True)\n",
        "# rename columns\n",
        "ten_df.columns = ['Rank','Name_Male','Num_Male','Name_Female','Num_Female']\n",
        "# find female births number for that year\n",
        "ten_f_birth_text = ten_soup.find('div', class_='m-pa2').text\n",
        "pattern = r'(\\d+.*) female births'\n",
        "ten_f_birth = int(re.search(pattern, ten_f_birth_text).group(1).replace(',',''))\n",
        "# create a proportion df for female names\n",
        "ten_df['Num_Female'] = ten_df['Num_Female'].astype('int')\n",
        "ten_prop = pd.DataFrame(dict(Name = ten_df['Name_Female'],\n",
        "  Name_perc = round(100*ten_df['Num_Female']/ten_f_birth, 2)))\n",
        "##\n",
        "# plot a line graph for 1960\n",
        "plt.figure(figsize=(16,10))\n",
        "plt.subplot(3,2,1)\n",
        "plt.plot(sixty_prop['Name'][0:99], sixty_prop['Name_perc'][0:99], linestyle='-')\n",
        "plt.title('Line plot of distribution of top 100 girls names in 1960s', fontsize=10)\n",
        "plt.xlabel('Names', fontsize=8)\n",
        "plt.ylabel('Percent of total number of female births (%)', fontsize=8)\n",
        "x_ticks = [sixty_prop['Name'][0], sixty_prop['Name'][49], sixty_prop['Name'][99]]\n",
        "x_labels = [sixty_prop['Name'][0], sixty_prop['Name'][49], sixty_prop['Name'][99]] \n",
        "plt.xticks(ticks=x_ticks, labels=x_labels)\n",
        "# plot a line graph for 1970\n",
        "plt.subplot(3,2,2)\n",
        "plt.plot(seventy_prop['Name'][0:99], seventy_prop['Name_perc'][0:99], linestyle='-')\n",
        "plt.title('Line plot of distribution of top 100 girls names in 1970s', fontsize=10)\n",
        "plt.xlabel('Names', fontsize=8)\n",
        "plt.ylabel('Percent of total number of female births (%)', fontsize=8)\n",
        "x_ticks = [seventy_prop['Name'][0], seventy_prop['Name'][49], seventy_prop['Name'][99]]\n",
        "x_labels = [seventy_prop['Name'][0], seventy_prop['Name'][49], seventy_prop['Name'][99]] \n",
        "plt.xticks(ticks=x_ticks, labels=x_labels)\n",
        "# plot a line graph for 1980\n",
        "plt.subplot(3,2,3)\n",
        "plt.plot(eighty_prop['Name'][0:99], eighty_prop['Name_perc'][0:99], linestyle='-')\n",
        "plt.title('Line plot of distribution of top 100 girls names in 1980s', fontsize=10)\n",
        "plt.xlabel('Names', fontsize=8)\n",
        "plt.ylabel('Percent of total number of female births (%)', fontsize=8)\n",
        "x_ticks = [eighty_prop['Name'][0], eighty_prop['Name'][49], eighty_prop['Name'][99]]\n",
        "x_labels = [eighty_prop['Name'][0], eighty_prop['Name'][49], eighty_prop['Name'][99]] \n",
        "plt.xticks(ticks=x_ticks, labels=x_labels)\n",
        "# plot a line graph for 1990\n",
        "plt.subplot(3,2,4)\n",
        "plt.plot(ninety_prop['Name'][0:99], ninety_prop['Name_perc'][0:99], linestyle='-')\n",
        "plt.title('Line plot of distribution of top 100 girls names in 1990s', fontsize=10)\n",
        "plt.xlabel('Names', fontsize=8)\n",
        "plt.ylabel('Percent of total number of female births (%)', fontsize=8)\n",
        "x_ticks = [ninety_prop['Name'][0], ninety_prop['Name'][49], ninety_prop['Name'][99]]\n",
        "x_labels = [ninety_prop['Name'][0], ninety_prop['Name'][49], ninety_prop['Name'][99]] \n",
        "plt.xticks(ticks=x_ticks, labels=x_labels)\n",
        "# plot a line graph for 2000\n",
        "plt.subplot(3,2,5)\n",
        "plt.plot(zero_prop['Name'][0:99], zero_prop['Name_perc'][0:99], linestyle='-')\n",
        "plt.title('Line plot of distribution of top 100 girls names in 2000s', fontsize=10)\n",
        "plt.xlabel('Names', fontsize=8)\n",
        "plt.ylabel('Percent of total number of female births (%)', fontsize=8)\n",
        "x_ticks = [zero_prop['Name'][0], zero_prop['Name'][49], zero_prop['Name'][99]]\n",
        "x_labels = [zero_prop['Name'][0], zero_prop['Name'][49], zero_prop['Name'][99]] \n",
        "plt.xticks(ticks=x_ticks, labels=x_labels)\n",
        "# plot a line graph for 2010\n",
        "plt.subplot(3,2,6)\n",
        "plt.plot(ten_prop['Name'][0:99], ten_prop['Name_perc'][0:99], linestyle='-')\n",
        "plt.title('Line plot of distribution of top 100 girls names in 2010s', fontsize=10)\n",
        "plt.xlabel('Names', fontsize=8)\n",
        "plt.ylabel('Percent of total number of female births (%)', fontsize=8)\n",
        "x_ticks = [ten_prop['Name'][0], ten_prop['Name'][49], ten_prop['Name'][99]]\n",
        "x_labels = [ten_prop['Name'][0], ten_prop['Name'][49], ten_prop['Name'][99]] \n",
        "plt.xticks(ticks=x_ticks, labels=x_labels)\n",
        "plt.subplots_adjust(left=0.1, bottom=0.1, right=0.9, top=0.9, wspace=0.2, hspace=0.4)\n",
        "plt.show();"
      ]
    },
    {
      "cell_type": "code",
      "source": [],
      "metadata": {
        "id": "h9bBlbLMA_iY"
      },
      "execution_count": null,
      "outputs": []
    },
    {
      "cell_type": "markdown",
      "metadata": {
        "id": "oWNWV7YoULmU"
      },
      "source": [
        "<!-- END QUESTION -->\n",
        "\n"
      ]
    }
  ],
  "metadata": {
    "colab": {
      "collapsed_sections": [],
      "provenance": []
    },
    "kernelspec": {
      "display_name": "un5550f22",
      "language": "python",
      "name": "un5550f22"
    },
    "language_info": {
      "codemirror_mode": {
        "name": "ipython",
        "version": 3
      },
      "file_extension": ".py",
      "mimetype": "text/x-python",
      "name": "python",
      "nbconvert_exporter": "python",
      "pygments_lexer": "ipython3",
      "version": "3.7.11"
    },
    "otter": {
      "OK_FORMAT": true,
      "tests": {
        "q1": {
          "name": "q1",
          "points": 3,
          "suites": [
            {
              "cases": [
                {
                  "code": ">>> type(total_datasets) == int\nTrue",
                  "hidden": false,
                  "locked": false
                }
              ],
              "scored": true,
              "setup": "",
              "teardown": "",
              "type": "doctest"
            }
          ]
        },
        "q2": {
          "name": "q2",
          "points": 10,
          "suites": [
            {
              "cases": [
                {
                  "code": ">>> tableRejVotes.shape[0] == 91 \nTrue",
                  "hidden": false,
                  "locked": false
                },
                {
                  "code": ">>> tableRejVotes.shape[1] == 4\nTrue",
                  "hidden": false,
                  "locked": false
                },
                {
                  "code": ">>> tableRejVotes['Vnum'].min() == 15 \nTrue",
                  "hidden": false,
                  "locked": false
                },
                {
                  "code": ">>> tableRejVotes.sort_values(by=['Vnum']).iloc[3,1] == '52-48'\nTrue",
                  "hidden": false,
                  "locked": false
                },
                {
                  "code": ">>> tableRejVotes.sort_values(by=['Vnum']).iloc[90,3] == 'H.R. 6119'\nTrue",
                  "hidden": false,
                  "locked": false
                }
              ],
              "scored": true,
              "setup": "",
              "teardown": "",
              "type": "doctest"
            }
          ]
        },
        "q3": {
          "name": "q3",
          "points": 10,
          "suites": [
            {
              "cases": [
                {
                  "code": ">>> numWnames == 334332\nTrue",
                  "hidden": false,
                  "locked": false
                },
                {
                  "code": ">>> numPnames == 895223\nTrue",
                  "hidden": false,
                  "locked": false
                },
                {
                  "code": ">>> names.shape[0] == 21 and names.shape[1] == 4\nTrue",
                  "hidden": false,
                  "locked": false
                },
                {
                  "code": ">>> all(names.dtypes == ['int64', 'object', 'int64', 'object'])\nTrue",
                  "hidden": false,
                  "locked": false
                }
              ],
              "scored": true,
              "setup": "",
              "teardown": "",
              "type": "doctest"
            }
          ]
        },
        "q4": {
          "name": "q4",
          "points": null,
          "suites": [
            {
              "cases": [
                {
                  "code": ">>> news.shape[0]==20\nTrue",
                  "hidden": false,
                  "locked": false
                },
                {
                  "code": ">>> news.shape[1]==3\nTrue",
                  "hidden": false,
                  "locked": false
                },
                {
                  "code": ">>> type(news.iloc[1,0]) == str and type(news.iloc[1,2]) == str\nTrue",
                  "hidden": false,
                  "locked": false
                },
                {
                  "code": ">>> type(news.iloc[1,1]) == pd._libs.tslibs.timestamps.Timestamp\nTrue",
                  "hidden": false,
                  "locked": false
                },
                {
                  "code": ">>> type(news.dtypes[1]) == pd.core.dtypes.dtypes.DatetimeTZDtype\nTrue",
                  "hidden": false,
                  "locked": false
                }
              ],
              "scored": true,
              "setup": "",
              "teardown": "",
              "type": "doctest"
            }
          ]
        }
      }
    }
  },
  "nbformat": 4,
  "nbformat_minor": 0
}