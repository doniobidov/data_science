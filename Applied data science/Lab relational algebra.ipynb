{
  "cells": [
    {
      "cell_type": "markdown",
      "metadata": {
        "id": "t8ARyMSCXOcI"
      },
      "source": [
        "# Lab 7 - Relational Algebra \n",
        "\n",
        "This examples build on examples from Data100 and also Ch. 23 of the Data Science by Scratch book. \n",
        "\n",
        "In this lab notebook you will write functions to implement the basic relational algebra operators."
      ]
    },
    {
      "cell_type": "markdown",
      "metadata": {
        "id": "iXRH7PTIV7kb"
      },
      "source": [
        "## Autograder Setup \n",
        "\n",
        "The next code cell should be uncommented to run the autograder tests when using Colab/DeepNote. If you are using an environment with otter-grader already installed (your own machine, lab machines), then do not uncomment the code."
      ]
    },
    {
      "cell_type": "code",
      "execution_count": null,
      "metadata": {
        "colab": {
          "base_uri": "https://localhost:8080/"
        },
        "id": "Lkst7HafV7kc",
        "outputId": "f808f264-1b29-47fc-cd3e-a1404e5e943f"
      },
      "outputs": [
        {
          "output_type": "stream",
          "name": "stdout",
          "text": [
            "Looking in indexes: https://pypi.org/simple, https://us-python.pkg.dev/colab-wheels/public/simple/\n",
            "Requirement already satisfied: otter-grader in /usr/local/lib/python3.7/dist-packages (4.1.0)\n",
            "Requirement already satisfied: requests in /usr/local/lib/python3.7/dist-packages (from otter-grader) (2.23.0)\n",
            "Requirement already satisfied: gspread in /usr/local/lib/python3.7/dist-packages (from otter-grader) (3.4.2)\n",
            "Requirement already satisfied: jinja2 in /usr/local/lib/python3.7/dist-packages (from otter-grader) (2.11.3)\n",
            "Requirement already satisfied: pandas in /usr/local/lib/python3.7/dist-packages (from otter-grader) (1.3.5)\n",
            "Requirement already satisfied: click in /usr/local/lib/python3.7/dist-packages (from otter-grader) (7.1.2)\n",
            "Requirement already satisfied: PyYAML in /usr/local/lib/python3.7/dist-packages (from otter-grader) (6.0)\n",
            "Requirement already satisfied: wrapt in /usr/local/lib/python3.7/dist-packages (from otter-grader) (1.14.1)\n",
            "Requirement already satisfied: six in /usr/local/lib/python3.7/dist-packages (from otter-grader) (1.15.0)\n",
            "Requirement already satisfied: google-api-python-client in /usr/local/lib/python3.7/dist-packages (from otter-grader) (1.12.11)\n",
            "Requirement already satisfied: nbformat in /usr/local/lib/python3.7/dist-packages (from otter-grader) (5.7.0)\n",
            "Requirement already satisfied: jupytext in /usr/local/lib/python3.7/dist-packages (from otter-grader) (1.14.1)\n",
            "Requirement already satisfied: fica>=0.2.0 in /usr/local/lib/python3.7/dist-packages (from otter-grader) (0.2.0)\n",
            "Requirement already satisfied: dill in /usr/local/lib/python3.7/dist-packages (from otter-grader) (0.3.5.1)\n",
            "Requirement already satisfied: python-on-whales in /usr/local/lib/python3.7/dist-packages (from otter-grader) (0.52.0)\n",
            "Requirement already satisfied: google-auth-oauthlib in /usr/local/lib/python3.7/dist-packages (from otter-grader) (0.4.6)\n",
            "Requirement already satisfied: sphinx in /usr/local/lib/python3.7/dist-packages (from fica>=0.2.0->otter-grader) (1.8.6)\n",
            "Requirement already satisfied: docutils in /usr/local/lib/python3.7/dist-packages (from fica>=0.2.0->otter-grader) (0.17.1)\n",
            "Requirement already satisfied: uritemplate<4dev,>=3.0.0 in /usr/local/lib/python3.7/dist-packages (from google-api-python-client->otter-grader) (3.0.1)\n",
            "Requirement already satisfied: google-api-core<3dev,>=1.21.0 in /usr/local/lib/python3.7/dist-packages (from google-api-python-client->otter-grader) (1.31.6)\n",
            "Requirement already satisfied: httplib2<1dev,>=0.15.0 in /usr/local/lib/python3.7/dist-packages (from google-api-python-client->otter-grader) (0.17.4)\n",
            "Requirement already satisfied: google-auth-httplib2>=0.0.3 in /usr/local/lib/python3.7/dist-packages (from google-api-python-client->otter-grader) (0.0.4)\n",
            "Requirement already satisfied: google-auth<3dev,>=1.16.0 in /usr/local/lib/python3.7/dist-packages (from google-api-python-client->otter-grader) (1.35.0)\n",
            "Requirement already satisfied: pytz in /usr/local/lib/python3.7/dist-packages (from google-api-core<3dev,>=1.21.0->google-api-python-client->otter-grader) (2022.4)\n",
            "Requirement already satisfied: setuptools>=40.3.0 in /usr/local/lib/python3.7/dist-packages (from google-api-core<3dev,>=1.21.0->google-api-python-client->otter-grader) (57.4.0)\n",
            "Requirement already satisfied: packaging>=14.3 in /usr/local/lib/python3.7/dist-packages (from google-api-core<3dev,>=1.21.0->google-api-python-client->otter-grader) (21.3)\n",
            "Requirement already satisfied: protobuf<4.0.0dev,>=3.12.0 in /usr/local/lib/python3.7/dist-packages (from google-api-core<3dev,>=1.21.0->google-api-python-client->otter-grader) (3.17.3)\n",
            "Requirement already satisfied: googleapis-common-protos<2.0dev,>=1.6.0 in /usr/local/lib/python3.7/dist-packages (from google-api-core<3dev,>=1.21.0->google-api-python-client->otter-grader) (1.56.4)\n",
            "Requirement already satisfied: cachetools<5.0,>=2.0.0 in /usr/local/lib/python3.7/dist-packages (from google-auth<3dev,>=1.16.0->google-api-python-client->otter-grader) (4.2.4)\n",
            "Requirement already satisfied: rsa<5,>=3.1.4 in /usr/local/lib/python3.7/dist-packages (from google-auth<3dev,>=1.16.0->google-api-python-client->otter-grader) (4.9)\n",
            "Requirement already satisfied: pyasn1-modules>=0.2.1 in /usr/local/lib/python3.7/dist-packages (from google-auth<3dev,>=1.16.0->google-api-python-client->otter-grader) (0.2.8)\n",
            "Requirement already satisfied: pyparsing!=3.0.5,>=2.0.2 in /usr/local/lib/python3.7/dist-packages (from packaging>=14.3->google-api-core<3dev,>=1.21.0->google-api-python-client->otter-grader) (3.0.9)\n",
            "Requirement already satisfied: pyasn1<0.5.0,>=0.4.6 in /usr/local/lib/python3.7/dist-packages (from pyasn1-modules>=0.2.1->google-auth<3dev,>=1.16.0->google-api-python-client->otter-grader) (0.4.8)\n",
            "Requirement already satisfied: idna<3,>=2.5 in /usr/local/lib/python3.7/dist-packages (from requests->otter-grader) (2.10)\n",
            "Requirement already satisfied: certifi>=2017.4.17 in /usr/local/lib/python3.7/dist-packages (from requests->otter-grader) (2022.9.24)\n",
            "Requirement already satisfied: urllib3!=1.25.0,!=1.25.1,<1.26,>=1.21.1 in /usr/local/lib/python3.7/dist-packages (from requests->otter-grader) (1.24.3)\n",
            "Requirement already satisfied: chardet<4,>=3.0.2 in /usr/local/lib/python3.7/dist-packages (from requests->otter-grader) (3.0.4)\n",
            "Requirement already satisfied: requests-oauthlib>=0.7.0 in /usr/local/lib/python3.7/dist-packages (from google-auth-oauthlib->otter-grader) (1.3.1)\n",
            "Requirement already satisfied: oauthlib>=3.0.0 in /usr/local/lib/python3.7/dist-packages (from requests-oauthlib>=0.7.0->google-auth-oauthlib->otter-grader) (3.2.1)\n",
            "Requirement already satisfied: MarkupSafe>=0.23 in /usr/local/lib/python3.7/dist-packages (from jinja2->otter-grader) (2.0.1)\n",
            "Requirement already satisfied: markdown-it-py<3.0.0,>=1.0.0 in /usr/local/lib/python3.7/dist-packages (from jupytext->otter-grader) (2.1.0)\n",
            "Requirement already satisfied: toml in /usr/local/lib/python3.7/dist-packages (from jupytext->otter-grader) (0.10.2)\n",
            "Requirement already satisfied: mdit-py-plugins in /usr/local/lib/python3.7/dist-packages (from jupytext->otter-grader) (0.3.1)\n",
            "Requirement already satisfied: mdurl~=0.1 in /usr/local/lib/python3.7/dist-packages (from markdown-it-py<3.0.0,>=1.0.0->jupytext->otter-grader) (0.1.2)\n",
            "Requirement already satisfied: typing_extensions>=3.7.4 in /usr/local/lib/python3.7/dist-packages (from markdown-it-py<3.0.0,>=1.0.0->jupytext->otter-grader) (4.1.1)\n",
            "Requirement already satisfied: jsonschema>=2.6 in /usr/local/lib/python3.7/dist-packages (from nbformat->otter-grader) (4.3.3)\n",
            "Requirement already satisfied: traitlets>=5.1 in /usr/local/lib/python3.7/dist-packages (from nbformat->otter-grader) (5.1.1)\n",
            "Requirement already satisfied: importlib-metadata>=3.6 in /usr/local/lib/python3.7/dist-packages (from nbformat->otter-grader) (5.0.0)\n",
            "Requirement already satisfied: fastjsonschema in /usr/local/lib/python3.7/dist-packages (from nbformat->otter-grader) (2.16.2)\n",
            "Requirement already satisfied: jupyter-core in /usr/local/lib/python3.7/dist-packages (from nbformat->otter-grader) (4.11.1)\n",
            "Requirement already satisfied: zipp>=0.5 in /usr/local/lib/python3.7/dist-packages (from importlib-metadata>=3.6->nbformat->otter-grader) (3.9.0)\n",
            "Requirement already satisfied: attrs>=17.4.0 in /usr/local/lib/python3.7/dist-packages (from jsonschema>=2.6->nbformat->otter-grader) (22.1.0)\n",
            "Requirement already satisfied: pyrsistent!=0.17.0,!=0.17.1,!=0.17.2,>=0.14.0 in /usr/local/lib/python3.7/dist-packages (from jsonschema>=2.6->nbformat->otter-grader) (0.18.1)\n",
            "Requirement already satisfied: importlib-resources>=1.4.0 in /usr/local/lib/python3.7/dist-packages (from jsonschema>=2.6->nbformat->otter-grader) (5.10.0)\n",
            "Requirement already satisfied: numpy>=1.17.3 in /usr/local/lib/python3.7/dist-packages (from pandas->otter-grader) (1.21.6)\n",
            "Requirement already satisfied: python-dateutil>=2.7.3 in /usr/local/lib/python3.7/dist-packages (from pandas->otter-grader) (2.8.2)\n",
            "Requirement already satisfied: pydantic in /usr/local/lib/python3.7/dist-packages (from python-on-whales->otter-grader) (1.9.2)\n",
            "Requirement already satisfied: tqdm in /usr/local/lib/python3.7/dist-packages (from python-on-whales->otter-grader) (4.64.1)\n",
            "Requirement already satisfied: typer>=0.4.1 in /usr/local/lib/python3.7/dist-packages (from python-on-whales->otter-grader) (0.4.2)\n",
            "Requirement already satisfied: alabaster<0.8,>=0.7 in /usr/local/lib/python3.7/dist-packages (from sphinx->fica>=0.2.0->otter-grader) (0.7.12)\n",
            "Requirement already satisfied: snowballstemmer>=1.1 in /usr/local/lib/python3.7/dist-packages (from sphinx->fica>=0.2.0->otter-grader) (2.2.0)\n",
            "Requirement already satisfied: imagesize in /usr/local/lib/python3.7/dist-packages (from sphinx->fica>=0.2.0->otter-grader) (1.4.1)\n",
            "Requirement already satisfied: sphinxcontrib-websupport in /usr/local/lib/python3.7/dist-packages (from sphinx->fica>=0.2.0->otter-grader) (1.2.4)\n",
            "Requirement already satisfied: Pygments>=2.0 in /usr/local/lib/python3.7/dist-packages (from sphinx->fica>=0.2.0->otter-grader) (2.6.1)\n",
            "Requirement already satisfied: babel!=2.0,>=1.3 in /usr/local/lib/python3.7/dist-packages (from sphinx->fica>=0.2.0->otter-grader) (2.10.3)\n",
            "Requirement already satisfied: sphinxcontrib-serializinghtml in /usr/local/lib/python3.7/dist-packages (from sphinxcontrib-websupport->sphinx->fica>=0.2.0->otter-grader) (1.1.5)\n"
          ]
        }
      ],
      "source": [
        "# !pip install otter-grader"
      ]
    },
    {
      "cell_type": "markdown",
      "metadata": {
        "id": "6jzJI1uoV7kc"
      },
      "source": [
        "In order to have the data files and test files for this lab, uncomment and run the following cell. \n",
        "\n",
        "**Please comment out these two cells before submission.**"
      ]
    },
    {
      "cell_type": "code",
      "execution_count": null,
      "metadata": {
        "colab": {
          "base_uri": "https://localhost:8080/"
        },
        "id": "Etyk3U2hV7kd",
        "outputId": "650b7f0c-cda4-492e-f819-bc39c591d1a7"
      },
      "outputs": [
        {
          "output_type": "stream",
          "name": "stdout",
          "text": [
            "--2022-10-14 02:15:47--  https://pages.mtu.edu/~lebrown/un5550-f22/labs/lab7/lab7.files.zip\n",
            "Resolving pages.mtu.edu (pages.mtu.edu)... 141.219.70.232\n",
            "Connecting to pages.mtu.edu (pages.mtu.edu)|141.219.70.232|:443... connected.\n",
            "HTTP request sent, awaiting response... 200 OK\n",
            "Length: 3168 (3.1K) [application/zip]\n",
            "Saving to: ‘lab7.files.zip.3’\n",
            "\n",
            "lab7.files.zip.3    100%[===================>]   3.09K  --.-KB/s    in 0s      \n",
            "\n",
            "2022-10-14 02:15:47 (499 MB/s) - ‘lab7.files.zip.3’ saved [3168/3168]\n",
            "\n",
            "Archive:  lab7.files.zip\n",
            "replace tests/q5.py? [y]es, [n]o, [A]ll, [N]one, [r]ename: n\n",
            "replace tests/q1.py? [y]es, [n]o, [A]ll, [N]one, [r]ename: n\n",
            "replace tests/q4.py? [y]es, [n]o, [A]ll, [N]one, [r]ename: n\n",
            "replace tests/q8.py? [y]es, [n]o, [A]ll, [N]one, [r]ename: n\n",
            "replace tests/q3.py? [y]es, [n]o, [A]ll, [N]one, [r]ename: n\n",
            "replace tests/q7.py? [y]es, [n]o, [A]ll, [N]one, [r]ename: n\n",
            "replace tests/q6.py? [y]es, [n]o, [A]ll, [N]one, [r]ename: n\n",
            "replace tests/q2.py? [y]es, [n]o, [A]ll, [N]one, [r]ename: n\n"
          ]
        }
      ],
      "source": [
        "# !wget https://pages.mtu.edu/~lebrown/un5550-f22/labs/lab7/lab7.files.zip\n",
        "# !unzip lab7.files.zip"
      ]
    },
    {
      "cell_type": "markdown",
      "metadata": {
        "id": "8z3O-J5mV7kd"
      },
      "source": [
        "*Remember that you answers will potentially be evaluated on additional hidden test cases as well as manual code review.* "
      ]
    },
    {
      "cell_type": "markdown",
      "metadata": {
        "id": "_u5hgO-JV7kd"
      },
      "source": [
        "## Lab Setup"
      ]
    },
    {
      "cell_type": "code",
      "execution_count": null,
      "metadata": {
        "id": "97pWOdQrXOcJ"
      },
      "outputs": [],
      "source": [
        "import numpy as np\n",
        "import pandas as pd\n",
        "\n",
        "import otter\n",
        "grader = otter.Notebook()"
      ]
    },
    {
      "cell_type": "markdown",
      "metadata": {
        "id": "hyyThxRtXOcN"
      },
      "source": [
        "# Huskies Sailing Club "
      ]
    },
    {
      "cell_type": "markdown",
      "metadata": {
        "id": "sUwGkKSDXOcO"
      },
      "source": [
        "The Huskies Sailing Club wants to better organize their user data. Your first job is to implement code relational algebra operators in Python. \n",
        "\n",
        "You may want to refer to the [pandas](http://pandas.pydata.org/pandas-docs/stable/) documentation. \n",
        "\n",
        "Here are the Sailing Club's databases.  Your job implement a variety of unary and binary relational algebra operators. "
      ]
    },
    {
      "cell_type": "code",
      "execution_count": null,
      "metadata": {
        "id": "tyXOS_gUXOcO"
      },
      "outputs": [],
      "source": [
        "young_sailors = pd.DataFrame({\n",
        "        \"sid\":      [2701, 18869, 63940, 21869, 17436],\n",
        "        \"sname\":    [\"Grace\", \"Morgan\", \"Anne\", \"Jack\", \"Dustin\"],\n",
        "        \"rating\":   [8, 6, 4, 9, 3],\n",
        "        \"age\":      [25, 26, 21, 27, 22],\n",
        "    })\n",
        "salty_sailors = pd.DataFrame({\n",
        "        \"sid\":      [2701, 17436, 45433, 22689, 46535],\n",
        "        \"sname\":    [\"Grace\", \"Dustin\", \"Balon\", \"Euron\", \"Victarion\"],\n",
        "        \"rating\":   [8, 3, 7, 10, 2],\n",
        "        \"age\":      [25, 22, 39, 35, 37],\n",
        "    })\n",
        "boats = pd.DataFrame({\n",
        "        \"bid\":      [41116, 54505, 50041, 35168, 58324],\n",
        "        \"bname\":    [\"The Black Sparrow\", \"The Great Kraken\", \"The Prophetess\", \"Silence\", \"Iron Victory\"],\n",
        "        \"color\":    [\"Black\", \"Orange\", \"Silver\", \"Red\", \"Grey\"],\n",
        "    })\n",
        "reservations = pd.DataFrame({\n",
        "        \"sid\":      [21869, 45433, 18869, 22689, 21869, 17436, 63940, 45433, 21869, 18869],\n",
        "        \"bid\":      [41116, 35168, 50041, 41116, 58324, 50041, 54505, 41116, 50041, 41116],\n",
        "        \"day\":      [\"3/1\", \"3/1\", \"3/2\", \"3/2\", \"3/2\", \"3/3\", \"3/3\", \"3/3\", \"3/3\", \"3/4\"],\n",
        "    })"
      ]
    },
    {
      "cell_type": "code",
      "execution_count": null,
      "metadata": {
        "colab": {
          "base_uri": "https://localhost:8080/",
          "height": 206
        },
        "id": "SsE5I8BRYRXI",
        "outputId": "2b233b40-21c5-4d56-943b-92edf813f595"
      },
      "outputs": [
        {
          "output_type": "execute_result",
          "data": {
            "text/plain": [
              "     sid   sname  rating  age\n",
              "0   2701   Grace       8   25\n",
              "1  18869  Morgan       6   26\n",
              "2  63940    Anne       4   21\n",
              "3  21869    Jack       9   27\n",
              "4  17436  Dustin       3   22"
            ],
            "text/html": [
              "\n",
              "  <div id=\"df-82fac898-6854-4c49-8ee6-428e742225d3\">\n",
              "    <div class=\"colab-df-container\">\n",
              "      <div>\n",
              "<style scoped>\n",
              "    .dataframe tbody tr th:only-of-type {\n",
              "        vertical-align: middle;\n",
              "    }\n",
              "\n",
              "    .dataframe tbody tr th {\n",
              "        vertical-align: top;\n",
              "    }\n",
              "\n",
              "    .dataframe thead th {\n",
              "        text-align: right;\n",
              "    }\n",
              "</style>\n",
              "<table border=\"1\" class=\"dataframe\">\n",
              "  <thead>\n",
              "    <tr style=\"text-align: right;\">\n",
              "      <th></th>\n",
              "      <th>sid</th>\n",
              "      <th>sname</th>\n",
              "      <th>rating</th>\n",
              "      <th>age</th>\n",
              "    </tr>\n",
              "  </thead>\n",
              "  <tbody>\n",
              "    <tr>\n",
              "      <th>0</th>\n",
              "      <td>2701</td>\n",
              "      <td>Grace</td>\n",
              "      <td>8</td>\n",
              "      <td>25</td>\n",
              "    </tr>\n",
              "    <tr>\n",
              "      <th>1</th>\n",
              "      <td>18869</td>\n",
              "      <td>Morgan</td>\n",
              "      <td>6</td>\n",
              "      <td>26</td>\n",
              "    </tr>\n",
              "    <tr>\n",
              "      <th>2</th>\n",
              "      <td>63940</td>\n",
              "      <td>Anne</td>\n",
              "      <td>4</td>\n",
              "      <td>21</td>\n",
              "    </tr>\n",
              "    <tr>\n",
              "      <th>3</th>\n",
              "      <td>21869</td>\n",
              "      <td>Jack</td>\n",
              "      <td>9</td>\n",
              "      <td>27</td>\n",
              "    </tr>\n",
              "    <tr>\n",
              "      <th>4</th>\n",
              "      <td>17436</td>\n",
              "      <td>Dustin</td>\n",
              "      <td>3</td>\n",
              "      <td>22</td>\n",
              "    </tr>\n",
              "  </tbody>\n",
              "</table>\n",
              "</div>\n",
              "      <button class=\"colab-df-convert\" onclick=\"convertToInteractive('df-82fac898-6854-4c49-8ee6-428e742225d3')\"\n",
              "              title=\"Convert this dataframe to an interactive table.\"\n",
              "              style=\"display:none;\">\n",
              "        \n",
              "  <svg xmlns=\"http://www.w3.org/2000/svg\" height=\"24px\"viewBox=\"0 0 24 24\"\n",
              "       width=\"24px\">\n",
              "    <path d=\"M0 0h24v24H0V0z\" fill=\"none\"/>\n",
              "    <path d=\"M18.56 5.44l.94 2.06.94-2.06 2.06-.94-2.06-.94-.94-2.06-.94 2.06-2.06.94zm-11 1L8.5 8.5l.94-2.06 2.06-.94-2.06-.94L8.5 2.5l-.94 2.06-2.06.94zm10 10l.94 2.06.94-2.06 2.06-.94-2.06-.94-.94-2.06-.94 2.06-2.06.94z\"/><path d=\"M17.41 7.96l-1.37-1.37c-.4-.4-.92-.59-1.43-.59-.52 0-1.04.2-1.43.59L10.3 9.45l-7.72 7.72c-.78.78-.78 2.05 0 2.83L4 21.41c.39.39.9.59 1.41.59.51 0 1.02-.2 1.41-.59l7.78-7.78 2.81-2.81c.8-.78.8-2.07 0-2.86zM5.41 20L4 18.59l7.72-7.72 1.47 1.35L5.41 20z\"/>\n",
              "  </svg>\n",
              "      </button>\n",
              "      \n",
              "  <style>\n",
              "    .colab-df-container {\n",
              "      display:flex;\n",
              "      flex-wrap:wrap;\n",
              "      gap: 12px;\n",
              "    }\n",
              "\n",
              "    .colab-df-convert {\n",
              "      background-color: #E8F0FE;\n",
              "      border: none;\n",
              "      border-radius: 50%;\n",
              "      cursor: pointer;\n",
              "      display: none;\n",
              "      fill: #1967D2;\n",
              "      height: 32px;\n",
              "      padding: 0 0 0 0;\n",
              "      width: 32px;\n",
              "    }\n",
              "\n",
              "    .colab-df-convert:hover {\n",
              "      background-color: #E2EBFA;\n",
              "      box-shadow: 0px 1px 2px rgba(60, 64, 67, 0.3), 0px 1px 3px 1px rgba(60, 64, 67, 0.15);\n",
              "      fill: #174EA6;\n",
              "    }\n",
              "\n",
              "    [theme=dark] .colab-df-convert {\n",
              "      background-color: #3B4455;\n",
              "      fill: #D2E3FC;\n",
              "    }\n",
              "\n",
              "    [theme=dark] .colab-df-convert:hover {\n",
              "      background-color: #434B5C;\n",
              "      box-shadow: 0px 1px 3px 1px rgba(0, 0, 0, 0.15);\n",
              "      filter: drop-shadow(0px 1px 2px rgba(0, 0, 0, 0.3));\n",
              "      fill: #FFFFFF;\n",
              "    }\n",
              "  </style>\n",
              "\n",
              "      <script>\n",
              "        const buttonEl =\n",
              "          document.querySelector('#df-82fac898-6854-4c49-8ee6-428e742225d3 button.colab-df-convert');\n",
              "        buttonEl.style.display =\n",
              "          google.colab.kernel.accessAllowed ? 'block' : 'none';\n",
              "\n",
              "        async function convertToInteractive(key) {\n",
              "          const element = document.querySelector('#df-82fac898-6854-4c49-8ee6-428e742225d3');\n",
              "          const dataTable =\n",
              "            await google.colab.kernel.invokeFunction('convertToInteractive',\n",
              "                                                     [key], {});\n",
              "          if (!dataTable) return;\n",
              "\n",
              "          const docLinkHtml = 'Like what you see? Visit the ' +\n",
              "            '<a target=\"_blank\" href=https://colab.research.google.com/notebooks/data_table.ipynb>data table notebook</a>'\n",
              "            + ' to learn more about interactive tables.';\n",
              "          element.innerHTML = '';\n",
              "          dataTable['output_type'] = 'display_data';\n",
              "          await google.colab.output.renderOutput(dataTable, element);\n",
              "          const docLink = document.createElement('div');\n",
              "          docLink.innerHTML = docLinkHtml;\n",
              "          element.appendChild(docLink);\n",
              "        }\n",
              "      </script>\n",
              "    </div>\n",
              "  </div>\n",
              "  "
            ]
          },
          "metadata": {},
          "execution_count": 102
        }
      ],
      "source": [
        "young_sailors"
      ]
    },
    {
      "cell_type": "code",
      "execution_count": null,
      "metadata": {
        "colab": {
          "base_uri": "https://localhost:8080/",
          "height": 206
        },
        "id": "03oClXqnYTsH",
        "outputId": "d826e50a-7e86-4628-87bb-ad17b036c28a"
      },
      "outputs": [
        {
          "output_type": "execute_result",
          "data": {
            "text/plain": [
              "     sid      sname  rating  age\n",
              "0   2701      Grace       8   25\n",
              "1  17436     Dustin       3   22\n",
              "2  45433      Balon       7   39\n",
              "3  22689      Euron      10   35\n",
              "4  46535  Victarion       2   37"
            ],
            "text/html": [
              "\n",
              "  <div id=\"df-0a9cf1ac-0abb-47dd-94f0-1ab747bbc035\">\n",
              "    <div class=\"colab-df-container\">\n",
              "      <div>\n",
              "<style scoped>\n",
              "    .dataframe tbody tr th:only-of-type {\n",
              "        vertical-align: middle;\n",
              "    }\n",
              "\n",
              "    .dataframe tbody tr th {\n",
              "        vertical-align: top;\n",
              "    }\n",
              "\n",
              "    .dataframe thead th {\n",
              "        text-align: right;\n",
              "    }\n",
              "</style>\n",
              "<table border=\"1\" class=\"dataframe\">\n",
              "  <thead>\n",
              "    <tr style=\"text-align: right;\">\n",
              "      <th></th>\n",
              "      <th>sid</th>\n",
              "      <th>sname</th>\n",
              "      <th>rating</th>\n",
              "      <th>age</th>\n",
              "    </tr>\n",
              "  </thead>\n",
              "  <tbody>\n",
              "    <tr>\n",
              "      <th>0</th>\n",
              "      <td>2701</td>\n",
              "      <td>Grace</td>\n",
              "      <td>8</td>\n",
              "      <td>25</td>\n",
              "    </tr>\n",
              "    <tr>\n",
              "      <th>1</th>\n",
              "      <td>17436</td>\n",
              "      <td>Dustin</td>\n",
              "      <td>3</td>\n",
              "      <td>22</td>\n",
              "    </tr>\n",
              "    <tr>\n",
              "      <th>2</th>\n",
              "      <td>45433</td>\n",
              "      <td>Balon</td>\n",
              "      <td>7</td>\n",
              "      <td>39</td>\n",
              "    </tr>\n",
              "    <tr>\n",
              "      <th>3</th>\n",
              "      <td>22689</td>\n",
              "      <td>Euron</td>\n",
              "      <td>10</td>\n",
              "      <td>35</td>\n",
              "    </tr>\n",
              "    <tr>\n",
              "      <th>4</th>\n",
              "      <td>46535</td>\n",
              "      <td>Victarion</td>\n",
              "      <td>2</td>\n",
              "      <td>37</td>\n",
              "    </tr>\n",
              "  </tbody>\n",
              "</table>\n",
              "</div>\n",
              "      <button class=\"colab-df-convert\" onclick=\"convertToInteractive('df-0a9cf1ac-0abb-47dd-94f0-1ab747bbc035')\"\n",
              "              title=\"Convert this dataframe to an interactive table.\"\n",
              "              style=\"display:none;\">\n",
              "        \n",
              "  <svg xmlns=\"http://www.w3.org/2000/svg\" height=\"24px\"viewBox=\"0 0 24 24\"\n",
              "       width=\"24px\">\n",
              "    <path d=\"M0 0h24v24H0V0z\" fill=\"none\"/>\n",
              "    <path d=\"M18.56 5.44l.94 2.06.94-2.06 2.06-.94-2.06-.94-.94-2.06-.94 2.06-2.06.94zm-11 1L8.5 8.5l.94-2.06 2.06-.94-2.06-.94L8.5 2.5l-.94 2.06-2.06.94zm10 10l.94 2.06.94-2.06 2.06-.94-2.06-.94-.94-2.06-.94 2.06-2.06.94z\"/><path d=\"M17.41 7.96l-1.37-1.37c-.4-.4-.92-.59-1.43-.59-.52 0-1.04.2-1.43.59L10.3 9.45l-7.72 7.72c-.78.78-.78 2.05 0 2.83L4 21.41c.39.39.9.59 1.41.59.51 0 1.02-.2 1.41-.59l7.78-7.78 2.81-2.81c.8-.78.8-2.07 0-2.86zM5.41 20L4 18.59l7.72-7.72 1.47 1.35L5.41 20z\"/>\n",
              "  </svg>\n",
              "      </button>\n",
              "      \n",
              "  <style>\n",
              "    .colab-df-container {\n",
              "      display:flex;\n",
              "      flex-wrap:wrap;\n",
              "      gap: 12px;\n",
              "    }\n",
              "\n",
              "    .colab-df-convert {\n",
              "      background-color: #E8F0FE;\n",
              "      border: none;\n",
              "      border-radius: 50%;\n",
              "      cursor: pointer;\n",
              "      display: none;\n",
              "      fill: #1967D2;\n",
              "      height: 32px;\n",
              "      padding: 0 0 0 0;\n",
              "      width: 32px;\n",
              "    }\n",
              "\n",
              "    .colab-df-convert:hover {\n",
              "      background-color: #E2EBFA;\n",
              "      box-shadow: 0px 1px 2px rgba(60, 64, 67, 0.3), 0px 1px 3px 1px rgba(60, 64, 67, 0.15);\n",
              "      fill: #174EA6;\n",
              "    }\n",
              "\n",
              "    [theme=dark] .colab-df-convert {\n",
              "      background-color: #3B4455;\n",
              "      fill: #D2E3FC;\n",
              "    }\n",
              "\n",
              "    [theme=dark] .colab-df-convert:hover {\n",
              "      background-color: #434B5C;\n",
              "      box-shadow: 0px 1px 3px 1px rgba(0, 0, 0, 0.15);\n",
              "      filter: drop-shadow(0px 1px 2px rgba(0, 0, 0, 0.3));\n",
              "      fill: #FFFFFF;\n",
              "    }\n",
              "  </style>\n",
              "\n",
              "      <script>\n",
              "        const buttonEl =\n",
              "          document.querySelector('#df-0a9cf1ac-0abb-47dd-94f0-1ab747bbc035 button.colab-df-convert');\n",
              "        buttonEl.style.display =\n",
              "          google.colab.kernel.accessAllowed ? 'block' : 'none';\n",
              "\n",
              "        async function convertToInteractive(key) {\n",
              "          const element = document.querySelector('#df-0a9cf1ac-0abb-47dd-94f0-1ab747bbc035');\n",
              "          const dataTable =\n",
              "            await google.colab.kernel.invokeFunction('convertToInteractive',\n",
              "                                                     [key], {});\n",
              "          if (!dataTable) return;\n",
              "\n",
              "          const docLinkHtml = 'Like what you see? Visit the ' +\n",
              "            '<a target=\"_blank\" href=https://colab.research.google.com/notebooks/data_table.ipynb>data table notebook</a>'\n",
              "            + ' to learn more about interactive tables.';\n",
              "          element.innerHTML = '';\n",
              "          dataTable['output_type'] = 'display_data';\n",
              "          await google.colab.output.renderOutput(dataTable, element);\n",
              "          const docLink = document.createElement('div');\n",
              "          docLink.innerHTML = docLinkHtml;\n",
              "          element.appendChild(docLink);\n",
              "        }\n",
              "      </script>\n",
              "    </div>\n",
              "  </div>\n",
              "  "
            ]
          },
          "metadata": {},
          "execution_count": 103
        }
      ],
      "source": [
        "salty_sailors"
      ]
    },
    {
      "cell_type": "code",
      "execution_count": null,
      "metadata": {
        "colab": {
          "base_uri": "https://localhost:8080/",
          "height": 206
        },
        "id": "QWVX9WmmYVSh",
        "outputId": "4e17ba75-cf17-4103-cb8a-b804dc54c9e0"
      },
      "outputs": [
        {
          "output_type": "execute_result",
          "data": {
            "text/plain": [
              "     bid              bname   color\n",
              "0  41116  The Black Sparrow   Black\n",
              "1  54505   The Great Kraken  Orange\n",
              "2  50041     The Prophetess  Silver\n",
              "3  35168            Silence     Red\n",
              "4  58324       Iron Victory    Grey"
            ],
            "text/html": [
              "\n",
              "  <div id=\"df-839311e8-cb1f-40b1-82d7-d330434eb9a5\">\n",
              "    <div class=\"colab-df-container\">\n",
              "      <div>\n",
              "<style scoped>\n",
              "    .dataframe tbody tr th:only-of-type {\n",
              "        vertical-align: middle;\n",
              "    }\n",
              "\n",
              "    .dataframe tbody tr th {\n",
              "        vertical-align: top;\n",
              "    }\n",
              "\n",
              "    .dataframe thead th {\n",
              "        text-align: right;\n",
              "    }\n",
              "</style>\n",
              "<table border=\"1\" class=\"dataframe\">\n",
              "  <thead>\n",
              "    <tr style=\"text-align: right;\">\n",
              "      <th></th>\n",
              "      <th>bid</th>\n",
              "      <th>bname</th>\n",
              "      <th>color</th>\n",
              "    </tr>\n",
              "  </thead>\n",
              "  <tbody>\n",
              "    <tr>\n",
              "      <th>0</th>\n",
              "      <td>41116</td>\n",
              "      <td>The Black Sparrow</td>\n",
              "      <td>Black</td>\n",
              "    </tr>\n",
              "    <tr>\n",
              "      <th>1</th>\n",
              "      <td>54505</td>\n",
              "      <td>The Great Kraken</td>\n",
              "      <td>Orange</td>\n",
              "    </tr>\n",
              "    <tr>\n",
              "      <th>2</th>\n",
              "      <td>50041</td>\n",
              "      <td>The Prophetess</td>\n",
              "      <td>Silver</td>\n",
              "    </tr>\n",
              "    <tr>\n",
              "      <th>3</th>\n",
              "      <td>35168</td>\n",
              "      <td>Silence</td>\n",
              "      <td>Red</td>\n",
              "    </tr>\n",
              "    <tr>\n",
              "      <th>4</th>\n",
              "      <td>58324</td>\n",
              "      <td>Iron Victory</td>\n",
              "      <td>Grey</td>\n",
              "    </tr>\n",
              "  </tbody>\n",
              "</table>\n",
              "</div>\n",
              "      <button class=\"colab-df-convert\" onclick=\"convertToInteractive('df-839311e8-cb1f-40b1-82d7-d330434eb9a5')\"\n",
              "              title=\"Convert this dataframe to an interactive table.\"\n",
              "              style=\"display:none;\">\n",
              "        \n",
              "  <svg xmlns=\"http://www.w3.org/2000/svg\" height=\"24px\"viewBox=\"0 0 24 24\"\n",
              "       width=\"24px\">\n",
              "    <path d=\"M0 0h24v24H0V0z\" fill=\"none\"/>\n",
              "    <path d=\"M18.56 5.44l.94 2.06.94-2.06 2.06-.94-2.06-.94-.94-2.06-.94 2.06-2.06.94zm-11 1L8.5 8.5l.94-2.06 2.06-.94-2.06-.94L8.5 2.5l-.94 2.06-2.06.94zm10 10l.94 2.06.94-2.06 2.06-.94-2.06-.94-.94-2.06-.94 2.06-2.06.94z\"/><path d=\"M17.41 7.96l-1.37-1.37c-.4-.4-.92-.59-1.43-.59-.52 0-1.04.2-1.43.59L10.3 9.45l-7.72 7.72c-.78.78-.78 2.05 0 2.83L4 21.41c.39.39.9.59 1.41.59.51 0 1.02-.2 1.41-.59l7.78-7.78 2.81-2.81c.8-.78.8-2.07 0-2.86zM5.41 20L4 18.59l7.72-7.72 1.47 1.35L5.41 20z\"/>\n",
              "  </svg>\n",
              "      </button>\n",
              "      \n",
              "  <style>\n",
              "    .colab-df-container {\n",
              "      display:flex;\n",
              "      flex-wrap:wrap;\n",
              "      gap: 12px;\n",
              "    }\n",
              "\n",
              "    .colab-df-convert {\n",
              "      background-color: #E8F0FE;\n",
              "      border: none;\n",
              "      border-radius: 50%;\n",
              "      cursor: pointer;\n",
              "      display: none;\n",
              "      fill: #1967D2;\n",
              "      height: 32px;\n",
              "      padding: 0 0 0 0;\n",
              "      width: 32px;\n",
              "    }\n",
              "\n",
              "    .colab-df-convert:hover {\n",
              "      background-color: #E2EBFA;\n",
              "      box-shadow: 0px 1px 2px rgba(60, 64, 67, 0.3), 0px 1px 3px 1px rgba(60, 64, 67, 0.15);\n",
              "      fill: #174EA6;\n",
              "    }\n",
              "\n",
              "    [theme=dark] .colab-df-convert {\n",
              "      background-color: #3B4455;\n",
              "      fill: #D2E3FC;\n",
              "    }\n",
              "\n",
              "    [theme=dark] .colab-df-convert:hover {\n",
              "      background-color: #434B5C;\n",
              "      box-shadow: 0px 1px 3px 1px rgba(0, 0, 0, 0.15);\n",
              "      filter: drop-shadow(0px 1px 2px rgba(0, 0, 0, 0.3));\n",
              "      fill: #FFFFFF;\n",
              "    }\n",
              "  </style>\n",
              "\n",
              "      <script>\n",
              "        const buttonEl =\n",
              "          document.querySelector('#df-839311e8-cb1f-40b1-82d7-d330434eb9a5 button.colab-df-convert');\n",
              "        buttonEl.style.display =\n",
              "          google.colab.kernel.accessAllowed ? 'block' : 'none';\n",
              "\n",
              "        async function convertToInteractive(key) {\n",
              "          const element = document.querySelector('#df-839311e8-cb1f-40b1-82d7-d330434eb9a5');\n",
              "          const dataTable =\n",
              "            await google.colab.kernel.invokeFunction('convertToInteractive',\n",
              "                                                     [key], {});\n",
              "          if (!dataTable) return;\n",
              "\n",
              "          const docLinkHtml = 'Like what you see? Visit the ' +\n",
              "            '<a target=\"_blank\" href=https://colab.research.google.com/notebooks/data_table.ipynb>data table notebook</a>'\n",
              "            + ' to learn more about interactive tables.';\n",
              "          element.innerHTML = '';\n",
              "          dataTable['output_type'] = 'display_data';\n",
              "          await google.colab.output.renderOutput(dataTable, element);\n",
              "          const docLink = document.createElement('div');\n",
              "          docLink.innerHTML = docLinkHtml;\n",
              "          element.appendChild(docLink);\n",
              "        }\n",
              "      </script>\n",
              "    </div>\n",
              "  </div>\n",
              "  "
            ]
          },
          "metadata": {},
          "execution_count": 104
        }
      ],
      "source": [
        "boats"
      ]
    },
    {
      "cell_type": "code",
      "execution_count": null,
      "metadata": {
        "colab": {
          "base_uri": "https://localhost:8080/",
          "height": 363
        },
        "id": "EmXlKhlXYXJk",
        "outputId": "4a3d8c1a-1969-48ad-f38e-9ff6171c58c0"
      },
      "outputs": [
        {
          "output_type": "execute_result",
          "data": {
            "text/plain": [
              "     sid    bid  day\n",
              "0  21869  41116  3/1\n",
              "1  45433  35168  3/1\n",
              "2  18869  50041  3/2\n",
              "3  22689  41116  3/2\n",
              "4  21869  58324  3/2\n",
              "5  17436  50041  3/3\n",
              "6  63940  54505  3/3\n",
              "7  45433  41116  3/3\n",
              "8  21869  50041  3/3\n",
              "9  18869  41116  3/4"
            ],
            "text/html": [
              "\n",
              "  <div id=\"df-ae24b4e1-1137-4bd1-a9d0-e4d955bd2c55\">\n",
              "    <div class=\"colab-df-container\">\n",
              "      <div>\n",
              "<style scoped>\n",
              "    .dataframe tbody tr th:only-of-type {\n",
              "        vertical-align: middle;\n",
              "    }\n",
              "\n",
              "    .dataframe tbody tr th {\n",
              "        vertical-align: top;\n",
              "    }\n",
              "\n",
              "    .dataframe thead th {\n",
              "        text-align: right;\n",
              "    }\n",
              "</style>\n",
              "<table border=\"1\" class=\"dataframe\">\n",
              "  <thead>\n",
              "    <tr style=\"text-align: right;\">\n",
              "      <th></th>\n",
              "      <th>sid</th>\n",
              "      <th>bid</th>\n",
              "      <th>day</th>\n",
              "    </tr>\n",
              "  </thead>\n",
              "  <tbody>\n",
              "    <tr>\n",
              "      <th>0</th>\n",
              "      <td>21869</td>\n",
              "      <td>41116</td>\n",
              "      <td>3/1</td>\n",
              "    </tr>\n",
              "    <tr>\n",
              "      <th>1</th>\n",
              "      <td>45433</td>\n",
              "      <td>35168</td>\n",
              "      <td>3/1</td>\n",
              "    </tr>\n",
              "    <tr>\n",
              "      <th>2</th>\n",
              "      <td>18869</td>\n",
              "      <td>50041</td>\n",
              "      <td>3/2</td>\n",
              "    </tr>\n",
              "    <tr>\n",
              "      <th>3</th>\n",
              "      <td>22689</td>\n",
              "      <td>41116</td>\n",
              "      <td>3/2</td>\n",
              "    </tr>\n",
              "    <tr>\n",
              "      <th>4</th>\n",
              "      <td>21869</td>\n",
              "      <td>58324</td>\n",
              "      <td>3/2</td>\n",
              "    </tr>\n",
              "    <tr>\n",
              "      <th>5</th>\n",
              "      <td>17436</td>\n",
              "      <td>50041</td>\n",
              "      <td>3/3</td>\n",
              "    </tr>\n",
              "    <tr>\n",
              "      <th>6</th>\n",
              "      <td>63940</td>\n",
              "      <td>54505</td>\n",
              "      <td>3/3</td>\n",
              "    </tr>\n",
              "    <tr>\n",
              "      <th>7</th>\n",
              "      <td>45433</td>\n",
              "      <td>41116</td>\n",
              "      <td>3/3</td>\n",
              "    </tr>\n",
              "    <tr>\n",
              "      <th>8</th>\n",
              "      <td>21869</td>\n",
              "      <td>50041</td>\n",
              "      <td>3/3</td>\n",
              "    </tr>\n",
              "    <tr>\n",
              "      <th>9</th>\n",
              "      <td>18869</td>\n",
              "      <td>41116</td>\n",
              "      <td>3/4</td>\n",
              "    </tr>\n",
              "  </tbody>\n",
              "</table>\n",
              "</div>\n",
              "      <button class=\"colab-df-convert\" onclick=\"convertToInteractive('df-ae24b4e1-1137-4bd1-a9d0-e4d955bd2c55')\"\n",
              "              title=\"Convert this dataframe to an interactive table.\"\n",
              "              style=\"display:none;\">\n",
              "        \n",
              "  <svg xmlns=\"http://www.w3.org/2000/svg\" height=\"24px\"viewBox=\"0 0 24 24\"\n",
              "       width=\"24px\">\n",
              "    <path d=\"M0 0h24v24H0V0z\" fill=\"none\"/>\n",
              "    <path d=\"M18.56 5.44l.94 2.06.94-2.06 2.06-.94-2.06-.94-.94-2.06-.94 2.06-2.06.94zm-11 1L8.5 8.5l.94-2.06 2.06-.94-2.06-.94L8.5 2.5l-.94 2.06-2.06.94zm10 10l.94 2.06.94-2.06 2.06-.94-2.06-.94-.94-2.06-.94 2.06-2.06.94z\"/><path d=\"M17.41 7.96l-1.37-1.37c-.4-.4-.92-.59-1.43-.59-.52 0-1.04.2-1.43.59L10.3 9.45l-7.72 7.72c-.78.78-.78 2.05 0 2.83L4 21.41c.39.39.9.59 1.41.59.51 0 1.02-.2 1.41-.59l7.78-7.78 2.81-2.81c.8-.78.8-2.07 0-2.86zM5.41 20L4 18.59l7.72-7.72 1.47 1.35L5.41 20z\"/>\n",
              "  </svg>\n",
              "      </button>\n",
              "      \n",
              "  <style>\n",
              "    .colab-df-container {\n",
              "      display:flex;\n",
              "      flex-wrap:wrap;\n",
              "      gap: 12px;\n",
              "    }\n",
              "\n",
              "    .colab-df-convert {\n",
              "      background-color: #E8F0FE;\n",
              "      border: none;\n",
              "      border-radius: 50%;\n",
              "      cursor: pointer;\n",
              "      display: none;\n",
              "      fill: #1967D2;\n",
              "      height: 32px;\n",
              "      padding: 0 0 0 0;\n",
              "      width: 32px;\n",
              "    }\n",
              "\n",
              "    .colab-df-convert:hover {\n",
              "      background-color: #E2EBFA;\n",
              "      box-shadow: 0px 1px 2px rgba(60, 64, 67, 0.3), 0px 1px 3px 1px rgba(60, 64, 67, 0.15);\n",
              "      fill: #174EA6;\n",
              "    }\n",
              "\n",
              "    [theme=dark] .colab-df-convert {\n",
              "      background-color: #3B4455;\n",
              "      fill: #D2E3FC;\n",
              "    }\n",
              "\n",
              "    [theme=dark] .colab-df-convert:hover {\n",
              "      background-color: #434B5C;\n",
              "      box-shadow: 0px 1px 3px 1px rgba(0, 0, 0, 0.15);\n",
              "      filter: drop-shadow(0px 1px 2px rgba(0, 0, 0, 0.3));\n",
              "      fill: #FFFFFF;\n",
              "    }\n",
              "  </style>\n",
              "\n",
              "      <script>\n",
              "        const buttonEl =\n",
              "          document.querySelector('#df-ae24b4e1-1137-4bd1-a9d0-e4d955bd2c55 button.colab-df-convert');\n",
              "        buttonEl.style.display =\n",
              "          google.colab.kernel.accessAllowed ? 'block' : 'none';\n",
              "\n",
              "        async function convertToInteractive(key) {\n",
              "          const element = document.querySelector('#df-ae24b4e1-1137-4bd1-a9d0-e4d955bd2c55');\n",
              "          const dataTable =\n",
              "            await google.colab.kernel.invokeFunction('convertToInteractive',\n",
              "                                                     [key], {});\n",
              "          if (!dataTable) return;\n",
              "\n",
              "          const docLinkHtml = 'Like what you see? Visit the ' +\n",
              "            '<a target=\"_blank\" href=https://colab.research.google.com/notebooks/data_table.ipynb>data table notebook</a>'\n",
              "            + ' to learn more about interactive tables.';\n",
              "          element.innerHTML = '';\n",
              "          dataTable['output_type'] = 'display_data';\n",
              "          await google.colab.output.renderOutput(dataTable, element);\n",
              "          const docLink = document.createElement('div');\n",
              "          docLink.innerHTML = docLinkHtml;\n",
              "          element.appendChild(docLink);\n",
              "        }\n",
              "      </script>\n",
              "    </div>\n",
              "  </div>\n",
              "  "
            ]
          },
          "metadata": {},
          "execution_count": 105
        }
      ],
      "source": [
        "reservations"
      ]
    },
    {
      "cell_type": "markdown",
      "metadata": {
        "id": "aT81CuzkXOcR"
      },
      "source": [
        "## Exercise 1: Projection\n",
        "\n",
        "Create a function `project` that takes as arguments a dataframe and a list of columns to select and returns the projection."
      ]
    },
    {
      "cell_type": "code",
      "execution_count": null,
      "metadata": {
        "id": "R2pVVxfuXOcS",
        "tags": []
      },
      "outputs": [],
      "source": [
        "def project(df, columns):     \n",
        "    return pd.DataFrame(df, columns=columns)\n",
        "\n",
        "df1a = project(salty_sailors, [\"sname\", \"age\"])\n",
        "df1b = project(boats, [\"color\"])"
      ]
    },
    {
      "cell_type": "markdown",
      "metadata": {
        "id": "P_3egC66XOcY"
      },
      "source": [
        "Example test:  \n",
        "The output for `project(salty_sailors, [\"sname\", \"age\"])` should be: \n",
        "\n",
        "|   | sname  |  age  | \n",
        "|---|--------|-------|\n",
        "| 0 | Grace  | 25    |\n",
        "| 1 | Dustin | 22    | \n",
        "| 2 | Balon  | 39    | \n",
        "| 3 | Euron  | 35    | \n",
        "| 4 | Victarion | 37 |\n"
      ]
    },
    {
      "cell_type": "code",
      "execution_count": null,
      "metadata": {
        "deletable": false,
        "editable": false,
        "colab": {
          "base_uri": "https://localhost:8080/",
          "height": 46
        },
        "id": "q9wehogPV7kg",
        "outputId": "df21cde6-65c9-4eac-8d23-c3efd437a9af"
      },
      "outputs": [
        {
          "output_type": "execute_result",
          "data": {
            "text/plain": [
              "q1 results: All test cases passed!"
            ],
            "text/html": [
              "<p><strong><pre style='display: inline;'>q1</pre></strong> passed! ✨</p>"
            ]
          },
          "metadata": {},
          "execution_count": 107
        }
      ],
      "source": [
        "grader.check(\"q1\")"
      ]
    },
    {
      "cell_type": "markdown",
      "metadata": {
        "id": "M3AsNLHEXOcZ"
      },
      "source": [
        "## Exercise 2: Selection \n",
        "\n",
        "Create a function `select` that has arguments of a data frame and a condition (function) which determines which rows to select. \n",
        "\n",
        "For example: \n",
        "`good_sailors = select(young_sailors, lambda x: x[\"rating\"] > 6)`"
      ]
    },
    {
      "cell_type": "code",
      "execution_count": null,
      "metadata": {
        "id": "9roLwxPNXOca",
        "tags": []
      },
      "outputs": [],
      "source": [
        "def select(df, condition):     \n",
        "    return df[condition]\n",
        "\n",
        "dfq2 = select(young_sailors, lambda x: x[\"rating\"] > 6)"
      ]
    },
    {
      "cell_type": "markdown",
      "metadata": {
        "id": "SihNQOTpXOcg"
      },
      "source": [
        "The output for `select(young_sailors, lambda x: x[\"rating\"] > 6)` should be:\n",
        "\n",
        "|   | sid   | sname  | rating | age |\n",
        "|---|-------|--------|--------|-----|\n",
        "| 0 | 2701  | Grace  | 8      | 25  |\n",
        "| 3 | 21869 | Jack   | 9      | 27  |"
      ]
    },
    {
      "cell_type": "code",
      "execution_count": null,
      "metadata": {
        "deletable": false,
        "editable": false,
        "colab": {
          "base_uri": "https://localhost:8080/",
          "height": 46
        },
        "id": "38LZhw1QV7kg",
        "outputId": "0c4c0c56-3aa8-45b7-be05-8bac7e51d4ab"
      },
      "outputs": [
        {
          "output_type": "execute_result",
          "data": {
            "text/plain": [
              "q2 results: All test cases passed!"
            ],
            "text/html": [
              "<p><strong><pre style='display: inline;'>q2</pre></strong> passed! 🍀</p>"
            ]
          },
          "metadata": {},
          "execution_count": 109
        }
      ],
      "source": [
        "grader.check(\"q2\")"
      ]
    },
    {
      "cell_type": "markdown",
      "metadata": {
        "id": "-kQBc1q-XOcg"
      },
      "source": [
        "## Exercise 3: Union \n",
        "\n",
        "Create a function, `union`, (a binary operator) that takes two dataframes as input.  You can assume the two dataframes are union compatible (that is, they have the same number of columns, and their columns have the same types).  Return the result of the union operation.  Assume set semantics, that is, duplicates should be removed. "
      ]
    },
    {
      "cell_type": "code",
      "execution_count": null,
      "metadata": {
        "id": "EiUmDaHZXOch",
        "tags": [],
        "colab": {
          "base_uri": "https://localhost:8080/",
          "height": 300
        },
        "outputId": "5768a4d7-657f-48cf-b890-647d664df40a"
      },
      "outputs": [
        {
          "output_type": "execute_result",
          "data": {
            "text/plain": [
              "     sid      sname  rating  age\n",
              "0   2701      Grace       8   25\n",
              "1  18869     Morgan       6   26\n",
              "2  63940       Anne       4   21\n",
              "3  21869       Jack       9   27\n",
              "4  17436     Dustin       3   22\n",
              "2  45433      Balon       7   39\n",
              "3  22689      Euron      10   35\n",
              "4  46535  Victarion       2   37"
            ],
            "text/html": [
              "\n",
              "  <div id=\"df-d209b380-931b-4254-be4f-3cae35ae1e6c\">\n",
              "    <div class=\"colab-df-container\">\n",
              "      <div>\n",
              "<style scoped>\n",
              "    .dataframe tbody tr th:only-of-type {\n",
              "        vertical-align: middle;\n",
              "    }\n",
              "\n",
              "    .dataframe tbody tr th {\n",
              "        vertical-align: top;\n",
              "    }\n",
              "\n",
              "    .dataframe thead th {\n",
              "        text-align: right;\n",
              "    }\n",
              "</style>\n",
              "<table border=\"1\" class=\"dataframe\">\n",
              "  <thead>\n",
              "    <tr style=\"text-align: right;\">\n",
              "      <th></th>\n",
              "      <th>sid</th>\n",
              "      <th>sname</th>\n",
              "      <th>rating</th>\n",
              "      <th>age</th>\n",
              "    </tr>\n",
              "  </thead>\n",
              "  <tbody>\n",
              "    <tr>\n",
              "      <th>0</th>\n",
              "      <td>2701</td>\n",
              "      <td>Grace</td>\n",
              "      <td>8</td>\n",
              "      <td>25</td>\n",
              "    </tr>\n",
              "    <tr>\n",
              "      <th>1</th>\n",
              "      <td>18869</td>\n",
              "      <td>Morgan</td>\n",
              "      <td>6</td>\n",
              "      <td>26</td>\n",
              "    </tr>\n",
              "    <tr>\n",
              "      <th>2</th>\n",
              "      <td>63940</td>\n",
              "      <td>Anne</td>\n",
              "      <td>4</td>\n",
              "      <td>21</td>\n",
              "    </tr>\n",
              "    <tr>\n",
              "      <th>3</th>\n",
              "      <td>21869</td>\n",
              "      <td>Jack</td>\n",
              "      <td>9</td>\n",
              "      <td>27</td>\n",
              "    </tr>\n",
              "    <tr>\n",
              "      <th>4</th>\n",
              "      <td>17436</td>\n",
              "      <td>Dustin</td>\n",
              "      <td>3</td>\n",
              "      <td>22</td>\n",
              "    </tr>\n",
              "    <tr>\n",
              "      <th>2</th>\n",
              "      <td>45433</td>\n",
              "      <td>Balon</td>\n",
              "      <td>7</td>\n",
              "      <td>39</td>\n",
              "    </tr>\n",
              "    <tr>\n",
              "      <th>3</th>\n",
              "      <td>22689</td>\n",
              "      <td>Euron</td>\n",
              "      <td>10</td>\n",
              "      <td>35</td>\n",
              "    </tr>\n",
              "    <tr>\n",
              "      <th>4</th>\n",
              "      <td>46535</td>\n",
              "      <td>Victarion</td>\n",
              "      <td>2</td>\n",
              "      <td>37</td>\n",
              "    </tr>\n",
              "  </tbody>\n",
              "</table>\n",
              "</div>\n",
              "      <button class=\"colab-df-convert\" onclick=\"convertToInteractive('df-d209b380-931b-4254-be4f-3cae35ae1e6c')\"\n",
              "              title=\"Convert this dataframe to an interactive table.\"\n",
              "              style=\"display:none;\">\n",
              "        \n",
              "  <svg xmlns=\"http://www.w3.org/2000/svg\" height=\"24px\"viewBox=\"0 0 24 24\"\n",
              "       width=\"24px\">\n",
              "    <path d=\"M0 0h24v24H0V0z\" fill=\"none\"/>\n",
              "    <path d=\"M18.56 5.44l.94 2.06.94-2.06 2.06-.94-2.06-.94-.94-2.06-.94 2.06-2.06.94zm-11 1L8.5 8.5l.94-2.06 2.06-.94-2.06-.94L8.5 2.5l-.94 2.06-2.06.94zm10 10l.94 2.06.94-2.06 2.06-.94-2.06-.94-.94-2.06-.94 2.06-2.06.94z\"/><path d=\"M17.41 7.96l-1.37-1.37c-.4-.4-.92-.59-1.43-.59-.52 0-1.04.2-1.43.59L10.3 9.45l-7.72 7.72c-.78.78-.78 2.05 0 2.83L4 21.41c.39.39.9.59 1.41.59.51 0 1.02-.2 1.41-.59l7.78-7.78 2.81-2.81c.8-.78.8-2.07 0-2.86zM5.41 20L4 18.59l7.72-7.72 1.47 1.35L5.41 20z\"/>\n",
              "  </svg>\n",
              "      </button>\n",
              "      \n",
              "  <style>\n",
              "    .colab-df-container {\n",
              "      display:flex;\n",
              "      flex-wrap:wrap;\n",
              "      gap: 12px;\n",
              "    }\n",
              "\n",
              "    .colab-df-convert {\n",
              "      background-color: #E8F0FE;\n",
              "      border: none;\n",
              "      border-radius: 50%;\n",
              "      cursor: pointer;\n",
              "      display: none;\n",
              "      fill: #1967D2;\n",
              "      height: 32px;\n",
              "      padding: 0 0 0 0;\n",
              "      width: 32px;\n",
              "    }\n",
              "\n",
              "    .colab-df-convert:hover {\n",
              "      background-color: #E2EBFA;\n",
              "      box-shadow: 0px 1px 2px rgba(60, 64, 67, 0.3), 0px 1px 3px 1px rgba(60, 64, 67, 0.15);\n",
              "      fill: #174EA6;\n",
              "    }\n",
              "\n",
              "    [theme=dark] .colab-df-convert {\n",
              "      background-color: #3B4455;\n",
              "      fill: #D2E3FC;\n",
              "    }\n",
              "\n",
              "    [theme=dark] .colab-df-convert:hover {\n",
              "      background-color: #434B5C;\n",
              "      box-shadow: 0px 1px 3px 1px rgba(0, 0, 0, 0.15);\n",
              "      filter: drop-shadow(0px 1px 2px rgba(0, 0, 0, 0.3));\n",
              "      fill: #FFFFFF;\n",
              "    }\n",
              "  </style>\n",
              "\n",
              "      <script>\n",
              "        const buttonEl =\n",
              "          document.querySelector('#df-d209b380-931b-4254-be4f-3cae35ae1e6c button.colab-df-convert');\n",
              "        buttonEl.style.display =\n",
              "          google.colab.kernel.accessAllowed ? 'block' : 'none';\n",
              "\n",
              "        async function convertToInteractive(key) {\n",
              "          const element = document.querySelector('#df-d209b380-931b-4254-be4f-3cae35ae1e6c');\n",
              "          const dataTable =\n",
              "            await google.colab.kernel.invokeFunction('convertToInteractive',\n",
              "                                                     [key], {});\n",
              "          if (!dataTable) return;\n",
              "\n",
              "          const docLinkHtml = 'Like what you see? Visit the ' +\n",
              "            '<a target=\"_blank\" href=https://colab.research.google.com/notebooks/data_table.ipynb>data table notebook</a>'\n",
              "            + ' to learn more about interactive tables.';\n",
              "          element.innerHTML = '';\n",
              "          dataTable['output_type'] = 'display_data';\n",
              "          await google.colab.output.renderOutput(dataTable, element);\n",
              "          const docLink = document.createElement('div');\n",
              "          docLink.innerHTML = docLinkHtml;\n",
              "          element.appendChild(docLink);\n",
              "        }\n",
              "      </script>\n",
              "    </div>\n",
              "  </div>\n",
              "  "
            ]
          },
          "metadata": {},
          "execution_count": 110
        }
      ],
      "source": [
        "def union(df1, df2):     \n",
        "    return pd.concat([df1, df2]).drop_duplicates()\n",
        "\n",
        "df3 = union(young_sailors, salty_sailors)\n",
        "df3"
      ]
    },
    {
      "cell_type": "markdown",
      "metadata": {
        "id": "MZ1imIsqXOcm"
      },
      "source": [
        "The output for `union(young_sailors, salty_sailors)` should be:\n",
        "\n",
        "|   | sid   | sname    | rating | age |\n",
        "|---|-------|----------|--------|-----|\n",
        "| 0 | 2701  | Grace    | 8      | 25  |\n",
        "| 1 | 18869 | Morgan   | 6      | 26  | \n",
        "| 2 | 63940 | Anne     | 4      | 21  | \n",
        "| 3 | 21869 | Jack     | 9      | 27  | \n",
        "| 4 | 17436 | Dustin   | 3      | 22  | \n",
        "| 2 | 45433 | Balon    | 7      | 39  | \n",
        "| 3 | 22689 | Euron    | 10     | 35  | \n",
        "| 4 | 46535 | Victarion | 2     | 37  | \n"
      ]
    },
    {
      "cell_type": "code",
      "execution_count": null,
      "metadata": {
        "deletable": false,
        "editable": false,
        "colab": {
          "base_uri": "https://localhost:8080/",
          "height": 46
        },
        "id": "msTOcThhV7kh",
        "outputId": "d53410d6-ad08-4f5d-84ba-a599acf060b0"
      },
      "outputs": [
        {
          "output_type": "execute_result",
          "data": {
            "text/plain": [
              "q3 results: All test cases passed!"
            ],
            "text/html": [
              "<p><strong><pre style='display: inline;'>q3</pre></strong> passed! 🚀</p>"
            ]
          },
          "metadata": {},
          "execution_count": 111
        }
      ],
      "source": [
        "grader.check(\"q3\")"
      ]
    },
    {
      "cell_type": "markdown",
      "metadata": {
        "id": "I4wDTiYEXOcn"
      },
      "source": [
        "## Exercise 4: Intersection \n",
        "\n",
        "Write a function to perform the binary operation of Intersection."
      ]
    },
    {
      "cell_type": "code",
      "execution_count": null,
      "metadata": {
        "tags": [],
        "id": "5GkG0iVDV7kh"
      },
      "outputs": [],
      "source": [
        "def intersection(df1, df2):     \n",
        "    return pd.merge(df1, df2)\n",
        "\n",
        "df4 = intersection(young_sailors, salty_sailors)"
      ]
    },
    {
      "cell_type": "markdown",
      "metadata": {
        "id": "S2Od8GTHXOct"
      },
      "source": [
        "The output for `intersection(young_sailors, salty_sailors)` should be:\n",
        "\n",
        "|   | sid   | sname    | rating | age |\n",
        "|---|-------|----------|--------|-----|\n",
        "| 0 | 2701  | Grace    | 8      | 25  |\n",
        "| 1 | 17436 | Dustin   | 3      | 22  | \n"
      ]
    },
    {
      "cell_type": "code",
      "execution_count": null,
      "metadata": {
        "deletable": false,
        "editable": false,
        "colab": {
          "base_uri": "https://localhost:8080/",
          "height": 46
        },
        "id": "vb9BeSlsV7kh",
        "outputId": "020a88b5-822c-45b7-b09f-f6f4a76c55d2"
      },
      "outputs": [
        {
          "output_type": "execute_result",
          "data": {
            "text/plain": [
              "q4 results: All test cases passed!"
            ],
            "text/html": [
              "<p><strong><pre style='display: inline;'>q4</pre></strong> passed! 🎉</p>"
            ]
          },
          "metadata": {},
          "execution_count": 113
        }
      ],
      "source": [
        "grader.check(\"q4\")"
      ]
    },
    {
      "cell_type": "markdown",
      "metadata": {
        "id": "TZAy_3Z1XOct"
      },
      "source": [
        "## Exercise 5: Set Difference \n",
        "\n",
        "Write a function to perform the set difference operation.  This one is a bit harder.  You may want to convert rows of the dataframe to a tuple, if you are having trouble. Alternatively, you could consider using the `isin` method."
      ]
    },
    {
      "cell_type": "code",
      "execution_count": null,
      "metadata": {
        "id": "StVK1rtQXOcu",
        "tags": [],
        "colab": {
          "base_uri": "https://localhost:8080/",
          "height": 143
        },
        "outputId": "f7bf0ec7-731a-44b8-fc7c-9bd196bfadba"
      },
      "outputs": [
        {
          "output_type": "execute_result",
          "data": {
            "text/plain": [
              "     sid   sname  rating  age\n",
              "1  18869  Morgan       6   26\n",
              "2  63940    Anne       4   21\n",
              "3  21869    Jack       9   27"
            ],
            "text/html": [
              "\n",
              "  <div id=\"df-841733d4-0b27-4bf3-b679-f33285b95082\">\n",
              "    <div class=\"colab-df-container\">\n",
              "      <div>\n",
              "<style scoped>\n",
              "    .dataframe tbody tr th:only-of-type {\n",
              "        vertical-align: middle;\n",
              "    }\n",
              "\n",
              "    .dataframe tbody tr th {\n",
              "        vertical-align: top;\n",
              "    }\n",
              "\n",
              "    .dataframe thead th {\n",
              "        text-align: right;\n",
              "    }\n",
              "</style>\n",
              "<table border=\"1\" class=\"dataframe\">\n",
              "  <thead>\n",
              "    <tr style=\"text-align: right;\">\n",
              "      <th></th>\n",
              "      <th>sid</th>\n",
              "      <th>sname</th>\n",
              "      <th>rating</th>\n",
              "      <th>age</th>\n",
              "    </tr>\n",
              "  </thead>\n",
              "  <tbody>\n",
              "    <tr>\n",
              "      <th>1</th>\n",
              "      <td>18869</td>\n",
              "      <td>Morgan</td>\n",
              "      <td>6</td>\n",
              "      <td>26</td>\n",
              "    </tr>\n",
              "    <tr>\n",
              "      <th>2</th>\n",
              "      <td>63940</td>\n",
              "      <td>Anne</td>\n",
              "      <td>4</td>\n",
              "      <td>21</td>\n",
              "    </tr>\n",
              "    <tr>\n",
              "      <th>3</th>\n",
              "      <td>21869</td>\n",
              "      <td>Jack</td>\n",
              "      <td>9</td>\n",
              "      <td>27</td>\n",
              "    </tr>\n",
              "  </tbody>\n",
              "</table>\n",
              "</div>\n",
              "      <button class=\"colab-df-convert\" onclick=\"convertToInteractive('df-841733d4-0b27-4bf3-b679-f33285b95082')\"\n",
              "              title=\"Convert this dataframe to an interactive table.\"\n",
              "              style=\"display:none;\">\n",
              "        \n",
              "  <svg xmlns=\"http://www.w3.org/2000/svg\" height=\"24px\"viewBox=\"0 0 24 24\"\n",
              "       width=\"24px\">\n",
              "    <path d=\"M0 0h24v24H0V0z\" fill=\"none\"/>\n",
              "    <path d=\"M18.56 5.44l.94 2.06.94-2.06 2.06-.94-2.06-.94-.94-2.06-.94 2.06-2.06.94zm-11 1L8.5 8.5l.94-2.06 2.06-.94-2.06-.94L8.5 2.5l-.94 2.06-2.06.94zm10 10l.94 2.06.94-2.06 2.06-.94-2.06-.94-.94-2.06-.94 2.06-2.06.94z\"/><path d=\"M17.41 7.96l-1.37-1.37c-.4-.4-.92-.59-1.43-.59-.52 0-1.04.2-1.43.59L10.3 9.45l-7.72 7.72c-.78.78-.78 2.05 0 2.83L4 21.41c.39.39.9.59 1.41.59.51 0 1.02-.2 1.41-.59l7.78-7.78 2.81-2.81c.8-.78.8-2.07 0-2.86zM5.41 20L4 18.59l7.72-7.72 1.47 1.35L5.41 20z\"/>\n",
              "  </svg>\n",
              "      </button>\n",
              "      \n",
              "  <style>\n",
              "    .colab-df-container {\n",
              "      display:flex;\n",
              "      flex-wrap:wrap;\n",
              "      gap: 12px;\n",
              "    }\n",
              "\n",
              "    .colab-df-convert {\n",
              "      background-color: #E8F0FE;\n",
              "      border: none;\n",
              "      border-radius: 50%;\n",
              "      cursor: pointer;\n",
              "      display: none;\n",
              "      fill: #1967D2;\n",
              "      height: 32px;\n",
              "      padding: 0 0 0 0;\n",
              "      width: 32px;\n",
              "    }\n",
              "\n",
              "    .colab-df-convert:hover {\n",
              "      background-color: #E2EBFA;\n",
              "      box-shadow: 0px 1px 2px rgba(60, 64, 67, 0.3), 0px 1px 3px 1px rgba(60, 64, 67, 0.15);\n",
              "      fill: #174EA6;\n",
              "    }\n",
              "\n",
              "    [theme=dark] .colab-df-convert {\n",
              "      background-color: #3B4455;\n",
              "      fill: #D2E3FC;\n",
              "    }\n",
              "\n",
              "    [theme=dark] .colab-df-convert:hover {\n",
              "      background-color: #434B5C;\n",
              "      box-shadow: 0px 1px 3px 1px rgba(0, 0, 0, 0.15);\n",
              "      filter: drop-shadow(0px 1px 2px rgba(0, 0, 0, 0.3));\n",
              "      fill: #FFFFFF;\n",
              "    }\n",
              "  </style>\n",
              "\n",
              "      <script>\n",
              "        const buttonEl =\n",
              "          document.querySelector('#df-841733d4-0b27-4bf3-b679-f33285b95082 button.colab-df-convert');\n",
              "        buttonEl.style.display =\n",
              "          google.colab.kernel.accessAllowed ? 'block' : 'none';\n",
              "\n",
              "        async function convertToInteractive(key) {\n",
              "          const element = document.querySelector('#df-841733d4-0b27-4bf3-b679-f33285b95082');\n",
              "          const dataTable =\n",
              "            await google.colab.kernel.invokeFunction('convertToInteractive',\n",
              "                                                     [key], {});\n",
              "          if (!dataTable) return;\n",
              "\n",
              "          const docLinkHtml = 'Like what you see? Visit the ' +\n",
              "            '<a target=\"_blank\" href=https://colab.research.google.com/notebooks/data_table.ipynb>data table notebook</a>'\n",
              "            + ' to learn more about interactive tables.';\n",
              "          element.innerHTML = '';\n",
              "          dataTable['output_type'] = 'display_data';\n",
              "          await google.colab.output.renderOutput(dataTable, element);\n",
              "          const docLink = document.createElement('div');\n",
              "          docLink.innerHTML = docLinkHtml;\n",
              "          element.appendChild(docLink);\n",
              "        }\n",
              "      </script>\n",
              "    </div>\n",
              "  </div>\n",
              "  "
            ]
          },
          "metadata": {},
          "execution_count": 114
        }
      ],
      "source": [
        "def difference(df1, df2): \n",
        "    # Assume inputs df1 and df2 are same schema \n",
        "    # Make sure your returned DataFrame has the same data types as the \n",
        "    #  input DataFrames \n",
        "    # Make sure to not change the original data frames passed as \n",
        "    #  inputs\n",
        "    df = pd.concat([pd.merge(df1, df2, how=\"left\"), pd.merge(df1, df2, how=\"inner\")])\n",
        "    return df.drop_duplicates(keep=False)\n",
        "\n",
        "df5 = difference(young_sailors, salty_sailors)\n",
        "df5"
      ]
    },
    {
      "cell_type": "markdown",
      "metadata": {
        "id": "uq0kqv-rXOcz"
      },
      "source": [
        "The output for `difference(young_sailors, salty_sailors)` should be:\n",
        "\n",
        "|   | sid   | sname    | rating | age |\n",
        "|---|-------|----------|--------|-----|\n",
        "| 1 | 18869.0 | Morgan   | 6.0      | 26.0  | \n",
        "| 2 | 63940.0 | Anne     | 4.0      | 21.0  | \n",
        "| 3 | 21869.0 | Jack     | 9.0      | 27.0  | \n"
      ]
    },
    {
      "cell_type": "code",
      "execution_count": null,
      "metadata": {
        "deletable": false,
        "editable": false,
        "colab": {
          "base_uri": "https://localhost:8080/",
          "height": 46
        },
        "id": "5UHJ5MtbV7kh",
        "outputId": "c68cbade-67e1-42b0-8b83-385a2933bb89"
      },
      "outputs": [
        {
          "output_type": "execute_result",
          "data": {
            "text/plain": [
              "q5 results: All test cases passed!"
            ],
            "text/html": [
              "<p><strong><pre style='display: inline;'>q5</pre></strong> passed! 🎉</p>"
            ]
          },
          "metadata": {},
          "execution_count": 115
        }
      ],
      "source": [
        "grader.check(\"q5\")"
      ]
    },
    {
      "cell_type": "markdown",
      "metadata": {
        "id": "RAs4xPxaXOc0"
      },
      "source": [
        "## Exercise 6: Cross-product \n",
        "\n",
        "This one is also harder, so there is some code to start.  Think about how the new `tmp-key` column could be used ..."
      ]
    },
    {
      "cell_type": "code",
      "execution_count": null,
      "metadata": {
        "id": "sL6EgJAYXOc1",
        "tags": []
      },
      "outputs": [],
      "source": [
        "def cross_product(in1, in2):\n",
        "    # add a column \"tmp-key\" of zeros to df1 and df2 \n",
        "    in1 = pd.concat([in1, pd.Series(0, index=in1.index, name=\"tmp-key\")], axis=1)\n",
        "    in2 = pd.concat([in2, pd.Series(0, index=in2.index, name=\"tmp-key\")], axis=1)\n",
        "    # use Pandas merge functionality along with drop \n",
        "    # to compute outer product and remove extra column\n",
        "    return pd.merge(in1, in2, how=\"cross\").drop(['tmp-key_x', 'tmp-key_y'], axis =1)\n",
        "\n",
        "df6 = cross_product(young_sailors, salty_sailors)"
      ]
    },
    {
      "cell_type": "markdown",
      "metadata": {
        "id": "zzrH2pZvXOc6"
      },
      "source": [
        "The output of `cross_product(young_sailors, salty_sailors)` should be: \n",
        "\n",
        "|   | sid_x | sname_x  | rating_x | age_x | sid_y  | sname_y | rating_y | age_y |\n",
        "|---|-------|----------|--------|-----|-------|--------|-----|----|\n",
        "| 0 | 2701  | Grace    | 8      | 25  | 2701  | Grace  | 8   | 25 |\n",
        "| 1 | 2701  | Grace    | 8      | 25  | 17436 | Dustin | 3   | 22 |\n",
        "| 2 | 2701  | Grace    | 8      | 25  | 45433 | Balon  | 7   | 39 | \n",
        "| 3 | 2701  | Grace    | 8      | 25  | 22689 | Euron  | 10  | 35 |\n",
        "| 4 | 2701  | Grace    | 8      | 25  | 46535 | Victarion | 2   | 37 |\n",
        "| 5 | 18869 | Morgan   | 6      | 26  | 2701  | Grace  | 8   | 25 |\n",
        "|   | ...   | ...      | ...    | ... | ...   | ...    | ... | ... |\n",
        "\n",
        "There should be 25 entries."
      ]
    },
    {
      "cell_type": "code",
      "execution_count": null,
      "metadata": {
        "deletable": false,
        "editable": false,
        "colab": {
          "base_uri": "https://localhost:8080/",
          "height": 46
        },
        "id": "ucDRD91eV7ki",
        "outputId": "0aa5d8eb-1fd5-4af1-fdae-6d494555717f"
      },
      "outputs": [
        {
          "output_type": "execute_result",
          "data": {
            "text/plain": [
              "q6 results: All test cases passed!"
            ],
            "text/html": [
              "<p><strong><pre style='display: inline;'>q6</pre></strong> passed! 🙌</p>"
            ]
          },
          "metadata": {},
          "execution_count": 117
        }
      ],
      "source": [
        "grader.check(\"q6\")"
      ]
    },
    {
      "cell_type": "markdown",
      "metadata": {
        "id": "DyhtL1eTXOc6"
      },
      "source": [
        "## Exercise 7: Theta-Join \n",
        "\n",
        "Complete a function for theta-join.  Consider using two other relational operators. "
      ]
    },
    {
      "cell_type": "code",
      "execution_count": null,
      "metadata": {
        "id": "i_HVtWQxXOc6",
        "tags": []
      },
      "outputs": [],
      "source": [
        "def theta_join(df1, df2, condition): \n",
        "  return select(pd.merge(df1, df2, how=\"cross\"), condition)\n",
        "df7 = theta_join(young_sailors, salty_sailors, lambda x: x[\"age_x\"] > x[\"age_y\"])"
      ]
    },
    {
      "cell_type": "markdown",
      "metadata": {
        "id": "gNJW5VzgXOc_"
      },
      "source": [
        "The output of `theta_join(young_sailors, salty_sailors, lambda x: x[\"age_x\"] > x[\"age_y\"])` should be: \n",
        "\n",
        "|   | sid_x | sname_x  | rating_x | age_x | sid_y  | sname_y | rating_y | age_y |\n",
        "|---|-------|----------|--------|-----|-------|--------|-----|----|\n",
        "| 0 | 2701  | Grace    | 8      | 25  | 17436 | Dustin | 3   | 22 |\n",
        "| 5 | 18869 | Morgan   | 6      | 26  | 2701  | Grace  | 8   | 25 |\n",
        "| 6 | 18869 | Morgan   | 6      | 26  | 17436 | Dustin | 3   | 22 | \n",
        "| 15| 21869 | Jack     | 9      | 27  | 2701  | Grace  | 8   | 25 |\n",
        "| 16| 21869 | Jack     | 9      | 27  | 17436 | Dustin | 3   | 22 |\n"
      ]
    },
    {
      "cell_type": "code",
      "execution_count": null,
      "metadata": {
        "deletable": false,
        "editable": false,
        "id": "6DV0x8NSV7ki",
        "colab": {
          "base_uri": "https://localhost:8080/",
          "height": 46
        },
        "outputId": "b268b04c-952f-4f73-eefd-a88f28474564"
      },
      "outputs": [
        {
          "output_type": "execute_result",
          "data": {
            "text/plain": [
              "q7 results: All test cases passed!"
            ],
            "text/html": [
              "<p><strong><pre style='display: inline;'>q7</pre></strong> passed! 🌈</p>"
            ]
          },
          "metadata": {},
          "execution_count": 119
        }
      ],
      "source": [
        "grader.check(\"q7\")"
      ]
    },
    {
      "cell_type": "markdown",
      "metadata": {
        "id": "J06RNjpeXOdA"
      },
      "source": [
        "## Exercise 8: Natural Join \n",
        "\n",
        "Implement a function to return the natural join.  Try to implement this using other relational operators."
      ]
    },
    {
      "cell_type": "code",
      "execution_count": null,
      "metadata": {
        "id": "aUdzbvLlXOdA",
        "tags": [],
        "colab": {
          "base_uri": "https://localhost:8080/"
        },
        "outputId": "dc07fe0d-ed30-4fd4-be4f-052828eeec4d"
      },
      "outputs": [
        {
          "output_type": "stream",
          "name": "stdout",
          "text": [
            "    sid_x   sname  rating  age  sid_y    bid  day\n",
            "12  18869  Morgan       6   26  18869  50041  3/2\n",
            "19  18869  Morgan       6   26  18869  41116  3/4\n",
            "26  63940    Anne       4   21  63940  54505  3/3\n",
            "30  21869    Jack       9   27  21869  41116  3/1\n",
            "34  21869    Jack       9   27  21869  58324  3/2\n",
            "38  21869    Jack       9   27  21869  50041  3/3\n",
            "45  17436  Dustin       3   22  17436  50041  3/3\n",
            "51  45433   Balon       7   39  45433  35168  3/1\n",
            "57  45433   Balon       7   39  45433  41116  3/3\n",
            "63  22689   Euron      10   35  22689  41116  3/2\n"
          ]
        }
      ],
      "source": [
        "def natural_join(df1, df2, attr):\n",
        "  df = df1.merge(df2, how='cross')\n",
        "  return df[df['sid_x'] == df['sid_y']]\n",
        "\n",
        "all_sailors = union(young_sailors, salty_sailors)\n",
        "df8 = natural_join(all_sailors, reservations, \"sid\")\n",
        "print(df8)"
      ]
    },
    {
      "cell_type": "markdown",
      "metadata": {
        "id": "2wg0m8atXOdI"
      },
      "source": [
        "The output of the natural join is: \n",
        "\n",
        "|   | sid_x |\tsname |\trating | age  | sid_y | bid | day |\n",
        "|---|-------|---------|--------|------|-------|-----|-----|\n",
        "| 12 |\t18869 |\tMorgan | 6 | 26 | 18869 | 50041 | 3/2 |\n",
        "| 19 |\t18869 |\tMorgan | 6 | 26 | 18869 | 41116 | 3/4 |\n",
        "| 26 |\t63940 |\tAnne | 4 | 21 |\t63940 |\t54505 |\t3/3 |\n",
        "| 30 |\t21869 |\tJack | 9 | 27 |\t21869 |\t41116 |\t3/1 |\n",
        "| 34 |\t21869 |\tJack | 9 | 27 |\t21869 |\t58324 |\t3/2 |\n",
        "| 38 |\t21869 |\tJack | 9 | 27 |\t21869 |\t50041 |\t3/3 |\n",
        "| 45 |\t17436 |\tDustin | 3 | 22 |\t17436 |\t50041 |\t3/3 |\n",
        "| 51 |\t45433 |\tBalon |\t7 |\t39 |\t45433 |\t35168 |\t3/1 |\n",
        "| 57 |\t45433 |\tBalon |\t7 |\t39 |\t45433 |\t41116 |\t3/3 |\n",
        "| 63 |\t22689 |\tEuron |\t10 | 35 |\t22689 |\t41116 |\t3/2 |"
      ]
    },
    {
      "cell_type": "code",
      "execution_count": null,
      "metadata": {
        "deletable": false,
        "editable": false,
        "id": "X6vFfR52V7ki",
        "colab": {
          "base_uri": "https://localhost:8080/",
          "height": 46
        },
        "outputId": "7624387d-0936-4635-e625-f7e9f0c05bf0"
      },
      "outputs": [
        {
          "output_type": "execute_result",
          "data": {
            "text/plain": [
              "q8 results: All test cases passed!"
            ],
            "text/html": [
              "<p><strong><pre style='display: inline;'>q8</pre></strong> passed! 🎉</p>"
            ]
          },
          "metadata": {},
          "execution_count": 121
        }
      ],
      "source": [
        "grader.check(\"q8\")"
      ]
    }
  ],
  "metadata": {
    "colab": {
      "collapsed_sections": [],
      "provenance": []
    },
    "kernelspec": {
      "display_name": "un5550f22",
      "language": "python",
      "name": "un5550f22"
    },
    "language_info": {
      "codemirror_mode": {
        "name": "ipython",
        "version": 3
      },
      "file_extension": ".py",
      "mimetype": "text/x-python",
      "name": "python",
      "nbconvert_exporter": "python",
      "pygments_lexer": "ipython3",
      "version": "3.7.11"
    },
    "otter": {
      "OK_FORMAT": true,
      "tests": {
        "q1": {
          "name": "q1",
          "points": 1,
          "suites": [
            {
              "cases": [
                {
                  "code": ">>> df1a.shape[0]==5 and df1a.shape[1]==2 \nTrue",
                  "hidden": false,
                  "locked": false
                },
                {
                  "code": ">>> all(df1a.columns == [\"sname\", \"age\"])\nTrue",
                  "hidden": false,
                  "locked": false
                },
                {
                  "code": ">>> df1a.iloc[1,1]==22 and df1a.iloc[3,0]=='Euron'\nTrue",
                  "hidden": false,
                  "locked": false
                },
                {
                  "code": ">>> df1b.shape[0]==5 and df1b.shape[1]==1\nTrue",
                  "hidden": false,
                  "locked": false
                },
                {
                  "code": ">>> all(df1b.columns=='color') and df1b.iloc[2,0]=='Silver'\nTrue",
                  "hidden": false,
                  "locked": false
                }
              ],
              "scored": true,
              "setup": "",
              "teardown": "",
              "type": "doctest"
            }
          ]
        },
        "q2": {
          "name": "q2",
          "points": 1,
          "suites": [
            {
              "cases": [
                {
                  "code": ">>> dfq2.shape[0]==2 and dfq2.shape[1]==4\nTrue",
                  "hidden": false,
                  "locked": false
                },
                {
                  "code": ">>> dfq2.iloc[1,3]==27 and dfq2.iloc[0,2]==8\nTrue",
                  "hidden": false,
                  "locked": false
                }
              ],
              "scored": true,
              "setup": "",
              "teardown": "",
              "type": "doctest"
            }
          ]
        },
        "q3": {
          "name": "q3",
          "points": 1,
          "suites": [
            {
              "cases": [
                {
                  "code": ">>> df3.shape[0]==8 and df3.shape[1]==4\nTrue",
                  "hidden": false,
                  "locked": false
                }
              ],
              "scored": true,
              "setup": "",
              "teardown": "",
              "type": "doctest"
            }
          ]
        },
        "q4": {
          "name": "q4",
          "points": 1,
          "suites": [
            {
              "cases": [
                {
                  "code": ">>> intersection(young_sailors, salty_sailors).shape == (2,4)\nTrue",
                  "hidden": false,
                  "locked": false
                }
              ],
              "scored": true,
              "setup": "",
              "teardown": "",
              "type": "doctest"
            }
          ]
        },
        "q5": {
          "name": "q5",
          "points": 2,
          "suites": [
            {
              "cases": [
                {
                  "code": ">>> df5.shape == (3,4)\nTrue",
                  "hidden": false,
                  "locked": false
                },
                {
                  "code": ">>> df5.iloc[2,:].to_list() == [21869, 'Jack', 9, 27]\nTrue",
                  "hidden": false,
                  "locked": false
                },
                {
                  "code": ">>> df5.dtypes[0] == 'int64'\nTrue",
                  "hidden": false,
                  "locked": false
                },
                {
                  "code": ">>> df5.dtypes[3] == 'int64'\nTrue",
                  "hidden": false,
                  "locked": false
                }
              ],
              "scored": true,
              "setup": "",
              "teardown": "",
              "type": "doctest"
            }
          ]
        },
        "q6": {
          "name": "q6",
          "points": 2,
          "suites": [
            {
              "cases": [
                {
                  "code": ">>> df6.shape == (25,8)\nTrue",
                  "hidden": false,
                  "locked": false
                },
                {
                  "code": ">>> df6.iloc[8,3:6].to_list() == [26, 22689, 'Euron']\nTrue",
                  "hidden": false,
                  "locked": false
                }
              ],
              "scored": true,
              "setup": "",
              "teardown": "",
              "type": "doctest"
            }
          ]
        },
        "q7": {
          "name": "q7",
          "points": 1,
          "suites": [
            {
              "cases": [
                {
                  "code": ">>> df7.shape == (5,8)\nTrue",
                  "hidden": false,
                  "locked": false
                },
                {
                  "code": ">>> df7.iloc[3,2:5].to_list() == [9, 27, 2701]\nTrue",
                  "hidden": false,
                  "locked": false
                }
              ],
              "scored": true,
              "setup": "",
              "teardown": "",
              "type": "doctest"
            }
          ]
        },
        "q8": {
          "name": "q8",
          "points": 1,
          "suites": [
            {
              "cases": [
                {
                  "code": ">>> df8.shape == (10,7)\nTrue",
                  "hidden": false,
                  "locked": false
                },
                {
                  "code": ">>> df8.iloc[5,1:4].to_list() == ['Jack', 9, 27]\nTrue",
                  "hidden": false,
                  "locked": false
                }
              ],
              "scored": true,
              "setup": "",
              "teardown": "",
              "type": "doctest"
            }
          ]
        }
      }
    }
  },
  "nbformat": 4,
  "nbformat_minor": 0
}