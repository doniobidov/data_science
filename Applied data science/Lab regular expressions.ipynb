{
  "cells": [
    {
      "cell_type": "markdown",
      "metadata": {
        "id": "1B_cuSD6ex3k"
      },
      "source": [
        "# Lab - Week 4\n",
        "\n",
        "\n",
        "In this lab, you will explore using the methods of getting data and regular expressions. "
      ]
    },
    {
      "cell_type": "markdown",
      "metadata": {
        "id": "dAiXzvm8OXme"
      },
      "source": [
        "### Autograder Setup\n",
        "\n",
        "The next code cell should be uncommented to run the autograder tests when using Colab/DeepNote. If you are using an environment with `otter-grader` already installed (your own machine, lab machines), then do not uncomment the code."
      ]
    },
    {
      "cell_type": "code",
      "execution_count": null,
      "metadata": {
        "colab": {
          "base_uri": "https://localhost:8080/"
        },
        "id": "d2e_Tcm2OXmf",
        "outputId": "135851d3-2dc9-4d20-c89e-aebe93c1f2dd"
      },
      "outputs": [
        {
          "output_type": "stream",
          "name": "stdout",
          "text": [
            "Looking in indexes: https://pypi.org/simple, https://us-python.pkg.dev/colab-wheels/public/simple/\n",
            "Requirement already satisfied: otter-grader in /usr/local/lib/python3.7/dist-packages (4.0.2)\n",
            "Requirement already satisfied: jinja2 in /usr/local/lib/python3.7/dist-packages (from otter-grader) (2.11.3)\n",
            "Requirement already satisfied: google-api-python-client in /usr/local/lib/python3.7/dist-packages (from otter-grader) (1.12.11)\n",
            "Requirement already satisfied: six in /usr/local/lib/python3.7/dist-packages (from otter-grader) (1.15.0)\n",
            "Requirement already satisfied: gspread in /usr/local/lib/python3.7/dist-packages (from otter-grader) (3.4.2)\n",
            "Requirement already satisfied: PyYAML in /usr/local/lib/python3.7/dist-packages (from otter-grader) (6.0)\n",
            "Requirement already satisfied: dill in /usr/local/lib/python3.7/dist-packages (from otter-grader) (0.3.5.1)\n",
            "Requirement already satisfied: google-auth-oauthlib in /usr/local/lib/python3.7/dist-packages (from otter-grader) (0.4.6)\n",
            "Requirement already satisfied: python-on-whales in /usr/local/lib/python3.7/dist-packages (from otter-grader) (0.52.0)\n",
            "Requirement already satisfied: jupytext in /usr/local/lib/python3.7/dist-packages (from otter-grader) (1.14.1)\n",
            "Requirement already satisfied: pandas in /usr/local/lib/python3.7/dist-packages (from otter-grader) (1.3.5)\n",
            "Requirement already satisfied: requests in /usr/local/lib/python3.7/dist-packages (from otter-grader) (2.23.0)\n",
            "Requirement already satisfied: click in /usr/local/lib/python3.7/dist-packages (from otter-grader) (7.1.2)\n",
            "Requirement already satisfied: fica>=0.2.0 in /usr/local/lib/python3.7/dist-packages (from otter-grader) (0.2.0)\n",
            "Requirement already satisfied: wrapt in /usr/local/lib/python3.7/dist-packages (from otter-grader) (1.14.1)\n",
            "Requirement already satisfied: nbformat in /usr/local/lib/python3.7/dist-packages (from otter-grader) (5.4.0)\n",
            "Requirement already satisfied: docutils in /usr/local/lib/python3.7/dist-packages (from fica>=0.2.0->otter-grader) (0.17.1)\n",
            "Requirement already satisfied: sphinx in /usr/local/lib/python3.7/dist-packages (from fica>=0.2.0->otter-grader) (1.8.6)\n",
            "Requirement already satisfied: google-auth-httplib2>=0.0.3 in /usr/local/lib/python3.7/dist-packages (from google-api-python-client->otter-grader) (0.0.4)\n",
            "Requirement already satisfied: google-api-core<3dev,>=1.21.0 in /usr/local/lib/python3.7/dist-packages (from google-api-python-client->otter-grader) (1.31.6)\n",
            "Requirement already satisfied: google-auth<3dev,>=1.16.0 in /usr/local/lib/python3.7/dist-packages (from google-api-python-client->otter-grader) (1.35.0)\n",
            "Requirement already satisfied: uritemplate<4dev,>=3.0.0 in /usr/local/lib/python3.7/dist-packages (from google-api-python-client->otter-grader) (3.0.1)\n",
            "Requirement already satisfied: httplib2<1dev,>=0.15.0 in /usr/local/lib/python3.7/dist-packages (from google-api-python-client->otter-grader) (0.17.4)\n",
            "Requirement already satisfied: setuptools>=40.3.0 in /usr/local/lib/python3.7/dist-packages (from google-api-core<3dev,>=1.21.0->google-api-python-client->otter-grader) (57.4.0)\n",
            "Requirement already satisfied: googleapis-common-protos<2.0dev,>=1.6.0 in /usr/local/lib/python3.7/dist-packages (from google-api-core<3dev,>=1.21.0->google-api-python-client->otter-grader) (1.56.4)\n",
            "Requirement already satisfied: protobuf<4.0.0dev,>=3.12.0 in /usr/local/lib/python3.7/dist-packages (from google-api-core<3dev,>=1.21.0->google-api-python-client->otter-grader) (3.17.3)\n",
            "Requirement already satisfied: pytz in /usr/local/lib/python3.7/dist-packages (from google-api-core<3dev,>=1.21.0->google-api-python-client->otter-grader) (2022.2.1)\n",
            "Requirement already satisfied: packaging>=14.3 in /usr/local/lib/python3.7/dist-packages (from google-api-core<3dev,>=1.21.0->google-api-python-client->otter-grader) (21.3)\n",
            "Requirement already satisfied: pyasn1-modules>=0.2.1 in /usr/local/lib/python3.7/dist-packages (from google-auth<3dev,>=1.16.0->google-api-python-client->otter-grader) (0.2.8)\n",
            "Requirement already satisfied: cachetools<5.0,>=2.0.0 in /usr/local/lib/python3.7/dist-packages (from google-auth<3dev,>=1.16.0->google-api-python-client->otter-grader) (4.2.4)\n",
            "Requirement already satisfied: rsa<5,>=3.1.4 in /usr/local/lib/python3.7/dist-packages (from google-auth<3dev,>=1.16.0->google-api-python-client->otter-grader) (4.9)\n",
            "Requirement already satisfied: pyparsing!=3.0.5,>=2.0.2 in /usr/local/lib/python3.7/dist-packages (from packaging>=14.3->google-api-core<3dev,>=1.21.0->google-api-python-client->otter-grader) (3.0.9)\n",
            "Requirement already satisfied: pyasn1<0.5.0,>=0.4.6 in /usr/local/lib/python3.7/dist-packages (from pyasn1-modules>=0.2.1->google-auth<3dev,>=1.16.0->google-api-python-client->otter-grader) (0.4.8)\n",
            "Requirement already satisfied: urllib3!=1.25.0,!=1.25.1,<1.26,>=1.21.1 in /usr/local/lib/python3.7/dist-packages (from requests->otter-grader) (1.24.3)\n",
            "Requirement already satisfied: idna<3,>=2.5 in /usr/local/lib/python3.7/dist-packages (from requests->otter-grader) (2.10)\n",
            "Requirement already satisfied: certifi>=2017.4.17 in /usr/local/lib/python3.7/dist-packages (from requests->otter-grader) (2022.6.15)\n",
            "Requirement already satisfied: chardet<4,>=3.0.2 in /usr/local/lib/python3.7/dist-packages (from requests->otter-grader) (3.0.4)\n",
            "Requirement already satisfied: requests-oauthlib>=0.7.0 in /usr/local/lib/python3.7/dist-packages (from google-auth-oauthlib->otter-grader) (1.3.1)\n",
            "Requirement already satisfied: oauthlib>=3.0.0 in /usr/local/lib/python3.7/dist-packages (from requests-oauthlib>=0.7.0->google-auth-oauthlib->otter-grader) (3.2.0)\n",
            "Requirement already satisfied: MarkupSafe>=0.23 in /usr/local/lib/python3.7/dist-packages (from jinja2->otter-grader) (2.0.1)\n",
            "Requirement already satisfied: mdit-py-plugins in /usr/local/lib/python3.7/dist-packages (from jupytext->otter-grader) (0.3.0)\n",
            "Requirement already satisfied: toml in /usr/local/lib/python3.7/dist-packages (from jupytext->otter-grader) (0.10.2)\n",
            "Requirement already satisfied: markdown-it-py<3.0.0,>=1.0.0 in /usr/local/lib/python3.7/dist-packages (from jupytext->otter-grader) (2.1.0)\n",
            "Requirement already satisfied: typing_extensions>=3.7.4 in /usr/local/lib/python3.7/dist-packages (from markdown-it-py<3.0.0,>=1.0.0->jupytext->otter-grader) (4.1.1)\n",
            "Requirement already satisfied: mdurl~=0.1 in /usr/local/lib/python3.7/dist-packages (from markdown-it-py<3.0.0,>=1.0.0->jupytext->otter-grader) (0.1.2)\n",
            "Requirement already satisfied: traitlets>=5.1 in /usr/local/lib/python3.7/dist-packages (from nbformat->otter-grader) (5.1.1)\n",
            "Requirement already satisfied: jupyter-core in /usr/local/lib/python3.7/dist-packages (from nbformat->otter-grader) (4.11.1)\n",
            "Requirement already satisfied: fastjsonschema in /usr/local/lib/python3.7/dist-packages (from nbformat->otter-grader) (2.16.1)\n",
            "Requirement already satisfied: jsonschema>=2.6 in /usr/local/lib/python3.7/dist-packages (from nbformat->otter-grader) (4.3.3)\n",
            "Requirement already satisfied: importlib-resources>=1.4.0 in /usr/local/lib/python3.7/dist-packages (from jsonschema>=2.6->nbformat->otter-grader) (5.9.0)\n",
            "Requirement already satisfied: importlib-metadata in /usr/local/lib/python3.7/dist-packages (from jsonschema>=2.6->nbformat->otter-grader) (4.12.0)\n",
            "Requirement already satisfied: pyrsistent!=0.17.0,!=0.17.1,!=0.17.2,>=0.14.0 in /usr/local/lib/python3.7/dist-packages (from jsonschema>=2.6->nbformat->otter-grader) (0.18.1)\n",
            "Requirement already satisfied: attrs>=17.4.0 in /usr/local/lib/python3.7/dist-packages (from jsonschema>=2.6->nbformat->otter-grader) (22.1.0)\n",
            "Requirement already satisfied: zipp>=3.1.0 in /usr/local/lib/python3.7/dist-packages (from importlib-resources>=1.4.0->jsonschema>=2.6->nbformat->otter-grader) (3.8.1)\n",
            "Requirement already satisfied: python-dateutil>=2.7.3 in /usr/local/lib/python3.7/dist-packages (from pandas->otter-grader) (2.8.2)\n",
            "Requirement already satisfied: numpy>=1.17.3 in /usr/local/lib/python3.7/dist-packages (from pandas->otter-grader) (1.21.6)\n",
            "Requirement already satisfied: tqdm in /usr/local/lib/python3.7/dist-packages (from python-on-whales->otter-grader) (4.64.1)\n",
            "Requirement already satisfied: pydantic in /usr/local/lib/python3.7/dist-packages (from python-on-whales->otter-grader) (1.9.2)\n",
            "Requirement already satisfied: typer>=0.4.1 in /usr/local/lib/python3.7/dist-packages (from python-on-whales->otter-grader) (0.4.2)\n",
            "Requirement already satisfied: snowballstemmer>=1.1 in /usr/local/lib/python3.7/dist-packages (from sphinx->fica>=0.2.0->otter-grader) (2.2.0)\n",
            "Requirement already satisfied: alabaster<0.8,>=0.7 in /usr/local/lib/python3.7/dist-packages (from sphinx->fica>=0.2.0->otter-grader) (0.7.12)\n",
            "Requirement already satisfied: babel!=2.0,>=1.3 in /usr/local/lib/python3.7/dist-packages (from sphinx->fica>=0.2.0->otter-grader) (2.10.3)\n",
            "Requirement already satisfied: Pygments>=2.0 in /usr/local/lib/python3.7/dist-packages (from sphinx->fica>=0.2.0->otter-grader) (2.6.1)\n",
            "Requirement already satisfied: imagesize in /usr/local/lib/python3.7/dist-packages (from sphinx->fica>=0.2.0->otter-grader) (1.4.1)\n",
            "Requirement already satisfied: sphinxcontrib-websupport in /usr/local/lib/python3.7/dist-packages (from sphinx->fica>=0.2.0->otter-grader) (1.2.4)\n",
            "Requirement already satisfied: sphinxcontrib-serializinghtml in /usr/local/lib/python3.7/dist-packages (from sphinxcontrib-websupport->sphinx->fica>=0.2.0->otter-grader) (1.1.5)\n"
          ]
        }
      ],
      "source": [
        "!pip install otter-grader"
      ]
    },
    {
      "cell_type": "markdown",
      "metadata": {
        "id": "NM96_J7oOXmh"
      },
      "source": [
        "Gather a short text document for use later in the lab. "
      ]
    },
    {
      "cell_type": "code",
      "execution_count": null,
      "metadata": {
        "colab": {
          "base_uri": "https://localhost:8080/"
        },
        "id": "vNfwYLT1OXmh",
        "outputId": "e52c8d1d-dcb5-4bb8-ecef-002968c1ea54"
      },
      "outputs": [
        {
          "output_type": "stream",
          "name": "stdout",
          "text": [
            "--2022-09-27 04:08:05--  https://pages.mtu.edu/~lebrown/un5550-f22/labs/lab4/lab4.files.zip\n",
            "Resolving pages.mtu.edu (pages.mtu.edu)... 141.219.70.232\n",
            "Connecting to pages.mtu.edu (pages.mtu.edu)|141.219.70.232|:443... connected.\n",
            "HTTP request sent, awaiting response... 200 OK\n",
            "Length: 3074 (3.0K) [application/zip]\n",
            "Saving to: ‘lab4.files.zip.3’\n",
            "\n",
            "\rlab4.files.zip.3      0%[                    ]       0  --.-KB/s               \rlab4.files.zip.3    100%[===================>]   3.00K  --.-KB/s    in 0s      \n",
            "\n",
            "2022-09-27 04:08:05 (384 MB/s) - ‘lab4.files.zip.3’ saved [3074/3074]\n",
            "\n",
            "Archive:  lab4.files.zip\n",
            "replace rime-intro.txt? [y]es, [n]o, [A]ll, [N]one, [r]ename: n\n",
            "replace tests/q5.py? [y]es, [n]o, [A]ll, [N]one, [r]ename: n\n",
            "replace tests/q4.py? [y]es, [n]o, [A]ll, [N]one, [r]ename: n\n",
            "replace tests/q3.py? [y]es, [n]o, [A]ll, [N]one, [r]ename: n\n",
            "replace tests/q6.py? [y]es, [n]o, [A]ll, [N]one, [r]ename: n\n",
            "replace tests/q2.py? [y]es, [n]o, [A]ll, [N]one, [r]ename: n\n"
          ]
        }
      ],
      "source": [
        "!wget https://pages.mtu.edu/~lebrown/un5550-f22/labs/lab4/lab4.files.zip\n",
        "!unzip lab4.files.zip "
      ]
    },
    {
      "cell_type": "markdown",
      "metadata": {
        "id": "L3yIMlggOXmi"
      },
      "source": [
        "**COMMENT out these past two cells before submitting**"
      ]
    },
    {
      "cell_type": "markdown",
      "metadata": {
        "id": "v4DJOtMbOXmj"
      },
      "source": [
        "### Lab Setup"
      ]
    },
    {
      "cell_type": "code",
      "execution_count": null,
      "metadata": {
        "id": "UhHy3diEeu5v"
      },
      "outputs": [],
      "source": [
        "import re\n",
        "\n",
        "import otter\n",
        "grader = otter.Notebook()"
      ]
    },
    {
      "cell_type": "markdown",
      "metadata": {
        "id": "M7DwRtuQgmEv"
      },
      "source": [
        "# Python Regular Expressions\n",
        "\n",
        "The Python `re` module provides many functions for regular expression support.  Here you will learn more about the different functions and complete exercises to practice their use. "
      ]
    },
    {
      "cell_type": "markdown",
      "metadata": {
        "id": "GuO1Fcv3pJFe"
      },
      "source": [
        "## `re.match` \n",
        "\n",
        "The `match(pattern, string)` function is used to check a pattern against some text.  It only tries to find the pattern in the beginning of the text.  \n",
        "\n",
        "`re.match` Documentation:  https://docs.python.org/3.7/library/re.html#re.match\n",
        "\n",
        "\n",
        "*Reminder* the 'r' at the start of the pattern, indicates that it is a \"raw\" string which passes through backslashes (handy for regular expresssions)."
      ]
    },
    {
      "cell_type": "markdown",
      "metadata": {
        "id": "Xr3ffV3Gs4sp"
      },
      "source": [
        "### Example"
      ]
    },
    {
      "cell_type": "code",
      "execution_count": null,
      "metadata": {
        "id": "l2qbAH3IsNWC",
        "colab": {
          "base_uri": "https://localhost:8080/"
        },
        "outputId": "35abd2eb-10c8-4f85-8fdf-d7ea7d0986ac"
      },
      "outputs": [
        {
          "output_type": "stream",
          "name": "stdout",
          "text": [
            "found  Regular\n",
            "did not find\n"
          ]
        }
      ],
      "source": [
        "tmpStr1 = 'Regular expressions are great'\n",
        "tmpStr2 = 'It is fun learning about regular expressions'\n",
        "match = re.match(r'[Rr]egular', tmpStr1)\n",
        "if match: \n",
        "    print('found ', match.group()) \n",
        "else: \n",
        "    print(\"did not find\")\n",
        "\n",
        "match = re.match(r'[Rr]egular', tmpStr2)\n",
        "if match: \n",
        "    print('found ', match.group()) \n",
        "else: \n",
        "    print(\"did not find\")"
      ]
    },
    {
      "cell_type": "markdown",
      "metadata": {
        "id": "YF0GmxwJg8dJ"
      },
      "source": [
        "## `re.search`\n",
        "\n",
        "The `re.search(pat, str)` function takes two main arguments: `pat` a regular expression pattern and a `str` string.  The method searches for that first occurence of the pattern within the string.  If sucessful, `search()` returns a match object; otherwise it returns None. \n",
        "\n",
        "`re.search()` Documentation: https://docs.python.org/3.7/library/re.html#re.search"
      ]
    },
    {
      "cell_type": "markdown",
      "metadata": {
        "id": "6m30_qajs6uY"
      },
      "source": [
        "### Example"
      ]
    },
    {
      "cell_type": "code",
      "execution_count": null,
      "metadata": {
        "id": "RhzMRUT9sr18",
        "colab": {
          "base_uri": "https://localhost:8080/"
        },
        "outputId": "4ff330c2-94d4-460f-f4ae-417bc2f278c6"
      },
      "outputs": [
        {
          "output_type": "stream",
          "name": "stdout",
          "text": [
            "found  Regular\n",
            "found  regular\n"
          ]
        }
      ],
      "source": [
        "match = re.search(r'[Rr]egular', tmpStr1)\n",
        "if match: \n",
        "    print('found ', match.group()) \n",
        "else: \n",
        "    print(\"did not find\")\n",
        "\n",
        "match = re.search(r'[Rr]egular', tmpStr2)\n",
        "if match: \n",
        "    print('found ', match.group()) \n",
        "else: \n",
        "    print(\"did not find\")"
      ]
    },
    {
      "cell_type": "markdown",
      "metadata": {
        "id": "LaaeBIausv6H"
      },
      "source": [
        "### Example"
      ]
    },
    {
      "cell_type": "code",
      "execution_count": null,
      "metadata": {
        "id": "uSltHybRfpj4",
        "colab": {
          "base_uri": "https://localhost:8080/"
        },
        "outputId": "5c36be7b-df71-49b3-8530-57028c4c2e7a"
      },
      "outputs": [
        {
          "output_type": "stream",
          "name": "stdout",
          "text": [
            "found  cat, Fido\n"
          ]
        }
      ],
      "source": [
        "tmpStr1 = 'I have a cat, Fido'\n",
        "tmpStr2 = 'I have a cat, Felix'\n",
        "tmpStr3 = 'I have a cat, It'\n",
        "match = re.search(r'cat,\\s\\w\\w\\w\\w', tmpStr1)\n",
        "if match: \n",
        "    print('found ', match.group()) \n",
        "else: \n",
        "    print(\"did not find\")"
      ]
    },
    {
      "cell_type": "markdown",
      "metadata": {
        "id": "Ct9XkyFEiisY"
      },
      "source": [
        "Try running the expression above on the three test strings. \n",
        " "
      ]
    },
    {
      "cell_type": "markdown",
      "metadata": {
        "id": "0uZed0OpjQXk"
      },
      "source": [
        "<!-- BEGIN QUESTION -->\n",
        "\n",
        "## Exercise 1 - Properties of search\n",
        "\n",
        "Examine the following search uses of the search function."
      ]
    },
    {
      "cell_type": "code",
      "execution_count": null,
      "metadata": {
        "id": "YWwyrNM6iLJT",
        "colab": {
          "base_uri": "https://localhost:8080/"
        },
        "outputId": "4706d62b-22a5-41a4-ef3d-2232e3e886a8"
      },
      "outputs": [
        {
          "output_type": "stream",
          "name": "stdout",
          "text": [
            "found:  baa\n",
            "found:  baa2\n"
          ]
        }
      ],
      "source": [
        "tmpStr1 = 'baa baaa black sheep'\n",
        "match = re.search(r'ba+', tmpStr1)\n",
        "if match: \n",
        "    print('found: ', match.group()) \n",
        "else: \n",
        "    print(\"did not find\")\n",
        "\n",
        "tmpStr2 = 'baa2 baaaa4 baaa3'\n",
        "match = re.search(r'ba+\\d', tmpStr2)\n",
        "if match: \n",
        "    print('found: ', match.group()) \n",
        "else: \n",
        "    print(\"did not find\")"
      ]
    },
    {
      "cell_type": "markdown",
      "metadata": {
        "id": "YfxjMgVdkN-w"
      },
      "source": [
        "**Q** Which of the \"baa\" words is returned in tmpStr2?  Will the function return the leftmost or rightmost occurance in a string? "
      ]
    },
    {
      "cell_type": "markdown",
      "metadata": {
        "id": "z6nsx550OXmu"
      },
      "source": [
        "**ANS**   \n",
        "It is finding the leftmost string baa2.  The search function returns the leftmost occerance"
      ]
    },
    {
      "cell_type": "markdown",
      "metadata": {
        "id": "lMMzKxLYkhSg"
      },
      "source": [
        "<!-- END QUESTION -->\n",
        "\n",
        "### Example - Anchors\n",
        "\n",
        "The exception to your answer above is if the pattern specifies anchors to find a match at the beginning `^` or end `$` of a string. "
      ]
    },
    {
      "cell_type": "code",
      "execution_count": null,
      "metadata": {
        "id": "ADkYpSJ8j8y5",
        "colab": {
          "base_uri": "https://localhost:8080/"
        },
        "outputId": "14004978-3224-4a90-ef9d-2092ff4d30dc"
      },
      "outputs": [
        {
          "output_type": "stream",
          "name": "stdout",
          "text": [
            "found:  foobar1\n",
            "found:  foobar3\n"
          ]
        }
      ],
      "source": [
        "tmpStr1 = 'foobar1 foobar2 foobar3'\n",
        "match = re.search(r'^f\\w+\\d', tmpStr1)\n",
        "if match: \n",
        "    print('found: ', match.group()) \n",
        "else: \n",
        "    print(\"did not find\")\n",
        "\n",
        "match = re.search(r'f\\w+\\d$', tmpStr1)\n",
        "if match: \n",
        "    print('found: ', match.group()) \n",
        "else: \n",
        "    print(\"did not find\")"
      ]
    },
    {
      "cell_type": "markdown",
      "metadata": {
        "id": "UczkZSAGtDC6"
      },
      "source": [
        "## Exercise 2 - Create a pattern \n",
        "\n",
        "Create a regular expression pattern that matches all the positive examples below, but none of the negative examples.  You can not simply list the positives strings \"or\"ed together. \n",
        "\n",
        "| Positive | Negative | \n",
        "|----------|----------|\n",
        "| pit      | pt       | \n",
        "| spot     | Pot      |\n",
        "| spate    | peat     | \n",
        "| slap two | part     | \n",
        "| respite  | SLIP ten |"
      ]
    },
    {
      "cell_type": "code",
      "execution_count": null,
      "metadata": {
        "id": "CB2BbfJjn1Fk",
        "tags": [],
        "colab": {
          "base_uri": "https://localhost:8080/"
        },
        "outputId": "0ef6c59e-714b-461b-b043-9a6ab1f30c3d"
      },
      "outputs": [
        {
          "output_type": "stream",
          "name": "stdout",
          "text": [
            "Positive Cases: \n",
            "\n",
            "      pit: found\n",
            "     spot: found\n",
            "    spate: found\n",
            " slap two: found\n",
            "  respite: found\n",
            "\n",
            "Negative Cases: \n",
            "\n",
            "       pt: not found\n",
            "      Pot: not found\n",
            "     peat: not found\n",
            "     part: not found\n",
            " SLIP ten: not found\n"
          ]
        }
      ],
      "source": [
        "cases = ['pit', 'spot', 'spate', 'slap two', 'respite', 'pt', 'Pot', 'peat', \n",
        "         'part', 'SLIP ten']\n",
        "positive, negative = [], []\n",
        "pat = r'p.{1}t'\n",
        "print('Positive Cases: \\n')\n",
        "for ex in cases: \n",
        "    match = re.search(pat, ex)\n",
        "    if ex==\"pt\": \n",
        "        print(\"\\nNegative Cases: \\n\")\n",
        "    if match: \n",
        "        print(\"%9s: found\" % ex)\n",
        "        positive.append(ex)\n",
        "    else: \n",
        "        print(\"%9s: not found\" % ex)\n",
        "        negative.append(ex)"
      ]
    },
    {
      "cell_type": "code",
      "execution_count": null,
      "metadata": {
        "deletable": false,
        "editable": false,
        "colab": {
          "base_uri": "https://localhost:8080/",
          "height": 46
        },
        "id": "2jNSvg1AOXmw",
        "outputId": "061bbe78-7e96-41fa-bc2c-bb03cf6d95bb"
      },
      "outputs": [
        {
          "output_type": "execute_result",
          "data": {
            "text/plain": [
              "q2 results: All test cases passed!"
            ],
            "text/html": [
              "<p><strong><pre style='display: inline;'>q2</pre></strong> passed!</p>"
            ]
          },
          "metadata": {},
          "execution_count": 160
        }
      ],
      "source": [
        "grader.check(\"q2\")"
      ]
    },
    {
      "cell_type": "markdown",
      "metadata": {
        "id": "BmYgPEluukqj"
      },
      "source": [
        "## Exercise 3 - Create a Pattern \n",
        "\n",
        "Create a regular expression pattern that matches all the positive examples below, but none of the negative examples. You can not simply list the positives strings \"or\"ed together.\n",
        "\n",
        "| Positive | Negative | \n",
        "|----------|----------|\n",
        "| rap them | aleht    | \n",
        "| tapeth   | happy them | \n",
        "| apth     | tarpth | \n",
        "| wrap/try | Apt | \n",
        "| sap tray | peth | \n",
        "| 87ap9th  | tarreth | \n",
        "| apothecary | ddapdg | \n",
        "|      | apples | \n",
        "|      | shape the |"
      ]
    },
    {
      "cell_type": "code",
      "execution_count": null,
      "metadata": {
        "id": "Gb01BASkuWGA",
        "tags": [],
        "colab": {
          "base_uri": "https://localhost:8080/"
        },
        "outputId": "c4ae0c90-e15c-4576-ffae-cc04906b50f1"
      },
      "outputs": [
        {
          "output_type": "stream",
          "name": "stdout",
          "text": [
            "Positive Cases: \n",
            "\n",
            "   rap them: found\n",
            "     tapeth: found\n",
            "       apth: found\n",
            "   wrap/try: found\n",
            "   sap tray: found\n",
            "    87ap9th: found\n",
            " apothecary: found\n",
            "\n",
            "Negative Cases: \n",
            "\n",
            "      aleht: not found\n",
            " happy them: not found\n",
            "     tarpth: not found\n",
            "        Apt: not found\n",
            "       peth: not found\n",
            "    tarreth: not found\n",
            "     ddapdg: not found\n",
            "     apples: not found\n",
            "  shape the: not found\n"
          ]
        }
      ],
      "source": [
        "cases_E3 = ['rap them', 'tapeth', 'apth', 'wrap/try', 'sap tray', '87ap9th', 'apothecary',\n",
        "         'aleht', 'happy them', 'tarpth', 'Apt', 'peth', 'tarreth', 'ddapdg', \n",
        "         'apples', 'shape the']\n",
        "positive_E3, negative_E3 = [], []\n",
        "#pattern_E3 = r'[rtaws\\d][apr\\d][ptao][\\sehpt]'\n",
        "pattern_E3 = r'ap[^p].*[^ge]$'\n",
        "print('Positive Cases: \\n')\n",
        "for ex in cases_E3: \n",
        "    match = re.search(pattern_E3, ex)\n",
        "    if ex==\"aleht\": \n",
        "        print(\"\\nNegative Cases: \\n\")\n",
        "    if match: \n",
        "        print(\"%11s: found\" % ex)\n",
        "        positive_E3.append(ex)\n",
        "    else: \n",
        "        print(\"%11s: not found\" % ex)\n",
        "        negative_E3.append(ex)"
      ]
    },
    {
      "cell_type": "code",
      "execution_count": null,
      "metadata": {
        "deletable": false,
        "editable": false,
        "colab": {
          "base_uri": "https://localhost:8080/",
          "height": 46
        },
        "id": "9TK4Yx1ROXmx",
        "outputId": "6ff84ffd-3d20-41b1-aea0-c7a2bc00efe4"
      },
      "outputs": [
        {
          "output_type": "execute_result",
          "data": {
            "text/plain": [
              "q3 results: All test cases passed!"
            ],
            "text/html": [
              "<p><strong><pre style='display: inline;'>q3</pre></strong> passed!</p>"
            ]
          },
          "metadata": {},
          "execution_count": 162
        }
      ],
      "source": [
        "grader.check(\"q3\")"
      ]
    },
    {
      "cell_type": "markdown",
      "metadata": {
        "id": "U9QcD1a5xCh0"
      },
      "source": [
        "## Exercise 4 - Create a pattern \n",
        "\n",
        "Create a regular expression pattern that matches all the positive examples below, but none of the negative examples. You can not simply list the positives strings \"or\"ed together.\n",
        "\n",
        "| Positive | Negative | \n",
        "|----------|----------|\n",
        "| affgfking | fgok | \n",
        "| rafgkahe | a fgk | \n",
        "| bafghk | affgm | \n",
        "| baffgkit | afffhk | \n",
        "| affgfking | fgik | \n",
        "| rafgkahe | afg.K | \n",
        "| bafghk | aff gm | \n",
        "| baffg kit | afffhgk | \n",
        "\n",
        "\n",
        "\n",
        "\n",
        "\n",
        "\n",
        "\n"
      ]
    },
    {
      "cell_type": "code",
      "execution_count": null,
      "metadata": {
        "id": "BFMTgadnvag7",
        "tags": [],
        "colab": {
          "base_uri": "https://localhost:8080/"
        },
        "outputId": "5a17288c-5266-4309-e12a-53e2fc1c46e4"
      },
      "outputs": [
        {
          "output_type": "stream",
          "name": "stdout",
          "text": [
            "Positive Cases: \n",
            "\n",
            " affgfking: found\n",
            "  rafgkahe: found\n",
            "    bafghk: found\n",
            "  baffgkit: found\n",
            " affgfking: found\n",
            "  rafgkahe: found\n",
            "    bafghk: found\n",
            " baffg kit: found\n",
            "\n",
            "Negative Cases: \n",
            "\n",
            "      fgok: not found\n",
            "     a fgk: not found\n",
            "     affgm: not found\n",
            "    afffhk: not found\n",
            "      fgik: not found\n",
            "     afg.K: not found\n",
            "    aff gm: not found\n",
            "   afffhgk: not found\n"
          ]
        }
      ],
      "source": [
        "cases_E4 = ['affgfking', 'rafgkahe', 'bafghk', 'baffgkit', 'affgfking', 'rafgkahe', \n",
        "         'bafghk', 'baffg kit', 'fgok', 'a fgk', 'affgm', 'afffhk', 'fgik', \n",
        "         'afg.K', 'aff gm', 'afffhgk']\n",
        "positive_E4, negative_E4 = [], []   \n",
        "pattern_E4 = r'aff?[^f].*k'\n",
        "pattern_E4 = r'af{1,2}[^f].*k'\n",
        "print('Positive Cases: \\n')\n",
        "for ex in cases_E4: \n",
        "    match = re.search(pattern_E4, ex)\n",
        "    if ex=='fgok':\n",
        "        print(\"\\nNegative Cases: \\n\")\n",
        "    if match: \n",
        "        print(\"%10s: found\" % ex)\n",
        "        positive_E4.append(ex)\n",
        "    else: \n",
        "        print(\"%10s: not found\" % ex)\n",
        "        negative_E4.append(ex)"
      ]
    },
    {
      "cell_type": "code",
      "execution_count": null,
      "metadata": {
        "deletable": false,
        "editable": false,
        "colab": {
          "base_uri": "https://localhost:8080/",
          "height": 46
        },
        "id": "PTXWUcEvOXmy",
        "outputId": "a1457b0c-8557-4051-e72c-6927e5626551"
      },
      "outputs": [
        {
          "output_type": "execute_result",
          "data": {
            "text/plain": [
              "q4 results: All test cases passed!"
            ],
            "text/html": [
              "<p><strong><pre style='display: inline;'>q4</pre></strong> passed!</p>"
            ]
          },
          "metadata": {},
          "execution_count": 164
        }
      ],
      "source": [
        "grader.check(\"q4\")"
      ]
    },
    {
      "cell_type": "markdown",
      "metadata": {
        "id": "AgngjUwo1kTZ"
      },
      "source": [
        "### Example - Group Extraction \n",
        "\n",
        "The \"group\" part of regular expressions allows for part of the matching text to be selected out.  Let's say we want to extract an email from a string, but in addition to finding the email we want to extract the username and host separately, e.g., to pull out a MTU ISO login. \n",
        "\n",
        "The parenthesis in the pattern are used to identify the \"groups\" inside the text.  "
      ]
    },
    {
      "cell_type": "code",
      "execution_count": null,
      "metadata": {
        "id": "qgkc2Qjy2HDo",
        "colab": {
          "base_uri": "https://localhost:8080/"
        },
        "outputId": "f641abbb-9439-4a12-94bb-0fefdc9bebff"
      },
      "outputs": [
        {
          "output_type": "stream",
          "name": "stdout",
          "text": [
            "Email:     jdoe@mtu.edu\n",
            "username:  jdoe\n",
            "hostname:  mtu.edu\n"
          ]
        }
      ],
      "source": [
        "tempStr = 'send an email to John, jdoe@mtu.edu, by tomorrow'\n",
        "match = re.search('([\\w]+)@([\\w.]+)', tempStr)\n",
        "if match: \n",
        "    print(\"Email:    \", match.group())\n",
        "    print(\"username: \", match.group(1))\n",
        "    print(\"hostname: \", match.group(2))\n",
        "else: \n",
        "    print(\"no match\")"
      ]
    },
    {
      "cell_type": "markdown",
      "metadata": {
        "id": "q1oQSgEI3VPk"
      },
      "source": [
        "## Exercise 5 - Groups\n",
        "\n",
        "There are discussions on what is the best regular expression pattern to match emails (e.g, used to verify emails in forms).  But, let's think about how to extend the pattern above to handle the following cases: \n",
        "\n",
        "* usernames, can have both characters and numbers and underscores, but will not start with a number, e.g, jdoe15@mtu.edu, sherlock24@gmail.com, tom_brady@gmail.com \n",
        "* an email may have task-specific email address (for example, google allows this), where you can add additional identifiers after your username, e.g., harrypotter+news@gmail.com or jonstark+dragons@gmail.com.  Make sure you can separate out a username from the tasks. \n",
        "    * \"harrypotter+news@gmail.com\" has username \"harrypotter\" and task \"news\"\n",
        "\n"
      ]
    },
    {
      "cell_type": "code",
      "execution_count": null,
      "metadata": {
        "id": "rDJkeftr5AbE",
        "tags": [],
        "colab": {
          "base_uri": "https://localhost:8080/"
        },
        "outputId": "41e9f751-be50-4c7a-f32a-583b52c63a41"
      },
      "outputs": [
        {
          "output_type": "stream",
          "name": "stdout",
          "text": [
            "Email:  jdoe@gmail.com username:  jdoe hostname:  \n",
            "Email:  sherlock24@gmail.com username:  sherlock24 hostname:  \n",
            "Email:  tom_brady@gmail.com username:  tom_brady hostname:  \n",
            "Email:  harrypotter+news@gmail.com username:  harrypotter hostname:  news\n",
            "Email:  jonstark+dragons@gmail.com username:  jonstark hostname:  dragons\n",
            "Email:  juliet_capulet+poison@gmail.com username:  juliet_capulet hostname:  poison\n",
            "Email:  Charles_Dickons@yahoo.com username:  Charles_Dickons hostname:  \n",
            "Email:  AnakinSkywalker@hotmail.com username:  AnakinSkywalker hostname:  \n"
          ]
        }
      ],
      "source": [
        "cases_E5 = ['jdoe@gmail.com', 'sherlock24@gmail.com', 'tom_brady@gmail.com', \n",
        "            'harrypotter+news@gmail.com', 'jonstark+dragons@gmail.com',\n",
        "            'juliet_capulet+poison@gmail.com', 'Charles_Dickons@yahoo.com', \n",
        "            'AnakinSkywalker@hotmail.com']\n",
        "email, username, hostname = [], [], []\n",
        "#pattern_E5 = r'([a-zA-Z]+.*)[\\+]?(\\w+)?@(\\[a-z])\\.com'\n",
        "pattern_E5 = r'([a-zA-Z][\\w]*)[+]?([\\w]*)?@([\\w.]*)'\n",
        "for ex in cases_E5: \n",
        "    match = re.search(pattern_E5, ex)\n",
        "    if match: \n",
        "        print(\"Email: \", match.group(), end='')\n",
        "        print(\" username: \", match.group(1), end='')\n",
        "        print(\" hostname: \", match.group(2))\n",
        "        email.append(match.group()); username.append(match.group(1))\n",
        "        hostname.append(match.group(2))\n",
        "    else: \n",
        "        print(\"no match\")"
      ]
    },
    {
      "cell_type": "code",
      "execution_count": null,
      "metadata": {
        "deletable": false,
        "editable": false,
        "colab": {
          "base_uri": "https://localhost:8080/",
          "height": 46
        },
        "id": "TwGCVoYHOXm0",
        "outputId": "2265be14-4768-4c4b-eabb-89ea2b7d6d70"
      },
      "outputs": [
        {
          "output_type": "execute_result",
          "data": {
            "text/plain": [
              "q5 results: All test cases passed!"
            ],
            "text/html": [
              "<p><strong><pre style='display: inline;'>q5</pre></strong> passed!</p>"
            ]
          },
          "metadata": {},
          "execution_count": 167
        }
      ],
      "source": [
        "grader.check(\"q5\")"
      ]
    },
    {
      "cell_type": "markdown",
      "metadata": {
        "id": "wUNtVeHx04lH"
      },
      "source": [
        "## `re.findall()` \n",
        "\n",
        "The `re.findall()` function returns all occurences (non-overlapping) of a pattern in a string. \n",
        "\n",
        "`re.findall()` Documentation: https://docs.python.org/3.7/library/re.html#re.findall"
      ]
    },
    {
      "cell_type": "markdown",
      "metadata": {
        "id": "mkHMmIqC6ZEU"
      },
      "source": [
        "### Example - findall with Files \n",
        "\n",
        "In the `nb.week4.part2.ipynb` notebook, we saw examples of looping over the lines of a file and running the regular expression. \n"
      ]
    },
    {
      "cell_type": "code",
      "execution_count": null,
      "metadata": {
        "id": "h9f5aJdyzi6T"
      },
      "outputs": [],
      "source": [
        "with open('rime-intro.txt', 'r') as f:\n",
        "  rime = f.readlines()\n",
        "f.close()"
      ]
    },
    {
      "cell_type": "code",
      "execution_count": null,
      "metadata": {
        "id": "eFuGbZ7V64EY",
        "colab": {
          "base_uri": "https://localhost:8080/"
        },
        "outputId": "3de3c4c9-41d8-491d-cf85-cc80ecaf421c"
      },
      "outputs": [
        {
          "output_type": "stream",
          "name": "stdout",
          "text": [
            "No match\n",
            "No match\n",
            "No match\n",
            "No match\n",
            "Ship\n",
            "No match\n",
            "No match\n",
            "No match\n",
            "No match\n",
            "No match\n",
            "No match\n",
            "No match\n",
            "No match\n",
            "No match\n",
            "No match\n",
            "No match\n"
          ]
        }
      ],
      "source": [
        "for elem in rime:\n",
        "    #print (elem)\n",
        "    m = re.search(r\"Ship\", elem)\n",
        "    if m:\n",
        "        print(m.group())\n",
        "    else:\n",
        "        print(\"No match\")"
      ]
    },
    {
      "cell_type": "markdown",
      "metadata": {
        "id": "egBUjPOS69MZ"
      },
      "source": [
        "Or, we could do this for each line within the file reader block. "
      ]
    },
    {
      "cell_type": "code",
      "execution_count": null,
      "metadata": {
        "id": "7n28LLJ-68J-",
        "colab": {
          "base_uri": "https://localhost:8080/"
        },
        "outputId": "f846e18f-76f3-42af-e9d5-28388b50de7d"
      },
      "outputs": [
        {
          "output_type": "stream",
          "name": "stdout",
          "text": [
            "No match\n",
            "No match\n",
            "No match\n",
            "No match\n",
            "Ship\n",
            "No match\n",
            "No match\n",
            "No match\n",
            "No match\n",
            "No match\n",
            "No match\n",
            "No match\n",
            "No match\n",
            "No match\n",
            "No match\n",
            "No match\n"
          ]
        }
      ],
      "source": [
        "with open('rime-intro.txt', 'r') as f:\n",
        "    for line in f:\n",
        "        m = re.search(r\"Ship\", line)\n",
        "        if m:\n",
        "            print(m.group())\n",
        "        else:\n",
        "            print(\"No match\")\n",
        "\n",
        "f.close()"
      ]
    },
    {
      "cell_type": "markdown",
      "metadata": {
        "id": "lUczDGQX7keg"
      },
      "source": [
        "Instead, we can let `findall()` do the iteration. "
      ]
    },
    {
      "cell_type": "code",
      "execution_count": null,
      "metadata": {
        "id": "OG2IltUW7h7i",
        "colab": {
          "base_uri": "https://localhost:8080/"
        },
        "outputId": "95a23efb-fc62-463d-90a8-f46263151ac2"
      },
      "outputs": [
        {
          "output_type": "execute_result",
          "data": {
            "text/plain": [
              "['Ship']"
            ]
          },
          "metadata": {},
          "execution_count": 171
        }
      ],
      "source": [
        "f = open(\"rime-intro.txt\", 'r')\n",
        "strs = re.findall(r'Ship', f.read())\n",
        "f.close()\n",
        "strs"
      ]
    },
    {
      "cell_type": "markdown",
      "metadata": {
        "id": "u6iVcJ2j8DqU"
      },
      "source": [
        "## `re.sub()` \n",
        "\n",
        "The function `re.sub(pat, replacement, str)` function takes three arguments: the regular expression pattern, a replacement string, and the string to search on.  The funciton searches for all instaces of the pattern in the passed in string and replaces them.  \n",
        "\n"
      ]
    },
    {
      "cell_type": "code",
      "execution_count": null,
      "metadata": {
        "id": "mSKm7O7Y7zJS",
        "colab": {
          "base_uri": "https://localhost:8080/"
        },
        "outputId": "f6dbc66e-a30f-4d38-bebe-446fd6cd3f69"
      },
      "outputs": [
        {
          "output_type": "stream",
          "name": "stdout",
          "text": [
            "Show the advantages of doing many examples\n"
          ]
        }
      ],
      "source": [
        "print(re.sub(r'benefits', 'advantages', 'Show the benefits of doing many examples'))"
      ]
    },
    {
      "cell_type": "markdown",
      "metadata": {
        "id": "BX5dIstA9H15"
      },
      "source": [
        "### Example - Substitution\n",
        "\n",
        "Replacement strings can make use of groups using `\\1` and `\\2`, to refer to `group(1)` and `group(2)`. \n",
        "\n",
        "For example, in the following text search for email addresses and replace the host with gmail.com. "
      ]
    },
    {
      "cell_type": "code",
      "execution_count": null,
      "metadata": {
        "id": "eY0xSuhu86jG",
        "colab": {
          "base_uri": "https://localhost:8080/"
        },
        "outputId": "960fcc7b-763e-46c0-c3cc-7b02d22497bc"
      },
      "outputs": [
        {
          "output_type": "stream",
          "name": "stdout",
          "text": [
            "testing abc@gmail.com, other words. punctuation doe@gmail.com blah\n"
          ]
        }
      ],
      "source": [
        "tempStr = 'testing abc@mtu.edu, other words. punctuation doe@foobar.org blah'\n",
        "print(re.sub(r'([\\w\\.-]+)@([\\w\\.-]+)', r'\\1@gmail.com', tempStr))"
      ]
    },
    {
      "cell_type": "markdown",
      "metadata": {
        "id": "ZAGHg6n5AP4w"
      },
      "source": [
        "## Exercise 6 - Tweets \n",
        "\n",
        "Later on in the course you will have a project getting data from Twitter and doing some analysis.  \n",
        "\n",
        "Let's think about working on an individual tweet (string). \n",
        "\n",
        "For the tweets, replace mentions (`@`) and hashtags (`#`), with the just the word itself (hashtags and mentions) without any spaces.  \n",
        "\n"
      ]
    },
    {
      "cell_type": "code",
      "execution_count": null,
      "metadata": {
        "id": "vudnT4yjOXm4"
      },
      "outputs": [],
      "source": [
        "tweet1 = \"\"\"See the #Keweenaw anew through the eyes of the little ones you love! From the \n",
        "@michigantech Parade of Nations today, to cider pressing at Central - there's so \n",
        "much to experience together!\n",
        "#PureMichigan\"\"\"\n",
        "\n",
        "tweet2 = \"\"\"A new three-year $594K NSF project will study geometric data structures \n",
        "    and their connections with other areas of theoretical computer science. Yakov \n",
        "    Nekrich, CS, is the PI. \n",
        "    http://blogs.mtu.edu/computing/2022/08/26/yakov-nekrich-cs-is-pi-of-new-594k-nsf/\n",
        "    @michigantech @NSF #michigantech #computerscience\"\"\""
      ]
    },
    {
      "cell_type": "code",
      "execution_count": null,
      "metadata": {
        "id": "yvA7QfQH9-Po",
        "tags": [],
        "colab": {
          "base_uri": "https://localhost:8080/"
        },
        "outputId": "49aad991-dc91-4a49-a80e-bb17334431a9"
      },
      "outputs": [
        {
          "output_type": "stream",
          "name": "stdout",
          "text": [
            "See the hashtagsKeweenaw anew through the eyes of the little ones you love! From the \n",
            "mentionsmichigantech Parade of Nations today, to cider pressing at Central - there's so \n",
            "much to experience together!\n",
            "hashtagsPureMichigan\n",
            "\n"
          ]
        }
      ],
      "source": [
        "# Print out the tweets removing the # and @ using regular expressions\n",
        "pattern = r'@(\\.*\\b)'\n",
        "m = re.search(pattern, tweet1)\n",
        "replaced_tweet1 = re.sub(pattern, r'mentions\\1', tweet1)\n",
        "pattern = r'#(\\.*\\b)'\n",
        "m = re.search(pattern, tweet1)\n",
        "replaced_tweet1 = re.sub(pattern, r'hashtags\\1', replaced_tweet1)\n",
        "print(replaced_tweet1)\n",
        "print(m.group(1))\n",
        "pattern = r'@(\\.*\\b)'\n",
        "m = re.search(pattern, tweet2)\n",
        "replaced_tweet2 = re.sub(pattern, r'mentions\\1', tweet2)\n",
        "pattern = r'#(\\.*\\b)'\n",
        "m = re.search(pattern, tweet2)\n",
        "replaced_tweet2 = re.sub(pattern, r'hashtags\\1', replaced_tweet2)\n"
      ]
    },
    {
      "cell_type": "code",
      "execution_count": null,
      "metadata": {
        "deletable": false,
        "editable": false,
        "colab": {
          "base_uri": "https://localhost:8080/",
          "height": 46
        },
        "id": "F4fnsqFlOXm5",
        "outputId": "8a916270-448c-4dd0-d2ac-98d052697e08"
      },
      "outputs": [
        {
          "output_type": "execute_result",
          "data": {
            "text/plain": [
              "q6 results: All test cases passed!"
            ],
            "text/html": [
              "<p><strong><pre style='display: inline;'>q6</pre></strong> passed!</p>"
            ]
          },
          "metadata": {},
          "execution_count": 176
        }
      ],
      "source": [
        "grader.check(\"q6\")"
      ]
    },
    {
      "cell_type": "markdown",
      "metadata": {
        "id": "UsQa_DMaGNML"
      },
      "source": [
        "We will see more examples of regular expressions next week with respect to web scraping. \n"
      ]
    }
  ],
  "metadata": {
    "colab": {
      "collapsed_sections": [],
      "provenance": [],
      "toc_visible": true
    },
    "kernelspec": {
      "display_name": "Python 3",
      "language": "python",
      "name": "python3"
    },
    "language_info": {
      "codemirror_mode": {
        "name": "ipython",
        "version": 3
      },
      "file_extension": ".py",
      "mimetype": "text/x-python",
      "name": "python",
      "nbconvert_exporter": "python",
      "pygments_lexer": "ipython3",
      "version": "3.7.4"
    },
    "otter": {
      "OK_FORMAT": true,
      "tests": {
        "q2": {
          "name": "q2",
          "points": 2,
          "suites": [
            {
              "cases": [
                {
                  "code": ">>> 'pit' in positive\nTrue",
                  "hidden": false,
                  "locked": false
                },
                {
                  "code": ">>> 'spot' in positive\nTrue",
                  "hidden": false,
                  "locked": false
                },
                {
                  "code": ">>> 'spate' in positive\nTrue",
                  "hidden": false,
                  "locked": false
                },
                {
                  "code": ">>> 'slap two' in positive\nTrue",
                  "hidden": false,
                  "locked": false
                },
                {
                  "code": ">>> 'respite' in positive\nTrue",
                  "hidden": false,
                  "locked": false
                },
                {
                  "code": ">>> 'pt' in negative\nTrue",
                  "hidden": false,
                  "locked": false
                },
                {
                  "code": ">>> 'Pot' in negative\nTrue",
                  "hidden": false,
                  "locked": false
                },
                {
                  "code": ">>> 'peat' in negative\nTrue",
                  "hidden": false,
                  "locked": false
                },
                {
                  "code": ">>> 'part' in negative\nTrue",
                  "hidden": false,
                  "locked": false
                },
                {
                  "code": ">>> 'SLIP ten' in negative\nTrue",
                  "hidden": false,
                  "locked": false
                }
              ],
              "scored": true,
              "setup": "",
              "teardown": "",
              "type": "doctest"
            }
          ]
        },
        "q3": {
          "name": "q3",
          "points": 2,
          "suites": [
            {
              "cases": [
                {
                  "code": ">>> 'rap them' in positive_E3\nTrue",
                  "hidden": false,
                  "locked": false
                },
                {
                  "code": ">>> 'tapeth' in positive_E3 and 'apth' in positive_E3\nTrue",
                  "hidden": false,
                  "locked": false
                },
                {
                  "code": ">>> 'wrap/try' in positive_E3 and 'sap tray' in positive_E3\nTrue",
                  "hidden": false,
                  "locked": false
                },
                {
                  "code": ">>> '87ap9th' in positive_E3\nTrue",
                  "hidden": false,
                  "locked": false
                },
                {
                  "code": ">>> 'apothecary' in positive_E3\nTrue",
                  "hidden": false,
                  "locked": false
                },
                {
                  "code": ">>> 'aleht' in negative_E3\nTrue",
                  "hidden": false,
                  "locked": false
                },
                {
                  "code": ">>> 'happy them' in negative_E3 and 'tarpth' in negative_E3\nTrue",
                  "hidden": false,
                  "locked": false
                },
                {
                  "code": ">>> 'Apt'in negative_E3 and 'peth' in negative_E3\nTrue",
                  "hidden": false,
                  "locked": false
                },
                {
                  "code": ">>> 'tarreth' in negative_E3 and 'ddapdg' in negative_E3\nTrue",
                  "hidden": false,
                  "locked": false
                },
                {
                  "code": ">>> 'apples' in negative_E3 and 'shape the' in negative_E3\nTrue",
                  "hidden": false,
                  "locked": false
                }
              ],
              "scored": true,
              "setup": "",
              "teardown": "",
              "type": "doctest"
            }
          ]
        },
        "q4": {
          "name": "q4",
          "points": 2,
          "suites": [
            {
              "cases": [
                {
                  "code": ">>> 'affgfking' in positive_E4 and 'rafgkahe' in positive_E4\nTrue",
                  "hidden": false,
                  "locked": false
                },
                {
                  "code": ">>> 'bafghk' in positive_E4 and 'baffgkit' in positive_E4\nTrue",
                  "hidden": false,
                  "locked": false
                },
                {
                  "code": ">>> 'affgfking' in positive_E4 and 'rafgkahe' in positive_E4\nTrue",
                  "hidden": false,
                  "locked": false
                },
                {
                  "code": ">>> 'bafghk' in positive_E4 and 'baffg kit' in positive_E4\nTrue",
                  "hidden": false,
                  "locked": false
                },
                {
                  "code": ">>> 'fgok'in negative_E4 and 'a fgk'in negative_E4\nTrue",
                  "hidden": false,
                  "locked": false
                },
                {
                  "code": ">>> 'affgm' in negative_E4 and 'afffhk' in negative_E4\nTrue",
                  "hidden": false,
                  "locked": false
                },
                {
                  "code": ">>> 'fgik' in negative_E4 and 'afg.K' in negative_E4\nTrue",
                  "hidden": false,
                  "locked": false
                },
                {
                  "code": ">>> 'aff gm' in negative_E4 and 'afffhgk' in negative_E4\nTrue",
                  "hidden": false,
                  "locked": false
                }
              ],
              "scored": true,
              "setup": "",
              "teardown": "",
              "type": "doctest"
            }
          ]
        },
        "q5": {
          "name": "q5",
          "points": 2,
          "suites": [
            {
              "cases": [
                {
                  "code": ">>> 'jdoe@gmail.com' in email and 'sherlock24@gmail.com' in email\nTrue",
                  "hidden": false,
                  "locked": false
                },
                {
                  "code": ">>> 'tom_brady@gmail.com' in email and 'harrypotter+news@gmail.com' in email\nTrue",
                  "hidden": false,
                  "locked": false
                },
                {
                  "code": ">>> 'jonstark+dragons@gmail.com' in email and 'juliet_capulet+poison@gmail.com' in email\nTrue",
                  "hidden": false,
                  "locked": false
                },
                {
                  "code": ">>> 'jdoe' in username and 'sherlock24' in username\nTrue",
                  "hidden": false,
                  "locked": false
                },
                {
                  "code": ">>> 'tom_brady' in username and 'harrypotter' in username\nTrue",
                  "hidden": false,
                  "locked": false
                },
                {
                  "code": ">>> 'jonstark' in username and 'juliet_capulet'in username\nTrue",
                  "hidden": false,
                  "locked": false
                }
              ],
              "scored": true,
              "setup": "",
              "teardown": "",
              "type": "doctest"
            }
          ]
        },
        "q6": {
          "name": "q6",
          "points": 1,
          "suites": [
            {
              "cases": [
                {
                  "code": ">>> replaced_tweet1 == \"See the hashtagsKeweenaw anew through the eyes of the little ones you love! From the \\nmentionsmichigantech Parade of Nations today, to cider pressing at Central - there's so \\nmuch to experience together!\\nhashtagsPureMichigan\"\nTrue",
                  "hidden": false,
                  "locked": false
                },
                {
                  "code": ">>> replaced_tweet2 == 'A new three-year $594K NSF project will study geometric data structures \\n    and their connections with other areas of theoretical computer science. Yakov \\n    Nekrich, CS, is the PI. \\n    http://blogs.mtu.edu/computing/2022/08/26/yakov-nekrich-cs-is-pi-of-new-594k-nsf/\\n    mentionsmichigantech mentionsNSF hashtagsmichigantech hashtagscomputerscience'\nTrue",
                  "hidden": false,
                  "locked": false
                }
              ],
              "scored": true,
              "setup": "",
              "teardown": "",
              "type": "doctest"
            }
          ]
        }
      }
    }
  },
  "nbformat": 4,
  "nbformat_minor": 0
}