{
  "cells": [
    {
      "cell_type": "markdown",
      "metadata": {
        "id": "5LxLUIA9mBRk"
      },
      "source": [
        "# Ch 4 - Inferential Statistics"
      ]
    },
    {
      "cell_type": "markdown",
      "metadata": {
        "id": "WGwt12I8mBRl"
      },
      "source": [
        "In Tuesday's class you had learnt about how to infer parameters of, and draw conclusions about a population using a statistic (number/property describing a characteristic of a sample). \n",
        "Further, there were examples of wine-data which provided information about:\n",
        "* Understanding sampling distributions\n",
        "* Method 1: Point estimates\n",
        "* Method 2: Confidence intervals\n",
        "* Method 3: Hypothesis testing\n",
        "\n",
        "In this lab session, we will look into the following\n",
        "* Exercise importing function for files of .txt, .xlsx, .csv \n",
        "* Demostration of Central Limit Theorem.\n",
        "* Confidence Intervals. \n",
        "* t-distributions and stats packages. \n",
        "\n",
        "In some point, we will make use of random numbers as data and/or wine-data. "
      ]
    },
    {
      "cell_type": "markdown",
      "metadata": {
        "id": "C7M3sKi9PuRm"
      },
      "source": [
        "## Autograder Setup\n",
        "The next code cell should be uncommented to run the autograder tests when using Colab/DeepNote.  If you are using an environment with `otter-grader` already installed (your own machine, lab machines), then do not uncomment the code. "
      ]
    },
    {
      "cell_type": "code",
      "execution_count": null,
      "metadata": {
        "colab": {
          "base_uri": "https://localhost:8080/"
        },
        "id": "rHiSNv3ePuRm",
        "outputId": "00b5d0c9-02f8-4e9c-8d99-647b1e493141"
      },
      "outputs": [
        {
          "output_type": "stream",
          "name": "stdout",
          "text": [
            "Looking in indexes: https://pypi.org/simple, https://us-python.pkg.dev/colab-wheels/public/simple/\n",
            "Collecting otter-grader\n",
            "  Downloading otter_grader-4.0.1-py3-none-any.whl (166 kB)\n",
            "\u001b[K     |████████████████████████████████| 166 kB 7.4 MB/s \n",
            "\u001b[?25hRequirement already satisfied: nbformat in /usr/local/lib/python3.7/dist-packages (from otter-grader) (5.4.0)\n",
            "Requirement already satisfied: gspread in /usr/local/lib/python3.7/dist-packages (from otter-grader) (3.4.2)\n",
            "Requirement already satisfied: google-auth-oauthlib in /usr/local/lib/python3.7/dist-packages (from otter-grader) (0.4.6)\n",
            "Requirement already satisfied: wrapt in /usr/local/lib/python3.7/dist-packages (from otter-grader) (1.14.1)\n",
            "Requirement already satisfied: requests in /usr/local/lib/python3.7/dist-packages (from otter-grader) (2.23.0)\n",
            "Requirement already satisfied: jinja2 in /usr/local/lib/python3.7/dist-packages (from otter-grader) (2.11.3)\n",
            "Collecting jupytext\n",
            "  Downloading jupytext-1.14.1-py3-none-any.whl (297 kB)\n",
            "\u001b[K     |████████████████████████████████| 297 kB 47.0 MB/s \n",
            "\u001b[?25hRequirement already satisfied: google-api-python-client in /usr/local/lib/python3.7/dist-packages (from otter-grader) (1.12.11)\n",
            "Requirement already satisfied: PyYAML in /usr/local/lib/python3.7/dist-packages (from otter-grader) (6.0)\n",
            "Requirement already satisfied: dill in /usr/local/lib/python3.7/dist-packages (from otter-grader) (0.3.5.1)\n",
            "Requirement already satisfied: pandas in /usr/local/lib/python3.7/dist-packages (from otter-grader) (1.3.5)\n",
            "Collecting python-on-whales\n",
            "  Downloading python_on_whales-0.52.0-py3-none-any.whl (97 kB)\n",
            "\u001b[K     |████████████████████████████████| 97 kB 6.4 MB/s \n",
            "\u001b[?25hRequirement already satisfied: six in /usr/local/lib/python3.7/dist-packages (from otter-grader) (1.15.0)\n",
            "Collecting fica>=0.2.0\n",
            "  Downloading fica-0.2.0-py3-none-any.whl (11 kB)\n",
            "Requirement already satisfied: click in /usr/local/lib/python3.7/dist-packages (from otter-grader) (7.1.2)\n",
            "Requirement already satisfied: sphinx in /usr/local/lib/python3.7/dist-packages (from fica>=0.2.0->otter-grader) (1.8.6)\n",
            "Requirement already satisfied: docutils in /usr/local/lib/python3.7/dist-packages (from fica>=0.2.0->otter-grader) (0.17.1)\n",
            "Requirement already satisfied: google-auth<3dev,>=1.16.0 in /usr/local/lib/python3.7/dist-packages (from google-api-python-client->otter-grader) (1.35.0)\n",
            "Requirement already satisfied: uritemplate<4dev,>=3.0.0 in /usr/local/lib/python3.7/dist-packages (from google-api-python-client->otter-grader) (3.0.1)\n",
            "Requirement already satisfied: google-api-core<3dev,>=1.21.0 in /usr/local/lib/python3.7/dist-packages (from google-api-python-client->otter-grader) (1.31.6)\n",
            "Requirement already satisfied: httplib2<1dev,>=0.15.0 in /usr/local/lib/python3.7/dist-packages (from google-api-python-client->otter-grader) (0.17.4)\n",
            "Requirement already satisfied: google-auth-httplib2>=0.0.3 in /usr/local/lib/python3.7/dist-packages (from google-api-python-client->otter-grader) (0.0.4)\n",
            "Requirement already satisfied: packaging>=14.3 in /usr/local/lib/python3.7/dist-packages (from google-api-core<3dev,>=1.21.0->google-api-python-client->otter-grader) (21.3)\n",
            "Requirement already satisfied: googleapis-common-protos<2.0dev,>=1.6.0 in /usr/local/lib/python3.7/dist-packages (from google-api-core<3dev,>=1.21.0->google-api-python-client->otter-grader) (1.56.4)\n",
            "Requirement already satisfied: setuptools>=40.3.0 in /usr/local/lib/python3.7/dist-packages (from google-api-core<3dev,>=1.21.0->google-api-python-client->otter-grader) (57.4.0)\n",
            "Requirement already satisfied: protobuf<4.0.0dev,>=3.12.0 in /usr/local/lib/python3.7/dist-packages (from google-api-core<3dev,>=1.21.0->google-api-python-client->otter-grader) (3.17.3)\n",
            "Requirement already satisfied: pytz in /usr/local/lib/python3.7/dist-packages (from google-api-core<3dev,>=1.21.0->google-api-python-client->otter-grader) (2022.2.1)\n",
            "Requirement already satisfied: cachetools<5.0,>=2.0.0 in /usr/local/lib/python3.7/dist-packages (from google-auth<3dev,>=1.16.0->google-api-python-client->otter-grader) (4.2.4)\n",
            "Requirement already satisfied: pyasn1-modules>=0.2.1 in /usr/local/lib/python3.7/dist-packages (from google-auth<3dev,>=1.16.0->google-api-python-client->otter-grader) (0.2.8)\n",
            "Requirement already satisfied: rsa<5,>=3.1.4 in /usr/local/lib/python3.7/dist-packages (from google-auth<3dev,>=1.16.0->google-api-python-client->otter-grader) (4.9)\n",
            "Requirement already satisfied: pyparsing!=3.0.5,>=2.0.2 in /usr/local/lib/python3.7/dist-packages (from packaging>=14.3->google-api-core<3dev,>=1.21.0->google-api-python-client->otter-grader) (3.0.9)\n",
            "Requirement already satisfied: pyasn1<0.5.0,>=0.4.6 in /usr/local/lib/python3.7/dist-packages (from pyasn1-modules>=0.2.1->google-auth<3dev,>=1.16.0->google-api-python-client->otter-grader) (0.4.8)\n",
            "Requirement already satisfied: certifi>=2017.4.17 in /usr/local/lib/python3.7/dist-packages (from requests->otter-grader) (2022.6.15)\n",
            "Requirement already satisfied: chardet<4,>=3.0.2 in /usr/local/lib/python3.7/dist-packages (from requests->otter-grader) (3.0.4)\n",
            "Requirement already satisfied: urllib3!=1.25.0,!=1.25.1,<1.26,>=1.21.1 in /usr/local/lib/python3.7/dist-packages (from requests->otter-grader) (1.24.3)\n",
            "Requirement already satisfied: idna<3,>=2.5 in /usr/local/lib/python3.7/dist-packages (from requests->otter-grader) (2.10)\n",
            "Requirement already satisfied: requests-oauthlib>=0.7.0 in /usr/local/lib/python3.7/dist-packages (from google-auth-oauthlib->otter-grader) (1.3.1)\n",
            "Requirement already satisfied: oauthlib>=3.0.0 in /usr/local/lib/python3.7/dist-packages (from requests-oauthlib>=0.7.0->google-auth-oauthlib->otter-grader) (3.2.0)\n",
            "Requirement already satisfied: MarkupSafe>=0.23 in /usr/local/lib/python3.7/dist-packages (from jinja2->otter-grader) (2.0.1)\n",
            "Collecting markdown-it-py<3.0.0,>=1.0.0\n",
            "  Downloading markdown_it_py-2.1.0-py3-none-any.whl (84 kB)\n",
            "\u001b[K     |████████████████████████████████| 84 kB 2.3 MB/s \n",
            "\u001b[?25hCollecting mdit-py-plugins\n",
            "  Downloading mdit_py_plugins-0.3.0-py3-none-any.whl (43 kB)\n",
            "\u001b[K     |████████████████████████████████| 43 kB 2.0 MB/s \n",
            "\u001b[?25hRequirement already satisfied: toml in /usr/local/lib/python3.7/dist-packages (from jupytext->otter-grader) (0.10.2)\n",
            "Collecting mdurl~=0.1\n",
            "  Downloading mdurl-0.1.2-py3-none-any.whl (10.0 kB)\n",
            "Requirement already satisfied: typing_extensions>=3.7.4 in /usr/local/lib/python3.7/dist-packages (from markdown-it-py<3.0.0,>=1.0.0->jupytext->otter-grader) (4.1.1)\n",
            "Requirement already satisfied: traitlets>=5.1 in /usr/local/lib/python3.7/dist-packages (from nbformat->otter-grader) (5.1.1)\n",
            "Requirement already satisfied: fastjsonschema in /usr/local/lib/python3.7/dist-packages (from nbformat->otter-grader) (2.16.1)\n",
            "Requirement already satisfied: jsonschema>=2.6 in /usr/local/lib/python3.7/dist-packages (from nbformat->otter-grader) (4.3.3)\n",
            "Requirement already satisfied: jupyter-core in /usr/local/lib/python3.7/dist-packages (from nbformat->otter-grader) (4.11.1)\n",
            "Requirement already satisfied: importlib-resources>=1.4.0 in /usr/local/lib/python3.7/dist-packages (from jsonschema>=2.6->nbformat->otter-grader) (5.9.0)\n",
            "Requirement already satisfied: pyrsistent!=0.17.0,!=0.17.1,!=0.17.2,>=0.14.0 in /usr/local/lib/python3.7/dist-packages (from jsonschema>=2.6->nbformat->otter-grader) (0.18.1)\n",
            "Requirement already satisfied: importlib-metadata in /usr/local/lib/python3.7/dist-packages (from jsonschema>=2.6->nbformat->otter-grader) (4.12.0)\n",
            "Requirement already satisfied: attrs>=17.4.0 in /usr/local/lib/python3.7/dist-packages (from jsonschema>=2.6->nbformat->otter-grader) (22.1.0)\n",
            "Requirement already satisfied: zipp>=3.1.0 in /usr/local/lib/python3.7/dist-packages (from importlib-resources>=1.4.0->jsonschema>=2.6->nbformat->otter-grader) (3.8.1)\n",
            "Requirement already satisfied: python-dateutil>=2.7.3 in /usr/local/lib/python3.7/dist-packages (from pandas->otter-grader) (2.8.2)\n",
            "Requirement already satisfied: numpy>=1.17.3 in /usr/local/lib/python3.7/dist-packages (from pandas->otter-grader) (1.21.6)\n",
            "Requirement already satisfied: typer>=0.4.1 in /usr/local/lib/python3.7/dist-packages (from python-on-whales->otter-grader) (0.4.2)\n",
            "Requirement already satisfied: tqdm in /usr/local/lib/python3.7/dist-packages (from python-on-whales->otter-grader) (4.64.1)\n",
            "Requirement already satisfied: pydantic in /usr/local/lib/python3.7/dist-packages (from python-on-whales->otter-grader) (1.9.2)\n",
            "Requirement already satisfied: Pygments>=2.0 in /usr/local/lib/python3.7/dist-packages (from sphinx->fica>=0.2.0->otter-grader) (2.6.1)\n",
            "Requirement already satisfied: snowballstemmer>=1.1 in /usr/local/lib/python3.7/dist-packages (from sphinx->fica>=0.2.0->otter-grader) (2.2.0)\n",
            "Requirement already satisfied: imagesize in /usr/local/lib/python3.7/dist-packages (from sphinx->fica>=0.2.0->otter-grader) (1.4.1)\n",
            "Requirement already satisfied: alabaster<0.8,>=0.7 in /usr/local/lib/python3.7/dist-packages (from sphinx->fica>=0.2.0->otter-grader) (0.7.12)\n",
            "Requirement already satisfied: babel!=2.0,>=1.3 in /usr/local/lib/python3.7/dist-packages (from sphinx->fica>=0.2.0->otter-grader) (2.10.3)\n",
            "Requirement already satisfied: sphinxcontrib-websupport in /usr/local/lib/python3.7/dist-packages (from sphinx->fica>=0.2.0->otter-grader) (1.2.4)\n",
            "Requirement already satisfied: sphinxcontrib-serializinghtml in /usr/local/lib/python3.7/dist-packages (from sphinxcontrib-websupport->sphinx->fica>=0.2.0->otter-grader) (1.1.5)\n",
            "Installing collected packages: mdurl, markdown-it-py, mdit-py-plugins, python-on-whales, jupytext, fica, otter-grader\n",
            "Successfully installed fica-0.2.0 jupytext-1.14.1 markdown-it-py-2.1.0 mdit-py-plugins-0.3.0 mdurl-0.1.2 otter-grader-4.0.1 python-on-whales-0.52.0\n"
          ]
        }
      ],
      "source": [
        "#!pip install otter-grader"
      ]
    },
    {
      "cell_type": "markdown",
      "metadata": {
        "id": "D3jdDyEQPuRm"
      },
      "source": [
        "In order to have the data files and test files for this lab, uncomment and run the following cell.  Please comment out before submission. "
      ]
    },
    {
      "cell_type": "code",
      "execution_count": null,
      "metadata": {
        "colab": {
          "base_uri": "https://localhost:8080/"
        },
        "id": "uWNvNu1sPuRn",
        "outputId": "c8dfcb0e-b36e-4f46-c3c1-2d80c21f948d"
      },
      "outputs": [
        {
          "output_type": "stream",
          "name": "stdout",
          "text": [
            "--2022-09-16 21:10:05--  https://pages.mtu.edu/~lebrown/un5550-f22/labs/lab3/lab3.files.zip\n",
            "Resolving pages.mtu.edu (pages.mtu.edu)... 141.219.70.232\n",
            "Connecting to pages.mtu.edu (pages.mtu.edu)|141.219.70.232|:443... connected.\n",
            "HTTP request sent, awaiting response... 200 OK\n",
            "Length: 651383 (636K) [application/zip]\n",
            "Saving to: ‘lab3.files.zip’\n",
            "\n",
            "lab3.files.zip      100%[===================>] 636.12K  1.03MB/s    in 0.6s    \n",
            "\n",
            "2022-09-16 21:10:06 (1.03 MB/s) - ‘lab3.files.zip’ saved [651383/651383]\n",
            "\n",
            "Archive:  lab3.files.zip\n",
            "   creating: data/\n",
            " extracting: data/avocado.zip        \n",
            "   creating: tests/\n",
            "  inflating: tests/q9.py             \n",
            "  inflating: tests/q8.py             \n"
          ]
        }
      ],
      "source": [
        "#!wget https://pages.mtu.edu/~lebrown/un5550-f22/labs/lab3/lab3.files.zip\n",
        "#!unzip lab3.files.zip"
      ]
    },
    {
      "cell_type": "markdown",
      "metadata": {
        "id": "Q9hDPW1APuRn"
      },
      "source": [
        "## Lab Setup"
      ]
    },
    {
      "cell_type": "code",
      "execution_count": null,
      "metadata": {
        "id": "M8X9ymYomBRm"
      },
      "outputs": [],
      "source": [
        "import pandas as pd\n",
        "import numpy as np\n",
        "rng_seed = 42\n",
        "import seaborn as sns\n",
        "from scipy import stats \n",
        "from scipy.stats import norm\n",
        "import zipfile\n",
        "import sys\n",
        "import matplotlib.pyplot as plt\n",
        "import matplotlib as mpl\n",
        "%matplotlib inline\n",
        "\n",
        "import otter\n",
        "grader = otter.Notebook()"
      ]
    },
    {
      "cell_type": "code",
      "execution_count": null,
      "metadata": {
        "id": "U5Mxp9WCPuRo"
      },
      "outputs": [],
      "source": [
        "# set up random number generator \n",
        "rng = np.random.default_rng(rng_seed)"
      ]
    },
    {
      "cell_type": "markdown",
      "metadata": {
        "id": "lC3NHp7xzk3M"
      },
      "source": [
        "## Examples "
      ]
    },
    {
      "cell_type": "markdown",
      "metadata": {
        "id": "9w0_WPnVPuRo"
      },
      "source": [
        "### Importing datafiles"
      ]
    },
    {
      "cell_type": "markdown",
      "metadata": {
        "id": "NA_dBHmlmBRq"
      },
      "source": [
        "\n",
        "\n",
        "#### Importing Excel files\n",
        "For importing the files as with multiple sheet in excel workbook, in Python 3.0, could use `pd.read_excel()`.\n",
        "\n",
        "For example, if workbook.xlsx has sheets 'Sheet1' and 'Sheet2', then use `pd.read_excel('workbook.xlsx', 'Sheet1')` or  `('workbook.xlsx', 'Sheet2')`. \n",
        "\n"
      ]
    },
    {
      "cell_type": "markdown",
      "metadata": {
        "id": "OzBWo_HQPuRo"
      },
      "source": [
        "#### Importing from Zipped files \n",
        "\n",
        "Now, try importing csv file present inside the zip file named 'avocado' directly (make use of 'zipfile' module).\n",
        "* https://docs.python.org/3/library/zipfile.html"
      ]
    },
    {
      "cell_type": "code",
      "execution_count": null,
      "metadata": {
        "id": "puhk3087mBRq",
        "colab": {
          "base_uri": "https://localhost:8080/",
          "height": 206
        },
        "outputId": "99477a66-41ea-4818-9bcc-def65f7e1a69"
      },
      "outputs": [
        {
          "output_type": "execute_result",
          "data": {
            "text/plain": [
              "   Unnamed: 0        Date  AveragePrice  Total Volume     4046       4225  \\\n",
              "0           0  2015-12-27          1.33      64236.62  1036.74   54454.85   \n",
              "1           1  2015-12-20          1.35      54876.98   674.28   44638.81   \n",
              "2           2  2015-12-13          0.93     118220.22   794.70  109149.67   \n",
              "3           3  2015-12-06          1.08      78992.15  1132.00   71976.41   \n",
              "4           4  2015-11-29          1.28      51039.60   941.48   43838.39   \n",
              "\n",
              "     4770  Total Bags  Small Bags  Large Bags  XLarge Bags          type  \\\n",
              "0   48.16     8696.87     8603.62       93.25          0.0  conventional   \n",
              "1   58.33     9505.56     9408.07       97.49          0.0  conventional   \n",
              "2  130.50     8145.35     8042.21      103.14          0.0  conventional   \n",
              "3   72.58     5811.16     5677.40      133.76          0.0  conventional   \n",
              "4   75.78     6183.95     5986.26      197.69          0.0  conventional   \n",
              "\n",
              "   year  region  \n",
              "0  2015  Albany  \n",
              "1  2015  Albany  \n",
              "2  2015  Albany  \n",
              "3  2015  Albany  \n",
              "4  2015  Albany  "
            ],
            "text/html": [
              "\n",
              "  <div id=\"df-c2480fd5-22de-433e-8bb2-06269dd5b11e\">\n",
              "    <div class=\"colab-df-container\">\n",
              "      <div>\n",
              "<style scoped>\n",
              "    .dataframe tbody tr th:only-of-type {\n",
              "        vertical-align: middle;\n",
              "    }\n",
              "\n",
              "    .dataframe tbody tr th {\n",
              "        vertical-align: top;\n",
              "    }\n",
              "\n",
              "    .dataframe thead th {\n",
              "        text-align: right;\n",
              "    }\n",
              "</style>\n",
              "<table border=\"1\" class=\"dataframe\">\n",
              "  <thead>\n",
              "    <tr style=\"text-align: right;\">\n",
              "      <th></th>\n",
              "      <th>Unnamed: 0</th>\n",
              "      <th>Date</th>\n",
              "      <th>AveragePrice</th>\n",
              "      <th>Total Volume</th>\n",
              "      <th>4046</th>\n",
              "      <th>4225</th>\n",
              "      <th>4770</th>\n",
              "      <th>Total Bags</th>\n",
              "      <th>Small Bags</th>\n",
              "      <th>Large Bags</th>\n",
              "      <th>XLarge Bags</th>\n",
              "      <th>type</th>\n",
              "      <th>year</th>\n",
              "      <th>region</th>\n",
              "    </tr>\n",
              "  </thead>\n",
              "  <tbody>\n",
              "    <tr>\n",
              "      <th>0</th>\n",
              "      <td>0</td>\n",
              "      <td>2015-12-27</td>\n",
              "      <td>1.33</td>\n",
              "      <td>64236.62</td>\n",
              "      <td>1036.74</td>\n",
              "      <td>54454.85</td>\n",
              "      <td>48.16</td>\n",
              "      <td>8696.87</td>\n",
              "      <td>8603.62</td>\n",
              "      <td>93.25</td>\n",
              "      <td>0.0</td>\n",
              "      <td>conventional</td>\n",
              "      <td>2015</td>\n",
              "      <td>Albany</td>\n",
              "    </tr>\n",
              "    <tr>\n",
              "      <th>1</th>\n",
              "      <td>1</td>\n",
              "      <td>2015-12-20</td>\n",
              "      <td>1.35</td>\n",
              "      <td>54876.98</td>\n",
              "      <td>674.28</td>\n",
              "      <td>44638.81</td>\n",
              "      <td>58.33</td>\n",
              "      <td>9505.56</td>\n",
              "      <td>9408.07</td>\n",
              "      <td>97.49</td>\n",
              "      <td>0.0</td>\n",
              "      <td>conventional</td>\n",
              "      <td>2015</td>\n",
              "      <td>Albany</td>\n",
              "    </tr>\n",
              "    <tr>\n",
              "      <th>2</th>\n",
              "      <td>2</td>\n",
              "      <td>2015-12-13</td>\n",
              "      <td>0.93</td>\n",
              "      <td>118220.22</td>\n",
              "      <td>794.70</td>\n",
              "      <td>109149.67</td>\n",
              "      <td>130.50</td>\n",
              "      <td>8145.35</td>\n",
              "      <td>8042.21</td>\n",
              "      <td>103.14</td>\n",
              "      <td>0.0</td>\n",
              "      <td>conventional</td>\n",
              "      <td>2015</td>\n",
              "      <td>Albany</td>\n",
              "    </tr>\n",
              "    <tr>\n",
              "      <th>3</th>\n",
              "      <td>3</td>\n",
              "      <td>2015-12-06</td>\n",
              "      <td>1.08</td>\n",
              "      <td>78992.15</td>\n",
              "      <td>1132.00</td>\n",
              "      <td>71976.41</td>\n",
              "      <td>72.58</td>\n",
              "      <td>5811.16</td>\n",
              "      <td>5677.40</td>\n",
              "      <td>133.76</td>\n",
              "      <td>0.0</td>\n",
              "      <td>conventional</td>\n",
              "      <td>2015</td>\n",
              "      <td>Albany</td>\n",
              "    </tr>\n",
              "    <tr>\n",
              "      <th>4</th>\n",
              "      <td>4</td>\n",
              "      <td>2015-11-29</td>\n",
              "      <td>1.28</td>\n",
              "      <td>51039.60</td>\n",
              "      <td>941.48</td>\n",
              "      <td>43838.39</td>\n",
              "      <td>75.78</td>\n",
              "      <td>6183.95</td>\n",
              "      <td>5986.26</td>\n",
              "      <td>197.69</td>\n",
              "      <td>0.0</td>\n",
              "      <td>conventional</td>\n",
              "      <td>2015</td>\n",
              "      <td>Albany</td>\n",
              "    </tr>\n",
              "  </tbody>\n",
              "</table>\n",
              "</div>\n",
              "      <button class=\"colab-df-convert\" onclick=\"convertToInteractive('df-c2480fd5-22de-433e-8bb2-06269dd5b11e')\"\n",
              "              title=\"Convert this dataframe to an interactive table.\"\n",
              "              style=\"display:none;\">\n",
              "        \n",
              "  <svg xmlns=\"http://www.w3.org/2000/svg\" height=\"24px\"viewBox=\"0 0 24 24\"\n",
              "       width=\"24px\">\n",
              "    <path d=\"M0 0h24v24H0V0z\" fill=\"none\"/>\n",
              "    <path d=\"M18.56 5.44l.94 2.06.94-2.06 2.06-.94-2.06-.94-.94-2.06-.94 2.06-2.06.94zm-11 1L8.5 8.5l.94-2.06 2.06-.94-2.06-.94L8.5 2.5l-.94 2.06-2.06.94zm10 10l.94 2.06.94-2.06 2.06-.94-2.06-.94-.94-2.06-.94 2.06-2.06.94z\"/><path d=\"M17.41 7.96l-1.37-1.37c-.4-.4-.92-.59-1.43-.59-.52 0-1.04.2-1.43.59L10.3 9.45l-7.72 7.72c-.78.78-.78 2.05 0 2.83L4 21.41c.39.39.9.59 1.41.59.51 0 1.02-.2 1.41-.59l7.78-7.78 2.81-2.81c.8-.78.8-2.07 0-2.86zM5.41 20L4 18.59l7.72-7.72 1.47 1.35L5.41 20z\"/>\n",
              "  </svg>\n",
              "      </button>\n",
              "      \n",
              "  <style>\n",
              "    .colab-df-container {\n",
              "      display:flex;\n",
              "      flex-wrap:wrap;\n",
              "      gap: 12px;\n",
              "    }\n",
              "\n",
              "    .colab-df-convert {\n",
              "      background-color: #E8F0FE;\n",
              "      border: none;\n",
              "      border-radius: 50%;\n",
              "      cursor: pointer;\n",
              "      display: none;\n",
              "      fill: #1967D2;\n",
              "      height: 32px;\n",
              "      padding: 0 0 0 0;\n",
              "      width: 32px;\n",
              "    }\n",
              "\n",
              "    .colab-df-convert:hover {\n",
              "      background-color: #E2EBFA;\n",
              "      box-shadow: 0px 1px 2px rgba(60, 64, 67, 0.3), 0px 1px 3px 1px rgba(60, 64, 67, 0.15);\n",
              "      fill: #174EA6;\n",
              "    }\n",
              "\n",
              "    [theme=dark] .colab-df-convert {\n",
              "      background-color: #3B4455;\n",
              "      fill: #D2E3FC;\n",
              "    }\n",
              "\n",
              "    [theme=dark] .colab-df-convert:hover {\n",
              "      background-color: #434B5C;\n",
              "      box-shadow: 0px 1px 3px 1px rgba(0, 0, 0, 0.15);\n",
              "      filter: drop-shadow(0px 1px 2px rgba(0, 0, 0, 0.3));\n",
              "      fill: #FFFFFF;\n",
              "    }\n",
              "  </style>\n",
              "\n",
              "      <script>\n",
              "        const buttonEl =\n",
              "          document.querySelector('#df-c2480fd5-22de-433e-8bb2-06269dd5b11e button.colab-df-convert');\n",
              "        buttonEl.style.display =\n",
              "          google.colab.kernel.accessAllowed ? 'block' : 'none';\n",
              "\n",
              "        async function convertToInteractive(key) {\n",
              "          const element = document.querySelector('#df-c2480fd5-22de-433e-8bb2-06269dd5b11e');\n",
              "          const dataTable =\n",
              "            await google.colab.kernel.invokeFunction('convertToInteractive',\n",
              "                                                     [key], {});\n",
              "          if (!dataTable) return;\n",
              "\n",
              "          const docLinkHtml = 'Like what you see? Visit the ' +\n",
              "            '<a target=\"_blank\" href=https://colab.research.google.com/notebooks/data_table.ipynb>data table notebook</a>'\n",
              "            + ' to learn more about interactive tables.';\n",
              "          element.innerHTML = '';\n",
              "          dataTable['output_type'] = 'display_data';\n",
              "          await google.colab.output.renderOutput(dataTable, element);\n",
              "          const docLink = document.createElement('div');\n",
              "          docLink.innerHTML = docLinkHtml;\n",
              "          element.appendChild(docLink);\n",
              "        }\n",
              "      </script>\n",
              "    </div>\n",
              "  </div>\n",
              "  "
            ]
          },
          "metadata": {},
          "execution_count": 5
        }
      ],
      "source": [
        "# Example code of how to load in data stored within a zip-file\n",
        "# import zipfile  # already imported above \n",
        "zf = zipfile.ZipFile('data/avocado.zip')\n",
        "avacado = pd.read_csv(zf.open('avocado.csv'))\n",
        "avacado.head()"
      ]
    },
    {
      "cell_type": "markdown",
      "metadata": {
        "id": "9Hyz9pChzBXC"
      },
      "source": [
        "### System information \n",
        "\n",
        "If you ever need to check which version of Python or what version of a module you are working with you can use something similar to the following code. "
      ]
    },
    {
      "cell_type": "code",
      "execution_count": null,
      "metadata": {
        "id": "-5f0KkoYmBRv",
        "colab": {
          "base_uri": "https://localhost:8080/"
        },
        "outputId": "d6d7d12e-25d7-44fc-bb5d-613966b513b0"
      },
      "outputs": [
        {
          "output_type": "stream",
          "name": "stdout",
          "text": [
            "Python version: 3.7.14 (default, Sep  8 2022, 00:06:44) \n",
            "[GCC 7.5.0] \n",
            "\n",
            "Pandas version: 1.21.6 \n",
            "\n",
            "Seaborn version:  0.11.2 \n",
            "\n"
          ]
        }
      ],
      "source": [
        "# Get to know your system versions\n",
        "# import sys  # already imported above\n",
        "print('Python version:', sys.version, '\\n')\n",
        "print('Pandas version:', np.__version__ , '\\n')\n",
        "print('Seaborn version: ', sns.__version__, '\\n')"
      ]
    },
    {
      "cell_type": "markdown",
      "metadata": {
        "id": "7pvHMprLzuiV"
      },
      "source": [
        "Let's load the wine data again."
      ]
    },
    {
      "cell_type": "code",
      "execution_count": null,
      "metadata": {
        "id": "da9TWd6gWUv3",
        "colab": {
          "base_uri": "https://localhost:8080/",
          "height": 206
        },
        "outputId": "b898d37b-0255-42f8-fbc4-f74f5ed1785a"
      },
      "outputs": [
        {
          "output_type": "execute_result",
          "data": {
            "text/plain": [
              "   fixed acidity  volatile acidity  citric acid  residual sugar  chlorides  \\\n",
              "0            7.4              0.70         0.00             1.9      0.076   \n",
              "1            7.8              0.88         0.00             2.6      0.098   \n",
              "2            7.8              0.76         0.04             2.3      0.092   \n",
              "3           11.2              0.28         0.56             1.9      0.075   \n",
              "4            7.4              0.70         0.00             1.9      0.076   \n",
              "\n",
              "   free sulfur dioxide  total sulfur dioxide  density    pH  sulphates  \\\n",
              "0                 11.0                  34.0   0.9978  3.51       0.56   \n",
              "1                 25.0                  67.0   0.9968  3.20       0.68   \n",
              "2                 15.0                  54.0   0.9970  3.26       0.65   \n",
              "3                 17.0                  60.0   0.9980  3.16       0.58   \n",
              "4                 11.0                  34.0   0.9978  3.51       0.56   \n",
              "\n",
              "   alcohol  quality  \n",
              "0      9.4        5  \n",
              "1      9.8        5  \n",
              "2      9.8        5  \n",
              "3      9.8        6  \n",
              "4      9.4        5  "
            ],
            "text/html": [
              "\n",
              "  <div id=\"df-c3189c0c-5c76-4fef-9893-6e91132db38d\">\n",
              "    <div class=\"colab-df-container\">\n",
              "      <div>\n",
              "<style scoped>\n",
              "    .dataframe tbody tr th:only-of-type {\n",
              "        vertical-align: middle;\n",
              "    }\n",
              "\n",
              "    .dataframe tbody tr th {\n",
              "        vertical-align: top;\n",
              "    }\n",
              "\n",
              "    .dataframe thead th {\n",
              "        text-align: right;\n",
              "    }\n",
              "</style>\n",
              "<table border=\"1\" class=\"dataframe\">\n",
              "  <thead>\n",
              "    <tr style=\"text-align: right;\">\n",
              "      <th></th>\n",
              "      <th>fixed acidity</th>\n",
              "      <th>volatile acidity</th>\n",
              "      <th>citric acid</th>\n",
              "      <th>residual sugar</th>\n",
              "      <th>chlorides</th>\n",
              "      <th>free sulfur dioxide</th>\n",
              "      <th>total sulfur dioxide</th>\n",
              "      <th>density</th>\n",
              "      <th>pH</th>\n",
              "      <th>sulphates</th>\n",
              "      <th>alcohol</th>\n",
              "      <th>quality</th>\n",
              "    </tr>\n",
              "  </thead>\n",
              "  <tbody>\n",
              "    <tr>\n",
              "      <th>0</th>\n",
              "      <td>7.4</td>\n",
              "      <td>0.70</td>\n",
              "      <td>0.00</td>\n",
              "      <td>1.9</td>\n",
              "      <td>0.076</td>\n",
              "      <td>11.0</td>\n",
              "      <td>34.0</td>\n",
              "      <td>0.9978</td>\n",
              "      <td>3.51</td>\n",
              "      <td>0.56</td>\n",
              "      <td>9.4</td>\n",
              "      <td>5</td>\n",
              "    </tr>\n",
              "    <tr>\n",
              "      <th>1</th>\n",
              "      <td>7.8</td>\n",
              "      <td>0.88</td>\n",
              "      <td>0.00</td>\n",
              "      <td>2.6</td>\n",
              "      <td>0.098</td>\n",
              "      <td>25.0</td>\n",
              "      <td>67.0</td>\n",
              "      <td>0.9968</td>\n",
              "      <td>3.20</td>\n",
              "      <td>0.68</td>\n",
              "      <td>9.8</td>\n",
              "      <td>5</td>\n",
              "    </tr>\n",
              "    <tr>\n",
              "      <th>2</th>\n",
              "      <td>7.8</td>\n",
              "      <td>0.76</td>\n",
              "      <td>0.04</td>\n",
              "      <td>2.3</td>\n",
              "      <td>0.092</td>\n",
              "      <td>15.0</td>\n",
              "      <td>54.0</td>\n",
              "      <td>0.9970</td>\n",
              "      <td>3.26</td>\n",
              "      <td>0.65</td>\n",
              "      <td>9.8</td>\n",
              "      <td>5</td>\n",
              "    </tr>\n",
              "    <tr>\n",
              "      <th>3</th>\n",
              "      <td>11.2</td>\n",
              "      <td>0.28</td>\n",
              "      <td>0.56</td>\n",
              "      <td>1.9</td>\n",
              "      <td>0.075</td>\n",
              "      <td>17.0</td>\n",
              "      <td>60.0</td>\n",
              "      <td>0.9980</td>\n",
              "      <td>3.16</td>\n",
              "      <td>0.58</td>\n",
              "      <td>9.8</td>\n",
              "      <td>6</td>\n",
              "    </tr>\n",
              "    <tr>\n",
              "      <th>4</th>\n",
              "      <td>7.4</td>\n",
              "      <td>0.70</td>\n",
              "      <td>0.00</td>\n",
              "      <td>1.9</td>\n",
              "      <td>0.076</td>\n",
              "      <td>11.0</td>\n",
              "      <td>34.0</td>\n",
              "      <td>0.9978</td>\n",
              "      <td>3.51</td>\n",
              "      <td>0.56</td>\n",
              "      <td>9.4</td>\n",
              "      <td>5</td>\n",
              "    </tr>\n",
              "  </tbody>\n",
              "</table>\n",
              "</div>\n",
              "      <button class=\"colab-df-convert\" onclick=\"convertToInteractive('df-c3189c0c-5c76-4fef-9893-6e91132db38d')\"\n",
              "              title=\"Convert this dataframe to an interactive table.\"\n",
              "              style=\"display:none;\">\n",
              "        \n",
              "  <svg xmlns=\"http://www.w3.org/2000/svg\" height=\"24px\"viewBox=\"0 0 24 24\"\n",
              "       width=\"24px\">\n",
              "    <path d=\"M0 0h24v24H0V0z\" fill=\"none\"/>\n",
              "    <path d=\"M18.56 5.44l.94 2.06.94-2.06 2.06-.94-2.06-.94-.94-2.06-.94 2.06-2.06.94zm-11 1L8.5 8.5l.94-2.06 2.06-.94-2.06-.94L8.5 2.5l-.94 2.06-2.06.94zm10 10l.94 2.06.94-2.06 2.06-.94-2.06-.94-.94-2.06-.94 2.06-2.06.94z\"/><path d=\"M17.41 7.96l-1.37-1.37c-.4-.4-.92-.59-1.43-.59-.52 0-1.04.2-1.43.59L10.3 9.45l-7.72 7.72c-.78.78-.78 2.05 0 2.83L4 21.41c.39.39.9.59 1.41.59.51 0 1.02-.2 1.41-.59l7.78-7.78 2.81-2.81c.8-.78.8-2.07 0-2.86zM5.41 20L4 18.59l7.72-7.72 1.47 1.35L5.41 20z\"/>\n",
              "  </svg>\n",
              "      </button>\n",
              "      \n",
              "  <style>\n",
              "    .colab-df-container {\n",
              "      display:flex;\n",
              "      flex-wrap:wrap;\n",
              "      gap: 12px;\n",
              "    }\n",
              "\n",
              "    .colab-df-convert {\n",
              "      background-color: #E8F0FE;\n",
              "      border: none;\n",
              "      border-radius: 50%;\n",
              "      cursor: pointer;\n",
              "      display: none;\n",
              "      fill: #1967D2;\n",
              "      height: 32px;\n",
              "      padding: 0 0 0 0;\n",
              "      width: 32px;\n",
              "    }\n",
              "\n",
              "    .colab-df-convert:hover {\n",
              "      background-color: #E2EBFA;\n",
              "      box-shadow: 0px 1px 2px rgba(60, 64, 67, 0.3), 0px 1px 3px 1px rgba(60, 64, 67, 0.15);\n",
              "      fill: #174EA6;\n",
              "    }\n",
              "\n",
              "    [theme=dark] .colab-df-convert {\n",
              "      background-color: #3B4455;\n",
              "      fill: #D2E3FC;\n",
              "    }\n",
              "\n",
              "    [theme=dark] .colab-df-convert:hover {\n",
              "      background-color: #434B5C;\n",
              "      box-shadow: 0px 1px 3px 1px rgba(0, 0, 0, 0.15);\n",
              "      filter: drop-shadow(0px 1px 2px rgba(0, 0, 0, 0.3));\n",
              "      fill: #FFFFFF;\n",
              "    }\n",
              "  </style>\n",
              "\n",
              "      <script>\n",
              "        const buttonEl =\n",
              "          document.querySelector('#df-c3189c0c-5c76-4fef-9893-6e91132db38d button.colab-df-convert');\n",
              "        buttonEl.style.display =\n",
              "          google.colab.kernel.accessAllowed ? 'block' : 'none';\n",
              "\n",
              "        async function convertToInteractive(key) {\n",
              "          const element = document.querySelector('#df-c3189c0c-5c76-4fef-9893-6e91132db38d');\n",
              "          const dataTable =\n",
              "            await google.colab.kernel.invokeFunction('convertToInteractive',\n",
              "                                                     [key], {});\n",
              "          if (!dataTable) return;\n",
              "\n",
              "          const docLinkHtml = 'Like what you see? Visit the ' +\n",
              "            '<a target=\"_blank\" href=https://colab.research.google.com/notebooks/data_table.ipynb>data table notebook</a>'\n",
              "            + ' to learn more about interactive tables.';\n",
              "          element.innerHTML = '';\n",
              "          dataTable['output_type'] = 'display_data';\n",
              "          await google.colab.output.renderOutput(dataTable, element);\n",
              "          const docLink = document.createElement('div');\n",
              "          docLink.innerHTML = docLinkHtml;\n",
              "          element.appendChild(docLink);\n",
              "        }\n",
              "      </script>\n",
              "    </div>\n",
              "  </div>\n",
              "  "
            ]
          },
          "metadata": {},
          "execution_count": 7
        }
      ],
      "source": [
        "# Load wine data \n",
        "url  =  \"https://archive.ics.uci.edu/ml/machine-learning-databases/wine-quality/winequality-red.csv\" \n",
        "wine = pd.read_csv(url, sep=\";\")\n",
        "wine.head()"
      ]
    },
    {
      "cell_type": "code",
      "execution_count": null,
      "metadata": {
        "colab": {
          "base_uri": "https://localhost:8080/"
        },
        "id": "jbuGAuVJPuRp",
        "outputId": "dd585f02-9e96-482a-f824-239af04e0620"
      },
      "outputs": [
        {
          "output_type": "execute_result",
          "data": {
            "text/plain": [
              "(1599, 12)"
            ]
          },
          "metadata": {},
          "execution_count": 8
        }
      ],
      "source": [
        "wine.shape"
      ]
    },
    {
      "cell_type": "markdown",
      "metadata": {
        "id": "R4dRAdoMmBRz"
      },
      "source": [
        "# Inferential Statistics"
      ]
    },
    {
      "cell_type": "markdown",
      "metadata": {
        "id": "FJ3fBdLAmBRz"
      },
      "source": [
        "The piece of code below is adapted from `nb.week3.ipynb` class material. A sample of size 5 is selected and the mean is calculated.  This is repeated 1000 times, collecting the sample means. \n",
        "A histogram function is invoked for sampled means. \n",
        "\n",
        "Observe the distribution of the mean samples - is it normal, uniform, gamma, beta ..... ?\n",
        "It is a normal distribution."
      ]
    },
    {
      "cell_type": "code",
      "execution_count": null,
      "metadata": {
        "id": "_zji_07SmBR0",
        "colab": {
          "base_uri": "https://localhost:8080/",
          "height": 699
        },
        "outputId": "59567362-3b10-47c6-a1cd-d5190ba4116d"
      },
      "outputs": [
        {
          "output_type": "stream",
          "name": "stdout",
          "text": [
            "mean pH, mu = 3.3111131957473416\n"
          ]
        },
        {
          "output_type": "display_data",
          "data": {
            "text/plain": [
              "<Figure size 432x288 with 1 Axes>"
            ],
            "image/png": "[encoded data removed]"
          },
          "metadata": {}
        },
        {
          "output_type": "display_data",
          "data": {
            "text/plain": [
              "<Figure size 576x432 with 1 Axes>"
            ],
            "image/png": "[encoded data removed]"
          },
          "metadata": {}
        }
      ],
      "source": [
        "'''The piece of code from nb.week3.ipynb is provided, use it to  \n",
        "compute the mean for the 'n' random samples and store in array, means[i]\n",
        "This is repeated 'N_tests' times. '''\n",
        "\n",
        "mu = wine[\"pH\"].mean()                                # Mean of population\n",
        "print(\"mean pH, mu = \" + str(mu))\n",
        "\n",
        "N_tests = 1000                                        # Num of test to perform\n",
        "n = 5                                                 # number of samples\n",
        "means = [0] * N_tests\n",
        "\n",
        "for i in range(N_tests):\n",
        "    observations = rng.choice(wine.index.values,n)\n",
        "    sampled_wines = wine.loc[observations]\n",
        "    means[i] = sampled_wines[\"pH\"].mean()\n",
        "\n",
        "# Histogram in Matplotlib    \n",
        "nbins = 15\n",
        "_ = plt.hist(means, nbins, color= 'red' )\n",
        "plt.title(' Histogram for sampled mean of pH')\n",
        "plt.xlabel('pH')\n",
        "plt.ylabel('Counts')\n",
        "\n",
        "# Histogram in seaborn\n",
        "sns.set_style('whitegrid')\n",
        "sns.set_style('ticks')\n",
        "fig, ax = plt.subplots()\n",
        "fig.set_size_inches(8, 6)\n",
        "sns.histplot(means, bins=nbins, color ='red', kde=True)\n",
        "plt.title('Histogram for sampled mean of wine[ph] distribution')\n",
        "plt.xlabel('pH')\n",
        "\n",
        "plt.show()"
      ]
    },
    {
      "cell_type": "markdown",
      "metadata": {
        "id": "r_NAMGwNmBR3"
      },
      "source": [
        "### Central Limit Theorem\n",
        "\n",
        "From Chap 4, we had a chance to look into Central Limit Theorem. The initial population distribution was not observed in the class and the mean sampled distribution, i.e., mean of `wine['pH']`, evidently displayed normal distribution (see the plots above).\n",
        "\n"
      ]
    },
    {
      "cell_type": "markdown",
      "metadata": {
        "id": "ZTsvNRZFoHWA"
      },
      "source": [
        "<!-- BEGIN QUESTION -->\n",
        "\n",
        "## Exercise 1\n",
        "\n",
        "Check what was the distribution of the initial population ? Create the  Histogram and read the discussion below.\n",
        "\n",
        "https://seaborn.pydata.org/generated/seaborn.histplot.html#seaborn.histplot"
      ]
    },
    {
      "cell_type": "code",
      "execution_count": null,
      "metadata": {
        "id": "Ts7fhR6AmBR4",
        "tags": [],
        "colab": {
          "base_uri": "https://localhost:8080/",
          "height": 404
        },
        "outputId": "2ed714a7-5470-4672-c35f-14c9c30f7dd6"
      },
      "outputs": [
        {
          "output_type": "display_data",
          "data": {
            "text/plain": [
              "<Figure size 576x432 with 1 Axes>"
            ],
            "image/png": "[encoded data removed]"
          },
          "metadata": {}
        }
      ],
      "source": [
        "# Plot the distribution of the population itself i.e., wine['pH']. \n",
        "#  Use seaborn rather than matplotlib to create the histogram\n",
        "\n",
        "sns.set_style('whitegrid')\n",
        "sns.set_style('ticks')\n",
        "fig, ax = plt.subplots()\n",
        "fig.set_size_inches(8, 6)\n",
        "sns.histplot(wine['pH'], bins=nbins, color ='red', kde=True)\n",
        "plt.title('Histogram for pH of the entire population')\n",
        "plt.xlabel('pH')\n",
        "\n",
        "plt.show()\n"
      ]
    },
    {
      "cell_type": "markdown",
      "metadata": {
        "id": "k5wxWpgDmBR7"
      },
      "source": [
        "<!-- END QUESTION -->\n",
        "\n",
        "Since, the population distribution was also normal distribution plot. We might expect that the sampled mean could be normal distribution. What if we try with different population distribution using random generator available in python library and observe the profile. Does it agree with Central Limit Theorem?\n",
        "\n",
        "For options regarding random numbers generation in certain distribution pattern, see the link:  \n",
        "https://docs.scipy.org/doc/numpy-1.14.0/reference/routines.random.html"
      ]
    },
    {
      "cell_type": "markdown",
      "metadata": {
        "id": "ISUsYMUZmBR7"
      },
      "source": [
        "*Think about:* What if the initial population is other than normal distribution. Would CLT come into picture? \n",
        "\n"
      ]
    },
    {
      "cell_type": "markdown",
      "metadata": {
        "id": "bKv0PFJwoQJk"
      },
      "source": [
        "## Exercise 2 - Uniform distribution\n",
        "\n",
        "In Exercise 1, the distribution of wine pH values is approximately normal.  What about if this data follows another distribution?  How does it affect the distribution of the sampled means?\n",
        "\n",
        "Let's look if the initial data came from a Uniform distribution."
      ]
    },
    {
      "cell_type": "markdown",
      "metadata": {
        "id": "75SZE2QzPuRq"
      },
      "source": [
        "<!-- BEGIN QUESTION -->\n",
        "\n"
      ]
    },
    {
      "cell_type": "code",
      "execution_count": null,
      "metadata": {
        "id": "n-XV_nSdmBR8",
        "tags": [],
        "colab": {
          "base_uri": "https://localhost:8080/",
          "height": 206
        },
        "outputId": "d18d3ee4-0f75-4ca8-ae64-f7d5c0400153"
      },
      "outputs": [
        {
          "output_type": "execute_result",
          "data": {
            "text/plain": [
              "          0\n",
              "0  0.254905\n",
              "1  0.430523\n",
              "2  0.423075\n",
              "3  0.917954\n",
              "4  0.726277"
            ],
            "text/html": [
              "\n",
              "  <div id=\"df-a97835dc-20ad-4220-8442-3d773123800e\">\n",
              "    <div class=\"colab-df-container\">\n",
              "      <div>\n",
              "<style scoped>\n",
              "    .dataframe tbody tr th:only-of-type {\n",
              "        vertical-align: middle;\n",
              "    }\n",
              "\n",
              "    .dataframe tbody tr th {\n",
              "        vertical-align: top;\n",
              "    }\n",
              "\n",
              "    .dataframe thead th {\n",
              "        text-align: right;\n",
              "    }\n",
              "</style>\n",
              "<table border=\"1\" class=\"dataframe\">\n",
              "  <thead>\n",
              "    <tr style=\"text-align: right;\">\n",
              "      <th></th>\n",
              "      <th>0</th>\n",
              "    </tr>\n",
              "  </thead>\n",
              "  <tbody>\n",
              "    <tr>\n",
              "      <th>0</th>\n",
              "      <td>0.254905</td>\n",
              "    </tr>\n",
              "    <tr>\n",
              "      <th>1</th>\n",
              "      <td>0.430523</td>\n",
              "    </tr>\n",
              "    <tr>\n",
              "      <th>2</th>\n",
              "      <td>0.423075</td>\n",
              "    </tr>\n",
              "    <tr>\n",
              "      <th>3</th>\n",
              "      <td>0.917954</td>\n",
              "    </tr>\n",
              "    <tr>\n",
              "      <th>4</th>\n",
              "      <td>0.726277</td>\n",
              "    </tr>\n",
              "  </tbody>\n",
              "</table>\n",
              "</div>\n",
              "      <button class=\"colab-df-convert\" onclick=\"convertToInteractive('df-a97835dc-20ad-4220-8442-3d773123800e')\"\n",
              "              title=\"Convert this dataframe to an interactive table.\"\n",
              "              style=\"display:none;\">\n",
              "        \n",
              "  <svg xmlns=\"http://www.w3.org/2000/svg\" height=\"24px\"viewBox=\"0 0 24 24\"\n",
              "       width=\"24px\">\n",
              "    <path d=\"M0 0h24v24H0V0z\" fill=\"none\"/>\n",
              "    <path d=\"M18.56 5.44l.94 2.06.94-2.06 2.06-.94-2.06-.94-.94-2.06-.94 2.06-2.06.94zm-11 1L8.5 8.5l.94-2.06 2.06-.94-2.06-.94L8.5 2.5l-.94 2.06-2.06.94zm10 10l.94 2.06.94-2.06 2.06-.94-2.06-.94-.94-2.06-.94 2.06-2.06.94z\"/><path d=\"M17.41 7.96l-1.37-1.37c-.4-.4-.92-.59-1.43-.59-.52 0-1.04.2-1.43.59L10.3 9.45l-7.72 7.72c-.78.78-.78 2.05 0 2.83L4 21.41c.39.39.9.59 1.41.59.51 0 1.02-.2 1.41-.59l7.78-7.78 2.81-2.81c.8-.78.8-2.07 0-2.86zM5.41 20L4 18.59l7.72-7.72 1.47 1.35L5.41 20z\"/>\n",
              "  </svg>\n",
              "      </button>\n",
              "      \n",
              "  <style>\n",
              "    .colab-df-container {\n",
              "      display:flex;\n",
              "      flex-wrap:wrap;\n",
              "      gap: 12px;\n",
              "    }\n",
              "\n",
              "    .colab-df-convert {\n",
              "      background-color: #E8F0FE;\n",
              "      border: none;\n",
              "      border-radius: 50%;\n",
              "      cursor: pointer;\n",
              "      display: none;\n",
              "      fill: #1967D2;\n",
              "      height: 32px;\n",
              "      padding: 0 0 0 0;\n",
              "      width: 32px;\n",
              "    }\n",
              "\n",
              "    .colab-df-convert:hover {\n",
              "      background-color: #E2EBFA;\n",
              "      box-shadow: 0px 1px 2px rgba(60, 64, 67, 0.3), 0px 1px 3px 1px rgba(60, 64, 67, 0.15);\n",
              "      fill: #174EA6;\n",
              "    }\n",
              "\n",
              "    [theme=dark] .colab-df-convert {\n",
              "      background-color: #3B4455;\n",
              "      fill: #D2E3FC;\n",
              "    }\n",
              "\n",
              "    [theme=dark] .colab-df-convert:hover {\n",
              "      background-color: #434B5C;\n",
              "      box-shadow: 0px 1px 3px 1px rgba(0, 0, 0, 0.15);\n",
              "      filter: drop-shadow(0px 1px 2px rgba(0, 0, 0, 0.3));\n",
              "      fill: #FFFFFF;\n",
              "    }\n",
              "  </style>\n",
              "\n",
              "      <script>\n",
              "        const buttonEl =\n",
              "          document.querySelector('#df-a97835dc-20ad-4220-8442-3d773123800e button.colab-df-convert');\n",
              "        buttonEl.style.display =\n",
              "          google.colab.kernel.accessAllowed ? 'block' : 'none';\n",
              "\n",
              "        async function convertToInteractive(key) {\n",
              "          const element = document.querySelector('#df-a97835dc-20ad-4220-8442-3d773123800e');\n",
              "          const dataTable =\n",
              "            await google.colab.kernel.invokeFunction('convertToInteractive',\n",
              "                                                     [key], {});\n",
              "          if (!dataTable) return;\n",
              "\n",
              "          const docLinkHtml = 'Like what you see? Visit the ' +\n",
              "            '<a target=\"_blank\" href=https://colab.research.google.com/notebooks/data_table.ipynb>data table notebook</a>'\n",
              "            + ' to learn more about interactive tables.';\n",
              "          element.innerHTML = '';\n",
              "          dataTable['output_type'] = 'display_data';\n",
              "          await google.colab.output.renderOutput(dataTable, element);\n",
              "          const docLink = document.createElement('div');\n",
              "          docLink.innerHTML = docLinkHtml;\n",
              "          element.appendChild(docLink);\n",
              "        }\n",
              "      </script>\n",
              "    </div>\n",
              "  </div>\n",
              "  "
            ]
          },
          "metadata": {},
          "execution_count": 42
        }
      ],
      "source": [
        "# Create a pandas DataSeries - created using random numbers \n",
        "#  Sample 1000 numbers from the uniform distribution - unif(0,1) \n",
        "#  Hint: look at np.random.uniform() function, using the random number generator\n",
        "#   seeded above:  rng.uniform()\n",
        "                                                                                      \n",
        "s = np.random.uniform(0,1,1000)\n",
        "s = pd.DataFrame(s)\n",
        "s.head()\n"
      ]
    },
    {
      "cell_type": "code",
      "execution_count": null,
      "metadata": {
        "id": "3-ommH1HYfJ1",
        "tags": [],
        "colab": {
          "base_uri": "https://localhost:8080/",
          "height": 421
        },
        "outputId": "631b64c6-982a-42ee-8161-6724aecbcd7c"
      },
      "outputs": [
        {
          "output_type": "execute_result",
          "data": {
            "text/plain": [
              "Ellipsis"
            ]
          },
          "metadata": {},
          "execution_count": 43
        },
        {
          "output_type": "display_data",
          "data": {
            "text/plain": [
              "<Figure size 576x432 with 1 Axes>"
            ],
            "image/png": "[encoded data removed]"
          },
          "metadata": {}
        }
      ],
      "source": [
        "# Plot a histogram for the initial population, stored in 's'\n",
        "#  Use seaborn for the plot \n",
        "sns.set_style('whitegrid')\n",
        "sns.set_style('ticks')\n",
        "fig, ax = plt.subplots()\n",
        "fig.set_size_inches(8, 6)\n",
        "sns.histplot(s, bins=nbins, kde=True, legend = False)\n",
        "plt.title('Histogram for pH of the entire population with uniform distribution')\n",
        "plt.xlabel('pH')\n",
        "...\n"
      ]
    },
    {
      "cell_type": "code",
      "execution_count": null,
      "metadata": {
        "id": "ytTaCGNrmBSA",
        "tags": [],
        "colab": {
          "base_uri": "https://localhost:8080/",
          "height": 439
        },
        "outputId": "56896aa5-d390-48f0-9e23-e25e30ff3762"
      },
      "outputs": [
        {
          "output_type": "stream",
          "name": "stdout",
          "text": [
            "mean population, mu = 0.505151280285845\n"
          ]
        },
        {
          "output_type": "execute_result",
          "data": {
            "text/plain": [
              "Ellipsis"
            ]
          },
          "metadata": {},
          "execution_count": 44
        },
        {
          "output_type": "display_data",
          "data": {
            "text/plain": [
              "<Figure size 576x432 with 1 Axes>"
            ],
            "image/png": "[encoded data removed]"
          },
          "metadata": {}
        }
      ],
      "source": [
        "# In this cell, collection of 'n' random samples 'N-test' times \n",
        "#  storing the mean of each collection in the array.  \n",
        "# Then, create a histogram of the sampled means. \n",
        "\n",
        "# As a start I have copied the most of the code for where this was done for wine-pH.  \n",
        "# Modify it to get the sample means of the uniformly distributed sample population.\n",
        "\n",
        "mu = s[0].mean()\n",
        "print(\"mean population, mu = \" + str(mu))\n",
        "\n",
        "N_tests = 1000\n",
        "n = 50 \n",
        "means = [0] * N_tests\n",
        "\n",
        "for i in range(N_tests):\n",
        "    observations = rng.choice(s.index.values,n)\n",
        "    sampled_pop = s.loc[observations]\n",
        "    means[i] = sampled_pop[0].mean()\n",
        "\n",
        "nbins = 15\n",
        "# Create a histogram of the sampled means from the uniform distribution\n",
        "sns.set_style('whitegrid')\n",
        "sns.set_style('ticks')\n",
        "fig, ax = plt.subplots()\n",
        "fig.set_size_inches(8, 6)\n",
        "sns.histplot(means, bins=nbins, color ='red', kde=True)\n",
        "plt.title('Histogram for sampled mean of uniform distribution')\n",
        "plt.xlabel('pH')\n",
        "...\n"
      ]
    },
    {
      "cell_type": "markdown",
      "metadata": {
        "id": "k__0foeWmBSC"
      },
      "source": [
        "<!-- END QUESTION -->\n",
        "\n",
        "#####  Once the code is up and running. Examine the following for better understanding. \n",
        " * How is plot sensitive for 'n' - no of samples drawn from population?\n",
        " * How does the profile change when 'N_test' - is increased or decreased?"
      ]
    },
    {
      "cell_type": "markdown",
      "metadata": {
        "id": "7I-VkZAHmBSD"
      },
      "source": [
        "<!-- BEGIN QUESTION -->\n",
        "\n",
        "## Exercise 3 - Gamma distributions\n",
        "\n",
        "Let's examine this again if the initial data is from a Gamma distributions. \n",
        "\n",
        "Will the Central Limit Theorem agree here as well? \n",
        "\n",
        "Read through Chapter 4 for more information.  "
      ]
    },
    {
      "cell_type": "code",
      "execution_count": null,
      "metadata": {
        "id": "4iAuzsUjmBSD",
        "tags": [],
        "colab": {
          "base_uri": "https://localhost:8080/",
          "height": 898
        },
        "outputId": "fd101ad6-a9cd-490d-befd-e6fa3439947e"
      },
      "outputs": [
        {
          "output_type": "stream",
          "name": "stderr",
          "text": [
            "/usr/local/lib/python3.7/dist-packages/ipykernel_launcher.py:9: DeprecationWarning: The default dtype for empty Series will be 'object' instead of 'float64' in a future version. Specify a dtype explicitly to silence this warning.\n",
            "  if __name__ == '__main__':\n"
          ]
        },
        {
          "output_type": "stream",
          "name": "stdout",
          "text": [
            "mean of random dataset, mu = 0    3.899806\n",
            "dtype: float64\n"
          ]
        },
        {
          "output_type": "execute_result",
          "data": {
            "text/plain": [
              "Text(0.5, 0, 'pH')"
            ]
          },
          "metadata": {},
          "execution_count": 46
        },
        {
          "output_type": "display_data",
          "data": {
            "text/plain": [
              "<Figure size 576x432 with 1 Axes>"
            ],
            "image/png": "[encoded data removed]"
          },
          "metadata": {}
        },
        {
          "output_type": "display_data",
          "data": {
            "text/plain": [
              "<Figure size 576x432 with 1 Axes>"
            ],
            "image/png": "[encoded data removed]"
          },
          "metadata": {}
        }
      ],
      "source": [
        "\n",
        "# Perform the similar operation as above but on a different distribution, e.g., gamma. \n",
        "# Refer to the link  provided earlier to generate the initial samples. \n",
        "# Continue to use seaborn for plotting.\n",
        "\n",
        "\n",
        "# To try Gamma distribution function - np.random.gamma\n",
        "#   with the random number generator - rng.gamma\n",
        "shape, scale = 2., 2.  # mean=4, std=2*sqrt(2)\n",
        "s = pd.Series( )\n",
        "s = np.random.gamma(shape, scale, 1000)\n",
        "s = pd.DataFrame(s)\n",
        "s.head()\n",
        "\n",
        "\n",
        "# Histogram plot of initial population\n",
        "sns.set_style('whitegrid')\n",
        "sns.set_style('ticks')\n",
        "fig, ax = plt.subplots()\n",
        "fig.set_size_inches(8, 6)\n",
        "sns.histplot(s, bins=nbins, kde=True, legend = False)\n",
        "plt.title('Histogram for pH of the entire population with gamma distribution')\n",
        "plt.xlabel('pH')\n",
        "\n",
        "\n",
        "mu = s.mean();\n",
        "print(\"mean of random dataset, mu = \" + str(mu))\n",
        "\n",
        "N_tests = 1000\n",
        "n = 50\n",
        "means = [0] * N_tests\n",
        "\n",
        "\n",
        "# Histogram of sampled means \n",
        "for i in range(N_tests):\n",
        "    observations = rng.choice(s.index.values,n)\n",
        "    sampled_pop = s.loc[observations]\n",
        "    means[i] = sampled_pop[0].mean()\n",
        "\n",
        "nbins = 15\n",
        "# Create a histogram of the sampled means from the uniform distribution\n",
        "sns.set_style('whitegrid')\n",
        "sns.set_style('ticks')\n",
        "fig, ax = plt.subplots()\n",
        "fig.set_size_inches(8, 6)\n",
        "sns.histplot(means, bins=nbins, color ='red', kde=True)\n",
        "plt.title('Histogram for sampled mean of gamma distribution')\n",
        "plt.xlabel('pH')"
      ]
    },
    {
      "cell_type": "markdown",
      "metadata": {
        "id": "qISCiYV4PuRr"
      },
      "source": [
        "<!-- END QUESTION -->\n",
        "\n",
        "<!-- BEGIN QUESTION -->\n",
        "\n",
        "## Exercise 4 - Wald distributions\n",
        "\n",
        "Let's examine this again if the initial data is from a Wald distributions. \n",
        "\n",
        "Will the Central Limit Theorem agree here as well? \n",
        "\n",
        "Read through Chapter 4 for more information.  "
      ]
    },
    {
      "cell_type": "code",
      "execution_count": null,
      "metadata": {
        "tags": [],
        "id": "F7HX42N6PuRr",
        "colab": {
          "base_uri": "https://localhost:8080/",
          "height": 898
        },
        "outputId": "73ffb979-b656-4cd0-ca49-d5f6aec1820b"
      },
      "outputs": [
        {
          "output_type": "stream",
          "name": "stderr",
          "text": [
            "/usr/local/lib/python3.7/dist-packages/ipykernel_launcher.py:8: DeprecationWarning: The default dtype for empty Series will be 'object' instead of 'float64' in a future version. Specify a dtype explicitly to silence this warning.\n",
            "  \n"
          ]
        },
        {
          "output_type": "stream",
          "name": "stdout",
          "text": [
            "mean of random dataset, mu = 0    3.001159\n",
            "dtype: float64\n"
          ]
        },
        {
          "output_type": "execute_result",
          "data": {
            "text/plain": [
              "Text(0.5, 0, 'pH')"
            ]
          },
          "metadata": {},
          "execution_count": 48
        },
        {
          "output_type": "display_data",
          "data": {
            "text/plain": [
              "<Figure size 576x432 with 1 Axes>"
            ],
            "image/png": "[encoded data removed]"
          },
          "metadata": {}
        },
        {
          "output_type": "display_data",
          "data": {
            "text/plain": [
              "<Figure size 576x432 with 1 Axes>"
            ],
            "image/png": "[encoded data removed]"
          },
          "metadata": {}
        }
      ],
      "source": [
        "\n",
        "# Perform the similar operation as above but on a different distribution, e.g., wald. \n",
        "# Refer to the link  provided earlier to generate the initial samples. \n",
        "# Continue to use seaborn for plotting.\n",
        "\n",
        "\n",
        "# To try Wald distribution function - np.random.wald\n",
        "#  use the random number generator - rng.wald \n",
        "s = pd.Series( )\n",
        "shape, scale = 3, 2\n",
        "s = np.random.wald(shape, scale, 1000)\n",
        "s = pd.DataFrame(s)\n",
        "s.head()\n",
        "\n",
        "\n",
        "# Histogram plot of initial population\n",
        "sns.set_style('whitegrid')\n",
        "sns.set_style('ticks')\n",
        "fig, ax = plt.subplots()\n",
        "fig.set_size_inches(8, 6)\n",
        "sns.histplot(s, bins=nbins, kde=True, legend = False)\n",
        "plt.title('Histogram for pH of the entire population with Wald distribution')\n",
        "plt.xlabel('pH')\n",
        "\n",
        "\n",
        "mu = s.mean();\n",
        "print(\"mean of random dataset, mu = \" + str(mu))\n",
        "\n",
        "N_tests = 1000\n",
        "n = 50\n",
        "means = [0] * N_tests\n",
        "\n",
        "\n",
        "\n",
        "\n",
        "\n",
        "# Histogram of sampled means \n",
        "for i in range(N_tests):\n",
        "    observations = rng.choice(s.index.values,n)\n",
        "    sampled_pop = s.loc[observations]\n",
        "    means[i] = sampled_pop[0].mean()\n",
        "\n",
        "nbins = 15\n",
        "sns.set_style('whitegrid')\n",
        "sns.set_style('ticks')\n",
        "fig, ax = plt.subplots()\n",
        "fig.set_size_inches(8, 6)\n",
        "sns.histplot(means, bins=nbins, color ='red', kde=True)\n",
        "plt.title('Histogram for sampled mean of Wald distribution')\n",
        "plt.xlabel('pH')\n",
        " \n",
        " "
      ]
    },
    {
      "cell_type": "markdown",
      "metadata": {
        "id": "BU5mL6hzmBSG"
      },
      "source": [
        "<!-- END QUESTION -->\n",
        "\n",
        "## Measuring Variability of Estimates"
      ]
    },
    {
      "cell_type": "markdown",
      "metadata": {
        "id": "jYFNBONvmBSG"
      },
      "source": [
        "Since, both the uniform and other distribution in population resulted in the normal (Gaussian) distribution type in the sampled mean. Now, Method-1 (point estimates) and Method 2 (Confidence Interval) can be applied.  \n",
        "\n"
      ]
    },
    {
      "cell_type": "markdown",
      "metadata": {
        "id": "r06LO6HxaTcZ"
      },
      "source": [
        "<!-- BEGIN QUESTION -->\n",
        "\n",
        "## Exercise 5 - Confidence Intervals\n",
        "\n",
        "Refer to section 4.3.1 and 4.3.2 in the textbook and from `nb.week3` notebook. Explain in words (in the below Markdown cell), what is a Confidence Interval ? What does it mean 95% C.I ? "
      ]
    },
    {
      "cell_type": "markdown",
      "metadata": {
        "id": "-Ofdrr07PuRr"
      },
      "source": [
        "**ANSWER HERE:**\n",
        "* A confidence interval is a probable range of values of the population parameter, which is calculated based on the sample statistics.\n",
        "* mean 95% confidence interval means that if we randomly choose n observations from the population N times (N should be large), around 95% of times mean of each of n observations (samples) will be within the confidence interval."
      ]
    },
    {
      "cell_type": "markdown",
      "metadata": {
        "id": "jxRthnJemBSH"
      },
      "source": [
        "<!-- END QUESTION -->\n",
        "\n",
        "### Example - Confidence Intervals\n",
        "\n",
        "Spend some time reviewing https://docs.scipy.org/doc/scipy/reference/stats.html\n",
        "\n",
        "\n",
        "* Below piece of code is replicated from `nb.week3`. Have a look into the calculation of Confidence Intervals. What happens when confidence level is changed? to 90% --> 95% --> 99% --> 99.9 %.\n",
        "\n",
        "* Check with different no of samples. \n",
        "* Check what happens if the no. of N-test is increased. \n",
        "\n",
        "Read: 4.3.2 in textbook"
      ]
    },
    {
      "cell_type": "code",
      "execution_count": null,
      "metadata": {
        "id": "riXC8xuKmBSI",
        "colab": {
          "base_uri": "https://localhost:8080/",
          "height": 380
        },
        "outputId": "3daf14ce-5047-4af0-c9a5-bbf4a9d20776"
      },
      "outputs": [
        {
          "output_type": "stream",
          "name": "stdout",
          "text": [
            "We are 99.0 % confident that the interval,\n",
            "   [2.8660669944291284, 3.8371330055708723] contains the mean.\n"
          ]
        },
        {
          "output_type": "display_data",
          "data": {
            "text/plain": [
              "<Figure size 576x288 with 1 Axes>"
            ],
            "image/png": "[encoded data removed]"
          },
          "metadata": {}
        }
      ],
      "source": [
        "''' observe the output plot while changing the Confidence level, \n",
        "no of samples and no of times the test is performed '''\n",
        "\n",
        "# some sampled mean. Note, not mean of population\n",
        "xbar = sampled_wines[\"pH\"].mean() \n",
        "# some sampled S.D. Note, not s.d. of population\n",
        "sigma = sampled_wines[\"pH\"].std() \n",
        "\n",
        "\n",
        "alpha = 0.01\n",
        "\n",
        "z_alphadiv2 = norm.ppf(1-alpha/2)\n",
        "confidence = norm.cdf(z_alphadiv2)-norm.cdf(-z_alphadiv2)\n",
        "ci = [xbar - sigma*z_alphadiv2, xbar + sigma*z_alphadiv2 ]\n",
        "print (\"We are\", round (confidence,5)*100 , \"% confident that the interval,\")\n",
        "print (\"  \",  ci,  \"contains the mean.\")\n",
        "\n",
        "N_test = 100\n",
        "n = 25\n",
        "\n",
        "means = np.array([0.0] * N_test)   # initialize list for means\n",
        "sigma = np.array([0.0] * N_test)   # initialize list for standard deviation\n",
        "ci = np.array([[0.0,0.0]] * N_test)  # initialize list for confidence intervals\n",
        "mu = wine[\"pH\"].mean()  # true mean\n",
        "\n",
        "\n",
        "for i in range(N_test):\n",
        "    observations = rng.choice(wine.index.values,n)\n",
        "    sampled_wines = wine.loc[observations]\n",
        "    means[i] = sampled_wines[\"pH\"].mean()\n",
        "    sigma[i] = sampled_wines[\"pH\"].std()\n",
        "    ci[i] = means[i] + np.array([-sigma[i] * z_alphadiv2/np.sqrt(n), \n",
        "                                 sigma[i]*z_alphadiv2/np.sqrt(n)])\n",
        "\n",
        "out1 = ci[:,0] > mu # flag CI that do not contain the \"true\" mean\n",
        "out2 = ci[:,1] < mu # flag CI that do not contain the \"true\" mean\n",
        "\n",
        "\n",
        "fig, ax = plt.subplots(1, 1, figsize=(8, 4))\n",
        "ind = np.arange(1, N_test+1)\n",
        "ax.axhline(y = mu, \n",
        "           xmin = 0, \n",
        "           xmax = N_test+1, \n",
        "           color = [0, 0, 0])\n",
        "\n",
        "ci = np.transpose(ci)\n",
        "ax.plot([ind,ind], \n",
        "        ci, \n",
        "        color = '0.75', \n",
        "        marker = '_', \n",
        "        ms = 0, \n",
        "        linewidth = 3)\n",
        "ax.plot([ind[out1],ind[out1]], \n",
        "        ci[:, out1], \n",
        "        color = [1, 0, 0, 0.8], \n",
        "        marker = '_', \n",
        "        ms = 0, \n",
        "        linewidth = 3)\n",
        "ax.plot([ind[out2],ind[out2]], \n",
        "        ci[:, out2], \n",
        "        color = [1, 0, 0, 0.8], \n",
        "        marker = '_',\n",
        "        ms = 0, \n",
        "        linewidth = 3)\n",
        "ax.plot(ind, \n",
        "        means, \n",
        "        color = [0, .8, .2, .8], \n",
        "        marker = '.',\n",
        "        ms = 10, \n",
        "        linestyle = '')\n",
        "ax.set_ylabel(\"Confidence interval for the samples' mean estimate\",\n",
        "              fontsize = 12)\n",
        "ax.set_xlabel('Samples (with %d observations). '  %n, \n",
        "              fontsize = 12)\n",
        "n = plt.show()"
      ]
    },
    {
      "cell_type": "markdown",
      "metadata": {
        "id": "_qp8ojqHmBSL"
      },
      "source": [
        "<!-- BEGIN QUESTION -->\n",
        "\n",
        "## Exercise 6\n",
        "\n",
        "Now assume that only the good quality wines are distilled at one of the wineries. It is known they contain pH greater than and equal to 3.5. The sampled mean by a quality inspector was 3.56 for a batch of 15 such wines. What is the 95% CI for mean? \n",
        " "
      ]
    },
    {
      "cell_type": "code",
      "execution_count": null,
      "metadata": {
        "id": "p-yHex5hmBSM",
        "tags": [],
        "colab": {
          "base_uri": "https://localhost:8080/"
        },
        "outputId": "8980f4d6-a860-471d-a62f-e05be573719e"
      },
      "outputs": [
        {
          "output_type": "stream",
          "name": "stdout",
          "text": [
            "The mean is : 3.548666666666667 & the Std deviation is: 0.05540328338215902\n",
            "We are 95.0 % confident that the interval\n",
            "    [3.5319625853386043, 3.588037414661396] contains the mean.\n"
          ]
        }
      ],
      "source": [
        "\n",
        "\n",
        "# We are interested in only a wines which have pH greater than 3.5. \n",
        "# This becomes our population  of interest\n",
        "\n",
        "n = 15\n",
        "alpha = 0.05\n",
        "\n",
        "# Sample Mean\n",
        "Xbar = 3.56\n",
        "\n",
        "# Filtering data for higher quality wines with pH >= 3.5 \n",
        "highquality = wine[wine['pH'] >= 3.5]\n",
        "sigma = highquality['pH'].std()\n",
        "\n",
        "\n",
        "observations = np.random.choice(highquality.index.values, 15)\n",
        "sampled_observations = highquality.loc[observations]\n",
        "\n",
        "mu = sampled_observations['pH'].mean()\n",
        "sigma = sampled_observations['pH'].std()\n",
        "print('The mean is :', mu, '& the Std deviation is:', sigma)\n",
        "\n",
        "\n",
        "# standard error computation\n",
        "se = sigma/np.sqrt(n)\n",
        "z_alphadiv2 = norm.ppf(1-alpha/2)\n",
        "confidence = norm.cdf(z_alphadiv2)-norm.cdf(-z_alphadiv2)\n",
        "CI = [Xbar - se*z_alphadiv2,Xbar + se*z_alphadiv2 ]\n",
        "\n",
        "print('We are', round(100*confidence,3), \"% confident that the interval\")\n",
        "print(\"   \", CI , \"contains the mean.\")\n"
      ]
    },
    {
      "cell_type": "markdown",
      "metadata": {
        "id": "qbMshbLXmBSO"
      },
      "source": [
        "<!-- END QUESTION -->\n",
        "\n",
        "<!-- BEGIN QUESTION -->\n",
        "\n",
        "## Exercise 7\n",
        "\n",
        "Using `stats.norm.interval()`, CI can be computed.  Use this function to compute the 95% CI for mean of 3.56 (batch of 15)"
      ]
    },
    {
      "cell_type": "code",
      "execution_count": null,
      "metadata": {
        "id": "VJ5iiWv6mBSP",
        "tags": [],
        "colab": {
          "base_uri": "https://localhost:8080/"
        },
        "outputId": "cc1385d4-c8f1-49ad-80de-9e191215f006"
      },
      "outputs": [
        {
          "output_type": "stream",
          "name": "stdout",
          "text": [
            "We are 95.0 % confident that the interval\n",
            "    (3.5319625853386043, 3.588037414661396) contains the mean.\n"
          ]
        }
      ],
      "source": [
        "CIs = stats.norm.interval(0.95, loc=3.56, scale=se)\n",
        "print('We are', round(100*confidence,3), \"% confident that the interval\")\n",
        "print('   ', CIs , \"contains the mean.\")\n",
        "       "
      ]
    },
    {
      "cell_type": "markdown",
      "metadata": {
        "id": "BGEdO4bpmBSR"
      },
      "source": [
        "<!-- END QUESTION -->\n",
        "\n",
        "### Example - t distribution\n",
        "\n",
        "\n",
        "If number of samples are low, it is better to use the t distribution.\n",
        "\n",
        "Recall, the exercise from `nb.week3`.  An engineer working for Ford is interested in the population of all vehicles that have an engine size of 3.0L or larger, and is particular interested in $\\mu$, the highway mileage (mpg). Assume the population is normally distributed. The sample mean among a random sample of 14 vehicles is 18.3 mpg, and the sample standard deviation is 5.1 mpg (note: $\\sigma$ is unknown). What is the 95% CI for $\\mu$?"
      ]
    },
    {
      "cell_type": "code",
      "execution_count": null,
      "metadata": {
        "id": "QaNuygxRmBSS",
        "colab": {
          "base_uri": "https://localhost:8080/"
        },
        "outputId": "1c04b503-3b43-4a36-cf72-9a8212225cdb"
      },
      "outputs": [
        {
          "output_type": "stream",
          "name": "stdout",
          "text": [
            "we are 95.0 % confident that the interval\n",
            "    [15.355347668416327, 21.244652331583676] contains the mean.\n"
          ]
        }
      ],
      "source": [
        "from scipy.stats import t\n",
        "alpha = 0.05\n",
        "xbar = 18.3\n",
        "n = 14\n",
        "dof = n-1\n",
        "se = 5.1/np.sqrt(n)\n",
        "t_alphadiv2 = t.ppf(1-alpha/2,dof)\n",
        "confidence = t.cdf (t_alphadiv2,dof)-t.cdf(-t_alphadiv2, dof)\n",
        "ci = [xbar - se*t_alphadiv2, xbar + se*t_alphadiv2]\n",
        "\n",
        "\n",
        "print('we are', round(100*(1-alpha), 3), '%', \"confident that the interval\")\n",
        "print('   ',  ci , \"contains the mean.\")\n",
        "\n"
      ]
    },
    {
      "cell_type": "markdown",
      "metadata": {
        "id": "ip7cgqdYmBSV"
      },
      "source": [
        "## Exercise 8 \n",
        "\n",
        "We can make a function out of the above code and/or can invoke Stats package from SciPy for the same. Recommended is to get use to stats package - `scipy.stats.t()`\n",
        "\n",
        "Apply `stats.t.interval()` function here to obatin the 95% CI, the sigma for this is known to be around 5.1. `xbar` is 18.3. The degrees of freedom are same as above n-1. \n",
        "\n",
        "https://docs.scipy.org/doc/scipy/reference/generated/scipy.stats.t.html\n"
      ]
    },
    {
      "cell_type": "code",
      "execution_count": null,
      "metadata": {
        "id": "vy0klJwbmBSW",
        "tags": [],
        "colab": {
          "base_uri": "https://localhost:8080/"
        },
        "outputId": "96a13979-08b0-46b4-f62a-61f2b564f324"
      },
      "outputs": [
        {
          "output_type": "stream",
          "name": "stdout",
          "text": [
            "we are 95.0 % confident that the interval\n",
            "    (15.355347668416327, 21.244652331583676) contains the mean.\n"
          ]
        }
      ],
      "source": [
        "# Use scipy.stats  \n",
        "from scipy.stats import t\n",
        "CIt = stats.t.interval(alpha=0.95, df =13, loc = 18.3, scale = 5.1/np.sqrt(14))\n",
        "print('we are', round(100*(1-alpha), 3), '%', \"confident that the interval\")\n",
        "print(\"   \", CIt , \"contains the mean.\")"
      ]
    },
    {
      "cell_type": "code",
      "execution_count": null,
      "metadata": {
        "deletable": false,
        "editable": false,
        "id": "KIyh6Lq7PuRs",
        "colab": {
          "base_uri": "https://localhost:8080/",
          "height": 46
        },
        "outputId": "7c4a85a3-d08b-4e9a-f76a-ef53bbd33222"
      },
      "outputs": [
        {
          "output_type": "execute_result",
          "data": {
            "text/plain": [
              "q8 results: All test cases passed!"
            ],
            "text/html": [
              "<p><strong><pre style='display: inline;'>q8</pre></strong> passed!</p>"
            ]
          },
          "metadata": {},
          "execution_count": 75
        }
      ],
      "source": [
        "grader.check(\"q8\")"
      ]
    },
    {
      "cell_type": "markdown",
      "metadata": {
        "id": "KzbLwksYmBSZ"
      },
      "source": [
        "### Example \n",
        "\n",
        "Calculate the standard error using `scipy.stats.sem()`\n",
        "\n",
        "https://docs.scipy.org/doc/scipy-0.14.0/reference/generated/scipy.stats.sem.html\n",
        "\n",
        "Standard error is computed by \\begin{align}\n",
        "S.E = \\frac{\\sigma}{\\sqrt{n}}\n",
        "\\end{align}\n",
        "\n"
      ]
    },
    {
      "cell_type": "code",
      "execution_count": null,
      "metadata": {
        "id": "jd069nazmBSa",
        "colab": {
          "base_uri": "https://localhost:8080/"
        },
        "outputId": "9e8357bd-6759-4887-d882-df0ee6dcbc72"
      },
      "outputs": [
        {
          "output_type": "stream",
          "name": "stdout",
          "text": [
            "S.E from sigma and n is:  0.0143050662576208\n",
            " and S.E from stats is also:  0.0143050662576208\n"
          ]
        }
      ],
      "source": [
        "from scipy import stats\n",
        "alpha = 0.05\n",
        "sigma = sampled_observations['pH'].std()\n",
        "n = 15\n",
        "se = sigma/np.sqrt(n)\n",
        "sef =  stats.sem(sampled_observations['pH'])\n",
        "print('S.E from sigma and n is: ', se)\n",
        "print(' and S.E from stats is also: ', sef)"
      ]
    },
    {
      "cell_type": "markdown",
      "metadata": {
        "id": "lSuIMl4kmBSf"
      },
      "source": [
        "## Exercise 9 \n",
        "\n",
        "Now you have worked on `stats.normal.interval` and `stats.t.interval` to compute the CI. Try to solve the questions below.\n",
        "\n",
        " The random daily quality check at packaging unit yielded sigma of 2.0 for a samples of 150 observations and the mean was 3.7. Find the 90% confidence interval for of the mean."
      ]
    },
    {
      "cell_type": "code",
      "execution_count": null,
      "metadata": {
        "id": "xrP0yhpAmBSf",
        "tags": [],
        "colab": {
          "base_uri": "https://localhost:8080/"
        },
        "outputId": "fca40c55-b78a-459e-f1d1-8b13480e359c"
      },
      "outputs": [
        {
          "output_type": "stream",
          "name": "stdout",
          "text": [
            "we are 90.0 % confident that the interval\n",
            "    (3.4313965274935105, 3.9686034725064894) contains the mean.\n"
          ]
        }
      ],
      "source": [
        "# compute the S.E (standard Error) using the formula explained earlier. \n",
        "from scipy import stats\n",
        "sigma = 2\n",
        "n = 150\n",
        "se = sigma/np.sqrt(n)\n",
        "\n",
        "# Use the most appropriate function: norm.interval or t.interval \n",
        "alpha = 0.1\n",
        "# CIs = stats.t.interval(1-alpha, df=n-1, loc = 3.7, scale = se)\n",
        "CIs = stats.norm.interval(0.90, loc=3.7, scale=se)\n",
        "# CIs = stats.norm.interval(...)\n",
        "# CIs = stats.t.interval(...)\n",
        "\n",
        "print('we are', round(100*(1-alpha), 3), \"% confident that the interval\")\n",
        "print(\"   \", CIs , \"contains the mean.\")"
      ]
    },
    {
      "cell_type": "code",
      "execution_count": null,
      "metadata": {
        "deletable": false,
        "editable": false,
        "id": "hjzrsWDRPuRs",
        "colab": {
          "base_uri": "https://localhost:8080/",
          "height": 46
        },
        "outputId": "216d2ad4-8590-4576-ec53-de88d0f5ce53"
      },
      "outputs": [
        {
          "output_type": "execute_result",
          "data": {
            "text/plain": [
              "q9 results: All test cases passed!"
            ],
            "text/html": [
              "<p><strong><pre style='display: inline;'>q9</pre></strong> passed!</p>"
            ]
          },
          "metadata": {},
          "execution_count": 92
        }
      ],
      "source": [
        "grader.check(\"q9\")"
      ]
    },
    {
      "cell_type": "markdown",
      "metadata": {
        "id": "9OSXJv5TmBSi"
      },
      "source": [
        "### Extra Exercises \n",
        "\n",
        "Now, if you have time, try to implement what you have learnt in this session to the avacado dataset, we had extracted from zipfile.\n",
        "\n",
        "1. What is the distribution of average price in the dataset?\n",
        "2. Distribution of sampled price?\n",
        "3. CI for a case. "
      ]
    },
    {
      "cell_type": "code",
      "execution_count": null,
      "metadata": {
        "id": "uiFRTCVEmBSi"
      },
      "outputs": [],
      "source": []
    }
  ],
  "metadata": {
    "colab": {
      "collapsed_sections": [],
      "provenance": []
    },
    "kernelspec": {
      "display_name": "un5550f22",
      "language": "python",
      "name": "un5550f22"
    },
    "language_info": {
      "codemirror_mode": {
        "name": "ipython",
        "version": 3
      },
      "file_extension": ".py",
      "mimetype": "text/x-python",
      "name": "python",
      "nbconvert_exporter": "python",
      "pygments_lexer": "ipython3",
      "version": "3.7.11"
    },
    "otter": {
      "OK_FORMAT": true,
      "tests": {
        "q8": {
          "name": "q8",
          "points": 1,
          "suites": [
            {
              "cases": [
                {
                  "code": ">>> np.isclose(CIt[0], 15.355347) and np.isclose(CIt[1], 21.244652)\nTrue",
                  "hidden": false,
                  "locked": false
                }
              ],
              "scored": true,
              "setup": "",
              "teardown": "",
              "type": "doctest"
            }
          ]
        },
        "q9": {
          "name": "q9",
          "points": 2,
          "suites": [
            {
              "cases": [
                {
                  "code": ">>> np.isclose(CIs[0], 3.43139) and np.isclose(CIs[1], 3.96860)\nTrue",
                  "hidden": false,
                  "locked": false
                }
              ],
              "scored": true,
              "setup": "",
              "teardown": "",
              "type": "doctest"
            }
          ]
        }
      }
    }
  },
  "nbformat": 4,
  "nbformat_minor": 0
}