{
  "cells": [
    {
      "cell_type": "markdown",
      "metadata": {
        "id": "jF6GNkGEqRe3"
      },
      "source": [
        "# P2 - Statistics + Visualization\n",
        "\n",
        "\n",
        "This project is intended to give you experience with statistics and working with a large data set.\n",
        "\n",
        "\n",
        "\n"
      ]
    },
    {
      "cell_type": "markdown",
      "metadata": {
        "id": "tKTRUsa5Eqxq"
      },
      "source": [
        "## Autograder Setup\n",
        "\n",
        "The next code cell should be uncommented to run the autograder tests when using Colab/DeepNote. If you are using an environment with `otter-grader` already installed (your own machine, lab machines), then do not uncomment the code."
      ]
    },
    {
      "cell_type": "code",
      "execution_count": null,
      "metadata": {
        "colab": {
          "base_uri": "https://localhost:8080/"
        },
        "id": "LW3QCML8Eqxr",
        "outputId": "2eb2ddca-d012-42f0-a50c-bca46ea9f7fc"
      },
      "outputs": [
        {
          "output_type": "stream",
          "name": "stdout",
          "text": [
            "Looking in indexes: https://pypi.org/simple, https://us-python.pkg.dev/colab-wheels/public/simple/\n",
            "Collecting otter-grader\n",
            "  Downloading otter_grader-4.0.2-py3-none-any.whl (167 kB)\n",
            "\u001b[K     |████████████████████████████████| 167 kB 18.4 MB/s \n",
            "\u001b[?25hRequirement already satisfied: PyYAML in /usr/local/lib/python3.7/dist-packages (from otter-grader) (6.0)\n",
            "Requirement already satisfied: jinja2 in /usr/local/lib/python3.7/dist-packages (from otter-grader) (2.11.3)\n",
            "Requirement already satisfied: requests in /usr/local/lib/python3.7/dist-packages (from otter-grader) (2.23.0)\n",
            "Requirement already satisfied: google-api-python-client in /usr/local/lib/python3.7/dist-packages (from otter-grader) (1.12.11)\n",
            "Requirement already satisfied: google-auth-oauthlib in /usr/local/lib/python3.7/dist-packages (from otter-grader) (0.4.6)\n",
            "Collecting jupytext\n",
            "  Downloading jupytext-1.14.1-py3-none-any.whl (297 kB)\n",
            "\u001b[K     |████████████████████████████████| 297 kB 61.8 MB/s \n",
            "\u001b[?25hRequirement already satisfied: nbformat in /usr/local/lib/python3.7/dist-packages (from otter-grader) (5.4.0)\n",
            "Collecting python-on-whales\n",
            "  Downloading python_on_whales-0.52.0-py3-none-any.whl (97 kB)\n",
            "\u001b[K     |████████████████████████████████| 97 kB 7.9 MB/s \n",
            "\u001b[?25hRequirement already satisfied: gspread in /usr/local/lib/python3.7/dist-packages (from otter-grader) (3.4.2)\n",
            "Requirement already satisfied: pandas in /usr/local/lib/python3.7/dist-packages (from otter-grader) (1.3.5)\n",
            "Requirement already satisfied: click in /usr/local/lib/python3.7/dist-packages (from otter-grader) (7.1.2)\n",
            "Collecting fica>=0.2.0\n",
            "  Downloading fica-0.2.0-py3-none-any.whl (11 kB)\n",
            "Requirement already satisfied: wrapt in /usr/local/lib/python3.7/dist-packages (from otter-grader) (1.14.1)\n",
            "Requirement already satisfied: six in /usr/local/lib/python3.7/dist-packages (from otter-grader) (1.15.0)\n",
            "Requirement already satisfied: dill in /usr/local/lib/python3.7/dist-packages (from otter-grader) (0.3.5.1)\n",
            "Requirement already satisfied: sphinx in /usr/local/lib/python3.7/dist-packages (from fica>=0.2.0->otter-grader) (1.8.6)\n",
            "Requirement already satisfied: docutils in /usr/local/lib/python3.7/dist-packages (from fica>=0.2.0->otter-grader) (0.17.1)\n",
            "Requirement already satisfied: uritemplate<4dev,>=3.0.0 in /usr/local/lib/python3.7/dist-packages (from google-api-python-client->otter-grader) (3.0.1)\n",
            "Requirement already satisfied: google-auth<3dev,>=1.16.0 in /usr/local/lib/python3.7/dist-packages (from google-api-python-client->otter-grader) (1.35.0)\n",
            "Requirement already satisfied: httplib2<1dev,>=0.15.0 in /usr/local/lib/python3.7/dist-packages (from google-api-python-client->otter-grader) (0.17.4)\n",
            "Requirement already satisfied: google-auth-httplib2>=0.0.3 in /usr/local/lib/python3.7/dist-packages (from google-api-python-client->otter-grader) (0.0.4)\n",
            "Requirement already satisfied: google-api-core<3dev,>=1.21.0 in /usr/local/lib/python3.7/dist-packages (from google-api-python-client->otter-grader) (1.31.6)\n",
            "Requirement already satisfied: protobuf<4.0.0dev,>=3.12.0 in /usr/local/lib/python3.7/dist-packages (from google-api-core<3dev,>=1.21.0->google-api-python-client->otter-grader) (3.17.3)\n",
            "Requirement already satisfied: packaging>=14.3 in /usr/local/lib/python3.7/dist-packages (from google-api-core<3dev,>=1.21.0->google-api-python-client->otter-grader) (21.3)\n",
            "Requirement already satisfied: setuptools>=40.3.0 in /usr/local/lib/python3.7/dist-packages (from google-api-core<3dev,>=1.21.0->google-api-python-client->otter-grader) (57.4.0)\n",
            "Requirement already satisfied: pytz in /usr/local/lib/python3.7/dist-packages (from google-api-core<3dev,>=1.21.0->google-api-python-client->otter-grader) (2022.2.1)\n",
            "Requirement already satisfied: googleapis-common-protos<2.0dev,>=1.6.0 in /usr/local/lib/python3.7/dist-packages (from google-api-core<3dev,>=1.21.0->google-api-python-client->otter-grader) (1.56.4)\n",
            "Requirement already satisfied: rsa<5,>=3.1.4 in /usr/local/lib/python3.7/dist-packages (from google-auth<3dev,>=1.16.0->google-api-python-client->otter-grader) (4.9)\n",
            "Requirement already satisfied: pyasn1-modules>=0.2.1 in /usr/local/lib/python3.7/dist-packages (from google-auth<3dev,>=1.16.0->google-api-python-client->otter-grader) (0.2.8)\n",
            "Requirement already satisfied: cachetools<5.0,>=2.0.0 in /usr/local/lib/python3.7/dist-packages (from google-auth<3dev,>=1.16.0->google-api-python-client->otter-grader) (4.2.4)\n",
            "Requirement already satisfied: pyparsing!=3.0.5,>=2.0.2 in /usr/local/lib/python3.7/dist-packages (from packaging>=14.3->google-api-core<3dev,>=1.21.0->google-api-python-client->otter-grader) (3.0.9)\n",
            "Requirement already satisfied: pyasn1<0.5.0,>=0.4.6 in /usr/local/lib/python3.7/dist-packages (from pyasn1-modules>=0.2.1->google-auth<3dev,>=1.16.0->google-api-python-client->otter-grader) (0.4.8)\n",
            "Requirement already satisfied: urllib3!=1.25.0,!=1.25.1,<1.26,>=1.21.1 in /usr/local/lib/python3.7/dist-packages (from requests->otter-grader) (1.24.3)\n",
            "Requirement already satisfied: chardet<4,>=3.0.2 in /usr/local/lib/python3.7/dist-packages (from requests->otter-grader) (3.0.4)\n",
            "Requirement already satisfied: certifi>=2017.4.17 in /usr/local/lib/python3.7/dist-packages (from requests->otter-grader) (2022.6.15)\n",
            "Requirement already satisfied: idna<3,>=2.5 in /usr/local/lib/python3.7/dist-packages (from requests->otter-grader) (2.10)\n",
            "Requirement already satisfied: requests-oauthlib>=0.7.0 in /usr/local/lib/python3.7/dist-packages (from google-auth-oauthlib->otter-grader) (1.3.1)\n",
            "Requirement already satisfied: oauthlib>=3.0.0 in /usr/local/lib/python3.7/dist-packages (from requests-oauthlib>=0.7.0->google-auth-oauthlib->otter-grader) (3.2.0)\n",
            "Requirement already satisfied: MarkupSafe>=0.23 in /usr/local/lib/python3.7/dist-packages (from jinja2->otter-grader) (2.0.1)\n",
            "Requirement already satisfied: toml in /usr/local/lib/python3.7/dist-packages (from jupytext->otter-grader) (0.10.2)\n",
            "Collecting markdown-it-py<3.0.0,>=1.0.0\n",
            "  Downloading markdown_it_py-2.1.0-py3-none-any.whl (84 kB)\n",
            "\u001b[K     |████████████████████████████████| 84 kB 4.0 MB/s \n",
            "\u001b[?25hCollecting mdit-py-plugins\n",
            "  Downloading mdit_py_plugins-0.3.1-py3-none-any.whl (46 kB)\n",
            "\u001b[K     |████████████████████████████████| 46 kB 5.0 MB/s \n",
            "\u001b[?25hRequirement already satisfied: typing_extensions>=3.7.4 in /usr/local/lib/python3.7/dist-packages (from markdown-it-py<3.0.0,>=1.0.0->jupytext->otter-grader) (4.1.1)\n",
            "Collecting mdurl~=0.1\n",
            "  Downloading mdurl-0.1.2-py3-none-any.whl (10.0 kB)\n",
            "Requirement already satisfied: jupyter-core in /usr/local/lib/python3.7/dist-packages (from nbformat->otter-grader) (4.11.1)\n",
            "Requirement already satisfied: jsonschema>=2.6 in /usr/local/lib/python3.7/dist-packages (from nbformat->otter-grader) (4.3.3)\n",
            "Requirement already satisfied: fastjsonschema in /usr/local/lib/python3.7/dist-packages (from nbformat->otter-grader) (2.16.1)\n",
            "Requirement already satisfied: traitlets>=5.1 in /usr/local/lib/python3.7/dist-packages (from nbformat->otter-grader) (5.1.1)\n",
            "Requirement already satisfied: attrs>=17.4.0 in /usr/local/lib/python3.7/dist-packages (from jsonschema>=2.6->nbformat->otter-grader) (22.1.0)\n",
            "Requirement already satisfied: importlib-resources>=1.4.0 in /usr/local/lib/python3.7/dist-packages (from jsonschema>=2.6->nbformat->otter-grader) (5.9.0)\n",
            "Requirement already satisfied: pyrsistent!=0.17.0,!=0.17.1,!=0.17.2,>=0.14.0 in /usr/local/lib/python3.7/dist-packages (from jsonschema>=2.6->nbformat->otter-grader) (0.18.1)\n",
            "Requirement already satisfied: importlib-metadata in /usr/local/lib/python3.7/dist-packages (from jsonschema>=2.6->nbformat->otter-grader) (4.12.0)\n",
            "Requirement already satisfied: zipp>=3.1.0 in /usr/local/lib/python3.7/dist-packages (from importlib-resources>=1.4.0->jsonschema>=2.6->nbformat->otter-grader) (3.8.1)\n",
            "Requirement already satisfied: numpy>=1.17.3 in /usr/local/lib/python3.7/dist-packages (from pandas->otter-grader) (1.21.6)\n",
            "Requirement already satisfied: python-dateutil>=2.7.3 in /usr/local/lib/python3.7/dist-packages (from pandas->otter-grader) (2.8.2)\n",
            "Requirement already satisfied: pydantic in /usr/local/lib/python3.7/dist-packages (from python-on-whales->otter-grader) (1.9.2)\n",
            "Requirement already satisfied: typer>=0.4.1 in /usr/local/lib/python3.7/dist-packages (from python-on-whales->otter-grader) (0.4.2)\n",
            "Requirement already satisfied: tqdm in /usr/local/lib/python3.7/dist-packages (from python-on-whales->otter-grader) (4.64.1)\n",
            "Requirement already satisfied: Pygments>=2.0 in /usr/local/lib/python3.7/dist-packages (from sphinx->fica>=0.2.0->otter-grader) (2.6.1)\n",
            "Requirement already satisfied: snowballstemmer>=1.1 in /usr/local/lib/python3.7/dist-packages (from sphinx->fica>=0.2.0->otter-grader) (2.2.0)\n",
            "Requirement already satisfied: babel!=2.0,>=1.3 in /usr/local/lib/python3.7/dist-packages (from sphinx->fica>=0.2.0->otter-grader) (2.10.3)\n",
            "Requirement already satisfied: alabaster<0.8,>=0.7 in /usr/local/lib/python3.7/dist-packages (from sphinx->fica>=0.2.0->otter-grader) (0.7.12)\n",
            "Requirement already satisfied: sphinxcontrib-websupport in /usr/local/lib/python3.7/dist-packages (from sphinx->fica>=0.2.0->otter-grader) (1.2.4)\n",
            "Requirement already satisfied: imagesize in /usr/local/lib/python3.7/dist-packages (from sphinx->fica>=0.2.0->otter-grader) (1.4.1)\n",
            "Requirement already satisfied: sphinxcontrib-serializinghtml in /usr/local/lib/python3.7/dist-packages (from sphinxcontrib-websupport->sphinx->fica>=0.2.0->otter-grader) (1.1.5)\n",
            "Installing collected packages: mdurl, markdown-it-py, mdit-py-plugins, python-on-whales, jupytext, fica, otter-grader\n",
            "Successfully installed fica-0.2.0 jupytext-1.14.1 markdown-it-py-2.1.0 mdit-py-plugins-0.3.1 mdurl-0.1.2 otter-grader-4.0.2 python-on-whales-0.52.0\n"
          ]
        }
      ],
      "source": [
        "# !pip install otter-grader"
      ]
    },
    {
      "cell_type": "markdown",
      "metadata": {
        "id": "CHHsUaZaEqxw"
      },
      "source": [
        "For this project, you will download the data and public autograder tests using a new mechanism (see later sections).  "
      ]
    },
    {
      "cell_type": "markdown",
      "metadata": {
        "id": "96CO2I1aEqxy"
      },
      "source": [
        "## Project Setup\n",
        "\n",
        "You should use the following modules in this assignment and not need any additional modules. "
      ]
    },
    {
      "cell_type": "code",
      "execution_count": null,
      "metadata": {
        "id": "WNM1QRdazqgy"
      },
      "outputs": [],
      "source": [
        "import pandas as pd\n",
        "import numpy as np\n",
        "import matplotlib.pyplot as plt\n",
        "%matplotlib inline \n",
        "import seaborn as sns\n",
        "import datetime\n",
        "import os \n",
        "import getpass\n",
        "\n",
        "\n",
        "import otter"
      ]
    },
    {
      "cell_type": "markdown",
      "metadata": {
        "id": "btppYjmdqu7s"
      },
      "source": [
        "# Flight Delays\n",
        "\n",
        "Suppose the Houghton County Airport (CMX) is ready to renew its passenger airplance contract.  Airport officials and interested passengers would like to select an airline and connecting city that has reliable service.  *Currently, CMX is being served by United Airlines through Chicago-O'hare (ORD); it has been served by Delta in the past with connections to Minneapolis-St. Paul (MSP).* \n",
        "\n",
        "In order to make an informed decision, you have been tasked to look at flight delay statistics for three potential connector airports: \n",
        "\n",
        "* Chicago - O'hare (ORD) \n",
        "* Detroit (DTW) \n",
        "* Minneapolis - St. Paul (MSP) \n",
        "\n",
        "The data you are provided comes from the US Department of Transportation's [Bureau of Transportation Statistics (BTS)](https://www.bts.gov).  In particular, it comes from the Reporting Carrier On-Time Performance data tables:  \n",
        "https://www.transtats.bts.gov/TableInfo.asp?gnoyr_VQ=FGJ&QO_fu146_anzr=b0-gvzr&V0s1_b0yB=D\n",
        "\n",
        "Information on the variables can be found in the Field Information:  \n",
        "https://www.transtats.bts.gov/Fields.asp?gnoyr_VQ=FGJ\n",
        "\n",
        "\n",
        "The data is structure with the following elements: \n",
        "\n",
        "* \"YEAR\"\n",
        "* \"MONTH\"\n",
        "* \"DAY_OF_MONTH\"\n",
        "* \"OP_UNIQUE_CARRIER\" - Unique Carrier Code\n",
        "* \"TAIL_NUM\" - Tail number \n",
        "* \"OP_CARRIER_FL_NUM\" - Flight number \n",
        "* \"ORIGIN\" - Origin Airport code \n",
        "* \"DEST\" - Destination Airport code \n",
        "* \"CRS_DEP_TIME\" - Computer Reservation System Departure Time (local time: hhmm)\n",
        "* \"DEP_TIME\" - Actual Departure Time (local time: hhmm)\n",
        "* \"DEP_NEXT_DAY\" - the flight departed on the: (scheduled day = 0), (next day = 1), (following day = 2), or (day before  = -1)\n",
        "* \"CRS_ARR_TIME\" - Computer Reservation System Arrival Time (local time: hhmm)\n",
        "* \"ARR_TIME\" - Actual Arrival Time \n",
        "* \"ARR_NEXT_DAY\" - the flight arrived on the: (scheduled day = 0), (next day = 1), (following day = 2), or (day before  = -1)\n",
        "* \"CANCELLED\" - Cancelled Flight Indicator (1 = Yes)\n",
        "* \"DIVERTED\" - Diverted Flight Indicator (1 = Yes)\n",
        "\n",
        "You have access to 5 years of data Jan 2017 - Dec 2021. "
      ]
    },
    {
      "cell_type": "markdown",
      "metadata": {
        "id": "D_tu0O0G4GkA"
      },
      "source": [
        "## Access the Data \n",
        "\n",
        "The data is available as a [Kaggle](http://www.kaggle.com) data set.  \n",
        "\n",
        "\n",
        "Steps to download: \n",
        "\n",
        "1. Create a [Kaggle](https://www.kaggle.com/) account (if you don't have one already). \n",
        "2. After you log in, go to \"My Account\" \n",
        "3. Under API, select \"Create API token\", this will download a `kaggle.json` file that has two pieces of information:  `username` and  `key`.  **Keep the `key` private!**\n",
        "4. Post your username on Ed in response to the question on this.  I am not making the data available publicly, but will share it with you all by your kaggle account.  \n",
        "\n",
        "\n",
        "You will need to use your Kaggle credentials: `username` and API `key` to access the data using one of the methods below. "
      ]
    },
    {
      "cell_type": "markdown",
      "metadata": {
        "id": "-SEdSfuSZRiR"
      },
      "source": [
        "## Q0 - Data Access \n",
        "\n",
        "Complete assignment P2a. \n",
        "\n",
        "Email or Post on Ed your Kaggle `username`.  The post on Ed can be a private response.  **DO NOT SHARE YOUR KEY!**  just share your Kaggle username. \n",
        "\n",
        "Then uncomment one of the methods below to get your username and key available. "
      ]
    },
    {
      "cell_type": "markdown",
      "metadata": {
        "id": "iBZo_WTo4oP_"
      },
      "source": [
        "#### Method 1: (Recomended) \n",
        "\n",
        "Copy and paste the key information (does not upload your key information to the Drive)."
      ]
    },
    {
      "cell_type": "code",
      "execution_count": null,
      "metadata": {
        "colab": {
          "base_uri": "https://localhost:8080/"
        },
        "id": "VMuIuhxh4q5R",
        "outputId": "223eb721-bef9-4ff0-9417-b28cb7f5c85b"
      },
      "outputs": [
        {
          "name": "stdout",
          "output_type": "stream",
          "text": [
            "Enter Kaggle Username: ··········\n",
            "Enter Kaggle API Key:  ··········\n"
          ]
        }
      ],
      "source": [
        "# import os \n",
        "# from getpass import getpass\n",
        "\n",
        "# os.environ['KAGGLE_USERNAME'] = getpass(\"Enter Kaggle Username: \")\n",
        "# os.environ['KAGGLE_KEY'] = getpass(\"Enter Kaggle API Key:  \")"
      ]
    },
    {
      "cell_type": "markdown",
      "metadata": {
        "id": "aWTRI0BY4wAd"
      },
      "source": [
        "#### Method 2: \n",
        "\n",
        "Load `kaggle.json` to Colab directory (file is destroyed when sevice is disconnected).  This method relys on Google's security for safely storing and protecting your data."
      ]
    },
    {
      "cell_type": "code",
      "execution_count": null,
      "metadata": {
        "id": "rZ3PkJtV40np"
      },
      "outputs": [],
      "source": [
        "# from google.colab import files\n",
        "# uploaded = files.upload()"
      ]
    },
    {
      "cell_type": "code",
      "execution_count": null,
      "metadata": {
        "id": "O6CNeNfc44U8"
      },
      "outputs": [],
      "source": [
        "# with open(\"kaggle.json\") as f:\n",
        "#     keys = json.load(f)\n",
        "\n",
        "# os.environ['KAGGLE_USERNAME'] = keys[\"username\"] # username from the json file\n",
        "# os.environ['KAGGLE_KEY'] = keys[\"key\"] # key from the json file"
      ]
    },
    {
      "cell_type": "markdown",
      "metadata": {
        "id": "SQA10H9746-v"
      },
      "source": [
        "## Download the Data \n",
        "\n",
        "Uncomment the following to get the data and autograder tests. "
      ]
    },
    {
      "cell_type": "code",
      "execution_count": null,
      "metadata": {
        "colab": {
          "base_uri": "https://localhost:8080/"
        },
        "id": "H8xpmkYv4_aC",
        "outputId": "13f779fb-871e-4bff-cc1b-6a4dce919af5"
      },
      "outputs": [
        {
          "output_type": "stream",
          "name": "stdout",
          "text": [
            "Downloading un5550-f22-p2.zip to /content\n",
            " 75% 49.0M/65.4M [00:00<00:00, 98.7MB/s]\n",
            "100% 65.4M/65.4M [00:00<00:00, 103MB/s] \n"
          ]
        }
      ],
      "source": [
        "# !kaggle datasets download -d lebrown/un5550-f22-p2     # api copied from kaggle"
      ]
    },
    {
      "cell_type": "code",
      "execution_count": null,
      "metadata": {
        "colab": {
          "base_uri": "https://localhost:8080/"
        },
        "id": "XOuOZ4QmEqyA",
        "outputId": "505523e1-166f-4806-95fc-dcf7ee0baf98"
      },
      "outputs": [
        {
          "output_type": "stream",
          "name": "stdout",
          "text": [
            "Archive:  un5550-f22-p2.zip\n",
            "  inflating: flight-data.csv         \n",
            "  inflating: tests/q1.py             \n",
            "  inflating: tests/q10.py            \n",
            "  inflating: tests/q2.py             \n",
            "  inflating: tests/q3.py             \n",
            "  inflating: tests/q4.py             \n",
            "  inflating: tests/q5.py             \n",
            "  inflating: tests/q6.py             \n",
            "  inflating: tests/q7.py             \n",
            "  inflating: tests/q8.py             \n"
          ]
        }
      ],
      "source": [
        "# !unzip un5550-f22-p2.zip"
      ]
    },
    {
      "cell_type": "markdown",
      "metadata": {
        "id": "7Bbj_TC781vb"
      },
      "source": [
        "As you can see, there is a data file `flight-data`.  Now with the test files available we can set up the grader. "
      ]
    },
    {
      "cell_type": "code",
      "execution_count": null,
      "metadata": {
        "id": "qTjSdZESEqyA"
      },
      "outputs": [],
      "source": [
        "grader = otter.Notebook()"
      ]
    },
    {
      "cell_type": "markdown",
      "metadata": {
        "id": "KlPF45q49Cgz"
      },
      "source": [
        "### Aside: Creating this DataFrame \n",
        "\n",
        "The raw data from the BTS comes in files for each month over the 5 year period.  So a collection of 60 files.  \n",
        "\n",
        "The 60 files can be combined together into a single data frame through multiple methods.   Here we can compare two. \n",
        "\n"
      ]
    },
    {
      "cell_type": "markdown",
      "metadata": {
        "id": "t2i0X3q6EqyB"
      },
      "source": [
        "#### Create DataFrame - version 1 \n",
        "\n",
        "In this version we will use pandas `concat` or concatenate function. "
      ]
    },
    {
      "cell_type": "markdown",
      "metadata": {
        "id": "qZQwgKjkEqyC"
      },
      "source": [
        "```python\n",
        "import time\n",
        "start = time.time()\n",
        "df = pd.DataFrame() \n",
        "\n",
        "# Iterate over all files \n",
        "for file in os.listdir(path):\n",
        "    if file.endswith(\".csv\"):\n",
        "        df = pd.concat([df, pd.read_csv(file, header=None)], axis=0)\n",
        "\n",
        "# reset the index \n",
        "df.reset_index(drop=True, inplace=True)\n",
        "end = time.time()\n",
        "\n",
        "print(\"Elapsed time:  \", end - start)\n",
        "```\n",
        "\n",
        "This method takes ~35 seconds to run. "
      ]
    },
    {
      "cell_type": "markdown",
      "metadata": {
        "id": "5zK_XQng98RP"
      },
      "source": [
        "**What's the problem with this version?** \n",
        "\n",
        "The concatenate function is called each iteration of the loop and it is slow!\n",
        "\n"
      ]
    },
    {
      "cell_type": "markdown",
      "metadata": {
        "id": "hwwcBYDk98Mt"
      },
      "source": [
        "#### Create DataFrame - version 2 \n",
        "\n",
        "In this version we still use `concat`, but do it on a list of data frames. "
      ]
    },
    {
      "cell_type": "markdown",
      "metadata": {
        "id": "gYzOMm3ZCdb5",
        "outputId": "6c111887-da27-46a8-e6cf-1a99f8c9108a"
      },
      "source": [
        "```python\n",
        "import glob\n",
        "start = time.time()\n",
        "# files = sorted(glob.glob('' + \"*.csv\"))\n",
        "files = sorted(glob.glob(os.path.join(path, \"*.csv\")))\n",
        "\n",
        "dfs = (\n",
        "    pd.read_csv(f, header=None) for f in files\n",
        ")\n",
        "\n",
        "df2 = pd.concat(dfs)\n",
        "\n",
        "# reset the index \n",
        "df2.reset_index(drop=True, inplace=True)\n",
        "end = time.time()\n",
        "\n",
        "print(\"Elapsed time:  \", end - start)\n",
        "```\n",
        "\n",
        "This methods takes ~18 seconds to run.  "
      ]
    },
    {
      "cell_type": "markdown",
      "metadata": {
        "id": "JKdkhPN7hlmt"
      },
      "source": [
        "## Q1 (5 pts) - Load Data \n",
        "\n",
        "Read in the data.    \n",
        "\n",
        "Set the column names to be: `year`, `month`, `day`, `carrier`, `tailNum`, `flNum`, `origin`, `dest`, `crsDepTime`, `actDepTime`, `depNextDay`, `crsArrTime`, `actArrTime`, `arrNextDay`, `cancelled`, `diverted` \n",
        " "
      ]
    },
    {
      "cell_type": "code",
      "execution_count": null,
      "metadata": {
        "id": "igLRdJzwiRti",
        "tags": [],
        "colab": {
          "base_uri": "https://localhost:8080/",
          "height": 206
        },
        "outputId": "0b6a8a30-2209-44fe-bb74-b599bc6aef40"
      },
      "outputs": [
        {
          "output_type": "execute_result",
          "data": {
            "text/plain": [
              "   year  month  day carrier tailNum  flNum origin dest  crsDepTime  \\\n",
              "0  2021      4   11      AS  N309AS    792    SEA  DTW        1010   \n",
              "1  2021      4   11      AS  N408AS   1011    ORD  SEA         700   \n",
              "2  2021      4   11      AS  N520AS   1012    SEA  MSP        1830   \n",
              "3  2021      4   11      AS  N472AS   1013    ORD  SEA        1405   \n",
              "4  2021      4   11      AS  N237AK   1014    SEA  ORD        1045   \n",
              "\n",
              "   actDepTime  depNextDay  crsArrTime  actArrTime  arrNextDay  cancelled  \\\n",
              "0      1013.0           0        1730      1736.0           0        0.0   \n",
              "1       703.0           0         940       916.0           0        0.0   \n",
              "2      1825.0           0        2345      2337.0           0        0.0   \n",
              "3      1404.0           0        1645      1627.0           0        0.0   \n",
              "4      1054.0           0        1650      1652.0           0        0.0   \n",
              "\n",
              "   diverted  \n",
              "0       0.0  \n",
              "1       0.0  \n",
              "2       0.0  \n",
              "3       0.0  \n",
              "4       0.0  "
            ],
            "text/html": [
              "\n",
              "  <div id=\"df-fd2335d5-62c8-49d5-bae5-78cef865ad6d\">\n",
              "    <div class=\"colab-df-container\">\n",
              "      <div>\n",
              "<style scoped>\n",
              "    .dataframe tbody tr th:only-of-type {\n",
              "        vertical-align: middle;\n",
              "    }\n",
              "\n",
              "    .dataframe tbody tr th {\n",
              "        vertical-align: top;\n",
              "    }\n",
              "\n",
              "    .dataframe thead th {\n",
              "        text-align: right;\n",
              "    }\n",
              "</style>\n",
              "<table border=\"1\" class=\"dataframe\">\n",
              "  <thead>\n",
              "    <tr style=\"text-align: right;\">\n",
              "      <th></th>\n",
              "      <th>year</th>\n",
              "      <th>month</th>\n",
              "      <th>day</th>\n",
              "      <th>carrier</th>\n",
              "      <th>tailNum</th>\n",
              "      <th>flNum</th>\n",
              "      <th>origin</th>\n",
              "      <th>dest</th>\n",
              "      <th>crsDepTime</th>\n",
              "      <th>actDepTime</th>\n",
              "      <th>depNextDay</th>\n",
              "      <th>crsArrTime</th>\n",
              "      <th>actArrTime</th>\n",
              "      <th>arrNextDay</th>\n",
              "      <th>cancelled</th>\n",
              "      <th>diverted</th>\n",
              "    </tr>\n",
              "  </thead>\n",
              "  <tbody>\n",
              "    <tr>\n",
              "      <th>0</th>\n",
              "      <td>2021</td>\n",
              "      <td>4</td>\n",
              "      <td>11</td>\n",
              "      <td>AS</td>\n",
              "      <td>N309AS</td>\n",
              "      <td>792</td>\n",
              "      <td>SEA</td>\n",
              "      <td>DTW</td>\n",
              "      <td>1010</td>\n",
              "      <td>1013.0</td>\n",
              "      <td>0</td>\n",
              "      <td>1730</td>\n",
              "      <td>1736.0</td>\n",
              "      <td>0</td>\n",
              "      <td>0.0</td>\n",
              "      <td>0.0</td>\n",
              "    </tr>\n",
              "    <tr>\n",
              "      <th>1</th>\n",
              "      <td>2021</td>\n",
              "      <td>4</td>\n",
              "      <td>11</td>\n",
              "      <td>AS</td>\n",
              "      <td>N408AS</td>\n",
              "      <td>1011</td>\n",
              "      <td>ORD</td>\n",
              "      <td>SEA</td>\n",
              "      <td>700</td>\n",
              "      <td>703.0</td>\n",
              "      <td>0</td>\n",
              "      <td>940</td>\n",
              "      <td>916.0</td>\n",
              "      <td>0</td>\n",
              "      <td>0.0</td>\n",
              "      <td>0.0</td>\n",
              "    </tr>\n",
              "    <tr>\n",
              "      <th>2</th>\n",
              "      <td>2021</td>\n",
              "      <td>4</td>\n",
              "      <td>11</td>\n",
              "      <td>AS</td>\n",
              "      <td>N520AS</td>\n",
              "      <td>1012</td>\n",
              "      <td>SEA</td>\n",
              "      <td>MSP</td>\n",
              "      <td>1830</td>\n",
              "      <td>1825.0</td>\n",
              "      <td>0</td>\n",
              "      <td>2345</td>\n",
              "      <td>2337.0</td>\n",
              "      <td>0</td>\n",
              "      <td>0.0</td>\n",
              "      <td>0.0</td>\n",
              "    </tr>\n",
              "    <tr>\n",
              "      <th>3</th>\n",
              "      <td>2021</td>\n",
              "      <td>4</td>\n",
              "      <td>11</td>\n",
              "      <td>AS</td>\n",
              "      <td>N472AS</td>\n",
              "      <td>1013</td>\n",
              "      <td>ORD</td>\n",
              "      <td>SEA</td>\n",
              "      <td>1405</td>\n",
              "      <td>1404.0</td>\n",
              "      <td>0</td>\n",
              "      <td>1645</td>\n",
              "      <td>1627.0</td>\n",
              "      <td>0</td>\n",
              "      <td>0.0</td>\n",
              "      <td>0.0</td>\n",
              "    </tr>\n",
              "    <tr>\n",
              "      <th>4</th>\n",
              "      <td>2021</td>\n",
              "      <td>4</td>\n",
              "      <td>11</td>\n",
              "      <td>AS</td>\n",
              "      <td>N237AK</td>\n",
              "      <td>1014</td>\n",
              "      <td>SEA</td>\n",
              "      <td>ORD</td>\n",
              "      <td>1045</td>\n",
              "      <td>1054.0</td>\n",
              "      <td>0</td>\n",
              "      <td>1650</td>\n",
              "      <td>1652.0</td>\n",
              "      <td>0</td>\n",
              "      <td>0.0</td>\n",
              "      <td>0.0</td>\n",
              "    </tr>\n",
              "  </tbody>\n",
              "</table>\n",
              "</div>\n",
              "      <button class=\"colab-df-convert\" onclick=\"convertToInteractive('df-fd2335d5-62c8-49d5-bae5-78cef865ad6d')\"\n",
              "              title=\"Convert this dataframe to an interactive table.\"\n",
              "              style=\"display:none;\">\n",
              "        \n",
              "  <svg xmlns=\"http://www.w3.org/2000/svg\" height=\"24px\"viewBox=\"0 0 24 24\"\n",
              "       width=\"24px\">\n",
              "    <path d=\"M0 0h24v24H0V0z\" fill=\"none\"/>\n",
              "    <path d=\"M18.56 5.44l.94 2.06.94-2.06 2.06-.94-2.06-.94-.94-2.06-.94 2.06-2.06.94zm-11 1L8.5 8.5l.94-2.06 2.06-.94-2.06-.94L8.5 2.5l-.94 2.06-2.06.94zm10 10l.94 2.06.94-2.06 2.06-.94-2.06-.94-.94-2.06-.94 2.06-2.06.94z\"/><path d=\"M17.41 7.96l-1.37-1.37c-.4-.4-.92-.59-1.43-.59-.52 0-1.04.2-1.43.59L10.3 9.45l-7.72 7.72c-.78.78-.78 2.05 0 2.83L4 21.41c.39.39.9.59 1.41.59.51 0 1.02-.2 1.41-.59l7.78-7.78 2.81-2.81c.8-.78.8-2.07 0-2.86zM5.41 20L4 18.59l7.72-7.72 1.47 1.35L5.41 20z\"/>\n",
              "  </svg>\n",
              "      </button>\n",
              "      \n",
              "  <style>\n",
              "    .colab-df-container {\n",
              "      display:flex;\n",
              "      flex-wrap:wrap;\n",
              "      gap: 12px;\n",
              "    }\n",
              "\n",
              "    .colab-df-convert {\n",
              "      background-color: #E8F0FE;\n",
              "      border: none;\n",
              "      border-radius: 50%;\n",
              "      cursor: pointer;\n",
              "      display: none;\n",
              "      fill: #1967D2;\n",
              "      height: 32px;\n",
              "      padding: 0 0 0 0;\n",
              "      width: 32px;\n",
              "    }\n",
              "\n",
              "    .colab-df-convert:hover {\n",
              "      background-color: #E2EBFA;\n",
              "      box-shadow: 0px 1px 2px rgba(60, 64, 67, 0.3), 0px 1px 3px 1px rgba(60, 64, 67, 0.15);\n",
              "      fill: #174EA6;\n",
              "    }\n",
              "\n",
              "    [theme=dark] .colab-df-convert {\n",
              "      background-color: #3B4455;\n",
              "      fill: #D2E3FC;\n",
              "    }\n",
              "\n",
              "    [theme=dark] .colab-df-convert:hover {\n",
              "      background-color: #434B5C;\n",
              "      box-shadow: 0px 1px 3px 1px rgba(0, 0, 0, 0.15);\n",
              "      filter: drop-shadow(0px 1px 2px rgba(0, 0, 0, 0.3));\n",
              "      fill: #FFFFFF;\n",
              "    }\n",
              "  </style>\n",
              "\n",
              "      <script>\n",
              "        const buttonEl =\n",
              "          document.querySelector('#df-fd2335d5-62c8-49d5-bae5-78cef865ad6d button.colab-df-convert');\n",
              "        buttonEl.style.display =\n",
              "          google.colab.kernel.accessAllowed ? 'block' : 'none';\n",
              "\n",
              "        async function convertToInteractive(key) {\n",
              "          const element = document.querySelector('#df-fd2335d5-62c8-49d5-bae5-78cef865ad6d');\n",
              "          const dataTable =\n",
              "            await google.colab.kernel.invokeFunction('convertToInteractive',\n",
              "                                                     [key], {});\n",
              "          if (!dataTable) return;\n",
              "\n",
              "          const docLinkHtml = 'Like what you see? Visit the ' +\n",
              "            '<a target=\"_blank\" href=https://colab.research.google.com/notebooks/data_table.ipynb>data table notebook</a>'\n",
              "            + ' to learn more about interactive tables.';\n",
              "          element.innerHTML = '';\n",
              "          dataTable['output_type'] = 'display_data';\n",
              "          await google.colab.output.renderOutput(dataTable, element);\n",
              "          const docLink = document.createElement('div');\n",
              "          docLink.innerHTML = docLinkHtml;\n",
              "          element.appendChild(docLink);\n",
              "        }\n",
              "      </script>\n",
              "    </div>\n",
              "  </div>\n",
              "  "
            ]
          },
          "metadata": {},
          "execution_count": 11
        }
      ],
      "source": [
        "# Read in data, set DataFrame columns to names above \n",
        "import glob\n",
        "files = sorted(glob.glob('flight-data' + \"*.csv\"))\n",
        "dfs = (pd.read_csv(f, header=None) for f in files)\n",
        "df2 = pd.concat(dfs)\n",
        "# reset the index \n",
        "df2.reset_index(drop=True, inplace=True)\n",
        "flights = df2\n",
        "# flights = pd.read_csv(\"flight-data.csv\")\n",
        "flights.columns = ['year', 'month', 'day', 'carrier', 'tailNum', 'flNum', 'origin', 'dest', 'crsDepTime', 'actDepTime', 'depNextDay', 'crsArrTime', 'actArrTime', 'arrNextDay', 'cancelled', 'diverted']\n",
        "flights.head()"
      ]
    },
    {
      "cell_type": "code",
      "execution_count": null,
      "metadata": {
        "deletable": false,
        "editable": false,
        "colab": {
          "base_uri": "https://localhost:8080/",
          "height": 46
        },
        "id": "fhKhEX0iEqyF",
        "outputId": "fbab4d7f-c405-4317-990c-c46fe0b8e3cf"
      },
      "outputs": [
        {
          "output_type": "execute_result",
          "data": {
            "text/plain": [
              "q1 results: All test cases passed!"
            ],
            "text/html": [
              "<p><strong><pre style='display: inline;'>q1</pre></strong> passed!</p>"
            ]
          },
          "metadata": {},
          "execution_count": 12
        }
      ],
      "source": [
        "grader.check(\"q1\")"
      ]
    },
    {
      "cell_type": "markdown",
      "metadata": {
        "id": "wFg9SnjeiXoz"
      },
      "source": [
        "## Q2 (3 pts) - Explore Data\n",
        "\n",
        "Let's start to explore the data.  "
      ]
    },
    {
      "cell_type": "code",
      "execution_count": null,
      "metadata": {
        "colab": {
          "base_uri": "https://localhost:8080/"
        },
        "id": "XVBUFtQxic78",
        "outputId": "9f29245f-ba31-4382-e2d4-75dea27980f8"
      },
      "outputs": [
        {
          "output_type": "stream",
          "name": "stdout",
          "text": [
            "Flight data:  5068847 rows,  16 columns\n"
          ]
        }
      ],
      "source": [
        "print(\"Flight data: %8d rows,  %d columns\" % (flights.shape[0], flights.shape[1]))"
      ]
    },
    {
      "cell_type": "markdown",
      "metadata": {
        "id": "aCw7za_Nm2EZ"
      },
      "source": [
        "Report the number of flights departing and arriving from each of the three airports under study: `DTW`, `MSP`, and `ORD`"
      ]
    },
    {
      "cell_type": "code",
      "execution_count": null,
      "metadata": {
        "colab": {
          "base_uri": "https://localhost:8080/"
        },
        "id": "OAGwk4C-lRh_",
        "outputId": "0d69d903-06d9-437a-c944-6580ffc623b0",
        "tags": []
      },
      "outputs": [
        {
          "output_type": "stream",
          "name": "stdout",
          "text": [
            "DTW flights:    648915 arrivals,   648900 departures\n"
          ]
        }
      ],
      "source": [
        "numArrDTW = len(flights[flights['dest'] == 'DTW'])\n",
        "numDepDTW = len(flights[flights['origin'] == 'DTW'])\n",
        "print(\"DTW flights:   %7d arrivals,  %7d departures\" % (numArrDTW, numDepDTW))"
      ]
    },
    {
      "cell_type": "code",
      "execution_count": null,
      "metadata": {
        "tags": [],
        "colab": {
          "base_uri": "https://localhost:8080/"
        },
        "id": "3Q0cNa1oEqyH",
        "outputId": "a8c2d8b2-4a1f-4f6a-9e5f-dd0fddf4797e"
      },
      "outputs": [
        {
          "output_type": "stream",
          "name": "stdout",
          "text": [
            "MSP flights:    644458 arrivals,   644514 departures\n"
          ]
        }
      ],
      "source": [
        "numArrMSP = len(flights[flights['dest'] == 'MSP'])\n",
        "numDepMSP = len(flights[flights['origin'] == 'MSP'])\n",
        "print(\"MSP flights:   %7d arrivals,  %7d departures\" % (numArrMSP, numDepMSP))"
      ]
    },
    {
      "cell_type": "code",
      "execution_count": null,
      "metadata": {
        "tags": [],
        "colab": {
          "base_uri": "https://localhost:8080/"
        },
        "id": "1skMmUUXEqyH",
        "outputId": "de4f4510-4284-47f8-97b0-da49ef2c4062"
      },
      "outputs": [
        {
          "output_type": "stream",
          "name": "stdout",
          "text": [
            "ORD flights:   1311813 arrivals,  1312017 departures\n"
          ]
        }
      ],
      "source": [
        "numArrORD = len(flights[flights['dest'] == 'ORD'])\n",
        "numDepORD = len(flights[flights['origin'] == 'ORD'])\n",
        "print(\"ORD flights:   %7d arrivals,  %7d departures\" % (numArrORD, numDepORD))"
      ]
    },
    {
      "cell_type": "markdown",
      "metadata": {
        "id": "S6ULEd24oA4n"
      },
      "source": [
        "*Note*: The number of flights arriving and departing from the three airports exceeds the total number of flights, because flights between the 3 airports are counted twice. "
      ]
    },
    {
      "cell_type": "code",
      "execution_count": null,
      "metadata": {
        "deletable": false,
        "editable": false,
        "colab": {
          "base_uri": "https://localhost:8080/",
          "height": 46
        },
        "id": "8IYPQJL_EqyI",
        "outputId": "8aed248d-64b6-4fc4-d407-e3a2c3274bbd"
      },
      "outputs": [
        {
          "output_type": "execute_result",
          "data": {
            "text/plain": [
              "q2 results: All test cases passed!"
            ],
            "text/html": [
              "<p><strong><pre style='display: inline;'>q2</pre></strong> passed!</p>"
            ]
          },
          "metadata": {},
          "execution_count": 17
        }
      ],
      "source": [
        "grader.check(\"q2\")"
      ]
    },
    {
      "cell_type": "markdown",
      "metadata": {
        "id": "u8TTgUoIEqyI"
      },
      "source": [
        "## Q3 (3 pts) - Cancelled and Diverted Flights\n",
        "\n",
        "We are going to focus on flights that took off and landed, that is, flights that were not cancelled or diverted.  \n",
        "\n",
        "Before, getting rid of those entries, let's look at how many flights for each airport were cancelled and diverted. "
      ]
    },
    {
      "cell_type": "code",
      "execution_count": null,
      "metadata": {
        "tags": [],
        "colab": {
          "base_uri": "https://localhost:8080/"
        },
        "id": "nZr2FUvJEqyJ",
        "outputId": "1e3169e2-4911-4c0b-f75e-428919a508b9"
      },
      "outputs": [
        {
          "output_type": "stream",
          "name": "stdout",
          "text": [
            "DTW cancelled flights:    9325 arrs,    9264 deps\n",
            "\tdiverted flights:     739 arrs,    1459 deps\n"
          ]
        }
      ],
      "source": [
        "numCanArrDTW = flights.loc[(flights['cancelled'] == 1.0) & (flights['dest'] == 'DTW')].shape[0]\n",
        "numCanDepDTW = flights.loc[(flights['cancelled'] == 1.0) & (flights['origin'] == 'DTW')].shape[0]\n",
        "numDivArrDTW = flights.loc[(flights['diverted'] == 1.0) & (flights['dest'] == 'DTW')].shape[0]\n",
        "numDivDepDTW = flights.loc[(flights['diverted'] == 1.0) & (flights['origin'] == 'DTW')].shape[0]\n",
        "print(\"DTW cancelled flights: %7d arrs, %7d deps\\n\\tdiverted flights: %7d arrs, %7d deps\" \n",
        "      % (numCanArrDTW, numCanDepDTW, numDivArrDTW, numDivDepDTW))"
      ]
    },
    {
      "cell_type": "code",
      "execution_count": null,
      "metadata": {
        "tags": [],
        "colab": {
          "base_uri": "https://localhost:8080/"
        },
        "id": "oVZb5yOREqyJ",
        "outputId": "75344a98-4e14-4994-b624-d3d596e2e8d7"
      },
      "outputs": [
        {
          "output_type": "stream",
          "name": "stdout",
          "text": [
            "MSP cancelled flights:    9337 arrs,    9298 deps\n",
            "\tdiverted flights:    1019 arrs,    1555 deps\n"
          ]
        }
      ],
      "source": [
        "numCanArrMSP = flights.loc[(flights['cancelled'] == 1.0) & (flights['dest'] == 'MSP')].shape[0]\n",
        "numCanDepMSP = flights.loc[(flights['cancelled'] == 1.0) & (flights['origin'] == 'MSP')].shape[0]\n",
        "numDivArrMSP = flights.loc[(flights['diverted'] == 1.0) & (flights['dest'] == 'MSP')].shape[0]\n",
        "numDivDepMSP = flights.loc[(flights['diverted'] == 1.0) & (flights['origin'] == 'MSP')].shape[0]\n",
        "print(\"MSP cancelled flights: %7d arrs, %7d deps\\n\\tdiverted flights: %7d arrs, %7d deps\" \n",
        "      % (numCanArrMSP, numCanDepMSP, numDivArrMSP, numDivDepMSP))"
      ]
    },
    {
      "cell_type": "code",
      "execution_count": null,
      "metadata": {
        "tags": [],
        "colab": {
          "base_uri": "https://localhost:8080/"
        },
        "id": "FJujuSE7EqyK",
        "outputId": "b69c049e-4be8-4a40-c098-24418a393fc3"
      },
      "outputs": [
        {
          "output_type": "stream",
          "name": "stdout",
          "text": [
            "ORD cancelled flights:   36875 arrs,   35638 deps\n",
            "\tdiverted flights:    3258 arrs,    3307 deps\n"
          ]
        }
      ],
      "source": [
        "numCanArrORD = flights.loc[(flights['cancelled'] == 1.0) & (flights['dest'] == 'ORD')].shape[0]\n",
        "numCanDepORD = flights.loc[(flights['cancelled'] == 1.0) & (flights['origin'] == 'ORD')].shape[0]\n",
        "numDivArrORD = flights.loc[(flights['diverted'] == 1.0) & (flights['dest'] == 'ORD')].shape[0]\n",
        "numDivDepORD = flights.loc[(flights['diverted'] == 1.0) & (flights['origin'] == 'ORD')].shape[0]\n",
        "print(\"ORD cancelled flights: %7d arrs, %7d deps\\n\\tdiverted flights: %7d arrs, %7d deps\" \n",
        "      % (numCanArrORD, numCanDepORD, numDivArrORD, numDivDepORD))"
      ]
    },
    {
      "cell_type": "code",
      "execution_count": null,
      "metadata": {
        "deletable": false,
        "editable": false,
        "colab": {
          "base_uri": "https://localhost:8080/",
          "height": 46
        },
        "id": "3KzbuuAxEqyK",
        "outputId": "f466225b-a09b-459a-94ab-b779567259fa"
      },
      "outputs": [
        {
          "output_type": "execute_result",
          "data": {
            "text/plain": [
              "q3 results: All test cases passed!"
            ],
            "text/html": [
              "<p><strong><pre style='display: inline;'>q3</pre></strong> passed!</p>"
            ]
          },
          "metadata": {},
          "execution_count": 21
        }
      ],
      "source": [
        "grader.check(\"q3\")"
      ]
    },
    {
      "cell_type": "markdown",
      "metadata": {
        "id": "FSUXzDENEqyL"
      },
      "source": [
        "The absolute number of cancelled and diverted flights can be somewhat misleading because O'hare has many more flights in total.  \n",
        "\n",
        "So, let's look at these values normalized, that is, the percentage of total arriving or departing flights that are cancelled or diverted."
      ]
    },
    {
      "cell_type": "code",
      "execution_count": null,
      "metadata": {
        "colab": {
          "base_uri": "https://localhost:8080/",
          "height": 143
        },
        "id": "1-RFvfr8EqyL",
        "outputId": "d023a7e9-12d4-4b29-904a-06a2fd022fe5"
      },
      "outputs": [
        {
          "output_type": "execute_result",
          "data": {
            "text/plain": [
              "     PercArrCan  PercDepCan  PercArrDiv  PercDepDiv\n",
              "DTW    1.437014    1.427647    0.113882    0.224842\n",
              "MSP    1.448814    1.442637    0.158117    0.241267\n",
              "ORD    2.810995    2.716276    0.248359    0.252055"
            ],
            "text/html": [
              "\n",
              "  <div id=\"df-ff70bd23-2dc4-406f-8f2c-75497decf4ee\">\n",
              "    <div class=\"colab-df-container\">\n",
              "      <div>\n",
              "<style scoped>\n",
              "    .dataframe tbody tr th:only-of-type {\n",
              "        vertical-align: middle;\n",
              "    }\n",
              "\n",
              "    .dataframe tbody tr th {\n",
              "        vertical-align: top;\n",
              "    }\n",
              "\n",
              "    .dataframe thead th {\n",
              "        text-align: right;\n",
              "    }\n",
              "</style>\n",
              "<table border=\"1\" class=\"dataframe\">\n",
              "  <thead>\n",
              "    <tr style=\"text-align: right;\">\n",
              "      <th></th>\n",
              "      <th>PercArrCan</th>\n",
              "      <th>PercDepCan</th>\n",
              "      <th>PercArrDiv</th>\n",
              "      <th>PercDepDiv</th>\n",
              "    </tr>\n",
              "  </thead>\n",
              "  <tbody>\n",
              "    <tr>\n",
              "      <th>DTW</th>\n",
              "      <td>1.437014</td>\n",
              "      <td>1.427647</td>\n",
              "      <td>0.113882</td>\n",
              "      <td>0.224842</td>\n",
              "    </tr>\n",
              "    <tr>\n",
              "      <th>MSP</th>\n",
              "      <td>1.448814</td>\n",
              "      <td>1.442637</td>\n",
              "      <td>0.158117</td>\n",
              "      <td>0.241267</td>\n",
              "    </tr>\n",
              "    <tr>\n",
              "      <th>ORD</th>\n",
              "      <td>2.810995</td>\n",
              "      <td>2.716276</td>\n",
              "      <td>0.248359</td>\n",
              "      <td>0.252055</td>\n",
              "    </tr>\n",
              "  </tbody>\n",
              "</table>\n",
              "</div>\n",
              "      <button class=\"colab-df-convert\" onclick=\"convertToInteractive('df-ff70bd23-2dc4-406f-8f2c-75497decf4ee')\"\n",
              "              title=\"Convert this dataframe to an interactive table.\"\n",
              "              style=\"display:none;\">\n",
              "        \n",
              "  <svg xmlns=\"http://www.w3.org/2000/svg\" height=\"24px\"viewBox=\"0 0 24 24\"\n",
              "       width=\"24px\">\n",
              "    <path d=\"M0 0h24v24H0V0z\" fill=\"none\"/>\n",
              "    <path d=\"M18.56 5.44l.94 2.06.94-2.06 2.06-.94-2.06-.94-.94-2.06-.94 2.06-2.06.94zm-11 1L8.5 8.5l.94-2.06 2.06-.94-2.06-.94L8.5 2.5l-.94 2.06-2.06.94zm10 10l.94 2.06.94-2.06 2.06-.94-2.06-.94-.94-2.06-.94 2.06-2.06.94z\"/><path d=\"M17.41 7.96l-1.37-1.37c-.4-.4-.92-.59-1.43-.59-.52 0-1.04.2-1.43.59L10.3 9.45l-7.72 7.72c-.78.78-.78 2.05 0 2.83L4 21.41c.39.39.9.59 1.41.59.51 0 1.02-.2 1.41-.59l7.78-7.78 2.81-2.81c.8-.78.8-2.07 0-2.86zM5.41 20L4 18.59l7.72-7.72 1.47 1.35L5.41 20z\"/>\n",
              "  </svg>\n",
              "      </button>\n",
              "      \n",
              "  <style>\n",
              "    .colab-df-container {\n",
              "      display:flex;\n",
              "      flex-wrap:wrap;\n",
              "      gap: 12px;\n",
              "    }\n",
              "\n",
              "    .colab-df-convert {\n",
              "      background-color: #E8F0FE;\n",
              "      border: none;\n",
              "      border-radius: 50%;\n",
              "      cursor: pointer;\n",
              "      display: none;\n",
              "      fill: #1967D2;\n",
              "      height: 32px;\n",
              "      padding: 0 0 0 0;\n",
              "      width: 32px;\n",
              "    }\n",
              "\n",
              "    .colab-df-convert:hover {\n",
              "      background-color: #E2EBFA;\n",
              "      box-shadow: 0px 1px 2px rgba(60, 64, 67, 0.3), 0px 1px 3px 1px rgba(60, 64, 67, 0.15);\n",
              "      fill: #174EA6;\n",
              "    }\n",
              "\n",
              "    [theme=dark] .colab-df-convert {\n",
              "      background-color: #3B4455;\n",
              "      fill: #D2E3FC;\n",
              "    }\n",
              "\n",
              "    [theme=dark] .colab-df-convert:hover {\n",
              "      background-color: #434B5C;\n",
              "      box-shadow: 0px 1px 3px 1px rgba(0, 0, 0, 0.15);\n",
              "      filter: drop-shadow(0px 1px 2px rgba(0, 0, 0, 0.3));\n",
              "      fill: #FFFFFF;\n",
              "    }\n",
              "  </style>\n",
              "\n",
              "      <script>\n",
              "        const buttonEl =\n",
              "          document.querySelector('#df-ff70bd23-2dc4-406f-8f2c-75497decf4ee button.colab-df-convert');\n",
              "        buttonEl.style.display =\n",
              "          google.colab.kernel.accessAllowed ? 'block' : 'none';\n",
              "\n",
              "        async function convertToInteractive(key) {\n",
              "          const element = document.querySelector('#df-ff70bd23-2dc4-406f-8f2c-75497decf4ee');\n",
              "          const dataTable =\n",
              "            await google.colab.kernel.invokeFunction('convertToInteractive',\n",
              "                                                     [key], {});\n",
              "          if (!dataTable) return;\n",
              "\n",
              "          const docLinkHtml = 'Like what you see? Visit the ' +\n",
              "            '<a target=\"_blank\" href=https://colab.research.google.com/notebooks/data_table.ipynb>data table notebook</a>'\n",
              "            + ' to learn more about interactive tables.';\n",
              "          element.innerHTML = '';\n",
              "          dataTable['output_type'] = 'display_data';\n",
              "          await google.colab.output.renderOutput(dataTable, element);\n",
              "          const docLink = document.createElement('div');\n",
              "          docLink.innerHTML = docLinkHtml;\n",
              "          element.appendChild(docLink);\n",
              "        }\n",
              "      </script>\n",
              "    </div>\n",
              "  </div>\n",
              "  "
            ]
          },
          "metadata": {},
          "execution_count": 22
        }
      ],
      "source": [
        "d = np.array([[numCanArrDTW / numArrDTW *100, numCanDepDTW / numDepDTW *100, \n",
        "               numDivArrDTW / numArrDTW *100, numDivDepDTW / numDepDTW *100], \n",
        "              [numCanArrMSP / numArrMSP *100, numCanDepMSP / numDepMSP *100, \n",
        "               numDivArrMSP / numArrMSP *100, numDivDepMSP / numDepMSP *100],\n",
        "              [numCanArrORD / numArrORD *100, numCanDepORD / numDepORD *100, \n",
        "               numDivArrORD / numArrORD *100, numDivDepORD / numDepORD *100]])\n",
        "canDivFls = pd.DataFrame(data=d, \n",
        "                        columns = ['PercArrCan', 'PercDepCan', 'PercArrDiv', \n",
        "                                   'PercDepDiv'], \n",
        "                        index = ['DTW', 'MSP', 'ORD'])\n",
        "canDivFls"
      ]
    },
    {
      "cell_type": "markdown",
      "metadata": {
        "id": "E69nuHGjEqyM"
      },
      "source": [
        "## Q4 (4 pts) - Clean Data \n",
        "\n",
        "Now, let's remove the cancelled and diverted flights from further analysis.  \n",
        "\n",
        "After removing both reset the index on the remaining flights in the DataFrame."
      ]
    },
    {
      "cell_type": "code",
      "execution_count": null,
      "metadata": {
        "colab": {
          "base_uri": "https://localhost:8080/"
        },
        "id": "MShnLx0Vl7-A",
        "outputId": "f4a917b6-98ee-4847-f252-af0bcfe7d66d",
        "tags": []
      },
      "outputs": [
        {
          "output_type": "stream",
          "name": "stdout",
          "text": [
            "Flight data:    4950620 rows\n"
          ]
        }
      ],
      "source": [
        "# Remove the cancelled and diverted flights.  \n",
        "# Then, reset the index of the flights DataFrame\n",
        "cancelled_and_diverted_flights = flights[(flights['cancelled'] == 1.0) | (flights['diverted'] == 1.0)].index\n",
        "flights.drop(cancelled_and_diverted_flights, inplace=True)\n",
        "flights.reset_index(drop=True, inplace=True)\n",
        "print(\"Flight data:   %8d rows\" % flights.shape[0])"
      ]
    },
    {
      "cell_type": "code",
      "execution_count": null,
      "metadata": {
        "deletable": false,
        "editable": false,
        "colab": {
          "base_uri": "https://localhost:8080/",
          "height": 46
        },
        "id": "dQRFd4E0EqyN",
        "outputId": "b11614d7-b10e-4736-aba4-eb00c569027c"
      },
      "outputs": [
        {
          "output_type": "execute_result",
          "data": {
            "text/plain": [
              "q4 results: All test cases passed!"
            ],
            "text/html": [
              "<p><strong><pre style='display: inline;'>q4</pre></strong> passed!</p>"
            ]
          },
          "metadata": {},
          "execution_count": 24
        }
      ],
      "source": [
        "grader.check(\"q4\")"
      ]
    },
    {
      "cell_type": "markdown",
      "metadata": {
        "id": "k5mp8HdarBcY"
      },
      "source": [
        "## Q5 (5 pts) - Extract Time Information\n",
        "\n",
        "Both the departure and arrival times were read in as integers or floating-point numbers in local time format: `hhmm`. Write two functions, `extract_hour` and `extract_mins` that converts the local time to hours and minutes, respectively. Hint: You may want to use modular arithmetic and integer division.\n",
        "\n",
        "Notes: \n",
        "\n",
        "* The function should work on a single value passed or a Series passed in as an argument. \n",
        "* The function should not have a `for` loop, if it does you will lose points! "
      ]
    },
    {
      "cell_type": "code",
      "execution_count": null,
      "metadata": {
        "id": "25hrnFgtyjkh",
        "tags": []
      },
      "outputs": [],
      "source": [
        "def extract_hour(time):\n",
        "    \"\"\"\n",
        "    Extract hour information from the time given in hhmm format.\n",
        "\n",
        "    Input:\n",
        "        time (float64 or int64): Series of time given in hhmm format.  \n",
        "          Takes on values in 0.0-2400.0 in float64 representation or \n",
        "          values in 0-2400 in int64 representation\n",
        " \n",
        "    Returns:\n",
        "        array (float64 or int64): Series of same dimension as input of hours  \n",
        "          values should be 0-24\n",
        "    \n",
        "    Example: 1303 should return 13\n",
        "    >>> extract_hour(1303.0)\n",
        "    13\n",
        "    \"\"\"\n",
        "    hours = time//100\n",
        "    return hours"
      ]
    },
    {
      "cell_type": "code",
      "execution_count": null,
      "metadata": {
        "id": "GHKDuErrsJsL",
        "tags": []
      },
      "outputs": [],
      "source": [
        "def extract_min(time):\n",
        "    \"\"\"\n",
        "    Extract minute information from the time given in hhmm time.\n",
        "\n",
        "    Input:\n",
        "        time (float64 or int64): Series of time given in hhmm format.  \n",
        "          Takes on values in 0.0-2400.0 in float64 representation or \n",
        "          values in 0-2400 in int64 representation\n",
        "    \n",
        "    Returns:\n",
        "        array (float64 or int64): Series of same dimension as input of minutes.  \n",
        "          values should be 0-59\n",
        "    \n",
        "    Example: 1303 should return 3\n",
        "    >>> extract_mins(1303.0)\n",
        "    3\n",
        "    \"\"\"\n",
        "    mins = time - (time//100)*100\n",
        "    return mins"
      ]
    },
    {
      "cell_type": "markdown",
      "metadata": {
        "id": "cLUV6j7FEqyO"
      },
      "source": [
        "Here are some examples of usage: \n",
        "\n",
        "```\n",
        ">>> extract_hour(1450)\n",
        ">>> extract_hour(flights['actDepTime'][100:200])\n",
        ">>> extract_hour(flights['crsDepTime'])\n",
        ">>> extract_mins(1450)\n",
        ">>> extract_mins(flights['actDepTime'][100:200])\n",
        ">>> extract_mins(flights['crsDepTime'])\n",
        "```"
      ]
    },
    {
      "cell_type": "code",
      "execution_count": null,
      "metadata": {
        "deletable": false,
        "editable": false,
        "colab": {
          "base_uri": "https://localhost:8080/",
          "height": 46
        },
        "id": "FGrhTUy2EqyP",
        "outputId": "2063bd9e-991e-468d-a2b4-e7c980c3d9f4"
      },
      "outputs": [
        {
          "output_type": "execute_result",
          "data": {
            "text/plain": [
              "q5 results: All test cases passed!"
            ],
            "text/html": [
              "<p><strong><pre style='display: inline;'>q5</pre></strong> passed!</p>"
            ]
          },
          "metadata": {},
          "execution_count": 27
        }
      ],
      "source": [
        "grader.check(\"q5\")"
      ]
    },
    {
      "cell_type": "markdown",
      "metadata": {
        "id": "aIbjVVbnEqyP"
      },
      "source": [
        "## Q6 (2 pts) - Calculate Time in Minutes\n",
        "\n",
        "You will use the two functions created above to calculate a time formatted `hhmm` into the number of minutes in the day.  These calculation will be done in the `convert_to_minofday` function, you will fill in.   \n",
        "\n",
        "For example, `1005` is 605 minutes and `837` is 517 minutes and `1524` is 924 minutes. \n",
        "\n",
        "Comment: \n",
        "\n",
        "* The function should work on a single value passed or a Series passed in as an argument. \n",
        "* The function should not have a `for` loop, if it does you will lose points! "
      ]
    },
    {
      "cell_type": "code",
      "execution_count": null,
      "metadata": {
        "id": "x9NTCKbosYgo",
        "tags": []
      },
      "outputs": [],
      "source": [
        "def convert_to_minofday(time):\n",
        "    \"\"\"\n",
        "    Converts time in hhmm format to minute of day.\n",
        "    \n",
        "    Input:\n",
        "       time (float64 or int64): Series of time given in hhmm format.  \n",
        "          Takes on values in 0.0-2400.0 in float64 representation or \n",
        "          values in 0-2400 in int64 representation\n",
        "    \n",
        "    Returns:\n",
        "        array (float64 or int64): Series of same dimension as input with \n",
        "           total mins\n",
        "    \n",
        "     \n",
        "    Example: 1303 is converted to 783\n",
        "    >>> convert_to_minofday(1303.0)\n",
        "    783.0\n",
        "    \"\"\"\n",
        "    # make use of the functions you wrote above: extract_hour, extract_min\n",
        "    minOfDay = extract_hour(time)*60 + extract_min(time)\n",
        "    return minOfDay "
      ]
    },
    {
      "cell_type": "code",
      "execution_count": null,
      "metadata": {
        "deletable": false,
        "editable": false,
        "colab": {
          "base_uri": "https://localhost:8080/",
          "height": 46
        },
        "id": "DP1w3Q5TEqyQ",
        "outputId": "e7dc79c8-e600-4b04-ea5d-a9270cc8ed09"
      },
      "outputs": [
        {
          "output_type": "execute_result",
          "data": {
            "text/plain": [
              "q6 results: All test cases passed!"
            ],
            "text/html": [
              "<p><strong><pre style='display: inline;'>q6</pre></strong> passed!</p>"
            ]
          },
          "metadata": {},
          "execution_count": 29
        }
      ],
      "source": [
        "grader.check(\"q6\")"
      ]
    },
    {
      "cell_type": "markdown",
      "metadata": {
        "id": "TlyXh1o5sTRV"
      },
      "source": [
        "## Q7 (6 pts) - Calculate Delayed Flights\n",
        "\n",
        "You will add two new columns to the `flights` DataFrame that will contain the departure delay `depDelay` and arrival delay `arrDelay`.\n",
        "\n",
        "To help answer this question, implement the helper functions, `calc_time_diff`.  Make use of the functions above, e.g., `convert_to_minofday`.\n",
        "\n",
        "\n",
        "*Be careful for handling flights that that did not leave on their scheduled day indicated in the `depNextDay` and `arrNextDay` columns.*  \n",
        "These two variables are encoded as: \n",
        "* 0, left/arrived on scheduled day \n",
        "* -1, left/arrived on the day before scheduled day\n",
        "* 1, left/arrived 1 day after scheduled day \n",
        "* 2, left/arrived 2 days after scheduled day\n",
        "\n",
        "\n",
        "Note, you can have *negative* flight delays for flights that leave / arrive early. \n",
        "\n",
        "Notes: \n",
        "\n",
        "* The function should work on Series passed in as an argument. \n",
        "* The function should not have a `for` loop, if it does you will lose points! "
      ]
    },
    {
      "cell_type": "code",
      "execution_count": null,
      "metadata": {
        "tags": [],
        "id": "rT08vvr2EqyR"
      },
      "outputs": [],
      "source": [
        "def calc_time_diff(x, y, nextDay):\n",
        "    \"\"\" \n",
        "    Calculate the time difference, y - x, accounting for nextDay changes.\n",
        "\n",
        "    Input:\n",
        "        x,y (float64 or int64): Series of scheduled time given in hhmm format.  \n",
        "          Takes on values in 0.0-2400.0 due to float64 representation or \n",
        "          values in 0-2400 in int64 representation\n",
        "        nextDay (int): Series of next day indicator, takes on values: -1, 0, 1, 2\n",
        "        \n",
        "    Returns:\n",
        "        array (float64): array of input dimension with delay time\n",
        "        \n",
        "        \n",
        "    Example: 1303 is converted to 783\n",
        "             1305 is converted to 785\n",
        "    >>> calc_time_diff(pd.Series([1303]), pd.Series([1305]), pd.Series([0]))\n",
        "    2\n",
        "\n",
        "    Example: 2320.0 is converted to 1400.0\n",
        "               37.0 is converted to    37.0 \n",
        "    >>> calc_time_diff(pd.Series([2320.0]), pd.Series([37.0]), pd.Series([1]))\n",
        "    77.0\n",
        "    \"\"\"\n",
        "    # make use of the convert_to_minofday function \n",
        "    \n",
        "    diff = nextDay*24*60 + convert_to_minofday(y) - convert_to_minofday(x)\n",
        "    \n",
        "    return diff"
      ]
    },
    {
      "cell_type": "code",
      "execution_count": null,
      "metadata": {
        "id": "4yk2f_MwVzUF",
        "tags": []
      },
      "outputs": [],
      "source": [
        "flights['depDelay'] = calc_time_diff(flights['crsDepTime'], flights['actDepTime'], flights['depNextDay'])\n",
        "flights['arrDelay'] = calc_time_diff(flights['crsArrTime'], flights['actArrTime'], flights['arrNextDay'])"
      ]
    },
    {
      "cell_type": "code",
      "execution_count": null,
      "metadata": {
        "colab": {
          "base_uri": "https://localhost:8080/",
          "height": 206
        },
        "id": "utXPHMXLj2WQ",
        "outputId": "eef503ad-9d80-450a-adcc-a4b453566c51"
      },
      "outputs": [
        {
          "output_type": "execute_result",
          "data": {
            "text/plain": [
              "   year  month  day carrier tailNum  flNum origin dest  crsDepTime  \\\n",
              "0  2021      4   11      AS  N309AS    792    SEA  DTW        1010   \n",
              "1  2021      4   11      AS  N408AS   1011    ORD  SEA         700   \n",
              "2  2021      4   11      AS  N520AS   1012    SEA  MSP        1830   \n",
              "3  2021      4   11      AS  N472AS   1013    ORD  SEA        1405   \n",
              "4  2021      4   11      AS  N237AK   1014    SEA  ORD        1045   \n",
              "\n",
              "   actDepTime  depNextDay  crsArrTime  actArrTime  arrNextDay  cancelled  \\\n",
              "0      1013.0           0        1730      1736.0           0        0.0   \n",
              "1       703.0           0         940       916.0           0        0.0   \n",
              "2      1825.0           0        2345      2337.0           0        0.0   \n",
              "3      1404.0           0        1645      1627.0           0        0.0   \n",
              "4      1054.0           0        1650      1652.0           0        0.0   \n",
              "\n",
              "   diverted  depDelay  arrDelay  \n",
              "0       0.0       3.0       6.0  \n",
              "1       0.0       3.0     -24.0  \n",
              "2       0.0      -5.0      -8.0  \n",
              "3       0.0      -1.0     -18.0  \n",
              "4       0.0       9.0       2.0  "
            ],
            "text/html": [
              "\n",
              "  <div id=\"df-a2286a98-0ee4-4ca5-bedf-26054033c44f\">\n",
              "    <div class=\"colab-df-container\">\n",
              "      <div>\n",
              "<style scoped>\n",
              "    .dataframe tbody tr th:only-of-type {\n",
              "        vertical-align: middle;\n",
              "    }\n",
              "\n",
              "    .dataframe tbody tr th {\n",
              "        vertical-align: top;\n",
              "    }\n",
              "\n",
              "    .dataframe thead th {\n",
              "        text-align: right;\n",
              "    }\n",
              "</style>\n",
              "<table border=\"1\" class=\"dataframe\">\n",
              "  <thead>\n",
              "    <tr style=\"text-align: right;\">\n",
              "      <th></th>\n",
              "      <th>year</th>\n",
              "      <th>month</th>\n",
              "      <th>day</th>\n",
              "      <th>carrier</th>\n",
              "      <th>tailNum</th>\n",
              "      <th>flNum</th>\n",
              "      <th>origin</th>\n",
              "      <th>dest</th>\n",
              "      <th>crsDepTime</th>\n",
              "      <th>actDepTime</th>\n",
              "      <th>depNextDay</th>\n",
              "      <th>crsArrTime</th>\n",
              "      <th>actArrTime</th>\n",
              "      <th>arrNextDay</th>\n",
              "      <th>cancelled</th>\n",
              "      <th>diverted</th>\n",
              "      <th>depDelay</th>\n",
              "      <th>arrDelay</th>\n",
              "    </tr>\n",
              "  </thead>\n",
              "  <tbody>\n",
              "    <tr>\n",
              "      <th>0</th>\n",
              "      <td>2021</td>\n",
              "      <td>4</td>\n",
              "      <td>11</td>\n",
              "      <td>AS</td>\n",
              "      <td>N309AS</td>\n",
              "      <td>792</td>\n",
              "      <td>SEA</td>\n",
              "      <td>DTW</td>\n",
              "      <td>1010</td>\n",
              "      <td>1013.0</td>\n",
              "      <td>0</td>\n",
              "      <td>1730</td>\n",
              "      <td>1736.0</td>\n",
              "      <td>0</td>\n",
              "      <td>0.0</td>\n",
              "      <td>0.0</td>\n",
              "      <td>3.0</td>\n",
              "      <td>6.0</td>\n",
              "    </tr>\n",
              "    <tr>\n",
              "      <th>1</th>\n",
              "      <td>2021</td>\n",
              "      <td>4</td>\n",
              "      <td>11</td>\n",
              "      <td>AS</td>\n",
              "      <td>N408AS</td>\n",
              "      <td>1011</td>\n",
              "      <td>ORD</td>\n",
              "      <td>SEA</td>\n",
              "      <td>700</td>\n",
              "      <td>703.0</td>\n",
              "      <td>0</td>\n",
              "      <td>940</td>\n",
              "      <td>916.0</td>\n",
              "      <td>0</td>\n",
              "      <td>0.0</td>\n",
              "      <td>0.0</td>\n",
              "      <td>3.0</td>\n",
              "      <td>-24.0</td>\n",
              "    </tr>\n",
              "    <tr>\n",
              "      <th>2</th>\n",
              "      <td>2021</td>\n",
              "      <td>4</td>\n",
              "      <td>11</td>\n",
              "      <td>AS</td>\n",
              "      <td>N520AS</td>\n",
              "      <td>1012</td>\n",
              "      <td>SEA</td>\n",
              "      <td>MSP</td>\n",
              "      <td>1830</td>\n",
              "      <td>1825.0</td>\n",
              "      <td>0</td>\n",
              "      <td>2345</td>\n",
              "      <td>2337.0</td>\n",
              "      <td>0</td>\n",
              "      <td>0.0</td>\n",
              "      <td>0.0</td>\n",
              "      <td>-5.0</td>\n",
              "      <td>-8.0</td>\n",
              "    </tr>\n",
              "    <tr>\n",
              "      <th>3</th>\n",
              "      <td>2021</td>\n",
              "      <td>4</td>\n",
              "      <td>11</td>\n",
              "      <td>AS</td>\n",
              "      <td>N472AS</td>\n",
              "      <td>1013</td>\n",
              "      <td>ORD</td>\n",
              "      <td>SEA</td>\n",
              "      <td>1405</td>\n",
              "      <td>1404.0</td>\n",
              "      <td>0</td>\n",
              "      <td>1645</td>\n",
              "      <td>1627.0</td>\n",
              "      <td>0</td>\n",
              "      <td>0.0</td>\n",
              "      <td>0.0</td>\n",
              "      <td>-1.0</td>\n",
              "      <td>-18.0</td>\n",
              "    </tr>\n",
              "    <tr>\n",
              "      <th>4</th>\n",
              "      <td>2021</td>\n",
              "      <td>4</td>\n",
              "      <td>11</td>\n",
              "      <td>AS</td>\n",
              "      <td>N237AK</td>\n",
              "      <td>1014</td>\n",
              "      <td>SEA</td>\n",
              "      <td>ORD</td>\n",
              "      <td>1045</td>\n",
              "      <td>1054.0</td>\n",
              "      <td>0</td>\n",
              "      <td>1650</td>\n",
              "      <td>1652.0</td>\n",
              "      <td>0</td>\n",
              "      <td>0.0</td>\n",
              "      <td>0.0</td>\n",
              "      <td>9.0</td>\n",
              "      <td>2.0</td>\n",
              "    </tr>\n",
              "  </tbody>\n",
              "</table>\n",
              "</div>\n",
              "      <button class=\"colab-df-convert\" onclick=\"convertToInteractive('df-a2286a98-0ee4-4ca5-bedf-26054033c44f')\"\n",
              "              title=\"Convert this dataframe to an interactive table.\"\n",
              "              style=\"display:none;\">\n",
              "        \n",
              "  <svg xmlns=\"http://www.w3.org/2000/svg\" height=\"24px\"viewBox=\"0 0 24 24\"\n",
              "       width=\"24px\">\n",
              "    <path d=\"M0 0h24v24H0V0z\" fill=\"none\"/>\n",
              "    <path d=\"M18.56 5.44l.94 2.06.94-2.06 2.06-.94-2.06-.94-.94-2.06-.94 2.06-2.06.94zm-11 1L8.5 8.5l.94-2.06 2.06-.94-2.06-.94L8.5 2.5l-.94 2.06-2.06.94zm10 10l.94 2.06.94-2.06 2.06-.94-2.06-.94-.94-2.06-.94 2.06-2.06.94z\"/><path d=\"M17.41 7.96l-1.37-1.37c-.4-.4-.92-.59-1.43-.59-.52 0-1.04.2-1.43.59L10.3 9.45l-7.72 7.72c-.78.78-.78 2.05 0 2.83L4 21.41c.39.39.9.59 1.41.59.51 0 1.02-.2 1.41-.59l7.78-7.78 2.81-2.81c.8-.78.8-2.07 0-2.86zM5.41 20L4 18.59l7.72-7.72 1.47 1.35L5.41 20z\"/>\n",
              "  </svg>\n",
              "      </button>\n",
              "      \n",
              "  <style>\n",
              "    .colab-df-container {\n",
              "      display:flex;\n",
              "      flex-wrap:wrap;\n",
              "      gap: 12px;\n",
              "    }\n",
              "\n",
              "    .colab-df-convert {\n",
              "      background-color: #E8F0FE;\n",
              "      border: none;\n",
              "      border-radius: 50%;\n",
              "      cursor: pointer;\n",
              "      display: none;\n",
              "      fill: #1967D2;\n",
              "      height: 32px;\n",
              "      padding: 0 0 0 0;\n",
              "      width: 32px;\n",
              "    }\n",
              "\n",
              "    .colab-df-convert:hover {\n",
              "      background-color: #E2EBFA;\n",
              "      box-shadow: 0px 1px 2px rgba(60, 64, 67, 0.3), 0px 1px 3px 1px rgba(60, 64, 67, 0.15);\n",
              "      fill: #174EA6;\n",
              "    }\n",
              "\n",
              "    [theme=dark] .colab-df-convert {\n",
              "      background-color: #3B4455;\n",
              "      fill: #D2E3FC;\n",
              "    }\n",
              "\n",
              "    [theme=dark] .colab-df-convert:hover {\n",
              "      background-color: #434B5C;\n",
              "      box-shadow: 0px 1px 3px 1px rgba(0, 0, 0, 0.15);\n",
              "      filter: drop-shadow(0px 1px 2px rgba(0, 0, 0, 0.3));\n",
              "      fill: #FFFFFF;\n",
              "    }\n",
              "  </style>\n",
              "\n",
              "      <script>\n",
              "        const buttonEl =\n",
              "          document.querySelector('#df-a2286a98-0ee4-4ca5-bedf-26054033c44f button.colab-df-convert');\n",
              "        buttonEl.style.display =\n",
              "          google.colab.kernel.accessAllowed ? 'block' : 'none';\n",
              "\n",
              "        async function convertToInteractive(key) {\n",
              "          const element = document.querySelector('#df-a2286a98-0ee4-4ca5-bedf-26054033c44f');\n",
              "          const dataTable =\n",
              "            await google.colab.kernel.invokeFunction('convertToInteractive',\n",
              "                                                     [key], {});\n",
              "          if (!dataTable) return;\n",
              "\n",
              "          const docLinkHtml = 'Like what you see? Visit the ' +\n",
              "            '<a target=\"_blank\" href=https://colab.research.google.com/notebooks/data_table.ipynb>data table notebook</a>'\n",
              "            + ' to learn more about interactive tables.';\n",
              "          element.innerHTML = '';\n",
              "          dataTable['output_type'] = 'display_data';\n",
              "          await google.colab.output.renderOutput(dataTable, element);\n",
              "          const docLink = document.createElement('div');\n",
              "          docLink.innerHTML = docLinkHtml;\n",
              "          element.appendChild(docLink);\n",
              "        }\n",
              "      </script>\n",
              "    </div>\n",
              "  </div>\n",
              "  "
            ]
          },
          "metadata": {},
          "execution_count": 32
        }
      ],
      "source": [
        "flights.head()"
      ]
    },
    {
      "cell_type": "code",
      "execution_count": null,
      "metadata": {
        "deletable": false,
        "editable": false,
        "colab": {
          "base_uri": "https://localhost:8080/",
          "height": 46
        },
        "id": "_Bv-6C9eEqyT",
        "outputId": "48f7df48-c87a-4eaa-f25d-2efe826bd779"
      },
      "outputs": [
        {
          "output_type": "execute_result",
          "data": {
            "text/plain": [
              "q7 results: All test cases passed!"
            ],
            "text/html": [
              "<p><strong><pre style='display: inline;'>q7</pre></strong> passed!</p>"
            ]
          },
          "metadata": {},
          "execution_count": 33
        }
      ],
      "source": [
        "grader.check(\"q7\")"
      ]
    },
    {
      "cell_type": "markdown",
      "metadata": {
        "id": "hCRJRcJcuVV5"
      },
      "source": [
        "## Q8 (3 pts) - Filter Delayed Flights \n",
        "\n",
        "Filter the `flights` data for flights that departed 75 or more minutes later than scheduled.  Report the number and a percentage of all departing flights for each airport."
      ]
    },
    {
      "cell_type": "code",
      "execution_count": null,
      "metadata": {
        "colab": {
          "base_uri": "https://localhost:8080/"
        },
        "id": "KaO4LOq2tHs1",
        "outputId": "053dbb18-76c3-4a09-cc4f-c56261a6360a",
        "tags": []
      },
      "outputs": [
        {
          "output_type": "stream",
          "name": "stdout",
          "text": [
            "DTW delayed flights:    25792, 3.975%\n",
            "MSP delayed flights:    21321, 3.308%\n",
            "ORD delayed flights:    69328, 5.284%\n"
          ]
        }
      ],
      "source": [
        "# Using your the new column flights['depDelay'] to filter the number of \n",
        "#  flights delayed over 75 minutes for each airport.\n",
        "\n",
        "# Report the number and the percentage for each airport. \n",
        "\n",
        "delayedDTW = flights[(flights['depDelay'] >= 75) & (flights['origin'] == 'DTW')].shape[0]\n",
        "\n",
        "delayedMSP = flights[(flights['depDelay'] >= 75) & (flights['origin'] == 'MSP')].shape[0]\n",
        "\n",
        "delayedORD = flights[(flights['depDelay'] >= 75) & (flights['origin'] == 'ORD')].shape[0]\n",
        "\n",
        "print(\"DTW delayed flights:  %7d, %3.3f%%\" % (delayedDTW, delayedDTW/numDepDTW*100))\n",
        "print(\"MSP delayed flights:  %7d, %3.3f%%\" % (delayedMSP, delayedMSP/numDepMSP*100))\n",
        "print(\"ORD delayed flights:  %7d, %3.3f%%\" % (delayedORD, delayedORD/numDepORD*100))"
      ]
    },
    {
      "cell_type": "code",
      "execution_count": null,
      "metadata": {
        "deletable": false,
        "editable": false,
        "colab": {
          "base_uri": "https://localhost:8080/",
          "height": 46
        },
        "id": "FsgTLgBtEqyU",
        "outputId": "f0d7bd02-c7d0-4b83-e5b1-852a10ae8e92"
      },
      "outputs": [
        {
          "output_type": "execute_result",
          "data": {
            "text/plain": [
              "q8 results: All test cases passed!"
            ],
            "text/html": [
              "<p><strong><pre style='display: inline;'>q8</pre></strong> passed!</p>"
            ]
          },
          "metadata": {},
          "execution_count": 35
        }
      ],
      "source": [
        "grader.check(\"q8\")"
      ]
    },
    {
      "cell_type": "markdown",
      "metadata": {
        "id": "Jolz0fckvNSG"
      },
      "source": [
        "<!-- BEGIN QUESTION -->\n",
        "\n",
        "## Q9 (15 pts) - Distribution and Statistics on Flight Delays\n",
        "\n",
        "Plot the distribution of delays for both arriving and departing flights for each airport.  \n",
        "\n",
        "The histograms should be placed side-by-side *hint: consider the `subplot` function*. \n",
        "\n",
        "The departing delays should be in the left plot and the arriving delays should be in the right plot. \n",
        "\n",
        "Use a log-scale y-axis.   \n",
        "https://matplotlib.org/stable/api/_as_gen/matplotlib.pyplot.yscale.html?highlight=yscale#matplotlib.pyplot.yscale\n",
        "\n",
        "\n",
        "Make sure to label and make the plots look nice. "
      ]
    },
    {
      "cell_type": "code",
      "execution_count": null,
      "metadata": {
        "colab": {
          "base_uri": "https://localhost:8080/",
          "height": 321
        },
        "id": "BscW_4oYvite",
        "outputId": "3ce0086b-9f36-44dd-f8c4-c1fd61961b93",
        "tags": []
      },
      "outputs": [
        {
          "output_type": "display_data",
          "data": {
            "text/plain": [
              "<Figure size 720x324 with 2 Axes>"
            ],
            "image/png": "[encoded data removed]"
          },
          "metadata": {
            "needs_background": "light"
          }
        }
      ],
      "source": [
        "# Histograms for DTW\n",
        "\n",
        "delayedDepDTW = flights[flights['origin'] == 'DTW']['depDelay']\n",
        "delayedArrDTW = flights[flights['dest'] == 'DTW']['arrDelay']\n",
        "plt.figure(figsize=(10,4.5))\n",
        "plt.subplot(1,2,1)\n",
        "plt.hist(delayedDepDTW, bins = 50)\n",
        "plt.yscale('log')\n",
        "plt.xlabel('Delay (min)', fontsize=10)\n",
        "plt.ylabel('Log frequency', fontsize=10)\n",
        "plt.title('Histogram of departure delays from DTW', fontsize=10);\n",
        "plt.subplot(1,2,2)\n",
        "plt.hist(delayedArrDTW, bins = 50, color='red')\n",
        "plt.yscale('log')\n",
        "plt.xlabel('Delay (min)', fontsize=10)\n",
        "plt.ylabel('Log frequency', fontsize=10)\n",
        "plt.title('Histogram of arrival delays to DTW', fontsize=10)\n",
        "plt.show();"
      ]
    },
    {
      "cell_type": "code",
      "execution_count": null,
      "metadata": {
        "colab": {
          "base_uri": "https://localhost:8080/",
          "height": 321
        },
        "id": "sHczUGhFvpYd",
        "outputId": "aeb0863a-5ca6-4b59-ab72-1fb9156735c5",
        "tags": []
      },
      "outputs": [
        {
          "output_type": "display_data",
          "data": {
            "text/plain": [
              "<Figure size 720x324 with 2 Axes>"
            ],
            "image/png": "[encoded data removed]"
          },
          "metadata": {
            "needs_background": "light"
          }
        }
      ],
      "source": [
        "# Histograms for MSP \n",
        "\n",
        "delayedDepMSP = flights[flights['origin'] == 'MSP']['depDelay']\n",
        "delayedArrMSP = flights[flights['dest'] == 'MSP']['arrDelay']\n",
        "plt.figure(figsize=(10,4.5))\n",
        "plt.subplot(1,2,1)\n",
        "plt.hist(delayedDepMSP, bins = 50)\n",
        "plt.yscale('log')\n",
        "plt.xlabel('Delay (min)', fontsize=10)\n",
        "plt.ylabel('Log frequency', fontsize=10)\n",
        "plt.title('Histogram of departure delays from MSP', fontsize=10);\n",
        "plt.subplot(1,2,2)\n",
        "plt.hist(delayedArrMSP, bins = 50, color='red')\n",
        "plt.yscale('log')\n",
        "plt.xlabel('Delay (min)', fontsize=10)\n",
        "plt.ylabel('Log frequency', fontsize=10)\n",
        "plt.title('Histogram of arrival delays to MSP', fontsize=10)\n",
        "plt.show();\n"
      ]
    },
    {
      "cell_type": "code",
      "execution_count": null,
      "metadata": {
        "colab": {
          "base_uri": "https://localhost:8080/",
          "height": 321
        },
        "id": "Ne0l_PrSH7VL",
        "outputId": "c8e45190-9f89-4a75-b4ac-16b82fe2828e",
        "tags": []
      },
      "outputs": [
        {
          "output_type": "display_data",
          "data": {
            "text/plain": [
              "<Figure size 720x324 with 2 Axes>"
            ],
            "image/png": "[encoded data removed]"
          },
          "metadata": {
            "needs_background": "light"
          }
        }
      ],
      "source": [
        "# Histograms for ORD\n",
        "\n",
        "delayedDepORD = flights[flights['origin'] == 'ORD']['depDelay']\n",
        "delayedArrORD = flights[flights['dest'] == 'ORD']['arrDelay']\n",
        "plt.figure(figsize=(10,4.5))\n",
        "plt.subplot(1,2,1)\n",
        "plt.hist(delayedDepORD, bins = 50)\n",
        "plt.yscale('log')\n",
        "plt.xlabel('Delay (min)', fontsize=10)\n",
        "plt.ylabel('Log frequency', fontsize=10)\n",
        "plt.title('Histogram of departure delays from ORD', fontsize=10);\n",
        "plt.subplot(1,2,2)\n",
        "plt.hist(delayedArrORD, bins = 50, color='red')\n",
        "plt.yscale('log')\n",
        "plt.xlabel('Delay (min)', fontsize=10)\n",
        "plt.ylabel('Log frequency', fontsize=10)\n",
        "plt.title('Histogram of arrival delays to ORD', fontsize=10)\n",
        "plt.show();\n"
      ]
    },
    {
      "cell_type": "markdown",
      "metadata": {
        "id": "ML45YAVSEqyV"
      },
      "source": [
        "<!-- END QUESTION -->\n",
        "\n",
        "## Q10 (3 pts) - Delay Statistics"
      ]
    },
    {
      "cell_type": "markdown",
      "metadata": {
        "id": "Fkb7kWvGvlNS"
      },
      "source": [
        "Present the mean and standard deviation for departure and arrival delays for each airport.\n",
        "\n",
        "**NOTE: all the autograded tests are hidden for this problem.** If you run the grader_check function it will pass, locally, but will be checked vs. the hidden test cases on Gradescope. "
      ]
    },
    {
      "cell_type": "code",
      "execution_count": null,
      "metadata": {
        "colab": {
          "base_uri": "https://localhost:8080/"
        },
        "id": "ZBxDDItYvltP",
        "outputId": "fb7105b2-a176-43c8-9716-c1b58398b7ee",
        "tags": []
      },
      "outputs": [
        {
          "output_type": "stream",
          "name": "stdout",
          "text": [
            "Depature Delay for flights leaving DTW\n",
            " Mean:     7.5927405833482196\n",
            " Std Dev:  43.61499268204409\n",
            "Arrival Delay for flights arriving in DTW\n",
            " Mean:     0.7991628720938059\n",
            " Std Dev:  50.98109916207372\n",
            "\n",
            "Depature Delay for flights leaving MSP\n",
            " Mean:     6.530872925944746\n",
            " Std Dev:  42.74262685752288\n",
            "Arrival Delay for flights arriving in MSP\n",
            " Mean:     -0.7467615620199904\n",
            " Std Dev:  50.62433834186891\n",
            "\n",
            "Depature Delay for flights leaving ORD\n",
            " Mean:     10.842202169241016\n",
            " Std Dev:  46.84435393909345\n",
            "Arrival Delay for flights arriving in ORD\n",
            " Mean:     4.996705932310015\n",
            " Std Dev:  62.04845806635153\n"
          ]
        }
      ],
      "source": [
        "# Calculate the mean and std. Dev. Depature Delay for flights leaving DTW/MSP/ORD\n",
        "# Calculate the mean and std. Dev. Arrival Delay for flights arriving at DTW/MSP/ORD\n",
        "\n",
        "meanArrDTW = delayedArrDTW.mean()\n",
        "stdArrDTW = delayedArrDTW.std()\n",
        "\n",
        "meanArrMSP = delayedArrMSP.mean()\n",
        "stdArrMSP = delayedArrMSP.std()\n",
        "\n",
        "meanArrORD = delayedArrORD.mean()\n",
        "stdArrORD = delayedArrORD.std()\n",
        "\n",
        "meanDepDTW = delayedDepDTW.mean()\n",
        "stdDepDTW = delayedDepDTW.std()\n",
        "\n",
        "meanDepMSP = delayedDepMSP.mean()\n",
        "stdDepMSP =  delayedDepMSP.std()\n",
        "\n",
        "meanDepORD = delayedDepORD.mean()\n",
        "stdDepORD =  delayedDepORD.std()\n",
        "\n",
        "print(\"Depature Delay for flights leaving DTW\")\n",
        "print(\" Mean:    \", meanDepDTW)\n",
        "print(\" Std Dev: \", stdDepDTW)\n",
        "\n",
        "print(\"Arrival Delay for flights arriving in DTW\")\n",
        "print(\" Mean:    \", meanArrDTW)\n",
        "print(\" Std Dev: \", stdArrDTW)\n",
        "\n",
        "print(\"\\nDepature Delay for flights leaving MSP\")\n",
        "print(\" Mean:    \", meanDepMSP)\n",
        "print(\" Std Dev: \", stdDepMSP)\n",
        "\n",
        "print(\"Arrival Delay for flights arriving in MSP\")\n",
        "print(\" Mean:    \", meanArrMSP)\n",
        "print(\" Std Dev: \", stdArrMSP)\n",
        "\n",
        "print(\"\\nDepature Delay for flights leaving ORD\")\n",
        "print(\" Mean:    \", meanDepORD)\n",
        "print(\" Std Dev: \", stdDepORD)\n",
        "\n",
        "print(\"Arrival Delay for flights arriving in ORD\")\n",
        "print(\" Mean:    \", meanArrORD)\n",
        "print(\" Std Dev: \", stdArrORD)"
      ]
    },
    {
      "cell_type": "markdown",
      "metadata": {
        "id": "wczfQYBEEqyW"
      },
      "source": [
        "## Patterns of Delays \n",
        "\n",
        "Next, you will examine if there are any patterns in the delays.  \n",
        "\n",
        "For this analysis focus on just the data from ORD, in particular the departure delays. "
      ]
    },
    {
      "cell_type": "markdown",
      "metadata": {
        "id": "IUA9MDjCR1fu"
      },
      "source": [
        "<!-- BEGIN QUESTION -->\n",
        "\n",
        "## Q11 (5 pts) - Departure Delays by Day of Week\n",
        "\n",
        "Let's examine if the departure delays differ by which day a flight is scheduled to leave.\n",
        "\n",
        "Create a bar chart showing the mean departure delay for each day of the week.\n",
        "\n",
        "In order to get the day of the week, I suggest create a new column `dateVal` that is a datetime object.  Then, you can make use of functions to convert datetime to day of the week, day of the year, etc. \n"
      ]
    },
    {
      "cell_type": "code",
      "execution_count": null,
      "metadata": {
        "colab": {
          "base_uri": "https://localhost:8080/",
          "height": 307
        },
        "id": "RvSxASFKSpnQ",
        "outputId": "74ab6df7-14c4-4c33-9e9e-58acfc8cf7f8",
        "tags": []
      },
      "outputs": [
        {
          "output_type": "display_data",
          "data": {
            "text/plain": [
              "<Figure size 432x288 with 1 Axes>"
            ],
            "image/png": "[encoded data removed]"
          },
          "metadata": {
            "needs_background": "light"
          }
        }
      ],
      "source": [
        "# Look at departure delays for ORD \n",
        "# Create a bar chart of the mean `depDelay` by day of the week: Mon., Tues., ...\n",
        "\n",
        "# Create a new column \"dateVal\" with a datetime object that may be useful\n",
        "#  for this and the following questions. \n",
        "\n",
        "flights['dateVal'] = pd.to_datetime(flights[['year', 'month', 'day']])\n",
        "\n",
        "weekday_depDelaymean_ORD = flights[flights['origin'] == 'ORD'].groupby(flights['dateVal'].dt.strftime('%a'), sort=False)['depDelay'].mean()\n",
        "weekday_depDelaymean_ORD_sort = weekday_depDelaymean_ORD[[1,2,3,4,5,6,0]]\n",
        "barplot = weekday_depDelaymean_ORD_sort.plot(kind='bar')\n",
        "barplot.set_title('Bar chart of mean departure delays per weekday at ORD')\n",
        "barplot.set_xlabel('Day of the week')\n",
        "barplot.set_ylabel('Mean departure delay (min)');"
      ]
    },
    {
      "cell_type": "markdown",
      "metadata": {
        "id": "_dmrW5fZSo77"
      },
      "source": [
        "<!-- END QUESTION -->\n",
        "\n",
        "<!-- BEGIN QUESTION -->\n",
        "\n",
        "## Q12 (5 pts) - Dept. Delays by Month\n",
        "\n",
        "Next, let's examine if the depature delays differ by month of the year. \n",
        "\n",
        "Create a bar chart showing the mean departure delay for each month of the year. "
      ]
    },
    {
      "cell_type": "code",
      "execution_count": null,
      "metadata": {
        "colab": {
          "base_uri": "https://localhost:8080/",
          "height": 340
        },
        "id": "w5YrfLmNS828",
        "outputId": "88a0e3bd-b06b-49de-848e-a4d63a78c6fd",
        "tags": []
      },
      "outputs": [
        {
          "output_type": "display_data",
          "data": {
            "text/plain": [
              "<Figure size 432x288 with 1 Axes>"
            ],
            "image/png": "[encoded data removed]"
          },
          "metadata": {
            "needs_background": "light"
          }
        }
      ],
      "source": [
        "# Create a bar plot with the mean dep. delay for each month.\n",
        "\n",
        "month_depDelaymean_ORD = flights[flights['origin'] == 'ORD'].groupby(flights['dateVal'].dt.strftime('%B'))['depDelay'].mean()\n",
        "month_depDelaymean_ORD_sort = month_depDelaymean_ORD[[4,3,7,0,8,6,5,1,11,10,9,2]]\n",
        "barplot = month_depDelaymean_ORD_sort.plot(kind='bar')\n",
        "barplot.set_title('Bar chart of mean departure delays per month at ORD')\n",
        "barplot.set_xlabel('Month')\n",
        "barplot.set_ylabel('Mean departure delay (min)');"
      ]
    },
    {
      "cell_type": "markdown",
      "metadata": {
        "id": "tkEaARqPS9Rq"
      },
      "source": [
        "<!-- END QUESTION -->\n",
        "\n",
        "<!-- BEGIN QUESTION -->\n",
        "\n",
        "## Q13 (6 pts) - Change in Dept. Delays over Time \n",
        "\n",
        "Finally, let's examine how the depature delays have changed over time, e.g., has covid impacted depature delays? \n",
        "\n",
        "Create a line graph plotting the mean depature delay for data's timespan. "
      ]
    },
    {
      "cell_type": "code",
      "execution_count": null,
      "metadata": {
        "colab": {
          "base_uri": "https://localhost:8080/",
          "height": 521
        },
        "id": "5hZTu3_OTY6n",
        "outputId": "19a35c5b-5cf5-45a0-f1c6-93e7a6004682",
        "tags": []
      },
      "outputs": [
        {
          "output_type": "display_data",
          "data": {
            "text/plain": [
              "<Figure size 864x288 with 1 Axes>"
            ],
            "image/png": "[encoded data removed]"
          },
          "metadata": {
            "needs_background": "light"
          }
        },
        {
          "output_type": "stream",
          "name": "stdout",
          "text": [
            "dateVal\n",
            "2017-01-01     7.300360\n",
            "2017-01-02    19.235772\n",
            "2017-01-03    20.977273\n",
            "2017-01-04    10.781250\n",
            "2017-01-05    18.507538\n",
            "                ...    \n",
            "2021-12-27    21.955621\n",
            "2021-12-28    40.510236\n",
            "2021-12-29    13.863173\n",
            "2021-12-30    15.655022\n",
            "2021-12-31     9.913644\n",
            "Name: depDelay, Length: 1826, dtype: float64\n"
          ]
        }
      ],
      "source": [
        "# Create a line chart plotting the mean dep. delay over time\n",
        "date_depDelaymean_ORD = flights[flights['origin'] == 'ORD'].groupby(flights['dateVal'])['depDelay'].mean()\n",
        "plt.figure(figsize=(12,4))\n",
        "plt.plot(date_depDelaymean_ORD.index,date_depDelaymean_ORD.values)\n",
        "plt.title('Line graph of mean departure delays over time at ORD')\n",
        "plt.xlabel('Date')\n",
        "plt.ylabel('Mean delay (min)')\n",
        "x_ticks = pd.to_datetime(['2017-01-01', '2017-07-01', '2018-01-01', '2018-07-01', '2019-01-01', '2019-07-01', '2020-01-01', '2020-07-01', '2021-01-01', '2021-07-01', '2022-01-01'])\n",
        "x_labels = ['Jan 2017', 'July 2017', 'Jan 2018', 'July 2018', 'Jan 2019', 'July 2019', 'Jan 2020', 'July 2020', 'Jan 2021', 'July 2021', 'Jan 2022'] \n",
        "plt.xticks(ticks=x_ticks, labels=x_labels)\n",
        "plt.show();\n",
        "print(date_depDelaymean_ORD)"
      ]
    },
    {
      "cell_type": "markdown",
      "metadata": {
        "id": "Q9JAd3UBtogS"
      },
      "source": [
        "<!-- END QUESTION -->\n",
        "\n",
        "<!-- BEGIN QUESTION -->\n",
        "\n",
        "## Bonus (2 pts) - Top Ten Planes \n",
        "\n",
        "Find the tail number of the top ten planes, with the worst departure delays (average delays).  You may find `drop_duplicates`, `agg`, and `sort_values` helpful. \n",
        "Report out the tail number `tailNum`, number of flights `num`, and the mean delay `mnDelay`. "
      ]
    },
    {
      "cell_type": "code",
      "execution_count": null,
      "metadata": {
        "colab": {
          "base_uri": "https://localhost:8080/",
          "height": 363
        },
        "id": "uygjFWy7uBhe",
        "outputId": "ce3467bd-44ef-4b44-ceb0-101071505277",
        "tags": []
      },
      "outputs": [
        {
          "output_type": "execute_result",
          "data": {
            "text/plain": [
              "  tailNum  num  mnDelay\n",
              "0  N727AN    2    659.0\n",
              "1  N733AR    4    626.5\n",
              "2  N785AA    1    538.0\n",
              "3  N786AA    1    505.0\n",
              "4  N7LRAA    2    411.5\n",
              "5  N724AN    1    351.0\n",
              "6  N206PS    1    287.0\n",
              "7  N178UA    1    276.0\n",
              "8  N7BDAA    1    270.0\n",
              "9  N7LVAA    2    259.0"
            ],
            "text/html": [
              "\n",
              "  <div id=\"df-f18ec898-3a34-4f10-aa61-2a3e0d79ff84\">\n",
              "    <div class=\"colab-df-container\">\n",
              "      <div>\n",
              "<style scoped>\n",
              "    .dataframe tbody tr th:only-of-type {\n",
              "        vertical-align: middle;\n",
              "    }\n",
              "\n",
              "    .dataframe tbody tr th {\n",
              "        vertical-align: top;\n",
              "    }\n",
              "\n",
              "    .dataframe thead th {\n",
              "        text-align: right;\n",
              "    }\n",
              "</style>\n",
              "<table border=\"1\" class=\"dataframe\">\n",
              "  <thead>\n",
              "    <tr style=\"text-align: right;\">\n",
              "      <th></th>\n",
              "      <th>tailNum</th>\n",
              "      <th>num</th>\n",
              "      <th>mnDelay</th>\n",
              "    </tr>\n",
              "  </thead>\n",
              "  <tbody>\n",
              "    <tr>\n",
              "      <th>0</th>\n",
              "      <td>N727AN</td>\n",
              "      <td>2</td>\n",
              "      <td>659.0</td>\n",
              "    </tr>\n",
              "    <tr>\n",
              "      <th>1</th>\n",
              "      <td>N733AR</td>\n",
              "      <td>4</td>\n",
              "      <td>626.5</td>\n",
              "    </tr>\n",
              "    <tr>\n",
              "      <th>2</th>\n",
              "      <td>N785AA</td>\n",
              "      <td>1</td>\n",
              "      <td>538.0</td>\n",
              "    </tr>\n",
              "    <tr>\n",
              "      <th>3</th>\n",
              "      <td>N786AA</td>\n",
              "      <td>1</td>\n",
              "      <td>505.0</td>\n",
              "    </tr>\n",
              "    <tr>\n",
              "      <th>4</th>\n",
              "      <td>N7LRAA</td>\n",
              "      <td>2</td>\n",
              "      <td>411.5</td>\n",
              "    </tr>\n",
              "    <tr>\n",
              "      <th>5</th>\n",
              "      <td>N724AN</td>\n",
              "      <td>1</td>\n",
              "      <td>351.0</td>\n",
              "    </tr>\n",
              "    <tr>\n",
              "      <th>6</th>\n",
              "      <td>N206PS</td>\n",
              "      <td>1</td>\n",
              "      <td>287.0</td>\n",
              "    </tr>\n",
              "    <tr>\n",
              "      <th>7</th>\n",
              "      <td>N178UA</td>\n",
              "      <td>1</td>\n",
              "      <td>276.0</td>\n",
              "    </tr>\n",
              "    <tr>\n",
              "      <th>8</th>\n",
              "      <td>N7BDAA</td>\n",
              "      <td>1</td>\n",
              "      <td>270.0</td>\n",
              "    </tr>\n",
              "    <tr>\n",
              "      <th>9</th>\n",
              "      <td>N7LVAA</td>\n",
              "      <td>2</td>\n",
              "      <td>259.0</td>\n",
              "    </tr>\n",
              "  </tbody>\n",
              "</table>\n",
              "</div>\n",
              "      <button class=\"colab-df-convert\" onclick=\"convertToInteractive('df-f18ec898-3a34-4f10-aa61-2a3e0d79ff84')\"\n",
              "              title=\"Convert this dataframe to an interactive table.\"\n",
              "              style=\"display:none;\">\n",
              "        \n",
              "  <svg xmlns=\"http://www.w3.org/2000/svg\" height=\"24px\"viewBox=\"0 0 24 24\"\n",
              "       width=\"24px\">\n",
              "    <path d=\"M0 0h24v24H0V0z\" fill=\"none\"/>\n",
              "    <path d=\"M18.56 5.44l.94 2.06.94-2.06 2.06-.94-2.06-.94-.94-2.06-.94 2.06-2.06.94zm-11 1L8.5 8.5l.94-2.06 2.06-.94-2.06-.94L8.5 2.5l-.94 2.06-2.06.94zm10 10l.94 2.06.94-2.06 2.06-.94-2.06-.94-.94-2.06-.94 2.06-2.06.94z\"/><path d=\"M17.41 7.96l-1.37-1.37c-.4-.4-.92-.59-1.43-.59-.52 0-1.04.2-1.43.59L10.3 9.45l-7.72 7.72c-.78.78-.78 2.05 0 2.83L4 21.41c.39.39.9.59 1.41.59.51 0 1.02-.2 1.41-.59l7.78-7.78 2.81-2.81c.8-.78.8-2.07 0-2.86zM5.41 20L4 18.59l7.72-7.72 1.47 1.35L5.41 20z\"/>\n",
              "  </svg>\n",
              "      </button>\n",
              "      \n",
              "  <style>\n",
              "    .colab-df-container {\n",
              "      display:flex;\n",
              "      flex-wrap:wrap;\n",
              "      gap: 12px;\n",
              "    }\n",
              "\n",
              "    .colab-df-convert {\n",
              "      background-color: #E8F0FE;\n",
              "      border: none;\n",
              "      border-radius: 50%;\n",
              "      cursor: pointer;\n",
              "      display: none;\n",
              "      fill: #1967D2;\n",
              "      height: 32px;\n",
              "      padding: 0 0 0 0;\n",
              "      width: 32px;\n",
              "    }\n",
              "\n",
              "    .colab-df-convert:hover {\n",
              "      background-color: #E2EBFA;\n",
              "      box-shadow: 0px 1px 2px rgba(60, 64, 67, 0.3), 0px 1px 3px 1px rgba(60, 64, 67, 0.15);\n",
              "      fill: #174EA6;\n",
              "    }\n",
              "\n",
              "    [theme=dark] .colab-df-convert {\n",
              "      background-color: #3B4455;\n",
              "      fill: #D2E3FC;\n",
              "    }\n",
              "\n",
              "    [theme=dark] .colab-df-convert:hover {\n",
              "      background-color: #434B5C;\n",
              "      box-shadow: 0px 1px 3px 1px rgba(0, 0, 0, 0.15);\n",
              "      filter: drop-shadow(0px 1px 2px rgba(0, 0, 0, 0.3));\n",
              "      fill: #FFFFFF;\n",
              "    }\n",
              "  </style>\n",
              "\n",
              "      <script>\n",
              "        const buttonEl =\n",
              "          document.querySelector('#df-f18ec898-3a34-4f10-aa61-2a3e0d79ff84 button.colab-df-convert');\n",
              "        buttonEl.style.display =\n",
              "          google.colab.kernel.accessAllowed ? 'block' : 'none';\n",
              "\n",
              "        async function convertToInteractive(key) {\n",
              "          const element = document.querySelector('#df-f18ec898-3a34-4f10-aa61-2a3e0d79ff84');\n",
              "          const dataTable =\n",
              "            await google.colab.kernel.invokeFunction('convertToInteractive',\n",
              "                                                     [key], {});\n",
              "          if (!dataTable) return;\n",
              "\n",
              "          const docLinkHtml = 'Like what you see? Visit the ' +\n",
              "            '<a target=\"_blank\" href=https://colab.research.google.com/notebooks/data_table.ipynb>data table notebook</a>'\n",
              "            + ' to learn more about interactive tables.';\n",
              "          element.innerHTML = '';\n",
              "          dataTable['output_type'] = 'display_data';\n",
              "          await google.colab.output.renderOutput(dataTable, element);\n",
              "          const docLink = document.createElement('div');\n",
              "          docLink.innerHTML = docLinkHtml;\n",
              "          element.appendChild(docLink);\n",
              "        }\n",
              "      </script>\n",
              "    </div>\n",
              "  </div>\n",
              "  "
            ]
          },
          "metadata": {},
          "execution_count": 73
        }
      ],
      "source": [
        "# Find the tail numbers of the planes with the worst mean dep. delays. \n",
        "# Store the tail number \"tailNum\", number of flights \"num\", and\n",
        "#   mean delay \"mnDelay\" in a DataFrame\n",
        "\n",
        "number_of_flights = flights.groupby(flights['tailNum'])['depDelay'].count()\n",
        "mean_departure_delays = flights.groupby(flights['tailNum'])['depDelay'].mean()\n",
        "topDelayed = pd.DataFrame()\n",
        "topDelayed[\"num\"] = number_of_flights\n",
        "topDelayed[\"mnDelay\"] = mean_departure_delays\n",
        "topDelayed.sort_values(by=['mnDelay'], ascending=False, inplace=True)\n",
        "topDelayed[\"tailNum\"] = topDelayed.index\n",
        "topDelayed.reset_index(drop=True, inplace=True)\n",
        "topDelayed=topDelayed.reindex(columns=[\"tailNum\", \"num\", \"mnDelay\"])\n",
        "...\n",
        "topDelayed.head(10)"
      ]
    },
    {
      "cell_type": "markdown",
      "metadata": {
        "id": "_1wZo195EqyZ"
      },
      "source": [
        "<!-- END QUESTION -->\n",
        "\n"
      ]
    }
  ],
  "metadata": {
    "colab": {
      "collapsed_sections": [],
      "provenance": []
    },
    "kernelspec": {
      "display_name": "un5550f22",
      "language": "python",
      "name": "un5550f22"
    },
    "language_info": {
      "codemirror_mode": {
        "name": "ipython",
        "version": 3
      },
      "file_extension": ".py",
      "mimetype": "text/x-python",
      "name": "python",
      "nbconvert_exporter": "python",
      "pygments_lexer": "ipython3",
      "version": "3.7.11"
    },
    "otter": {
      "OK_FORMAT": true,
      "tests": {
        "q1": {
          "name": "q1",
          "points": 5,
          "suites": [
            {
              "cases": [
                {
                  "code": ">>> flights.shape[0] == 5068847\nTrue",
                  "hidden": false,
                  "locked": false
                },
                {
                  "code": ">>> flights.shape[1] == 16\nTrue",
                  "hidden": false,
                  "locked": false
                },
                {
                  "code": ">>> flights.columns[5] == 'flNum'\nTrue",
                  "hidden": false,
                  "locked": false
                },
                {
                  "code": ">>> flights.columns[8] == 'crsDepTime'\nTrue",
                  "hidden": false,
                  "locked": false
                },
                {
                  "code": ">>> flights.columns[13] == 'arrNextDay'\nTrue",
                  "hidden": false,
                  "locked": false
                }
              ],
              "scored": true,
              "setup": "",
              "teardown": "",
              "type": "doctest"
            }
          ]
        },
        "q10": {
          "name": "q10",
          "points": 3,
          "suites": [
            {
              "cases": [],
              "scored": true,
              "setup": "",
              "teardown": "",
              "type": "doctest"
            }
          ]
        },
        "q2": {
          "name": "q2",
          "points": 3,
          "suites": [
            {
              "cases": [
                {
                  "code": ">>> numArrDTW == 648915\nTrue",
                  "hidden": false,
                  "locked": false
                },
                {
                  "code": ">>> numDepDTW == 648900\nTrue",
                  "hidden": false,
                  "locked": false
                }
              ],
              "scored": true,
              "setup": "",
              "teardown": "",
              "type": "doctest"
            }
          ]
        },
        "q3": {
          "name": "q3",
          "points": 3,
          "suites": [
            {
              "cases": [
                {
                  "code": ">>> numCanArrDTW == 9325 and numCanDepDTW == 9264 \nTrue",
                  "hidden": false,
                  "locked": false
                },
                {
                  "code": ">>> numDivArrDTW == 739 and numDivDepDTW == 1459\nTrue",
                  "hidden": false,
                  "locked": false
                }
              ],
              "scored": true,
              "setup": "",
              "teardown": "",
              "type": "doctest"
            }
          ]
        },
        "q4": {
          "name": "q4",
          "points": 4,
          "suites": [
            {
              "cases": [
                {
                  "code": ">>> flights.shape[0] == 4950620\nTrue",
                  "hidden": false,
                  "locked": false
                }
              ],
              "scored": true,
              "setup": "",
              "teardown": "",
              "type": "doctest"
            }
          ]
        },
        "q5": {
          "name": "q5",
          "points": 5,
          "suites": [
            {
              "cases": [
                {
                  "code": ">>> hr = extract_hour(flights['actDepTime'][0:5])\n>>> hr[0]==10.0 and hr[1]==7.0 and hr[2]==18.0 and hr[3]==14.0 and hr[4]==10.0\nTrue",
                  "hidden": false,
                  "locked": false
                },
                {
                  "code": ">>> mins = extract_min(flights['actDepTime'][0:5])\n>>> mins[0]==13.0 and mins[1]==3.0 and mins[2]==25.0 and mins[3]==4.0 and mins[4]==54.0\nTrue",
                  "hidden": false,
                  "locked": false
                }
              ],
              "scored": true,
              "setup": "",
              "teardown": "",
              "type": "doctest"
            }
          ]
        },
        "q6": {
          "name": "q6",
          "points": 2,
          "suites": [
            {
              "cases": [
                {
                  "code": ">>> convert_to_minofday(1303.0)==783\nTrue",
                  "hidden": false,
                  "locked": false
                },
                {
                  "code": ">>> convert_to_minofday(1524)==924\nTrue",
                  "hidden": false,
                  "locked": false
                },
                {
                  "code": ">>> mins = convert_to_minofday(flights['actDepTime'][10:14])\n>>> mins[10] == 1155.0 and mins[11]==745.0 and mins[12]==1071.0 and mins[13]==547.0\nTrue",
                  "hidden": false,
                  "locked": false
                }
              ],
              "scored": true,
              "setup": "",
              "teardown": "",
              "type": "doctest"
            }
          ]
        },
        "q7": {
          "name": "q7",
          "points": 6,
          "suites": [
            {
              "cases": [
                {
                  "code": ">>> calc_time_diff(pd.Series([2320.0]), pd.Series([37.0]), pd.Series([1])).iloc[0]==77.0\nTrue",
                  "hidden": false,
                  "locked": false
                },
                {
                  "code": ">>> calc_time_diff(pd.Series([1303]), pd.Series([1305]), pd.Series([0])).iloc[0]==2\nTrue",
                  "hidden": false,
                  "locked": false
                }
              ],
              "scored": true,
              "setup": "",
              "teardown": "",
              "type": "doctest"
            }
          ]
        },
        "q8": {
          "name": "q8",
          "points": 3,
          "suites": [
            {
              "cases": [
                {
                  "code": ">>> delayedDTW==25792\nTrue",
                  "hidden": false,
                  "locked": false
                }
              ],
              "scored": true,
              "setup": "",
              "teardown": "",
              "type": "doctest"
            }
          ]
        }
      }
    }
  },
  "nbformat": 4,
  "nbformat_minor": 0
}