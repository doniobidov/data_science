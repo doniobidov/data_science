{
  "cells": [
    {
      "cell_type": "markdown",
      "id": "4047b5bc",
      "metadata": {
        "id": "4047b5bc"
      },
      "source": [
        "# Lab 1 & 2 \n",
        "\n",
        "\n",
        "**Lab 1**\n",
        "Assignment Objectives:  \n",
        "Upon successful completion of this assignment, a student will be able to:\n",
        "* Add new text and code cells to a colab notebook\n",
        "* Gain experience in formatting text using Markdown\n",
        "* Load in a data set and explore its properties (missing data, statistics)."
      ]
    },
    {
      "cell_type": "markdown",
      "id": "285e329f",
      "metadata": {
        "id": "285e329f"
      },
      "source": [
        "The next code cell is required to use the autograder when running on Colab/DeepNote (uncomment the code). If you are using an environment with `otter-grader` already installed, then leave the code commented out.  \n",
        "\n",
        "Before you submit to Gradescope recomment this cell. "
      ]
    },
    {
      "cell_type": "code",
      "execution_count": null,
      "id": "a409604a",
      "metadata": {
        "colab": {
          "base_uri": "https://localhost:8080/"
        },
        "id": "a409604a",
        "outputId": "e90343ab-27e7-44a5-83df-a02344fb8dfa"
      },
      "outputs": [
        {
          "output_type": "stream",
          "name": "stdout",
          "text": [
            "Looking in indexes: https://pypi.org/simple, https://us-python.pkg.dev/colab-wheels/public/simple/\n",
            "Collecting otter-grader\n",
            "  Downloading otter_grader-4.0.1-py3-none-any.whl (166 kB)\n",
            "\u001b[K     |████████████████████████████████| 166 kB 4.0 MB/s \n",
            "\u001b[?25hCollecting jupytext\n",
            "  Downloading jupytext-1.14.1-py3-none-any.whl (297 kB)\n",
            "\u001b[K     |████████████████████████████████| 297 kB 49.7 MB/s \n",
            "\u001b[?25hRequirement already satisfied: dill in /usr/local/lib/python3.7/dist-packages (from otter-grader) (0.3.5.1)\n",
            "Requirement already satisfied: google-api-python-client in /usr/local/lib/python3.7/dist-packages (from otter-grader) (1.12.11)\n",
            "Collecting python-on-whales\n",
            "  Downloading python_on_whales-0.52.0-py3-none-any.whl (97 kB)\n",
            "\u001b[K     |████████████████████████████████| 97 kB 6.5 MB/s \n",
            "\u001b[?25hCollecting fica>=0.2.0\n",
            "  Downloading fica-0.2.0-py3-none-any.whl (11 kB)\n",
            "Requirement already satisfied: google-auth-oauthlib in /usr/local/lib/python3.7/dist-packages (from otter-grader) (0.4.6)\n",
            "Requirement already satisfied: nbformat in /usr/local/lib/python3.7/dist-packages (from otter-grader) (5.4.0)\n",
            "Requirement already satisfied: wrapt in /usr/local/lib/python3.7/dist-packages (from otter-grader) (1.14.1)\n",
            "Requirement already satisfied: gspread in /usr/local/lib/python3.7/dist-packages (from otter-grader) (3.4.2)\n",
            "Requirement already satisfied: requests in /usr/local/lib/python3.7/dist-packages (from otter-grader) (2.23.0)\n",
            "Requirement already satisfied: six in /usr/local/lib/python3.7/dist-packages (from otter-grader) (1.15.0)\n",
            "Requirement already satisfied: jinja2 in /usr/local/lib/python3.7/dist-packages (from otter-grader) (2.11.3)\n",
            "Requirement already satisfied: click in /usr/local/lib/python3.7/dist-packages (from otter-grader) (7.1.2)\n",
            "Requirement already satisfied: PyYAML in /usr/local/lib/python3.7/dist-packages (from otter-grader) (6.0)\n",
            "Requirement already satisfied: pandas in /usr/local/lib/python3.7/dist-packages (from otter-grader) (1.3.5)\n",
            "Requirement already satisfied: docutils in /usr/local/lib/python3.7/dist-packages (from fica>=0.2.0->otter-grader) (0.17.1)\n",
            "Requirement already satisfied: sphinx in /usr/local/lib/python3.7/dist-packages (from fica>=0.2.0->otter-grader) (1.8.6)\n",
            "Requirement already satisfied: google-auth-httplib2>=0.0.3 in /usr/local/lib/python3.7/dist-packages (from google-api-python-client->otter-grader) (0.0.4)\n",
            "Requirement already satisfied: google-api-core<3dev,>=1.21.0 in /usr/local/lib/python3.7/dist-packages (from google-api-python-client->otter-grader) (1.31.6)\n",
            "Requirement already satisfied: uritemplate<4dev,>=3.0.0 in /usr/local/lib/python3.7/dist-packages (from google-api-python-client->otter-grader) (3.0.1)\n",
            "Requirement already satisfied: google-auth<3dev,>=1.16.0 in /usr/local/lib/python3.7/dist-packages (from google-api-python-client->otter-grader) (1.35.0)\n",
            "Requirement already satisfied: httplib2<1dev,>=0.15.0 in /usr/local/lib/python3.7/dist-packages (from google-api-python-client->otter-grader) (0.17.4)\n",
            "Requirement already satisfied: pytz in /usr/local/lib/python3.7/dist-packages (from google-api-core<3dev,>=1.21.0->google-api-python-client->otter-grader) (2022.2.1)\n",
            "Requirement already satisfied: packaging>=14.3 in /usr/local/lib/python3.7/dist-packages (from google-api-core<3dev,>=1.21.0->google-api-python-client->otter-grader) (21.3)\n",
            "Requirement already satisfied: protobuf<4.0.0dev,>=3.12.0 in /usr/local/lib/python3.7/dist-packages (from google-api-core<3dev,>=1.21.0->google-api-python-client->otter-grader) (3.17.3)\n",
            "Requirement already satisfied: setuptools>=40.3.0 in /usr/local/lib/python3.7/dist-packages (from google-api-core<3dev,>=1.21.0->google-api-python-client->otter-grader) (57.4.0)\n",
            "Requirement already satisfied: googleapis-common-protos<2.0dev,>=1.6.0 in /usr/local/lib/python3.7/dist-packages (from google-api-core<3dev,>=1.21.0->google-api-python-client->otter-grader) (1.56.4)\n",
            "Requirement already satisfied: cachetools<5.0,>=2.0.0 in /usr/local/lib/python3.7/dist-packages (from google-auth<3dev,>=1.16.0->google-api-python-client->otter-grader) (4.2.4)\n",
            "Requirement already satisfied: pyasn1-modules>=0.2.1 in /usr/local/lib/python3.7/dist-packages (from google-auth<3dev,>=1.16.0->google-api-python-client->otter-grader) (0.2.8)\n",
            "Requirement already satisfied: rsa<5,>=3.1.4 in /usr/local/lib/python3.7/dist-packages (from google-auth<3dev,>=1.16.0->google-api-python-client->otter-grader) (4.9)\n",
            "Requirement already satisfied: pyparsing!=3.0.5,>=2.0.2 in /usr/local/lib/python3.7/dist-packages (from packaging>=14.3->google-api-core<3dev,>=1.21.0->google-api-python-client->otter-grader) (3.0.9)\n",
            "Requirement already satisfied: pyasn1<0.5.0,>=0.4.6 in /usr/local/lib/python3.7/dist-packages (from pyasn1-modules>=0.2.1->google-auth<3dev,>=1.16.0->google-api-python-client->otter-grader) (0.4.8)\n",
            "Requirement already satisfied: idna<3,>=2.5 in /usr/local/lib/python3.7/dist-packages (from requests->otter-grader) (2.10)\n",
            "Requirement already satisfied: certifi>=2017.4.17 in /usr/local/lib/python3.7/dist-packages (from requests->otter-grader) (2022.6.15)\n",
            "Requirement already satisfied: chardet<4,>=3.0.2 in /usr/local/lib/python3.7/dist-packages (from requests->otter-grader) (3.0.4)\n",
            "Requirement already satisfied: urllib3!=1.25.0,!=1.25.1,<1.26,>=1.21.1 in /usr/local/lib/python3.7/dist-packages (from requests->otter-grader) (1.24.3)\n",
            "Requirement already satisfied: requests-oauthlib>=0.7.0 in /usr/local/lib/python3.7/dist-packages (from google-auth-oauthlib->otter-grader) (1.3.1)\n",
            "Requirement already satisfied: oauthlib>=3.0.0 in /usr/local/lib/python3.7/dist-packages (from requests-oauthlib>=0.7.0->google-auth-oauthlib->otter-grader) (3.2.0)\n",
            "Requirement already satisfied: MarkupSafe>=0.23 in /usr/local/lib/python3.7/dist-packages (from jinja2->otter-grader) (2.0.1)\n",
            "Requirement already satisfied: toml in /usr/local/lib/python3.7/dist-packages (from jupytext->otter-grader) (0.10.2)\n",
            "Collecting markdown-it-py<3.0.0,>=1.0.0\n",
            "  Downloading markdown_it_py-2.1.0-py3-none-any.whl (84 kB)\n",
            "\u001b[K     |████████████████████████████████| 84 kB 2.4 MB/s \n",
            "\u001b[?25hCollecting mdit-py-plugins\n",
            "  Downloading mdit_py_plugins-0.3.0-py3-none-any.whl (43 kB)\n",
            "\u001b[K     |████████████████████████████████| 43 kB 1.9 MB/s \n",
            "\u001b[?25hCollecting mdurl~=0.1\n",
            "  Downloading mdurl-0.1.2-py3-none-any.whl (10.0 kB)\n",
            "Requirement already satisfied: typing_extensions>=3.7.4 in /usr/local/lib/python3.7/dist-packages (from markdown-it-py<3.0.0,>=1.0.0->jupytext->otter-grader) (4.1.1)\n",
            "Requirement already satisfied: jsonschema>=2.6 in /usr/local/lib/python3.7/dist-packages (from nbformat->otter-grader) (4.3.3)\n",
            "Requirement already satisfied: traitlets>=5.1 in /usr/local/lib/python3.7/dist-packages (from nbformat->otter-grader) (5.1.1)\n",
            "Requirement already satisfied: jupyter-core in /usr/local/lib/python3.7/dist-packages (from nbformat->otter-grader) (4.11.1)\n",
            "Requirement already satisfied: fastjsonschema in /usr/local/lib/python3.7/dist-packages (from nbformat->otter-grader) (2.16.1)\n",
            "Requirement already satisfied: importlib-metadata in /usr/local/lib/python3.7/dist-packages (from jsonschema>=2.6->nbformat->otter-grader) (4.12.0)\n",
            "Requirement already satisfied: pyrsistent!=0.17.0,!=0.17.1,!=0.17.2,>=0.14.0 in /usr/local/lib/python3.7/dist-packages (from jsonschema>=2.6->nbformat->otter-grader) (0.18.1)\n",
            "Requirement already satisfied: attrs>=17.4.0 in /usr/local/lib/python3.7/dist-packages (from jsonschema>=2.6->nbformat->otter-grader) (22.1.0)\n",
            "Requirement already satisfied: importlib-resources>=1.4.0 in /usr/local/lib/python3.7/dist-packages (from jsonschema>=2.6->nbformat->otter-grader) (5.9.0)\n",
            "Requirement already satisfied: zipp>=3.1.0 in /usr/local/lib/python3.7/dist-packages (from importlib-resources>=1.4.0->jsonschema>=2.6->nbformat->otter-grader) (3.8.1)\n",
            "Requirement already satisfied: numpy>=1.17.3 in /usr/local/lib/python3.7/dist-packages (from pandas->otter-grader) (1.21.6)\n",
            "Requirement already satisfied: python-dateutil>=2.7.3 in /usr/local/lib/python3.7/dist-packages (from pandas->otter-grader) (2.8.2)\n",
            "Requirement already satisfied: tqdm in /usr/local/lib/python3.7/dist-packages (from python-on-whales->otter-grader) (4.64.1)\n",
            "Requirement already satisfied: typer>=0.4.1 in /usr/local/lib/python3.7/dist-packages (from python-on-whales->otter-grader) (0.4.2)\n",
            "Requirement already satisfied: pydantic in /usr/local/lib/python3.7/dist-packages (from python-on-whales->otter-grader) (1.9.2)\n",
            "Requirement already satisfied: Pygments>=2.0 in /usr/local/lib/python3.7/dist-packages (from sphinx->fica>=0.2.0->otter-grader) (2.6.1)\n",
            "Requirement already satisfied: babel!=2.0,>=1.3 in /usr/local/lib/python3.7/dist-packages (from sphinx->fica>=0.2.0->otter-grader) (2.10.3)\n",
            "Requirement already satisfied: snowballstemmer>=1.1 in /usr/local/lib/python3.7/dist-packages (from sphinx->fica>=0.2.0->otter-grader) (2.2.0)\n",
            "Requirement already satisfied: imagesize in /usr/local/lib/python3.7/dist-packages (from sphinx->fica>=0.2.0->otter-grader) (1.4.1)\n",
            "Requirement already satisfied: sphinxcontrib-websupport in /usr/local/lib/python3.7/dist-packages (from sphinx->fica>=0.2.0->otter-grader) (1.2.4)\n",
            "Requirement already satisfied: alabaster<0.8,>=0.7 in /usr/local/lib/python3.7/dist-packages (from sphinx->fica>=0.2.0->otter-grader) (0.7.12)\n",
            "Requirement already satisfied: sphinxcontrib-serializinghtml in /usr/local/lib/python3.7/dist-packages (from sphinxcontrib-websupport->sphinx->fica>=0.2.0->otter-grader) (1.1.5)\n",
            "Installing collected packages: mdurl, markdown-it-py, mdit-py-plugins, python-on-whales, jupytext, fica, otter-grader\n",
            "Successfully installed fica-0.2.0 jupytext-1.14.1 markdown-it-py-2.1.0 mdit-py-plugins-0.3.0 mdurl-0.1.2 otter-grader-4.0.1 python-on-whales-0.52.0\n",
            "--2022-09-15 03:27:57--  https://pages.mtu.edu/~lebrown/un5550-f22/labs/labs1-2/lab1-2.files.zip\n",
            "Resolving pages.mtu.edu (pages.mtu.edu)... 141.219.70.232\n",
            "Connecting to pages.mtu.edu (pages.mtu.edu)|141.219.70.232|:443... connected.\n",
            "HTTP request sent, awaiting response... 200 OK\n",
            "Length: 13585 (13K) [application/zip]\n",
            "Saving to: ‘lab1-2.files.zip’\n",
            "\n",
            "lab1-2.files.zip    100%[===================>]  13.27K  --.-KB/s    in 0s      \n",
            "\n",
            "2022-09-15 03:27:57 (35.7 MB/s) - ‘lab1-2.files.zip’ saved [13585/13585]\n",
            "\n",
            "Archive:  lab1-2.files.zip\n",
            "   creating: data/\n",
            "  inflating: data/property.csv       \n",
            "  inflating: data/auto-mpg.data      \n",
            "   creating: tests/\n",
            "  inflating: tests/q5.py             \n",
            "  inflating: tests/q1.py             \n",
            "  inflating: tests/q4.py             \n",
            "  inflating: tests/q11.py            \n",
            "  inflating: tests/q15.py            \n",
            "  inflating: tests/q14.py            \n",
            "  inflating: tests/q10.py            \n",
            "  inflating: tests/q9.py             \n",
            "  inflating: tests/q13.py            \n",
            "  inflating: tests/q12.py            \n",
            "  inflating: tests/q8.py             \n",
            "  inflating: tests/q3.py             \n",
            "  inflating: tests/q7.py             \n",
            "  inflating: tests/q6.py             \n"
          ]
        }
      ],
      "source": [
        "!pip install otter-grader\n",
        "!wget https://pages.mtu.edu/~lebrown/un5550-f22/labs/labs1-2/lab1-2.files.zip\n",
        "!unzip lab1-2.files.zip"
      ]
    },
    {
      "cell_type": "code",
      "execution_count": null,
      "id": "46298c36",
      "metadata": {
        "id": "46298c36"
      },
      "outputs": [],
      "source": [
        "#  Import libraries \n",
        "import pandas as pd\n",
        "import numpy as np\n",
        "import matplotlib as mpl\n",
        "import matplotlib.pyplot as plt\n",
        "%matplotlib inline\n",
        "\n",
        "import otter\n",
        "grader = otter.Notebook()"
      ]
    },
    {
      "cell_type": "markdown",
      "id": "ea65ff42",
      "metadata": {
        "id": "ea65ff42"
      },
      "source": [
        "*Tip: It is good practice to list all imports needed at the top of the notebook.  You can import modules in later cells as needed, but listing them at the top clearly shows all which are needed to be available / installed.*"
      ]
    },
    {
      "cell_type": "markdown",
      "id": "c8d6de12",
      "metadata": {
        "id": "c8d6de12"
      },
      "source": [
        "## Example 1 - More Data Cleaning \n",
        "*Adapted from J. Sullivan*\n",
        "\n",
        "Let's look at another data file to see additional data cleaning steps and code.  \n",
        "\n",
        "The initial data set reads in part: \n",
        "\n",
        "![property data](https://pages.mtu.edu/~lebrown/un5550-f20/week1/property-data.jpg)"
      ]
    },
    {
      "cell_type": "code",
      "execution_count": null,
      "id": "f1d56507",
      "metadata": {
        "colab": {
          "base_uri": "https://localhost:8080/",
          "height": 424
        },
        "id": "f1d56507",
        "outputId": "4409d76e-3727-435b-e496-764a227b538c"
      },
      "outputs": [
        {
          "output_type": "execute_result",
          "data": {
            "text/plain": [
              "    18.0   8   307.0      130.0      3504.      12.0   70  1\\t\"chevrolet chevelle malibu\"\n",
              "0    15.0   8   350.0      165.0      3693.      11...                                   \n",
              "1    18.0   8   318.0      150.0      3436.      11...                                   \n",
              "2    16.0   8   304.0      150.0      3433.      12...                                   \n",
              "3    17.0   8   302.0      140.0      3449.      10...                                   \n",
              "4    15.0   8   429.0      198.0      4341.      10...                                   \n",
              "..                                                 ...                                   \n",
              "392  27.0   4   140.0      86.00      2790.      15...                                   \n",
              "393  44.0   4   97.00      52.00      2130.      24...                                   \n",
              "394  32.0   4   135.0      84.00      2295.      11...                                   \n",
              "395  28.0   4   120.0      79.00      2625.      18...                                   \n",
              "396  31.0   4   119.0      82.00      2720.      19...                                   \n",
              "\n",
              "[397 rows x 1 columns]"
            ],
            "text/html": [
              "\n",
              "  <div id=\"df-1241dfc2-1cdb-4063-9be4-bc57af5591c0\">\n",
              "    <div class=\"colab-df-container\">\n",
              "      <div>\n",
              "<style scoped>\n",
              "    .dataframe tbody tr th:only-of-type {\n",
              "        vertical-align: middle;\n",
              "    }\n",
              "\n",
              "    .dataframe tbody tr th {\n",
              "        vertical-align: top;\n",
              "    }\n",
              "\n",
              "    .dataframe thead th {\n",
              "        text-align: right;\n",
              "    }\n",
              "</style>\n",
              "<table border=\"1\" class=\"dataframe\">\n",
              "  <thead>\n",
              "    <tr style=\"text-align: right;\">\n",
              "      <th></th>\n",
              "      <th>18.0   8   307.0      130.0      3504.      12.0   70  1\\t\"chevrolet chevelle malibu\"</th>\n",
              "    </tr>\n",
              "  </thead>\n",
              "  <tbody>\n",
              "    <tr>\n",
              "      <th>0</th>\n",
              "      <td>15.0   8   350.0      165.0      3693.      11...</td>\n",
              "    </tr>\n",
              "    <tr>\n",
              "      <th>1</th>\n",
              "      <td>18.0   8   318.0      150.0      3436.      11...</td>\n",
              "    </tr>\n",
              "    <tr>\n",
              "      <th>2</th>\n",
              "      <td>16.0   8   304.0      150.0      3433.      12...</td>\n",
              "    </tr>\n",
              "    <tr>\n",
              "      <th>3</th>\n",
              "      <td>17.0   8   302.0      140.0      3449.      10...</td>\n",
              "    </tr>\n",
              "    <tr>\n",
              "      <th>4</th>\n",
              "      <td>15.0   8   429.0      198.0      4341.      10...</td>\n",
              "    </tr>\n",
              "    <tr>\n",
              "      <th>...</th>\n",
              "      <td>...</td>\n",
              "    </tr>\n",
              "    <tr>\n",
              "      <th>392</th>\n",
              "      <td>27.0   4   140.0      86.00      2790.      15...</td>\n",
              "    </tr>\n",
              "    <tr>\n",
              "      <th>393</th>\n",
              "      <td>44.0   4   97.00      52.00      2130.      24...</td>\n",
              "    </tr>\n",
              "    <tr>\n",
              "      <th>394</th>\n",
              "      <td>32.0   4   135.0      84.00      2295.      11...</td>\n",
              "    </tr>\n",
              "    <tr>\n",
              "      <th>395</th>\n",
              "      <td>28.0   4   120.0      79.00      2625.      18...</td>\n",
              "    </tr>\n",
              "    <tr>\n",
              "      <th>396</th>\n",
              "      <td>31.0   4   119.0      82.00      2720.      19...</td>\n",
              "    </tr>\n",
              "  </tbody>\n",
              "</table>\n",
              "<p>397 rows × 1 columns</p>\n",
              "</div>\n",
              "      <button class=\"colab-df-convert\" onclick=\"convertToInteractive('df-1241dfc2-1cdb-4063-9be4-bc57af5591c0')\"\n",
              "              title=\"Convert this dataframe to an interactive table.\"\n",
              "              style=\"display:none;\">\n",
              "        \n",
              "  <svg xmlns=\"http://www.w3.org/2000/svg\" height=\"24px\"viewBox=\"0 0 24 24\"\n",
              "       width=\"24px\">\n",
              "    <path d=\"M0 0h24v24H0V0z\" fill=\"none\"/>\n",
              "    <path d=\"M18.56 5.44l.94 2.06.94-2.06 2.06-.94-2.06-.94-.94-2.06-.94 2.06-2.06.94zm-11 1L8.5 8.5l.94-2.06 2.06-.94-2.06-.94L8.5 2.5l-.94 2.06-2.06.94zm10 10l.94 2.06.94-2.06 2.06-.94-2.06-.94-.94-2.06-.94 2.06-2.06.94z\"/><path d=\"M17.41 7.96l-1.37-1.37c-.4-.4-.92-.59-1.43-.59-.52 0-1.04.2-1.43.59L10.3 9.45l-7.72 7.72c-.78.78-.78 2.05 0 2.83L4 21.41c.39.39.9.59 1.41.59.51 0 1.02-.2 1.41-.59l7.78-7.78 2.81-2.81c.8-.78.8-2.07 0-2.86zM5.41 20L4 18.59l7.72-7.72 1.47 1.35L5.41 20z\"/>\n",
              "  </svg>\n",
              "      </button>\n",
              "      \n",
              "  <style>\n",
              "    .colab-df-container {\n",
              "      display:flex;\n",
              "      flex-wrap:wrap;\n",
              "      gap: 12px;\n",
              "    }\n",
              "\n",
              "    .colab-df-convert {\n",
              "      background-color: #E8F0FE;\n",
              "      border: none;\n",
              "      border-radius: 50%;\n",
              "      cursor: pointer;\n",
              "      display: none;\n",
              "      fill: #1967D2;\n",
              "      height: 32px;\n",
              "      padding: 0 0 0 0;\n",
              "      width: 32px;\n",
              "    }\n",
              "\n",
              "    .colab-df-convert:hover {\n",
              "      background-color: #E2EBFA;\n",
              "      box-shadow: 0px 1px 2px rgba(60, 64, 67, 0.3), 0px 1px 3px 1px rgba(60, 64, 67, 0.15);\n",
              "      fill: #174EA6;\n",
              "    }\n",
              "\n",
              "    [theme=dark] .colab-df-convert {\n",
              "      background-color: #3B4455;\n",
              "      fill: #D2E3FC;\n",
              "    }\n",
              "\n",
              "    [theme=dark] .colab-df-convert:hover {\n",
              "      background-color: #434B5C;\n",
              "      box-shadow: 0px 1px 3px 1px rgba(0, 0, 0, 0.15);\n",
              "      filter: drop-shadow(0px 1px 2px rgba(0, 0, 0, 0.3));\n",
              "      fill: #FFFFFF;\n",
              "    }\n",
              "  </style>\n",
              "\n",
              "      <script>\n",
              "        const buttonEl =\n",
              "          document.querySelector('#df-1241dfc2-1cdb-4063-9be4-bc57af5591c0 button.colab-df-convert');\n",
              "        buttonEl.style.display =\n",
              "          google.colab.kernel.accessAllowed ? 'block' : 'none';\n",
              "\n",
              "        async function convertToInteractive(key) {\n",
              "          const element = document.querySelector('#df-1241dfc2-1cdb-4063-9be4-bc57af5591c0');\n",
              "          const dataTable =\n",
              "            await google.colab.kernel.invokeFunction('convertToInteractive',\n",
              "                                                     [key], {});\n",
              "          if (!dataTable) return;\n",
              "\n",
              "          const docLinkHtml = 'Like what you see? Visit the ' +\n",
              "            '<a target=\"_blank\" href=https://colab.research.google.com/notebooks/data_table.ipynb>data table notebook</a>'\n",
              "            + ' to learn more about interactive tables.';\n",
              "          element.innerHTML = '';\n",
              "          dataTable['output_type'] = 'display_data';\n",
              "          await google.colab.output.renderOutput(dataTable, element);\n",
              "          const docLink = document.createElement('div');\n",
              "          docLink.innerHTML = docLinkHtml;\n",
              "          element.appendChild(docLink);\n",
              "        }\n",
              "      </script>\n",
              "    </div>\n",
              "  </div>\n",
              "  "
            ]
          },
          "metadata": {},
          "execution_count": 9
        }
      ],
      "source": [
        "prop = pd.read_csv(\"/content/data/auto-mpg.data\")\n",
        "prop"
      ]
    },
    {
      "cell_type": "markdown",
      "id": "0cffdb77",
      "metadata": {
        "id": "0cffdb77"
      },
      "source": [
        "We can see that `pandas` is already able to find some of the different ways that we have missing values in the data.\n",
        "\n",
        "For instance in the ST_NUM column, the 3rd entry is blank and the 7th entry is NaN.  `pandas` filled in the blank entry with \"NA\".  Both of these values are found by the `isnull()` method."
      ]
    },
    {
      "cell_type": "code",
      "execution_count": null,
      "id": "f0c62e88",
      "metadata": {
        "colab": {
          "base_uri": "https://localhost:8080/",
          "height": 502
        },
        "id": "f0c62e88",
        "outputId": "4bb4bc71-22a3-416b-8f83-256059d0f356"
      },
      "outputs": [
        {
          "output_type": "error",
          "ename": "KeyError",
          "evalue": "ignored",
          "traceback": [
            "\u001b[0;31m---------------------------------------------------------------------------\u001b[0m",
            "\u001b[0;31mKeyError\u001b[0m                                  Traceback (most recent call last)",
            "\u001b[0;32m/usr/local/lib/python3.7/dist-packages/pandas/core/indexes/base.py\u001b[0m in \u001b[0;36mget_loc\u001b[0;34m(self, key, method, tolerance)\u001b[0m\n\u001b[1;32m   3360\u001b[0m             \u001b[0;32mtry\u001b[0m\u001b[0;34m:\u001b[0m\u001b[0;34m\u001b[0m\u001b[0;34m\u001b[0m\u001b[0m\n\u001b[0;32m-> 3361\u001b[0;31m                 \u001b[0;32mreturn\u001b[0m \u001b[0mself\u001b[0m\u001b[0;34m.\u001b[0m\u001b[0m_engine\u001b[0m\u001b[0;34m.\u001b[0m\u001b[0mget_loc\u001b[0m\u001b[0;34m(\u001b[0m\u001b[0mcasted_key\u001b[0m\u001b[0;34m)\u001b[0m\u001b[0;34m\u001b[0m\u001b[0;34m\u001b[0m\u001b[0m\n\u001b[0m\u001b[1;32m   3362\u001b[0m             \u001b[0;32mexcept\u001b[0m \u001b[0mKeyError\u001b[0m \u001b[0;32mas\u001b[0m \u001b[0merr\u001b[0m\u001b[0;34m:\u001b[0m\u001b[0;34m\u001b[0m\u001b[0;34m\u001b[0m\u001b[0m\n",
            "\u001b[0;32m/usr/local/lib/python3.7/dist-packages/pandas/_libs/index.pyx\u001b[0m in \u001b[0;36mpandas._libs.index.IndexEngine.get_loc\u001b[0;34m()\u001b[0m\n",
            "\u001b[0;32m/usr/local/lib/python3.7/dist-packages/pandas/_libs/index.pyx\u001b[0m in \u001b[0;36mpandas._libs.index.IndexEngine.get_loc\u001b[0;34m()\u001b[0m\n",
            "\u001b[0;32mpandas/_libs/hashtable_class_helper.pxi\u001b[0m in \u001b[0;36mpandas._libs.hashtable.PyObjectHashTable.get_item\u001b[0;34m()\u001b[0m\n",
            "\u001b[0;32mpandas/_libs/hashtable_class_helper.pxi\u001b[0m in \u001b[0;36mpandas._libs.hashtable.PyObjectHashTable.get_item\u001b[0;34m()\u001b[0m\n",
            "\u001b[0;31mKeyError\u001b[0m: 'ST_NUM'",
            "\nThe above exception was the direct cause of the following exception:\n",
            "\u001b[0;31mKeyError\u001b[0m                                  Traceback (most recent call last)",
            "\u001b[0;32m<ipython-input-11-f006fa42a220>\u001b[0m in \u001b[0;36m<module>\u001b[0;34m\u001b[0m\n\u001b[0;32m----> 1\u001b[0;31m \u001b[0mprop\u001b[0m\u001b[0;34m[\u001b[0m\u001b[0;34m'ST_NUM'\u001b[0m\u001b[0;34m]\u001b[0m\u001b[0;34m.\u001b[0m\u001b[0misnull\u001b[0m\u001b[0;34m(\u001b[0m\u001b[0;34m)\u001b[0m\u001b[0;34m\u001b[0m\u001b[0;34m\u001b[0m\u001b[0m\n\u001b[0m",
            "\u001b[0;32m/usr/local/lib/python3.7/dist-packages/pandas/core/frame.py\u001b[0m in \u001b[0;36m__getitem__\u001b[0;34m(self, key)\u001b[0m\n\u001b[1;32m   3456\u001b[0m             \u001b[0;32mif\u001b[0m \u001b[0mself\u001b[0m\u001b[0;34m.\u001b[0m\u001b[0mcolumns\u001b[0m\u001b[0;34m.\u001b[0m\u001b[0mnlevels\u001b[0m \u001b[0;34m>\u001b[0m \u001b[0;36m1\u001b[0m\u001b[0;34m:\u001b[0m\u001b[0;34m\u001b[0m\u001b[0;34m\u001b[0m\u001b[0m\n\u001b[1;32m   3457\u001b[0m                 \u001b[0;32mreturn\u001b[0m \u001b[0mself\u001b[0m\u001b[0;34m.\u001b[0m\u001b[0m_getitem_multilevel\u001b[0m\u001b[0;34m(\u001b[0m\u001b[0mkey\u001b[0m\u001b[0;34m)\u001b[0m\u001b[0;34m\u001b[0m\u001b[0;34m\u001b[0m\u001b[0m\n\u001b[0;32m-> 3458\u001b[0;31m             \u001b[0mindexer\u001b[0m \u001b[0;34m=\u001b[0m \u001b[0mself\u001b[0m\u001b[0;34m.\u001b[0m\u001b[0mcolumns\u001b[0m\u001b[0;34m.\u001b[0m\u001b[0mget_loc\u001b[0m\u001b[0;34m(\u001b[0m\u001b[0mkey\u001b[0m\u001b[0;34m)\u001b[0m\u001b[0;34m\u001b[0m\u001b[0;34m\u001b[0m\u001b[0m\n\u001b[0m\u001b[1;32m   3459\u001b[0m             \u001b[0;32mif\u001b[0m \u001b[0mis_integer\u001b[0m\u001b[0;34m(\u001b[0m\u001b[0mindexer\u001b[0m\u001b[0;34m)\u001b[0m\u001b[0;34m:\u001b[0m\u001b[0;34m\u001b[0m\u001b[0;34m\u001b[0m\u001b[0m\n\u001b[1;32m   3460\u001b[0m                 \u001b[0mindexer\u001b[0m \u001b[0;34m=\u001b[0m \u001b[0;34m[\u001b[0m\u001b[0mindexer\u001b[0m\u001b[0;34m]\u001b[0m\u001b[0;34m\u001b[0m\u001b[0;34m\u001b[0m\u001b[0m\n",
            "\u001b[0;32m/usr/local/lib/python3.7/dist-packages/pandas/core/indexes/base.py\u001b[0m in \u001b[0;36mget_loc\u001b[0;34m(self, key, method, tolerance)\u001b[0m\n\u001b[1;32m   3361\u001b[0m                 \u001b[0;32mreturn\u001b[0m \u001b[0mself\u001b[0m\u001b[0;34m.\u001b[0m\u001b[0m_engine\u001b[0m\u001b[0;34m.\u001b[0m\u001b[0mget_loc\u001b[0m\u001b[0;34m(\u001b[0m\u001b[0mcasted_key\u001b[0m\u001b[0;34m)\u001b[0m\u001b[0;34m\u001b[0m\u001b[0;34m\u001b[0m\u001b[0m\n\u001b[1;32m   3362\u001b[0m             \u001b[0;32mexcept\u001b[0m \u001b[0mKeyError\u001b[0m \u001b[0;32mas\u001b[0m \u001b[0merr\u001b[0m\u001b[0;34m:\u001b[0m\u001b[0;34m\u001b[0m\u001b[0;34m\u001b[0m\u001b[0m\n\u001b[0;32m-> 3363\u001b[0;31m                 \u001b[0;32mraise\u001b[0m \u001b[0mKeyError\u001b[0m\u001b[0;34m(\u001b[0m\u001b[0mkey\u001b[0m\u001b[0;34m)\u001b[0m \u001b[0;32mfrom\u001b[0m \u001b[0merr\u001b[0m\u001b[0;34m\u001b[0m\u001b[0;34m\u001b[0m\u001b[0m\n\u001b[0m\u001b[1;32m   3364\u001b[0m \u001b[0;34m\u001b[0m\u001b[0m\n\u001b[1;32m   3365\u001b[0m         \u001b[0;32mif\u001b[0m \u001b[0mis_scalar\u001b[0m\u001b[0;34m(\u001b[0m\u001b[0mkey\u001b[0m\u001b[0;34m)\u001b[0m \u001b[0;32mand\u001b[0m \u001b[0misna\u001b[0m\u001b[0;34m(\u001b[0m\u001b[0mkey\u001b[0m\u001b[0;34m)\u001b[0m \u001b[0;32mand\u001b[0m \u001b[0;32mnot\u001b[0m \u001b[0mself\u001b[0m\u001b[0;34m.\u001b[0m\u001b[0mhasnans\u001b[0m\u001b[0;34m:\u001b[0m\u001b[0;34m\u001b[0m\u001b[0;34m\u001b[0m\u001b[0m\n",
            "\u001b[0;31mKeyError\u001b[0m: 'ST_NUM'"
          ]
        }
      ],
      "source": [
        "prop['ST_NUM'].isnull()"
      ]
    },
    {
      "cell_type": "markdown",
      "id": "8f8b7688",
      "metadata": {
        "id": "8f8b7688"
      },
      "source": [
        "However, there are other missing value encodings that pandas does not immediately recognize. \n",
        "\n",
        "Let's look at the Num_Bedrooms column. \n",
        "\n",
        "![property data 2](https://pages.mtu.edu/~lebrown/un5550-f20/week1/property-data2.jpg)\n",
        "\n",
        "\n"
      ]
    },
    {
      "cell_type": "markdown",
      "id": "90e7c169",
      "metadata": {
        "id": "90e7c169"
      },
      "source": [
        "In this column, we have missing values as \"n/a\", \"NA\", \"--\" and \"na\".\n",
        "\n",
        "Let's see what `pandas` automatically recognizes."
      ]
    },
    {
      "cell_type": "code",
      "execution_count": null,
      "id": "4ca1fe4b",
      "metadata": {
        "colab": {
          "base_uri": "https://localhost:8080/",
          "height": 502
        },
        "id": "4ca1fe4b",
        "outputId": "7c28e456-746a-4d97-c78e-5dbf991ae196"
      },
      "outputs": [
        {
          "output_type": "error",
          "ename": "KeyError",
          "evalue": "ignored",
          "traceback": [
            "\u001b[0;31m---------------------------------------------------------------------------\u001b[0m",
            "\u001b[0;31mKeyError\u001b[0m                                  Traceback (most recent call last)",
            "\u001b[0;32m/usr/local/lib/python3.7/dist-packages/pandas/core/indexes/base.py\u001b[0m in \u001b[0;36mget_loc\u001b[0;34m(self, key, method, tolerance)\u001b[0m\n\u001b[1;32m   3360\u001b[0m             \u001b[0;32mtry\u001b[0m\u001b[0;34m:\u001b[0m\u001b[0;34m\u001b[0m\u001b[0;34m\u001b[0m\u001b[0m\n\u001b[0;32m-> 3361\u001b[0;31m                 \u001b[0;32mreturn\u001b[0m \u001b[0mself\u001b[0m\u001b[0;34m.\u001b[0m\u001b[0m_engine\u001b[0m\u001b[0;34m.\u001b[0m\u001b[0mget_loc\u001b[0m\u001b[0;34m(\u001b[0m\u001b[0mcasted_key\u001b[0m\u001b[0;34m)\u001b[0m\u001b[0;34m\u001b[0m\u001b[0;34m\u001b[0m\u001b[0m\n\u001b[0m\u001b[1;32m   3362\u001b[0m             \u001b[0;32mexcept\u001b[0m \u001b[0mKeyError\u001b[0m \u001b[0;32mas\u001b[0m \u001b[0merr\u001b[0m\u001b[0;34m:\u001b[0m\u001b[0;34m\u001b[0m\u001b[0;34m\u001b[0m\u001b[0m\n",
            "\u001b[0;32m/usr/local/lib/python3.7/dist-packages/pandas/_libs/index.pyx\u001b[0m in \u001b[0;36mpandas._libs.index.IndexEngine.get_loc\u001b[0;34m()\u001b[0m\n",
            "\u001b[0;32m/usr/local/lib/python3.7/dist-packages/pandas/_libs/index.pyx\u001b[0m in \u001b[0;36mpandas._libs.index.IndexEngine.get_loc\u001b[0;34m()\u001b[0m\n",
            "\u001b[0;32mpandas/_libs/hashtable_class_helper.pxi\u001b[0m in \u001b[0;36mpandas._libs.hashtable.PyObjectHashTable.get_item\u001b[0;34m()\u001b[0m\n",
            "\u001b[0;32mpandas/_libs/hashtable_class_helper.pxi\u001b[0m in \u001b[0;36mpandas._libs.hashtable.PyObjectHashTable.get_item\u001b[0;34m()\u001b[0m\n",
            "\u001b[0;31mKeyError\u001b[0m: 'NUM_BEDROOMS'",
            "\nThe above exception was the direct cause of the following exception:\n",
            "\u001b[0;31mKeyError\u001b[0m                                  Traceback (most recent call last)",
            "\u001b[0;32m<ipython-input-12-c7d0d20a73be>\u001b[0m in \u001b[0;36m<module>\u001b[0;34m\u001b[0m\n\u001b[0;32m----> 1\u001b[0;31m \u001b[0mprop\u001b[0m\u001b[0;34m[\u001b[0m\u001b[0;34m'NUM_BEDROOMS'\u001b[0m\u001b[0;34m]\u001b[0m\u001b[0;34m.\u001b[0m\u001b[0misnull\u001b[0m\u001b[0;34m(\u001b[0m\u001b[0;34m)\u001b[0m\u001b[0;34m\u001b[0m\u001b[0;34m\u001b[0m\u001b[0m\n\u001b[0m",
            "\u001b[0;32m/usr/local/lib/python3.7/dist-packages/pandas/core/frame.py\u001b[0m in \u001b[0;36m__getitem__\u001b[0;34m(self, key)\u001b[0m\n\u001b[1;32m   3456\u001b[0m             \u001b[0;32mif\u001b[0m \u001b[0mself\u001b[0m\u001b[0;34m.\u001b[0m\u001b[0mcolumns\u001b[0m\u001b[0;34m.\u001b[0m\u001b[0mnlevels\u001b[0m \u001b[0;34m>\u001b[0m \u001b[0;36m1\u001b[0m\u001b[0;34m:\u001b[0m\u001b[0;34m\u001b[0m\u001b[0;34m\u001b[0m\u001b[0m\n\u001b[1;32m   3457\u001b[0m                 \u001b[0;32mreturn\u001b[0m \u001b[0mself\u001b[0m\u001b[0;34m.\u001b[0m\u001b[0m_getitem_multilevel\u001b[0m\u001b[0;34m(\u001b[0m\u001b[0mkey\u001b[0m\u001b[0;34m)\u001b[0m\u001b[0;34m\u001b[0m\u001b[0;34m\u001b[0m\u001b[0m\n\u001b[0;32m-> 3458\u001b[0;31m             \u001b[0mindexer\u001b[0m \u001b[0;34m=\u001b[0m \u001b[0mself\u001b[0m\u001b[0;34m.\u001b[0m\u001b[0mcolumns\u001b[0m\u001b[0;34m.\u001b[0m\u001b[0mget_loc\u001b[0m\u001b[0;34m(\u001b[0m\u001b[0mkey\u001b[0m\u001b[0;34m)\u001b[0m\u001b[0;34m\u001b[0m\u001b[0;34m\u001b[0m\u001b[0m\n\u001b[0m\u001b[1;32m   3459\u001b[0m             \u001b[0;32mif\u001b[0m \u001b[0mis_integer\u001b[0m\u001b[0;34m(\u001b[0m\u001b[0mindexer\u001b[0m\u001b[0;34m)\u001b[0m\u001b[0;34m:\u001b[0m\u001b[0;34m\u001b[0m\u001b[0;34m\u001b[0m\u001b[0m\n\u001b[1;32m   3460\u001b[0m                 \u001b[0mindexer\u001b[0m \u001b[0;34m=\u001b[0m \u001b[0;34m[\u001b[0m\u001b[0mindexer\u001b[0m\u001b[0;34m]\u001b[0m\u001b[0;34m\u001b[0m\u001b[0;34m\u001b[0m\u001b[0m\n",
            "\u001b[0;32m/usr/local/lib/python3.7/dist-packages/pandas/core/indexes/base.py\u001b[0m in \u001b[0;36mget_loc\u001b[0;34m(self, key, method, tolerance)\u001b[0m\n\u001b[1;32m   3361\u001b[0m                 \u001b[0;32mreturn\u001b[0m \u001b[0mself\u001b[0m\u001b[0;34m.\u001b[0m\u001b[0m_engine\u001b[0m\u001b[0;34m.\u001b[0m\u001b[0mget_loc\u001b[0m\u001b[0;34m(\u001b[0m\u001b[0mcasted_key\u001b[0m\u001b[0;34m)\u001b[0m\u001b[0;34m\u001b[0m\u001b[0;34m\u001b[0m\u001b[0m\n\u001b[1;32m   3362\u001b[0m             \u001b[0;32mexcept\u001b[0m \u001b[0mKeyError\u001b[0m \u001b[0;32mas\u001b[0m \u001b[0merr\u001b[0m\u001b[0;34m:\u001b[0m\u001b[0;34m\u001b[0m\u001b[0;34m\u001b[0m\u001b[0m\n\u001b[0;32m-> 3363\u001b[0;31m                 \u001b[0;32mraise\u001b[0m \u001b[0mKeyError\u001b[0m\u001b[0;34m(\u001b[0m\u001b[0mkey\u001b[0m\u001b[0;34m)\u001b[0m \u001b[0;32mfrom\u001b[0m \u001b[0merr\u001b[0m\u001b[0;34m\u001b[0m\u001b[0;34m\u001b[0m\u001b[0m\n\u001b[0m\u001b[1;32m   3364\u001b[0m \u001b[0;34m\u001b[0m\u001b[0m\n\u001b[1;32m   3365\u001b[0m         \u001b[0;32mif\u001b[0m \u001b[0mis_scalar\u001b[0m\u001b[0;34m(\u001b[0m\u001b[0mkey\u001b[0m\u001b[0;34m)\u001b[0m \u001b[0;32mand\u001b[0m \u001b[0misna\u001b[0m\u001b[0;34m(\u001b[0m\u001b[0mkey\u001b[0m\u001b[0;34m)\u001b[0m \u001b[0;32mand\u001b[0m \u001b[0;32mnot\u001b[0m \u001b[0mself\u001b[0m\u001b[0;34m.\u001b[0m\u001b[0mhasnans\u001b[0m\u001b[0;34m:\u001b[0m\u001b[0;34m\u001b[0m\u001b[0;34m\u001b[0m\u001b[0m\n",
            "\u001b[0;31mKeyError\u001b[0m: 'NUM_BEDROOMS'"
          ]
        }
      ],
      "source": [
        "prop['NUM_BEDROOMS'].isnull()"
      ]
    },
    {
      "cell_type": "markdown",
      "id": "24ea47d9",
      "metadata": {
        "id": "24ea47d9"
      },
      "source": [
        "`pandas` automatically recognizes the \"n/a\" and \"NA\" but not the \"--\" and \"na\". \n",
        "\n",
        "Let's change that! "
      ]
    },
    {
      "cell_type": "code",
      "execution_count": null,
      "id": "ae5a2b49",
      "metadata": {
        "id": "ae5a2b49"
      },
      "outputs": [],
      "source": [
        "# Making a list of missing value types\n",
        "missing_values = [\"n/a\", \"na\", \"--\", \"NA\"]\n",
        "prop2 = pd.read_csv(\"data/property.csv\", na_values = missing_values)"
      ]
    },
    {
      "cell_type": "code",
      "execution_count": null,
      "id": "35a34962",
      "metadata": {
        "colab": {
          "base_uri": "https://localhost:8080/"
        },
        "id": "35a34962",
        "outputId": "6a21737c-a446-406c-834c-6c4b1d4cca0c"
      },
      "outputs": [
        {
          "output_type": "stream",
          "name": "stdout",
          "text": [
            "0    3.0\n",
            "1    3.0\n",
            "2    NaN\n",
            "3    1.0\n",
            "4    3.0\n",
            "5    NaN\n",
            "6    2.0\n",
            "7    NaN\n",
            "8    NaN\n",
            "Name: NUM_BEDROOMS, dtype: float64\n",
            "0    False\n",
            "1    False\n",
            "2     True\n",
            "3    False\n",
            "4    False\n",
            "5     True\n",
            "6    False\n",
            "7     True\n",
            "8     True\n",
            "Name: NUM_BEDROOMS, dtype: bool\n"
          ]
        }
      ],
      "source": [
        "print (prop2['NUM_BEDROOMS'])\n",
        "print (prop2['NUM_BEDROOMS'].isnull())"
      ]
    },
    {
      "cell_type": "markdown",
      "id": "9330e4c1",
      "metadata": {
        "id": "9330e4c1"
      },
      "source": [
        "# Exercises \n",
        "\n",
        "For this portion of the lab you are going to explore and learn about different basic functions in Python and use concepts covered in class.\n",
        "\n"
      ]
    },
    {
      "cell_type": "markdown",
      "id": "d2452615",
      "metadata": {
        "id": "d2452615"
      },
      "source": [
        "## Exercise 1 - Printing"
      ]
    },
    {
      "cell_type": "markdown",
      "id": "cdac318d",
      "metadata": {
        "id": "cdac318d"
      },
      "source": [
        "### 1.a\n",
        "In many courses, tutorials for new languages the first thing you learn is printing \"Hello World\""
      ]
    },
    {
      "cell_type": "code",
      "execution_count": null,
      "id": "f729b039",
      "metadata": {
        "colab": {
          "base_uri": "https://localhost:8080/"
        },
        "id": "f729b039",
        "outputId": "8b70baf1-1f28-4005-b0a5-932dc5c3f296"
      },
      "outputs": [
        {
          "output_type": "stream",
          "name": "stdout",
          "text": [
            "Hello World\n"
          ]
        }
      ],
      "source": [
        "print('Hello World')"
      ]
    },
    {
      "cell_type": "markdown",
      "id": "a02da522",
      "metadata": {
        "id": "a02da522"
      },
      "source": [
        "We can also capture `input` from the user. \n",
        "https://docs.python.org/3/library/functions.html#input"
      ]
    },
    {
      "cell_type": "code",
      "execution_count": null,
      "id": "573de7ff",
      "metadata": {
        "id": "573de7ff",
        "colab": {
          "base_uri": "https://localhost:8080/"
        },
        "outputId": "8683a047-19d3-4698-a60e-b689c182bcc0"
      },
      "outputs": [
        {
          "name": "stdout",
          "output_type": "stream",
          "text": [
            "what is your name?anand\n"
          ]
        }
      ],
      "source": [
        " firstName = input('what is your name?')"
      ]
    },
    {
      "cell_type": "code",
      "execution_count": null,
      "id": "220d5f69",
      "metadata": {
        "colab": {
          "base_uri": "https://localhost:8080/",
          "height": 35
        },
        "id": "220d5f69",
        "outputId": "493baead-ad89-48c1-9de5-8f80597f200e"
      },
      "outputs": [
        {
          "output_type": "execute_result",
          "data": {
            "text/plain": [
              "'Hello anand!'"
            ],
            "application/vnd.google.colaboratory.intrinsic+json": {
              "type": "string"
            }
          },
          "metadata": {},
          "execution_count": 17
        }
      ],
      "source": [
        "\"Hello \" + firstName + \"!\""
      ]
    },
    {
      "cell_type": "markdown",
      "id": "1a8d5710",
      "metadata": {
        "id": "1a8d5710"
      },
      "source": [
        "Use inbuilt function `dir()` to the variable \"firstName\" above and print the outcome.\n",
        "\n",
        "https://docs.python.org/3/library/functions.html#dir"
      ]
    },
    {
      "cell_type": "code",
      "execution_count": null,
      "id": "3d45c1d4",
      "metadata": {
        "colab": {
          "base_uri": "https://localhost:8080/"
        },
        "id": "3d45c1d4",
        "outputId": "4459bf52-12df-427d-9953-d4fcb10c6397"
      },
      "outputs": [
        {
          "output_type": "execute_result",
          "data": {
            "text/plain": [
              "['__add__',\n",
              " '__class__',\n",
              " '__contains__',\n",
              " '__delattr__',\n",
              " '__dir__',\n",
              " '__doc__',\n",
              " '__eq__',\n",
              " '__format__',\n",
              " '__ge__',\n",
              " '__getattribute__',\n",
              " '__getitem__',\n",
              " '__getnewargs__',\n",
              " '__gt__',\n",
              " '__hash__',\n",
              " '__init__',\n",
              " '__init_subclass__',\n",
              " '__iter__',\n",
              " '__le__',\n",
              " '__len__',\n",
              " '__lt__',\n",
              " '__mod__',\n",
              " '__mul__',\n",
              " '__ne__',\n",
              " '__new__',\n",
              " '__reduce__',\n",
              " '__reduce_ex__',\n",
              " '__repr__',\n",
              " '__rmod__',\n",
              " '__rmul__',\n",
              " '__setattr__',\n",
              " '__sizeof__',\n",
              " '__str__',\n",
              " '__subclasshook__',\n",
              " 'capitalize',\n",
              " 'casefold',\n",
              " 'center',\n",
              " 'count',\n",
              " 'encode',\n",
              " 'endswith',\n",
              " 'expandtabs',\n",
              " 'find',\n",
              " 'format',\n",
              " 'format_map',\n",
              " 'index',\n",
              " 'isalnum',\n",
              " 'isalpha',\n",
              " 'isascii',\n",
              " 'isdecimal',\n",
              " 'isdigit',\n",
              " 'isidentifier',\n",
              " 'islower',\n",
              " 'isnumeric',\n",
              " 'isprintable',\n",
              " 'isspace',\n",
              " 'istitle',\n",
              " 'isupper',\n",
              " 'join',\n",
              " 'ljust',\n",
              " 'lower',\n",
              " 'lstrip',\n",
              " 'maketrans',\n",
              " 'partition',\n",
              " 'replace',\n",
              " 'rfind',\n",
              " 'rindex',\n",
              " 'rjust',\n",
              " 'rpartition',\n",
              " 'rsplit',\n",
              " 'rstrip',\n",
              " 'split',\n",
              " 'splitlines',\n",
              " 'startswith',\n",
              " 'strip',\n",
              " 'swapcase',\n",
              " 'title',\n",
              " 'translate',\n",
              " 'upper',\n",
              " 'zfill']"
            ]
          },
          "metadata": {},
          "execution_count": 18
        }
      ],
      "source": [
        "dir(firstName)"
      ]
    },
    {
      "cell_type": "markdown",
      "id": "86487b30",
      "metadata": {
        "id": "86487b30"
      },
      "source": [
        "This lists all the functions available to be used on the \"string\" `firstName'"
      ]
    },
    {
      "cell_type": "markdown",
      "id": "f0bc952b",
      "metadata": {
        "id": "f0bc952b"
      },
      "source": [
        "**Question 1**\n",
        "\n",
        "I want you to explore using the string functions: `len()`, `split()`, and `strip()` on the following string. \n",
        "\n",
        "https://docs.python.org/3/library/functions.html"
      ]
    },
    {
      "cell_type": "code",
      "execution_count": null,
      "id": "efe5a16a",
      "metadata": {
        "tags": [],
        "id": "efe5a16a"
      },
      "outputs": [],
      "source": [
        "className = \"Introduction  to   Data Science   \""
      ]
    },
    {
      "cell_type": "code",
      "execution_count": null,
      "id": "896e453e",
      "metadata": {
        "tags": [],
        "colab": {
          "base_uri": "https://localhost:8080/"
        },
        "id": "896e453e",
        "outputId": "29d67f9b-20d3-4454-d28b-f53c7af10414"
      },
      "outputs": [
        {
          "output_type": "execute_result",
          "data": {
            "text/plain": [
              "34"
            ]
          },
          "metadata": {},
          "execution_count": 20
        }
      ],
      "source": [
        "# Show how to find the length of the string \"className\" \n",
        "# Store the results in a new variable \"class_length\"\n",
        "class_length = len(className)\n",
        "class_length"
      ]
    },
    {
      "cell_type": "code",
      "execution_count": null,
      "id": "c6c8b153",
      "metadata": {
        "tags": [],
        "colab": {
          "base_uri": "https://localhost:8080/"
        },
        "id": "c6c8b153",
        "outputId": "a4e7b458-969f-42d5-e69f-08b39db338b4"
      },
      "outputs": [
        {
          "output_type": "execute_result",
          "data": {
            "text/plain": [
              "['Introduction', 'to', 'Data', 'Science']"
            ]
          },
          "metadata": {},
          "execution_count": 21
        }
      ],
      "source": [
        "# Show the results of the `split()` function on the string \"className\"  \n",
        "# Store the results in a new variable \"class_split\"\n",
        "class_split = className.split()\n",
        "class_split"
      ]
    },
    {
      "cell_type": "code",
      "execution_count": null,
      "id": "10535adf",
      "metadata": {
        "tags": [],
        "colab": {
          "base_uri": "https://localhost:8080/",
          "height": 35
        },
        "id": "10535adf",
        "outputId": "def36607-9cbe-4ff1-a287-4bdb65440ae5"
      },
      "outputs": [
        {
          "output_type": "execute_result",
          "data": {
            "text/plain": [
              "'Introduction  to   Data Science'"
            ],
            "application/vnd.google.colaboratory.intrinsic+json": {
              "type": "string"
            }
          },
          "metadata": {},
          "execution_count": 22
        }
      ],
      "source": [
        "# Save the results of the `strip()` function on the string \"className\" in a \n",
        "# new variable \"className2\"\n",
        "className2 = className.strip()\n",
        "className2"
      ]
    },
    {
      "cell_type": "code",
      "execution_count": null,
      "id": "71f15178",
      "metadata": {
        "deletable": false,
        "editable": false,
        "colab": {
          "base_uri": "https://localhost:8080/",
          "height": 46
        },
        "id": "71f15178",
        "outputId": "3177a008-6a16-4ac9-ced4-1e3f59bc0b7a"
      },
      "outputs": [
        {
          "output_type": "execute_result",
          "data": {
            "text/plain": [
              "q1 results: All test cases passed!"
            ],
            "text/html": [
              "<p><strong><pre style='display: inline;'>q1</pre></strong> passed!</p>"
            ]
          },
          "metadata": {},
          "execution_count": 23
        }
      ],
      "source": [
        "grader.check(\"q1\")"
      ]
    },
    {
      "cell_type": "markdown",
      "id": "b57c279d",
      "metadata": {
        "id": "b57c279d"
      },
      "source": [
        "## Example 2 - Comments \n",
        "\n",
        "To create a comment line (in line with the code), # (hash) symbol is used, followed by a space. (Short key: Ctrl+/ ) [To comment out, remove # or use Ctrl+/ again]\n",
        "\n",
        "Other options are using the triple quotes (\"\"\")or (''') known as backticks, to enclose the complete sentence as a comment.(This needs to be on different line other than the code). Different programming language has different approches for commenting. Please be aware."
      ]
    },
    {
      "cell_type": "code",
      "execution_count": null,
      "id": "bbca82ac",
      "metadata": {
        "id": "bbca82ac"
      },
      "outputs": [],
      "source": [
        "# This is a comment"
      ]
    },
    {
      "cell_type": "markdown",
      "source": [],
      "metadata": {
        "id": "0gZC5uttTHwS"
      },
      "id": "0gZC5uttTHwS"
    },
    {
      "cell_type": "code",
      "execution_count": null,
      "id": "569693c2",
      "metadata": {
        "colab": {
          "base_uri": "https://localhost:8080/",
          "height": 35
        },
        "id": "569693c2",
        "outputId": "02350b56-1373-4d1e-99c3-1ba2bcb39976"
      },
      "outputs": [
        {
          "output_type": "execute_result",
          "data": {
            "text/plain": [
              "'This is a larger comment block \\nthat may span multiple lines \\n'"
            ],
            "application/vnd.google.colaboratory.intrinsic+json": {
              "type": "string"
            }
          },
          "metadata": {},
          "execution_count": 25
        }
      ],
      "source": [
        "'''This is a larger comment block \n",
        "that may span multiple lines \n",
        "'''\n",
        "#2 + 2"
      ]
    },
    {
      "cell_type": "markdown",
      "id": "3e986b32",
      "metadata": {
        "id": "3e986b32"
      },
      "source": [
        "<!-- BEGIN QUESTION -->\n",
        "\n",
        "## Exercise 2 - Markdown\n",
        "\n",
        "Markdown option for cells in the jupyter notebook provides a way to display information to the use around the particular code snippets. For more information and reading, please look into:\n",
        "\n",
        "https://help.github.com/articles/basic-writing-and-formatting-syntax/\n",
        "\n",
        "https://jupyter-notebook.readthedocs.io/en/stable/examples/Notebook/Working%20With%20Markdown%20Cells.html\n",
        "\n",
        "Colab's Markdown Guide: https://colab.research.google.com/notebooks/markdown_guide.ipynb#scrollTo=5Y3CStVkLxqt\n",
        "\n",
        "For this exercise add a new 'Text' cell and try to recreate the following block of text. \n",
        "\n",
        "![example markdown](https://pages.mtu.edu/~lebrown/un5550-f20/week1/markdown-example.png)\n",
        "\n",
        "\n"
      ]
    },
    {
      "cell_type": "markdown",
      "id": "c2acae9e",
      "metadata": {
        "id": "c2acae9e"
      },
      "source": [
        "We can start with a few different paragraphs of the text. The first paragraph will have a few sentences with various markups found. Things like **bold**, *italics*, ~~strikethrough~~, and even `monospace`.\n",
        "\n",
        "Here is another paragraph of text that contains a url https://mtu.edu.\n",
        "\n",
        "We can have lists:\n",
        "\n",
        "\n",
        "\n",
        "*   one\n",
        "*   two   \n",
        "*   three\n",
        "\n",
        "And more lists:\n",
        "\n",
        "\n",
        "\n",
        "\n",
        "\n",
        "1.   one\n",
        "2.   two\n",
        "3.   three\n",
        "\n",
        "Nested lists:\n",
        "\n",
        "\n",
        "*   one\n",
        "\n",
        "  *   one A\n",
        "  *   one B\n",
        "\n",
        "\n",
        "\n",
        "*   two\n",
        "*   three\n",
        "\n",
        "\n",
        "\n",
        "\n",
        "\n",
        "\n",
        "\n",
        "\n",
        "\n",
        "\n",
        "\n",
        "\n",
        "\n",
        "\n",
        "\n",
        "\n",
        "\n",
        "\n",
        "\n"
      ]
    },
    {
      "cell_type": "markdown",
      "id": "e4dd517f",
      "metadata": {
        "id": "e4dd517f"
      },
      "source": [
        "<!-- END QUESTION -->\n",
        "\n",
        "## Example 3 - String Operations \n",
        "\n",
        "Here you can see some more operations working with strings.\n",
        "\n",
        "https://docs.python.org/3/library/stdtypes.html#str"
      ]
    },
    {
      "cell_type": "code",
      "execution_count": null,
      "id": "c7bb907c",
      "metadata": {
        "id": "c7bb907c"
      },
      "outputs": [],
      "source": [
        "str = \"Hello Data Science 2022\""
      ]
    },
    {
      "cell_type": "code",
      "execution_count": null,
      "id": "c4061889",
      "metadata": {
        "colab": {
          "base_uri": "https://localhost:8080/"
        },
        "id": "c4061889",
        "outputId": "26981a7c-ac2e-4677-9581-c23b6c987a3c"
      },
      "outputs": [
        {
          "output_type": "stream",
          "name": "stdout",
          "text": [
            "19\n"
          ]
        }
      ],
      "source": [
        "print(str.find(\"2022\"))"
      ]
    },
    {
      "cell_type": "code",
      "execution_count": null,
      "id": "2af58bb2",
      "metadata": {
        "colab": {
          "base_uri": "https://localhost:8080/"
        },
        "id": "2af58bb2",
        "outputId": "82ac9d06-b997-4d85-8ef7-2e62d2844d5a"
      },
      "outputs": [
        {
          "output_type": "stream",
          "name": "stdout",
          "text": [
            "2022\n"
          ]
        }
      ],
      "source": [
        "print(str[-4:])"
      ]
    },
    {
      "cell_type": "code",
      "execution_count": null,
      "id": "cea7ec3c",
      "metadata": {
        "colab": {
          "base_uri": "https://localhost:8080/",
          "height": 35
        },
        "id": "cea7ec3c",
        "outputId": "56878aab-0dba-4646-d4a5-41901b1073bf"
      },
      "outputs": [
        {
          "output_type": "execute_result",
          "data": {
            "text/plain": [
              "'HELLO DATA SCIENCE 2022'"
            ],
            "application/vnd.google.colaboratory.intrinsic+json": {
              "type": "string"
            }
          },
          "metadata": {},
          "execution_count": 77
        }
      ],
      "source": [
        "str.upper()"
      ]
    },
    {
      "cell_type": "code",
      "execution_count": null,
      "id": "b40688f9",
      "metadata": {
        "colab": {
          "base_uri": "https://localhost:8080/",
          "height": 35
        },
        "id": "b40688f9",
        "outputId": "071b9d60-76c0-4b96-af21-fc1120023605"
      },
      "outputs": [
        {
          "output_type": "execute_result",
          "data": {
            "text/plain": [
              "'hello data science 2022'"
            ],
            "application/vnd.google.colaboratory.intrinsic+json": {
              "type": "string"
            }
          },
          "metadata": {},
          "execution_count": 78
        }
      ],
      "source": [
        "str.lower()"
      ]
    },
    {
      "cell_type": "code",
      "execution_count": null,
      "id": "7ff6dc39",
      "metadata": {
        "colab": {
          "base_uri": "https://localhost:8080/",
          "height": 35
        },
        "id": "7ff6dc39",
        "outputId": "c3e82986-115c-4ed1-baba-78c91fcd9385"
      },
      "outputs": [
        {
          "output_type": "execute_result",
          "data": {
            "text/plain": [
              "'Hello Data Science 2022 & FutureDataScientist'"
            ],
            "application/vnd.google.colaboratory.intrinsic+json": {
              "type": "string"
            }
          },
          "metadata": {},
          "execution_count": 79
        }
      ],
      "source": [
        "str + ' & ' + 'FutureDataScientist'"
      ]
    },
    {
      "cell_type": "markdown",
      "id": "10666c4f",
      "metadata": {
        "id": "10666c4f"
      },
      "source": [
        "## Exercise 3 - Pandas \n",
        "\n",
        "Pandas Resources:\n",
        "* https://pandas.pydata.org/\n",
        "* https://pandas.pydata.org/pandas-docs/stable/generated/pandas.read_csv.html\n",
        "\n",
        "We are going to be using the Auto+MPG data set.  This is part of the UCI Machine Learning repository.  A common place to find data sets to test out code and used in learning about machine learning and data science. \n",
        "\n",
        "I have already downloaded the data from https://archive.ics.uci.edu/ml/datasets/Auto+MPG\n",
        " \n",
        "In the next cell, you will modify the code to read in the `auto-mpg.data` file properly.  Use the following names for the columns:  \n",
        "mpg, cyl, disp, hp, wgt, acc, year, origin, name\n",
        "\n",
        "*HINT:* You will need to look at using additional parameters for the [`read_csv`](https://pandas.pydata.org/pandas-docs/stable/generated/pandas.read_csv.html) function. It will be helpful to look at the documentation on `read_csv`   \n",
        "https://pandas.pydata.org/pandas-docs/stable/reference/api/pandas.read_csv.html\n",
        "\n"
      ]
    },
    {
      "cell_type": "code",
      "execution_count": null,
      "id": "a9b67382",
      "metadata": {
        "tags": [],
        "colab": {
          "base_uri": "https://localhost:8080/",
          "height": 206
        },
        "id": "a9b67382",
        "outputId": "cb8967fe-b0e5-4773-c319-f113c8e4dc1d"
      },
      "outputs": [
        {
          "output_type": "execute_result",
          "data": {
            "text/plain": [
              "    mpg  cyl   disp     hp     wgt   acc  year  origin  \\\n",
              "0  18.0    8  307.0  130.0  3504.0  12.0    70       1   \n",
              "1  15.0    8  350.0  165.0  3693.0  11.5    70       1   \n",
              "2  18.0    8  318.0  150.0  3436.0  11.0    70       1   \n",
              "3  16.0    8  304.0  150.0  3433.0  12.0    70       1   \n",
              "4  17.0    8  302.0  140.0  3449.0  10.5    70       1   \n",
              "\n",
              "                        name  \n",
              "0  chevrolet chevelle malibu  \n",
              "1          buick skylark 320  \n",
              "2         plymouth satellite  \n",
              "3              amc rebel sst  \n",
              "4                ford torino  "
            ],
            "text/html": [
              "\n",
              "  <div id=\"df-af7af40c-1b1f-4400-a4d3-8a923ba4d366\">\n",
              "    <div class=\"colab-df-container\">\n",
              "      <div>\n",
              "<style scoped>\n",
              "    .dataframe tbody tr th:only-of-type {\n",
              "        vertical-align: middle;\n",
              "    }\n",
              "\n",
              "    .dataframe tbody tr th {\n",
              "        vertical-align: top;\n",
              "    }\n",
              "\n",
              "    .dataframe thead th {\n",
              "        text-align: right;\n",
              "    }\n",
              "</style>\n",
              "<table border=\"1\" class=\"dataframe\">\n",
              "  <thead>\n",
              "    <tr style=\"text-align: right;\">\n",
              "      <th></th>\n",
              "      <th>mpg</th>\n",
              "      <th>cyl</th>\n",
              "      <th>disp</th>\n",
              "      <th>hp</th>\n",
              "      <th>wgt</th>\n",
              "      <th>acc</th>\n",
              "      <th>year</th>\n",
              "      <th>origin</th>\n",
              "      <th>name</th>\n",
              "    </tr>\n",
              "  </thead>\n",
              "  <tbody>\n",
              "    <tr>\n",
              "      <th>0</th>\n",
              "      <td>18.0</td>\n",
              "      <td>8</td>\n",
              "      <td>307.0</td>\n",
              "      <td>130.0</td>\n",
              "      <td>3504.0</td>\n",
              "      <td>12.0</td>\n",
              "      <td>70</td>\n",
              "      <td>1</td>\n",
              "      <td>chevrolet chevelle malibu</td>\n",
              "    </tr>\n",
              "    <tr>\n",
              "      <th>1</th>\n",
              "      <td>15.0</td>\n",
              "      <td>8</td>\n",
              "      <td>350.0</td>\n",
              "      <td>165.0</td>\n",
              "      <td>3693.0</td>\n",
              "      <td>11.5</td>\n",
              "      <td>70</td>\n",
              "      <td>1</td>\n",
              "      <td>buick skylark 320</td>\n",
              "    </tr>\n",
              "    <tr>\n",
              "      <th>2</th>\n",
              "      <td>18.0</td>\n",
              "      <td>8</td>\n",
              "      <td>318.0</td>\n",
              "      <td>150.0</td>\n",
              "      <td>3436.0</td>\n",
              "      <td>11.0</td>\n",
              "      <td>70</td>\n",
              "      <td>1</td>\n",
              "      <td>plymouth satellite</td>\n",
              "    </tr>\n",
              "    <tr>\n",
              "      <th>3</th>\n",
              "      <td>16.0</td>\n",
              "      <td>8</td>\n",
              "      <td>304.0</td>\n",
              "      <td>150.0</td>\n",
              "      <td>3433.0</td>\n",
              "      <td>12.0</td>\n",
              "      <td>70</td>\n",
              "      <td>1</td>\n",
              "      <td>amc rebel sst</td>\n",
              "    </tr>\n",
              "    <tr>\n",
              "      <th>4</th>\n",
              "      <td>17.0</td>\n",
              "      <td>8</td>\n",
              "      <td>302.0</td>\n",
              "      <td>140.0</td>\n",
              "      <td>3449.0</td>\n",
              "      <td>10.5</td>\n",
              "      <td>70</td>\n",
              "      <td>1</td>\n",
              "      <td>ford torino</td>\n",
              "    </tr>\n",
              "  </tbody>\n",
              "</table>\n",
              "</div>\n",
              "      <button class=\"colab-df-convert\" onclick=\"convertToInteractive('df-af7af40c-1b1f-4400-a4d3-8a923ba4d366')\"\n",
              "              title=\"Convert this dataframe to an interactive table.\"\n",
              "              style=\"display:none;\">\n",
              "        \n",
              "  <svg xmlns=\"http://www.w3.org/2000/svg\" height=\"24px\"viewBox=\"0 0 24 24\"\n",
              "       width=\"24px\">\n",
              "    <path d=\"M0 0h24v24H0V0z\" fill=\"none\"/>\n",
              "    <path d=\"M18.56 5.44l.94 2.06.94-2.06 2.06-.94-2.06-.94-.94-2.06-.94 2.06-2.06.94zm-11 1L8.5 8.5l.94-2.06 2.06-.94-2.06-.94L8.5 2.5l-.94 2.06-2.06.94zm10 10l.94 2.06.94-2.06 2.06-.94-2.06-.94-.94-2.06-.94 2.06-2.06.94z\"/><path d=\"M17.41 7.96l-1.37-1.37c-.4-.4-.92-.59-1.43-.59-.52 0-1.04.2-1.43.59L10.3 9.45l-7.72 7.72c-.78.78-.78 2.05 0 2.83L4 21.41c.39.39.9.59 1.41.59.51 0 1.02-.2 1.41-.59l7.78-7.78 2.81-2.81c.8-.78.8-2.07 0-2.86zM5.41 20L4 18.59l7.72-7.72 1.47 1.35L5.41 20z\"/>\n",
              "  </svg>\n",
              "      </button>\n",
              "      \n",
              "  <style>\n",
              "    .colab-df-container {\n",
              "      display:flex;\n",
              "      flex-wrap:wrap;\n",
              "      gap: 12px;\n",
              "    }\n",
              "\n",
              "    .colab-df-convert {\n",
              "      background-color: #E8F0FE;\n",
              "      border: none;\n",
              "      border-radius: 50%;\n",
              "      cursor: pointer;\n",
              "      display: none;\n",
              "      fill: #1967D2;\n",
              "      height: 32px;\n",
              "      padding: 0 0 0 0;\n",
              "      width: 32px;\n",
              "    }\n",
              "\n",
              "    .colab-df-convert:hover {\n",
              "      background-color: #E2EBFA;\n",
              "      box-shadow: 0px 1px 2px rgba(60, 64, 67, 0.3), 0px 1px 3px 1px rgba(60, 64, 67, 0.15);\n",
              "      fill: #174EA6;\n",
              "    }\n",
              "\n",
              "    [theme=dark] .colab-df-convert {\n",
              "      background-color: #3B4455;\n",
              "      fill: #D2E3FC;\n",
              "    }\n",
              "\n",
              "    [theme=dark] .colab-df-convert:hover {\n",
              "      background-color: #434B5C;\n",
              "      box-shadow: 0px 1px 3px 1px rgba(0, 0, 0, 0.15);\n",
              "      filter: drop-shadow(0px 1px 2px rgba(0, 0, 0, 0.3));\n",
              "      fill: #FFFFFF;\n",
              "    }\n",
              "  </style>\n",
              "\n",
              "      <script>\n",
              "        const buttonEl =\n",
              "          document.querySelector('#df-af7af40c-1b1f-4400-a4d3-8a923ba4d366 button.colab-df-convert');\n",
              "        buttonEl.style.display =\n",
              "          google.colab.kernel.accessAllowed ? 'block' : 'none';\n",
              "\n",
              "        async function convertToInteractive(key) {\n",
              "          const element = document.querySelector('#df-af7af40c-1b1f-4400-a4d3-8a923ba4d366');\n",
              "          const dataTable =\n",
              "            await google.colab.kernel.invokeFunction('convertToInteractive',\n",
              "                                                     [key], {});\n",
              "          if (!dataTable) return;\n",
              "\n",
              "          const docLinkHtml = 'Like what you see? Visit the ' +\n",
              "            '<a target=\"_blank\" href=https://colab.research.google.com/notebooks/data_table.ipynb>data table notebook</a>'\n",
              "            + ' to learn more about interactive tables.';\n",
              "          element.innerHTML = '';\n",
              "          dataTable['output_type'] = 'display_data';\n",
              "          await google.colab.output.renderOutput(dataTable, element);\n",
              "          const docLink = document.createElement('div');\n",
              "          docLink.innerHTML = docLinkHtml;\n",
              "          element.appendChild(docLink);\n",
              "        }\n",
              "      </script>\n",
              "    </div>\n",
              "  </div>\n",
              "  "
            ]
          },
          "metadata": {},
          "execution_count": 83
        }
      ],
      "source": [
        "from numpy.lib.shape_base import column_stack\n",
        "colNames = ['mpg', 'cyl', 'disp', 'hp', 'wgt', 'acc', 'year', 'origin', 'name'] \n",
        "df = pd.read_table('data/auto-mpg.data', header=None, sep='\\s+', names = colNames)  # modify this code to properly read the data\n",
        "# use the column names provided above \n",
        "df.head()"
      ]
    },
    {
      "cell_type": "code",
      "execution_count": null,
      "id": "746ad6cf",
      "metadata": {
        "deletable": false,
        "editable": false,
        "colab": {
          "base_uri": "https://localhost:8080/",
          "height": 46
        },
        "id": "746ad6cf",
        "outputId": "e1e400c6-fa5c-49e9-b9f9-6bc34c89a286"
      },
      "outputs": [
        {
          "output_type": "execute_result",
          "data": {
            "text/plain": [
              "q3 results: All test cases passed!"
            ],
            "text/html": [
              "<p><strong><pre style='display: inline;'>q3</pre></strong> passed!</p>"
            ]
          },
          "metadata": {},
          "execution_count": 84
        }
      ],
      "source": [
        "grader.check(\"q3\")"
      ]
    },
    {
      "cell_type": "markdown",
      "id": "094430ad",
      "metadata": {
        "id": "094430ad"
      },
      "source": [
        "## Exercise 4 - Pandas \n",
        "\n",
        "Here you will explore properties of the DataFrame and its attributes."
      ]
    },
    {
      "cell_type": "markdown",
      "id": "7deff4f8",
      "metadata": {
        "id": "7deff4f8"
      },
      "source": [
        "_Type your answer here, replacing this text._"
      ]
    },
    {
      "cell_type": "code",
      "execution_count": null,
      "id": "1c49347a",
      "metadata": {
        "tags": [],
        "id": "1c49347a",
        "colab": {
          "base_uri": "https://localhost:8080/"
        },
        "outputId": "cead8549-7cbe-4bb9-bf50-b87cbcc7c702"
      },
      "outputs": [
        {
          "output_type": "stream",
          "name": "stdout",
          "text": [
            "No of rows: 398\n",
            "No of columns: 9\n"
          ]
        }
      ],
      "source": [
        "# Determine the number of rows and columns of the data set \n",
        "rows = len(df['mpg'])\n",
        "columns = len(df.columns)\n",
        "print(f'No of rows: {rows}')\n",
        "print(f'No of columns: {columns}')"
      ]
    },
    {
      "cell_type": "code",
      "execution_count": null,
      "id": "5f667db2",
      "metadata": {
        "tags": [],
        "id": "5f667db2",
        "colab": {
          "base_uri": "https://localhost:8080/"
        },
        "outputId": "33c360f8-b6f9-4a73-968c-ace0fd03ff87"
      },
      "outputs": [
        {
          "output_type": "execute_result",
          "data": {
            "text/plain": [
              "Index(['mpg', 'cyl', 'disp', 'hp', 'wgt', 'acc', 'year', 'origin', 'name'], dtype='object')"
            ]
          },
          "metadata": {},
          "execution_count": 35
        }
      ],
      "source": [
        "dfColumnsNames = df.columns\n",
        "dfColumnsNames"
      ]
    },
    {
      "cell_type": "code",
      "execution_count": null,
      "id": "d8976e66",
      "metadata": {
        "deletable": false,
        "editable": false,
        "id": "d8976e66",
        "colab": {
          "base_uri": "https://localhost:8080/",
          "height": 46
        },
        "outputId": "d082c79e-7650-4c28-846f-1b482e3aa555"
      },
      "outputs": [
        {
          "output_type": "execute_result",
          "data": {
            "text/plain": [
              "q4 results: All test cases passed!"
            ],
            "text/html": [
              "<p><strong><pre style='display: inline;'>q4</pre></strong> passed!</p>"
            ]
          },
          "metadata": {},
          "execution_count": 36
        }
      ],
      "source": [
        "grader.check(\"q4\")"
      ]
    },
    {
      "cell_type": "markdown",
      "id": "770c730c",
      "metadata": {
        "id": "770c730c"
      },
      "source": [
        "## Exercise 5 - Pandas \n",
        "\n",
        "Show the first 3 rows of the DataFrame."
      ]
    },
    {
      "cell_type": "markdown",
      "id": "5561eb62",
      "metadata": {
        "id": "5561eb62"
      },
      "source": [
        "_Type your answer here, replacing this text._"
      ]
    },
    {
      "cell_type": "code",
      "execution_count": null,
      "id": "6b3e92a3",
      "metadata": {
        "tags": [],
        "id": "6b3e92a3",
        "colab": {
          "base_uri": "https://localhost:8080/",
          "height": 143
        },
        "outputId": "f1cb9680-1554-448f-ecc9-0f467bbb1391"
      },
      "outputs": [
        {
          "output_type": "execute_result",
          "data": {
            "text/plain": [
              "    mpg  cyl   disp     hp     wgt   acc  year  origin  \\\n",
              "0  18.0    8  307.0  130.0  3504.0  12.0    70       1   \n",
              "1  15.0    8  350.0  165.0  3693.0  11.5    70       1   \n",
              "2  18.0    8  318.0  150.0  3436.0  11.0    70       1   \n",
              "\n",
              "                        name  \n",
              "0  chevrolet chevelle malibu  \n",
              "1          buick skylark 320  \n",
              "2         plymouth satellite  "
            ],
            "text/html": [
              "\n",
              "  <div id=\"df-cbf0094a-3ffe-4617-9c75-2ff389aa5145\">\n",
              "    <div class=\"colab-df-container\">\n",
              "      <div>\n",
              "<style scoped>\n",
              "    .dataframe tbody tr th:only-of-type {\n",
              "        vertical-align: middle;\n",
              "    }\n",
              "\n",
              "    .dataframe tbody tr th {\n",
              "        vertical-align: top;\n",
              "    }\n",
              "\n",
              "    .dataframe thead th {\n",
              "        text-align: right;\n",
              "    }\n",
              "</style>\n",
              "<table border=\"1\" class=\"dataframe\">\n",
              "  <thead>\n",
              "    <tr style=\"text-align: right;\">\n",
              "      <th></th>\n",
              "      <th>mpg</th>\n",
              "      <th>cyl</th>\n",
              "      <th>disp</th>\n",
              "      <th>hp</th>\n",
              "      <th>wgt</th>\n",
              "      <th>acc</th>\n",
              "      <th>year</th>\n",
              "      <th>origin</th>\n",
              "      <th>name</th>\n",
              "    </tr>\n",
              "  </thead>\n",
              "  <tbody>\n",
              "    <tr>\n",
              "      <th>0</th>\n",
              "      <td>18.0</td>\n",
              "      <td>8</td>\n",
              "      <td>307.0</td>\n",
              "      <td>130.0</td>\n",
              "      <td>3504.0</td>\n",
              "      <td>12.0</td>\n",
              "      <td>70</td>\n",
              "      <td>1</td>\n",
              "      <td>chevrolet chevelle malibu</td>\n",
              "    </tr>\n",
              "    <tr>\n",
              "      <th>1</th>\n",
              "      <td>15.0</td>\n",
              "      <td>8</td>\n",
              "      <td>350.0</td>\n",
              "      <td>165.0</td>\n",
              "      <td>3693.0</td>\n",
              "      <td>11.5</td>\n",
              "      <td>70</td>\n",
              "      <td>1</td>\n",
              "      <td>buick skylark 320</td>\n",
              "    </tr>\n",
              "    <tr>\n",
              "      <th>2</th>\n",
              "      <td>18.0</td>\n",
              "      <td>8</td>\n",
              "      <td>318.0</td>\n",
              "      <td>150.0</td>\n",
              "      <td>3436.0</td>\n",
              "      <td>11.0</td>\n",
              "      <td>70</td>\n",
              "      <td>1</td>\n",
              "      <td>plymouth satellite</td>\n",
              "    </tr>\n",
              "  </tbody>\n",
              "</table>\n",
              "</div>\n",
              "      <button class=\"colab-df-convert\" onclick=\"convertToInteractive('df-cbf0094a-3ffe-4617-9c75-2ff389aa5145')\"\n",
              "              title=\"Convert this dataframe to an interactive table.\"\n",
              "              style=\"display:none;\">\n",
              "        \n",
              "  <svg xmlns=\"http://www.w3.org/2000/svg\" height=\"24px\"viewBox=\"0 0 24 24\"\n",
              "       width=\"24px\">\n",
              "    <path d=\"M0 0h24v24H0V0z\" fill=\"none\"/>\n",
              "    <path d=\"M18.56 5.44l.94 2.06.94-2.06 2.06-.94-2.06-.94-.94-2.06-.94 2.06-2.06.94zm-11 1L8.5 8.5l.94-2.06 2.06-.94-2.06-.94L8.5 2.5l-.94 2.06-2.06.94zm10 10l.94 2.06.94-2.06 2.06-.94-2.06-.94-.94-2.06-.94 2.06-2.06.94z\"/><path d=\"M17.41 7.96l-1.37-1.37c-.4-.4-.92-.59-1.43-.59-.52 0-1.04.2-1.43.59L10.3 9.45l-7.72 7.72c-.78.78-.78 2.05 0 2.83L4 21.41c.39.39.9.59 1.41.59.51 0 1.02-.2 1.41-.59l7.78-7.78 2.81-2.81c.8-.78.8-2.07 0-2.86zM5.41 20L4 18.59l7.72-7.72 1.47 1.35L5.41 20z\"/>\n",
              "  </svg>\n",
              "      </button>\n",
              "      \n",
              "  <style>\n",
              "    .colab-df-container {\n",
              "      display:flex;\n",
              "      flex-wrap:wrap;\n",
              "      gap: 12px;\n",
              "    }\n",
              "\n",
              "    .colab-df-convert {\n",
              "      background-color: #E8F0FE;\n",
              "      border: none;\n",
              "      border-radius: 50%;\n",
              "      cursor: pointer;\n",
              "      display: none;\n",
              "      fill: #1967D2;\n",
              "      height: 32px;\n",
              "      padding: 0 0 0 0;\n",
              "      width: 32px;\n",
              "    }\n",
              "\n",
              "    .colab-df-convert:hover {\n",
              "      background-color: #E2EBFA;\n",
              "      box-shadow: 0px 1px 2px rgba(60, 64, 67, 0.3), 0px 1px 3px 1px rgba(60, 64, 67, 0.15);\n",
              "      fill: #174EA6;\n",
              "    }\n",
              "\n",
              "    [theme=dark] .colab-df-convert {\n",
              "      background-color: #3B4455;\n",
              "      fill: #D2E3FC;\n",
              "    }\n",
              "\n",
              "    [theme=dark] .colab-df-convert:hover {\n",
              "      background-color: #434B5C;\n",
              "      box-shadow: 0px 1px 3px 1px rgba(0, 0, 0, 0.15);\n",
              "      filter: drop-shadow(0px 1px 2px rgba(0, 0, 0, 0.3));\n",
              "      fill: #FFFFFF;\n",
              "    }\n",
              "  </style>\n",
              "\n",
              "      <script>\n",
              "        const buttonEl =\n",
              "          document.querySelector('#df-cbf0094a-3ffe-4617-9c75-2ff389aa5145 button.colab-df-convert');\n",
              "        buttonEl.style.display =\n",
              "          google.colab.kernel.accessAllowed ? 'block' : 'none';\n",
              "\n",
              "        async function convertToInteractive(key) {\n",
              "          const element = document.querySelector('#df-cbf0094a-3ffe-4617-9c75-2ff389aa5145');\n",
              "          const dataTable =\n",
              "            await google.colab.kernel.invokeFunction('convertToInteractive',\n",
              "                                                     [key], {});\n",
              "          if (!dataTable) return;\n",
              "\n",
              "          const docLinkHtml = 'Like what you see? Visit the ' +\n",
              "            '<a target=\"_blank\" href=https://colab.research.google.com/notebooks/data_table.ipynb>data table notebook</a>'\n",
              "            + ' to learn more about interactive tables.';\n",
              "          element.innerHTML = '';\n",
              "          dataTable['output_type'] = 'display_data';\n",
              "          await google.colab.output.renderOutput(dataTable, element);\n",
              "          const docLink = document.createElement('div');\n",
              "          docLink.innerHTML = docLinkHtml;\n",
              "          element.appendChild(docLink);\n",
              "        }\n",
              "      </script>\n",
              "    </div>\n",
              "  </div>\n",
              "  "
            ]
          },
          "metadata": {},
          "execution_count": 37
        }
      ],
      "source": [
        "first_3_rows = df.head(3)\n",
        "first_3_rows"
      ]
    },
    {
      "cell_type": "code",
      "execution_count": null,
      "id": "90f097e9",
      "metadata": {
        "tags": [],
        "id": "90f097e9",
        "colab": {
          "base_uri": "https://localhost:8080/",
          "height": 300
        },
        "outputId": "116065d9-48c2-4473-b2c2-ed04482d0279"
      },
      "outputs": [
        {
          "output_type": "execute_result",
          "data": {
            "text/plain": [
              "      mpg  cyl   disp     hp     wgt   acc  year  origin               name\n",
              "390  32.0    4  144.0  96.00  2665.0  13.9    82       3   toyota celica gt\n",
              "391  36.0    4  135.0  84.00  2370.0  13.0    82       1  dodge charger 2.2\n",
              "392  27.0    4  151.0  90.00  2950.0  17.3    82       1   chevrolet camaro\n",
              "393  27.0    4  140.0  86.00  2790.0  15.6    82       1    ford mustang gl\n",
              "394  44.0    4   97.0  52.00  2130.0  24.6    82       2          vw pickup\n",
              "395  32.0    4  135.0  84.00  2295.0  11.6    82       1      dodge rampage\n",
              "396  28.0    4  120.0  79.00  2625.0  18.6    82       1        ford ranger\n",
              "397  31.0    4  119.0  82.00  2720.0  19.4    82       1         chevy s-10"
            ],
            "text/html": [
              "\n",
              "  <div id=\"df-d0864950-2637-4cb4-a8c2-812690882da5\">\n",
              "    <div class=\"colab-df-container\">\n",
              "      <div>\n",
              "<style scoped>\n",
              "    .dataframe tbody tr th:only-of-type {\n",
              "        vertical-align: middle;\n",
              "    }\n",
              "\n",
              "    .dataframe tbody tr th {\n",
              "        vertical-align: top;\n",
              "    }\n",
              "\n",
              "    .dataframe thead th {\n",
              "        text-align: right;\n",
              "    }\n",
              "</style>\n",
              "<table border=\"1\" class=\"dataframe\">\n",
              "  <thead>\n",
              "    <tr style=\"text-align: right;\">\n",
              "      <th></th>\n",
              "      <th>mpg</th>\n",
              "      <th>cyl</th>\n",
              "      <th>disp</th>\n",
              "      <th>hp</th>\n",
              "      <th>wgt</th>\n",
              "      <th>acc</th>\n",
              "      <th>year</th>\n",
              "      <th>origin</th>\n",
              "      <th>name</th>\n",
              "    </tr>\n",
              "  </thead>\n",
              "  <tbody>\n",
              "    <tr>\n",
              "      <th>390</th>\n",
              "      <td>32.0</td>\n",
              "      <td>4</td>\n",
              "      <td>144.0</td>\n",
              "      <td>96.00</td>\n",
              "      <td>2665.0</td>\n",
              "      <td>13.9</td>\n",
              "      <td>82</td>\n",
              "      <td>3</td>\n",
              "      <td>toyota celica gt</td>\n",
              "    </tr>\n",
              "    <tr>\n",
              "      <th>391</th>\n",
              "      <td>36.0</td>\n",
              "      <td>4</td>\n",
              "      <td>135.0</td>\n",
              "      <td>84.00</td>\n",
              "      <td>2370.0</td>\n",
              "      <td>13.0</td>\n",
              "      <td>82</td>\n",
              "      <td>1</td>\n",
              "      <td>dodge charger 2.2</td>\n",
              "    </tr>\n",
              "    <tr>\n",
              "      <th>392</th>\n",
              "      <td>27.0</td>\n",
              "      <td>4</td>\n",
              "      <td>151.0</td>\n",
              "      <td>90.00</td>\n",
              "      <td>2950.0</td>\n",
              "      <td>17.3</td>\n",
              "      <td>82</td>\n",
              "      <td>1</td>\n",
              "      <td>chevrolet camaro</td>\n",
              "    </tr>\n",
              "    <tr>\n",
              "      <th>393</th>\n",
              "      <td>27.0</td>\n",
              "      <td>4</td>\n",
              "      <td>140.0</td>\n",
              "      <td>86.00</td>\n",
              "      <td>2790.0</td>\n",
              "      <td>15.6</td>\n",
              "      <td>82</td>\n",
              "      <td>1</td>\n",
              "      <td>ford mustang gl</td>\n",
              "    </tr>\n",
              "    <tr>\n",
              "      <th>394</th>\n",
              "      <td>44.0</td>\n",
              "      <td>4</td>\n",
              "      <td>97.0</td>\n",
              "      <td>52.00</td>\n",
              "      <td>2130.0</td>\n",
              "      <td>24.6</td>\n",
              "      <td>82</td>\n",
              "      <td>2</td>\n",
              "      <td>vw pickup</td>\n",
              "    </tr>\n",
              "    <tr>\n",
              "      <th>395</th>\n",
              "      <td>32.0</td>\n",
              "      <td>4</td>\n",
              "      <td>135.0</td>\n",
              "      <td>84.00</td>\n",
              "      <td>2295.0</td>\n",
              "      <td>11.6</td>\n",
              "      <td>82</td>\n",
              "      <td>1</td>\n",
              "      <td>dodge rampage</td>\n",
              "    </tr>\n",
              "    <tr>\n",
              "      <th>396</th>\n",
              "      <td>28.0</td>\n",
              "      <td>4</td>\n",
              "      <td>120.0</td>\n",
              "      <td>79.00</td>\n",
              "      <td>2625.0</td>\n",
              "      <td>18.6</td>\n",
              "      <td>82</td>\n",
              "      <td>1</td>\n",
              "      <td>ford ranger</td>\n",
              "    </tr>\n",
              "    <tr>\n",
              "      <th>397</th>\n",
              "      <td>31.0</td>\n",
              "      <td>4</td>\n",
              "      <td>119.0</td>\n",
              "      <td>82.00</td>\n",
              "      <td>2720.0</td>\n",
              "      <td>19.4</td>\n",
              "      <td>82</td>\n",
              "      <td>1</td>\n",
              "      <td>chevy s-10</td>\n",
              "    </tr>\n",
              "  </tbody>\n",
              "</table>\n",
              "</div>\n",
              "      <button class=\"colab-df-convert\" onclick=\"convertToInteractive('df-d0864950-2637-4cb4-a8c2-812690882da5')\"\n",
              "              title=\"Convert this dataframe to an interactive table.\"\n",
              "              style=\"display:none;\">\n",
              "        \n",
              "  <svg xmlns=\"http://www.w3.org/2000/svg\" height=\"24px\"viewBox=\"0 0 24 24\"\n",
              "       width=\"24px\">\n",
              "    <path d=\"M0 0h24v24H0V0z\" fill=\"none\"/>\n",
              "    <path d=\"M18.56 5.44l.94 2.06.94-2.06 2.06-.94-2.06-.94-.94-2.06-.94 2.06-2.06.94zm-11 1L8.5 8.5l.94-2.06 2.06-.94-2.06-.94L8.5 2.5l-.94 2.06-2.06.94zm10 10l.94 2.06.94-2.06 2.06-.94-2.06-.94-.94-2.06-.94 2.06-2.06.94z\"/><path d=\"M17.41 7.96l-1.37-1.37c-.4-.4-.92-.59-1.43-.59-.52 0-1.04.2-1.43.59L10.3 9.45l-7.72 7.72c-.78.78-.78 2.05 0 2.83L4 21.41c.39.39.9.59 1.41.59.51 0 1.02-.2 1.41-.59l7.78-7.78 2.81-2.81c.8-.78.8-2.07 0-2.86zM5.41 20L4 18.59l7.72-7.72 1.47 1.35L5.41 20z\"/>\n",
              "  </svg>\n",
              "      </button>\n",
              "      \n",
              "  <style>\n",
              "    .colab-df-container {\n",
              "      display:flex;\n",
              "      flex-wrap:wrap;\n",
              "      gap: 12px;\n",
              "    }\n",
              "\n",
              "    .colab-df-convert {\n",
              "      background-color: #E8F0FE;\n",
              "      border: none;\n",
              "      border-radius: 50%;\n",
              "      cursor: pointer;\n",
              "      display: none;\n",
              "      fill: #1967D2;\n",
              "      height: 32px;\n",
              "      padding: 0 0 0 0;\n",
              "      width: 32px;\n",
              "    }\n",
              "\n",
              "    .colab-df-convert:hover {\n",
              "      background-color: #E2EBFA;\n",
              "      box-shadow: 0px 1px 2px rgba(60, 64, 67, 0.3), 0px 1px 3px 1px rgba(60, 64, 67, 0.15);\n",
              "      fill: #174EA6;\n",
              "    }\n",
              "\n",
              "    [theme=dark] .colab-df-convert {\n",
              "      background-color: #3B4455;\n",
              "      fill: #D2E3FC;\n",
              "    }\n",
              "\n",
              "    [theme=dark] .colab-df-convert:hover {\n",
              "      background-color: #434B5C;\n",
              "      box-shadow: 0px 1px 3px 1px rgba(0, 0, 0, 0.15);\n",
              "      filter: drop-shadow(0px 1px 2px rgba(0, 0, 0, 0.3));\n",
              "      fill: #FFFFFF;\n",
              "    }\n",
              "  </style>\n",
              "\n",
              "      <script>\n",
              "        const buttonEl =\n",
              "          document.querySelector('#df-d0864950-2637-4cb4-a8c2-812690882da5 button.colab-df-convert');\n",
              "        buttonEl.style.display =\n",
              "          google.colab.kernel.accessAllowed ? 'block' : 'none';\n",
              "\n",
              "        async function convertToInteractive(key) {\n",
              "          const element = document.querySelector('#df-d0864950-2637-4cb4-a8c2-812690882da5');\n",
              "          const dataTable =\n",
              "            await google.colab.kernel.invokeFunction('convertToInteractive',\n",
              "                                                     [key], {});\n",
              "          if (!dataTable) return;\n",
              "\n",
              "          const docLinkHtml = 'Like what you see? Visit the ' +\n",
              "            '<a target=\"_blank\" href=https://colab.research.google.com/notebooks/data_table.ipynb>data table notebook</a>'\n",
              "            + ' to learn more about interactive tables.';\n",
              "          element.innerHTML = '';\n",
              "          dataTable['output_type'] = 'display_data';\n",
              "          await google.colab.output.renderOutput(dataTable, element);\n",
              "          const docLink = document.createElement('div');\n",
              "          docLink.innerHTML = docLinkHtml;\n",
              "          element.appendChild(docLink);\n",
              "        }\n",
              "      </script>\n",
              "    </div>\n",
              "  </div>\n",
              "  "
            ]
          },
          "metadata": {},
          "execution_count": 38
        }
      ],
      "source": [
        "last_8_rows = df.tail(8)\n",
        "last_8_rows"
      ]
    },
    {
      "cell_type": "code",
      "execution_count": null,
      "id": "9fb7ec60",
      "metadata": {
        "deletable": false,
        "editable": false,
        "id": "9fb7ec60",
        "colab": {
          "base_uri": "https://localhost:8080/",
          "height": 46
        },
        "outputId": "d2cfcec0-0d0a-4922-fe85-23fcb5703a02"
      },
      "outputs": [
        {
          "output_type": "execute_result",
          "data": {
            "text/plain": [
              "q5 results: All test cases passed!"
            ],
            "text/html": [
              "<p><strong><pre style='display: inline;'>q5</pre></strong> passed!</p>"
            ]
          },
          "metadata": {},
          "execution_count": 39
        }
      ],
      "source": [
        "grader.check(\"q5\")"
      ]
    },
    {
      "cell_type": "markdown",
      "id": "a447628e",
      "metadata": {
        "id": "a447628e"
      },
      "source": [
        "## Exercise 6 - Pandas \n",
        "\n",
        "Practice selecting different parts of the DataFrame\n",
        "\n",
        "Select the horsepower column"
      ]
    },
    {
      "cell_type": "markdown",
      "id": "4a113540",
      "metadata": {
        "id": "4a113540"
      },
      "source": [
        "_Type your answer here, replacing this text._"
      ]
    },
    {
      "cell_type": "code",
      "execution_count": null,
      "id": "02beaeaf",
      "metadata": {
        "tags": [],
        "id": "02beaeaf",
        "colab": {
          "base_uri": "https://localhost:8080/"
        },
        "outputId": "5c56f196-b212-4747-e7fe-52895111d034"
      },
      "outputs": [
        {
          "output_type": "execute_result",
          "data": {
            "text/plain": [
              "0      130.0\n",
              "1      165.0\n",
              "2      150.0\n",
              "3      150.0\n",
              "4      140.0\n",
              "       ...  \n",
              "393    86.00\n",
              "394    52.00\n",
              "395    84.00\n",
              "396    79.00\n",
              "397    82.00\n",
              "Name: hp, Length: 398, dtype: object"
            ]
          },
          "metadata": {},
          "execution_count": 40
        }
      ],
      "source": [
        "# select just the horsepower column \n",
        "hp = df['hp']\n",
        "hp"
      ]
    },
    {
      "cell_type": "code",
      "execution_count": null,
      "id": "267a3ed9",
      "metadata": {
        "tags": [],
        "id": "267a3ed9",
        "colab": {
          "base_uri": "https://localhost:8080/",
          "height": 424
        },
        "outputId": "5b9fbb76-e71a-49ca-f6e5-a4ab1cac2a40"
      },
      "outputs": [
        {
          "output_type": "execute_result",
          "data": {
            "text/plain": [
              "     cyl   disp\n",
              "0      8  307.0\n",
              "1      8  350.0\n",
              "2      8  318.0\n",
              "3      8  304.0\n",
              "4      8  302.0\n",
              "..   ...    ...\n",
              "393    4  140.0\n",
              "394    4   97.0\n",
              "395    4  135.0\n",
              "396    4  120.0\n",
              "397    4  119.0\n",
              "\n",
              "[398 rows x 2 columns]"
            ],
            "text/html": [
              "\n",
              "  <div id=\"df-c62ae75f-7b97-47e9-9324-c7d95fd7d814\">\n",
              "    <div class=\"colab-df-container\">\n",
              "      <div>\n",
              "<style scoped>\n",
              "    .dataframe tbody tr th:only-of-type {\n",
              "        vertical-align: middle;\n",
              "    }\n",
              "\n",
              "    .dataframe tbody tr th {\n",
              "        vertical-align: top;\n",
              "    }\n",
              "\n",
              "    .dataframe thead th {\n",
              "        text-align: right;\n",
              "    }\n",
              "</style>\n",
              "<table border=\"1\" class=\"dataframe\">\n",
              "  <thead>\n",
              "    <tr style=\"text-align: right;\">\n",
              "      <th></th>\n",
              "      <th>cyl</th>\n",
              "      <th>disp</th>\n",
              "    </tr>\n",
              "  </thead>\n",
              "  <tbody>\n",
              "    <tr>\n",
              "      <th>0</th>\n",
              "      <td>8</td>\n",
              "      <td>307.0</td>\n",
              "    </tr>\n",
              "    <tr>\n",
              "      <th>1</th>\n",
              "      <td>8</td>\n",
              "      <td>350.0</td>\n",
              "    </tr>\n",
              "    <tr>\n",
              "      <th>2</th>\n",
              "      <td>8</td>\n",
              "      <td>318.0</td>\n",
              "    </tr>\n",
              "    <tr>\n",
              "      <th>3</th>\n",
              "      <td>8</td>\n",
              "      <td>304.0</td>\n",
              "    </tr>\n",
              "    <tr>\n",
              "      <th>4</th>\n",
              "      <td>8</td>\n",
              "      <td>302.0</td>\n",
              "    </tr>\n",
              "    <tr>\n",
              "      <th>...</th>\n",
              "      <td>...</td>\n",
              "      <td>...</td>\n",
              "    </tr>\n",
              "    <tr>\n",
              "      <th>393</th>\n",
              "      <td>4</td>\n",
              "      <td>140.0</td>\n",
              "    </tr>\n",
              "    <tr>\n",
              "      <th>394</th>\n",
              "      <td>4</td>\n",
              "      <td>97.0</td>\n",
              "    </tr>\n",
              "    <tr>\n",
              "      <th>395</th>\n",
              "      <td>4</td>\n",
              "      <td>135.0</td>\n",
              "    </tr>\n",
              "    <tr>\n",
              "      <th>396</th>\n",
              "      <td>4</td>\n",
              "      <td>120.0</td>\n",
              "    </tr>\n",
              "    <tr>\n",
              "      <th>397</th>\n",
              "      <td>4</td>\n",
              "      <td>119.0</td>\n",
              "    </tr>\n",
              "  </tbody>\n",
              "</table>\n",
              "<p>398 rows × 2 columns</p>\n",
              "</div>\n",
              "      <button class=\"colab-df-convert\" onclick=\"convertToInteractive('df-c62ae75f-7b97-47e9-9324-c7d95fd7d814')\"\n",
              "              title=\"Convert this dataframe to an interactive table.\"\n",
              "              style=\"display:none;\">\n",
              "        \n",
              "  <svg xmlns=\"http://www.w3.org/2000/svg\" height=\"24px\"viewBox=\"0 0 24 24\"\n",
              "       width=\"24px\">\n",
              "    <path d=\"M0 0h24v24H0V0z\" fill=\"none\"/>\n",
              "    <path d=\"M18.56 5.44l.94 2.06.94-2.06 2.06-.94-2.06-.94-.94-2.06-.94 2.06-2.06.94zm-11 1L8.5 8.5l.94-2.06 2.06-.94-2.06-.94L8.5 2.5l-.94 2.06-2.06.94zm10 10l.94 2.06.94-2.06 2.06-.94-2.06-.94-.94-2.06-.94 2.06-2.06.94z\"/><path d=\"M17.41 7.96l-1.37-1.37c-.4-.4-.92-.59-1.43-.59-.52 0-1.04.2-1.43.59L10.3 9.45l-7.72 7.72c-.78.78-.78 2.05 0 2.83L4 21.41c.39.39.9.59 1.41.59.51 0 1.02-.2 1.41-.59l7.78-7.78 2.81-2.81c.8-.78.8-2.07 0-2.86zM5.41 20L4 18.59l7.72-7.72 1.47 1.35L5.41 20z\"/>\n",
              "  </svg>\n",
              "      </button>\n",
              "      \n",
              "  <style>\n",
              "    .colab-df-container {\n",
              "      display:flex;\n",
              "      flex-wrap:wrap;\n",
              "      gap: 12px;\n",
              "    }\n",
              "\n",
              "    .colab-df-convert {\n",
              "      background-color: #E8F0FE;\n",
              "      border: none;\n",
              "      border-radius: 50%;\n",
              "      cursor: pointer;\n",
              "      display: none;\n",
              "      fill: #1967D2;\n",
              "      height: 32px;\n",
              "      padding: 0 0 0 0;\n",
              "      width: 32px;\n",
              "    }\n",
              "\n",
              "    .colab-df-convert:hover {\n",
              "      background-color: #E2EBFA;\n",
              "      box-shadow: 0px 1px 2px rgba(60, 64, 67, 0.3), 0px 1px 3px 1px rgba(60, 64, 67, 0.15);\n",
              "      fill: #174EA6;\n",
              "    }\n",
              "\n",
              "    [theme=dark] .colab-df-convert {\n",
              "      background-color: #3B4455;\n",
              "      fill: #D2E3FC;\n",
              "    }\n",
              "\n",
              "    [theme=dark] .colab-df-convert:hover {\n",
              "      background-color: #434B5C;\n",
              "      box-shadow: 0px 1px 3px 1px rgba(0, 0, 0, 0.15);\n",
              "      filter: drop-shadow(0px 1px 2px rgba(0, 0, 0, 0.3));\n",
              "      fill: #FFFFFF;\n",
              "    }\n",
              "  </style>\n",
              "\n",
              "      <script>\n",
              "        const buttonEl =\n",
              "          document.querySelector('#df-c62ae75f-7b97-47e9-9324-c7d95fd7d814 button.colab-df-convert');\n",
              "        buttonEl.style.display =\n",
              "          google.colab.kernel.accessAllowed ? 'block' : 'none';\n",
              "\n",
              "        async function convertToInteractive(key) {\n",
              "          const element = document.querySelector('#df-c62ae75f-7b97-47e9-9324-c7d95fd7d814');\n",
              "          const dataTable =\n",
              "            await google.colab.kernel.invokeFunction('convertToInteractive',\n",
              "                                                     [key], {});\n",
              "          if (!dataTable) return;\n",
              "\n",
              "          const docLinkHtml = 'Like what you see? Visit the ' +\n",
              "            '<a target=\"_blank\" href=https://colab.research.google.com/notebooks/data_table.ipynb>data table notebook</a>'\n",
              "            + ' to learn more about interactive tables.';\n",
              "          element.innerHTML = '';\n",
              "          dataTable['output_type'] = 'display_data';\n",
              "          await google.colab.output.renderOutput(dataTable, element);\n",
              "          const docLink = document.createElement('div');\n",
              "          docLink.innerHTML = docLinkHtml;\n",
              "          element.appendChild(docLink);\n",
              "        }\n",
              "      </script>\n",
              "    </div>\n",
              "  </div>\n",
              "  "
            ]
          },
          "metadata": {},
          "execution_count": 41
        }
      ],
      "source": [
        "cyl_and_disp = df[['cyl','disp']]\n",
        "cyl_and_disp"
      ]
    },
    {
      "cell_type": "code",
      "execution_count": null,
      "id": "190ae139",
      "metadata": {
        "deletable": false,
        "editable": false,
        "id": "190ae139",
        "colab": {
          "base_uri": "https://localhost:8080/",
          "height": 46
        },
        "outputId": "936dea28-5914-4e70-aff6-21cba3139f8f"
      },
      "outputs": [
        {
          "output_type": "execute_result",
          "data": {
            "text/plain": [
              "q6 results: All test cases passed!"
            ],
            "text/html": [
              "<p><strong><pre style='display: inline;'>q6</pre></strong> passed!</p>"
            ]
          },
          "metadata": {},
          "execution_count": 42
        }
      ],
      "source": [
        "grader.check(\"q6\")"
      ]
    },
    {
      "cell_type": "markdown",
      "id": "8eb0c72e",
      "metadata": {
        "id": "8eb0c72e"
      },
      "source": [
        "## Exercise 7 - Pandas \n",
        "\n",
        "Select the row with index=7, the 8th row, of the DataFrame \n",
        "\n"
      ]
    },
    {
      "cell_type": "markdown",
      "id": "53418113",
      "metadata": {
        "id": "53418113"
      },
      "source": [
        "_Type your answer here, replacing this text._"
      ]
    },
    {
      "cell_type": "code",
      "execution_count": null,
      "id": "d7338fcd",
      "metadata": {
        "id": "d7338fcd",
        "tags": [],
        "colab": {
          "base_uri": "https://localhost:8080/"
        },
        "outputId": "335e1024-f738-4d81-92b6-c641fde04292"
      },
      "outputs": [
        {
          "output_type": "execute_result",
          "data": {
            "text/plain": [
              "mpg                    14.0\n",
              "cyl                       8\n",
              "disp                  440.0\n",
              "hp                    215.0\n",
              "wgt                  4312.0\n",
              "acc                     8.5\n",
              "year                     70\n",
              "origin                    1\n",
              "name      plymouth fury iii\n",
              "Name: 7, dtype: object"
            ]
          },
          "metadata": {},
          "execution_count": 43
        }
      ],
      "source": [
        "index_7 = df.iloc[7]\n",
        "index_7"
      ]
    },
    {
      "cell_type": "code",
      "execution_count": null,
      "id": "d38315af",
      "metadata": {
        "id": "d38315af",
        "tags": [],
        "colab": {
          "base_uri": "https://localhost:8080/",
          "height": 112
        },
        "outputId": "2611e444-3131-46fd-92c7-e3cbf75c32c3"
      },
      "outputs": [
        {
          "output_type": "execute_result",
          "data": {
            "text/plain": [
              "    mpg  cyl   disp     hp     wgt   acc  year  origin           name\n",
              "3  16.0    8  304.0  150.0  3433.0  12.0    70       1  amc rebel sst\n",
              "4  17.0    8  302.0  140.0  3449.0  10.5    70       1    ford torino"
            ],
            "text/html": [
              "\n",
              "  <div id=\"df-409d9e08-8502-4f56-bc03-85d9dbe59928\">\n",
              "    <div class=\"colab-df-container\">\n",
              "      <div>\n",
              "<style scoped>\n",
              "    .dataframe tbody tr th:only-of-type {\n",
              "        vertical-align: middle;\n",
              "    }\n",
              "\n",
              "    .dataframe tbody tr th {\n",
              "        vertical-align: top;\n",
              "    }\n",
              "\n",
              "    .dataframe thead th {\n",
              "        text-align: right;\n",
              "    }\n",
              "</style>\n",
              "<table border=\"1\" class=\"dataframe\">\n",
              "  <thead>\n",
              "    <tr style=\"text-align: right;\">\n",
              "      <th></th>\n",
              "      <th>mpg</th>\n",
              "      <th>cyl</th>\n",
              "      <th>disp</th>\n",
              "      <th>hp</th>\n",
              "      <th>wgt</th>\n",
              "      <th>acc</th>\n",
              "      <th>year</th>\n",
              "      <th>origin</th>\n",
              "      <th>name</th>\n",
              "    </tr>\n",
              "  </thead>\n",
              "  <tbody>\n",
              "    <tr>\n",
              "      <th>3</th>\n",
              "      <td>16.0</td>\n",
              "      <td>8</td>\n",
              "      <td>304.0</td>\n",
              "      <td>150.0</td>\n",
              "      <td>3433.0</td>\n",
              "      <td>12.0</td>\n",
              "      <td>70</td>\n",
              "      <td>1</td>\n",
              "      <td>amc rebel sst</td>\n",
              "    </tr>\n",
              "    <tr>\n",
              "      <th>4</th>\n",
              "      <td>17.0</td>\n",
              "      <td>8</td>\n",
              "      <td>302.0</td>\n",
              "      <td>140.0</td>\n",
              "      <td>3449.0</td>\n",
              "      <td>10.5</td>\n",
              "      <td>70</td>\n",
              "      <td>1</td>\n",
              "      <td>ford torino</td>\n",
              "    </tr>\n",
              "  </tbody>\n",
              "</table>\n",
              "</div>\n",
              "      <button class=\"colab-df-convert\" onclick=\"convertToInteractive('df-409d9e08-8502-4f56-bc03-85d9dbe59928')\"\n",
              "              title=\"Convert this dataframe to an interactive table.\"\n",
              "              style=\"display:none;\">\n",
              "        \n",
              "  <svg xmlns=\"http://www.w3.org/2000/svg\" height=\"24px\"viewBox=\"0 0 24 24\"\n",
              "       width=\"24px\">\n",
              "    <path d=\"M0 0h24v24H0V0z\" fill=\"none\"/>\n",
              "    <path d=\"M18.56 5.44l.94 2.06.94-2.06 2.06-.94-2.06-.94-.94-2.06-.94 2.06-2.06.94zm-11 1L8.5 8.5l.94-2.06 2.06-.94-2.06-.94L8.5 2.5l-.94 2.06-2.06.94zm10 10l.94 2.06.94-2.06 2.06-.94-2.06-.94-.94-2.06-.94 2.06-2.06.94z\"/><path d=\"M17.41 7.96l-1.37-1.37c-.4-.4-.92-.59-1.43-.59-.52 0-1.04.2-1.43.59L10.3 9.45l-7.72 7.72c-.78.78-.78 2.05 0 2.83L4 21.41c.39.39.9.59 1.41.59.51 0 1.02-.2 1.41-.59l7.78-7.78 2.81-2.81c.8-.78.8-2.07 0-2.86zM5.41 20L4 18.59l7.72-7.72 1.47 1.35L5.41 20z\"/>\n",
              "  </svg>\n",
              "      </button>\n",
              "      \n",
              "  <style>\n",
              "    .colab-df-container {\n",
              "      display:flex;\n",
              "      flex-wrap:wrap;\n",
              "      gap: 12px;\n",
              "    }\n",
              "\n",
              "    .colab-df-convert {\n",
              "      background-color: #E8F0FE;\n",
              "      border: none;\n",
              "      border-radius: 50%;\n",
              "      cursor: pointer;\n",
              "      display: none;\n",
              "      fill: #1967D2;\n",
              "      height: 32px;\n",
              "      padding: 0 0 0 0;\n",
              "      width: 32px;\n",
              "    }\n",
              "\n",
              "    .colab-df-convert:hover {\n",
              "      background-color: #E2EBFA;\n",
              "      box-shadow: 0px 1px 2px rgba(60, 64, 67, 0.3), 0px 1px 3px 1px rgba(60, 64, 67, 0.15);\n",
              "      fill: #174EA6;\n",
              "    }\n",
              "\n",
              "    [theme=dark] .colab-df-convert {\n",
              "      background-color: #3B4455;\n",
              "      fill: #D2E3FC;\n",
              "    }\n",
              "\n",
              "    [theme=dark] .colab-df-convert:hover {\n",
              "      background-color: #434B5C;\n",
              "      box-shadow: 0px 1px 3px 1px rgba(0, 0, 0, 0.15);\n",
              "      filter: drop-shadow(0px 1px 2px rgba(0, 0, 0, 0.3));\n",
              "      fill: #FFFFFF;\n",
              "    }\n",
              "  </style>\n",
              "\n",
              "      <script>\n",
              "        const buttonEl =\n",
              "          document.querySelector('#df-409d9e08-8502-4f56-bc03-85d9dbe59928 button.colab-df-convert');\n",
              "        buttonEl.style.display =\n",
              "          google.colab.kernel.accessAllowed ? 'block' : 'none';\n",
              "\n",
              "        async function convertToInteractive(key) {\n",
              "          const element = document.querySelector('#df-409d9e08-8502-4f56-bc03-85d9dbe59928');\n",
              "          const dataTable =\n",
              "            await google.colab.kernel.invokeFunction('convertToInteractive',\n",
              "                                                     [key], {});\n",
              "          if (!dataTable) return;\n",
              "\n",
              "          const docLinkHtml = 'Like what you see? Visit the ' +\n",
              "            '<a target=\"_blank\" href=https://colab.research.google.com/notebooks/data_table.ipynb>data table notebook</a>'\n",
              "            + ' to learn more about interactive tables.';\n",
              "          element.innerHTML = '';\n",
              "          dataTable['output_type'] = 'display_data';\n",
              "          await google.colab.output.renderOutput(dataTable, element);\n",
              "          const docLink = document.createElement('div');\n",
              "          docLink.innerHTML = docLinkHtml;\n",
              "          element.appendChild(docLink);\n",
              "        }\n",
              "      </script>\n",
              "    </div>\n",
              "  </div>\n",
              "  "
            ]
          },
          "metadata": {},
          "execution_count": 44
        }
      ],
      "source": [
        "row_4_5 = df.iloc[3:5]\n",
        "row_4_5"
      ]
    },
    {
      "cell_type": "code",
      "execution_count": null,
      "id": "a8246945",
      "metadata": {
        "tags": [],
        "id": "a8246945",
        "colab": {
          "base_uri": "https://localhost:8080/",
          "height": 424
        },
        "outputId": "a92ecb3b-83a5-4410-9a16-4818340f27d2"
      },
      "outputs": [
        {
          "output_type": "execute_result",
          "data": {
            "text/plain": [
              "        hp   acc  origin\n",
              "2    150.0  11.0       1\n",
              "4    140.0  10.5       1\n",
              "6    220.0   9.0       1\n",
              "8    225.0  10.0       1\n",
              "10   170.0  10.0       1\n",
              "..     ...   ...     ...\n",
              "388  92.00  14.5       1\n",
              "390  96.00  13.9       3\n",
              "392  90.00  17.3       1\n",
              "394  52.00  24.6       2\n",
              "396  79.00  18.6       1\n",
              "\n",
              "[198 rows x 3 columns]"
            ],
            "text/html": [
              "\n",
              "  <div id=\"df-87591bfd-5f4e-4dc9-bf4f-ad918ee095e6\">\n",
              "    <div class=\"colab-df-container\">\n",
              "      <div>\n",
              "<style scoped>\n",
              "    .dataframe tbody tr th:only-of-type {\n",
              "        vertical-align: middle;\n",
              "    }\n",
              "\n",
              "    .dataframe tbody tr th {\n",
              "        vertical-align: top;\n",
              "    }\n",
              "\n",
              "    .dataframe thead th {\n",
              "        text-align: right;\n",
              "    }\n",
              "</style>\n",
              "<table border=\"1\" class=\"dataframe\">\n",
              "  <thead>\n",
              "    <tr style=\"text-align: right;\">\n",
              "      <th></th>\n",
              "      <th>hp</th>\n",
              "      <th>acc</th>\n",
              "      <th>origin</th>\n",
              "    </tr>\n",
              "  </thead>\n",
              "  <tbody>\n",
              "    <tr>\n",
              "      <th>2</th>\n",
              "      <td>150.0</td>\n",
              "      <td>11.0</td>\n",
              "      <td>1</td>\n",
              "    </tr>\n",
              "    <tr>\n",
              "      <th>4</th>\n",
              "      <td>140.0</td>\n",
              "      <td>10.5</td>\n",
              "      <td>1</td>\n",
              "    </tr>\n",
              "    <tr>\n",
              "      <th>6</th>\n",
              "      <td>220.0</td>\n",
              "      <td>9.0</td>\n",
              "      <td>1</td>\n",
              "    </tr>\n",
              "    <tr>\n",
              "      <th>8</th>\n",
              "      <td>225.0</td>\n",
              "      <td>10.0</td>\n",
              "      <td>1</td>\n",
              "    </tr>\n",
              "    <tr>\n",
              "      <th>10</th>\n",
              "      <td>170.0</td>\n",
              "      <td>10.0</td>\n",
              "      <td>1</td>\n",
              "    </tr>\n",
              "    <tr>\n",
              "      <th>...</th>\n",
              "      <td>...</td>\n",
              "      <td>...</td>\n",
              "      <td>...</td>\n",
              "    </tr>\n",
              "    <tr>\n",
              "      <th>388</th>\n",
              "      <td>92.00</td>\n",
              "      <td>14.5</td>\n",
              "      <td>1</td>\n",
              "    </tr>\n",
              "    <tr>\n",
              "      <th>390</th>\n",
              "      <td>96.00</td>\n",
              "      <td>13.9</td>\n",
              "      <td>3</td>\n",
              "    </tr>\n",
              "    <tr>\n",
              "      <th>392</th>\n",
              "      <td>90.00</td>\n",
              "      <td>17.3</td>\n",
              "      <td>1</td>\n",
              "    </tr>\n",
              "    <tr>\n",
              "      <th>394</th>\n",
              "      <td>52.00</td>\n",
              "      <td>24.6</td>\n",
              "      <td>2</td>\n",
              "    </tr>\n",
              "    <tr>\n",
              "      <th>396</th>\n",
              "      <td>79.00</td>\n",
              "      <td>18.6</td>\n",
              "      <td>1</td>\n",
              "    </tr>\n",
              "  </tbody>\n",
              "</table>\n",
              "<p>198 rows × 3 columns</p>\n",
              "</div>\n",
              "      <button class=\"colab-df-convert\" onclick=\"convertToInteractive('df-87591bfd-5f4e-4dc9-bf4f-ad918ee095e6')\"\n",
              "              title=\"Convert this dataframe to an interactive table.\"\n",
              "              style=\"display:none;\">\n",
              "        \n",
              "  <svg xmlns=\"http://www.w3.org/2000/svg\" height=\"24px\"viewBox=\"0 0 24 24\"\n",
              "       width=\"24px\">\n",
              "    <path d=\"M0 0h24v24H0V0z\" fill=\"none\"/>\n",
              "    <path d=\"M18.56 5.44l.94 2.06.94-2.06 2.06-.94-2.06-.94-.94-2.06-.94 2.06-2.06.94zm-11 1L8.5 8.5l.94-2.06 2.06-.94-2.06-.94L8.5 2.5l-.94 2.06-2.06.94zm10 10l.94 2.06.94-2.06 2.06-.94-2.06-.94-.94-2.06-.94 2.06-2.06.94z\"/><path d=\"M17.41 7.96l-1.37-1.37c-.4-.4-.92-.59-1.43-.59-.52 0-1.04.2-1.43.59L10.3 9.45l-7.72 7.72c-.78.78-.78 2.05 0 2.83L4 21.41c.39.39.9.59 1.41.59.51 0 1.02-.2 1.41-.59l7.78-7.78 2.81-2.81c.8-.78.8-2.07 0-2.86zM5.41 20L4 18.59l7.72-7.72 1.47 1.35L5.41 20z\"/>\n",
              "  </svg>\n",
              "      </button>\n",
              "      \n",
              "  <style>\n",
              "    .colab-df-container {\n",
              "      display:flex;\n",
              "      flex-wrap:wrap;\n",
              "      gap: 12px;\n",
              "    }\n",
              "\n",
              "    .colab-df-convert {\n",
              "      background-color: #E8F0FE;\n",
              "      border: none;\n",
              "      border-radius: 50%;\n",
              "      cursor: pointer;\n",
              "      display: none;\n",
              "      fill: #1967D2;\n",
              "      height: 32px;\n",
              "      padding: 0 0 0 0;\n",
              "      width: 32px;\n",
              "    }\n",
              "\n",
              "    .colab-df-convert:hover {\n",
              "      background-color: #E2EBFA;\n",
              "      box-shadow: 0px 1px 2px rgba(60, 64, 67, 0.3), 0px 1px 3px 1px rgba(60, 64, 67, 0.15);\n",
              "      fill: #174EA6;\n",
              "    }\n",
              "\n",
              "    [theme=dark] .colab-df-convert {\n",
              "      background-color: #3B4455;\n",
              "      fill: #D2E3FC;\n",
              "    }\n",
              "\n",
              "    [theme=dark] .colab-df-convert:hover {\n",
              "      background-color: #434B5C;\n",
              "      box-shadow: 0px 1px 3px 1px rgba(0, 0, 0, 0.15);\n",
              "      filter: drop-shadow(0px 1px 2px rgba(0, 0, 0, 0.3));\n",
              "      fill: #FFFFFF;\n",
              "    }\n",
              "  </style>\n",
              "\n",
              "      <script>\n",
              "        const buttonEl =\n",
              "          document.querySelector('#df-87591bfd-5f4e-4dc9-bf4f-ad918ee095e6 button.colab-df-convert');\n",
              "        buttonEl.style.display =\n",
              "          google.colab.kernel.accessAllowed ? 'block' : 'none';\n",
              "\n",
              "        async function convertToInteractive(key) {\n",
              "          const element = document.querySelector('#df-87591bfd-5f4e-4dc9-bf4f-ad918ee095e6');\n",
              "          const dataTable =\n",
              "            await google.colab.kernel.invokeFunction('convertToInteractive',\n",
              "                                                     [key], {});\n",
              "          if (!dataTable) return;\n",
              "\n",
              "          const docLinkHtml = 'Like what you see? Visit the ' +\n",
              "            '<a target=\"_blank\" href=https://colab.research.google.com/notebooks/data_table.ipynb>data table notebook</a>'\n",
              "            + ' to learn more about interactive tables.';\n",
              "          element.innerHTML = '';\n",
              "          dataTable['output_type'] = 'display_data';\n",
              "          await google.colab.output.renderOutput(dataTable, element);\n",
              "          const docLink = document.createElement('div');\n",
              "          docLink.innerHTML = docLinkHtml;\n",
              "          element.appendChild(docLink);\n",
              "        }\n",
              "      </script>\n",
              "    </div>\n",
              "  </div>\n",
              "  "
            ]
          },
          "metadata": {},
          "execution_count": 45
        }
      ],
      "source": [
        "\n",
        "every_other = df.iloc[2::2, 3::2]\n",
        "every_other"
      ]
    },
    {
      "cell_type": "code",
      "execution_count": null,
      "id": "ba67f1ff",
      "metadata": {
        "deletable": false,
        "editable": false,
        "id": "ba67f1ff",
        "colab": {
          "base_uri": "https://localhost:8080/",
          "height": 46
        },
        "outputId": "3a466d35-9d26-4cd7-b6db-b5a33b8b3164"
      },
      "outputs": [
        {
          "output_type": "execute_result",
          "data": {
            "text/plain": [
              "q7 results: All test cases passed!"
            ],
            "text/html": [
              "<p><strong><pre style='display: inline;'>q7</pre></strong> passed!</p>"
            ]
          },
          "metadata": {},
          "execution_count": 46
        }
      ],
      "source": [
        "grader.check(\"q7\")"
      ]
    },
    {
      "cell_type": "markdown",
      "id": "b71778a5",
      "metadata": {
        "id": "b71778a5"
      },
      "source": [
        "## Exercise 8 - Data Selection and Statistics \n",
        "\n",
        "Perform `mean()`, and `min()`  for first 10 data points. \n",
        "\n",
        "*Hint: remember df.head(10) returns the first 10 rows of the DataFrame*"
      ]
    },
    {
      "cell_type": "code",
      "execution_count": null,
      "id": "a2c8a11d",
      "metadata": {
        "id": "a2c8a11d",
        "tags": [],
        "colab": {
          "base_uri": "https://localhost:8080/"
        },
        "outputId": "6649f12d-f58c-46a8-f1f8-9d74e013d05e"
      },
      "outputs": [
        {
          "output_type": "stream",
          "name": "stderr",
          "text": [
            "/usr/local/lib/python3.7/dist-packages/ipykernel_launcher.py:1: FutureWarning: Dropping of nuisance columns in DataFrame reductions (with 'numeric_only=None') is deprecated; in a future version this will raise TypeError.  Select only valid columns before calling the reduction.\n",
            "  \"\"\"Entry point for launching an IPython kernel.\n"
          ]
        },
        {
          "output_type": "execute_result",
          "data": {
            "text/plain": [
              "mpg         15.6\n",
              "cyl          8.0\n",
              "disp       374.9\n",
              "wgt       3879.7\n",
              "acc         10.3\n",
              "year        70.0\n",
              "origin       1.0\n",
              "dtype: float64"
            ]
          },
          "metadata": {},
          "execution_count": 47
        }
      ],
      "source": [
        "meanVals = df[0:10].mean()\n",
        "meanVals"
      ]
    },
    {
      "cell_type": "code",
      "execution_count": null,
      "id": "8e06d0a8",
      "metadata": {
        "id": "8e06d0a8",
        "tags": [],
        "colab": {
          "base_uri": "https://localhost:8080/"
        },
        "outputId": "64888923-e1c9-45f7-e1b7-c1b3d868597b"
      },
      "outputs": [
        {
          "output_type": "execute_result",
          "data": {
            "text/plain": [
              "mpg                     14.0\n",
              "cyl                        8\n",
              "disp                   302.0\n",
              "hp                     130.0\n",
              "wgt                   3433.0\n",
              "acc                      8.5\n",
              "year                      70\n",
              "origin                     1\n",
              "name      amc ambassador dpl\n",
              "dtype: object"
            ]
          },
          "metadata": {},
          "execution_count": 48
        }
      ],
      "source": [
        "minVals = df[0:10].min()\n",
        "minVals"
      ]
    },
    {
      "cell_type": "code",
      "execution_count": null,
      "id": "3e04991d",
      "metadata": {
        "deletable": false,
        "editable": false,
        "id": "3e04991d",
        "colab": {
          "base_uri": "https://localhost:8080/",
          "height": 46
        },
        "outputId": "f1b4538a-35fd-4f60-90ca-8fe2235264d4"
      },
      "outputs": [
        {
          "output_type": "execute_result",
          "data": {
            "text/plain": [
              "q8 results: All test cases passed!"
            ],
            "text/html": [
              "<p><strong><pre style='display: inline;'>q8</pre></strong> passed!</p>"
            ]
          },
          "metadata": {},
          "execution_count": 49
        }
      ],
      "source": [
        "grader.check(\"q8\")"
      ]
    },
    {
      "cell_type": "markdown",
      "id": "83aaa529",
      "metadata": {
        "id": "83aaa529"
      },
      "source": [
        "## Exercise 9 - Data Selection and Statistics \n",
        "\n",
        "Group by column \"origin\" and find the median for the other variables. "
      ]
    },
    {
      "cell_type": "code",
      "execution_count": null,
      "id": "3ed4f78e",
      "metadata": {
        "id": "3ed4f78e",
        "tags": [],
        "colab": {
          "base_uri": "https://localhost:8080/",
          "height": 175
        },
        "outputId": "7db76cee-0df9-4908-8c25-d9e64e8fb1bd"
      },
      "outputs": [
        {
          "output_type": "execute_result",
          "data": {
            "text/plain": [
              "         mpg  cyl   disp     wgt   acc  year\n",
              "origin                                      \n",
              "1       18.5  6.0  250.0  3365.0  15.0  76.0\n",
              "2       26.5  4.0  104.5  2240.0  15.7  76.0\n",
              "3       31.6  4.0   97.0  2155.0  16.4  78.0"
            ],
            "text/html": [
              "\n",
              "  <div id=\"df-66979f6d-cf60-4d06-bd99-c689f470393c\">\n",
              "    <div class=\"colab-df-container\">\n",
              "      <div>\n",
              "<style scoped>\n",
              "    .dataframe tbody tr th:only-of-type {\n",
              "        vertical-align: middle;\n",
              "    }\n",
              "\n",
              "    .dataframe tbody tr th {\n",
              "        vertical-align: top;\n",
              "    }\n",
              "\n",
              "    .dataframe thead th {\n",
              "        text-align: right;\n",
              "    }\n",
              "</style>\n",
              "<table border=\"1\" class=\"dataframe\">\n",
              "  <thead>\n",
              "    <tr style=\"text-align: right;\">\n",
              "      <th></th>\n",
              "      <th>mpg</th>\n",
              "      <th>cyl</th>\n",
              "      <th>disp</th>\n",
              "      <th>wgt</th>\n",
              "      <th>acc</th>\n",
              "      <th>year</th>\n",
              "    </tr>\n",
              "    <tr>\n",
              "      <th>origin</th>\n",
              "      <th></th>\n",
              "      <th></th>\n",
              "      <th></th>\n",
              "      <th></th>\n",
              "      <th></th>\n",
              "      <th></th>\n",
              "    </tr>\n",
              "  </thead>\n",
              "  <tbody>\n",
              "    <tr>\n",
              "      <th>1</th>\n",
              "      <td>18.5</td>\n",
              "      <td>6.0</td>\n",
              "      <td>250.0</td>\n",
              "      <td>3365.0</td>\n",
              "      <td>15.0</td>\n",
              "      <td>76.0</td>\n",
              "    </tr>\n",
              "    <tr>\n",
              "      <th>2</th>\n",
              "      <td>26.5</td>\n",
              "      <td>4.0</td>\n",
              "      <td>104.5</td>\n",
              "      <td>2240.0</td>\n",
              "      <td>15.7</td>\n",
              "      <td>76.0</td>\n",
              "    </tr>\n",
              "    <tr>\n",
              "      <th>3</th>\n",
              "      <td>31.6</td>\n",
              "      <td>4.0</td>\n",
              "      <td>97.0</td>\n",
              "      <td>2155.0</td>\n",
              "      <td>16.4</td>\n",
              "      <td>78.0</td>\n",
              "    </tr>\n",
              "  </tbody>\n",
              "</table>\n",
              "</div>\n",
              "      <button class=\"colab-df-convert\" onclick=\"convertToInteractive('df-66979f6d-cf60-4d06-bd99-c689f470393c')\"\n",
              "              title=\"Convert this dataframe to an interactive table.\"\n",
              "              style=\"display:none;\">\n",
              "        \n",
              "  <svg xmlns=\"http://www.w3.org/2000/svg\" height=\"24px\"viewBox=\"0 0 24 24\"\n",
              "       width=\"24px\">\n",
              "    <path d=\"M0 0h24v24H0V0z\" fill=\"none\"/>\n",
              "    <path d=\"M18.56 5.44l.94 2.06.94-2.06 2.06-.94-2.06-.94-.94-2.06-.94 2.06-2.06.94zm-11 1L8.5 8.5l.94-2.06 2.06-.94-2.06-.94L8.5 2.5l-.94 2.06-2.06.94zm10 10l.94 2.06.94-2.06 2.06-.94-2.06-.94-.94-2.06-.94 2.06-2.06.94z\"/><path d=\"M17.41 7.96l-1.37-1.37c-.4-.4-.92-.59-1.43-.59-.52 0-1.04.2-1.43.59L10.3 9.45l-7.72 7.72c-.78.78-.78 2.05 0 2.83L4 21.41c.39.39.9.59 1.41.59.51 0 1.02-.2 1.41-.59l7.78-7.78 2.81-2.81c.8-.78.8-2.07 0-2.86zM5.41 20L4 18.59l7.72-7.72 1.47 1.35L5.41 20z\"/>\n",
              "  </svg>\n",
              "      </button>\n",
              "      \n",
              "  <style>\n",
              "    .colab-df-container {\n",
              "      display:flex;\n",
              "      flex-wrap:wrap;\n",
              "      gap: 12px;\n",
              "    }\n",
              "\n",
              "    .colab-df-convert {\n",
              "      background-color: #E8F0FE;\n",
              "      border: none;\n",
              "      border-radius: 50%;\n",
              "      cursor: pointer;\n",
              "      display: none;\n",
              "      fill: #1967D2;\n",
              "      height: 32px;\n",
              "      padding: 0 0 0 0;\n",
              "      width: 32px;\n",
              "    }\n",
              "\n",
              "    .colab-df-convert:hover {\n",
              "      background-color: #E2EBFA;\n",
              "      box-shadow: 0px 1px 2px rgba(60, 64, 67, 0.3), 0px 1px 3px 1px rgba(60, 64, 67, 0.15);\n",
              "      fill: #174EA6;\n",
              "    }\n",
              "\n",
              "    [theme=dark] .colab-df-convert {\n",
              "      background-color: #3B4455;\n",
              "      fill: #D2E3FC;\n",
              "    }\n",
              "\n",
              "    [theme=dark] .colab-df-convert:hover {\n",
              "      background-color: #434B5C;\n",
              "      box-shadow: 0px 1px 3px 1px rgba(0, 0, 0, 0.15);\n",
              "      filter: drop-shadow(0px 1px 2px rgba(0, 0, 0, 0.3));\n",
              "      fill: #FFFFFF;\n",
              "    }\n",
              "  </style>\n",
              "\n",
              "      <script>\n",
              "        const buttonEl =\n",
              "          document.querySelector('#df-66979f6d-cf60-4d06-bd99-c689f470393c button.colab-df-convert');\n",
              "        buttonEl.style.display =\n",
              "          google.colab.kernel.accessAllowed ? 'block' : 'none';\n",
              "\n",
              "        async function convertToInteractive(key) {\n",
              "          const element = document.querySelector('#df-66979f6d-cf60-4d06-bd99-c689f470393c');\n",
              "          const dataTable =\n",
              "            await google.colab.kernel.invokeFunction('convertToInteractive',\n",
              "                                                     [key], {});\n",
              "          if (!dataTable) return;\n",
              "\n",
              "          const docLinkHtml = 'Like what you see? Visit the ' +\n",
              "            '<a target=\"_blank\" href=https://colab.research.google.com/notebooks/data_table.ipynb>data table notebook</a>'\n",
              "            + ' to learn more about interactive tables.';\n",
              "          element.innerHTML = '';\n",
              "          dataTable['output_type'] = 'display_data';\n",
              "          await google.colab.output.renderOutput(dataTable, element);\n",
              "          const docLink = document.createElement('div');\n",
              "          docLink.innerHTML = docLinkHtml;\n",
              "          element.appendChild(docLink);\n",
              "        }\n",
              "      </script>\n",
              "    </div>\n",
              "  </div>\n",
              "  "
            ]
          },
          "metadata": {},
          "execution_count": 50
        }
      ],
      "source": [
        "group =  df.groupby('origin').median()\n",
        "group"
      ]
    },
    {
      "cell_type": "code",
      "execution_count": null,
      "id": "924e65d7",
      "metadata": {
        "deletable": false,
        "editable": false,
        "id": "924e65d7",
        "colab": {
          "base_uri": "https://localhost:8080/",
          "height": 46
        },
        "outputId": "7eee6473-3909-4ef5-e924-0bc60ef66c06"
      },
      "outputs": [
        {
          "output_type": "execute_result",
          "data": {
            "text/plain": [
              "q9 results: All test cases passed!"
            ],
            "text/html": [
              "<p><strong><pre style='display: inline;'>q9</pre></strong> passed!</p>"
            ]
          },
          "metadata": {},
          "execution_count": 51
        }
      ],
      "source": [
        "grader.check(\"q9\")"
      ]
    },
    {
      "cell_type": "markdown",
      "id": "a60c0c19",
      "metadata": {
        "id": "a60c0c19",
        "tags": []
      },
      "source": [
        "## Exercise 10 - Data Selection and Statistics \n",
        "\n",
        "Find the mean performance (across all variables) of vehicles after 1975. "
      ]
    },
    {
      "cell_type": "code",
      "execution_count": null,
      "id": "151b337d",
      "metadata": {
        "id": "151b337d",
        "tags": [],
        "colab": {
          "base_uri": "https://localhost:8080/"
        },
        "outputId": "ec7d67b9-3556-485f-c798-c006d0129a45"
      },
      "outputs": [
        {
          "output_type": "stream",
          "name": "stderr",
          "text": [
            "/usr/local/lib/python3.7/dist-packages/ipykernel_launcher.py:1: FutureWarning: Dropping of nuisance columns in DataFrame reductions (with 'numeric_only=None') is deprecated; in a future version this will raise TypeError.  Select only valid columns before calling the reduction.\n",
            "  \"\"\"Entry point for launching an IPython kernel.\n"
          ]
        },
        {
          "output_type": "execute_result",
          "data": {
            "text/plain": [
              "mpg         26.952778\n",
              "cyl          5.050926\n",
              "disp       165.541667\n",
              "wgt       2778.337963\n",
              "acc         16.118519\n",
              "year        78.935185\n",
              "origin       1.671296\n",
              "dtype: float64"
            ]
          },
          "metadata": {},
          "execution_count": 52
        }
      ],
      "source": [
        "mean_performance = df[df['year']>75].mean()\n",
        "mean_performance"
      ]
    },
    {
      "cell_type": "code",
      "execution_count": null,
      "id": "8d24c250",
      "metadata": {
        "deletable": false,
        "editable": false,
        "id": "8d24c250",
        "colab": {
          "base_uri": "https://localhost:8080/",
          "height": 46
        },
        "outputId": "8120f6b1-a488-46d6-cd02-8909009ed241"
      },
      "outputs": [
        {
          "output_type": "execute_result",
          "data": {
            "text/plain": [
              "q10 results: All test cases passed!"
            ],
            "text/html": [
              "<p><strong><pre style='display: inline;'>q10</pre></strong> passed!</p>"
            ]
          },
          "metadata": {},
          "execution_count": 53
        }
      ],
      "source": [
        "grader.check(\"q10\")"
      ]
    },
    {
      "cell_type": "markdown",
      "id": "9e243a49",
      "metadata": {
        "id": "9e243a49"
      },
      "source": [
        "# Lab - Week 2\n",
        "\n",
        "\n",
        "In this lab, you will explore using the statistical functions, exploratory data visualization, and basic data cleaning. "
      ]
    },
    {
      "cell_type": "markdown",
      "id": "d304597c",
      "metadata": {
        "id": "d304597c"
      },
      "source": [
        "### Data \n",
        "\n",
        "You will again be using the Auto-MPG data set available on the UCI repository. \n",
        "\n",
        "https://archive.ics.uci.edu/ml/datasets/Auto+MPG\n",
        "\n"
      ]
    },
    {
      "cell_type": "markdown",
      "id": "1c113de4",
      "metadata": {
        "id": "1c113de4",
        "tags": []
      },
      "source": [
        "## Exercise 1 - Import Data \n",
        "You will want to create a function to import the data \n",
        "\n",
        "* Function should be named \"ImportData\" and take a url to the data as its input\n",
        "* Column names should be: 'mpg', 'cylinders', 'displacement', 'horsepower', 'weight', 'acceleration', 'model year', 'origin', 'car name'\n",
        "* Set the DataFrame index (the row labels) to 'car name'\n",
        "\n",
        "Helpful links: \n",
        "\n",
        "* https://pandas.pydata.org/pandas-docs/stable/generated/pandas.read_csv.html#pandas.read_csv\n",
        "* https://pandas.pydata.org/pandas-docs/stable/generated/pandas.read_table.html#pandas.read_table"
      ]
    },
    {
      "cell_type": "code",
      "execution_count": null,
      "id": "a574856e",
      "metadata": {
        "id": "a574856e",
        "tags": [],
        "colab": {
          "base_uri": "https://localhost:8080/",
          "height": 206
        },
        "outputId": "58528549-ede3-4540-8066-cb918b867a68"
      },
      "outputs": [
        {
          "output_type": "execute_result",
          "data": {
            "text/plain": [
              "    mpg  cyl   disp     hp     wgt   acc  year  origin  \\\n",
              "0  18.0    8  307.0  130.0  3504.0  12.0    70       1   \n",
              "1  15.0    8  350.0  165.0  3693.0  11.5    70       1   \n",
              "2  18.0    8  318.0  150.0  3436.0  11.0    70       1   \n",
              "3  16.0    8  304.0  150.0  3433.0  12.0    70       1   \n",
              "4  17.0    8  302.0  140.0  3449.0  10.5    70       1   \n",
              "\n",
              "                        name  \n",
              "0  chevrolet chevelle malibu  \n",
              "1          buick skylark 320  \n",
              "2         plymouth satellite  \n",
              "3              amc rebel sst  \n",
              "4                ford torino  "
            ],
            "text/html": [
              "\n",
              "  <div id=\"df-cb0c16f9-0e18-49aa-b65b-4951a822142c\">\n",
              "    <div class=\"colab-df-container\">\n",
              "      <div>\n",
              "<style scoped>\n",
              "    .dataframe tbody tr th:only-of-type {\n",
              "        vertical-align: middle;\n",
              "    }\n",
              "\n",
              "    .dataframe tbody tr th {\n",
              "        vertical-align: top;\n",
              "    }\n",
              "\n",
              "    .dataframe thead th {\n",
              "        text-align: right;\n",
              "    }\n",
              "</style>\n",
              "<table border=\"1\" class=\"dataframe\">\n",
              "  <thead>\n",
              "    <tr style=\"text-align: right;\">\n",
              "      <th></th>\n",
              "      <th>mpg</th>\n",
              "      <th>cyl</th>\n",
              "      <th>disp</th>\n",
              "      <th>hp</th>\n",
              "      <th>wgt</th>\n",
              "      <th>acc</th>\n",
              "      <th>year</th>\n",
              "      <th>origin</th>\n",
              "      <th>name</th>\n",
              "    </tr>\n",
              "  </thead>\n",
              "  <tbody>\n",
              "    <tr>\n",
              "      <th>0</th>\n",
              "      <td>18.0</td>\n",
              "      <td>8</td>\n",
              "      <td>307.0</td>\n",
              "      <td>130.0</td>\n",
              "      <td>3504.0</td>\n",
              "      <td>12.0</td>\n",
              "      <td>70</td>\n",
              "      <td>1</td>\n",
              "      <td>chevrolet chevelle malibu</td>\n",
              "    </tr>\n",
              "    <tr>\n",
              "      <th>1</th>\n",
              "      <td>15.0</td>\n",
              "      <td>8</td>\n",
              "      <td>350.0</td>\n",
              "      <td>165.0</td>\n",
              "      <td>3693.0</td>\n",
              "      <td>11.5</td>\n",
              "      <td>70</td>\n",
              "      <td>1</td>\n",
              "      <td>buick skylark 320</td>\n",
              "    </tr>\n",
              "    <tr>\n",
              "      <th>2</th>\n",
              "      <td>18.0</td>\n",
              "      <td>8</td>\n",
              "      <td>318.0</td>\n",
              "      <td>150.0</td>\n",
              "      <td>3436.0</td>\n",
              "      <td>11.0</td>\n",
              "      <td>70</td>\n",
              "      <td>1</td>\n",
              "      <td>plymouth satellite</td>\n",
              "    </tr>\n",
              "    <tr>\n",
              "      <th>3</th>\n",
              "      <td>16.0</td>\n",
              "      <td>8</td>\n",
              "      <td>304.0</td>\n",
              "      <td>150.0</td>\n",
              "      <td>3433.0</td>\n",
              "      <td>12.0</td>\n",
              "      <td>70</td>\n",
              "      <td>1</td>\n",
              "      <td>amc rebel sst</td>\n",
              "    </tr>\n",
              "    <tr>\n",
              "      <th>4</th>\n",
              "      <td>17.0</td>\n",
              "      <td>8</td>\n",
              "      <td>302.0</td>\n",
              "      <td>140.0</td>\n",
              "      <td>3449.0</td>\n",
              "      <td>10.5</td>\n",
              "      <td>70</td>\n",
              "      <td>1</td>\n",
              "      <td>ford torino</td>\n",
              "    </tr>\n",
              "  </tbody>\n",
              "</table>\n",
              "</div>\n",
              "      <button class=\"colab-df-convert\" onclick=\"convertToInteractive('df-cb0c16f9-0e18-49aa-b65b-4951a822142c')\"\n",
              "              title=\"Convert this dataframe to an interactive table.\"\n",
              "              style=\"display:none;\">\n",
              "        \n",
              "  <svg xmlns=\"http://www.w3.org/2000/svg\" height=\"24px\"viewBox=\"0 0 24 24\"\n",
              "       width=\"24px\">\n",
              "    <path d=\"M0 0h24v24H0V0z\" fill=\"none\"/>\n",
              "    <path d=\"M18.56 5.44l.94 2.06.94-2.06 2.06-.94-2.06-.94-.94-2.06-.94 2.06-2.06.94zm-11 1L8.5 8.5l.94-2.06 2.06-.94-2.06-.94L8.5 2.5l-.94 2.06-2.06.94zm10 10l.94 2.06.94-2.06 2.06-.94-2.06-.94-.94-2.06-.94 2.06-2.06.94z\"/><path d=\"M17.41 7.96l-1.37-1.37c-.4-.4-.92-.59-1.43-.59-.52 0-1.04.2-1.43.59L10.3 9.45l-7.72 7.72c-.78.78-.78 2.05 0 2.83L4 21.41c.39.39.9.59 1.41.59.51 0 1.02-.2 1.41-.59l7.78-7.78 2.81-2.81c.8-.78.8-2.07 0-2.86zM5.41 20L4 18.59l7.72-7.72 1.47 1.35L5.41 20z\"/>\n",
              "  </svg>\n",
              "      </button>\n",
              "      \n",
              "  <style>\n",
              "    .colab-df-container {\n",
              "      display:flex;\n",
              "      flex-wrap:wrap;\n",
              "      gap: 12px;\n",
              "    }\n",
              "\n",
              "    .colab-df-convert {\n",
              "      background-color: #E8F0FE;\n",
              "      border: none;\n",
              "      border-radius: 50%;\n",
              "      cursor: pointer;\n",
              "      display: none;\n",
              "      fill: #1967D2;\n",
              "      height: 32px;\n",
              "      padding: 0 0 0 0;\n",
              "      width: 32px;\n",
              "    }\n",
              "\n",
              "    .colab-df-convert:hover {\n",
              "      background-color: #E2EBFA;\n",
              "      box-shadow: 0px 1px 2px rgba(60, 64, 67, 0.3), 0px 1px 3px 1px rgba(60, 64, 67, 0.15);\n",
              "      fill: #174EA6;\n",
              "    }\n",
              "\n",
              "    [theme=dark] .colab-df-convert {\n",
              "      background-color: #3B4455;\n",
              "      fill: #D2E3FC;\n",
              "    }\n",
              "\n",
              "    [theme=dark] .colab-df-convert:hover {\n",
              "      background-color: #434B5C;\n",
              "      box-shadow: 0px 1px 3px 1px rgba(0, 0, 0, 0.15);\n",
              "      filter: drop-shadow(0px 1px 2px rgba(0, 0, 0, 0.3));\n",
              "      fill: #FFFFFF;\n",
              "    }\n",
              "  </style>\n",
              "\n",
              "      <script>\n",
              "        const buttonEl =\n",
              "          document.querySelector('#df-cb0c16f9-0e18-49aa-b65b-4951a822142c button.colab-df-convert');\n",
              "        buttonEl.style.display =\n",
              "          google.colab.kernel.accessAllowed ? 'block' : 'none';\n",
              "\n",
              "        async function convertToInteractive(key) {\n",
              "          const element = document.querySelector('#df-cb0c16f9-0e18-49aa-b65b-4951a822142c');\n",
              "          const dataTable =\n",
              "            await google.colab.kernel.invokeFunction('convertToInteractive',\n",
              "                                                     [key], {});\n",
              "          if (!dataTable) return;\n",
              "\n",
              "          const docLinkHtml = 'Like what you see? Visit the ' +\n",
              "            '<a target=\"_blank\" href=https://colab.research.google.com/notebooks/data_table.ipynb>data table notebook</a>'\n",
              "            + ' to learn more about interactive tables.';\n",
              "          element.innerHTML = '';\n",
              "          dataTable['output_type'] = 'display_data';\n",
              "          await google.colab.output.renderOutput(dataTable, element);\n",
              "          const docLink = document.createElement('div');\n",
              "          docLink.innerHTML = docLinkHtml;\n",
              "          element.appendChild(docLink);\n",
              "        }\n",
              "      </script>\n",
              "    </div>\n",
              "  </div>\n",
              "  "
            ]
          },
          "metadata": {},
          "execution_count": 54
        }
      ],
      "source": [
        "# Create the function ImportData here and return the data \n",
        "\n",
        "def ImportData(url):\n",
        "    # return the created DataFrame, df \n",
        "    \n",
        "    return df\n",
        "\n",
        "url = 'https://archive.ics.uci.edu/ml/machine-learning-databases/auto-mpg/auto-mpg.data'  \n",
        "data = ImportData(url)\n",
        "#data.columns = ['mpg', 'cylinders', 'displacement', 'horsepower', 'weight', 'acceleration', 'model year', 'origin', 'car name']\n",
        "#data = data.set_index('car name')\n",
        "data.head()\n"
      ]
    },
    {
      "cell_type": "code",
      "execution_count": null,
      "id": "943d0108",
      "metadata": {
        "id": "943d0108",
        "tags": [],
        "colab": {
          "base_uri": "https://localhost:8080/"
        },
        "outputId": "bed15f69-1ba7-4737-86fc-f65b0d54ae04"
      },
      "outputs": [
        {
          "output_type": "execute_result",
          "data": {
            "text/plain": [
              "(398, 9)"
            ]
          },
          "metadata": {},
          "execution_count": 55
        }
      ],
      "source": [
        "data.shape"
      ]
    },
    {
      "cell_type": "code",
      "execution_count": null,
      "id": "72e7f320",
      "metadata": {
        "deletable": false,
        "editable": false,
        "id": "72e7f320",
        "colab": {
          "base_uri": "https://localhost:8080/",
          "height": 46
        },
        "outputId": "c8512d29-1948-48d1-d1d8-ae23ac26272a"
      },
      "outputs": [
        {
          "output_type": "execute_result",
          "data": {
            "text/plain": [
              "q11 results: All test cases passed!"
            ],
            "text/html": [
              "<p><strong><pre style='display: inline;'>q11</pre></strong> passed!</p>"
            ]
          },
          "metadata": {},
          "execution_count": 56
        }
      ],
      "source": [
        "grader.check(\"q11\")"
      ]
    },
    {
      "cell_type": "markdown",
      "id": "19ee63c7",
      "metadata": {
        "id": "19ee63c7"
      },
      "source": [
        "## Exercise 2: Data Cleaning \n",
        "\n",
        "The data cleaning part will have multiple goals: to handle any missing data and to process the string data to remove spaces and replace with an underscore. \n",
        "\n",
        "You will create a function, named ColDataClean(data) that:\n",
        "\n",
        "* Identify any Null/NA/NaN entries in the DataFrame, print out what entries will be removed, and remove them \n",
        "* Change the column labels (headers) from all lower case to sentence case and then replace \"space\" with underscore, \"_\". Print the column headers before and after.\n",
        "* Change the DataFrame index (row labels) also be sentence case and replace all spaces with underscore"
      ]
    },
    {
      "cell_type": "code",
      "execution_count": null,
      "id": "829c28f6",
      "metadata": {
        "id": "829c28f6",
        "tags": [],
        "colab": {
          "base_uri": "https://localhost:8080/",
          "height": 1000
        },
        "outputId": "916e789f-8ede-49b7-c4d4-2783c4990c44"
      },
      "outputs": [
        {
          "output_type": "stream",
          "name": "stdout",
          "text": [
            "*** Removing null entries ***\n",
            "\n",
            "*** String Operations on Column Headers ***\n",
            "  Before:  Index(['mpg', 'cylinders', 'displacement', 'horsepower', 'weight',\n",
            "       'acceleration', 'model year', 'origin', 'car name'],\n",
            "      dtype='object')\n",
            "  Aftedata[data['hp'].isnull()].index.tolist()r:  Index(['Mpg', 'Cylinders', 'Displacement', 'Horsepower', 'Weight',\n",
            "       'Acceleration', 'Model_Year', 'Origin', 'Car_Name'],\n",
            "      dtype='object')\n",
            "*** String Operations on index strings *** \n"
          ]
        },
        {
          "output_type": "stream",
          "name": "stderr",
          "text": [
            "/usr/local/lib/python3.7/dist-packages/ipykernel_launcher.py:15: FutureWarning: The default value of regex will change from True to False in a future version.\n",
            "  from ipykernel import kernelapp as app\n",
            "/usr/local/lib/python3.7/dist-packages/ipykernel_launcher.py:19: FutureWarning: The default value of regex will change from True to False in a future version.\n"
          ]
        },
        {
          "output_type": "execute_result",
          "data": {
            "text/plain": [
              "                                    Mpg  Cylinders  Displacement Horsepower  \\\n",
              "Car_Name                                                                      \n",
              "Chevrolet_Cavalier_Wagon           27.0          4         112.0      88.00   \n",
              "Chevrolet_Cavalier_2-Door          34.0          4         112.0      88.00   \n",
              "Pontiac_J2000_Se_Hatchback         31.0          4         112.0      85.00   \n",
              "Dodge_Aries_Se                     29.0          4         135.0      84.00   \n",
              "Pontiac_Phoenix                    27.0          4         151.0      90.00   \n",
              "Ford_Fairmont_Futura               24.0          4         140.0      92.00   \n",
              "Amc_Concord_Dl                     23.0          4         151.0          ?   \n",
              "Volkswagen_Rabbit_L                36.0          4         105.0      74.00   \n",
              "Mazda_Glc_Custom_L                 37.0          4          91.0      68.00   \n",
              "Mazda_Glc_Custom                   31.0          4          91.0      68.00   \n",
              "Plymouth_Horizon_Miser             38.0          4         105.0      63.00   \n",
              "Mercury_Lynx_L                     36.0          4          98.0      70.00   \n",
              "Nissan_Stanza_Xe                   36.0          4         120.0      88.00   \n",
              "Honda_Accord                       36.0          4         107.0      75.00   \n",
              "Toyota_Corolla                     34.0          4         108.0      70.00   \n",
              "Honda_Civic                        38.0          4          91.0      67.00   \n",
              "Honda_Civic_(Auto)                 32.0          4          91.0      67.00   \n",
              "Datsun_310_Gx                      38.0          4          91.0      67.00   \n",
              "Buick_Century_Limited              25.0          6         181.0      110.0   \n",
              "Oldsmobile_Cutlass_Ciera_(Diesel)  38.0          6         262.0      85.00   \n",
              "Chrysler_Lebaron_Medallion         26.0          4         156.0      92.00   \n",
              "Ford_Granada_L                     22.0          6         232.0      112.0   \n",
              "Toyota_Celica_Gt                   32.0          4         144.0      96.00   \n",
              "Dodge_Charger_2.2                  36.0          4         135.0      84.00   \n",
              "Chevrolet_Camaro                   27.0          4         151.0      90.00   \n",
              "Ford_Mustang_Gl                    27.0          4         140.0      86.00   \n",
              "Vw_Pickup                          44.0          4          97.0      52.00   \n",
              "Dodge_Rampage                      32.0          4         135.0      84.00   \n",
              "Ford_Ranger                        28.0          4         120.0      79.00   \n",
              "Chevy_S-10                         31.0          4         119.0      82.00   \n",
              "\n",
              "                                   Weight  Acceleration  Model_Year  Origin  \\\n",
              "Car_Name                                                                      \n",
              "Chevrolet_Cavalier_Wagon           2640.0          18.6          82       1   \n",
              "Chevrolet_Cavalier_2-Door          2395.0          18.0          82       1   \n",
              "Pontiac_J2000_Se_Hatchback         2575.0          16.2          82       1   \n",
              "Dodge_Aries_Se                     2525.0          16.0          82       1   \n",
              "Pontiac_Phoenix                    2735.0          18.0          82       1   \n",
              "Ford_Fairmont_Futura               2865.0          16.4          82       1   \n",
              "Amc_Concord_Dl                     3035.0          20.5          82       1   \n",
              "Volkswagen_Rabbit_L                1980.0          15.3          82       2   \n",
              "Mazda_Glc_Custom_L                 2025.0          18.2          82       3   \n",
              "Mazda_Glc_Custom                   1970.0          17.6          82       3   \n",
              "Plymouth_Horizon_Miser             2125.0          14.7          82       1   \n",
              "Mercury_Lynx_L                     2125.0          17.3          82       1   \n",
              "Nissan_Stanza_Xe                   2160.0          14.5          82       3   \n",
              "Honda_Accord                       2205.0          14.5          82       3   \n",
              "Toyota_Corolla                     2245.0          16.9          82       3   \n",
              "Honda_Civic                        1965.0          15.0          82       3   \n",
              "Honda_Civic_(Auto)                 1965.0          15.7          82       3   \n",
              "Datsun_310_Gx                      1995.0          16.2          82       3   \n",
              "Buick_Century_Limited              2945.0          16.4          82       1   \n",
              "Oldsmobile_Cutlass_Ciera_(Diesel)  3015.0          17.0          82       1   \n",
              "Chrysler_Lebaron_Medallion         2585.0          14.5          82       1   \n",
              "Ford_Granada_L                     2835.0          14.7          82       1   \n",
              "Toyota_Celica_Gt                   2665.0          13.9          82       3   \n",
              "Dodge_Charger_2.2                  2370.0          13.0          82       1   \n",
              "Chevrolet_Camaro                   2950.0          17.3          82       1   \n",
              "Ford_Mustang_Gl                    2790.0          15.6          82       1   \n",
              "Vw_Pickup                          2130.0          24.6          82       2   \n",
              "Dodge_Rampage                      2295.0          11.6          82       1   \n",
              "Ford_Ranger                        2625.0          18.6          82       1   \n",
              "Chevy_S-10                         2720.0          19.4          82       1   \n",
              "\n",
              "                                                            Car_Name  \n",
              "Car_Name                                                              \n",
              "Chevrolet_Cavalier_Wagon                    Chevrolet_Cavalier_Wagon  \n",
              "Chevrolet_Cavalier_2-Door                  Chevrolet_Cavalier_2-Door  \n",
              "Pontiac_J2000_Se_Hatchback                Pontiac_J2000_Se_Hatchback  \n",
              "Dodge_Aries_Se                                        Dodge_Aries_Se  \n",
              "Pontiac_Phoenix                                      Pontiac_Phoenix  \n",
              "Ford_Fairmont_Futura                            Ford_Fairmont_Futura  \n",
              "Amc_Concord_Dl                                        Amc_Concord_Dl  \n",
              "Volkswagen_Rabbit_L                              Volkswagen_Rabbit_L  \n",
              "Mazda_Glc_Custom_L                                Mazda_Glc_Custom_L  \n",
              "Mazda_Glc_Custom                                    Mazda_Glc_Custom  \n",
              "Plymouth_Horizon_Miser                        Plymouth_Horizon_Miser  \n",
              "Mercury_Lynx_L                                        Mercury_Lynx_L  \n",
              "Nissan_Stanza_Xe                                    Nissan_Stanza_Xe  \n",
              "Honda_Accord                                            Honda_Accord  \n",
              "Toyota_Corolla                                        Toyota_Corolla  \n",
              "Honda_Civic                                              Honda_Civic  \n",
              "Honda_Civic_(Auto)                                Honda_Civic_(Auto)  \n",
              "Datsun_310_Gx                                          Datsun_310_Gx  \n",
              "Buick_Century_Limited                          Buick_Century_Limited  \n",
              "Oldsmobile_Cutlass_Ciera_(Diesel)  Oldsmobile_Cutlass_Ciera_(Diesel)  \n",
              "Chrysler_Lebaron_Medallion                Chrysler_Lebaron_Medallion  \n",
              "Ford_Granada_L                                        Ford_Granada_L  \n",
              "Toyota_Celica_Gt                                    Toyota_Celica_Gt  \n",
              "Dodge_Charger_2.2                                  Dodge_Charger_2.2  \n",
              "Chevrolet_Camaro                                    Chevrolet_Camaro  \n",
              "Ford_Mustang_Gl                                      Ford_Mustang_Gl  \n",
              "Vw_Pickup                                                  Vw_Pickup  \n",
              "Dodge_Rampage                                          Dodge_Rampage  \n",
              "Ford_Ranger                                              Ford_Ranger  \n",
              "Chevy_S-10                                                Chevy_S-10  "
            ],
            "text/html": [
              "\n",
              "  <div id=\"df-9dbb9b3d-cab7-4b29-bad9-a1ad293ef03d\">\n",
              "    <div class=\"colab-df-container\">\n",
              "      <div>\n",
              "<style scoped>\n",
              "    .dataframe tbody tr th:only-of-type {\n",
              "        vertical-align: middle;\n",
              "    }\n",
              "\n",
              "    .dataframe tbody tr th {\n",
              "        vertical-align: top;\n",
              "    }\n",
              "\n",
              "    .dataframe thead th {\n",
              "        text-align: right;\n",
              "    }\n",
              "</style>\n",
              "<table border=\"1\" class=\"dataframe\">\n",
              "  <thead>\n",
              "    <tr style=\"text-align: right;\">\n",
              "      <th></th>\n",
              "      <th>Mpg</th>\n",
              "      <th>Cylinders</th>\n",
              "      <th>Displacement</th>\n",
              "      <th>Horsepower</th>\n",
              "      <th>Weight</th>\n",
              "      <th>Acceleration</th>\n",
              "      <th>Model_Year</th>\n",
              "      <th>Origin</th>\n",
              "      <th>Car_Name</th>\n",
              "    </tr>\n",
              "    <tr>\n",
              "      <th>Car_Name</th>\n",
              "      <th></th>\n",
              "      <th></th>\n",
              "      <th></th>\n",
              "      <th></th>\n",
              "      <th></th>\n",
              "      <th></th>\n",
              "      <th></th>\n",
              "      <th></th>\n",
              "      <th></th>\n",
              "    </tr>\n",
              "  </thead>\n",
              "  <tbody>\n",
              "    <tr>\n",
              "      <th>Chevrolet_Cavalier_Wagon</th>\n",
              "      <td>27.0</td>\n",
              "      <td>4</td>\n",
              "      <td>112.0</td>\n",
              "      <td>88.00</td>\n",
              "      <td>2640.0</td>\n",
              "      <td>18.6</td>\n",
              "      <td>82</td>\n",
              "      <td>1</td>\n",
              "      <td>Chevrolet_Cavalier_Wagon</td>\n",
              "    </tr>\n",
              "    <tr>\n",
              "      <th>Chevrolet_Cavalier_2-Door</th>\n",
              "      <td>34.0</td>\n",
              "      <td>4</td>\n",
              "      <td>112.0</td>\n",
              "      <td>88.00</td>\n",
              "      <td>2395.0</td>\n",
              "      <td>18.0</td>\n",
              "      <td>82</td>\n",
              "      <td>1</td>\n",
              "      <td>Chevrolet_Cavalier_2-Door</td>\n",
              "    </tr>\n",
              "    <tr>\n",
              "      <th>Pontiac_J2000_Se_Hatchback</th>\n",
              "      <td>31.0</td>\n",
              "      <td>4</td>\n",
              "      <td>112.0</td>\n",
              "      <td>85.00</td>\n",
              "      <td>2575.0</td>\n",
              "      <td>16.2</td>\n",
              "      <td>82</td>\n",
              "      <td>1</td>\n",
              "      <td>Pontiac_J2000_Se_Hatchback</td>\n",
              "    </tr>\n",
              "    <tr>\n",
              "      <th>Dodge_Aries_Se</th>\n",
              "      <td>29.0</td>\n",
              "      <td>4</td>\n",
              "      <td>135.0</td>\n",
              "      <td>84.00</td>\n",
              "      <td>2525.0</td>\n",
              "      <td>16.0</td>\n",
              "      <td>82</td>\n",
              "      <td>1</td>\n",
              "      <td>Dodge_Aries_Se</td>\n",
              "    </tr>\n",
              "    <tr>\n",
              "      <th>Pontiac_Phoenix</th>\n",
              "      <td>27.0</td>\n",
              "      <td>4</td>\n",
              "      <td>151.0</td>\n",
              "      <td>90.00</td>\n",
              "      <td>2735.0</td>\n",
              "      <td>18.0</td>\n",
              "      <td>82</td>\n",
              "      <td>1</td>\n",
              "      <td>Pontiac_Phoenix</td>\n",
              "    </tr>\n",
              "    <tr>\n",
              "      <th>Ford_Fairmont_Futura</th>\n",
              "      <td>24.0</td>\n",
              "      <td>4</td>\n",
              "      <td>140.0</td>\n",
              "      <td>92.00</td>\n",
              "      <td>2865.0</td>\n",
              "      <td>16.4</td>\n",
              "      <td>82</td>\n",
              "      <td>1</td>\n",
              "      <td>Ford_Fairmont_Futura</td>\n",
              "    </tr>\n",
              "    <tr>\n",
              "      <th>Amc_Concord_Dl</th>\n",
              "      <td>23.0</td>\n",
              "      <td>4</td>\n",
              "      <td>151.0</td>\n",
              "      <td>?</td>\n",
              "      <td>3035.0</td>\n",
              "      <td>20.5</td>\n",
              "      <td>82</td>\n",
              "      <td>1</td>\n",
              "      <td>Amc_Concord_Dl</td>\n",
              "    </tr>\n",
              "    <tr>\n",
              "      <th>Volkswagen_Rabbit_L</th>\n",
              "      <td>36.0</td>\n",
              "      <td>4</td>\n",
              "      <td>105.0</td>\n",
              "      <td>74.00</td>\n",
              "      <td>1980.0</td>\n",
              "      <td>15.3</td>\n",
              "      <td>82</td>\n",
              "      <td>2</td>\n",
              "      <td>Volkswagen_Rabbit_L</td>\n",
              "    </tr>\n",
              "    <tr>\n",
              "      <th>Mazda_Glc_Custom_L</th>\n",
              "      <td>37.0</td>\n",
              "      <td>4</td>\n",
              "      <td>91.0</td>\n",
              "      <td>68.00</td>\n",
              "      <td>2025.0</td>\n",
              "      <td>18.2</td>\n",
              "      <td>82</td>\n",
              "      <td>3</td>\n",
              "      <td>Mazda_Glc_Custom_L</td>\n",
              "    </tr>\n",
              "    <tr>\n",
              "      <th>Mazda_Glc_Custom</th>\n",
              "      <td>31.0</td>\n",
              "      <td>4</td>\n",
              "      <td>91.0</td>\n",
              "      <td>68.00</td>\n",
              "      <td>1970.0</td>\n",
              "      <td>17.6</td>\n",
              "      <td>82</td>\n",
              "      <td>3</td>\n",
              "      <td>Mazda_Glc_Custom</td>\n",
              "    </tr>\n",
              "    <tr>\n",
              "      <th>Plymouth_Horizon_Miser</th>\n",
              "      <td>38.0</td>\n",
              "      <td>4</td>\n",
              "      <td>105.0</td>\n",
              "      <td>63.00</td>\n",
              "      <td>2125.0</td>\n",
              "      <td>14.7</td>\n",
              "      <td>82</td>\n",
              "      <td>1</td>\n",
              "      <td>Plymouth_Horizon_Miser</td>\n",
              "    </tr>\n",
              "    <tr>\n",
              "      <th>Mercury_Lynx_L</th>\n",
              "      <td>36.0</td>\n",
              "      <td>4</td>\n",
              "      <td>98.0</td>\n",
              "      <td>70.00</td>\n",
              "      <td>2125.0</td>\n",
              "      <td>17.3</td>\n",
              "      <td>82</td>\n",
              "      <td>1</td>\n",
              "      <td>Mercury_Lynx_L</td>\n",
              "    </tr>\n",
              "    <tr>\n",
              "      <th>Nissan_Stanza_Xe</th>\n",
              "      <td>36.0</td>\n",
              "      <td>4</td>\n",
              "      <td>120.0</td>\n",
              "      <td>88.00</td>\n",
              "      <td>2160.0</td>\n",
              "      <td>14.5</td>\n",
              "      <td>82</td>\n",
              "      <td>3</td>\n",
              "      <td>Nissan_Stanza_Xe</td>\n",
              "    </tr>\n",
              "    <tr>\n",
              "      <th>Honda_Accord</th>\n",
              "      <td>36.0</td>\n",
              "      <td>4</td>\n",
              "      <td>107.0</td>\n",
              "      <td>75.00</td>\n",
              "      <td>2205.0</td>\n",
              "      <td>14.5</td>\n",
              "      <td>82</td>\n",
              "      <td>3</td>\n",
              "      <td>Honda_Accord</td>\n",
              "    </tr>\n",
              "    <tr>\n",
              "      <th>Toyota_Corolla</th>\n",
              "      <td>34.0</td>\n",
              "      <td>4</td>\n",
              "      <td>108.0</td>\n",
              "      <td>70.00</td>\n",
              "      <td>2245.0</td>\n",
              "      <td>16.9</td>\n",
              "      <td>82</td>\n",
              "      <td>3</td>\n",
              "      <td>Toyota_Corolla</td>\n",
              "    </tr>\n",
              "    <tr>\n",
              "      <th>Honda_Civic</th>\n",
              "      <td>38.0</td>\n",
              "      <td>4</td>\n",
              "      <td>91.0</td>\n",
              "      <td>67.00</td>\n",
              "      <td>1965.0</td>\n",
              "      <td>15.0</td>\n",
              "      <td>82</td>\n",
              "      <td>3</td>\n",
              "      <td>Honda_Civic</td>\n",
              "    </tr>\n",
              "    <tr>\n",
              "      <th>Honda_Civic_(Auto)</th>\n",
              "      <td>32.0</td>\n",
              "      <td>4</td>\n",
              "      <td>91.0</td>\n",
              "      <td>67.00</td>\n",
              "      <td>1965.0</td>\n",
              "      <td>15.7</td>\n",
              "      <td>82</td>\n",
              "      <td>3</td>\n",
              "      <td>Honda_Civic_(Auto)</td>\n",
              "    </tr>\n",
              "    <tr>\n",
              "      <th>Datsun_310_Gx</th>\n",
              "      <td>38.0</td>\n",
              "      <td>4</td>\n",
              "      <td>91.0</td>\n",
              "      <td>67.00</td>\n",
              "      <td>1995.0</td>\n",
              "      <td>16.2</td>\n",
              "      <td>82</td>\n",
              "      <td>3</td>\n",
              "      <td>Datsun_310_Gx</td>\n",
              "    </tr>\n",
              "    <tr>\n",
              "      <th>Buick_Century_Limited</th>\n",
              "      <td>25.0</td>\n",
              "      <td>6</td>\n",
              "      <td>181.0</td>\n",
              "      <td>110.0</td>\n",
              "      <td>2945.0</td>\n",
              "      <td>16.4</td>\n",
              "      <td>82</td>\n",
              "      <td>1</td>\n",
              "      <td>Buick_Century_Limited</td>\n",
              "    </tr>\n",
              "    <tr>\n",
              "      <th>Oldsmobile_Cutlass_Ciera_(Diesel)</th>\n",
              "      <td>38.0</td>\n",
              "      <td>6</td>\n",
              "      <td>262.0</td>\n",
              "      <td>85.00</td>\n",
              "      <td>3015.0</td>\n",
              "      <td>17.0</td>\n",
              "      <td>82</td>\n",
              "      <td>1</td>\n",
              "      <td>Oldsmobile_Cutlass_Ciera_(Diesel)</td>\n",
              "    </tr>\n",
              "    <tr>\n",
              "      <th>Chrysler_Lebaron_Medallion</th>\n",
              "      <td>26.0</td>\n",
              "      <td>4</td>\n",
              "      <td>156.0</td>\n",
              "      <td>92.00</td>\n",
              "      <td>2585.0</td>\n",
              "      <td>14.5</td>\n",
              "      <td>82</td>\n",
              "      <td>1</td>\n",
              "      <td>Chrysler_Lebaron_Medallion</td>\n",
              "    </tr>\n",
              "    <tr>\n",
              "      <th>Ford_Granada_L</th>\n",
              "      <td>22.0</td>\n",
              "      <td>6</td>\n",
              "      <td>232.0</td>\n",
              "      <td>112.0</td>\n",
              "      <td>2835.0</td>\n",
              "      <td>14.7</td>\n",
              "      <td>82</td>\n",
              "      <td>1</td>\n",
              "      <td>Ford_Granada_L</td>\n",
              "    </tr>\n",
              "    <tr>\n",
              "      <th>Toyota_Celica_Gt</th>\n",
              "      <td>32.0</td>\n",
              "      <td>4</td>\n",
              "      <td>144.0</td>\n",
              "      <td>96.00</td>\n",
              "      <td>2665.0</td>\n",
              "      <td>13.9</td>\n",
              "      <td>82</td>\n",
              "      <td>3</td>\n",
              "      <td>Toyota_Celica_Gt</td>\n",
              "    </tr>\n",
              "    <tr>\n",
              "      <th>Dodge_Charger_2.2</th>\n",
              "      <td>36.0</td>\n",
              "      <td>4</td>\n",
              "      <td>135.0</td>\n",
              "      <td>84.00</td>\n",
              "      <td>2370.0</td>\n",
              "      <td>13.0</td>\n",
              "      <td>82</td>\n",
              "      <td>1</td>\n",
              "      <td>Dodge_Charger_2.2</td>\n",
              "    </tr>\n",
              "    <tr>\n",
              "      <th>Chevrolet_Camaro</th>\n",
              "      <td>27.0</td>\n",
              "      <td>4</td>\n",
              "      <td>151.0</td>\n",
              "      <td>90.00</td>\n",
              "      <td>2950.0</td>\n",
              "      <td>17.3</td>\n",
              "      <td>82</td>\n",
              "      <td>1</td>\n",
              "      <td>Chevrolet_Camaro</td>\n",
              "    </tr>\n",
              "    <tr>\n",
              "      <th>Ford_Mustang_Gl</th>\n",
              "      <td>27.0</td>\n",
              "      <td>4</td>\n",
              "      <td>140.0</td>\n",
              "      <td>86.00</td>\n",
              "      <td>2790.0</td>\n",
              "      <td>15.6</td>\n",
              "      <td>82</td>\n",
              "      <td>1</td>\n",
              "      <td>Ford_Mustang_Gl</td>\n",
              "    </tr>\n",
              "    <tr>\n",
              "      <th>Vw_Pickup</th>\n",
              "      <td>44.0</td>\n",
              "      <td>4</td>\n",
              "      <td>97.0</td>\n",
              "      <td>52.00</td>\n",
              "      <td>2130.0</td>\n",
              "      <td>24.6</td>\n",
              "      <td>82</td>\n",
              "      <td>2</td>\n",
              "      <td>Vw_Pickup</td>\n",
              "    </tr>\n",
              "    <tr>\n",
              "      <th>Dodge_Rampage</th>\n",
              "      <td>32.0</td>\n",
              "      <td>4</td>\n",
              "      <td>135.0</td>\n",
              "      <td>84.00</td>\n",
              "      <td>2295.0</td>\n",
              "      <td>11.6</td>\n",
              "      <td>82</td>\n",
              "      <td>1</td>\n",
              "      <td>Dodge_Rampage</td>\n",
              "    </tr>\n",
              "    <tr>\n",
              "      <th>Ford_Ranger</th>\n",
              "      <td>28.0</td>\n",
              "      <td>4</td>\n",
              "      <td>120.0</td>\n",
              "      <td>79.00</td>\n",
              "      <td>2625.0</td>\n",
              "      <td>18.6</td>\n",
              "      <td>82</td>\n",
              "      <td>1</td>\n",
              "      <td>Ford_Ranger</td>\n",
              "    </tr>\n",
              "    <tr>\n",
              "      <th>Chevy_S-10</th>\n",
              "      <td>31.0</td>\n",
              "      <td>4</td>\n",
              "      <td>119.0</td>\n",
              "      <td>82.00</td>\n",
              "      <td>2720.0</td>\n",
              "      <td>19.4</td>\n",
              "      <td>82</td>\n",
              "      <td>1</td>\n",
              "      <td>Chevy_S-10</td>\n",
              "    </tr>\n",
              "  </tbody>\n",
              "</table>\n",
              "</div>\n",
              "      <button class=\"colab-df-convert\" onclick=\"convertToInteractive('df-9dbb9b3d-cab7-4b29-bad9-a1ad293ef03d')\"\n",
              "              title=\"Convert this dataframe to an interactive table.\"\n",
              "              style=\"display:none;\">\n",
              "        \n",
              "  <svg xmlns=\"http://www.w3.org/2000/svg\" height=\"24px\"viewBox=\"0 0 24 24\"\n",
              "       width=\"24px\">\n",
              "    <path d=\"M0 0h24v24H0V0z\" fill=\"none\"/>\n",
              "    <path d=\"M18.56 5.44l.94 2.06.94-2.06 2.06-.94-2.06-.94-.94-2.06-.94 2.06-2.06.94zm-11 1L8.5 8.5l.94-2.06 2.06-.94-2.06-.94L8.5 2.5l-.94 2.06-2.06.94zm10 10l.94 2.06.94-2.06 2.06-.94-2.06-.94-.94-2.06-.94 2.06-2.06.94z\"/><path d=\"M17.41 7.96l-1.37-1.37c-.4-.4-.92-.59-1.43-.59-.52 0-1.04.2-1.43.59L10.3 9.45l-7.72 7.72c-.78.78-.78 2.05 0 2.83L4 21.41c.39.39.9.59 1.41.59.51 0 1.02-.2 1.41-.59l7.78-7.78 2.81-2.81c.8-.78.8-2.07 0-2.86zM5.41 20L4 18.59l7.72-7.72 1.47 1.35L5.41 20z\"/>\n",
              "  </svg>\n",
              "      </button>\n",
              "      \n",
              "  <style>\n",
              "    .colab-df-container {\n",
              "      display:flex;\n",
              "      flex-wrap:wrap;\n",
              "      gap: 12px;\n",
              "    }\n",
              "\n",
              "    .colab-df-convert {\n",
              "      background-color: #E8F0FE;\n",
              "      border: none;\n",
              "      border-radius: 50%;\n",
              "      cursor: pointer;\n",
              "      display: none;\n",
              "      fill: #1967D2;\n",
              "      height: 32px;\n",
              "      padding: 0 0 0 0;\n",
              "      width: 32px;\n",
              "    }\n",
              "\n",
              "    .colab-df-convert:hover {\n",
              "      background-color: #E2EBFA;\n",
              "      box-shadow: 0px 1px 2px rgba(60, 64, 67, 0.3), 0px 1px 3px 1px rgba(60, 64, 67, 0.15);\n",
              "      fill: #174EA6;\n",
              "    }\n",
              "\n",
              "    [theme=dark] .colab-df-convert {\n",
              "      background-color: #3B4455;\n",
              "      fill: #D2E3FC;\n",
              "    }\n",
              "\n",
              "    [theme=dark] .colab-df-convert:hover {\n",
              "      background-color: #434B5C;\n",
              "      box-shadow: 0px 1px 3px 1px rgba(0, 0, 0, 0.15);\n",
              "      filter: drop-shadow(0px 1px 2px rgba(0, 0, 0, 0.3));\n",
              "      fill: #FFFFFF;\n",
              "    }\n",
              "  </style>\n",
              "\n",
              "      <script>\n",
              "        const buttonEl =\n",
              "          document.querySelector('#df-9dbb9b3d-cab7-4b29-bad9-a1ad293ef03d button.colab-df-convert');\n",
              "        buttonEl.style.display =\n",
              "          google.colab.kernel.accessAllowed ? 'block' : 'none';\n",
              "\n",
              "        async function convertToInteractive(key) {\n",
              "          const element = document.querySelector('#df-9dbb9b3d-cab7-4b29-bad9-a1ad293ef03d');\n",
              "          const dataTable =\n",
              "            await google.colab.kernel.invokeFunction('convertToInteractive',\n",
              "                                                     [key], {});\n",
              "          if (!dataTable) return;\n",
              "\n",
              "          const docLinkHtml = 'Like what you see? Visit the ' +\n",
              "            '<a target=\"_blank\" href=https://colab.research.google.com/notebooks/data_table.ipynb>data table notebook</a>'\n",
              "            + ' to learn more about interactive tables.';\n",
              "          element.innerHTML = '';\n",
              "          dataTable['output_type'] = 'display_data';\n",
              "          await google.colab.output.renderOutput(dataTable, element);\n",
              "          const docLink = document.createElement('div');\n",
              "          docLink.innerHTML = docLinkHtml;\n",
              "          element.appendChild(docLink);\n",
              "        }\n",
              "      </script>\n",
              "    </div>\n",
              "  </div>\n",
              "  "
            ]
          },
          "metadata": {},
          "execution_count": 57
        }
      ],
      "source": [
        "data.columns = ['mpg', 'cylinders', 'displacement', 'horsepower', 'weight', 'acceleration', 'model year', 'origin', 'car name']\n",
        "def ColDataClean(data):\n",
        "    # Identify, print, and remove any entries with Null / NA / NaN\n",
        "    #data.replace('?', np.NaN, inplace= True)\n",
        "    data[data['horsepower'].isnull()].index.tolist()\n",
        "    data.dropna(inplace=True)\n",
        "    print(\"*** Removing null entries ***\")\n",
        "    \n",
        "    print()\n",
        "    \n",
        "    \n",
        "    print(\"*** String Operations on Column Headers ***\")\n",
        "    print(\"  Before: \", data.columns)\n",
        "    data.reset_index(drop=True)\n",
        "    data.columns = data.columns.str.replace('\\s+','_')\n",
        "    data.columns = data.columns.str.title()\n",
        "    print(\"  Aftedata[data['hp'].isnull()].index.tolist()r: \", data.columns)\n",
        "    \n",
        "    data['Car_Name']= data['Car_Name'].str.replace('\\s+','_')\n",
        "    data['Car_Name'] = data['Car_Name'].str.title()\n",
        "    print(\"*** String Operations on index strings *** \")\n",
        "    return data\n",
        "ColDataClean(data)\n",
        "data = data.set_index('Car_Name')\n",
        "data['Car_Name'] = data.index\n",
        "data.tail(30)"
      ]
    },
    {
      "cell_type": "code",
      "execution_count": null,
      "id": "104428d8",
      "metadata": {
        "deletable": false,
        "editable": false,
        "id": "104428d8",
        "colab": {
          "base_uri": "https://localhost:8080/",
          "height": 46
        },
        "outputId": "2099018e-f75a-4f6b-f376-e7a4d80009aa"
      },
      "outputs": [
        {
          "output_type": "execute_result",
          "data": {
            "text/plain": [
              "q12 results: All test cases passed!"
            ],
            "text/html": [
              "<p><strong><pre style='display: inline;'>q12</pre></strong> passed!</p>"
            ]
          },
          "metadata": {},
          "execution_count": 58
        }
      ],
      "source": [
        "grader.check(\"q12\")"
      ]
    },
    {
      "cell_type": "markdown",
      "id": "c1b640cf",
      "metadata": {
        "id": "c1b640cf"
      },
      "source": [
        "## Exercise 3: Data Cleaning and Manipulation \n",
        "\n",
        "Look at the types for each column of the DataFrame. "
      ]
    },
    {
      "cell_type": "code",
      "execution_count": null,
      "id": "18fb6030",
      "metadata": {
        "id": "18fb6030",
        "colab": {
          "base_uri": "https://localhost:8080/"
        },
        "outputId": "a3b8f7fc-9a9e-42e5-8ba4-e1c203813097"
      },
      "outputs": [
        {
          "output_type": "execute_result",
          "data": {
            "text/plain": [
              "Mpg             float64\n",
              "Cylinders         int64\n",
              "Displacement    float64\n",
              "Horsepower       object\n",
              "Weight          float64\n",
              "Acceleration    float64\n",
              "Model_Year        int64\n",
              "Origin            int64\n",
              "Car_Name         object\n",
              "dtype: object"
            ]
          },
          "metadata": {},
          "execution_count": 59
        }
      ],
      "source": [
        "data.dtypes"
      ]
    },
    {
      "cell_type": "markdown",
      "id": "070285a6",
      "metadata": {
        "id": "070285a6"
      },
      "source": [
        "Horsepower is considered an object.  But, really this should be a float.  Why is this a float?"
      ]
    },
    {
      "cell_type": "code",
      "execution_count": null,
      "id": "1a11078a",
      "metadata": {
        "id": "1a11078a",
        "colab": {
          "base_uri": "https://localhost:8080/",
          "height": 269
        },
        "outputId": "413b1c19-de18-44bd-af6a-cf233595a91d"
      },
      "outputs": [
        {
          "output_type": "execute_result",
          "data": {
            "text/plain": [
              "                       Mpg  Cylinders  Displacement Horsepower  Weight  \\\n",
              "Car_Name                                                                 \n",
              "Ford_Pinto            25.0          4          98.0          ?  2046.0   \n",
              "Ford_Maverick         21.0          6         200.0          ?  2875.0   \n",
              "Renault_Lecar_Deluxe  40.9          4          85.0          ?  1835.0   \n",
              "Ford_Mustang_Cobra    23.6          4         140.0          ?  2905.0   \n",
              "Renault_18I           34.5          4         100.0          ?  2320.0   \n",
              "Amc_Concord_Dl        23.0          4         151.0          ?  3035.0   \n",
              "\n",
              "                      Acceleration  Model_Year  Origin              Car_Name  \n",
              "Car_Name                                                                      \n",
              "Ford_Pinto                    19.0          71       1            Ford_Pinto  \n",
              "Ford_Maverick                 17.0          74       1         Ford_Maverick  \n",
              "Renault_Lecar_Deluxe          17.3          80       2  Renault_Lecar_Deluxe  \n",
              "Ford_Mustang_Cobra            14.3          80       1    Ford_Mustang_Cobra  \n",
              "Renault_18I                   15.8          81       2           Renault_18I  \n",
              "Amc_Concord_Dl                20.5          82       1        Amc_Concord_Dl  "
            ],
            "text/html": [
              "\n",
              "  <div id=\"df-e966f550-a9aa-4233-8674-f19b5d636c03\">\n",
              "    <div class=\"colab-df-container\">\n",
              "      <div>\n",
              "<style scoped>\n",
              "    .dataframe tbody tr th:only-of-type {\n",
              "        vertical-align: middle;\n",
              "    }\n",
              "\n",
              "    .dataframe tbody tr th {\n",
              "        vertical-align: top;\n",
              "    }\n",
              "\n",
              "    .dataframe thead th {\n",
              "        text-align: right;\n",
              "    }\n",
              "</style>\n",
              "<table border=\"1\" class=\"dataframe\">\n",
              "  <thead>\n",
              "    <tr style=\"text-align: right;\">\n",
              "      <th></th>\n",
              "      <th>Mpg</th>\n",
              "      <th>Cylinders</th>\n",
              "      <th>Displacement</th>\n",
              "      <th>Horsepower</th>\n",
              "      <th>Weight</th>\n",
              "      <th>Acceleration</th>\n",
              "      <th>Model_Year</th>\n",
              "      <th>Origin</th>\n",
              "      <th>Car_Name</th>\n",
              "    </tr>\n",
              "    <tr>\n",
              "      <th>Car_Name</th>\n",
              "      <th></th>\n",
              "      <th></th>\n",
              "      <th></th>\n",
              "      <th></th>\n",
              "      <th></th>\n",
              "      <th></th>\n",
              "      <th></th>\n",
              "      <th></th>\n",
              "      <th></th>\n",
              "    </tr>\n",
              "  </thead>\n",
              "  <tbody>\n",
              "    <tr>\n",
              "      <th>Ford_Pinto</th>\n",
              "      <td>25.0</td>\n",
              "      <td>4</td>\n",
              "      <td>98.0</td>\n",
              "      <td>?</td>\n",
              "      <td>2046.0</td>\n",
              "      <td>19.0</td>\n",
              "      <td>71</td>\n",
              "      <td>1</td>\n",
              "      <td>Ford_Pinto</td>\n",
              "    </tr>\n",
              "    <tr>\n",
              "      <th>Ford_Maverick</th>\n",
              "      <td>21.0</td>\n",
              "      <td>6</td>\n",
              "      <td>200.0</td>\n",
              "      <td>?</td>\n",
              "      <td>2875.0</td>\n",
              "      <td>17.0</td>\n",
              "      <td>74</td>\n",
              "      <td>1</td>\n",
              "      <td>Ford_Maverick</td>\n",
              "    </tr>\n",
              "    <tr>\n",
              "      <th>Renault_Lecar_Deluxe</th>\n",
              "      <td>40.9</td>\n",
              "      <td>4</td>\n",
              "      <td>85.0</td>\n",
              "      <td>?</td>\n",
              "      <td>1835.0</td>\n",
              "      <td>17.3</td>\n",
              "      <td>80</td>\n",
              "      <td>2</td>\n",
              "      <td>Renault_Lecar_Deluxe</td>\n",
              "    </tr>\n",
              "    <tr>\n",
              "      <th>Ford_Mustang_Cobra</th>\n",
              "      <td>23.6</td>\n",
              "      <td>4</td>\n",
              "      <td>140.0</td>\n",
              "      <td>?</td>\n",
              "      <td>2905.0</td>\n",
              "      <td>14.3</td>\n",
              "      <td>80</td>\n",
              "      <td>1</td>\n",
              "      <td>Ford_Mustang_Cobra</td>\n",
              "    </tr>\n",
              "    <tr>\n",
              "      <th>Renault_18I</th>\n",
              "      <td>34.5</td>\n",
              "      <td>4</td>\n",
              "      <td>100.0</td>\n",
              "      <td>?</td>\n",
              "      <td>2320.0</td>\n",
              "      <td>15.8</td>\n",
              "      <td>81</td>\n",
              "      <td>2</td>\n",
              "      <td>Renault_18I</td>\n",
              "    </tr>\n",
              "    <tr>\n",
              "      <th>Amc_Concord_Dl</th>\n",
              "      <td>23.0</td>\n",
              "      <td>4</td>\n",
              "      <td>151.0</td>\n",
              "      <td>?</td>\n",
              "      <td>3035.0</td>\n",
              "      <td>20.5</td>\n",
              "      <td>82</td>\n",
              "      <td>1</td>\n",
              "      <td>Amc_Concord_Dl</td>\n",
              "    </tr>\n",
              "  </tbody>\n",
              "</table>\n",
              "</div>\n",
              "      <button class=\"colab-df-convert\" onclick=\"convertToInteractive('df-e966f550-a9aa-4233-8674-f19b5d636c03')\"\n",
              "              title=\"Convert this dataframe to an interactive table.\"\n",
              "              style=\"display:none;\">\n",
              "        \n",
              "  <svg xmlns=\"http://www.w3.org/2000/svg\" height=\"24px\"viewBox=\"0 0 24 24\"\n",
              "       width=\"24px\">\n",
              "    <path d=\"M0 0h24v24H0V0z\" fill=\"none\"/>\n",
              "    <path d=\"M18.56 5.44l.94 2.06.94-2.06 2.06-.94-2.06-.94-.94-2.06-.94 2.06-2.06.94zm-11 1L8.5 8.5l.94-2.06 2.06-.94-2.06-.94L8.5 2.5l-.94 2.06-2.06.94zm10 10l.94 2.06.94-2.06 2.06-.94-2.06-.94-.94-2.06-.94 2.06-2.06.94z\"/><path d=\"M17.41 7.96l-1.37-1.37c-.4-.4-.92-.59-1.43-.59-.52 0-1.04.2-1.43.59L10.3 9.45l-7.72 7.72c-.78.78-.78 2.05 0 2.83L4 21.41c.39.39.9.59 1.41.59.51 0 1.02-.2 1.41-.59l7.78-7.78 2.81-2.81c.8-.78.8-2.07 0-2.86zM5.41 20L4 18.59l7.72-7.72 1.47 1.35L5.41 20z\"/>\n",
              "  </svg>\n",
              "      </button>\n",
              "      \n",
              "  <style>\n",
              "    .colab-df-container {\n",
              "      display:flex;\n",
              "      flex-wrap:wrap;\n",
              "      gap: 12px;\n",
              "    }\n",
              "\n",
              "    .colab-df-convert {\n",
              "      background-color: #E8F0FE;\n",
              "      border: none;\n",
              "      border-radius: 50%;\n",
              "      cursor: pointer;\n",
              "      display: none;\n",
              "      fill: #1967D2;\n",
              "      height: 32px;\n",
              "      padding: 0 0 0 0;\n",
              "      width: 32px;\n",
              "    }\n",
              "\n",
              "    .colab-df-convert:hover {\n",
              "      background-color: #E2EBFA;\n",
              "      box-shadow: 0px 1px 2px rgba(60, 64, 67, 0.3), 0px 1px 3px 1px rgba(60, 64, 67, 0.15);\n",
              "      fill: #174EA6;\n",
              "    }\n",
              "\n",
              "    [theme=dark] .colab-df-convert {\n",
              "      background-color: #3B4455;\n",
              "      fill: #D2E3FC;\n",
              "    }\n",
              "\n",
              "    [theme=dark] .colab-df-convert:hover {\n",
              "      background-color: #434B5C;\n",
              "      box-shadow: 0px 1px 3px 1px rgba(0, 0, 0, 0.15);\n",
              "      filter: drop-shadow(0px 1px 2px rgba(0, 0, 0, 0.3));\n",
              "      fill: #FFFFFF;\n",
              "    }\n",
              "  </style>\n",
              "\n",
              "      <script>\n",
              "        const buttonEl =\n",
              "          document.querySelector('#df-e966f550-a9aa-4233-8674-f19b5d636c03 button.colab-df-convert');\n",
              "        buttonEl.style.display =\n",
              "          google.colab.kernel.accessAllowed ? 'block' : 'none';\n",
              "\n",
              "        async function convertToInteractive(key) {\n",
              "          const element = document.querySelector('#df-e966f550-a9aa-4233-8674-f19b5d636c03');\n",
              "          const dataTable =\n",
              "            await google.colab.kernel.invokeFunction('convertToInteractive',\n",
              "                                                     [key], {});\n",
              "          if (!dataTable) return;\n",
              "\n",
              "          const docLinkHtml = 'Like what you see? Visit the ' +\n",
              "            '<a target=\"_blank\" href=https://colab.research.google.com/notebooks/data_table.ipynb>data table notebook</a>'\n",
              "            + ' to learn more about interactive tables.';\n",
              "          element.innerHTML = '';\n",
              "          dataTable['output_type'] = 'display_data';\n",
              "          await google.colab.output.renderOutput(dataTable, element);\n",
              "          const docLink = document.createElement('div');\n",
              "          docLink.innerHTML = docLinkHtml;\n",
              "          element.appendChild(docLink);\n",
              "        }\n",
              "      </script>\n",
              "    </div>\n",
              "  </div>\n",
              "  "
            ]
          },
          "metadata": {},
          "execution_count": 60
        }
      ],
      "source": [
        "data[data[\"Horsepower\"] == '?']"
      ]
    },
    {
      "cell_type": "markdown",
      "id": "9991f157",
      "metadata": {
        "id": "9991f157"
      },
      "source": [
        "There are some missing values in this column that need to be handled.\n",
        "\n",
        "Create a function HandleHP(data, col), that changes all the \"?\" values to a replacement value 99 and converts the column to be a float.\n",
        "\n"
      ]
    },
    {
      "cell_type": "code",
      "execution_count": null,
      "id": "61ad6aae",
      "metadata": {
        "id": "61ad6aae",
        "tags": [],
        "colab": {
          "base_uri": "https://localhost:8080/",
          "height": 1000
        },
        "outputId": "371d5285-c35d-4c51-8da1-e7d73e969441"
      },
      "outputs": [
        {
          "output_type": "stream",
          "name": "stdout",
          "text": [
            "  Current data type is :  object\n",
            "  Changed data type is :  float64\n",
            "Mpg             float64\n",
            "Cylinders         int64\n",
            "Displacement    float64\n",
            "Horsepower      float64\n",
            "Weight          float64\n",
            "Acceleration    float64\n",
            "Model_Year        int64\n",
            "Origin            int64\n",
            "Car_Name         object\n",
            "dtype: object\n"
          ]
        },
        {
          "output_type": "stream",
          "name": "stderr",
          "text": [
            "/usr/local/lib/python3.7/dist-packages/ipykernel_launcher.py:5: FutureWarning: The default value of regex will change from True to False in a future version. In addition, single character regular expressions will *not* be treated as literal strings when regex=True.\n",
            "  \"\"\"\n"
          ]
        },
        {
          "output_type": "execute_result",
          "data": {
            "text/plain": [
              "                                    Mpg  Cylinders  Displacement  Horsepower  \\\n",
              "Car_Name                                                                       \n",
              "Chevrolet_Cavalier_Wagon           27.0          4         112.0        88.0   \n",
              "Chevrolet_Cavalier_2-Door          34.0          4         112.0        88.0   \n",
              "Pontiac_J2000_Se_Hatchback         31.0          4         112.0        85.0   \n",
              "Dodge_Aries_Se                     29.0          4         135.0        84.0   \n",
              "Pontiac_Phoenix                    27.0          4         151.0        90.0   \n",
              "Ford_Fairmont_Futura               24.0          4         140.0        92.0   \n",
              "Amc_Concord_Dl                     23.0          4         151.0        99.0   \n",
              "Volkswagen_Rabbit_L                36.0          4         105.0        74.0   \n",
              "Mazda_Glc_Custom_L                 37.0          4          91.0        68.0   \n",
              "Mazda_Glc_Custom                   31.0          4          91.0        68.0   \n",
              "Plymouth_Horizon_Miser             38.0          4         105.0        63.0   \n",
              "Mercury_Lynx_L                     36.0          4          98.0        70.0   \n",
              "Nissan_Stanza_Xe                   36.0          4         120.0        88.0   \n",
              "Honda_Accord                       36.0          4         107.0        75.0   \n",
              "Toyota_Corolla                     34.0          4         108.0        70.0   \n",
              "Honda_Civic                        38.0          4          91.0        67.0   \n",
              "Honda_Civic_(Auto)                 32.0          4          91.0        67.0   \n",
              "Datsun_310_Gx                      38.0          4          91.0        67.0   \n",
              "Buick_Century_Limited              25.0          6         181.0       110.0   \n",
              "Oldsmobile_Cutlass_Ciera_(Diesel)  38.0          6         262.0        85.0   \n",
              "Chrysler_Lebaron_Medallion         26.0          4         156.0        92.0   \n",
              "Ford_Granada_L                     22.0          6         232.0       112.0   \n",
              "Toyota_Celica_Gt                   32.0          4         144.0        96.0   \n",
              "Dodge_Charger_2.2                  36.0          4         135.0        84.0   \n",
              "Chevrolet_Camaro                   27.0          4         151.0        90.0   \n",
              "Ford_Mustang_Gl                    27.0          4         140.0        86.0   \n",
              "Vw_Pickup                          44.0          4          97.0        52.0   \n",
              "Dodge_Rampage                      32.0          4         135.0        84.0   \n",
              "Ford_Ranger                        28.0          4         120.0        79.0   \n",
              "Chevy_S-10                         31.0          4         119.0        82.0   \n",
              "\n",
              "                                   Weight  Acceleration  Model_Year  Origin  \\\n",
              "Car_Name                                                                      \n",
              "Chevrolet_Cavalier_Wagon           2640.0          18.6          82       1   \n",
              "Chevrolet_Cavalier_2-Door          2395.0          18.0          82       1   \n",
              "Pontiac_J2000_Se_Hatchback         2575.0          16.2          82       1   \n",
              "Dodge_Aries_Se                     2525.0          16.0          82       1   \n",
              "Pontiac_Phoenix                    2735.0          18.0          82       1   \n",
              "Ford_Fairmont_Futura               2865.0          16.4          82       1   \n",
              "Amc_Concord_Dl                     3035.0          20.5          82       1   \n",
              "Volkswagen_Rabbit_L                1980.0          15.3          82       2   \n",
              "Mazda_Glc_Custom_L                 2025.0          18.2          82       3   \n",
              "Mazda_Glc_Custom                   1970.0          17.6          82       3   \n",
              "Plymouth_Horizon_Miser             2125.0          14.7          82       1   \n",
              "Mercury_Lynx_L                     2125.0          17.3          82       1   \n",
              "Nissan_Stanza_Xe                   2160.0          14.5          82       3   \n",
              "Honda_Accord                       2205.0          14.5          82       3   \n",
              "Toyota_Corolla                     2245.0          16.9          82       3   \n",
              "Honda_Civic                        1965.0          15.0          82       3   \n",
              "Honda_Civic_(Auto)                 1965.0          15.7          82       3   \n",
              "Datsun_310_Gx                      1995.0          16.2          82       3   \n",
              "Buick_Century_Limited              2945.0          16.4          82       1   \n",
              "Oldsmobile_Cutlass_Ciera_(Diesel)  3015.0          17.0          82       1   \n",
              "Chrysler_Lebaron_Medallion         2585.0          14.5          82       1   \n",
              "Ford_Granada_L                     2835.0          14.7          82       1   \n",
              "Toyota_Celica_Gt                   2665.0          13.9          82       3   \n",
              "Dodge_Charger_2.2                  2370.0          13.0          82       1   \n",
              "Chevrolet_Camaro                   2950.0          17.3          82       1   \n",
              "Ford_Mustang_Gl                    2790.0          15.6          82       1   \n",
              "Vw_Pickup                          2130.0          24.6          82       2   \n",
              "Dodge_Rampage                      2295.0          11.6          82       1   \n",
              "Ford_Ranger                        2625.0          18.6          82       1   \n",
              "Chevy_S-10                         2720.0          19.4          82       1   \n",
              "\n",
              "                                                            Car_Name  \n",
              "Car_Name                                                              \n",
              "Chevrolet_Cavalier_Wagon                    Chevrolet_Cavalier_Wagon  \n",
              "Chevrolet_Cavalier_2-Door                  Chevrolet_Cavalier_2-Door  \n",
              "Pontiac_J2000_Se_Hatchback                Pontiac_J2000_Se_Hatchback  \n",
              "Dodge_Aries_Se                                        Dodge_Aries_Se  \n",
              "Pontiac_Phoenix                                      Pontiac_Phoenix  \n",
              "Ford_Fairmont_Futura                            Ford_Fairmont_Futura  \n",
              "Amc_Concord_Dl                                        Amc_Concord_Dl  \n",
              "Volkswagen_Rabbit_L                              Volkswagen_Rabbit_L  \n",
              "Mazda_Glc_Custom_L                                Mazda_Glc_Custom_L  \n",
              "Mazda_Glc_Custom                                    Mazda_Glc_Custom  \n",
              "Plymouth_Horizon_Miser                        Plymouth_Horizon_Miser  \n",
              "Mercury_Lynx_L                                        Mercury_Lynx_L  \n",
              "Nissan_Stanza_Xe                                    Nissan_Stanza_Xe  \n",
              "Honda_Accord                                            Honda_Accord  \n",
              "Toyota_Corolla                                        Toyota_Corolla  \n",
              "Honda_Civic                                              Honda_Civic  \n",
              "Honda_Civic_(Auto)                                Honda_Civic_(Auto)  \n",
              "Datsun_310_Gx                                          Datsun_310_Gx  \n",
              "Buick_Century_Limited                          Buick_Century_Limited  \n",
              "Oldsmobile_Cutlass_Ciera_(Diesel)  Oldsmobile_Cutlass_Ciera_(Diesel)  \n",
              "Chrysler_Lebaron_Medallion                Chrysler_Lebaron_Medallion  \n",
              "Ford_Granada_L                                        Ford_Granada_L  \n",
              "Toyota_Celica_Gt                                    Toyota_Celica_Gt  \n",
              "Dodge_Charger_2.2                                  Dodge_Charger_2.2  \n",
              "Chevrolet_Camaro                                    Chevrolet_Camaro  \n",
              "Ford_Mustang_Gl                                      Ford_Mustang_Gl  \n",
              "Vw_Pickup                                                  Vw_Pickup  \n",
              "Dodge_Rampage                                          Dodge_Rampage  \n",
              "Ford_Ranger                                              Ford_Ranger  \n",
              "Chevy_S-10                                                Chevy_S-10  "
            ],
            "text/html": [
              "\n",
              "  <div id=\"df-2db69dea-eb1c-40b5-b1a8-ba977d45e547\">\n",
              "    <div class=\"colab-df-container\">\n",
              "      <div>\n",
              "<style scoped>\n",
              "    .dataframe tbody tr th:only-of-type {\n",
              "        vertical-align: middle;\n",
              "    }\n",
              "\n",
              "    .dataframe tbody tr th {\n",
              "        vertical-align: top;\n",
              "    }\n",
              "\n",
              "    .dataframe thead th {\n",
              "        text-align: right;\n",
              "    }\n",
              "</style>\n",
              "<table border=\"1\" class=\"dataframe\">\n",
              "  <thead>\n",
              "    <tr style=\"text-align: right;\">\n",
              "      <th></th>\n",
              "      <th>Mpg</th>\n",
              "      <th>Cylinders</th>\n",
              "      <th>Displacement</th>\n",
              "      <th>Horsepower</th>\n",
              "      <th>Weight</th>\n",
              "      <th>Acceleration</th>\n",
              "      <th>Model_Year</th>\n",
              "      <th>Origin</th>\n",
              "      <th>Car_Name</th>\n",
              "    </tr>\n",
              "    <tr>\n",
              "      <th>Car_Name</th>\n",
              "      <th></th>\n",
              "      <th></th>\n",
              "      <th></th>\n",
              "      <th></th>\n",
              "      <th></th>\n",
              "      <th></th>\n",
              "      <th></th>\n",
              "      <th></th>\n",
              "      <th></th>\n",
              "    </tr>\n",
              "  </thead>\n",
              "  <tbody>\n",
              "    <tr>\n",
              "      <th>Chevrolet_Cavalier_Wagon</th>\n",
              "      <td>27.0</td>\n",
              "      <td>4</td>\n",
              "      <td>112.0</td>\n",
              "      <td>88.0</td>\n",
              "      <td>2640.0</td>\n",
              "      <td>18.6</td>\n",
              "      <td>82</td>\n",
              "      <td>1</td>\n",
              "      <td>Chevrolet_Cavalier_Wagon</td>\n",
              "    </tr>\n",
              "    <tr>\n",
              "      <th>Chevrolet_Cavalier_2-Door</th>\n",
              "      <td>34.0</td>\n",
              "      <td>4</td>\n",
              "      <td>112.0</td>\n",
              "      <td>88.0</td>\n",
              "      <td>2395.0</td>\n",
              "      <td>18.0</td>\n",
              "      <td>82</td>\n",
              "      <td>1</td>\n",
              "      <td>Chevrolet_Cavalier_2-Door</td>\n",
              "    </tr>\n",
              "    <tr>\n",
              "      <th>Pontiac_J2000_Se_Hatchback</th>\n",
              "      <td>31.0</td>\n",
              "      <td>4</td>\n",
              "      <td>112.0</td>\n",
              "      <td>85.0</td>\n",
              "      <td>2575.0</td>\n",
              "      <td>16.2</td>\n",
              "      <td>82</td>\n",
              "      <td>1</td>\n",
              "      <td>Pontiac_J2000_Se_Hatchback</td>\n",
              "    </tr>\n",
              "    <tr>\n",
              "      <th>Dodge_Aries_Se</th>\n",
              "      <td>29.0</td>\n",
              "      <td>4</td>\n",
              "      <td>135.0</td>\n",
              "      <td>84.0</td>\n",
              "      <td>2525.0</td>\n",
              "      <td>16.0</td>\n",
              "      <td>82</td>\n",
              "      <td>1</td>\n",
              "      <td>Dodge_Aries_Se</td>\n",
              "    </tr>\n",
              "    <tr>\n",
              "      <th>Pontiac_Phoenix</th>\n",
              "      <td>27.0</td>\n",
              "      <td>4</td>\n",
              "      <td>151.0</td>\n",
              "      <td>90.0</td>\n",
              "      <td>2735.0</td>\n",
              "      <td>18.0</td>\n",
              "      <td>82</td>\n",
              "      <td>1</td>\n",
              "      <td>Pontiac_Phoenix</td>\n",
              "    </tr>\n",
              "    <tr>\n",
              "      <th>Ford_Fairmont_Futura</th>\n",
              "      <td>24.0</td>\n",
              "      <td>4</td>\n",
              "      <td>140.0</td>\n",
              "      <td>92.0</td>\n",
              "      <td>2865.0</td>\n",
              "      <td>16.4</td>\n",
              "      <td>82</td>\n",
              "      <td>1</td>\n",
              "      <td>Ford_Fairmont_Futura</td>\n",
              "    </tr>\n",
              "    <tr>\n",
              "      <th>Amc_Concord_Dl</th>\n",
              "      <td>23.0</td>\n",
              "      <td>4</td>\n",
              "      <td>151.0</td>\n",
              "      <td>99.0</td>\n",
              "      <td>3035.0</td>\n",
              "      <td>20.5</td>\n",
              "      <td>82</td>\n",
              "      <td>1</td>\n",
              "      <td>Amc_Concord_Dl</td>\n",
              "    </tr>\n",
              "    <tr>\n",
              "      <th>Volkswagen_Rabbit_L</th>\n",
              "      <td>36.0</td>\n",
              "      <td>4</td>\n",
              "      <td>105.0</td>\n",
              "      <td>74.0</td>\n",
              "      <td>1980.0</td>\n",
              "      <td>15.3</td>\n",
              "      <td>82</td>\n",
              "      <td>2</td>\n",
              "      <td>Volkswagen_Rabbit_L</td>\n",
              "    </tr>\n",
              "    <tr>\n",
              "      <th>Mazda_Glc_Custom_L</th>\n",
              "      <td>37.0</td>\n",
              "      <td>4</td>\n",
              "      <td>91.0</td>\n",
              "      <td>68.0</td>\n",
              "      <td>2025.0</td>\n",
              "      <td>18.2</td>\n",
              "      <td>82</td>\n",
              "      <td>3</td>\n",
              "      <td>Mazda_Glc_Custom_L</td>\n",
              "    </tr>\n",
              "    <tr>\n",
              "      <th>Mazda_Glc_Custom</th>\n",
              "      <td>31.0</td>\n",
              "      <td>4</td>\n",
              "      <td>91.0</td>\n",
              "      <td>68.0</td>\n",
              "      <td>1970.0</td>\n",
              "      <td>17.6</td>\n",
              "      <td>82</td>\n",
              "      <td>3</td>\n",
              "      <td>Mazda_Glc_Custom</td>\n",
              "    </tr>\n",
              "    <tr>\n",
              "      <th>Plymouth_Horizon_Miser</th>\n",
              "      <td>38.0</td>\n",
              "      <td>4</td>\n",
              "      <td>105.0</td>\n",
              "      <td>63.0</td>\n",
              "      <td>2125.0</td>\n",
              "      <td>14.7</td>\n",
              "      <td>82</td>\n",
              "      <td>1</td>\n",
              "      <td>Plymouth_Horizon_Miser</td>\n",
              "    </tr>\n",
              "    <tr>\n",
              "      <th>Mercury_Lynx_L</th>\n",
              "      <td>36.0</td>\n",
              "      <td>4</td>\n",
              "      <td>98.0</td>\n",
              "      <td>70.0</td>\n",
              "      <td>2125.0</td>\n",
              "      <td>17.3</td>\n",
              "      <td>82</td>\n",
              "      <td>1</td>\n",
              "      <td>Mercury_Lynx_L</td>\n",
              "    </tr>\n",
              "    <tr>\n",
              "      <th>Nissan_Stanza_Xe</th>\n",
              "      <td>36.0</td>\n",
              "      <td>4</td>\n",
              "      <td>120.0</td>\n",
              "      <td>88.0</td>\n",
              "      <td>2160.0</td>\n",
              "      <td>14.5</td>\n",
              "      <td>82</td>\n",
              "      <td>3</td>\n",
              "      <td>Nissan_Stanza_Xe</td>\n",
              "    </tr>\n",
              "    <tr>\n",
              "      <th>Honda_Accord</th>\n",
              "      <td>36.0</td>\n",
              "      <td>4</td>\n",
              "      <td>107.0</td>\n",
              "      <td>75.0</td>\n",
              "      <td>2205.0</td>\n",
              "      <td>14.5</td>\n",
              "      <td>82</td>\n",
              "      <td>3</td>\n",
              "      <td>Honda_Accord</td>\n",
              "    </tr>\n",
              "    <tr>\n",
              "      <th>Toyota_Corolla</th>\n",
              "      <td>34.0</td>\n",
              "      <td>4</td>\n",
              "      <td>108.0</td>\n",
              "      <td>70.0</td>\n",
              "      <td>2245.0</td>\n",
              "      <td>16.9</td>\n",
              "      <td>82</td>\n",
              "      <td>3</td>\n",
              "      <td>Toyota_Corolla</td>\n",
              "    </tr>\n",
              "    <tr>\n",
              "      <th>Honda_Civic</th>\n",
              "      <td>38.0</td>\n",
              "      <td>4</td>\n",
              "      <td>91.0</td>\n",
              "      <td>67.0</td>\n",
              "      <td>1965.0</td>\n",
              "      <td>15.0</td>\n",
              "      <td>82</td>\n",
              "      <td>3</td>\n",
              "      <td>Honda_Civic</td>\n",
              "    </tr>\n",
              "    <tr>\n",
              "      <th>Honda_Civic_(Auto)</th>\n",
              "      <td>32.0</td>\n",
              "      <td>4</td>\n",
              "      <td>91.0</td>\n",
              "      <td>67.0</td>\n",
              "      <td>1965.0</td>\n",
              "      <td>15.7</td>\n",
              "      <td>82</td>\n",
              "      <td>3</td>\n",
              "      <td>Honda_Civic_(Auto)</td>\n",
              "    </tr>\n",
              "    <tr>\n",
              "      <th>Datsun_310_Gx</th>\n",
              "      <td>38.0</td>\n",
              "      <td>4</td>\n",
              "      <td>91.0</td>\n",
              "      <td>67.0</td>\n",
              "      <td>1995.0</td>\n",
              "      <td>16.2</td>\n",
              "      <td>82</td>\n",
              "      <td>3</td>\n",
              "      <td>Datsun_310_Gx</td>\n",
              "    </tr>\n",
              "    <tr>\n",
              "      <th>Buick_Century_Limited</th>\n",
              "      <td>25.0</td>\n",
              "      <td>6</td>\n",
              "      <td>181.0</td>\n",
              "      <td>110.0</td>\n",
              "      <td>2945.0</td>\n",
              "      <td>16.4</td>\n",
              "      <td>82</td>\n",
              "      <td>1</td>\n",
              "      <td>Buick_Century_Limited</td>\n",
              "    </tr>\n",
              "    <tr>\n",
              "      <th>Oldsmobile_Cutlass_Ciera_(Diesel)</th>\n",
              "      <td>38.0</td>\n",
              "      <td>6</td>\n",
              "      <td>262.0</td>\n",
              "      <td>85.0</td>\n",
              "      <td>3015.0</td>\n",
              "      <td>17.0</td>\n",
              "      <td>82</td>\n",
              "      <td>1</td>\n",
              "      <td>Oldsmobile_Cutlass_Ciera_(Diesel)</td>\n",
              "    </tr>\n",
              "    <tr>\n",
              "      <th>Chrysler_Lebaron_Medallion</th>\n",
              "      <td>26.0</td>\n",
              "      <td>4</td>\n",
              "      <td>156.0</td>\n",
              "      <td>92.0</td>\n",
              "      <td>2585.0</td>\n",
              "      <td>14.5</td>\n",
              "      <td>82</td>\n",
              "      <td>1</td>\n",
              "      <td>Chrysler_Lebaron_Medallion</td>\n",
              "    </tr>\n",
              "    <tr>\n",
              "      <th>Ford_Granada_L</th>\n",
              "      <td>22.0</td>\n",
              "      <td>6</td>\n",
              "      <td>232.0</td>\n",
              "      <td>112.0</td>\n",
              "      <td>2835.0</td>\n",
              "      <td>14.7</td>\n",
              "      <td>82</td>\n",
              "      <td>1</td>\n",
              "      <td>Ford_Granada_L</td>\n",
              "    </tr>\n",
              "    <tr>\n",
              "      <th>Toyota_Celica_Gt</th>\n",
              "      <td>32.0</td>\n",
              "      <td>4</td>\n",
              "      <td>144.0</td>\n",
              "      <td>96.0</td>\n",
              "      <td>2665.0</td>\n",
              "      <td>13.9</td>\n",
              "      <td>82</td>\n",
              "      <td>3</td>\n",
              "      <td>Toyota_Celica_Gt</td>\n",
              "    </tr>\n",
              "    <tr>\n",
              "      <th>Dodge_Charger_2.2</th>\n",
              "      <td>36.0</td>\n",
              "      <td>4</td>\n",
              "      <td>135.0</td>\n",
              "      <td>84.0</td>\n",
              "      <td>2370.0</td>\n",
              "      <td>13.0</td>\n",
              "      <td>82</td>\n",
              "      <td>1</td>\n",
              "      <td>Dodge_Charger_2.2</td>\n",
              "    </tr>\n",
              "    <tr>\n",
              "      <th>Chevrolet_Camaro</th>\n",
              "      <td>27.0</td>\n",
              "      <td>4</td>\n",
              "      <td>151.0</td>\n",
              "      <td>90.0</td>\n",
              "      <td>2950.0</td>\n",
              "      <td>17.3</td>\n",
              "      <td>82</td>\n",
              "      <td>1</td>\n",
              "      <td>Chevrolet_Camaro</td>\n",
              "    </tr>\n",
              "    <tr>\n",
              "      <th>Ford_Mustang_Gl</th>\n",
              "      <td>27.0</td>\n",
              "      <td>4</td>\n",
              "      <td>140.0</td>\n",
              "      <td>86.0</td>\n",
              "      <td>2790.0</td>\n",
              "      <td>15.6</td>\n",
              "      <td>82</td>\n",
              "      <td>1</td>\n",
              "      <td>Ford_Mustang_Gl</td>\n",
              "    </tr>\n",
              "    <tr>\n",
              "      <th>Vw_Pickup</th>\n",
              "      <td>44.0</td>\n",
              "      <td>4</td>\n",
              "      <td>97.0</td>\n",
              "      <td>52.0</td>\n",
              "      <td>2130.0</td>\n",
              "      <td>24.6</td>\n",
              "      <td>82</td>\n",
              "      <td>2</td>\n",
              "      <td>Vw_Pickup</td>\n",
              "    </tr>\n",
              "    <tr>\n",
              "      <th>Dodge_Rampage</th>\n",
              "      <td>32.0</td>\n",
              "      <td>4</td>\n",
              "      <td>135.0</td>\n",
              "      <td>84.0</td>\n",
              "      <td>2295.0</td>\n",
              "      <td>11.6</td>\n",
              "      <td>82</td>\n",
              "      <td>1</td>\n",
              "      <td>Dodge_Rampage</td>\n",
              "    </tr>\n",
              "    <tr>\n",
              "      <th>Ford_Ranger</th>\n",
              "      <td>28.0</td>\n",
              "      <td>4</td>\n",
              "      <td>120.0</td>\n",
              "      <td>79.0</td>\n",
              "      <td>2625.0</td>\n",
              "      <td>18.6</td>\n",
              "      <td>82</td>\n",
              "      <td>1</td>\n",
              "      <td>Ford_Ranger</td>\n",
              "    </tr>\n",
              "    <tr>\n",
              "      <th>Chevy_S-10</th>\n",
              "      <td>31.0</td>\n",
              "      <td>4</td>\n",
              "      <td>119.0</td>\n",
              "      <td>82.0</td>\n",
              "      <td>2720.0</td>\n",
              "      <td>19.4</td>\n",
              "      <td>82</td>\n",
              "      <td>1</td>\n",
              "      <td>Chevy_S-10</td>\n",
              "    </tr>\n",
              "  </tbody>\n",
              "</table>\n",
              "</div>\n",
              "      <button class=\"colab-df-convert\" onclick=\"convertToInteractive('df-2db69dea-eb1c-40b5-b1a8-ba977d45e547')\"\n",
              "              title=\"Convert this dataframe to an interactive table.\"\n",
              "              style=\"display:none;\">\n",
              "        \n",
              "  <svg xmlns=\"http://www.w3.org/2000/svg\" height=\"24px\"viewBox=\"0 0 24 24\"\n",
              "       width=\"24px\">\n",
              "    <path d=\"M0 0h24v24H0V0z\" fill=\"none\"/>\n",
              "    <path d=\"M18.56 5.44l.94 2.06.94-2.06 2.06-.94-2.06-.94-.94-2.06-.94 2.06-2.06.94zm-11 1L8.5 8.5l.94-2.06 2.06-.94-2.06-.94L8.5 2.5l-.94 2.06-2.06.94zm10 10l.94 2.06.94-2.06 2.06-.94-2.06-.94-.94-2.06-.94 2.06-2.06.94z\"/><path d=\"M17.41 7.96l-1.37-1.37c-.4-.4-.92-.59-1.43-.59-.52 0-1.04.2-1.43.59L10.3 9.45l-7.72 7.72c-.78.78-.78 2.05 0 2.83L4 21.41c.39.39.9.59 1.41.59.51 0 1.02-.2 1.41-.59l7.78-7.78 2.81-2.81c.8-.78.8-2.07 0-2.86zM5.41 20L4 18.59l7.72-7.72 1.47 1.35L5.41 20z\"/>\n",
              "  </svg>\n",
              "      </button>\n",
              "      \n",
              "  <style>\n",
              "    .colab-df-container {\n",
              "      display:flex;\n",
              "      flex-wrap:wrap;\n",
              "      gap: 12px;\n",
              "    }\n",
              "\n",
              "    .colab-df-convert {\n",
              "      background-color: #E8F0FE;\n",
              "      border: none;\n",
              "      border-radius: 50%;\n",
              "      cursor: pointer;\n",
              "      display: none;\n",
              "      fill: #1967D2;\n",
              "      height: 32px;\n",
              "      padding: 0 0 0 0;\n",
              "      width: 32px;\n",
              "    }\n",
              "\n",
              "    .colab-df-convert:hover {\n",
              "      background-color: #E2EBFA;\n",
              "      box-shadow: 0px 1px 2px rgba(60, 64, 67, 0.3), 0px 1px 3px 1px rgba(60, 64, 67, 0.15);\n",
              "      fill: #174EA6;\n",
              "    }\n",
              "\n",
              "    [theme=dark] .colab-df-convert {\n",
              "      background-color: #3B4455;\n",
              "      fill: #D2E3FC;\n",
              "    }\n",
              "\n",
              "    [theme=dark] .colab-df-convert:hover {\n",
              "      background-color: #434B5C;\n",
              "      box-shadow: 0px 1px 3px 1px rgba(0, 0, 0, 0.15);\n",
              "      filter: drop-shadow(0px 1px 2px rgba(0, 0, 0, 0.3));\n",
              "      fill: #FFFFFF;\n",
              "    }\n",
              "  </style>\n",
              "\n",
              "      <script>\n",
              "        const buttonEl =\n",
              "          document.querySelector('#df-2db69dea-eb1c-40b5-b1a8-ba977d45e547 button.colab-df-convert');\n",
              "        buttonEl.style.display =\n",
              "          google.colab.kernel.accessAllowed ? 'block' : 'none';\n",
              "\n",
              "        async function convertToInteractive(key) {\n",
              "          const element = document.querySelector('#df-2db69dea-eb1c-40b5-b1a8-ba977d45e547');\n",
              "          const dataTable =\n",
              "            await google.colab.kernel.invokeFunction('convertToInteractive',\n",
              "                                                     [key], {});\n",
              "          if (!dataTable) return;\n",
              "\n",
              "          const docLinkHtml = 'Like what you see? Visit the ' +\n",
              "            '<a target=\"_blank\" href=https://colab.research.google.com/notebooks/data_table.ipynb>data table notebook</a>'\n",
              "            + ' to learn more about interactive tables.';\n",
              "          element.innerHTML = '';\n",
              "          dataTable['output_type'] = 'display_data';\n",
              "          await google.colab.output.renderOutput(dataTable, element);\n",
              "          const docLink = document.createElement('div');\n",
              "          docLink.innerHTML = docLinkHtml;\n",
              "          element.appendChild(docLink);\n",
              "        }\n",
              "      </script>\n",
              "    </div>\n",
              "  </div>\n",
              "  "
            ]
          },
          "metadata": {},
          "execution_count": 61
        }
      ],
      "source": [
        "def HandleHp(data, col):\n",
        "    # Guarding \n",
        "    if (data[col].dtypes == 'object'):\n",
        "        print (\"  Current data type is : \", data[col].dtypes)\n",
        "        data['Horsepower']= data['Horsepower'].str.replace('?','99.00')\n",
        "        data['Horsepower'] = pd.to_numeric(data['Horsepower'])\n",
        "        print (\"  Changed data type is : \", data[col].dtypes)\n",
        "        \n",
        "    return data \n",
        "\n",
        "HandleHp(data, 'Horsepower')\n",
        "print(data.dtypes)\n",
        "data.tail(30)"
      ]
    },
    {
      "cell_type": "code",
      "execution_count": null,
      "id": "e6441555",
      "metadata": {
        "deletable": false,
        "editable": false,
        "id": "e6441555",
        "colab": {
          "base_uri": "https://localhost:8080/",
          "height": 46
        },
        "outputId": "375267d1-0832-461f-ca46-8967635b8f29"
      },
      "outputs": [
        {
          "output_type": "execute_result",
          "data": {
            "text/plain": [
              "q13 results: All test cases passed!"
            ],
            "text/html": [
              "<p><strong><pre style='display: inline;'>q13</pre></strong> passed!</p>"
            ]
          },
          "metadata": {},
          "execution_count": 62
        }
      ],
      "source": [
        "grader.check(\"q13\")"
      ]
    },
    {
      "cell_type": "markdown",
      "id": "e18c7edf",
      "metadata": {
        "id": "e18c7edf",
        "tags": []
      },
      "source": [
        "## Exercise 4: Data Aggregation and Grouping \n",
        "\n",
        "Add two new columns for Kmpl (km per liter) and Kmpg (km per gallon). \n",
        "\n",
        "Note, the conversions are 1 mpg = 0.425144 kmpl  and 1 mpg = 1.609 kmpg."
      ]
    },
    {
      "cell_type": "markdown",
      "id": "dd94041b",
      "metadata": {
        "id": "dd94041b"
      },
      "source": [
        "_Type your answer here, replacing this text._"
      ]
    },
    {
      "cell_type": "code",
      "execution_count": null,
      "id": "f5dd53e5",
      "metadata": {
        "id": "f5dd53e5",
        "tags": [],
        "colab": {
          "base_uri": "https://localhost:8080/"
        },
        "outputId": "708d4c63-d053-48ad-8dd3-944978a9bc94"
      },
      "outputs": [
        {
          "output_type": "stream",
          "name": "stdout",
          "text": [
            "                            Mpg  Cylinders  Displacement  Horsepower  Weight  \\\n",
            "Car_Name                                                                       \n",
            "Chevrolet_Chevelle_Malibu  18.0          8         307.0       130.0  3504.0   \n",
            "Buick_Skylark_320          15.0          8         350.0       165.0  3693.0   \n",
            "Plymouth_Satellite         18.0          8         318.0       150.0  3436.0   \n",
            "Amc_Rebel_Sst              16.0          8         304.0       150.0  3433.0   \n",
            "Ford_Torino                17.0          8         302.0       140.0  3449.0   \n",
            "\n",
            "                           Acceleration  Model_Year  Origin  \\\n",
            "Car_Name                                                      \n",
            "Chevrolet_Chevelle_Malibu          12.0          70       1   \n",
            "Buick_Skylark_320                  11.5          70       1   \n",
            "Plymouth_Satellite                 11.0          70       1   \n",
            "Amc_Rebel_Sst                      12.0          70       1   \n",
            "Ford_Torino                        10.5          70       1   \n",
            "\n",
            "                                            Car_Name      Kmpl    Kmpg  \n",
            "Car_Name                                                                \n",
            "Chevrolet_Chevelle_Malibu  Chevrolet_Chevelle_Malibu  7.652592  28.962  \n",
            "Buick_Skylark_320                  Buick_Skylark_320  6.377160  24.135  \n",
            "Plymouth_Satellite                Plymouth_Satellite  7.652592  28.962  \n",
            "Amc_Rebel_Sst                          Amc_Rebel_Sst  6.802304  25.744  \n",
            "Ford_Torino                              Ford_Torino  7.227448  27.353  \n"
          ]
        }
      ],
      "source": [
        "#  Add two new columns\n",
        "data['Kmpl'] = data['Mpg']*0.425144\n",
        "data['Kmpg'] = data['Mpg']*1.609\n",
        "print (data.head())"
      ]
    },
    {
      "cell_type": "code",
      "execution_count": null,
      "id": "3db6382e",
      "metadata": {
        "id": "3db6382e",
        "tags": [],
        "colab": {
          "base_uri": "https://localhost:8080/",
          "height": 772
        },
        "outputId": "5643ddbd-0f6f-499b-fe09-f206c0b400b0"
      },
      "outputs": [
        {
          "output_type": "execute_result",
          "data": {
            "text/plain": [
              "                               Mpg  Cylinders  Displacement  Horsepower  \\\n",
              "Car_Name                                                                  \n",
              "Chevrolet_Chevelle_Malibu     18.0          8         307.0       130.0   \n",
              "Buick_Skylark_320             15.0          8         350.0       165.0   \n",
              "Plymouth_Satellite            18.0          8         318.0       150.0   \n",
              "Amc_Rebel_Sst                 16.0          8         304.0       150.0   \n",
              "Ford_Torino                   17.0          8         302.0       140.0   \n",
              "Ford_Galaxie_500              15.0          8         429.0       198.0   \n",
              "Chevrolet_Impala              14.0          8         454.0       220.0   \n",
              "Plymouth_Fury_Iii             14.0          8         440.0       215.0   \n",
              "Pontiac_Catalina              14.0          8         455.0       225.0   \n",
              "Amc_Ambassador_Dpl            15.0          8         390.0       190.0   \n",
              "Dodge_Challenger_Se           15.0          8         383.0       170.0   \n",
              "Plymouth_'Cuda_340            14.0          8         340.0       160.0   \n",
              "Chevrolet_Monte_Carlo         15.0          8         400.0       150.0   \n",
              "Buick_Estate_Wagon_(Sw)       14.0          8         455.0       225.0   \n",
              "Toyota_Corona_Mark_Ii         24.0          4         113.0        95.0   \n",
              "Plymouth_Duster               22.0          6         198.0        95.0   \n",
              "Amc_Hornet                    18.0          6         199.0        97.0   \n",
              "Ford_Maverick                 21.0          6         200.0        85.0   \n",
              "Datsun_Pl510                  27.0          4          97.0        88.0   \n",
              "Volkswagen_1131_Deluxe_Sedan  26.0          4          97.0        46.0   \n",
              "\n",
              "                              Weight  Acceleration  Model_Year  Origin  \\\n",
              "Car_Name                                                                 \n",
              "Chevrolet_Chevelle_Malibu     3504.0          12.0          70       1   \n",
              "Buick_Skylark_320             3693.0          11.5          70       1   \n",
              "Plymouth_Satellite            3436.0          11.0          70       1   \n",
              "Amc_Rebel_Sst                 3433.0          12.0          70       1   \n",
              "Ford_Torino                   3449.0          10.5          70       1   \n",
              "Ford_Galaxie_500              4341.0          10.0          70       1   \n",
              "Chevrolet_Impala              4354.0           9.0          70       1   \n",
              "Plymouth_Fury_Iii             4312.0           8.5          70       1   \n",
              "Pontiac_Catalina              4425.0          10.0          70       1   \n",
              "Amc_Ambassador_Dpl            3850.0           8.5          70       1   \n",
              "Dodge_Challenger_Se           3563.0          10.0          70       1   \n",
              "Plymouth_'Cuda_340            3609.0           8.0          70       1   \n",
              "Chevrolet_Monte_Carlo         3761.0           9.5          70       1   \n",
              "Buick_Estate_Wagon_(Sw)       3086.0          10.0          70       1   \n",
              "Toyota_Corona_Mark_Ii         2372.0          15.0          70       3   \n",
              "Plymouth_Duster               2833.0          15.5          70       1   \n",
              "Amc_Hornet                    2774.0          15.5          70       1   \n",
              "Ford_Maverick                 2587.0          16.0          70       1   \n",
              "Datsun_Pl510                  2130.0          14.5          70       3   \n",
              "Volkswagen_1131_Deluxe_Sedan  1835.0          20.5          70       2   \n",
              "\n",
              "                                                  Car_Name       Kmpl    Kmpg  \\\n",
              "Car_Name                                                                        \n",
              "Chevrolet_Chevelle_Malibu        Chevrolet_Chevelle_Malibu   7.652592  28.962   \n",
              "Buick_Skylark_320                        Buick_Skylark_320   6.377160  24.135   \n",
              "Plymouth_Satellite                      Plymouth_Satellite   7.652592  28.962   \n",
              "Amc_Rebel_Sst                                Amc_Rebel_Sst   6.802304  25.744   \n",
              "Ford_Torino                                    Ford_Torino   7.227448  27.353   \n",
              "Ford_Galaxie_500                          Ford_Galaxie_500   6.377160  24.135   \n",
              "Chevrolet_Impala                          Chevrolet_Impala   5.952016  22.526   \n",
              "Plymouth_Fury_Iii                        Plymouth_Fury_Iii   5.952016  22.526   \n",
              "Pontiac_Catalina                          Pontiac_Catalina   5.952016  22.526   \n",
              "Amc_Ambassador_Dpl                      Amc_Ambassador_Dpl   6.377160  24.135   \n",
              "Dodge_Challenger_Se                    Dodge_Challenger_Se   6.377160  24.135   \n",
              "Plymouth_'Cuda_340                      Plymouth_'Cuda_340   5.952016  22.526   \n",
              "Chevrolet_Monte_Carlo                Chevrolet_Monte_Carlo   6.377160  24.135   \n",
              "Buick_Estate_Wagon_(Sw)            Buick_Estate_Wagon_(Sw)   5.952016  22.526   \n",
              "Toyota_Corona_Mark_Ii                Toyota_Corona_Mark_Ii  10.203456  38.616   \n",
              "Plymouth_Duster                            Plymouth_Duster   9.353168  35.398   \n",
              "Amc_Hornet                                      Amc_Hornet   7.652592  28.962   \n",
              "Ford_Maverick                                Ford_Maverick   8.928024  33.789   \n",
              "Datsun_Pl510                                  Datsun_Pl510  11.478888  43.443   \n",
              "Volkswagen_1131_Deluxe_Sedan  Volkswagen_1131_Deluxe_Sedan  11.053744  41.834   \n",
              "\n",
              "                             Region_Origin  \n",
              "Car_Name                                    \n",
              "Chevrolet_Chevelle_Malibu              USA  \n",
              "Buick_Skylark_320                      USA  \n",
              "Plymouth_Satellite                     USA  \n",
              "Amc_Rebel_Sst                          USA  \n",
              "Ford_Torino                            USA  \n",
              "Ford_Galaxie_500                       USA  \n",
              "Chevrolet_Impala                       USA  \n",
              "Plymouth_Fury_Iii                      USA  \n",
              "Pontiac_Catalina                       USA  \n",
              "Amc_Ambassador_Dpl                     USA  \n",
              "Dodge_Challenger_Se                    USA  \n",
              "Plymouth_'Cuda_340                     USA  \n",
              "Chevrolet_Monte_Carlo                  USA  \n",
              "Buick_Estate_Wagon_(Sw)                USA  \n",
              "Toyota_Corona_Mark_Ii                 Asia  \n",
              "Plymouth_Duster                        USA  \n",
              "Amc_Hornet                             USA  \n",
              "Ford_Maverick                          USA  \n",
              "Datsun_Pl510                          Asia  \n",
              "Volkswagen_1131_Deluxe_Sedan        Europe  "
            ],
            "text/html": [
              "\n",
              "  <div id=\"df-74efa3ff-5813-4654-ba86-e0b39f945930\">\n",
              "    <div class=\"colab-df-container\">\n",
              "      <div>\n",
              "<style scoped>\n",
              "    .dataframe tbody tr th:only-of-type {\n",
              "        vertical-align: middle;\n",
              "    }\n",
              "\n",
              "    .dataframe tbody tr th {\n",
              "        vertical-align: top;\n",
              "    }\n",
              "\n",
              "    .dataframe thead th {\n",
              "        text-align: right;\n",
              "    }\n",
              "</style>\n",
              "<table border=\"1\" class=\"dataframe\">\n",
              "  <thead>\n",
              "    <tr style=\"text-align: right;\">\n",
              "      <th></th>\n",
              "      <th>Mpg</th>\n",
              "      <th>Cylinders</th>\n",
              "      <th>Displacement</th>\n",
              "      <th>Horsepower</th>\n",
              "      <th>Weight</th>\n",
              "      <th>Acceleration</th>\n",
              "      <th>Model_Year</th>\n",
              "      <th>Origin</th>\n",
              "      <th>Car_Name</th>\n",
              "      <th>Kmpl</th>\n",
              "      <th>Kmpg</th>\n",
              "      <th>Region_Origin</th>\n",
              "    </tr>\n",
              "    <tr>\n",
              "      <th>Car_Name</th>\n",
              "      <th></th>\n",
              "      <th></th>\n",
              "      <th></th>\n",
              "      <th></th>\n",
              "      <th></th>\n",
              "      <th></th>\n",
              "      <th></th>\n",
              "      <th></th>\n",
              "      <th></th>\n",
              "      <th></th>\n",
              "      <th></th>\n",
              "      <th></th>\n",
              "    </tr>\n",
              "  </thead>\n",
              "  <tbody>\n",
              "    <tr>\n",
              "      <th>Chevrolet_Chevelle_Malibu</th>\n",
              "      <td>18.0</td>\n",
              "      <td>8</td>\n",
              "      <td>307.0</td>\n",
              "      <td>130.0</td>\n",
              "      <td>3504.0</td>\n",
              "      <td>12.0</td>\n",
              "      <td>70</td>\n",
              "      <td>1</td>\n",
              "      <td>Chevrolet_Chevelle_Malibu</td>\n",
              "      <td>7.652592</td>\n",
              "      <td>28.962</td>\n",
              "      <td>USA</td>\n",
              "    </tr>\n",
              "    <tr>\n",
              "      <th>Buick_Skylark_320</th>\n",
              "      <td>15.0</td>\n",
              "      <td>8</td>\n",
              "      <td>350.0</td>\n",
              "      <td>165.0</td>\n",
              "      <td>3693.0</td>\n",
              "      <td>11.5</td>\n",
              "      <td>70</td>\n",
              "      <td>1</td>\n",
              "      <td>Buick_Skylark_320</td>\n",
              "      <td>6.377160</td>\n",
              "      <td>24.135</td>\n",
              "      <td>USA</td>\n",
              "    </tr>\n",
              "    <tr>\n",
              "      <th>Plymouth_Satellite</th>\n",
              "      <td>18.0</td>\n",
              "      <td>8</td>\n",
              "      <td>318.0</td>\n",
              "      <td>150.0</td>\n",
              "      <td>3436.0</td>\n",
              "      <td>11.0</td>\n",
              "      <td>70</td>\n",
              "      <td>1</td>\n",
              "      <td>Plymouth_Satellite</td>\n",
              "      <td>7.652592</td>\n",
              "      <td>28.962</td>\n",
              "      <td>USA</td>\n",
              "    </tr>\n",
              "    <tr>\n",
              "      <th>Amc_Rebel_Sst</th>\n",
              "      <td>16.0</td>\n",
              "      <td>8</td>\n",
              "      <td>304.0</td>\n",
              "      <td>150.0</td>\n",
              "      <td>3433.0</td>\n",
              "      <td>12.0</td>\n",
              "      <td>70</td>\n",
              "      <td>1</td>\n",
              "      <td>Amc_Rebel_Sst</td>\n",
              "      <td>6.802304</td>\n",
              "      <td>25.744</td>\n",
              "      <td>USA</td>\n",
              "    </tr>\n",
              "    <tr>\n",
              "      <th>Ford_Torino</th>\n",
              "      <td>17.0</td>\n",
              "      <td>8</td>\n",
              "      <td>302.0</td>\n",
              "      <td>140.0</td>\n",
              "      <td>3449.0</td>\n",
              "      <td>10.5</td>\n",
              "      <td>70</td>\n",
              "      <td>1</td>\n",
              "      <td>Ford_Torino</td>\n",
              "      <td>7.227448</td>\n",
              "      <td>27.353</td>\n",
              "      <td>USA</td>\n",
              "    </tr>\n",
              "    <tr>\n",
              "      <th>Ford_Galaxie_500</th>\n",
              "      <td>15.0</td>\n",
              "      <td>8</td>\n",
              "      <td>429.0</td>\n",
              "      <td>198.0</td>\n",
              "      <td>4341.0</td>\n",
              "      <td>10.0</td>\n",
              "      <td>70</td>\n",
              "      <td>1</td>\n",
              "      <td>Ford_Galaxie_500</td>\n",
              "      <td>6.377160</td>\n",
              "      <td>24.135</td>\n",
              "      <td>USA</td>\n",
              "    </tr>\n",
              "    <tr>\n",
              "      <th>Chevrolet_Impala</th>\n",
              "      <td>14.0</td>\n",
              "      <td>8</td>\n",
              "      <td>454.0</td>\n",
              "      <td>220.0</td>\n",
              "      <td>4354.0</td>\n",
              "      <td>9.0</td>\n",
              "      <td>70</td>\n",
              "      <td>1</td>\n",
              "      <td>Chevrolet_Impala</td>\n",
              "      <td>5.952016</td>\n",
              "      <td>22.526</td>\n",
              "      <td>USA</td>\n",
              "    </tr>\n",
              "    <tr>\n",
              "      <th>Plymouth_Fury_Iii</th>\n",
              "      <td>14.0</td>\n",
              "      <td>8</td>\n",
              "      <td>440.0</td>\n",
              "      <td>215.0</td>\n",
              "      <td>4312.0</td>\n",
              "      <td>8.5</td>\n",
              "      <td>70</td>\n",
              "      <td>1</td>\n",
              "      <td>Plymouth_Fury_Iii</td>\n",
              "      <td>5.952016</td>\n",
              "      <td>22.526</td>\n",
              "      <td>USA</td>\n",
              "    </tr>\n",
              "    <tr>\n",
              "      <th>Pontiac_Catalina</th>\n",
              "      <td>14.0</td>\n",
              "      <td>8</td>\n",
              "      <td>455.0</td>\n",
              "      <td>225.0</td>\n",
              "      <td>4425.0</td>\n",
              "      <td>10.0</td>\n",
              "      <td>70</td>\n",
              "      <td>1</td>\n",
              "      <td>Pontiac_Catalina</td>\n",
              "      <td>5.952016</td>\n",
              "      <td>22.526</td>\n",
              "      <td>USA</td>\n",
              "    </tr>\n",
              "    <tr>\n",
              "      <th>Amc_Ambassador_Dpl</th>\n",
              "      <td>15.0</td>\n",
              "      <td>8</td>\n",
              "      <td>390.0</td>\n",
              "      <td>190.0</td>\n",
              "      <td>3850.0</td>\n",
              "      <td>8.5</td>\n",
              "      <td>70</td>\n",
              "      <td>1</td>\n",
              "      <td>Amc_Ambassador_Dpl</td>\n",
              "      <td>6.377160</td>\n",
              "      <td>24.135</td>\n",
              "      <td>USA</td>\n",
              "    </tr>\n",
              "    <tr>\n",
              "      <th>Dodge_Challenger_Se</th>\n",
              "      <td>15.0</td>\n",
              "      <td>8</td>\n",
              "      <td>383.0</td>\n",
              "      <td>170.0</td>\n",
              "      <td>3563.0</td>\n",
              "      <td>10.0</td>\n",
              "      <td>70</td>\n",
              "      <td>1</td>\n",
              "      <td>Dodge_Challenger_Se</td>\n",
              "      <td>6.377160</td>\n",
              "      <td>24.135</td>\n",
              "      <td>USA</td>\n",
              "    </tr>\n",
              "    <tr>\n",
              "      <th>Plymouth_'Cuda_340</th>\n",
              "      <td>14.0</td>\n",
              "      <td>8</td>\n",
              "      <td>340.0</td>\n",
              "      <td>160.0</td>\n",
              "      <td>3609.0</td>\n",
              "      <td>8.0</td>\n",
              "      <td>70</td>\n",
              "      <td>1</td>\n",
              "      <td>Plymouth_'Cuda_340</td>\n",
              "      <td>5.952016</td>\n",
              "      <td>22.526</td>\n",
              "      <td>USA</td>\n",
              "    </tr>\n",
              "    <tr>\n",
              "      <th>Chevrolet_Monte_Carlo</th>\n",
              "      <td>15.0</td>\n",
              "      <td>8</td>\n",
              "      <td>400.0</td>\n",
              "      <td>150.0</td>\n",
              "      <td>3761.0</td>\n",
              "      <td>9.5</td>\n",
              "      <td>70</td>\n",
              "      <td>1</td>\n",
              "      <td>Chevrolet_Monte_Carlo</td>\n",
              "      <td>6.377160</td>\n",
              "      <td>24.135</td>\n",
              "      <td>USA</td>\n",
              "    </tr>\n",
              "    <tr>\n",
              "      <th>Buick_Estate_Wagon_(Sw)</th>\n",
              "      <td>14.0</td>\n",
              "      <td>8</td>\n",
              "      <td>455.0</td>\n",
              "      <td>225.0</td>\n",
              "      <td>3086.0</td>\n",
              "      <td>10.0</td>\n",
              "      <td>70</td>\n",
              "      <td>1</td>\n",
              "      <td>Buick_Estate_Wagon_(Sw)</td>\n",
              "      <td>5.952016</td>\n",
              "      <td>22.526</td>\n",
              "      <td>USA</td>\n",
              "    </tr>\n",
              "    <tr>\n",
              "      <th>Toyota_Corona_Mark_Ii</th>\n",
              "      <td>24.0</td>\n",
              "      <td>4</td>\n",
              "      <td>113.0</td>\n",
              "      <td>95.0</td>\n",
              "      <td>2372.0</td>\n",
              "      <td>15.0</td>\n",
              "      <td>70</td>\n",
              "      <td>3</td>\n",
              "      <td>Toyota_Corona_Mark_Ii</td>\n",
              "      <td>10.203456</td>\n",
              "      <td>38.616</td>\n",
              "      <td>Asia</td>\n",
              "    </tr>\n",
              "    <tr>\n",
              "      <th>Plymouth_Duster</th>\n",
              "      <td>22.0</td>\n",
              "      <td>6</td>\n",
              "      <td>198.0</td>\n",
              "      <td>95.0</td>\n",
              "      <td>2833.0</td>\n",
              "      <td>15.5</td>\n",
              "      <td>70</td>\n",
              "      <td>1</td>\n",
              "      <td>Plymouth_Duster</td>\n",
              "      <td>9.353168</td>\n",
              "      <td>35.398</td>\n",
              "      <td>USA</td>\n",
              "    </tr>\n",
              "    <tr>\n",
              "      <th>Amc_Hornet</th>\n",
              "      <td>18.0</td>\n",
              "      <td>6</td>\n",
              "      <td>199.0</td>\n",
              "      <td>97.0</td>\n",
              "      <td>2774.0</td>\n",
              "      <td>15.5</td>\n",
              "      <td>70</td>\n",
              "      <td>1</td>\n",
              "      <td>Amc_Hornet</td>\n",
              "      <td>7.652592</td>\n",
              "      <td>28.962</td>\n",
              "      <td>USA</td>\n",
              "    </tr>\n",
              "    <tr>\n",
              "      <th>Ford_Maverick</th>\n",
              "      <td>21.0</td>\n",
              "      <td>6</td>\n",
              "      <td>200.0</td>\n",
              "      <td>85.0</td>\n",
              "      <td>2587.0</td>\n",
              "      <td>16.0</td>\n",
              "      <td>70</td>\n",
              "      <td>1</td>\n",
              "      <td>Ford_Maverick</td>\n",
              "      <td>8.928024</td>\n",
              "      <td>33.789</td>\n",
              "      <td>USA</td>\n",
              "    </tr>\n",
              "    <tr>\n",
              "      <th>Datsun_Pl510</th>\n",
              "      <td>27.0</td>\n",
              "      <td>4</td>\n",
              "      <td>97.0</td>\n",
              "      <td>88.0</td>\n",
              "      <td>2130.0</td>\n",
              "      <td>14.5</td>\n",
              "      <td>70</td>\n",
              "      <td>3</td>\n",
              "      <td>Datsun_Pl510</td>\n",
              "      <td>11.478888</td>\n",
              "      <td>43.443</td>\n",
              "      <td>Asia</td>\n",
              "    </tr>\n",
              "    <tr>\n",
              "      <th>Volkswagen_1131_Deluxe_Sedan</th>\n",
              "      <td>26.0</td>\n",
              "      <td>4</td>\n",
              "      <td>97.0</td>\n",
              "      <td>46.0</td>\n",
              "      <td>1835.0</td>\n",
              "      <td>20.5</td>\n",
              "      <td>70</td>\n",
              "      <td>2</td>\n",
              "      <td>Volkswagen_1131_Deluxe_Sedan</td>\n",
              "      <td>11.053744</td>\n",
              "      <td>41.834</td>\n",
              "      <td>Europe</td>\n",
              "    </tr>\n",
              "  </tbody>\n",
              "</table>\n",
              "</div>\n",
              "      <button class=\"colab-df-convert\" onclick=\"convertToInteractive('df-74efa3ff-5813-4654-ba86-e0b39f945930')\"\n",
              "              title=\"Convert this dataframe to an interactive table.\"\n",
              "              style=\"display:none;\">\n",
              "        \n",
              "  <svg xmlns=\"http://www.w3.org/2000/svg\" height=\"24px\"viewBox=\"0 0 24 24\"\n",
              "       width=\"24px\">\n",
              "    <path d=\"M0 0h24v24H0V0z\" fill=\"none\"/>\n",
              "    <path d=\"M18.56 5.44l.94 2.06.94-2.06 2.06-.94-2.06-.94-.94-2.06-.94 2.06-2.06.94zm-11 1L8.5 8.5l.94-2.06 2.06-.94-2.06-.94L8.5 2.5l-.94 2.06-2.06.94zm10 10l.94 2.06.94-2.06 2.06-.94-2.06-.94-.94-2.06-.94 2.06-2.06.94z\"/><path d=\"M17.41 7.96l-1.37-1.37c-.4-.4-.92-.59-1.43-.59-.52 0-1.04.2-1.43.59L10.3 9.45l-7.72 7.72c-.78.78-.78 2.05 0 2.83L4 21.41c.39.39.9.59 1.41.59.51 0 1.02-.2 1.41-.59l7.78-7.78 2.81-2.81c.8-.78.8-2.07 0-2.86zM5.41 20L4 18.59l7.72-7.72 1.47 1.35L5.41 20z\"/>\n",
              "  </svg>\n",
              "      </button>\n",
              "      \n",
              "  <style>\n",
              "    .colab-df-container {\n",
              "      display:flex;\n",
              "      flex-wrap:wrap;\n",
              "      gap: 12px;\n",
              "    }\n",
              "\n",
              "    .colab-df-convert {\n",
              "      background-color: #E8F0FE;\n",
              "      border: none;\n",
              "      border-radius: 50%;\n",
              "      cursor: pointer;\n",
              "      display: none;\n",
              "      fill: #1967D2;\n",
              "      height: 32px;\n",
              "      padding: 0 0 0 0;\n",
              "      width: 32px;\n",
              "    }\n",
              "\n",
              "    .colab-df-convert:hover {\n",
              "      background-color: #E2EBFA;\n",
              "      box-shadow: 0px 1px 2px rgba(60, 64, 67, 0.3), 0px 1px 3px 1px rgba(60, 64, 67, 0.15);\n",
              "      fill: #174EA6;\n",
              "    }\n",
              "\n",
              "    [theme=dark] .colab-df-convert {\n",
              "      background-color: #3B4455;\n",
              "      fill: #D2E3FC;\n",
              "    }\n",
              "\n",
              "    [theme=dark] .colab-df-convert:hover {\n",
              "      background-color: #434B5C;\n",
              "      box-shadow: 0px 1px 3px 1px rgba(0, 0, 0, 0.15);\n",
              "      filter: drop-shadow(0px 1px 2px rgba(0, 0, 0, 0.3));\n",
              "      fill: #FFFFFF;\n",
              "    }\n",
              "  </style>\n",
              "\n",
              "      <script>\n",
              "        const buttonEl =\n",
              "          document.querySelector('#df-74efa3ff-5813-4654-ba86-e0b39f945930 button.colab-df-convert');\n",
              "        buttonEl.style.display =\n",
              "          google.colab.kernel.accessAllowed ? 'block' : 'none';\n",
              "\n",
              "        async function convertToInteractive(key) {\n",
              "          const element = document.querySelector('#df-74efa3ff-5813-4654-ba86-e0b39f945930');\n",
              "          const dataTable =\n",
              "            await google.colab.kernel.invokeFunction('convertToInteractive',\n",
              "                                                     [key], {});\n",
              "          if (!dataTable) return;\n",
              "\n",
              "          const docLinkHtml = 'Like what you see? Visit the ' +\n",
              "            '<a target=\"_blank\" href=https://colab.research.google.com/notebooks/data_table.ipynb>data table notebook</a>'\n",
              "            + ' to learn more about interactive tables.';\n",
              "          element.innerHTML = '';\n",
              "          dataTable['output_type'] = 'display_data';\n",
              "          await google.colab.output.renderOutput(dataTable, element);\n",
              "          const docLink = document.createElement('div');\n",
              "          docLink.innerHTML = docLinkHtml;\n",
              "          element.appendChild(docLink);\n",
              "        }\n",
              "      </script>\n",
              "    </div>\n",
              "  </div>\n",
              "  "
            ]
          },
          "metadata": {},
          "execution_count": 64
        }
      ],
      "source": [
        "# Add Region_Origin column\n",
        "import numpy as np\n",
        "\n",
        "data.loc[data[\"Origin\"] == 1, \"Region_Origin\"] = 'USA'\n",
        "data.loc[data[\"Origin\"] == 2, \"Region_Origin\"] = 'Europe'\n",
        "data.loc[data[\"Origin\"] == 3, \"Region_Origin\"] = 'Asia'\n",
        "data.head(20)"
      ]
    },
    {
      "cell_type": "code",
      "execution_count": null,
      "id": "71df779d",
      "metadata": {
        "deletable": false,
        "editable": false,
        "id": "71df779d",
        "colab": {
          "base_uri": "https://localhost:8080/",
          "height": 46
        },
        "outputId": "88474a6f-302c-4828-9e8b-01890081ba07"
      },
      "outputs": [
        {
          "output_type": "execute_result",
          "data": {
            "text/plain": [
              "q14 results: All test cases passed!"
            ],
            "text/html": [
              "<p><strong><pre style='display: inline;'>q14</pre></strong> passed!</p>"
            ]
          },
          "metadata": {},
          "execution_count": 65
        }
      ],
      "source": [
        "grader.check(\"q14\")"
      ]
    },
    {
      "cell_type": "markdown",
      "id": "e741555b",
      "metadata": {
        "id": "e741555b",
        "tags": []
      },
      "source": [
        "## Exercise 5: Grouping \n",
        "\n",
        "Let's create a number of different groups for the data set. \n",
        "\n",
        "* Group 1 - group by 'region origin' \n",
        "* Group 2 - group by 'model year' \n",
        "* Group 3 - group by 'model year' and 'region origin' \n",
        "\n",
        "Let's look at these groups iterating with for loops"
      ]
    },
    {
      "cell_type": "code",
      "execution_count": null,
      "id": "fa2a2824",
      "metadata": {
        "id": "fa2a2824",
        "tags": [],
        "colab": {
          "base_uri": "https://localhost:8080/"
        },
        "outputId": "c683a019-ef06-4f4e-e682-69fc1c7f2d61"
      },
      "outputs": [
        {
          "output_type": "stream",
          "name": "stdout",
          "text": [
            "Asia\n",
            "*** Start \n",
            "                        Mpg  Cylinders  Displacement  Horsepower  Weight  \\\n",
            "Car_Name                                                                   \n",
            "Toyota_Corona_Mark_Ii  24.0          4         113.0        95.0  2372.0   \n",
            "Datsun_Pl510           27.0          4          97.0        88.0  2130.0   \n",
            "Datsun_Pl510           27.0          4          97.0        88.0  2130.0   \n",
            "Toyota_Corona          25.0          4         113.0        95.0  2228.0   \n",
            "\n",
            "                       Acceleration  Model_Year  Origin  \\\n",
            "Car_Name                                                  \n",
            "Toyota_Corona_Mark_Ii          15.0          70       3   \n",
            "Datsun_Pl510                   14.5          70       3   \n",
            "Datsun_Pl510                   14.5          71       3   \n",
            "Toyota_Corona                  14.0          71       3   \n",
            "\n",
            "                                    Car_Name       Kmpl    Kmpg Region_Origin  \n",
            "Car_Name                                                                       \n",
            "Toyota_Corona_Mark_Ii  Toyota_Corona_Mark_Ii  10.203456  38.616          Asia  \n",
            "Datsun_Pl510                    Datsun_Pl510  11.478888  43.443          Asia  \n",
            "Datsun_Pl510                    Datsun_Pl510  11.478888  43.443          Asia  \n",
            "Toyota_Corona                  Toyota_Corona  10.628600  40.225          Asia  \n",
            "*** End \n",
            "Europe\n",
            "*** Start \n",
            "                               Mpg  Cylinders  Displacement  Horsepower  \\\n",
            "Car_Name                                                                  \n",
            "Volkswagen_1131_Deluxe_Sedan  26.0          4          97.0        46.0   \n",
            "Peugeot_504                   25.0          4         110.0        87.0   \n",
            "Audi_100_Ls                   24.0          4         107.0        90.0   \n",
            "Saab_99E                      25.0          4         104.0        95.0   \n",
            "\n",
            "                              Weight  Acceleration  Model_Year  Origin  \\\n",
            "Car_Name                                                                 \n",
            "Volkswagen_1131_Deluxe_Sedan  1835.0          20.5          70       2   \n",
            "Peugeot_504                   2672.0          17.5          70       2   \n",
            "Audi_100_Ls                   2430.0          14.5          70       2   \n",
            "Saab_99E                      2375.0          17.5          70       2   \n",
            "\n",
            "                                                  Car_Name       Kmpl    Kmpg  \\\n",
            "Car_Name                                                                        \n",
            "Volkswagen_1131_Deluxe_Sedan  Volkswagen_1131_Deluxe_Sedan  11.053744  41.834   \n",
            "Peugeot_504                                    Peugeot_504  10.628600  40.225   \n",
            "Audi_100_Ls                                    Audi_100_Ls  10.203456  38.616   \n",
            "Saab_99E                                          Saab_99E  10.628600  40.225   \n",
            "\n",
            "                             Region_Origin  \n",
            "Car_Name                                    \n",
            "Volkswagen_1131_Deluxe_Sedan        Europe  \n",
            "Peugeot_504                         Europe  \n",
            "Audi_100_Ls                         Europe  \n",
            "Saab_99E                            Europe  \n",
            "*** End \n",
            "USA\n",
            "*** Start \n",
            "                            Mpg  Cylinders  Displacement  Horsepower  Weight  \\\n",
            "Car_Name                                                                       \n",
            "Chevrolet_Chevelle_Malibu  18.0          8         307.0       130.0  3504.0   \n",
            "Buick_Skylark_320          15.0          8         350.0       165.0  3693.0   \n",
            "Plymouth_Satellite         18.0          8         318.0       150.0  3436.0   \n",
            "Amc_Rebel_Sst              16.0          8         304.0       150.0  3433.0   \n",
            "\n",
            "                           Acceleration  Model_Year  Origin  \\\n",
            "Car_Name                                                      \n",
            "Chevrolet_Chevelle_Malibu          12.0          70       1   \n",
            "Buick_Skylark_320                  11.5          70       1   \n",
            "Plymouth_Satellite                 11.0          70       1   \n",
            "Amc_Rebel_Sst                      12.0          70       1   \n",
            "\n",
            "                                            Car_Name      Kmpl    Kmpg  \\\n",
            "Car_Name                                                                 \n",
            "Chevrolet_Chevelle_Malibu  Chevrolet_Chevelle_Malibu  7.652592  28.962   \n",
            "Buick_Skylark_320                  Buick_Skylark_320  6.377160  24.135   \n",
            "Plymouth_Satellite                Plymouth_Satellite  7.652592  28.962   \n",
            "Amc_Rebel_Sst                          Amc_Rebel_Sst  6.802304  25.744   \n",
            "\n",
            "                          Region_Origin  \n",
            "Car_Name                                 \n",
            "Chevrolet_Chevelle_Malibu           USA  \n",
            "Buick_Skylark_320                   USA  \n",
            "Plymouth_Satellite                  USA  \n",
            "Amc_Rebel_Sst                       USA  \n",
            "*** End \n"
          ]
        }
      ],
      "source": [
        "# Create groups \n",
        "\n",
        "group1 = data.groupby('Region_Origin')\n",
        "group2 = data.groupby('Model_Year')\n",
        "group3 = data.groupby(['Region_Origin','Model_Year'])\n",
        "\n",
        "\n",
        "# Print the data from Group 2 with a for loop \n",
        "#  restrict ourselves to only printing 4 cars in each group. \n",
        "\n",
        "for x, group in group1:\n",
        "    print (x)\n",
        "    print (\"*** Start \")\n",
        "    print (group.head(4))\n",
        "    print (\"*** End \")\n"
      ]
    },
    {
      "cell_type": "code",
      "execution_count": null,
      "id": "2b345262",
      "metadata": {
        "deletable": false,
        "editable": false,
        "id": "2b345262",
        "colab": {
          "base_uri": "https://localhost:8080/",
          "height": 46
        },
        "outputId": "345cd0e1-ffbb-4731-c8f4-79a56f16309c"
      },
      "outputs": [
        {
          "output_type": "execute_result",
          "data": {
            "text/plain": [
              "q15 results: All test cases passed!"
            ],
            "text/html": [
              "<p><strong><pre style='display: inline;'>q15</pre></strong> passed!</p>"
            ]
          },
          "metadata": {},
          "execution_count": 67
        }
      ],
      "source": [
        "grader.check(\"q15\")"
      ]
    },
    {
      "cell_type": "markdown",
      "id": "ccca6e73",
      "metadata": {
        "id": "ccca6e73"
      },
      "source": [
        "<!-- BEGIN QUESTION -->\n",
        "\n",
        "## Exercise 6: Data Exploration and Analysis \n",
        "\n",
        "Create a function `plot_mpg()` that reports the mpg over a grouping.  Consider using line, bar, scatter plots.  \n",
        "\n",
        "The function should: \n",
        "\n",
        "* take as input a DataFrame group \n",
        "* report mpg over the group \n",
        "* make sure the plot looks good and has labels "
      ]
    },
    {
      "cell_type": "code",
      "execution_count": null,
      "id": "6c0ec71d",
      "metadata": {
        "id": "6c0ec71d",
        "tags": [],
        "colab": {
          "base_uri": "https://localhost:8080/",
          "height": 295
        },
        "outputId": "b9a519b9-292e-4c2c-da37-8ecd20ac9faa"
      },
      "outputs": [
        {
          "output_type": "display_data",
          "data": {
            "text/plain": [
              "<Figure size 432x288 with 1 Axes>"
            ],
            "image/png": "[encoded data removed]"
          },
          "metadata": {
            "needs_background": "light"
          }
        }
      ],
      "source": [
        "from matplotlib import legend\n",
        "import matplotlib.pyplot as plt\n",
        "\n",
        "def plot_mpg(my_group):\n",
        "  my_group.Mpg.plot.density(legend = True)\n",
        "  plt.title('Density Plot for Mpg')\n",
        "  plt.xlabel(\"Mpg (Gallons\")\n",
        "  plt.show()\n",
        "  return \n",
        "\n",
        "\n",
        "plot_mpg(group1)\n",
        "#plot_mpg(group2)\n",
        "#plot_mpg(group3)"
      ]
    },
    {
      "cell_type": "markdown",
      "id": "56caab81",
      "metadata": {
        "id": "56caab81"
      },
      "source": [
        "<!-- END QUESTION -->\n",
        "\n",
        "<!-- BEGIN QUESTION -->\n",
        "\n",
        "## Exercise 7: Explore Additional aspects of the data using statistics \n",
        "\n",
        "Look at the statistics for the `float` variables in the data set.  \n",
        "Report there mean, standard deviation, 5-number summary.  \n",
        "Plot the distributions using histograms.  \n",
        "\n",
        "Which distribution has the most skew? \n",
        "\n",
        "Look at the statistics and distribution again now grouped by country of origin.  \n",
        "\n",
        "Look at the statistics and distribution again now grouped by number of cylinders.  "
      ]
    },
    {
      "cell_type": "code",
      "execution_count": null,
      "id": "1bc8d8ef",
      "metadata": {
        "tags": [],
        "id": "1bc8d8ef",
        "colab": {
          "base_uri": "https://localhost:8080/"
        },
        "outputId": "76a3aac2-a8d0-45bf-f92a-4e8b83159e07"
      },
      "outputs": [
        {
          "output_type": "execute_result",
          "data": {
            "text/plain": [
              "Mpg              float64\n",
              "Cylinders          int64\n",
              "Displacement     float64\n",
              "Horsepower       float64\n",
              "Weight           float64\n",
              "Acceleration     float64\n",
              "Model_Year         int64\n",
              "Origin             int64\n",
              "Car_Name          object\n",
              "Kmpl             float64\n",
              "Kmpg             float64\n",
              "Region_Origin     object\n",
              "dtype: object"
            ]
          },
          "metadata": {},
          "execution_count": 69
        }
      ],
      "source": [
        "data.dtypes\n"
      ]
    },
    {
      "cell_type": "code",
      "source": [
        "print(\"5-number summary of Mpg: \\n\")\n",
        "print(data['Mpg'].describe())\n",
        "print(\"\\n 5-number summary of Displacement: \")\n",
        "print(data['Displacement'].describe())\n",
        "print(\"\\n 5-number summary of Horsepower: \")\n",
        "print(data['Horsepower'].describe())\n",
        "print(\"\\n 5-number summary of Weight: \")\n",
        "print(data['Weight'].describe())\n",
        "print(\"\\n 5-number summary of Acceleration: \")\n",
        "print(data['Acceleration'].describe())\n",
        "print(\"\\n 5-number summary of Kmpl: \")\n",
        "print(data['Kmpl'].describe())\n",
        "print(\"\\n 5-number summary of Kmpg: \")\n",
        "print(data['Kmpg'].describe())\n",
        "data.skew()"
      ],
      "metadata": {
        "colab": {
          "base_uri": "https://localhost:8080/"
        },
        "id": "wN9zAMw13RH8",
        "outputId": "a6224cb4-2510-429f-e6e0-49fa861dd128"
      },
      "id": "wN9zAMw13RH8",
      "execution_count": null,
      "outputs": [
        {
          "output_type": "stream",
          "name": "stdout",
          "text": [
            "5-number summary of Mpg: \n",
            "\n",
            "count    398.000000\n",
            "mean      23.514573\n",
            "std        7.815984\n",
            "min        9.000000\n",
            "25%       17.500000\n",
            "50%       23.000000\n",
            "75%       29.000000\n",
            "max       46.600000\n",
            "Name: Mpg, dtype: float64\n",
            "\n",
            " 5-number summary of Displacement: \n",
            "count    398.000000\n",
            "mean     193.425879\n",
            "std      104.269838\n",
            "min       68.000000\n",
            "25%      104.250000\n",
            "50%      148.500000\n",
            "75%      262.000000\n",
            "max      455.000000\n",
            "Name: Displacement, dtype: float64\n",
            "\n",
            " 5-number summary of Horsepower: \n",
            "count    398.000000\n",
            "mean     104.386935\n",
            "std       38.205015\n",
            "min       46.000000\n",
            "25%       76.000000\n",
            "50%       95.000000\n",
            "75%      125.000000\n",
            "max      230.000000\n",
            "Name: Horsepower, dtype: float64\n",
            "\n",
            " 5-number summary of Weight: \n",
            "count     398.000000\n",
            "mean     2970.424623\n",
            "std       846.841774\n",
            "min      1613.000000\n",
            "25%      2223.750000\n",
            "50%      2803.500000\n",
            "75%      3608.000000\n",
            "max      5140.000000\n",
            "Name: Weight, dtype: float64\n",
            "\n",
            " 5-number summary of Acceleration: \n",
            "count    398.000000\n",
            "mean      15.568090\n",
            "std        2.757689\n",
            "min        8.000000\n",
            "25%       13.825000\n",
            "50%       15.500000\n",
            "75%       17.175000\n",
            "max       24.800000\n",
            "Name: Acceleration, dtype: float64\n",
            "\n",
            " 5-number summary of Kmpl: \n",
            "count    398.000000\n",
            "mean       9.997080\n",
            "std        3.322919\n",
            "min        3.826296\n",
            "25%        7.440020\n",
            "50%        9.778312\n",
            "75%       12.329176\n",
            "max       19.811710\n",
            "Name: Kmpl, dtype: float64\n",
            "\n",
            " 5-number summary of Kmpg: \n",
            "count    398.000000\n",
            "mean      37.834948\n",
            "std       12.575919\n",
            "min       14.481000\n",
            "25%       28.157500\n",
            "50%       37.007000\n",
            "75%       46.661000\n",
            "max       74.979400\n",
            "Name: Kmpg, dtype: float64\n"
          ]
        },
        {
          "output_type": "stream",
          "name": "stderr",
          "text": [
            "/usr/local/lib/python3.7/dist-packages/ipykernel_launcher.py:15: FutureWarning: Dropping of nuisance columns in DataFrame reductions (with 'numeric_only=None') is deprecated; in a future version this will raise TypeError.  Select only valid columns before calling the reduction.\n",
            "  from ipykernel import kernelapp as app\n"
          ]
        },
        {
          "output_type": "execute_result",
          "data": {
            "text/plain": [
              "Mpg             0.457066\n",
              "Cylinders       0.526922\n",
              "Displacement    0.719645\n",
              "Horsepower      1.101514\n",
              "Weight          0.531063\n",
              "Acceleration    0.278777\n",
              "Model_Year      0.011535\n",
              "Origin          0.923776\n",
              "Kmpl            0.457066\n",
              "Kmpg            0.457066\n",
              "dtype: float64"
            ]
          },
          "metadata": {},
          "execution_count": 70
        }
      ]
    },
    {
      "cell_type": "markdown",
      "source": [
        "Horsepower is the most skewed parameter\n"
      ],
      "metadata": {
        "id": "KG8BcKlIqDIl"
      },
      "id": "KG8BcKlIqDIl"
    },
    {
      "cell_type": "code",
      "source": [
        "data.hist(figsize=(11,11));"
      ],
      "metadata": {
        "colab": {
          "base_uri": "https://localhost:8080/",
          "height": 662
        },
        "id": "s6A67mSjW-c0",
        "outputId": "179ef9cb-1878-4cba-c0e0-8c6aaa40f17e"
      },
      "id": "s6A67mSjW-c0",
      "execution_count": null,
      "outputs": [
        {
          "output_type": "display_data",
          "data": {
            "text/plain": [
              "<Figure size 792x792 with 12 Axes>"
            ],
            "image/png": "[encoded data removed]"
          },
          "metadata": {
            "needs_background": "light"
          }
        }
      ]
    },
    {
      "cell_type": "code",
      "source": [
        "print(data.groupby('Origin').describe())\n",
        "data.groupby('Origin').hist(figsize=(11,11));"
      ],
      "metadata": {
        "colab": {
          "base_uri": "https://localhost:8080/",
          "height": 1000
        },
        "id": "aD8fu7oncyzJ",
        "outputId": "677a7b25-2bb0-48a2-cfac-909cf673ca98"
      },
      "id": "aD8fu7oncyzJ",
      "execution_count": null,
      "outputs": [
        {
          "output_type": "stream",
          "name": "stdout",
          "text": [
            "          Mpg                                                     Cylinders  \\\n",
            "        count       mean       std   min   25%   50%    75%   max     count   \n",
            "Origin                                                                        \n",
            "1       249.0  20.083534  6.402892   9.0  15.0  18.5  24.00  39.0     249.0   \n",
            "2        70.0  27.891429  6.723930  16.2  24.0  26.5  30.65  44.3      70.0   \n",
            "3        79.0  30.450633  6.090048  18.0  25.7  31.6  34.05  46.6      79.0   \n",
            "\n",
            "                  ...       Kmpl              Kmpg                        \\\n",
            "            mean  ...        75%        max  count       mean        std   \n",
            "Origin            ...                                                      \n",
            "1       6.248996  ...  10.203456  16.580616  249.0  32.314406  10.302253   \n",
            "2       4.157143  ...  13.030664  18.833879   70.0  44.877309  10.818803   \n",
            "3       4.101266  ...  14.476153  19.811710   79.0  48.995068   9.798887   \n",
            "\n",
            "                                                      \n",
            "            min      25%      50%       75%      max  \n",
            "Origin                                                \n",
            "1       14.4810  24.1350  29.7665  38.61600  62.7510  \n",
            "2       26.0658  38.6160  42.6385  49.31585  71.2787  \n",
            "3       28.9620  41.3513  50.8444  54.78645  74.9794  \n",
            "\n",
            "[3 rows x 72 columns]\n"
          ]
        },
        {
          "output_type": "display_data",
          "data": {
            "text/plain": [
              "<Figure size 792x792 with 12 Axes>"
            ],
            "image/png": "[encoded data removed]"
          },
          "metadata": {
            "needs_background": "light"
          }
        },
        {
          "output_type": "display_data",
          "data": {
            "text/plain": [
              "<Figure size 792x792 with 12 Axes>"
            ],
            "image/png": "[encoded data removed]"
          },
          "metadata": {
            "needs_background": "light"
          }
        },
        {
          "output_type": "display_data",
          "data": {
            "text/plain": [
              "<Figure size 792x792 with 12 Axes>"
            ],
            "image/png": "[encoded data removed]"
          },
          "metadata": {
            "needs_background": "light"
          }
        }
      ]
    },
    {
      "cell_type": "code",
      "source": [
        "print(data.groupby('Cylinders').describe())\n",
        "data.groupby('Cylinders').hist(figsize=(11,11));"
      ],
      "metadata": {
        "colab": {
          "base_uri": "https://localhost:8080/",
          "height": 1000
        },
        "id": "oTEPSperdJB_",
        "outputId": "0b8dba04-392d-4349-ce59-a9561958fd50"
      },
      "id": "oTEPSperdJB_",
      "execution_count": null,
      "outputs": [
        {
          "output_type": "stream",
          "name": "stdout",
          "text": [
            "             Mpg                                                        \\\n",
            "           count       mean       std   min    25%    50%    75%   max   \n",
            "Cylinders                                                                \n",
            "3            4.0  20.550000  2.564501  18.0  18.75  20.25  22.05  23.7   \n",
            "4          204.0  29.286765  5.710156  18.0  25.00  28.25  33.00  46.6   \n",
            "5            3.0  27.366667  8.228204  20.3  22.85  25.40  30.90  36.4   \n",
            "6           84.0  19.985714  3.807322  15.0  18.00  19.00  21.00  38.0   \n",
            "8          103.0  14.963107  2.836284   9.0  13.00  14.00  16.00  26.6   \n",
            "\n",
            "          Displacement              ...       Kmpl              Kmpg  \\\n",
            "                 count        mean  ...        75%        max  count   \n",
            "Cylinders                           ...                                \n",
            "3                  4.0   72.500000  ...   9.374425  10.075913    4.0   \n",
            "4                204.0  109.796569  ...  14.029752  19.811710  204.0   \n",
            "5                  3.0  145.000000  ...  13.136950  15.475242    3.0   \n",
            "6                 84.0  218.142857  ...   8.928024  16.155472   84.0   \n",
            "8                103.0  345.009709  ...   6.802304  11.308830  103.0   \n",
            "\n",
            "                                                                        \\\n",
            "                mean        std      min       25%       50%       75%   \n",
            "Cylinders                                                                \n",
            "3          33.064950   4.126283  28.9620  30.16875  32.58225  35.47845   \n",
            "4          47.122404   9.187641  28.9620  40.22500  45.45425  53.09700   \n",
            "5          44.032967  13.239179  32.6627  36.76565  40.86860  49.71810   \n",
            "6          32.157014   6.125980  24.1350  28.96200  30.57100  33.78900   \n",
            "8          24.075639   4.563581  14.4810  20.91700  22.52600  25.74400   \n",
            "\n",
            "                    \n",
            "               max  \n",
            "Cylinders           \n",
            "3          38.1333  \n",
            "4          74.9794  \n",
            "5          58.5676  \n",
            "6          61.1420  \n",
            "8          42.7994  \n",
            "\n",
            "[5 rows x 72 columns]\n"
          ]
        },
        {
          "output_type": "display_data",
          "data": {
            "text/plain": [
              "<Figure size 792x792 with 12 Axes>"
            ],
            "image/png": "[encoded data removed]"
          },
          "metadata": {
            "needs_background": "light"
          }
        },
        {
          "output_type": "display_data",
          "data": {
            "text/plain": [
              "<Figure size 792x792 with 12 Axes>"
            ],
            "image/png": "[encoded data removed]"
          },
          "metadata": {
            "needs_background": "light"
          }
        },
        {
          "output_type": "display_data",
          "data": {
            "text/plain": [
              "<Figure size 792x792 with 12 Axes>"
            ],
            "image/png": "[encoded data removed]"
          },
          "metadata": {
            "needs_background": "light"
          }
        },
        {
          "output_type": "display_data",
          "data": {
            "text/plain": [
              "<Figure size 792x792 with 12 Axes>"
            ],
            "image/png": "[encoded data removed]"
          },
          "metadata": {
            "needs_background": "light"
          }
        },
        {
          "output_type": "display_data",
          "data": {
            "text/plain": [
              "<Figure size 792x792 with 12 Axes>"
            ],
            "image/png": "[encoded data removed]"
          },
          "metadata": {
            "needs_background": "light"
          }
        }
      ]
    },
    {
      "cell_type": "markdown",
      "id": "6902c066",
      "metadata": {
        "id": "6902c066"
      },
      "source": [
        "<!-- END QUESTION -->\n",
        "\n"
      ]
    },
    {
      "cell_type": "markdown",
      "id": "4ca65235",
      "metadata": {
        "deletable": false,
        "editable": false,
        "id": "4ca65235"
      },
      "source": [
        "## Submission\n",
        "\n",
        "Make sure you have run all cells in your notebook in order before running the cell below, so that all images/graphs appear in the output. The cell below will generate a zip file for you to submit. **Please save before exporting!**"
      ]
    },
    {
      "cell_type": "code",
      "execution_count": null,
      "id": "d69ff7a2",
      "metadata": {
        "deletable": false,
        "editable": false,
        "id": "d69ff7a2",
        "colab": {
          "base_uri": "https://localhost:8080/",
          "height": 329
        },
        "outputId": "cd3aafb9-5ac6-4f3a-c1f6-869e241fcc39"
      },
      "outputs": [
        {
          "output_type": "error",
          "ename": "RuntimeError",
          "evalue": "ignored",
          "traceback": [
            "\u001b[0;31m---------------------------------------------------------------------------\u001b[0m",
            "\u001b[0;31mRuntimeError\u001b[0m                              Traceback (most recent call last)",
            "\u001b[0;32m<ipython-input-137-be3b5bae4dea>\u001b[0m in \u001b[0;36m<module>\u001b[0;34m\u001b[0m\n\u001b[1;32m      1\u001b[0m \u001b[0;31m# Save your notebook first, then run this cell to export your submission.\u001b[0m\u001b[0;34m\u001b[0m\u001b[0;34m\u001b[0m\u001b[0;34m\u001b[0m\u001b[0m\n\u001b[0;32m----> 2\u001b[0;31m \u001b[0mgrader\u001b[0m\u001b[0;34m.\u001b[0m\u001b[0mexport\u001b[0m\u001b[0;34m(\u001b[0m\u001b[0mrun_tests\u001b[0m\u001b[0;34m=\u001b[0m\u001b[0;32mTrue\u001b[0m\u001b[0;34m)\u001b[0m\u001b[0;34m\u001b[0m\u001b[0;34m\u001b[0m\u001b[0m\n\u001b[0m",
            "\u001b[0;32m/usr/local/lib/python3.7/dist-packages/otter/check/utils.py\u001b[0m in \u001b[0;36mgrading_mode_disabled\u001b[0;34m(wrapped, self, args, kwargs)\u001b[0m\n\u001b[1;32m    149\u001b[0m     \u001b[0;32mif\u001b[0m \u001b[0mtype\u001b[0m\u001b[0;34m(\u001b[0m\u001b[0mself\u001b[0m\u001b[0;34m)\u001b[0m\u001b[0;34m.\u001b[0m\u001b[0m_grading_mode\u001b[0m\u001b[0;34m:\u001b[0m\u001b[0;34m\u001b[0m\u001b[0;34m\u001b[0m\u001b[0m\n\u001b[1;32m    150\u001b[0m         \u001b[0;32mreturn\u001b[0m\u001b[0;34m\u001b[0m\u001b[0;34m\u001b[0m\u001b[0m\n\u001b[0;32m--> 151\u001b[0;31m     \u001b[0;32mreturn\u001b[0m \u001b[0mwrapped\u001b[0m\u001b[0;34m(\u001b[0m\u001b[0;34m*\u001b[0m\u001b[0margs\u001b[0m\u001b[0;34m,\u001b[0m \u001b[0;34m**\u001b[0m\u001b[0mkwargs\u001b[0m\u001b[0;34m)\u001b[0m\u001b[0;34m\u001b[0m\u001b[0;34m\u001b[0m\u001b[0m\n\u001b[0m\u001b[1;32m    152\u001b[0m \u001b[0;34m\u001b[0m\u001b[0m\n\u001b[1;32m    153\u001b[0m \u001b[0;34m\u001b[0m\u001b[0m\n",
            "\u001b[0;32m/usr/local/lib/python3.7/dist-packages/otter/check/utils.py\u001b[0m in \u001b[0;36mincompatible\u001b[0;34m(wrapped, self, args, kwargs)\u001b[0m\n\u001b[1;32m    133\u001b[0m         \u001b[0;32mif\u001b[0m \u001b[0mself\u001b[0m\u001b[0;34m.\u001b[0m\u001b[0m_interpreter\u001b[0m \u001b[0;32mis\u001b[0m \u001b[0minterpreter\u001b[0m\u001b[0;34m:\u001b[0m\u001b[0;34m\u001b[0m\u001b[0;34m\u001b[0m\u001b[0m\n\u001b[1;32m    134\u001b[0m             \u001b[0;32mif\u001b[0m \u001b[0mthrow_error\u001b[0m\u001b[0;34m:\u001b[0m\u001b[0;34m\u001b[0m\u001b[0;34m\u001b[0m\u001b[0m\n\u001b[0;32m--> 135\u001b[0;31m                 \u001b[0;32mraise\u001b[0m \u001b[0mRuntimeError\u001b[0m\u001b[0;34m(\u001b[0m\u001b[0;34mf\"This method is not compatible with {interpreter.value.display_name}\"\u001b[0m\u001b[0;34m)\u001b[0m\u001b[0;34m\u001b[0m\u001b[0;34m\u001b[0m\u001b[0m\n\u001b[0m\u001b[1;32m    136\u001b[0m             \u001b[0;32melse\u001b[0m\u001b[0;34m:\u001b[0m\u001b[0;34m\u001b[0m\u001b[0;34m\u001b[0m\u001b[0m\n\u001b[1;32m    137\u001b[0m                 \u001b[0;32mreturn\u001b[0m\u001b[0;34m\u001b[0m\u001b[0;34m\u001b[0m\u001b[0m\n",
            "\u001b[0;31mRuntimeError\u001b[0m: This method is not compatible with Google Colab"
          ]
        }
      ],
      "source": [
        "# Save your notebook first, then run this cell to export your submission.\n",
        "grader.export(run_tests=True)"
      ]
    },
    {
      "cell_type": "markdown",
      "id": "38b0eef3",
      "metadata": {
        "id": "38b0eef3"
      },
      "source": [
        " "
      ]
    }
  ],
  "metadata": {
    "kernelspec": {
      "display_name": "un5550f22",
      "language": "python",
      "name": "un5550f22"
    },
    "language_info": {
      "codemirror_mode": {
        "name": "ipython",
        "version": 3
      },
      "file_extension": ".py",
      "mimetype": "text/x-python",
      "name": "python",
      "nbconvert_exporter": "python",
      "pygments_lexer": "ipython3",
      "version": "3.7.11"
    },
    "otter": {
      "OK_FORMAT": true,
      "tests": {
        "q1": {
          "name": "q1",
          "points": null,
          "suites": [
            {
              "cases": [
                {
                  "code": ">>> assert class_length == 34\n",
                  "hidden": false,
                  "locked": false
                },
                {
                  "code": ">>> assert class_split == ['Introduction', 'to', 'Data', 'Science']\n",
                  "hidden": false,
                  "locked": false
                },
                {
                  "code": ">>> assert className2 == 'Introduction  to   Data Science'\n",
                  "hidden": false,
                  "locked": false
                }
              ],
              "scored": true,
              "setup": "",
              "teardown": "",
              "type": "doctest"
            }
          ]
        },
        "q10": {
          "name": "q10",
          "points": null,
          "suites": [
            {
              "cases": [
                {
                  "code": ">>> np.isclose(mean_performance[0],26.952778) and np.isclose(mean_performance[1],5.050926) and \\\n... np.isclose(mean_performance[2],165.541667) and np.isclose(mean_performance[3],2778.337963) and \\\n... np.isclose(mean_performance[4],16.118519) and np.isclose(mean_performance[5],78.935185) and \\\n... np.isclose(mean_performance[6],1.671296)\nTrue",
                  "hidden": false,
                  "locked": false
                }
              ],
              "scored": true,
              "setup": "",
              "teardown": "",
              "type": "doctest"
            }
          ]
        },
        "q11": {
          "name": "q11",
          "points": [
            0.5,
            0.5,
            1
          ],
          "suites": [
            {
              "cases": [
                {
                  "code": ">>> data.iloc[0,0] == 18.0 and data.iloc[0,8] == 'chevrolet chevelle malibu'\nTrue",
                  "hidden": false,
                  "locked": false
                },
                {
                  "code": ">>> data.iloc[4,0] == 17.0 and data.iloc[4,8] == 'ford torino'\nTrue",
                  "hidden": false,
                  "locked": false
                },
                {
                  "code": ">>> data.shape[0]==398 and data.shape[1]==9\nTrue",
                  "hidden": false,
                  "locked": false
                }
              ],
              "scored": true,
              "setup": "",
              "teardown": "",
              "type": "doctest"
            }
          ]
        },
        "q12": {
          "name": "q12",
          "points": [
            1,
            1,
            1
          ],
          "suites": [
            {
              "cases": [
                {
                  "code": ">>> data.isnull().values.any() == False\nTrue",
                  "hidden": false,
                  "locked": false
                },
                {
                  "code": ">>> data.columns[6] =='Model_Year' and data.columns[8] =='Car_Name'\nTrue",
                  "hidden": false,
                  "locked": false
                },
                {
                  "code": ">>> data.index[0] =='Chevrolet_Chevelle_Malibu' and data.index[4] =='Ford_Torino'\nTrue",
                  "hidden": false,
                  "locked": false
                }
              ],
              "scored": true,
              "setup": "",
              "teardown": "",
              "type": "doctest"
            }
          ]
        },
        "q13": {
          "name": "q13",
          "points": [
            1,
            1
          ],
          "suites": [
            {
              "cases": [
                {
                  "code": ">>> data[\"Horsepower\"].values.any() != '?'\nTrue",
                  "hidden": false,
                  "locked": false
                },
                {
                  "code": ">>> data['Horsepower'].dtypes=='float64'\nTrue",
                  "hidden": false,
                  "locked": false
                }
              ],
              "scored": true,
              "setup": "",
              "teardown": "",
              "type": "doctest"
            }
          ]
        },
        "q14": {
          "name": "q14",
          "points": [
            1,
            1,
            1
          ],
          "suites": [
            {
              "cases": [
                {
                  "code": ">>> data.iloc[0,9] == 7.652592 and data.iloc[0,10] == 28.962\nTrue",
                  "hidden": false,
                  "locked": false
                },
                {
                  "code": ">>> data.iloc[1,9] == 6.377160 and np.isclose(data.iloc[1,10], 24.135)\nTrue",
                  "hidden": false,
                  "locked": false
                },
                {
                  "code": ">>> data['Region_Origin'].values.any() not in [1,2,3] and \\\n... data['Region_Origin'].values.any() in ['USA', 'Europe', 'Asia']\nTrue",
                  "hidden": false,
                  "locked": false
                }
              ],
              "scored": true,
              "setup": "",
              "teardown": "",
              "type": "doctest"
            }
          ]
        },
        "q15": {
          "name": "q15",
          "points": [
            2
          ],
          "suites": [
            {
              "cases": [
                {
                  "code": ">>> total_gp = [x for x, group in group2]\n>>> total_gp == [70, 71, 72, 73, 74, 75, 76, 77, 78, 79, 80, 81, 82]\nTrue",
                  "hidden": false,
                  "locked": false
                }
              ],
              "scored": true,
              "setup": "",
              "teardown": "",
              "type": "doctest"
            }
          ]
        },
        "q3": {
          "name": "q3",
          "points": null,
          "suites": [
            {
              "cases": [
                {
                  "code": ">>> df.shape[0]==398\nTrue",
                  "hidden": false,
                  "locked": false
                },
                {
                  "code": ">>> df.shape[1]==9 \nTrue",
                  "hidden": false,
                  "locked": false
                }
              ],
              "scored": true,
              "setup": "",
              "teardown": "",
              "type": "doctest"
            }
          ]
        },
        "q4": {
          "name": "q4",
          "points": null,
          "suites": [
            {
              "cases": [
                {
                  "code": ">>> rows==398 \nTrue",
                  "hidden": false,
                  "locked": false
                },
                {
                  "code": ">>> columns==9\nTrue",
                  "hidden": false,
                  "locked": false
                },
                {
                  "code": ">>> dfColumnsNames[0] == 'mpg'\nTrue",
                  "hidden": false,
                  "locked": false
                },
                {
                  "code": ">>> dfColumnsNames[-1] == 'name'\nTrue",
                  "hidden": false,
                  "locked": false
                }
              ],
              "scored": true,
              "setup": "",
              "teardown": "",
              "type": "doctest"
            }
          ]
        },
        "q5": {
          "name": "q5",
          "points": null,
          "suites": [
            {
              "cases": [
                {
                  "code": ">>> first_3_rows.iloc[0,0] == 18.0 and first_3_rows.iloc[2,0] == 18.0\nTrue",
                  "hidden": false,
                  "locked": false
                },
                {
                  "code": ">>> first_3_rows.iloc[0,-1] == 'chevrolet chevelle malibu' and \\\n... first_3_rows.iloc[2,-1] == 'plymouth satellite'\nTrue",
                  "hidden": false,
                  "locked": false
                },
                {
                  "code": ">>> last_8_rows.iloc[0,-1] == 'toyota celica gt' and last_8_rows.iloc[7,-1] == 'chevy s-10'\nTrue",
                  "hidden": false,
                  "locked": false
                },
                {
                  "code": ">>> last_8_rows.iloc[0,0] == 32.0 and last_8_rows.iloc[7,0] == 31.0\nTrue",
                  "hidden": false,
                  "locked": false
                }
              ],
              "scored": true,
              "setup": "",
              "teardown": "",
              "type": "doctest"
            }
          ]
        },
        "q6": {
          "name": "q6",
          "points": null,
          "suites": [
            {
              "cases": [
                {
                  "code": ">>> hp[0] == '130.0' and hp[1] == '165.0' and hp[393] == '86.00' and hp[397] == '82.00'\nTrue",
                  "hidden": false,
                  "locked": false
                },
                {
                  "code": ">>> cyl_and_disp.iloc[0,0] == 8 and cyl_and_disp.iloc[0,1] == 307.0 and \\\n... cyl_and_disp.iloc[4,0] == 8 and cyl_and_disp.iloc[4,1] == 302.0\nTrue",
                  "hidden": false,
                  "locked": false
                }
              ],
              "scored": true,
              "setup": "",
              "teardown": "",
              "type": "doctest"
            }
          ]
        },
        "q7": {
          "name": "q7",
          "points": null,
          "suites": [
            {
              "cases": [
                {
                  "code": ">>> index_7[0] == 14.0 and index_7[7] == 1 \nTrue",
                  "hidden": false,
                  "locked": false
                },
                {
                  "code": ">>> row_4_5.iloc[0,0] == 16.0 and row_4_5.iloc[1,0] == 17.0 and \\\n... row_4_5.iloc[0,-1] == 'amc rebel sst' and row_4_5.iloc[1,-1] == 'ford torino'\nTrue",
                  "hidden": false,
                  "locked": false
                },
                {
                  "code": ">>> every_other.iloc[0,0] == '150.0' and every_other.iloc[0,1] == 11.0 and \\\n... every_other.iloc[197 ,0] == '79.00' and every_other.iloc[197 ,1] == 18.6\nTrue",
                  "hidden": false,
                  "locked": false
                }
              ],
              "scored": true,
              "setup": "",
              "teardown": "",
              "type": "doctest"
            }
          ]
        },
        "q8": {
          "name": "q8",
          "points": null,
          "suites": [
            {
              "cases": [
                {
                  "code": ">>> meanVals[0]==15.6 and meanVals[1]==8.0 and meanVals[2]==374.9 and meanVals[3]==3879.7 and \\\n... meanVals[4]==10.3 and meanVals[5]==70.0 and meanVals[6]==1.0\nTrue",
                  "hidden": false,
                  "locked": false
                },
                {
                  "code": ">>> minVals[0]==14.0 and minVals[1]==8 and minVals[2]==302.0 and minVals[3]=='130.0' and \\\n... minVals[4]==3433.0 and minVals[5]==8.5 and minVals[6]==70\nTrue",
                  "hidden": false,
                  "locked": false
                }
              ],
              "scored": true,
              "setup": "",
              "teardown": "",
              "type": "doctest"
            }
          ]
        },
        "q9": {
          "name": "q9",
          "points": null,
          "suites": [
            {
              "cases": [
                {
                  "code": ">>> group.iloc[0,0] == 18.5 and group.iloc[0,1] == 6 and group.iloc[2 ,0] == 31.6 and \\\n... group.iloc[2 ,1] == 4\nTrue",
                  "hidden": false,
                  "locked": false
                }
              ],
              "scored": true,
              "setup": "",
              "teardown": "",
              "type": "doctest"
            }
          ]
        }
      }
    },
    "colab": {
      "provenance": [],
      "collapsed_sections": [
        "d304597c",
        "4ca65235"
      ]
    }
  },
  "nbformat": 4,
  "nbformat_minor": 5
}