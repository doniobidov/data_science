{
  "cells": [
    {
      "cell_type": "markdown",
      "metadata": {
        "id": "W2ojiYcNJ-BQ"
      },
      "source": [
        "# P1 - Experience with Pandas\n",
        "\n",
        "\n",
        "\n",
        "In this project, you will be working with the Climate Data set:  \n",
        "http://berkeleyearth.lbl.gov/auto/Global/Complete_TAVG_daily.txt \n",
        "\n",
        "Be sure to investigate and understand the data, format, and descriptions provided.\n",
        "\n"
      ]
    },
    {
      "cell_type": "markdown",
      "metadata": {
        "id": "cUBjoEIQGVTl"
      },
      "source": [
        "### Autograder Setup\n",
        "\n",
        "The next code cell should be uncommented to run the autograder tests when using Colab/DeepNote. If you are using an environment with `otter-grader` already installed (your own machine, lab machines), then do not uncomment the code."
      ]
    },
    {
      "cell_type": "code",
      "execution_count": null,
      "metadata": {
        "colab": {
          "base_uri": "https://localhost:8080/"
        },
        "id": "HSIzVo_HGVTl",
        "outputId": "c49738e5-358d-4358-dd46-0c90e584622d"
      },
      "outputs": [
        {
          "output_type": "stream",
          "name": "stdout",
          "text": [
            "Looking in indexes: https://pypi.org/simple, https://us-python.pkg.dev/colab-wheels/public/simple/\n",
            "Requirement already satisfied: otter-grader in /usr/local/lib/python3.7/dist-packages (4.0.2)\n",
            "Requirement already satisfied: six in /usr/local/lib/python3.7/dist-packages (from otter-grader) (1.15.0)\n",
            "Requirement already satisfied: nbformat in /usr/local/lib/python3.7/dist-packages (from otter-grader) (5.4.0)\n",
            "Requirement already satisfied: fica>=0.2.0 in /usr/local/lib/python3.7/dist-packages (from otter-grader) (0.2.0)\n",
            "Requirement already satisfied: pandas in /usr/local/lib/python3.7/dist-packages (from otter-grader) (1.3.5)\n",
            "Requirement already satisfied: wrapt in /usr/local/lib/python3.7/dist-packages (from otter-grader) (1.14.1)\n",
            "Requirement already satisfied: google-api-python-client in /usr/local/lib/python3.7/dist-packages (from otter-grader) (1.12.11)\n",
            "Requirement already satisfied: jinja2 in /usr/local/lib/python3.7/dist-packages (from otter-grader) (2.11.3)\n",
            "Requirement already satisfied: dill in /usr/local/lib/python3.7/dist-packages (from otter-grader) (0.3.5.1)\n",
            "Requirement already satisfied: click in /usr/local/lib/python3.7/dist-packages (from otter-grader) (7.1.2)\n",
            "Requirement already satisfied: jupytext in /usr/local/lib/python3.7/dist-packages (from otter-grader) (1.14.1)\n",
            "Requirement already satisfied: requests in /usr/local/lib/python3.7/dist-packages (from otter-grader) (2.23.0)\n",
            "Requirement already satisfied: PyYAML in /usr/local/lib/python3.7/dist-packages (from otter-grader) (6.0)\n",
            "Requirement already satisfied: python-on-whales in /usr/local/lib/python3.7/dist-packages (from otter-grader) (0.52.0)\n",
            "Requirement already satisfied: gspread in /usr/local/lib/python3.7/dist-packages (from otter-grader) (3.4.2)\n",
            "Requirement already satisfied: google-auth-oauthlib in /usr/local/lib/python3.7/dist-packages (from otter-grader) (0.4.6)\n",
            "Requirement already satisfied: docutils in /usr/local/lib/python3.7/dist-packages (from fica>=0.2.0->otter-grader) (0.17.1)\n",
            "Requirement already satisfied: sphinx in /usr/local/lib/python3.7/dist-packages (from fica>=0.2.0->otter-grader) (1.8.6)\n",
            "Requirement already satisfied: google-auth-httplib2>=0.0.3 in /usr/local/lib/python3.7/dist-packages (from google-api-python-client->otter-grader) (0.0.4)\n",
            "Requirement already satisfied: uritemplate<4dev,>=3.0.0 in /usr/local/lib/python3.7/dist-packages (from google-api-python-client->otter-grader) (3.0.1)\n",
            "Requirement already satisfied: google-auth<3dev,>=1.16.0 in /usr/local/lib/python3.7/dist-packages (from google-api-python-client->otter-grader) (1.35.0)\n",
            "Requirement already satisfied: httplib2<1dev,>=0.15.0 in /usr/local/lib/python3.7/dist-packages (from google-api-python-client->otter-grader) (0.17.4)\n",
            "Requirement already satisfied: google-api-core<3dev,>=1.21.0 in /usr/local/lib/python3.7/dist-packages (from google-api-python-client->otter-grader) (1.31.6)\n",
            "Requirement already satisfied: googleapis-common-protos<2.0dev,>=1.6.0 in /usr/local/lib/python3.7/dist-packages (from google-api-core<3dev,>=1.21.0->google-api-python-client->otter-grader) (1.56.4)\n",
            "Requirement already satisfied: protobuf<4.0.0dev,>=3.12.0 in /usr/local/lib/python3.7/dist-packages (from google-api-core<3dev,>=1.21.0->google-api-python-client->otter-grader) (3.17.3)\n",
            "Requirement already satisfied: setuptools>=40.3.0 in /usr/local/lib/python3.7/dist-packages (from google-api-core<3dev,>=1.21.0->google-api-python-client->otter-grader) (57.4.0)\n",
            "Requirement already satisfied: packaging>=14.3 in /usr/local/lib/python3.7/dist-packages (from google-api-core<3dev,>=1.21.0->google-api-python-client->otter-grader) (21.3)\n",
            "Requirement already satisfied: pytz in /usr/local/lib/python3.7/dist-packages (from google-api-core<3dev,>=1.21.0->google-api-python-client->otter-grader) (2022.2.1)\n",
            "Requirement already satisfied: pyasn1-modules>=0.2.1 in /usr/local/lib/python3.7/dist-packages (from google-auth<3dev,>=1.16.0->google-api-python-client->otter-grader) (0.2.8)\n",
            "Requirement already satisfied: rsa<5,>=3.1.4 in /usr/local/lib/python3.7/dist-packages (from google-auth<3dev,>=1.16.0->google-api-python-client->otter-grader) (4.9)\n",
            "Requirement already satisfied: cachetools<5.0,>=2.0.0 in /usr/local/lib/python3.7/dist-packages (from google-auth<3dev,>=1.16.0->google-api-python-client->otter-grader) (4.2.4)\n",
            "Requirement already satisfied: pyparsing!=3.0.5,>=2.0.2 in /usr/local/lib/python3.7/dist-packages (from packaging>=14.3->google-api-core<3dev,>=1.21.0->google-api-python-client->otter-grader) (3.0.9)\n",
            "Requirement already satisfied: pyasn1<0.5.0,>=0.4.6 in /usr/local/lib/python3.7/dist-packages (from pyasn1-modules>=0.2.1->google-auth<3dev,>=1.16.0->google-api-python-client->otter-grader) (0.4.8)\n",
            "Requirement already satisfied: idna<3,>=2.5 in /usr/local/lib/python3.7/dist-packages (from requests->otter-grader) (2.10)\n",
            "Requirement already satisfied: certifi>=2017.4.17 in /usr/local/lib/python3.7/dist-packages (from requests->otter-grader) (2022.6.15)\n",
            "Requirement already satisfied: chardet<4,>=3.0.2 in /usr/local/lib/python3.7/dist-packages (from requests->otter-grader) (3.0.4)\n",
            "Requirement already satisfied: urllib3!=1.25.0,!=1.25.1,<1.26,>=1.21.1 in /usr/local/lib/python3.7/dist-packages (from requests->otter-grader) (1.24.3)\n",
            "Requirement already satisfied: requests-oauthlib>=0.7.0 in /usr/local/lib/python3.7/dist-packages (from google-auth-oauthlib->otter-grader) (1.3.1)\n",
            "Requirement already satisfied: oauthlib>=3.0.0 in /usr/local/lib/python3.7/dist-packages (from requests-oauthlib>=0.7.0->google-auth-oauthlib->otter-grader) (3.2.0)\n",
            "Requirement already satisfied: MarkupSafe>=0.23 in /usr/local/lib/python3.7/dist-packages (from jinja2->otter-grader) (2.0.1)\n",
            "Requirement already satisfied: markdown-it-py<3.0.0,>=1.0.0 in /usr/local/lib/python3.7/dist-packages (from jupytext->otter-grader) (2.1.0)\n",
            "Requirement already satisfied: toml in /usr/local/lib/python3.7/dist-packages (from jupytext->otter-grader) (0.10.2)\n",
            "Requirement already satisfied: mdit-py-plugins in /usr/local/lib/python3.7/dist-packages (from jupytext->otter-grader) (0.3.0)\n",
            "Requirement already satisfied: mdurl~=0.1 in /usr/local/lib/python3.7/dist-packages (from markdown-it-py<3.0.0,>=1.0.0->jupytext->otter-grader) (0.1.2)\n",
            "Requirement already satisfied: typing_extensions>=3.7.4 in /usr/local/lib/python3.7/dist-packages (from markdown-it-py<3.0.0,>=1.0.0->jupytext->otter-grader) (4.1.1)\n",
            "Requirement already satisfied: jupyter-core in /usr/local/lib/python3.7/dist-packages (from nbformat->otter-grader) (4.11.1)\n",
            "Requirement already satisfied: fastjsonschema in /usr/local/lib/python3.7/dist-packages (from nbformat->otter-grader) (2.16.1)\n",
            "Requirement already satisfied: traitlets>=5.1 in /usr/local/lib/python3.7/dist-packages (from nbformat->otter-grader) (5.1.1)\n",
            "Requirement already satisfied: jsonschema>=2.6 in /usr/local/lib/python3.7/dist-packages (from nbformat->otter-grader) (4.3.3)\n",
            "Requirement already satisfied: importlib-metadata in /usr/local/lib/python3.7/dist-packages (from jsonschema>=2.6->nbformat->otter-grader) (4.12.0)\n",
            "Requirement already satisfied: attrs>=17.4.0 in /usr/local/lib/python3.7/dist-packages (from jsonschema>=2.6->nbformat->otter-grader) (22.1.0)\n",
            "Requirement already satisfied: importlib-resources>=1.4.0 in /usr/local/lib/python3.7/dist-packages (from jsonschema>=2.6->nbformat->otter-grader) (5.9.0)\n",
            "Requirement already satisfied: pyrsistent!=0.17.0,!=0.17.1,!=0.17.2,>=0.14.0 in /usr/local/lib/python3.7/dist-packages (from jsonschema>=2.6->nbformat->otter-grader) (0.18.1)\n",
            "Requirement already satisfied: zipp>=3.1.0 in /usr/local/lib/python3.7/dist-packages (from importlib-resources>=1.4.0->jsonschema>=2.6->nbformat->otter-grader) (3.8.1)\n",
            "Requirement already satisfied: python-dateutil>=2.7.3 in /usr/local/lib/python3.7/dist-packages (from pandas->otter-grader) (2.8.2)\n",
            "Requirement already satisfied: numpy>=1.17.3 in /usr/local/lib/python3.7/dist-packages (from pandas->otter-grader) (1.21.6)\n",
            "Requirement already satisfied: typer>=0.4.1 in /usr/local/lib/python3.7/dist-packages (from python-on-whales->otter-grader) (0.4.2)\n",
            "Requirement already satisfied: pydantic in /usr/local/lib/python3.7/dist-packages (from python-on-whales->otter-grader) (1.9.2)\n",
            "Requirement already satisfied: tqdm in /usr/local/lib/python3.7/dist-packages (from python-on-whales->otter-grader) (4.64.1)\n",
            "Requirement already satisfied: alabaster<0.8,>=0.7 in /usr/local/lib/python3.7/dist-packages (from sphinx->fica>=0.2.0->otter-grader) (0.7.12)\n",
            "Requirement already satisfied: imagesize in /usr/local/lib/python3.7/dist-packages (from sphinx->fica>=0.2.0->otter-grader) (1.4.1)\n",
            "Requirement already satisfied: snowballstemmer>=1.1 in /usr/local/lib/python3.7/dist-packages (from sphinx->fica>=0.2.0->otter-grader) (2.2.0)\n",
            "Requirement already satisfied: babel!=2.0,>=1.3 in /usr/local/lib/python3.7/dist-packages (from sphinx->fica>=0.2.0->otter-grader) (2.10.3)\n",
            "Requirement already satisfied: sphinxcontrib-websupport in /usr/local/lib/python3.7/dist-packages (from sphinx->fica>=0.2.0->otter-grader) (1.2.4)\n",
            "Requirement already satisfied: Pygments>=2.0 in /usr/local/lib/python3.7/dist-packages (from sphinx->fica>=0.2.0->otter-grader) (2.6.1)\n",
            "Requirement already satisfied: sphinxcontrib-serializinghtml in /usr/local/lib/python3.7/dist-packages (from sphinxcontrib-websupport->sphinx->fica>=0.2.0->otter-grader) (1.1.5)\n"
          ]
        }
      ],
      "source": [
        "# !pip install otter-grader"
      ]
    },
    {
      "cell_type": "markdown",
      "metadata": {
        "id": "775NsoIPGVTm"
      },
      "source": [
        "You will have access to a few tests for the project.  Note, when you submit the autograder will run additional \"hidden\" tests on your solutions. \n",
        "\n",
        "Please comment out this cell before submitting. "
      ]
    },
    {
      "cell_type": "code",
      "execution_count": null,
      "metadata": {
        "colab": {
          "base_uri": "https://localhost:8080/"
        },
        "id": "ezAoVVWdGVTn",
        "outputId": "1d0f55c6-f4d3-4dec-e041-886ba33e9eab"
      },
      "outputs": [
        {
          "output_type": "stream",
          "name": "stdout",
          "text": [
            "--2022-09-25 08:08:30--  https://pages.mtu.edu/~lebrown/un5550-f22/projects/p1/p1.files.zip\n",
            "Resolving pages.mtu.edu (pages.mtu.edu)... 141.219.70.232\n",
            "Connecting to pages.mtu.edu (pages.mtu.edu)|141.219.70.232|:443... connected.\n",
            "HTTP request sent, awaiting response... 200 OK\n",
            "Length: 1932 (1.9K) [application/zip]\n",
            "Saving to: ‘p1.files.zip.1’\n",
            "\n",
            "p1.files.zip.1      100%[===================>]   1.89K  --.-KB/s    in 0s      \n",
            "\n",
            "2022-09-25 08:08:31 (351 MB/s) - ‘p1.files.zip.1’ saved [1932/1932]\n",
            "\n",
            "Archive:  p1.files.zip\n",
            "replace tests/p1_q3b.py? [y]es, [n]o, [A]ll, [N]one, [r]ename: y\n",
            "  inflating: tests/p1_q3b.py         \n",
            "replace tests/p1_q3d.py? [y]es, [n]o, [A]ll, [N]one, [r]ename: y\n",
            "  inflating: tests/p1_q3d.py         \n",
            "replace tests/p1_q3a.py? [y]es, [n]o, [A]ll, [N]one, [r]ename: y\n",
            "  inflating: tests/p1_q3a.py         \n",
            "replace tests/p1_q2.py? [y]es, [n]o, [A]ll, [N]one, [r]ename: y\n",
            "  inflating: tests/p1_q2.py          \n",
            "replace tests/p1_q1a.py? [y]es, [n]o, [A]ll, [N]one, [r]ename: y\n",
            "  inflating: tests/p1_q1a.py         \n"
          ]
        }
      ],
      "source": [
        "# !wget https://pages.mtu.edu/~lebrown/un5550-f22/projects/p1/p1.files.zip\n",
        "# !unzip p1.files.zip"
      ]
    },
    {
      "cell_type": "markdown",
      "metadata": {
        "id": "p9grg2J6GVTn"
      },
      "source": [
        "### Project Setup \n",
        "\n",
        "You should use the following libraries to complete this assignment:"
      ]
    },
    {
      "cell_type": "code",
      "execution_count": null,
      "metadata": {
        "id": "i7IZpH0fJ9Fk"
      },
      "outputs": [],
      "source": [
        "# Imports\n",
        "import pandas as pd\n",
        "import numpy as np\n",
        "import matplotlib as mpl\n",
        "import matplotlib.pyplot as plt\n",
        "%matplotlib inline\n",
        "\n",
        "import os\n",
        "import otter\n",
        "grader = otter.Notebook()"
      ]
    },
    {
      "cell_type": "markdown",
      "metadata": {
        "id": "xWVyWP8EKTQ2"
      },
      "source": [
        "## 1. (8 pts) Get the Data\n",
        "\n",
        "Read in the data from the link provided.  \n",
        "\n"
      ]
    },
    {
      "cell_type": "markdown",
      "metadata": {
        "id": "ZFm_ciSKN2Wb"
      },
      "source": [
        "### 1A. Load the data\n",
        "\n",
        "Write a function to read in the data to a DataFrame object, print the number of rows, columns, and data types of each column using a print statement.\n",
        "\n",
        "Make sure to use the same column names as given in the data, but replacing ' ' with '_'.\n",
        "    \n",
        "*Hint: Column names should be coded as `Date_Number`, `Year`, `Month`, `Day`, `Day_of_Year`, `Anomaly`.*"
      ]
    },
    {
      "cell_type": "code",
      "execution_count": null,
      "metadata": {
        "colab": {
          "base_uri": "https://localhost:8080/",
          "height": 597
        },
        "id": "KXDkKNkxJtsa",
        "outputId": "3812fcd5-2c56-48e7-cc94-69c7c26e8d7d",
        "tags": []
      },
      "outputs": [
        {
          "output_type": "stream",
          "name": "stdout",
          "text": [
            "Number of Rows: 6\n",
            "Number of Columns: 51865\n",
            "Column Data Types:\n",
            "Date_Number    float64\n",
            "Year             int64\n",
            "Month            int64\n",
            "Day              int64\n",
            "Day_of_Year      int64\n",
            "Anomaly        float64\n",
            "dtype: object\n"
          ]
        },
        {
          "output_type": "execute_result",
          "data": {
            "text/plain": [
              "       Date_Number  Year  Month  Day  Day_of_Year  Anomaly\n",
              "0         1880.001  1880      1    1            1   -0.534\n",
              "1         1880.004  1880      1    2            2    0.841\n",
              "2         1880.007  1880      1    3            3    0.366\n",
              "3         1880.010  1880      1    4            4    1.280\n",
              "4         1880.012  1880      1    5            5    0.623\n",
              "...            ...   ...    ...  ...          ...      ...\n",
              "51860     2021.988  2021     12   27          361    1.101\n",
              "51861     2021.990  2021     12   28          362    1.255\n",
              "51862     2021.993  2021     12   29          363    1.566\n",
              "51863     2021.996  2021     12   30          364    2.113\n",
              "51864     2021.999  2021     12   31          365    2.457\n",
              "\n",
              "[51865 rows x 6 columns]"
            ],
            "text/html": [
              "\n",
              "  <div id=\"df-b1da7305-ba55-4459-991f-1dbfab6f5eb0\">\n",
              "    <div class=\"colab-df-container\">\n",
              "      <div>\n",
              "<style scoped>\n",
              "    .dataframe tbody tr th:only-of-type {\n",
              "        vertical-align: middle;\n",
              "    }\n",
              "\n",
              "    .dataframe tbody tr th {\n",
              "        vertical-align: top;\n",
              "    }\n",
              "\n",
              "    .dataframe thead th {\n",
              "        text-align: right;\n",
              "    }\n",
              "</style>\n",
              "<table border=\"1\" class=\"dataframe\">\n",
              "  <thead>\n",
              "    <tr style=\"text-align: right;\">\n",
              "      <th></th>\n",
              "      <th>Date_Number</th>\n",
              "      <th>Year</th>\n",
              "      <th>Month</th>\n",
              "      <th>Day</th>\n",
              "      <th>Day_of_Year</th>\n",
              "      <th>Anomaly</th>\n",
              "    </tr>\n",
              "  </thead>\n",
              "  <tbody>\n",
              "    <tr>\n",
              "      <th>0</th>\n",
              "      <td>1880.001</td>\n",
              "      <td>1880</td>\n",
              "      <td>1</td>\n",
              "      <td>1</td>\n",
              "      <td>1</td>\n",
              "      <td>-0.534</td>\n",
              "    </tr>\n",
              "    <tr>\n",
              "      <th>1</th>\n",
              "      <td>1880.004</td>\n",
              "      <td>1880</td>\n",
              "      <td>1</td>\n",
              "      <td>2</td>\n",
              "      <td>2</td>\n",
              "      <td>0.841</td>\n",
              "    </tr>\n",
              "    <tr>\n",
              "      <th>2</th>\n",
              "      <td>1880.007</td>\n",
              "      <td>1880</td>\n",
              "      <td>1</td>\n",
              "      <td>3</td>\n",
              "      <td>3</td>\n",
              "      <td>0.366</td>\n",
              "    </tr>\n",
              "    <tr>\n",
              "      <th>3</th>\n",
              "      <td>1880.010</td>\n",
              "      <td>1880</td>\n",
              "      <td>1</td>\n",
              "      <td>4</td>\n",
              "      <td>4</td>\n",
              "      <td>1.280</td>\n",
              "    </tr>\n",
              "    <tr>\n",
              "      <th>4</th>\n",
              "      <td>1880.012</td>\n",
              "      <td>1880</td>\n",
              "      <td>1</td>\n",
              "      <td>5</td>\n",
              "      <td>5</td>\n",
              "      <td>0.623</td>\n",
              "    </tr>\n",
              "    <tr>\n",
              "      <th>...</th>\n",
              "      <td>...</td>\n",
              "      <td>...</td>\n",
              "      <td>...</td>\n",
              "      <td>...</td>\n",
              "      <td>...</td>\n",
              "      <td>...</td>\n",
              "    </tr>\n",
              "    <tr>\n",
              "      <th>51860</th>\n",
              "      <td>2021.988</td>\n",
              "      <td>2021</td>\n",
              "      <td>12</td>\n",
              "      <td>27</td>\n",
              "      <td>361</td>\n",
              "      <td>1.101</td>\n",
              "    </tr>\n",
              "    <tr>\n",
              "      <th>51861</th>\n",
              "      <td>2021.990</td>\n",
              "      <td>2021</td>\n",
              "      <td>12</td>\n",
              "      <td>28</td>\n",
              "      <td>362</td>\n",
              "      <td>1.255</td>\n",
              "    </tr>\n",
              "    <tr>\n",
              "      <th>51862</th>\n",
              "      <td>2021.993</td>\n",
              "      <td>2021</td>\n",
              "      <td>12</td>\n",
              "      <td>29</td>\n",
              "      <td>363</td>\n",
              "      <td>1.566</td>\n",
              "    </tr>\n",
              "    <tr>\n",
              "      <th>51863</th>\n",
              "      <td>2021.996</td>\n",
              "      <td>2021</td>\n",
              "      <td>12</td>\n",
              "      <td>30</td>\n",
              "      <td>364</td>\n",
              "      <td>2.113</td>\n",
              "    </tr>\n",
              "    <tr>\n",
              "      <th>51864</th>\n",
              "      <td>2021.999</td>\n",
              "      <td>2021</td>\n",
              "      <td>12</td>\n",
              "      <td>31</td>\n",
              "      <td>365</td>\n",
              "      <td>2.457</td>\n",
              "    </tr>\n",
              "  </tbody>\n",
              "</table>\n",
              "<p>51865 rows × 6 columns</p>\n",
              "</div>\n",
              "      <button class=\"colab-df-convert\" onclick=\"convertToInteractive('df-b1da7305-ba55-4459-991f-1dbfab6f5eb0')\"\n",
              "              title=\"Convert this dataframe to an interactive table.\"\n",
              "              style=\"display:none;\">\n",
              "        \n",
              "  <svg xmlns=\"http://www.w3.org/2000/svg\" height=\"24px\"viewBox=\"0 0 24 24\"\n",
              "       width=\"24px\">\n",
              "    <path d=\"M0 0h24v24H0V0z\" fill=\"none\"/>\n",
              "    <path d=\"M18.56 5.44l.94 2.06.94-2.06 2.06-.94-2.06-.94-.94-2.06-.94 2.06-2.06.94zm-11 1L8.5 8.5l.94-2.06 2.06-.94-2.06-.94L8.5 2.5l-.94 2.06-2.06.94zm10 10l.94 2.06.94-2.06 2.06-.94-2.06-.94-.94-2.06-.94 2.06-2.06.94z\"/><path d=\"M17.41 7.96l-1.37-1.37c-.4-.4-.92-.59-1.43-.59-.52 0-1.04.2-1.43.59L10.3 9.45l-7.72 7.72c-.78.78-.78 2.05 0 2.83L4 21.41c.39.39.9.59 1.41.59.51 0 1.02-.2 1.41-.59l7.78-7.78 2.81-2.81c.8-.78.8-2.07 0-2.86zM5.41 20L4 18.59l7.72-7.72 1.47 1.35L5.41 20z\"/>\n",
              "  </svg>\n",
              "      </button>\n",
              "      \n",
              "  <style>\n",
              "    .colab-df-container {\n",
              "      display:flex;\n",
              "      flex-wrap:wrap;\n",
              "      gap: 12px;\n",
              "    }\n",
              "\n",
              "    .colab-df-convert {\n",
              "      background-color: #E8F0FE;\n",
              "      border: none;\n",
              "      border-radius: 50%;\n",
              "      cursor: pointer;\n",
              "      display: none;\n",
              "      fill: #1967D2;\n",
              "      height: 32px;\n",
              "      padding: 0 0 0 0;\n",
              "      width: 32px;\n",
              "    }\n",
              "\n",
              "    .colab-df-convert:hover {\n",
              "      background-color: #E2EBFA;\n",
              "      box-shadow: 0px 1px 2px rgba(60, 64, 67, 0.3), 0px 1px 3px 1px rgba(60, 64, 67, 0.15);\n",
              "      fill: #174EA6;\n",
              "    }\n",
              "\n",
              "    [theme=dark] .colab-df-convert {\n",
              "      background-color: #3B4455;\n",
              "      fill: #D2E3FC;\n",
              "    }\n",
              "\n",
              "    [theme=dark] .colab-df-convert:hover {\n",
              "      background-color: #434B5C;\n",
              "      box-shadow: 0px 1px 3px 1px rgba(0, 0, 0, 0.15);\n",
              "      filter: drop-shadow(0px 1px 2px rgba(0, 0, 0, 0.3));\n",
              "      fill: #FFFFFF;\n",
              "    }\n",
              "  </style>\n",
              "\n",
              "      <script>\n",
              "        const buttonEl =\n",
              "          document.querySelector('#df-b1da7305-ba55-4459-991f-1dbfab6f5eb0 button.colab-df-convert');\n",
              "        buttonEl.style.display =\n",
              "          google.colab.kernel.accessAllowed ? 'block' : 'none';\n",
              "\n",
              "        async function convertToInteractive(key) {\n",
              "          const element = document.querySelector('#df-b1da7305-ba55-4459-991f-1dbfab6f5eb0');\n",
              "          const dataTable =\n",
              "            await google.colab.kernel.invokeFunction('convertToInteractive',\n",
              "                                                     [key], {});\n",
              "          if (!dataTable) return;\n",
              "\n",
              "          const docLinkHtml = 'Like what you see? Visit the ' +\n",
              "            '<a target=\"_blank\" href=https://colab.research.google.com/notebooks/data_table.ipynb>data table notebook</a>'\n",
              "            + ' to learn more about interactive tables.';\n",
              "          element.innerHTML = '';\n",
              "          dataTable['output_type'] = 'display_data';\n",
              "          await google.colab.output.renderOutput(dataTable, element);\n",
              "          const docLink = document.createElement('div');\n",
              "          docLink.innerHTML = docLinkHtml;\n",
              "          element.appendChild(docLink);\n",
              "        }\n",
              "      </script>\n",
              "    </div>\n",
              "  </div>\n",
              "  "
            ]
          },
          "metadata": {},
          "execution_count": 115
        }
      ],
      "source": [
        "def p1_q1a(url, column_names=None, skip_row=None, separator=','):\n",
        "    '''\n",
        "    - Description - \n",
        "    Read in data from URL to a DataFrame object \n",
        "    Report the number of rows and columns with a print statement.\n",
        "    Addtionally, print the data types of each column\n",
        "    Use pandas.read_csv(...):\n",
        "    https://pandas.pydata.org/pandas-docs/stable/reference/api/pandas.read_csv.html\n",
        "\n",
        "    - Inputs - \n",
        "    url: location of dataset file, filepath_or_buffer\n",
        "    column_names: list of column names to add to DataFrame (default is None)\n",
        "    skip_rows: number of header rows to skip in dataset file (default is None)\n",
        "    separator: delimiter to use (default is a comma)\n",
        "\n",
        "    - Outputs - \n",
        "    df: return object is a DataFrame\n",
        "\n",
        "    - Print Statements you may use - \n",
        "    print(\"Number of Rows: ...\")\n",
        "    print(\"Number of Columns: ...\")\n",
        "    print(\"Column Data Types:\")\n",
        "    print(Data Types)\n",
        "    '''\n",
        "\n",
        "    df = pd.read_csv(url, header=None, sep=separator, names = cnames, skiprows=skipRows)\n",
        "    print(\"Number of Rows: \" + str(len(df.columns)))\n",
        "    print(\"Number of Columns: \" + str(df.shape[0]))\n",
        "    print(\"Column Data Types:\")\n",
        "    print(df.dtypes)\n",
        "    ...\n",
        "    return df\n",
        "\n",
        "\n",
        "url = 'http://berkeleyearth.lbl.gov/auto/Global/Complete_TAVG_daily.txt'\n",
        "cnames = ['Date_Number', 'Year', 'Month', 'Day', 'Day_of_Year', 'Anomaly']\n",
        "skipRows = 23\n",
        "separator = \"\\s+\"  \n",
        "\n",
        "\n",
        "climate = p1_q1a(url, cnames, skipRows, separator)\n",
        "climate"
      ]
    },
    {
      "cell_type": "code",
      "execution_count": null,
      "metadata": {
        "deletable": false,
        "editable": false,
        "colab": {
          "base_uri": "https://localhost:8080/",
          "height": 46
        },
        "id": "qswL7hZwGVTp",
        "outputId": "d563cb14-3aeb-452b-a057-f3e5d5120a50"
      },
      "outputs": [
        {
          "output_type": "execute_result",
          "data": {
            "text/plain": [
              "p1_q1a results: All test cases passed!"
            ],
            "text/html": [
              "<p><strong><pre style='display: inline;'>p1_q1a</pre></strong> passed!</p>"
            ]
          },
          "metadata": {},
          "execution_count": 116
        }
      ],
      "source": [
        "grader.check(\"p1_q1a\")"
      ]
    },
    {
      "cell_type": "markdown",
      "metadata": {
        "id": "4a4PIhFIKu8t"
      },
      "source": [
        "<!-- BEGIN QUESTION -->\n",
        "\n",
        "### 1B. Understand the Data\n",
        "\n",
        "What are the column names and what do they correspond to? *Use this Markdown cell to describe each succinctly (< 15 words per column)*"
      ]
    },
    {
      "cell_type": "markdown",
      "metadata": {
        "id": "C3WIfKG6GVTq"
      },
      "source": [
        "\n",
        "\n",
        "```\n",
        "# This is formatted as code\n",
        "```\n",
        "\n",
        "* `Date_Number` is year dot day as a fraction (1000 is 365 days); year.number(between 001-999).\n",
        "* `Year` is year of temperature reported as anomaliy.\n",
        "* `Month` is month of temperature reported as anomaliy.\n",
        "* `Day` is day of month.\n",
        "* `Day_of_Year` is day of year (1-365). For example, February 2nd is 32th day of year.\n",
        "* `Anomaly` is temperature on some day - 8.59 (°C)"
      ]
    },
    {
      "cell_type": "markdown",
      "metadata": {
        "id": "Heb-hPYyKz2O"
      },
      "source": [
        "<!-- END QUESTION -->\n",
        "\n",
        "<!-- BEGIN QUESTION -->\n",
        "\n",
        "## 2. (2 pts) Add to the Data\n",
        "\n",
        "Add a new column to your DataFrame. \n",
        "\n",
        "The new column `Temp` adds the anomaly information to the estimated average temperature given in the data. "
      ]
    },
    {
      "cell_type": "code",
      "execution_count": null,
      "metadata": {
        "colab": {
          "base_uri": "https://localhost:8080/"
        },
        "id": "mHHaQaBdKyqF",
        "outputId": "25c041fb-5961-47ad-a7c2-372884c6469a",
        "tags": []
      },
      "outputs": [
        {
          "output_type": "execute_result",
          "data": {
            "text/plain": [
              "8.695388219415792"
            ]
          },
          "metadata": {},
          "execution_count": 117
        }
      ],
      "source": [
        "# Create new column \"Temp\" \n",
        "climate['Temp'] = climate['Anomaly'] + 8.59\n",
        "\n",
        "climate['Temp'].mean()"
      ]
    },
    {
      "cell_type": "code",
      "execution_count": null,
      "metadata": {
        "deletable": false,
        "editable": false,
        "colab": {
          "base_uri": "https://localhost:8080/",
          "height": 46
        },
        "id": "uQ5uVkDnGVTr",
        "outputId": "c57da3f0-c9d3-4024-be1f-d9aa99ccc822"
      },
      "outputs": [
        {
          "output_type": "execute_result",
          "data": {
            "text/plain": [
              "p1_q2 results: All test cases passed!"
            ],
            "text/html": [
              "<p><strong><pre style='display: inline;'>p1_q2</pre></strong> passed!</p>"
            ]
          },
          "metadata": {},
          "execution_count": 118
        }
      ],
      "source": [
        "grader.check(\"p1_q2\")"
      ]
    },
    {
      "cell_type": "markdown",
      "metadata": {
        "id": "QeKP_jHiLV57"
      },
      "source": [
        "<!-- END QUESTION -->\n",
        "\n",
        "## 3. (30 pts) Calculate and report statistics. \n",
        "Pandas DataFrames have several methods for manipulation, aggregation, and calculation of meaningful statistics. The [documentation](https://pandas.pydata.org/pandas-docs/stable/reference/api/pandas.DataFrame.html) is very helpful to understand attributes and methods. Matplotlib [pyplot](https://matplotlib.org/3.1.1/api/_as_gen/matplotlib.pyplot.html) integrates well with both pandas DataFrames and numpy arrays for visualization tasks."
      ]
    },
    {
      "cell_type": "markdown",
      "metadata": {
        "id": "gY6L0eY9LZww"
      },
      "source": [
        "### 3A. Calculate the mean anomaly by year. \n",
        "Create an `Int64Index` of `years` and an array of corresponding `mean_anomaly_year` holding the mean anomaly for each year.   \n",
        "*Hint: Use methods like `.groupby()` and `.mean()` to get the proper data, then use the `.keys()` method to get an index, and `.values` for an array.*"
      ]
    },
    {
      "cell_type": "code",
      "execution_count": null,
      "metadata": {
        "colab": {
          "base_uri": "https://localhost:8080/"
        },
        "id": "WeAtw31aLXs3",
        "outputId": "26454905-fa99-4656-caf3-fad1cfc597ec",
        "tags": []
      },
      "outputs": [
        {
          "output_type": "stream",
          "name": "stdout",
          "text": [
            "Years index:\n",
            " [1880 1881 1882 1883 1884]\n",
            "Means array:\n",
            " Year\n",
            "1880   -0.537913\n",
            "1881   -0.295863\n",
            "1882   -0.443022\n",
            "1883   -0.512699\n",
            "1884   -0.781137\n",
            "Name: Anomaly, dtype: float64\n"
          ]
        }
      ],
      "source": [
        "mean_anomaly_year = climate.groupby(climate['Year']).mean()['Anomaly']\n",
        "years =  mean_anomaly_year.keys().values\n",
        "\n",
        "print('Years index:\\n', years[0:5])\n",
        "print('Means array:\\n', mean_anomaly_year[0:5])"
      ]
    },
    {
      "cell_type": "code",
      "execution_count": null,
      "metadata": {
        "deletable": false,
        "editable": false,
        "colab": {
          "base_uri": "https://localhost:8080/",
          "height": 46
        },
        "id": "ekVA2d2HGVTs",
        "outputId": "9d0cad6a-d4f4-4645-97f4-cbe706f08dd8"
      },
      "outputs": [
        {
          "output_type": "execute_result",
          "data": {
            "text/plain": [
              "p1_q3a results: All test cases passed!"
            ],
            "text/html": [
              "<p><strong><pre style='display: inline;'>p1_q3a</pre></strong> passed!</p>"
            ]
          },
          "metadata": {},
          "execution_count": 120
        }
      ],
      "source": [
        "grader.check(\"p1_q3a\")"
      ]
    },
    {
      "cell_type": "markdown",
      "metadata": {
        "id": "wWBAD0Z2Lx-L"
      },
      "source": [
        "### 3B. Calculate the mean temp by year.\n",
        "\n",
        "Create an array of `mean_temp_year` holding the mean temperature for each year."
      ]
    },
    {
      "cell_type": "code",
      "execution_count": null,
      "metadata": {
        "colab": {
          "base_uri": "https://localhost:8080/"
        },
        "id": "C_4YFkZgLz6S",
        "outputId": "c78c1aa8-02ef-4102-a85a-2168f6e012f4",
        "tags": []
      },
      "outputs": [
        {
          "output_type": "stream",
          "name": "stdout",
          "text": [
            "Year\n",
            "1880    8.052087\n",
            "1881    8.294137\n",
            "1882    8.146978\n",
            "1883    8.077301\n",
            "1884    7.808863\n",
            "Name: Temp, dtype: float64\n"
          ]
        }
      ],
      "source": [
        "mean_temp_year = climate.groupby(climate['Year']).mean()['Temp']\n",
        "\n",
        "print(mean_temp_year[0:5])"
      ]
    },
    {
      "cell_type": "code",
      "execution_count": null,
      "metadata": {
        "deletable": false,
        "editable": false,
        "colab": {
          "base_uri": "https://localhost:8080/",
          "height": 46
        },
        "id": "a2FSqXMIGVTs",
        "outputId": "937c5aac-8d8f-46c5-912f-1b19aa67de1f"
      },
      "outputs": [
        {
          "output_type": "execute_result",
          "data": {
            "text/plain": [
              "p1_q3b results: All test cases passed!"
            ],
            "text/html": [
              "<p><strong><pre style='display: inline;'>p1_q3b</pre></strong> passed!</p>"
            ]
          },
          "metadata": {},
          "execution_count": 122
        }
      ],
      "source": [
        "grader.check(\"p1_q3b\")"
      ]
    },
    {
      "cell_type": "markdown",
      "metadata": {
        "id": "OGC8lziSL6Ye"
      },
      "source": [
        "<!-- BEGIN QUESTION -->\n",
        "\n",
        "### 3C. Plot `mean_temp_year` vs. `years`.\n",
        "Be sure to include a plot title, x-axis label, and y-axis label. "
      ]
    },
    {
      "cell_type": "code",
      "execution_count": null,
      "metadata": {
        "colab": {
          "base_uri": "https://localhost:8080/",
          "height": 293
        },
        "id": "lRvXJNjtL8MZ",
        "outputId": "ca93c9ab-3139-458f-c7cf-7162079d0e96",
        "tags": []
      },
      "outputs": [
        {
          "output_type": "display_data",
          "data": {
            "text/plain": [
              "<Figure size 432x288 with 1 Axes>"
            ],
            "image/png": "[encoded data removed]"
          },
          "metadata": {
            "needs_background": "light"
          }
        }
      ],
      "source": [
        "# Plot for each year (x-axis) vs. the \"mean_temp_year\" value (y-axis)\n",
        "\n",
        "plt.scatter(years, mean_temp_year, c =\"red\")\n",
        "plt.xlabel('Year', fontsize=10)\n",
        "plt.ylabel('Mean temperature (°C)', fontsize=10)\n",
        "plt.title('Scatter plot of mean temperatures in different years', fontsize=10);"
      ]
    },
    {
      "cell_type": "markdown",
      "metadata": {
        "id": "dB8TQHoHL_01"
      },
      "source": [
        "<!-- END QUESTION -->\n",
        "\n",
        "### 3D. Calculate the mean anomaly by month\n",
        "Create an `Int64Index` index of `months` and an array of `mean_anomaly_month` with the mean anomaly for each month. "
      ]
    },
    {
      "cell_type": "code",
      "execution_count": null,
      "metadata": {
        "tags": [],
        "colab": {
          "base_uri": "https://localhost:8080/"
        },
        "id": "mgcDMtl-GVTt",
        "outputId": "4996af45-bed1-4e76-d2b8-933c7cfa1f62"
      },
      "outputs": [
        {
          "output_type": "stream",
          "name": "stdout",
          "text": [
            "Months index:\n",
            " [1 2 3 4 5]\n",
            "Means array:\n",
            " Month\n",
            "1   -0.027709\n",
            "2    0.009081\n",
            "3    0.247013\n",
            "4    0.406650\n",
            "5    0.277077\n",
            "Name: Anomaly, dtype: float64\n"
          ]
        }
      ],
      "source": [
        "mean_anomaly_month = climate.groupby(climate['Month']).mean()['Anomaly']\n",
        "months = mean_anomaly_month.keys().values\n",
        "\n",
        "print('Months index:\\n', months[0:5])\n",
        "print('Means array:\\n', mean_anomaly_month[0:5])"
      ]
    },
    {
      "cell_type": "code",
      "execution_count": null,
      "metadata": {
        "deletable": false,
        "editable": false,
        "colab": {
          "base_uri": "https://localhost:8080/",
          "height": 46
        },
        "id": "19iqDDhTGVTt",
        "outputId": "d8ff8d70-afb6-4231-f86f-126ece9aba8b"
      },
      "outputs": [
        {
          "output_type": "execute_result",
          "data": {
            "text/plain": [
              "p1_q3d results: All test cases passed!"
            ],
            "text/html": [
              "<p><strong><pre style='display: inline;'>p1_q3d</pre></strong> passed!</p>"
            ]
          },
          "metadata": {},
          "execution_count": 128
        }
      ],
      "source": [
        "grader.check(\"p1_q3d\")"
      ]
    },
    {
      "cell_type": "markdown",
      "metadata": {
        "id": "lElF8VF6GVTt"
      },
      "source": [
        "<!-- BEGIN QUESTION -->\n",
        "\n",
        "### 3E. Plot mean anomaly by month in a bar chart\n",
        "\n",
        "Be sure to include a plot title, x-axis label, y-axis label, and black horizontal line at 0 mean anomaly on the plot. This will help to visually reference positive and negative bars.\n",
        "\n",
        "Label xticks with abbreviations for months: Jan, Feb, Mar, Apr, ..."
      ]
    },
    {
      "cell_type": "code",
      "execution_count": null,
      "metadata": {
        "colab": {
          "base_uri": "https://localhost:8080/",
          "height": 293
        },
        "id": "UEQOZoFc_KnB",
        "outputId": "101541cf-8065-4bd5-835b-bb82e7cbb2b0",
        "tags": []
      },
      "outputs": [
        {
          "output_type": "display_data",
          "data": {
            "text/plain": [
              "<Figure size 432x288 with 1 Axes>"
            ],
            "image/png": "[encoded data removed]"
          },
          "metadata": {
            "needs_background": "light"
          }
        }
      ],
      "source": [
        "# Plot the mean anomaly by month vs month in a bar chart\n",
        "#  Make sure there is a horizontal line for 0 mean anomaly on the plot\n",
        "#  Label xticks with abbreviations for months: Jan, Feb, Mar, Apr, ...\n",
        "months_labels = pd.Series(pd.to_datetime(months, format='%m')).dt.strftime('%b')\n",
        "plt.bar(months_labels, mean_anomaly_month)\n",
        "plt.xlabel('Month', fontsize=10)\n",
        "plt.ylabel('Mean temperature deviation from 8.59 (°C)', fontsize=10)\n",
        "plt.title('Bar chart of mean anomalies in different months', fontsize=10);\n"
      ]
    },
    {
      "cell_type": "markdown",
      "metadata": {
        "id": "74ZsdgJ3MRUF"
      },
      "source": [
        "<!-- END QUESTION -->\n",
        "\n",
        "<!-- BEGIN QUESTION -->\n",
        "\n",
        "### 3F. Plot a histogram of the Anomaly data.\n",
        "Be sure to include a plot title, x-axis label, and y-axis label."
      ]
    },
    {
      "cell_type": "code",
      "execution_count": null,
      "metadata": {
        "colab": {
          "base_uri": "https://localhost:8080/",
          "height": 293
        },
        "id": "wIEpv4uNMPqh",
        "outputId": "6b4024c4-4601-47c3-99f7-0a8f9e250d4c",
        "tags": []
      },
      "outputs": [
        {
          "output_type": "display_data",
          "data": {
            "text/plain": [
              "<Figure size 432x288 with 1 Axes>"
            ],
            "image/png": "[encoded data removed]"
          },
          "metadata": {
            "needs_background": "light"
          }
        }
      ],
      "source": [
        "plt.hist(climate['Anomaly'], bins = 100)\n",
        "plt.xlabel('Temperature deviation from 8.59 (°C)', fontsize=10)\n",
        "plt.ylabel('Frequency', fontsize=10)\n",
        "plt.title('Histogram of anomalies from years 1880 to 2021', fontsize=10);"
      ]
    },
    {
      "cell_type": "markdown",
      "metadata": {
        "id": "_SmtrPzmMXpJ"
      },
      "source": [
        "<!-- END QUESTION -->\n",
        "\n",
        "<!-- BEGIN QUESTION -->\n",
        "\n",
        "### 3G. Bonus \n",
        "\n",
        "#### (1) Recreate the plot from 3C  \n",
        "Add a horizontal line at the estimated land-average temp. \n",
        "\n",
        "\n"
      ]
    },
    {
      "cell_type": "code",
      "execution_count": null,
      "metadata": {
        "colab": {
          "base_uri": "https://localhost:8080/",
          "height": 293
        },
        "id": "Ymv35jf7MZTw",
        "outputId": "40522794-ec23-43d9-92e8-c0ba1d707e51",
        "tags": []
      },
      "outputs": [
        {
          "output_type": "display_data",
          "data": {
            "text/plain": [
              "<Figure size 432x288 with 1 Axes>"
            ],
            "image/png": "[encoded data removed]"
          },
          "metadata": {
            "needs_background": "light"
          }
        }
      ],
      "source": [
        "plt.scatter(years, mean_temp_year, c =\"red\")\n",
        "plt.xlabel('Year', fontsize=10)\n",
        "plt.ylabel('Mean temperature (°C)', fontsize=10)\n",
        "plt.title('Scatter plot of mean temperatures in different years', fontsize=10)\n",
        "plt.axhline(y=8.59, color='green', linestyle='-')\n",
        "plt.legend((\"estimated land-average temp\", \"mean temperatures\"));"
      ]
    },
    {
      "cell_type": "markdown",
      "metadata": {
        "id": "fwRXkT-vGVTu"
      },
      "source": [
        "<!-- END QUESTION -->\n",
        "\n",
        "<!-- BEGIN QUESTION -->\n",
        "\n",
        "#### (2) Recreate the plot from 3E \n",
        "Color the positive bars in black and the negative bars in red."
      ]
    },
    {
      "cell_type": "code",
      "execution_count": null,
      "metadata": {
        "colab": {
          "base_uri": "https://localhost:8080/",
          "height": 293
        },
        "id": "27Nw9ZOWPHbU",
        "outputId": "48c5785c-864e-4b13-ed6b-04c883163855",
        "tags": []
      },
      "outputs": [
        {
          "output_type": "display_data",
          "data": {
            "text/plain": [
              "<Figure size 432x288 with 1 Axes>"
            ],
            "image/png": "[encoded data removed]"
          },
          "metadata": {
            "needs_background": "light"
          }
        }
      ],
      "source": [
        "months_labels = pd.Series(pd.to_datetime(months, format='%m')).dt.strftime('%b')\n",
        "\n",
        "pos_i, neg_i = [], []\n",
        "for i in range(0, len(months_labels)-1):\n",
        "    if np.array(mean_anomaly_month)[i] >= 0:\n",
        "        pos_i.append(i)\n",
        "    else:\n",
        "        neg_i.append(i)\n",
        "pos_x = months_labels[pos_i]\n",
        "pos_y = mean_anomaly_month[pos_i]\n",
        "neg_x = months_labels[neg_i]\n",
        "neg_y = np.array(mean_anomaly_month)[neg_i]\n",
        "\n",
        "plt.figure()\n",
        "plt.bar(pos_x, pos_y, color = 'black')\n",
        "plt.bar(neg_x, neg_y, color = 'red')\n",
        "plt.xlabel('Month', fontsize=10)\n",
        "plt.ylabel('Mean temperature deviation from 8.59 (°C)', fontsize=10)\n",
        "plt.title('Bar chart of mean anomalies in different months', fontsize=10)\n",
        "plt.show();"
      ]
    },
    {
      "cell_type": "markdown",
      "metadata": {
        "id": "bNVxT9YDGVTu"
      },
      "source": [
        "<!-- END QUESTION -->\n",
        "\n"
      ]
    }
  ],
  "metadata": {
    "colab": {
      "collapsed_sections": [],
      "provenance": [],
      "toc_visible": true
    },
    "kernelspec": {
      "display_name": "Python 3",
      "language": "python",
      "name": "python3"
    },
    "language_info": {
      "codemirror_mode": {
        "name": "ipython",
        "version": 3
      },
      "file_extension": ".py",
      "mimetype": "text/x-python",
      "name": "python",
      "nbconvert_exporter": "python",
      "pygments_lexer": "ipython3",
      "version": "3.7.4"
    },
    "otter": {
      "OK_FORMAT": true,
      "tests": {
        "p1_q1a": {
          "name": "p1_q1a",
          "points": 6,
          "suites": [
            {
              "cases": [
                {
                  "code": ">>> assert climate.shape[0] == 51865\n",
                  "hidden": false,
                  "locked": false
                },
                {
                  "code": ">>> assert climate.shape[1] == 6\n",
                  "hidden": false,
                  "locked": false
                }
              ],
              "scored": true,
              "setup": "",
              "teardown": "",
              "type": "doctest"
            }
          ]
        },
        "p1_q2": {
          "name": "p1_q2",
          "points": 2,
          "suites": [
            {
              "cases": [
                {
                  "code": ">>> assert climate.shape[1] == 7\n",
                  "hidden": false,
                  "locked": false
                }
              ],
              "scored": true,
              "setup": "",
              "teardown": "",
              "type": "doctest"
            }
          ]
        },
        "p1_q3a": {
          "name": "p1_q3a",
          "points": 6,
          "suites": [
            {
              "cases": [
                {
                  "code": ">>> assert len(years) == len(mean_anomaly_year)\n",
                  "hidden": false,
                  "locked": false
                },
                {
                  "code": ">>> assert min(years) == 1880\n",
                  "hidden": false,
                  "locked": false
                },
                {
                  "code": ">>> assert max(years) == 2021\n",
                  "hidden": false,
                  "locked": false
                }
              ],
              "scored": true,
              "setup": "",
              "teardown": "",
              "type": "doctest"
            }
          ]
        },
        "p1_q3b": {
          "name": "p1_q3b",
          "points": 3,
          "suites": [
            {
              "cases": [
                {
                  "code": ">>> assert len(years) == len(mean_temp_year)\n",
                  "hidden": false,
                  "locked": false
                }
              ],
              "scored": true,
              "setup": "",
              "teardown": "",
              "type": "doctest"
            }
          ]
        },
        "p1_q3d": {
          "name": "p1_q3d",
          "points": 6,
          "suites": [
            {
              "cases": [
                {
                  "code": ">>> assert len(months) == len(mean_anomaly_month)\n",
                  "hidden": false,
                  "locked": false
                }
              ],
              "scored": true,
              "setup": "",
              "teardown": "",
              "type": "doctest"
            }
          ]
        }
      }
    }
  },
  "nbformat": 4,
  "nbformat_minor": 0
}