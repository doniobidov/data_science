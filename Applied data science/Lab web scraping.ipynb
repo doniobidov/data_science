{
  "cells": [
    {
      "cell_type": "markdown",
      "metadata": {
        "id": "N6Yirgh_ZmdR"
      },
      "source": [
        "# Lab 5 - Getting Data\n",
        "\n",
        "The topics of week 5 is getting data with web scraping. \n",
        "\n",
        "In this lab notebook you will gain experience webscraping data of various forms.\n",
        "\n",
        "We will be looking at various US government website and using them to get information (these sites are selected because of their public informative nature). "
      ]
    },
    {
      "cell_type": "markdown",
      "metadata": {
        "id": "7IyI3TfFS080"
      },
      "source": [
        "## Autograder Setup\n",
        "\n",
        "The next code cell should be uncommented to run the autograder tests when using Colab/DeepNote.  If you are using an environment with `otter-grader` already installed (your own machine, lab machines), then do not uncomment the code."
      ]
    },
    {
      "cell_type": "code",
      "execution_count": null,
      "metadata": {
        "colab": {
          "base_uri": "https://localhost:8080/"
        },
        "id": "bCgpNJxzS080",
        "outputId": "52c06e40-e3e7-48a4-f622-c8462a982740"
      },
      "outputs": [
        {
          "output_type": "stream",
          "name": "stdout",
          "text": [
            "Looking in indexes: https://pypi.org/simple, https://us-python.pkg.dev/colab-wheels/public/simple/\n",
            "Collecting otter-grader\n",
            "  Downloading otter_grader-4.0.2-py3-none-any.whl (167 kB)\n",
            "\u001b[K     |████████████████████████████████| 167 kB 11.3 MB/s \n",
            "\u001b[?25hRequirement already satisfied: wrapt in /usr/local/lib/python3.7/dist-packages (from otter-grader) (1.14.1)\n",
            "Requirement already satisfied: click in /usr/local/lib/python3.7/dist-packages (from otter-grader) (7.1.2)\n",
            "Requirement already satisfied: google-api-python-client in /usr/local/lib/python3.7/dist-packages (from otter-grader) (1.12.11)\n",
            "Collecting fica>=0.2.0\n",
            "  Downloading fica-0.2.0-py3-none-any.whl (11 kB)\n",
            "Requirement already satisfied: nbformat in /usr/local/lib/python3.7/dist-packages (from otter-grader) (5.4.0)\n",
            "Requirement already satisfied: pandas in /usr/local/lib/python3.7/dist-packages (from otter-grader) (1.3.5)\n",
            "Requirement already satisfied: jinja2 in /usr/local/lib/python3.7/dist-packages (from otter-grader) (2.11.3)\n",
            "Requirement already satisfied: PyYAML in /usr/local/lib/python3.7/dist-packages (from otter-grader) (6.0)\n",
            "Collecting python-on-whales\n",
            "  Downloading python_on_whales-0.52.0-py3-none-any.whl (97 kB)\n",
            "\u001b[K     |████████████████████████████████| 97 kB 3.9 MB/s \n",
            "\u001b[?25hCollecting jupytext\n",
            "  Downloading jupytext-1.14.1-py3-none-any.whl (297 kB)\n",
            "\u001b[K     |████████████████████████████████| 297 kB 39.6 MB/s \n",
            "\u001b[?25hRequirement already satisfied: six in /usr/local/lib/python3.7/dist-packages (from otter-grader) (1.15.0)\n",
            "Requirement already satisfied: requests in /usr/local/lib/python3.7/dist-packages (from otter-grader) (2.23.0)\n",
            "Requirement already satisfied: google-auth-oauthlib in /usr/local/lib/python3.7/dist-packages (from otter-grader) (0.4.6)\n",
            "Requirement already satisfied: dill in /usr/local/lib/python3.7/dist-packages (from otter-grader) (0.3.5.1)\n",
            "Requirement already satisfied: gspread in /usr/local/lib/python3.7/dist-packages (from otter-grader) (3.4.2)\n",
            "Requirement already satisfied: sphinx in /usr/local/lib/python3.7/dist-packages (from fica>=0.2.0->otter-grader) (1.8.6)\n",
            "Requirement already satisfied: docutils in /usr/local/lib/python3.7/dist-packages (from fica>=0.2.0->otter-grader) (0.17.1)\n",
            "Requirement already satisfied: google-api-core<3dev,>=1.21.0 in /usr/local/lib/python3.7/dist-packages (from google-api-python-client->otter-grader) (1.31.6)\n",
            "Requirement already satisfied: google-auth<3dev,>=1.16.0 in /usr/local/lib/python3.7/dist-packages (from google-api-python-client->otter-grader) (1.35.0)\n",
            "Requirement already satisfied: httplib2<1dev,>=0.15.0 in /usr/local/lib/python3.7/dist-packages (from google-api-python-client->otter-grader) (0.17.4)\n",
            "Requirement already satisfied: google-auth-httplib2>=0.0.3 in /usr/local/lib/python3.7/dist-packages (from google-api-python-client->otter-grader) (0.0.4)\n",
            "Requirement already satisfied: uritemplate<4dev,>=3.0.0 in /usr/local/lib/python3.7/dist-packages (from google-api-python-client->otter-grader) (3.0.1)\n",
            "Requirement already satisfied: packaging>=14.3 in /usr/local/lib/python3.7/dist-packages (from google-api-core<3dev,>=1.21.0->google-api-python-client->otter-grader) (21.3)\n",
            "Requirement already satisfied: googleapis-common-protos<2.0dev,>=1.6.0 in /usr/local/lib/python3.7/dist-packages (from google-api-core<3dev,>=1.21.0->google-api-python-client->otter-grader) (1.56.4)\n",
            "Requirement already satisfied: pytz in /usr/local/lib/python3.7/dist-packages (from google-api-core<3dev,>=1.21.0->google-api-python-client->otter-grader) (2022.2.1)\n",
            "Requirement already satisfied: setuptools>=40.3.0 in /usr/local/lib/python3.7/dist-packages (from google-api-core<3dev,>=1.21.0->google-api-python-client->otter-grader) (57.4.0)\n",
            "Requirement already satisfied: protobuf<4.0.0dev,>=3.12.0 in /usr/local/lib/python3.7/dist-packages (from google-api-core<3dev,>=1.21.0->google-api-python-client->otter-grader) (3.17.3)\n",
            "Requirement already satisfied: rsa<5,>=3.1.4 in /usr/local/lib/python3.7/dist-packages (from google-auth<3dev,>=1.16.0->google-api-python-client->otter-grader) (4.9)\n",
            "Requirement already satisfied: pyasn1-modules>=0.2.1 in /usr/local/lib/python3.7/dist-packages (from google-auth<3dev,>=1.16.0->google-api-python-client->otter-grader) (0.2.8)\n",
            "Requirement already satisfied: cachetools<5.0,>=2.0.0 in /usr/local/lib/python3.7/dist-packages (from google-auth<3dev,>=1.16.0->google-api-python-client->otter-grader) (4.2.4)\n",
            "Requirement already satisfied: pyparsing!=3.0.5,>=2.0.2 in /usr/local/lib/python3.7/dist-packages (from packaging>=14.3->google-api-core<3dev,>=1.21.0->google-api-python-client->otter-grader) (3.0.9)\n",
            "Requirement already satisfied: pyasn1<0.5.0,>=0.4.6 in /usr/local/lib/python3.7/dist-packages (from pyasn1-modules>=0.2.1->google-auth<3dev,>=1.16.0->google-api-python-client->otter-grader) (0.4.8)\n",
            "Requirement already satisfied: idna<3,>=2.5 in /usr/local/lib/python3.7/dist-packages (from requests->otter-grader) (2.10)\n",
            "Requirement already satisfied: chardet<4,>=3.0.2 in /usr/local/lib/python3.7/dist-packages (from requests->otter-grader) (3.0.4)\n",
            "Requirement already satisfied: urllib3!=1.25.0,!=1.25.1,<1.26,>=1.21.1 in /usr/local/lib/python3.7/dist-packages (from requests->otter-grader) (1.24.3)\n",
            "Requirement already satisfied: certifi>=2017.4.17 in /usr/local/lib/python3.7/dist-packages (from requests->otter-grader) (2022.6.15)\n",
            "Requirement already satisfied: requests-oauthlib>=0.7.0 in /usr/local/lib/python3.7/dist-packages (from google-auth-oauthlib->otter-grader) (1.3.1)\n",
            "Requirement already satisfied: oauthlib>=3.0.0 in /usr/local/lib/python3.7/dist-packages (from requests-oauthlib>=0.7.0->google-auth-oauthlib->otter-grader) (3.2.0)\n",
            "Requirement already satisfied: MarkupSafe>=0.23 in /usr/local/lib/python3.7/dist-packages (from jinja2->otter-grader) (2.0.1)\n",
            "Requirement already satisfied: toml in /usr/local/lib/python3.7/dist-packages (from jupytext->otter-grader) (0.10.2)\n",
            "Collecting mdit-py-plugins\n",
            "  Downloading mdit_py_plugins-0.3.1-py3-none-any.whl (46 kB)\n",
            "\u001b[K     |████████████████████████████████| 46 kB 771 kB/s \n",
            "\u001b[?25hCollecting markdown-it-py<3.0.0,>=1.0.0\n",
            "  Downloading markdown_it_py-2.1.0-py3-none-any.whl (84 kB)\n",
            "\u001b[K     |████████████████████████████████| 84 kB 3.2 MB/s \n",
            "\u001b[?25hCollecting mdurl~=0.1\n",
            "  Downloading mdurl-0.1.2-py3-none-any.whl (10.0 kB)\n",
            "Requirement already satisfied: typing_extensions>=3.7.4 in /usr/local/lib/python3.7/dist-packages (from markdown-it-py<3.0.0,>=1.0.0->jupytext->otter-grader) (4.1.1)\n",
            "Requirement already satisfied: jupyter-core in /usr/local/lib/python3.7/dist-packages (from nbformat->otter-grader) (4.11.1)\n",
            "Requirement already satisfied: jsonschema>=2.6 in /usr/local/lib/python3.7/dist-packages (from nbformat->otter-grader) (4.3.3)\n",
            "Requirement already satisfied: traitlets>=5.1 in /usr/local/lib/python3.7/dist-packages (from nbformat->otter-grader) (5.1.1)\n",
            "Requirement already satisfied: fastjsonschema in /usr/local/lib/python3.7/dist-packages (from nbformat->otter-grader) (2.16.1)\n",
            "Requirement already satisfied: attrs>=17.4.0 in /usr/local/lib/python3.7/dist-packages (from jsonschema>=2.6->nbformat->otter-grader) (22.1.0)\n",
            "Requirement already satisfied: pyrsistent!=0.17.0,!=0.17.1,!=0.17.2,>=0.14.0 in /usr/local/lib/python3.7/dist-packages (from jsonschema>=2.6->nbformat->otter-grader) (0.18.1)\n",
            "Requirement already satisfied: importlib-resources>=1.4.0 in /usr/local/lib/python3.7/dist-packages (from jsonschema>=2.6->nbformat->otter-grader) (5.9.0)\n",
            "Requirement already satisfied: importlib-metadata in /usr/local/lib/python3.7/dist-packages (from jsonschema>=2.6->nbformat->otter-grader) (4.12.0)\n",
            "Requirement already satisfied: zipp>=3.1.0 in /usr/local/lib/python3.7/dist-packages (from importlib-resources>=1.4.0->jsonschema>=2.6->nbformat->otter-grader) (3.8.1)\n",
            "Requirement already satisfied: numpy>=1.17.3 in /usr/local/lib/python3.7/dist-packages (from pandas->otter-grader) (1.21.6)\n",
            "Requirement already satisfied: python-dateutil>=2.7.3 in /usr/local/lib/python3.7/dist-packages (from pandas->otter-grader) (2.8.2)\n",
            "Requirement already satisfied: pydantic in /usr/local/lib/python3.7/dist-packages (from python-on-whales->otter-grader) (1.9.2)\n",
            "Requirement already satisfied: tqdm in /usr/local/lib/python3.7/dist-packages (from python-on-whales->otter-grader) (4.64.1)\n",
            "Requirement already satisfied: typer>=0.4.1 in /usr/local/lib/python3.7/dist-packages (from python-on-whales->otter-grader) (0.4.2)\n",
            "Requirement already satisfied: Pygments>=2.0 in /usr/local/lib/python3.7/dist-packages (from sphinx->fica>=0.2.0->otter-grader) (2.6.1)\n",
            "Requirement already satisfied: sphinxcontrib-websupport in /usr/local/lib/python3.7/dist-packages (from sphinx->fica>=0.2.0->otter-grader) (1.2.4)\n",
            "Requirement already satisfied: snowballstemmer>=1.1 in /usr/local/lib/python3.7/dist-packages (from sphinx->fica>=0.2.0->otter-grader) (2.2.0)\n",
            "Requirement already satisfied: alabaster<0.8,>=0.7 in /usr/local/lib/python3.7/dist-packages (from sphinx->fica>=0.2.0->otter-grader) (0.7.12)\n",
            "Requirement already satisfied: babel!=2.0,>=1.3 in /usr/local/lib/python3.7/dist-packages (from sphinx->fica>=0.2.0->otter-grader) (2.10.3)\n",
            "Requirement already satisfied: imagesize in /usr/local/lib/python3.7/dist-packages (from sphinx->fica>=0.2.0->otter-grader) (1.4.1)\n",
            "Requirement already satisfied: sphinxcontrib-serializinghtml in /usr/local/lib/python3.7/dist-packages (from sphinxcontrib-websupport->sphinx->fica>=0.2.0->otter-grader) (1.1.5)\n",
            "Installing collected packages: mdurl, markdown-it-py, mdit-py-plugins, python-on-whales, jupytext, fica, otter-grader\n",
            "Successfully installed fica-0.2.0 jupytext-1.14.1 markdown-it-py-2.1.0 mdit-py-plugins-0.3.1 mdurl-0.1.2 otter-grader-4.0.2 python-on-whales-0.52.0\n"
          ]
        }
      ],
      "source": [
        "# !pip install otter-grader"
      ]
    },
    {
      "cell_type": "markdown",
      "metadata": {
        "id": "kD0lL5W9S081"
      },
      "source": [
        "In order to have the data files and test files for this lab, uncomment and run the following cell. Please comment out before submission."
      ]
    },
    {
      "cell_type": "code",
      "execution_count": null,
      "metadata": {
        "colab": {
          "base_uri": "https://localhost:8080/"
        },
        "id": "PLs1xDlWS081",
        "outputId": "b20d9e02-a6cb-4194-c550-9a04619ab0ed"
      },
      "outputs": [
        {
          "output_type": "stream",
          "name": "stdout",
          "text": [
            "--2022-09-29 22:09:06--  https://pages.mtu.edu/~lebrown/un5550-f22/labs/lab5/lab5.files.zip\n",
            "Resolving pages.mtu.edu (pages.mtu.edu)... 141.219.70.232\n",
            "Connecting to pages.mtu.edu (pages.mtu.edu)|141.219.70.232|:443... connected.\n",
            "HTTP request sent, awaiting response... 200 OK\n",
            "Length: 2016 (2.0K) [application/zip]\n",
            "Saving to: ‘lab5.files.zip’\n",
            "\n",
            "lab5.files.zip      100%[===================>]   1.97K  --.-KB/s    in 0s      \n",
            "\n",
            "2022-09-29 22:09:06 (282 MB/s) - ‘lab5.files.zip’ saved [2016/2016]\n",
            "\n",
            "Archive:  lab5.files.zip\n",
            "   creating: tests/\n",
            "  inflating: tests/q5.py             \n",
            "  inflating: tests/q1.py             \n",
            "  inflating: tests/q4.py             \n",
            "  inflating: tests/q3.py             \n",
            "  inflating: tests/q2.py             \n"
          ]
        }
      ],
      "source": [
        "# !wget https://pages.mtu.edu/~lebrown/un5550-f22/labs/lab5/lab5.files.zip\n",
        "# !unzip lab5.files.zip"
      ]
    },
    {
      "cell_type": "markdown",
      "metadata": {
        "id": "ciJtgoEOS081"
      },
      "source": [
        "## Lab Setup "
      ]
    },
    {
      "cell_type": "code",
      "execution_count": null,
      "metadata": {
        "id": "YVdDTDldbUrG"
      },
      "outputs": [],
      "source": [
        "from bs4 import BeautifulSoup\n",
        "import requests \n",
        "import pandas as pd\n",
        "import re\n",
        "\n",
        "import otter\n",
        "grader = otter.Notebook()"
      ]
    },
    {
      "cell_type": "markdown",
      "metadata": {
        "id": "gs41KLtpZ1tR"
      },
      "source": [
        "## Exercise 1 \n",
        "\n",
        "Identify the name of the data set most relevant to 'climate' on https://www.data.gov \n",
        "\n",
        "You will want to use the url = \"https://catalog.data.gov/dataset?q=climate&sort=score+desc%2C+name+asc\".\n",
        "\n",
        "Then, you will use BeautifulSoup to parse the website to find the name of the data set.  "
      ]
    },
    {
      "cell_type": "code",
      "execution_count": null,
      "metadata": {
        "id": "0VNObJxZYv5Q",
        "tags": [],
        "colab": {
          "base_uri": "https://localhost:8080/",
          "height": 36
        },
        "outputId": "0a16fdd0-4a6d-414f-9c6d-2e3e8a1f32d3"
      },
      "outputs": [
        {
          "output_type": "execute_result",
          "data": {
            "text/plain": [
              "'Downscaled Climate Model Climate Toolbox'"
            ],
            "application/vnd.google.colaboratory.intrinsic+json": {
              "type": "string"
            }
          },
          "metadata": {},
          "execution_count": 48
        }
      ],
      "source": [
        "# Identify the name of the data set most relevant to \"climate\" on data.gov\n",
        "# Use BeautifulSoup to parse the website to find the name of the data set. \n",
        "url = 'https://catalog.data.gov/dataset?q=climate&sort=score+desc%2C+name+asc'\n",
        "resp = requests.get(url) \n",
        "soup = BeautifulSoup(resp.text, 'html5lib')\n",
        "\n",
        "name = soup.find('h3').text.strip()\n",
        "name"
      ]
    },
    {
      "cell_type": "code",
      "execution_count": null,
      "metadata": {
        "deletable": false,
        "editable": false,
        "colab": {
          "base_uri": "https://localhost:8080/",
          "height": 46
        },
        "id": "U9xWHRHoS082",
        "outputId": "8119c735-bc6c-4f40-9fbd-c4ad5c57fbc5"
      },
      "outputs": [
        {
          "output_type": "execute_result",
          "data": {
            "text/plain": [
              "q1 results: All test cases passed!"
            ],
            "text/html": [
              "<p><strong><pre style='display: inline;'>q1</pre></strong> passed!</p>"
            ]
          },
          "metadata": {},
          "execution_count": 49
        }
      ],
      "source": [
        "grader.check(\"q1\")"
      ]
    },
    {
      "cell_type": "markdown",
      "metadata": {
        "id": "AM4-gV6JbZUi"
      },
      "source": [
        "## Exercise 2 \n",
        "\n",
        "Total number of clinical trials (research studies) recorded at the National Institutes of Health, https://clinicaltrials.gov"
      ]
    },
    {
      "cell_type": "code",
      "execution_count": null,
      "metadata": {
        "id": "L2Nd4fZYbc5Q",
        "tags": [],
        "colab": {
          "base_uri": "https://localhost:8080/"
        },
        "outputId": "9e732570-1be7-4279-d9dc-cc435c1dcd24"
      },
      "outputs": [
        {
          "output_type": "execute_result",
          "data": {
            "text/plain": [
              "429205"
            ]
          },
          "metadata": {},
          "execution_count": 69
        }
      ],
      "source": [
        "# Identify the number of clinical trials (research studies) on https://clinicaltrials.gov\n",
        "# Use BeautifulSoup to parse the website to find the number of studies. \n",
        "url = 'https://clinicaltrials.gov/'\n",
        "resp = requests.get(url) \n",
        "soup = BeautifulSoup(resp.text, 'html5lib')\n",
        "\n",
        "pattern = r'\\d+?,\\d+'\n",
        "\n",
        "num_research_studies = int(re.search(pattern, soup.find('h2').text).group().replace(',', ''))  # integer value\n",
        "num_research_studies"
      ]
    },
    {
      "cell_type": "code",
      "execution_count": null,
      "metadata": {
        "deletable": false,
        "editable": false,
        "colab": {
          "base_uri": "https://localhost:8080/",
          "height": 46
        },
        "id": "ZYjBzmc9S082",
        "outputId": "4c664df4-f99c-4ecc-e389-dace29506a7c"
      },
      "outputs": [
        {
          "output_type": "execute_result",
          "data": {
            "text/plain": [
              "q2 results: All test cases passed!"
            ],
            "text/html": [
              "<p><strong><pre style='display: inline;'>q2</pre></strong> passed!</p>"
            ]
          },
          "metadata": {},
          "execution_count": 70
        }
      ],
      "source": [
        "grader.check(\"q2\")"
      ]
    },
    {
      "cell_type": "markdown",
      "metadata": {
        "id": "hLv57yD-bsCI"
      },
      "source": [
        "## Exercise 3 \n",
        "\n",
        "Give the number of travel advisories, by level, for international travel given by the US government. Data available at: https://travel.state.gov/content/travel/en/traveladvisories/traveladvisories.html/\n",
        "\n",
        "Create two solutions for this question, the first using `pandas` `read_html` function.  The second version should be using just BeautifulSoup and python to scrape the table.  "
      ]
    },
    {
      "cell_type": "code",
      "execution_count": null,
      "metadata": {
        "id": "Z-VKIhm5bp0d"
      },
      "outputs": [],
      "source": [
        "site = requests.get('https://travel.state.gov/content/travel/en/traveladvisories/traveladvisories.html/').text\n",
        "q3 = BeautifulSoup(site, 'html5lib')"
      ]
    },
    {
      "cell_type": "markdown",
      "metadata": {
        "id": "xKqvx5j7b7Pt"
      },
      "source": [
        "**Version 1** - Write one solution using pandas `read_html`"
      ]
    },
    {
      "cell_type": "markdown",
      "metadata": {
        "id": "L-77DMh1b3Iq"
      },
      "source": [
        "**Version 2** - Write another solution just using beautiful soup and other Python functions to scrape the table."
      ]
    },
    {
      "cell_type": "code",
      "execution_count": null,
      "metadata": {
        "id": "hObOuGpCbxNU",
        "tags": [],
        "colab": {
          "base_uri": "https://localhost:8080/"
        },
        "outputId": "69061345-1ac7-41c2-a566-196b2b320705"
      },
      "outputs": [
        {
          "output_type": "stream",
          "name": "stdout",
          "text": [
            "Number of travel Level 1 warnings : 89\n",
            "Number of travel Level 2 warnings : 62\n",
            "Number of travel Level 3 warnings : 39\n",
            "Number of travel Level 4 warnings : 20\n"
          ]
        }
      ],
      "source": [
        "# Version 1\n",
        "# Read in the table using pandas \"read_html\" function \n",
        "# Report out number of each warnings \n",
        "...\n",
        "url = 'https://travel.state.gov/content/travel/en/traveladvisories/traveladvisories.html/'\n",
        "df = pd.read_html(url)[0]\n",
        "\n",
        "l1Num1 = df['Level'].value_counts()[0] \n",
        "l2Num1 = df['Level'].value_counts()[1]\n",
        "l3Num1 = df['Level'].value_counts()[2]\n",
        "l4Num1 = df['Level'].value_counts()[3]\n",
        "\n",
        "print(\"Number of travel Level 1 warnings : \" +  str(l1Num1)) \n",
        "print(\"Number of travel Level 2 warnings : \" +  str(l2Num1))\n",
        "print(\"Number of travel Level 3 warnings : \" +  str(l3Num1))\n",
        "print(\"Number of travel Level 4 warnings : \" +  str(l4Num1))"
      ]
    },
    {
      "cell_type": "code",
      "execution_count": null,
      "metadata": {
        "id": "I5meuSuzbze6",
        "tags": [],
        "colab": {
          "base_uri": "https://localhost:8080/"
        },
        "outputId": "2b93a8af-1989-42be-a856-738e0e0c43c4"
      },
      "outputs": [
        {
          "output_type": "stream",
          "name": "stdout",
          "text": [
            "Number of travel Level 1 warnings : 89\n",
            "Number of travel Level 2 warnings : 62\n",
            "Number of travel Level 3 warnings : 39\n",
            "Number of travel Level 4 warnings : 20\n"
          ]
        }
      ],
      "source": [
        "# Version 2\n",
        "# Write another solution just using beautiful soup and other Python functions to \n",
        "#   scrape the table information\n",
        "# Report out number of each warnings \n",
        "...\n",
        "\n",
        "all_enries = q3.find_all('td')\n",
        "levels = [0,0,0,0]\n",
        "pattern = r'Level (\\d)'\n",
        "#re.match(pattern, all_enries[1].text).group(1)\n",
        "\n",
        "for entry in all_enries:\n",
        "  m = re.match(pattern, entry.text)\n",
        "  if m:\n",
        "    level = int(m.group(1))\n",
        "    levels[level-1] += 1\n",
        "\n",
        "\n",
        "l1Num2 = levels[0]\n",
        "l2Num2 = levels[1]\n",
        "l3Num2 = levels[2]\n",
        "l4Num2 = levels[3]\n",
        "\n",
        "print(\"Number of travel Level 1 warnings : \" +  str(l1Num2)) \n",
        "print(\"Number of travel Level 2 warnings : \" +  str(l2Num2))\n",
        "print(\"Number of travel Level 3 warnings : \" +  str(l3Num2))\n",
        "print(\"Number of travel Level 4 warnings : \" +  str(l4Num2))"
      ]
    },
    {
      "cell_type": "code",
      "execution_count": null,
      "metadata": {
        "deletable": false,
        "editable": false,
        "colab": {
          "base_uri": "https://localhost:8080/",
          "height": 46
        },
        "id": "p6y3Df0bS083",
        "outputId": "bc3235a9-a78a-4e36-b8d7-4d0c29b9d894"
      },
      "outputs": [
        {
          "output_type": "execute_result",
          "data": {
            "text/plain": [
              "q3 results: All test cases passed!"
            ],
            "text/html": [
              "<p><strong><pre style='display: inline;'>q3</pre></strong> passed!</p>"
            ]
          },
          "metadata": {},
          "execution_count": 111
        }
      ],
      "source": [
        "grader.check(\"q3\")"
      ]
    },
    {
      "cell_type": "markdown",
      "metadata": {
        "id": "ISRqO9H4lyqc"
      },
      "source": [
        "##  Example \n",
        "\n",
        "Let's look at the number of workplace fatalities as reported to the federal and state Occupational Safety and Health Administration (OSHA) at https://www.osha.gov/fatalities. \n",
        "\n",
        "\n"
      ]
    },
    {
      "cell_type": "code",
      "execution_count": null,
      "metadata": {
        "id": "q-eORItRS083"
      },
      "outputs": [],
      "source": [
        "site = requests.get('https://www.osha.gov/fatalities').text\n",
        "q4 = BeautifulSoup(site, 'html5lib')\n",
        "\n",
        "# Read in Table using pandas \"read_html\" method\n",
        "q4table = pd.read_html(q4.prettify(), flavor=['bs4'])\n",
        "df4 = q4table[0]\n",
        "#df4.head()"
      ]
    },
    {
      "cell_type": "code",
      "execution_count": null,
      "metadata": {
        "colab": {
          "base_uri": "https://localhost:8080/"
        },
        "id": "_DM14cyPS083",
        "outputId": "208d9a50-cbd6-4543-8fe2-89f72fd4ed82"
      },
      "outputs": [
        {
          "output_type": "execute_result",
          "data": {
            "text/plain": [
              "(6252, 7)"
            ]
          },
          "metadata": {},
          "execution_count": 113
        }
      ],
      "source": [
        "df4.shape"
      ]
    },
    {
      "cell_type": "code",
      "execution_count": null,
      "metadata": {
        "colab": {
          "base_uri": "https://localhost:8080/"
        },
        "id": "YGgfaH-bS084",
        "outputId": "fac0202d-55e2-427c-d08c-b9dd2e2a3ab5"
      },
      "outputs": [
        {
          "output_type": "stream",
          "name": "stdout",
          "text": [
            "Number of citations issues related to fatality:  3446\n"
          ]
        }
      ],
      "source": [
        "sz = df4[df4['Citation Issued Related to Fatality']=='Yes'].shape\n",
        "print(\"Number of citations issues related to fatality: \", sz[0])"
      ]
    },
    {
      "cell_type": "markdown",
      "metadata": {
        "id": "ycUu86wwS084"
      },
      "source": [
        "## Exercise 4 \n",
        "\n",
        "Save in a DataFrame the incidents that occurred in fiscal year 2021, Oct. 1, 2020 - Sept. 30, 2021.  \n",
        "\n",
        "Try using `pd.to_datetime` to add a new \"Date\" column with the Date of Incident column converted to a datetime object that may be easier to filter. \n",
        "\n",
        "https://pandas.pydata.org/docs/reference/api/pandas.to_datetime.html\n"
      ]
    },
    {
      "cell_type": "code",
      "execution_count": null,
      "metadata": {
        "tags": [],
        "colab": {
          "base_uri": "https://localhost:8080/",
          "height": 658
        },
        "id": "SP72AfQyS084",
        "outputId": "c918ec18-e454-43bf-cd33-556c2eb15445"
      },
      "outputs": [
        {
          "output_type": "execute_result",
          "data": {
            "text/plain": [
              "     Date of Incident        City Select State  \\\n",
              "287        09/28/2021   Stoughton           WI   \n",
              "288        09/28/2021   Lindstrom           MN   \n",
              "289        09/25/2021    Clermont           FL   \n",
              "290        09/24/2021     Kooskia           ID   \n",
              "291        09/24/2021   Charlotte           NC   \n",
              "...               ...         ...          ...   \n",
              "1400       10/02/2020  Germantown           NY   \n",
              "1401       10/02/2020  Sacramento           CA   \n",
              "1402       10/01/2020    Au Train           MI   \n",
              "1403       10/01/2020  Petersburg           VA   \n",
              "1404       10/01/2020     Waldorf           MD   \n",
              "\n",
              "                                     Hazard Description  Inspection Number  \\\n",
              "287   Robert Castillo (87) fatally crushed in trench...          1551677.0   \n",
              "288     David Chmielewski (48) died in trench collapse.          1560134.0   \n",
              "289   Jesus Olvera Aguilar (19) fatally struck by li...          1551830.0   \n",
              "290               Woker died in fall from trailer deck.          1554698.0   \n",
              "291   Doyle \"Gene\" Stepp (61) died in fall through c...          1555738.0   \n",
              "...                                                 ...                ...   \n",
              "1400            Worker fatally struck by rolling truck.          1496101.0   \n",
              "1401                     Worker died in fall from roof.          1495968.0   \n",
              "1402         Worker fatally crushed between two trucks.          1495370.0   \n",
              "1403            Worker fatally struck by motor vehicle.          1495621.0   \n",
              "1404                Worker fatally shot during robbery.          1495605.0   \n",
              "\n",
              "     Federal or State Plan Citation Issued Related to Fatality       Date  \n",
              "287                Federal                                  No 2021-09-28  \n",
              "288                  State                                 Yes 2021-09-28  \n",
              "289                Federal                                  No 2021-09-25  \n",
              "290                Federal                                 Yes 2021-09-24  \n",
              "291                  State                                 Yes 2021-09-24  \n",
              "...                    ...                                 ...        ...  \n",
              "1400               Federal                                  No 2020-10-02  \n",
              "1401                 State                                 Yes 2020-10-02  \n",
              "1402                 STATE                                  No 2020-10-01  \n",
              "1403                 State                                  No 2020-10-01  \n",
              "1404                 STATE                                  No 2020-10-01  \n",
              "\n",
              "[1118 rows x 8 columns]"
            ],
            "text/html": [
              "\n",
              "  <div id=\"df-05bfe3b9-ac04-4178-9922-d49c393e12c3\">\n",
              "    <div class=\"colab-df-container\">\n",
              "      <div>\n",
              "<style scoped>\n",
              "    .dataframe tbody tr th:only-of-type {\n",
              "        vertical-align: middle;\n",
              "    }\n",
              "\n",
              "    .dataframe tbody tr th {\n",
              "        vertical-align: top;\n",
              "    }\n",
              "\n",
              "    .dataframe thead th {\n",
              "        text-align: right;\n",
              "    }\n",
              "</style>\n",
              "<table border=\"1\" class=\"dataframe\">\n",
              "  <thead>\n",
              "    <tr style=\"text-align: right;\">\n",
              "      <th></th>\n",
              "      <th>Date of Incident</th>\n",
              "      <th>City</th>\n",
              "      <th>Select State</th>\n",
              "      <th>Hazard Description</th>\n",
              "      <th>Inspection Number</th>\n",
              "      <th>Federal or State Plan</th>\n",
              "      <th>Citation Issued Related to Fatality</th>\n",
              "      <th>Date</th>\n",
              "    </tr>\n",
              "  </thead>\n",
              "  <tbody>\n",
              "    <tr>\n",
              "      <th>287</th>\n",
              "      <td>09/28/2021</td>\n",
              "      <td>Stoughton</td>\n",
              "      <td>WI</td>\n",
              "      <td>Robert Castillo (87) fatally crushed in trench...</td>\n",
              "      <td>1551677.0</td>\n",
              "      <td>Federal</td>\n",
              "      <td>No</td>\n",
              "      <td>2021-09-28</td>\n",
              "    </tr>\n",
              "    <tr>\n",
              "      <th>288</th>\n",
              "      <td>09/28/2021</td>\n",
              "      <td>Lindstrom</td>\n",
              "      <td>MN</td>\n",
              "      <td>David Chmielewski (48) died in trench collapse.</td>\n",
              "      <td>1560134.0</td>\n",
              "      <td>State</td>\n",
              "      <td>Yes</td>\n",
              "      <td>2021-09-28</td>\n",
              "    </tr>\n",
              "    <tr>\n",
              "      <th>289</th>\n",
              "      <td>09/25/2021</td>\n",
              "      <td>Clermont</td>\n",
              "      <td>FL</td>\n",
              "      <td>Jesus Olvera Aguilar (19) fatally struck by li...</td>\n",
              "      <td>1551830.0</td>\n",
              "      <td>Federal</td>\n",
              "      <td>No</td>\n",
              "      <td>2021-09-25</td>\n",
              "    </tr>\n",
              "    <tr>\n",
              "      <th>290</th>\n",
              "      <td>09/24/2021</td>\n",
              "      <td>Kooskia</td>\n",
              "      <td>ID</td>\n",
              "      <td>Woker died in fall from trailer deck.</td>\n",
              "      <td>1554698.0</td>\n",
              "      <td>Federal</td>\n",
              "      <td>Yes</td>\n",
              "      <td>2021-09-24</td>\n",
              "    </tr>\n",
              "    <tr>\n",
              "      <th>291</th>\n",
              "      <td>09/24/2021</td>\n",
              "      <td>Charlotte</td>\n",
              "      <td>NC</td>\n",
              "      <td>Doyle \"Gene\" Stepp (61) died in fall through c...</td>\n",
              "      <td>1555738.0</td>\n",
              "      <td>State</td>\n",
              "      <td>Yes</td>\n",
              "      <td>2021-09-24</td>\n",
              "    </tr>\n",
              "    <tr>\n",
              "      <th>...</th>\n",
              "      <td>...</td>\n",
              "      <td>...</td>\n",
              "      <td>...</td>\n",
              "      <td>...</td>\n",
              "      <td>...</td>\n",
              "      <td>...</td>\n",
              "      <td>...</td>\n",
              "      <td>...</td>\n",
              "    </tr>\n",
              "    <tr>\n",
              "      <th>1400</th>\n",
              "      <td>10/02/2020</td>\n",
              "      <td>Germantown</td>\n",
              "      <td>NY</td>\n",
              "      <td>Worker fatally struck by rolling truck.</td>\n",
              "      <td>1496101.0</td>\n",
              "      <td>Federal</td>\n",
              "      <td>No</td>\n",
              "      <td>2020-10-02</td>\n",
              "    </tr>\n",
              "    <tr>\n",
              "      <th>1401</th>\n",
              "      <td>10/02/2020</td>\n",
              "      <td>Sacramento</td>\n",
              "      <td>CA</td>\n",
              "      <td>Worker died in fall from roof.</td>\n",
              "      <td>1495968.0</td>\n",
              "      <td>State</td>\n",
              "      <td>Yes</td>\n",
              "      <td>2020-10-02</td>\n",
              "    </tr>\n",
              "    <tr>\n",
              "      <th>1402</th>\n",
              "      <td>10/01/2020</td>\n",
              "      <td>Au Train</td>\n",
              "      <td>MI</td>\n",
              "      <td>Worker fatally crushed between two trucks.</td>\n",
              "      <td>1495370.0</td>\n",
              "      <td>STATE</td>\n",
              "      <td>No</td>\n",
              "      <td>2020-10-01</td>\n",
              "    </tr>\n",
              "    <tr>\n",
              "      <th>1403</th>\n",
              "      <td>10/01/2020</td>\n",
              "      <td>Petersburg</td>\n",
              "      <td>VA</td>\n",
              "      <td>Worker fatally struck by motor vehicle.</td>\n",
              "      <td>1495621.0</td>\n",
              "      <td>State</td>\n",
              "      <td>No</td>\n",
              "      <td>2020-10-01</td>\n",
              "    </tr>\n",
              "    <tr>\n",
              "      <th>1404</th>\n",
              "      <td>10/01/2020</td>\n",
              "      <td>Waldorf</td>\n",
              "      <td>MD</td>\n",
              "      <td>Worker fatally shot during robbery.</td>\n",
              "      <td>1495605.0</td>\n",
              "      <td>STATE</td>\n",
              "      <td>No</td>\n",
              "      <td>2020-10-01</td>\n",
              "    </tr>\n",
              "  </tbody>\n",
              "</table>\n",
              "<p>1118 rows × 8 columns</p>\n",
              "</div>\n",
              "      <button class=\"colab-df-convert\" onclick=\"convertToInteractive('df-05bfe3b9-ac04-4178-9922-d49c393e12c3')\"\n",
              "              title=\"Convert this dataframe to an interactive table.\"\n",
              "              style=\"display:none;\">\n",
              "        \n",
              "  <svg xmlns=\"http://www.w3.org/2000/svg\" height=\"24px\"viewBox=\"0 0 24 24\"\n",
              "       width=\"24px\">\n",
              "    <path d=\"M0 0h24v24H0V0z\" fill=\"none\"/>\n",
              "    <path d=\"M18.56 5.44l.94 2.06.94-2.06 2.06-.94-2.06-.94-.94-2.06-.94 2.06-2.06.94zm-11 1L8.5 8.5l.94-2.06 2.06-.94-2.06-.94L8.5 2.5l-.94 2.06-2.06.94zm10 10l.94 2.06.94-2.06 2.06-.94-2.06-.94-.94-2.06-.94 2.06-2.06.94z\"/><path d=\"M17.41 7.96l-1.37-1.37c-.4-.4-.92-.59-1.43-.59-.52 0-1.04.2-1.43.59L10.3 9.45l-7.72 7.72c-.78.78-.78 2.05 0 2.83L4 21.41c.39.39.9.59 1.41.59.51 0 1.02-.2 1.41-.59l7.78-7.78 2.81-2.81c.8-.78.8-2.07 0-2.86zM5.41 20L4 18.59l7.72-7.72 1.47 1.35L5.41 20z\"/>\n",
              "  </svg>\n",
              "      </button>\n",
              "      \n",
              "  <style>\n",
              "    .colab-df-container {\n",
              "      display:flex;\n",
              "      flex-wrap:wrap;\n",
              "      gap: 12px;\n",
              "    }\n",
              "\n",
              "    .colab-df-convert {\n",
              "      background-color: #E8F0FE;\n",
              "      border: none;\n",
              "      border-radius: 50%;\n",
              "      cursor: pointer;\n",
              "      display: none;\n",
              "      fill: #1967D2;\n",
              "      height: 32px;\n",
              "      padding: 0 0 0 0;\n",
              "      width: 32px;\n",
              "    }\n",
              "\n",
              "    .colab-df-convert:hover {\n",
              "      background-color: #E2EBFA;\n",
              "      box-shadow: 0px 1px 2px rgba(60, 64, 67, 0.3), 0px 1px 3px 1px rgba(60, 64, 67, 0.15);\n",
              "      fill: #174EA6;\n",
              "    }\n",
              "\n",
              "    [theme=dark] .colab-df-convert {\n",
              "      background-color: #3B4455;\n",
              "      fill: #D2E3FC;\n",
              "    }\n",
              "\n",
              "    [theme=dark] .colab-df-convert:hover {\n",
              "      background-color: #434B5C;\n",
              "      box-shadow: 0px 1px 3px 1px rgba(0, 0, 0, 0.15);\n",
              "      filter: drop-shadow(0px 1px 2px rgba(0, 0, 0, 0.3));\n",
              "      fill: #FFFFFF;\n",
              "    }\n",
              "  </style>\n",
              "\n",
              "      <script>\n",
              "        const buttonEl =\n",
              "          document.querySelector('#df-05bfe3b9-ac04-4178-9922-d49c393e12c3 button.colab-df-convert');\n",
              "        buttonEl.style.display =\n",
              "          google.colab.kernel.accessAllowed ? 'block' : 'none';\n",
              "\n",
              "        async function convertToInteractive(key) {\n",
              "          const element = document.querySelector('#df-05bfe3b9-ac04-4178-9922-d49c393e12c3');\n",
              "          const dataTable =\n",
              "            await google.colab.kernel.invokeFunction('convertToInteractive',\n",
              "                                                     [key], {});\n",
              "          if (!dataTable) return;\n",
              "\n",
              "          const docLinkHtml = 'Like what you see? Visit the ' +\n",
              "            '<a target=\"_blank\" href=https://colab.research.google.com/notebooks/data_table.ipynb>data table notebook</a>'\n",
              "            + ' to learn more about interactive tables.';\n",
              "          element.innerHTML = '';\n",
              "          dataTable['output_type'] = 'display_data';\n",
              "          await google.colab.output.renderOutput(dataTable, element);\n",
              "          const docLink = document.createElement('div');\n",
              "          docLink.innerHTML = docLinkHtml;\n",
              "          element.appendChild(docLink);\n",
              "        }\n",
              "      </script>\n",
              "    </div>\n",
              "  </div>\n",
              "  "
            ]
          },
          "metadata": {},
          "execution_count": 148
        }
      ],
      "source": [
        "# Save all incidents that occured in fiscal year 2021: Oct. 1, 2020 - Sept. 30, 2021\n",
        "#  in a DataFrame (\"q4result\"), it will have a new column \"Date\" with the Date of \n",
        "#  Incident column converted to a datetime object. \n",
        "\n",
        "df4['Date'] = pd.to_datetime(df4['Date of Incident'])\n",
        "q4result = df4.loc[ (df4['Date']>=pd.to_datetime('2020-10-01')) & (df4['Date']<=pd.to_datetime('2021-09-30')) ]\n",
        "q4result"
      ]
    },
    {
      "cell_type": "code",
      "execution_count": null,
      "metadata": {
        "deletable": false,
        "editable": false,
        "colab": {
          "base_uri": "https://localhost:8080/",
          "height": 46
        },
        "id": "dAr6iLs1S084",
        "outputId": "549b8f85-0692-4c6b-f640-844fab45a850"
      },
      "outputs": [
        {
          "output_type": "execute_result",
          "data": {
            "text/plain": [
              "q4 results: All test cases passed!"
            ],
            "text/html": [
              "<p><strong><pre style='display: inline;'>q4</pre></strong> passed!</p>"
            ]
          },
          "metadata": {},
          "execution_count": 149
        }
      ],
      "source": [
        "grader.check(\"q4\")"
      ]
    },
    {
      "cell_type": "markdown",
      "metadata": {
        "id": "WWMZaRxTz5Gl"
      },
      "source": [
        "## Exercise 5 \n",
        "\n",
        "Identify the most viewed data set on Michigan state's open data portal.   \n",
        "https://data.michigan.gov/browse?sortBy=most_accessed\n",
        "\n",
        "Stores its name in the provided \"most_viewed_data\" variable and the number of views in \"num_views\"."
      ]
    },
    {
      "cell_type": "code",
      "execution_count": null,
      "metadata": {
        "tags": [],
        "colab": {
          "base_uri": "https://localhost:8080/"
        },
        "id": "fhVcapadS084",
        "outputId": "0c783cd6-078d-4adf-e235-6fa213fce97c"
      },
      "outputs": [
        {
          "output_type": "stream",
          "name": "stdout",
          "text": [
            "MI_Congress_Plot\n",
            "44291\n"
          ]
        }
      ],
      "source": [
        "#browse2-result-view-count-value\n",
        "\n",
        "url = 'https://data.michigan.gov/browse?sortBy=most_accessed'\n",
        "resp = requests.get(url) \n",
        "soup = BeautifulSoup(resp.text, 'html5lib')\n",
        "\n",
        "\n",
        "\n",
        "most_viewed_data = soup.find('h2', class_= 'browse2-result-name').text.strip()\n",
        "num_views = int(soup.find('div', class_='browse2-result-view-count-value').text.strip().replace(',',''))\n",
        "\n",
        "print(most_viewed_data)\n",
        "print(num_views)"
      ]
    },
    {
      "cell_type": "code",
      "execution_count": null,
      "metadata": {
        "deletable": false,
        "editable": false,
        "colab": {
          "base_uri": "https://localhost:8080/",
          "height": 46
        },
        "id": "y7T0Qd9lS084",
        "outputId": "48091e38-1932-4073-9120-c5ef7c8b2854"
      },
      "outputs": [
        {
          "output_type": "execute_result",
          "data": {
            "text/plain": [
              "q5 results: All test cases passed!"
            ],
            "text/html": [
              "<p><strong><pre style='display: inline;'>q5</pre></strong> passed!</p>"
            ]
          },
          "metadata": {},
          "execution_count": 176
        }
      ],
      "source": [
        "grader.check(\"q5\")"
      ]
    }
  ],
  "metadata": {
    "colab": {
      "collapsed_sections": [],
      "provenance": []
    },
    "kernelspec": {
      "display_name": "un5550f22",
      "language": "python",
      "name": "un5550f22"
    },
    "language_info": {
      "codemirror_mode": {
        "name": "ipython",
        "version": 3
      },
      "file_extension": ".py",
      "mimetype": "text/x-python",
      "name": "python",
      "nbconvert_exporter": "python",
      "pygments_lexer": "ipython3",
      "version": "3.7.11"
    },
    "otter": {
      "OK_FORMAT": true,
      "tests": {
        "q1": {
          "name": "q1",
          "points": 1,
          "suites": [
            {
              "cases": [
                {
                  "code": ">>> name == \"Downscaled Climate Model Climate Toolbox\"\nTrue",
                  "hidden": false,
                  "locked": false
                }
              ],
              "scored": true,
              "setup": "",
              "teardown": "",
              "type": "doctest"
            }
          ]
        },
        "q2": {
          "name": "q2",
          "points": 1,
          "suites": [
            {
              "cases": [
                {
                  "code": ">>> num_research_studies >= 429205 and num_research_studies <= 429205+1600\nTrue",
                  "hidden": false,
                  "locked": false
                }
              ],
              "scored": true,
              "setup": "",
              "teardown": "",
              "type": "doctest"
            }
          ]
        },
        "q3": {
          "name": "q3",
          "points": 2,
          "suites": [
            {
              "cases": [
                {
                  "code": ">>> l1Num1 == l1Num2 \nTrue",
                  "hidden": false,
                  "locked": false
                },
                {
                  "code": ">>> l2Num1 == l2Num2 \nTrue",
                  "hidden": false,
                  "locked": false
                },
                {
                  "code": ">>> l3Num1 == l3Num2\nTrue",
                  "hidden": false,
                  "locked": false
                },
                {
                  "code": ">>> l4Num1 == l4Num2\nTrue",
                  "hidden": false,
                  "locked": false
                },
                {
                  "code": ">>> l1Num1 == 89\nTrue",
                  "hidden": false,
                  "locked": false
                },
                {
                  "code": ">>> l2Num1 == 62\nTrue",
                  "hidden": false,
                  "locked": false
                },
                {
                  "code": ">>> l3Num1 == 39 \nTrue",
                  "hidden": false,
                  "locked": false
                },
                {
                  "code": ">>> l4Num1 == 20\nTrue",
                  "hidden": false,
                  "locked": false
                }
              ],
              "scored": true,
              "setup": "",
              "teardown": "",
              "type": "doctest"
            }
          ]
        },
        "q4": {
          "name": "q4",
          "points": 2,
          "suites": [
            {
              "cases": [
                {
                  "code": ">>> q4result.shape[0] == 1118 \nTrue",
                  "hidden": false,
                  "locked": false
                },
                {
                  "code": ">>> q4result.shape[1] == 8\nTrue",
                  "hidden": false,
                  "locked": false
                },
                {
                  "code": ">>> \"Date\" in q4result.columns\nTrue",
                  "hidden": false,
                  "locked": false
                },
                {
                  "code": ">>> int(q4result['Inspection Number'].min()) == 1495370\nTrue",
                  "hidden": false,
                  "locked": false
                },
                {
                  "code": ">>> int(q4result['Inspection Number'].max()) == 1580910\nTrue",
                  "hidden": false,
                  "locked": false
                }
              ],
              "scored": true,
              "setup": "",
              "teardown": "",
              "type": "doctest"
            }
          ]
        },
        "q5": {
          "name": "q5",
          "points": 2,
          "suites": [
            {
              "cases": [
                {
                  "code": ">>> most_viewed_data == 'MI_Congress_Plot'\nTrue",
                  "hidden": false,
                  "locked": false
                },
                {
                  "code": ">>> num_views >= 44271 and num_views <= 44271+5000\nTrue",
                  "hidden": false,
                  "locked": false
                }
              ],
              "scored": true,
              "setup": "",
              "teardown": "",
              "type": "doctest"
            }
          ]
        }
      }
    }
  },
  "nbformat": 4,
  "nbformat_minor": 0
}