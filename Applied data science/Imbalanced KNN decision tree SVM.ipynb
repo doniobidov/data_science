{
  "cells": [
    {
      "cell_type": "markdown",
      "metadata": {
        "id": "YFivbbl2_nYK"
      },
      "source": [
        "# P6 \n",
        "\n",
        "\n",
        "The project explores using classification models for various tasks. "
      ]
    },
    {
      "cell_type": "code",
      "execution_count": null,
      "metadata": {
        "id": "yyx4tHW5A0dT"
      },
      "outputs": [],
      "source": [
        "import pandas as pd\n",
        "import numpy as np\n",
        "import matplotlib as mpl\n",
        "import matplotlib.pyplot as plt\n",
        "%matplotlib inline\n",
        "\n",
        "from sklearn.datasets import load_iris\n",
        "from sklearn.datasets import make_classification\n",
        "\n",
        "\n",
        "from sklearn.model_selection import train_test_split\n",
        "from sklearn.model_selection import StratifiedKFold\n",
        "from sklearn.model_selection import cross_val_score, cross_validate\n",
        "from sklearn.model_selection import GridSearchCV\n",
        "from sklearn import model_selection\n",
        "\n",
        "from sklearn.feature_selection import SelectPercentile\n",
        "\n",
        "from sklearn.preprocessing import MinMaxScaler, StandardScaler\n",
        "\n",
        "from sklearn.neighbors import KNeighborsClassifier\n",
        "from sklearn import tree\n",
        "from sklearn import svm\n",
        "\n",
        "from sklearn.pipeline import make_pipeline\n",
        "from sklearn.pipeline import Pipeline\n",
        "\n",
        "from sklearn import metrics\n",
        "\n",
        "import numpy as np\n",
        "np.random.seed(5550)\n",
        "\n",
        "from imblearn.pipeline import Pipeline as ImbPipeline\n",
        "from imblearn.over_sampling import SMOTE\n",
        "\n",
        "import time\n",
        "st_time = time.time()"
      ]
    },
    {
      "cell_type": "code",
      "execution_count": null,
      "metadata": {
        "id": "wm2ldTyzpX96"
      },
      "outputs": [],
      "source": [
        "try:\n",
        "  import google.colab\n",
        "  IN_COLAB = True\n",
        "except:\n",
        "  IN_COLAB = False"
      ]
    },
    {
      "cell_type": "code",
      "execution_count": null,
      "metadata": {
        "colab": {
          "base_uri": "https://localhost:8080/"
        },
        "id": "ubRNyUgtpX97",
        "outputId": "2ac3ab3a-8527-4259-882d-ea82dfab31d4"
      },
      "outputs": [
        {
          "output_type": "stream",
          "name": "stdout",
          "text": [
            "Installing otter:\n",
            "Looking in indexes: https://pypi.org/simple, https://us-python.pkg.dev/colab-wheels/public/simple/\n",
            "Collecting otter-grader==4.2.0\n",
            "  Downloading otter_grader-4.2.0-py3-none-any.whl (204 kB)\n",
            "\u001b[K     |████████████████████████████████| 204 kB 26.8 MB/s \n",
            "\u001b[?25hCollecting fica>=0.2.0\n",
            "  Downloading fica-0.2.2-py3-none-any.whl (11 kB)\n",
            "Requirement already satisfied: google-auth-oauthlib in /usr/local/lib/python3.8/dist-packages (from otter-grader==4.2.0) (0.4.6)\n",
            "Requirement already satisfied: nbformat in /usr/local/lib/python3.8/dist-packages (from otter-grader==4.2.0) (5.7.0)\n",
            "Requirement already satisfied: google-api-python-client in /usr/local/lib/python3.8/dist-packages (from otter-grader==4.2.0) (1.12.11)\n",
            "Requirement already satisfied: wrapt in /usr/local/lib/python3.8/dist-packages (from otter-grader==4.2.0) (1.14.1)\n",
            "Collecting python-on-whales\n",
            "  Downloading python_on_whales-0.55.0-py3-none-any.whl (100 kB)\n",
            "\u001b[K     |████████████████████████████████| 100 kB 6.7 MB/s \n",
            "\u001b[?25hRequirement already satisfied: jinja2 in /usr/local/lib/python3.8/dist-packages (from otter-grader==4.2.0) (2.11.3)\n",
            "Requirement already satisfied: requests in /usr/local/lib/python3.8/dist-packages (from otter-grader==4.2.0) (2.23.0)\n",
            "Requirement already satisfied: click in /usr/local/lib/python3.8/dist-packages (from otter-grader==4.2.0) (7.1.2)\n",
            "Requirement already satisfied: ipython in /usr/local/lib/python3.8/dist-packages (from otter-grader==4.2.0) (7.9.0)\n",
            "Requirement already satisfied: six in /usr/local/lib/python3.8/dist-packages (from otter-grader==4.2.0) (1.15.0)\n",
            "Requirement already satisfied: PyYAML in /usr/local/lib/python3.8/dist-packages (from otter-grader==4.2.0) (6.0)\n",
            "Requirement already satisfied: pandas in /usr/local/lib/python3.8/dist-packages (from otter-grader==4.2.0) (1.3.5)\n",
            "Requirement already satisfied: dill in /usr/local/lib/python3.8/dist-packages (from otter-grader==4.2.0) (0.3.6)\n",
            "Requirement already satisfied: gspread in /usr/local/lib/python3.8/dist-packages (from otter-grader==4.2.0) (3.4.2)\n",
            "Collecting jupytext\n",
            "  Downloading jupytext-1.14.2-py3-none-any.whl (297 kB)\n",
            "\u001b[K     |████████████████████████████████| 297 kB 75.9 MB/s \n",
            "\u001b[?25hRequirement already satisfied: sphinx in /usr/local/lib/python3.8/dist-packages (from fica>=0.2.0->otter-grader==4.2.0) (1.8.6)\n",
            "Requirement already satisfied: docutils in /usr/local/lib/python3.8/dist-packages (from fica>=0.2.0->otter-grader==4.2.0) (0.17.1)\n",
            "Requirement already satisfied: httplib2<1dev,>=0.15.0 in /usr/local/lib/python3.8/dist-packages (from google-api-python-client->otter-grader==4.2.0) (0.17.4)\n",
            "Requirement already satisfied: uritemplate<4dev,>=3.0.0 in /usr/local/lib/python3.8/dist-packages (from google-api-python-client->otter-grader==4.2.0) (3.0.1)\n",
            "Requirement already satisfied: google-api-core<3dev,>=1.21.0 in /usr/local/lib/python3.8/dist-packages (from google-api-python-client->otter-grader==4.2.0) (2.8.2)\n",
            "Requirement already satisfied: google-auth<3dev,>=1.16.0 in /usr/local/lib/python3.8/dist-packages (from google-api-python-client->otter-grader==4.2.0) (2.15.0)\n",
            "Requirement already satisfied: google-auth-httplib2>=0.0.3 in /usr/local/lib/python3.8/dist-packages (from google-api-python-client->otter-grader==4.2.0) (0.0.4)\n",
            "Requirement already satisfied: googleapis-common-protos<2.0dev,>=1.56.2 in /usr/local/lib/python3.8/dist-packages (from google-api-core<3dev,>=1.21.0->google-api-python-client->otter-grader==4.2.0) (1.57.0)\n",
            "Requirement already satisfied: protobuf<5.0.0dev,>=3.15.0 in /usr/local/lib/python3.8/dist-packages (from google-api-core<3dev,>=1.21.0->google-api-python-client->otter-grader==4.2.0) (3.19.6)\n",
            "Requirement already satisfied: rsa<5,>=3.1.4 in /usr/local/lib/python3.8/dist-packages (from google-auth<3dev,>=1.16.0->google-api-python-client->otter-grader==4.2.0) (4.9)\n",
            "Requirement already satisfied: cachetools<6.0,>=2.0.0 in /usr/local/lib/python3.8/dist-packages (from google-auth<3dev,>=1.16.0->google-api-python-client->otter-grader==4.2.0) (5.2.0)\n",
            "Requirement already satisfied: pyasn1-modules>=0.2.1 in /usr/local/lib/python3.8/dist-packages (from google-auth<3dev,>=1.16.0->google-api-python-client->otter-grader==4.2.0) (0.2.8)\n",
            "Requirement already satisfied: pyasn1<0.5.0,>=0.4.6 in /usr/local/lib/python3.8/dist-packages (from pyasn1-modules>=0.2.1->google-auth<3dev,>=1.16.0->google-api-python-client->otter-grader==4.2.0) (0.4.8)\n",
            "Requirement already satisfied: urllib3!=1.25.0,!=1.25.1,<1.26,>=1.21.1 in /usr/local/lib/python3.8/dist-packages (from requests->otter-grader==4.2.0) (1.24.3)\n",
            "Requirement already satisfied: certifi>=2017.4.17 in /usr/local/lib/python3.8/dist-packages (from requests->otter-grader==4.2.0) (2022.9.24)\n",
            "Requirement already satisfied: chardet<4,>=3.0.2 in /usr/local/lib/python3.8/dist-packages (from requests->otter-grader==4.2.0) (3.0.4)\n",
            "Requirement already satisfied: idna<3,>=2.5 in /usr/local/lib/python3.8/dist-packages (from requests->otter-grader==4.2.0) (2.10)\n",
            "Requirement already satisfied: requests-oauthlib>=0.7.0 in /usr/local/lib/python3.8/dist-packages (from google-auth-oauthlib->otter-grader==4.2.0) (1.3.1)\n",
            "Requirement already satisfied: oauthlib>=3.0.0 in /usr/local/lib/python3.8/dist-packages (from requests-oauthlib>=0.7.0->google-auth-oauthlib->otter-grader==4.2.0) (3.2.2)\n",
            "Requirement already satisfied: pexpect in /usr/local/lib/python3.8/dist-packages (from ipython->otter-grader==4.2.0) (4.8.0)\n",
            "Requirement already satisfied: setuptools>=18.5 in /usr/local/lib/python3.8/dist-packages (from ipython->otter-grader==4.2.0) (57.4.0)\n",
            "Requirement already satisfied: pygments in /usr/local/lib/python3.8/dist-packages (from ipython->otter-grader==4.2.0) (2.6.1)\n",
            "Requirement already satisfied: pickleshare in /usr/local/lib/python3.8/dist-packages (from ipython->otter-grader==4.2.0) (0.7.5)\n",
            "Collecting jedi>=0.10\n",
            "  Downloading jedi-0.18.2-py2.py3-none-any.whl (1.6 MB)\n",
            "\u001b[K     |████████████████████████████████| 1.6 MB 51.0 MB/s \n",
            "\u001b[?25hRequirement already satisfied: decorator in /usr/local/lib/python3.8/dist-packages (from ipython->otter-grader==4.2.0) (4.4.2)\n",
            "Requirement already satisfied: prompt-toolkit<2.1.0,>=2.0.0 in /usr/local/lib/python3.8/dist-packages (from ipython->otter-grader==4.2.0) (2.0.10)\n",
            "Requirement already satisfied: backcall in /usr/local/lib/python3.8/dist-packages (from ipython->otter-grader==4.2.0) (0.2.0)\n",
            "Requirement already satisfied: traitlets>=4.2 in /usr/local/lib/python3.8/dist-packages (from ipython->otter-grader==4.2.0) (5.6.0)\n",
            "Requirement already satisfied: parso<0.9.0,>=0.8.0 in /usr/local/lib/python3.8/dist-packages (from jedi>=0.10->ipython->otter-grader==4.2.0) (0.8.3)\n",
            "Requirement already satisfied: wcwidth in /usr/local/lib/python3.8/dist-packages (from prompt-toolkit<2.1.0,>=2.0.0->ipython->otter-grader==4.2.0) (0.2.5)\n",
            "Requirement already satisfied: MarkupSafe>=0.23 in /usr/local/lib/python3.8/dist-packages (from jinja2->otter-grader==4.2.0) (2.0.1)\n",
            "Requirement already satisfied: toml in /usr/local/lib/python3.8/dist-packages (from jupytext->otter-grader==4.2.0) (0.10.2)\n",
            "Collecting mdit-py-plugins\n",
            "  Downloading mdit_py_plugins-0.3.3-py3-none-any.whl (50 kB)\n",
            "\u001b[K     |████████████████████████████████| 50 kB 6.5 MB/s \n",
            "\u001b[?25hCollecting markdown-it-py<3.0.0,>=1.0.0\n",
            "  Downloading markdown_it_py-2.1.0-py3-none-any.whl (84 kB)\n",
            "\u001b[K     |████████████████████████████████| 84 kB 3.1 MB/s \n",
            "\u001b[?25hCollecting mdurl~=0.1\n",
            "  Downloading mdurl-0.1.2-py3-none-any.whl (10.0 kB)\n",
            "Requirement already satisfied: jsonschema>=2.6 in /usr/local/lib/python3.8/dist-packages (from nbformat->otter-grader==4.2.0) (4.3.3)\n",
            "Requirement already satisfied: jupyter-core in /usr/local/lib/python3.8/dist-packages (from nbformat->otter-grader==4.2.0) (5.1.0)\n",
            "Requirement already satisfied: fastjsonschema in /usr/local/lib/python3.8/dist-packages (from nbformat->otter-grader==4.2.0) (2.16.2)\n",
            "Requirement already satisfied: attrs>=17.4.0 in /usr/local/lib/python3.8/dist-packages (from jsonschema>=2.6->nbformat->otter-grader==4.2.0) (22.1.0)\n",
            "Requirement already satisfied: importlib-resources>=1.4.0 in /usr/local/lib/python3.8/dist-packages (from jsonschema>=2.6->nbformat->otter-grader==4.2.0) (5.10.0)\n",
            "Requirement already satisfied: pyrsistent!=0.17.0,!=0.17.1,!=0.17.2,>=0.14.0 in /usr/local/lib/python3.8/dist-packages (from jsonschema>=2.6->nbformat->otter-grader==4.2.0) (0.19.2)\n",
            "Requirement already satisfied: zipp>=3.1.0 in /usr/local/lib/python3.8/dist-packages (from importlib-resources>=1.4.0->jsonschema>=2.6->nbformat->otter-grader==4.2.0) (3.11.0)\n",
            "Requirement already satisfied: platformdirs>=2.5 in /usr/local/lib/python3.8/dist-packages (from jupyter-core->nbformat->otter-grader==4.2.0) (2.5.4)\n",
            "Requirement already satisfied: python-dateutil>=2.7.3 in /usr/local/lib/python3.8/dist-packages (from pandas->otter-grader==4.2.0) (2.8.2)\n",
            "Requirement already satisfied: pytz>=2017.3 in /usr/local/lib/python3.8/dist-packages (from pandas->otter-grader==4.2.0) (2022.6)\n",
            "Requirement already satisfied: numpy>=1.17.3 in /usr/local/lib/python3.8/dist-packages (from pandas->otter-grader==4.2.0) (1.21.6)\n",
            "Requirement already satisfied: ptyprocess>=0.5 in /usr/local/lib/python3.8/dist-packages (from pexpect->ipython->otter-grader==4.2.0) (0.7.0)\n",
            "Requirement already satisfied: tqdm in /usr/local/lib/python3.8/dist-packages (from python-on-whales->otter-grader==4.2.0) (4.64.1)\n",
            "Requirement already satisfied: pydantic in /usr/local/lib/python3.8/dist-packages (from python-on-whales->otter-grader==4.2.0) (1.10.2)\n",
            "Requirement already satisfied: typer>=0.4.1 in /usr/local/lib/python3.8/dist-packages (from python-on-whales->otter-grader==4.2.0) (0.7.0)\n",
            "Requirement already satisfied: typing-extensions in /usr/local/lib/python3.8/dist-packages (from python-on-whales->otter-grader==4.2.0) (4.4.0)\n",
            "Requirement already satisfied: babel!=2.0,>=1.3 in /usr/local/lib/python3.8/dist-packages (from sphinx->fica>=0.2.0->otter-grader==4.2.0) (2.11.0)\n",
            "Requirement already satisfied: sphinxcontrib-websupport in /usr/local/lib/python3.8/dist-packages (from sphinx->fica>=0.2.0->otter-grader==4.2.0) (1.2.4)\n",
            "Requirement already satisfied: snowballstemmer>=1.1 in /usr/local/lib/python3.8/dist-packages (from sphinx->fica>=0.2.0->otter-grader==4.2.0) (2.2.0)\n",
            "Requirement already satisfied: imagesize in /usr/local/lib/python3.8/dist-packages (from sphinx->fica>=0.2.0->otter-grader==4.2.0) (1.4.1)\n",
            "Requirement already satisfied: packaging in /usr/local/lib/python3.8/dist-packages (from sphinx->fica>=0.2.0->otter-grader==4.2.0) (21.3)\n",
            "Requirement already satisfied: alabaster<0.8,>=0.7 in /usr/local/lib/python3.8/dist-packages (from sphinx->fica>=0.2.0->otter-grader==4.2.0) (0.7.12)\n",
            "Requirement already satisfied: pyparsing!=3.0.5,>=2.0.2 in /usr/local/lib/python3.8/dist-packages (from packaging->sphinx->fica>=0.2.0->otter-grader==4.2.0) (3.0.9)\n",
            "Requirement already satisfied: sphinxcontrib-serializinghtml in /usr/local/lib/python3.8/dist-packages (from sphinxcontrib-websupport->sphinx->fica>=0.2.0->otter-grader==4.2.0) (1.1.5)\n",
            "Installing collected packages: mdurl, markdown-it-py, mdit-py-plugins, jedi, python-on-whales, jupytext, fica, otter-grader\n",
            "Successfully installed fica-0.2.2 jedi-0.18.2 jupytext-1.14.2 markdown-it-py-2.1.0 mdit-py-plugins-0.3.3 mdurl-0.1.2 otter-grader-4.2.0 python-on-whales-0.55.0\n"
          ]
        }
      ],
      "source": [
        "if IN_COLAB == True: \n",
        "    print(\"Installing otter:\")\n",
        "    !pip install otter-grader==4.2.0 "
      ]
    },
    {
      "cell_type": "code",
      "execution_count": null,
      "metadata": {
        "id": "ZKPyvyVPpX98"
      },
      "outputs": [],
      "source": [
        "import otter\n",
        "grader = otter.Notebook()"
      ]
    },
    {
      "cell_type": "markdown",
      "metadata": {
        "id": "X99MnLn9rApw"
      },
      "source": [
        "# Model Evaluation (Review)\n",
        "\n",
        "*Materials copied or adpated from Applied Machine Learning in Python by Mueller*\n",
        "\n",
        "Let's review the different model evalution approaches starting from the simplistic and understand their limitations. \n",
        "\n",
        "\n"
      ]
    },
    {
      "cell_type": "markdown",
      "metadata": {
        "id": "z9EUNFX-xcO5"
      },
      "source": [
        "## 1 - Hold-out set \n",
        "\n",
        "Let's start with a simplisted approach to model evaluation, split the data into training and testing data.  \n",
        "\n",
        "<img src=\"https://pages.mtu.edu/~lebrown/un5550-f21/p6/train_test_split_new.png\" width=\"50%\">\n",
        "\n",
        "\n",
        "This is a common approach, but has multiple limitations.  \n",
        "\n",
        "*How to solve this problem?* Use an additional hold-out set. "
      ]
    },
    {
      "cell_type": "markdown",
      "metadata": {
        "id": "8WYUq94UyWeD"
      },
      "source": [
        "## 2 - Three-fold split or Train/Validation/Test set \n",
        "\n",
        "Use of three separate sets:    \n",
        "* the training set for model building \n",
        "* the validation set for model selection \n",
        "* the test set for final model evaluation \n",
        "is probably the most common used method for model selection and evaluation. It is a **best practice** to follow (along with other techniques described below). \n",
        "\n",
        "<img src=\"https://pages.mtu.edu/~lebrown/un5550-f21/p6/train_test_validation_split.png\" width=\"50%\">\n",
        "\n",
        "With this new approach, we use the validation set to select the optimum hyper-paramter and the test set to estimate the performance (accuracy).  Because the test set was not used for estimating the best hyper-parameter, the test set provides an unbiased estimate of the generalization performance. \n",
        "\n",
        "\n"
      ]
    },
    {
      "cell_type": "markdown",
      "metadata": {
        "id": "lHJb1KIS0NUY"
      },
      "source": [
        "### Example of three-fold split \n",
        "\n",
        "Let's see a simple example of using the three-fold split to select the number of neighbors in KNN on the iris data set.  We first take 25% as the test set, then take 25% of the remaining as the validation set (about ~19% of the original data).  \n",
        "\n",
        "We build a model for each value of `n_neighbors` (range from 1-15 in steps of 2), evaluate it on the validation set and store the result.  We find the value which gives the best performance. \n",
        "\n",
        "Then, we often rebuild the model on all the training data (train + validation) with the best-performing hyper-parameter (as determined by the validation set), and evaluate the model on the test set. \n",
        "\n",
        "The step of retraining the model using bot the training and validation set is optional, in particular, if model training is very expensive or if the amount of training data is large enough for our model.  In this example problem, neither is the case so we retrain. "
      ]
    },
    {
      "cell_type": "code",
      "execution_count": null,
      "metadata": {
        "colab": {
          "base_uri": "https://localhost:8080/"
        },
        "id": "5L5ZeC8316eE",
        "outputId": "402155f0-ae75-482f-cffe-c1c09555054f"
      },
      "outputs": [
        {
          "output_type": "stream",
          "name": "stdout",
          "text": [
            "best validation score:  1.000\n",
            "best n_neighbors: 1\n",
            "test-set score: 0.974\n"
          ]
        }
      ],
      "source": [
        "\n",
        "# Load the data \n",
        "X, y = load_iris(return_X_y = True)\n",
        "\n",
        "# Split of the test set \n",
        "X_trainval, X_test, y_trainval, y_test = train_test_split(\n",
        "    X, y, test_size=0.25, random_state=55)\n",
        "\n",
        "# Split trainval into train + val \n",
        "X_train, X_val, y_train, y_val = train_test_split(\n",
        "    X_trainval, y_trainval, test_size=0.25, random_state=5)\n",
        "\n",
        "# create a list to hold the perf. results on validation set \n",
        "val_scores = [] \n",
        "# specify hyper-parameter values \n",
        "nbrs = np.arange(1,16,2)\n",
        "\n",
        "for n in nbrs: \n",
        "    # build a model \n",
        "    knn = KNeighborsClassifier(n_neighbors=n)\n",
        "    knn.fit(X_train, y_train)\n",
        "    # calculate performance on validation set \n",
        "    val_scores.append(knn.score(X_val, y_val))\n",
        "\n",
        "# Find the best score and best hyper-parameter \n",
        "print(\"best validation score:  %.3f\" % np.max(val_scores))\n",
        "best_nbrs = nbrs[np.argmax(val_scores)]\n",
        "print(\"best n_neighbors: %d\" % best_nbrs)\n",
        "\n",
        "# Retrain model on train + validation set \n",
        "knn = KNeighborsClassifier(n_neighbors=best_nbrs)\n",
        "knn.fit(X_trainval, y_trainval)\n",
        "print(\"test-set score: %.3f\" % knn.score(X_test, y_test))"
      ]
    },
    {
      "cell_type": "markdown",
      "metadata": {
        "id": "Kh-XXLEv55Br"
      },
      "source": [
        "This approach has improved upon the hold-out set method, but still relies on the particular splits.  What is we change the random splits, we might end up with different results.  In fact, if we see different outcomes based on our splits, it may mean the model is not very robust or there is not enough data.  *How can we make it more robust?*  Cross-validation"
      ]
    },
    {
      "cell_type": "markdown",
      "metadata": {
        "id": "Gc-HIxN36fTP"
      },
      "source": [
        "## 3 - K-fold cross-validation \n",
        "\n",
        "The basic premise of cross-validation is to replace the split into training and validation data with multiple different splits.  Most commonly, cross validation is applied to the training/validation split, but it can also be applied to splitting off the test data. \n",
        "\n",
        "<img src=\"https://pages.mtu.edu/~lebrown/un5550-f21/p6/cross_validation_new.png\" width=\"50%\">\n",
        "\n",
        "The most common variant of cross-validation is k-fold cross validation, the image above illustrates a 5-fold cross-validation.  \n",
        "\n",
        "For each fold, a split of the data is made where this fold is the validation data, and the rest is the training data.  For the 5-fold cross-validation, we split the data into five parts, and have 5 different training/validation splits.  We build a model for each of the splits using the training part and validation part to evaluate it.  The outcome is five different performance values.  These can be aggregated - compute a mean/median, or use them to estimate a variance over the splits.  \n",
        "\n",
        "This approach is more robust over using a single split.  All of the initial train/validation data is used in the validation set exactly once, where a single split only some of the data appears in the validation set.   The main disadvantage of cross-validation is the computational cost.  \n",
        "\n",
        "Another issue of k-fold cross-validation is that it doesn't produce a model, it produced k models.  If you want to make predictions on new data, how to do so?  One obvious method is to retrain on the whole train/validation set. \n",
        "\n",
        "\n"
      ]
    },
    {
      "cell_type": "markdown",
      "metadata": {
        "id": "G6KiVNld2MBu"
      },
      "source": [
        "We can do cross-validation by hand, i.e., using the `KFold()` family of methods.  Alternatively, we can use the cross-validation functions: `cross_val_score` and `cross_validate`."
      ]
    },
    {
      "cell_type": "code",
      "execution_count": null,
      "metadata": {
        "colab": {
          "base_uri": "https://localhost:8080/"
        },
        "id": "w2h3K6Nx2K2u",
        "outputId": "c6374739-3e85-440d-8425-79264af3fe08"
      },
      "outputs": [
        {
          "output_type": "stream",
          "name": "stdout",
          "text": [
            "mean validation score:  0.973\n"
          ]
        }
      ],
      "source": [
        "# from sklearn.model_selection import StratifiedKFold \n",
        "\n",
        "# Split of the test set \n",
        "X_trainval, X_test, y_trainval, y_test = train_test_split(\n",
        "    X, y, test_size=0.25, random_state=12) \n",
        " \n",
        "kf = StratifiedKFold(n_splits=10, shuffle=True, random_state=124)\n",
        "\n",
        "scores = []\n",
        "\n",
        "for tr_indx, val_indx in kf.split(X_trainval, y_trainval):\n",
        "    X_train, X_val = X_trainval[tr_indx], X_trainval[val_indx]\n",
        "    y_train, y_val = y_trainval[tr_indx], y_trainval[val_indx]\n",
        "\n",
        "    knn = KNeighborsClassifier()\n",
        "    knn.fit(X_train, y_train)\n",
        "    y_pred = knn.predict(X_val)\n",
        "    scores.append(metrics.accuracy_score(y_val, y_pred))\n",
        "\n",
        "print(\"mean validation score:  %.3f\" % np.mean(scores))"
      ]
    },
    {
      "cell_type": "markdown",
      "metadata": {
        "id": "CGsHknrL_6j_"
      },
      "source": [
        "## 4 - Grid Search with Cross-validation in Validation Split\n",
        "\n",
        "Let's now think about doing model selection, but using cross-validation rather than a single split.  The overall idea is illustrated below. We still have the initial split into training and test data.  But rather than a single split into training and validation data, we run cross-validation for each parameter setting.  We record the mean score averaged over the splits in the cross-validation.  After evaluating all candidate paramters, find the one with the best mean performance.  *Keep in mind this score does not correspond to a single model; there is no best model*.  We select the hyper-parameter that is best on average over the splits.  Then we build a new model, using the hyper-parameters that performed best on average in cross-validation, on the full training dataset (X_trainval).  Finally, we evaluate this model on the test data set.   \n",
        "\n",
        "\n",
        "<img src=\"https://pages.mtu.edu/~lebrown/un5550-f21/p6/grid_search_cross_validation_new.png\" width=\"60%\">\n",
        "\n",
        "<img src=\"https://pages.mtu.edu/~lebrown/un5550-f21/p6/cv.png\" width=\"60%\">"
      ]
    },
    {
      "cell_type": "code",
      "execution_count": null,
      "metadata": {
        "colab": {
          "base_uri": "https://localhost:8080/"
        },
        "id": "yDw8rWqn_R8e",
        "outputId": "c0d40830-87ef-4d1d-ba59-436307096248"
      },
      "outputs": [
        {
          "output_type": "stream",
          "name": "stdout",
          "text": [
            "best cross-validation score: 0.975\n",
            "best n_neighbors: 15\n",
            "test-set score: 0.967\n"
          ]
        }
      ],
      "source": [
        "# Split of the test set \n",
        "X_trainval, X_test, y_trainval, y_test = train_test_split(\n",
        "    X, y, test_size=0.20, random_state=55)\n",
        "\n",
        "# create a list to hold the perf. results on validation sets \n",
        "cross_val_scores = [] \n",
        "# specify hyper-parameter values \n",
        "nbrs = np.arange(1,16,2)\n",
        "\n",
        "for n in nbrs: \n",
        "    # build the model with hyper-parameters \n",
        "    knn = KNeighborsClassifier(n_neighbors=n)\n",
        "    # Instead of fitting a single model, we perform cross-validation \n",
        "    scores = cross_val_score(knn, X_trainval, y_trainval, cv=10)\n",
        "    # record the average over the 10 folds \n",
        "    cross_val_scores.append(np.mean(scores))\n",
        "\n",
        "print(f\"best cross-validation score: {np.max(cross_val_scores):.3}\")\n",
        "best_nbrs = nbrs[np.argmax(cross_val_scores)]\n",
        "print(f\"best n_neighbors: {best_nbrs}\")\n",
        "\n",
        "knn = KNeighborsClassifier(n_neighbors=best_nbrs)\n",
        "knn.fit(X_trainval, y_trainval)\n",
        "print(f\"test-set score: {knn.score(X_test, y_test):.3f}\")"
      ]
    },
    {
      "cell_type": "markdown",
      "metadata": {
        "id": "tEgPU_G4CTZU"
      },
      "source": [
        "The code above of grid-search with cross-validation and a hold-out test set is a gold standard approach for model comparison and parameter tuning.  \n",
        "\n",
        "**ASIDE: Cross-validation vs. Grid Search** \n",
        "\n",
        "Students over conflate the use of cross-validation with the use of grid search.  These are distinct and should not be used interchangeably.  Cross-validation is a technique to robustly evaluate a particular model on a particular data set.  Grid search is a technique to tune the hyper-parameters of a particular model by brute-force search.  Often each candidate is evaluated using cross-validaiton, but it is not necessary (you could use a single split of training + validation set).  So while cross-validation is often used within a grid search, you can also do cross-validation outside of a grid search, and you can do a grid search without using cross-validation.\n",
        "\n",
        "The overall approach is illustrated below.  Start by specifying hyper-parameters to evaluate (generally this means selecting the models we are using as well).  Split the data into training and test sets.  For each hyper-parameter candidate, run a grid search on the training set, yielding a score for each split, and a mean score over all splits.  The mean validation scores are used to select the best hyper-parameter value and retrain a model on the whole training data.  Then we evaluate this final model on the test set. \n",
        "\n",
        "\n",
        "<img src=\"https://pages.mtu.edu/~lebrown/un5550-f21/p6/gridsearch_workflow.png\" width=\"60%\">\n",
        "Image from scikit-learn.\n",
        "\n",
        "<br>\n",
        "\n",
        "This pattern of evaluation is common, therefore, `scikit-learn` has a method `GridSearchCV`, which does most of this for you. \n",
        "\n",
        "\n"
      ]
    },
    {
      "cell_type": "markdown",
      "metadata": {
        "id": "Fz-Qkjb2E_ly"
      },
      "source": [
        "## 5 - GridSearchCV \n",
        "\n",
        "The `GridSearchCV` class is a meta-estimator, it takes any scikit-learn model and tunes the hyper-parameters for you using cross-validation.  The hyper-parameter grid is specified as a dictionary where the keys are the names of the parameters in the estimator and the values are all the candidate values of the hyper-parameter we want to evaluate.  "
      ]
    },
    {
      "cell_type": "code",
      "execution_count": null,
      "metadata": {
        "colab": {
          "base_uri": "https://localhost:8080/"
        },
        "id": "KEdC9f5HFcqC",
        "outputId": "f3ad7cf3-7b2c-4f30-bcbb-3739b85374e4"
      },
      "outputs": [
        {
          "output_type": "stream",
          "name": "stdout",
          "text": [
            "best mean cross-validation score: 0.975\n",
            "best parameters: {'n_neighbors': 15}\n",
            "test-set score: 0.967\n"
          ]
        }
      ],
      "source": [
        "# from sklearn.model_selection import GridSearchCV\n",
        "\n",
        "# Split of the test set \n",
        "X_trainval, X_test, y_trainval, y_test = train_test_split(\n",
        "    X, y, test_size=0.20, random_state=55)\n",
        "\n",
        "# define the parameter grid \n",
        "param_grid = {'n_neighbors': np.arange(1, 16, 2)}\n",
        "\n",
        "# Instantiate GridSearchCV - sets up the parameters on how to run \n",
        "grid = GridSearchCV(KNeighborsClassifier(), param_grid, cv=10, \n",
        "                    return_train_score=True)\n",
        "# Execute the search (and retrain the final model) \n",
        "grid.fit(X_trainval, y_trainval)\n",
        "\n",
        "print(f\"best mean cross-validation score: {grid.best_score_}\")\n",
        "print(f\"best parameters: {grid.best_params_}\")\n",
        "\n",
        "# do a final evaluation on the test set \n",
        "print(f\"test-set score: {grid.score(X_test, y_test):.3f}\")"
      ]
    },
    {
      "cell_type": "markdown",
      "metadata": {
        "id": "nDGwAQpBGQnp"
      },
      "source": [
        "Because grid search is a meta-estimator, after you instantiate it, you can use it like any other scikit-learn model: use `fit`, `predict`, `score` methods using the best hyper-parameter setting. \n",
        "\n",
        "The test set is reserved for the final evaluation, therefore, it can be a good idea to look at the search results without the test set.  If the `best_score_` is lower than expected or needed for an application, do not use the test set.  Also, you may want to look at whether the `best_params_` value is on the boundary of the search space specified.  If it is, you may want to extend the range.  Also, the model that was refit on the whole training + validation data (the model used when calling `predict` and `score`) is called as `best_estimator_`.  \n",
        "\n"
      ]
    },
    {
      "cell_type": "markdown",
      "metadata": {
        "id": "lO6iCn3QIkbn"
      },
      "source": [
        "## 6 - Nested Cross-Validation \n",
        "\n",
        "As mentioned above, it is most common to use cross-validation in the training/validation part of a three-fold split: train/validationa/test split.  However, it can be used for both, resulting in **nested cross-validation**.  Nested cross-validation is easy to implement, but not commonly used for three reasons:\n",
        "\n",
        "* computationally expensive, adds another loop \n",
        "* it doesn't result in a single model, so it's hard to productionize \n",
        "* it is harder to understand \n",
        "\n",
        "Here we can see an example. "
      ]
    },
    {
      "cell_type": "code",
      "execution_count": null,
      "metadata": {
        "id": "_AdcbraMJc0K"
      },
      "outputs": [],
      "source": [
        "param_grid = {'n_neighbors':  np.arange(1, 15, 2)}\n",
        "# instantiate grid search\n",
        "grid = GridSearchCV(KNeighborsClassifier(), param_grid=param_grid, cv=10,\n",
        "                   return_train_score=True)\n",
        "# perform cross-validation on the grid-search estimator\n",
        "# where each individual fit will internally perform cross-validation\n",
        "res = cross_validate(grid, X, y, cv=5, return_train_score=True, return_estimator=True)"
      ]
    },
    {
      "cell_type": "code",
      "execution_count": null,
      "metadata": {
        "colab": {
          "base_uri": "https://localhost:8080/",
          "height": 206
        },
        "id": "OhP3qd8hJ9xL",
        "outputId": "7dca8032-5ef9-4764-9185-22704b881b75"
      },
      "outputs": [
        {
          "output_type": "execute_result",
          "data": {
            "text/plain": [
              "   fit_time  score_time                                          estimator  \\\n",
              "0  0.332960    0.001656  GridSearchCV(cv=10, estimator=KNeighborsClassi...   \n",
              "1  0.421561    0.001927  GridSearchCV(cv=10, estimator=KNeighborsClassi...   \n",
              "2  0.369522    0.002990  GridSearchCV(cv=10, estimator=KNeighborsClassi...   \n",
              "3  0.309979    0.001272  GridSearchCV(cv=10, estimator=KNeighborsClassi...   \n",
              "4  0.443975    0.002245  GridSearchCV(cv=10, estimator=KNeighborsClassi...   \n",
              "\n",
              "   test_score  train_score  \n",
              "0    0.966667     0.975000  \n",
              "1    1.000000     0.966667  \n",
              "2    0.933333     0.966667  \n",
              "3    0.966667     0.983333  \n",
              "4    1.000000     0.966667  "
            ],
            "text/html": [
              "\n",
              "  <div id=\"df-0c9de5fe-6556-418e-95ca-a4defbc5d64e\">\n",
              "    <div class=\"colab-df-container\">\n",
              "      <div>\n",
              "<style scoped>\n",
              "    .dataframe tbody tr th:only-of-type {\n",
              "        vertical-align: middle;\n",
              "    }\n",
              "\n",
              "    .dataframe tbody tr th {\n",
              "        vertical-align: top;\n",
              "    }\n",
              "\n",
              "    .dataframe thead th {\n",
              "        text-align: right;\n",
              "    }\n",
              "</style>\n",
              "<table border=\"1\" class=\"dataframe\">\n",
              "  <thead>\n",
              "    <tr style=\"text-align: right;\">\n",
              "      <th></th>\n",
              "      <th>fit_time</th>\n",
              "      <th>score_time</th>\n",
              "      <th>estimator</th>\n",
              "      <th>test_score</th>\n",
              "      <th>train_score</th>\n",
              "    </tr>\n",
              "  </thead>\n",
              "  <tbody>\n",
              "    <tr>\n",
              "      <th>0</th>\n",
              "      <td>0.332960</td>\n",
              "      <td>0.001656</td>\n",
              "      <td>GridSearchCV(cv=10, estimator=KNeighborsClassi...</td>\n",
              "      <td>0.966667</td>\n",
              "      <td>0.975000</td>\n",
              "    </tr>\n",
              "    <tr>\n",
              "      <th>1</th>\n",
              "      <td>0.421561</td>\n",
              "      <td>0.001927</td>\n",
              "      <td>GridSearchCV(cv=10, estimator=KNeighborsClassi...</td>\n",
              "      <td>1.000000</td>\n",
              "      <td>0.966667</td>\n",
              "    </tr>\n",
              "    <tr>\n",
              "      <th>2</th>\n",
              "      <td>0.369522</td>\n",
              "      <td>0.002990</td>\n",
              "      <td>GridSearchCV(cv=10, estimator=KNeighborsClassi...</td>\n",
              "      <td>0.933333</td>\n",
              "      <td>0.966667</td>\n",
              "    </tr>\n",
              "    <tr>\n",
              "      <th>3</th>\n",
              "      <td>0.309979</td>\n",
              "      <td>0.001272</td>\n",
              "      <td>GridSearchCV(cv=10, estimator=KNeighborsClassi...</td>\n",
              "      <td>0.966667</td>\n",
              "      <td>0.983333</td>\n",
              "    </tr>\n",
              "    <tr>\n",
              "      <th>4</th>\n",
              "      <td>0.443975</td>\n",
              "      <td>0.002245</td>\n",
              "      <td>GridSearchCV(cv=10, estimator=KNeighborsClassi...</td>\n",
              "      <td>1.000000</td>\n",
              "      <td>0.966667</td>\n",
              "    </tr>\n",
              "  </tbody>\n",
              "</table>\n",
              "</div>\n",
              "      <button class=\"colab-df-convert\" onclick=\"convertToInteractive('df-0c9de5fe-6556-418e-95ca-a4defbc5d64e')\"\n",
              "              title=\"Convert this dataframe to an interactive table.\"\n",
              "              style=\"display:none;\">\n",
              "        \n",
              "  <svg xmlns=\"http://www.w3.org/2000/svg\" height=\"24px\"viewBox=\"0 0 24 24\"\n",
              "       width=\"24px\">\n",
              "    <path d=\"M0 0h24v24H0V0z\" fill=\"none\"/>\n",
              "    <path d=\"M18.56 5.44l.94 2.06.94-2.06 2.06-.94-2.06-.94-.94-2.06-.94 2.06-2.06.94zm-11 1L8.5 8.5l.94-2.06 2.06-.94-2.06-.94L8.5 2.5l-.94 2.06-2.06.94zm10 10l.94 2.06.94-2.06 2.06-.94-2.06-.94-.94-2.06-.94 2.06-2.06.94z\"/><path d=\"M17.41 7.96l-1.37-1.37c-.4-.4-.92-.59-1.43-.59-.52 0-1.04.2-1.43.59L10.3 9.45l-7.72 7.72c-.78.78-.78 2.05 0 2.83L4 21.41c.39.39.9.59 1.41.59.51 0 1.02-.2 1.41-.59l7.78-7.78 2.81-2.81c.8-.78.8-2.07 0-2.86zM5.41 20L4 18.59l7.72-7.72 1.47 1.35L5.41 20z\"/>\n",
              "  </svg>\n",
              "      </button>\n",
              "      \n",
              "  <style>\n",
              "    .colab-df-container {\n",
              "      display:flex;\n",
              "      flex-wrap:wrap;\n",
              "      gap: 12px;\n",
              "    }\n",
              "\n",
              "    .colab-df-convert {\n",
              "      background-color: #E8F0FE;\n",
              "      border: none;\n",
              "      border-radius: 50%;\n",
              "      cursor: pointer;\n",
              "      display: none;\n",
              "      fill: #1967D2;\n",
              "      height: 32px;\n",
              "      padding: 0 0 0 0;\n",
              "      width: 32px;\n",
              "    }\n",
              "\n",
              "    .colab-df-convert:hover {\n",
              "      background-color: #E2EBFA;\n",
              "      box-shadow: 0px 1px 2px rgba(60, 64, 67, 0.3), 0px 1px 3px 1px rgba(60, 64, 67, 0.15);\n",
              "      fill: #174EA6;\n",
              "    }\n",
              "\n",
              "    [theme=dark] .colab-df-convert {\n",
              "      background-color: #3B4455;\n",
              "      fill: #D2E3FC;\n",
              "    }\n",
              "\n",
              "    [theme=dark] .colab-df-convert:hover {\n",
              "      background-color: #434B5C;\n",
              "      box-shadow: 0px 1px 3px 1px rgba(0, 0, 0, 0.15);\n",
              "      filter: drop-shadow(0px 1px 2px rgba(0, 0, 0, 0.3));\n",
              "      fill: #FFFFFF;\n",
              "    }\n",
              "  </style>\n",
              "\n",
              "      <script>\n",
              "        const buttonEl =\n",
              "          document.querySelector('#df-0c9de5fe-6556-418e-95ca-a4defbc5d64e button.colab-df-convert');\n",
              "        buttonEl.style.display =\n",
              "          google.colab.kernel.accessAllowed ? 'block' : 'none';\n",
              "\n",
              "        async function convertToInteractive(key) {\n",
              "          const element = document.querySelector('#df-0c9de5fe-6556-418e-95ca-a4defbc5d64e');\n",
              "          const dataTable =\n",
              "            await google.colab.kernel.invokeFunction('convertToInteractive',\n",
              "                                                     [key], {});\n",
              "          if (!dataTable) return;\n",
              "\n",
              "          const docLinkHtml = 'Like what you see? Visit the ' +\n",
              "            '<a target=\"_blank\" href=https://colab.research.google.com/notebooks/data_table.ipynb>data table notebook</a>'\n",
              "            + ' to learn more about interactive tables.';\n",
              "          element.innerHTML = '';\n",
              "          dataTable['output_type'] = 'display_data';\n",
              "          await google.colab.output.renderOutput(dataTable, element);\n",
              "          const docLink = document.createElement('div');\n",
              "          docLink.innerHTML = docLinkHtml;\n",
              "          element.appendChild(docLink);\n",
              "        }\n",
              "      </script>\n",
              "    </div>\n",
              "  </div>\n",
              "  "
            ]
          },
          "metadata": {},
          "execution_count": 10
        }
      ],
      "source": [
        "pd.DataFrame(res)"
      ]
    },
    {
      "cell_type": "markdown",
      "metadata": {
        "id": "CCFvTQRUJ7SH"
      },
      "source": [
        "Before, we had 8 hyper-parameter values (odds between 1-15), and 10 cross-validation folds, and a final evaluation model, so 81 models were learned.  With the outer cross-validation loop, there are 405 models, which adds time. \n",
        "\n",
        "Also, the outcome is five different scores, for each split.  However, these don't match to a single model, because the grid search may lead to different optimum parameters: "
      ]
    },
    {
      "cell_type": "code",
      "execution_count": null,
      "metadata": {
        "colab": {
          "base_uri": "https://localhost:8080/"
        },
        "id": "0x5tLwm-KrL8",
        "outputId": "9fde05c2-61ea-45d9-eaf6-6905d703501a"
      },
      "outputs": [
        {
          "output_type": "execute_result",
          "data": {
            "text/plain": [
              "[{'n_neighbors': 9},\n",
              " {'n_neighbors': 7},\n",
              " {'n_neighbors': 3},\n",
              " {'n_neighbors': 7},\n",
              " {'n_neighbors': 11}]"
            ]
          },
          "metadata": {},
          "execution_count": 11
        }
      ],
      "source": [
        "[x.best_params_ for x in res['estimator']]"
      ]
    },
    {
      "cell_type": "markdown",
      "metadata": {
        "id": "zDKGTySBL_gj"
      },
      "source": [
        "In this case, there is not a model that can be immediately used on new data.  \n",
        "\n",
        "Because of these reasons we are instead going to use the **best practice is described in 4 and 5** above to select hyper-parameters and evaluate the models. "
      ]
    },
    {
      "cell_type": "markdown",
      "metadata": {
        "id": "QU8WG7xmROXI"
      },
      "source": [
        "# Data Leakage \n",
        "\n",
        "*Copied and adpated from MLmastery Data Leakage page.*\n",
        "\n",
        "A very common error when using cross-validation is data leakage. Data leakage is where information about the holdout dataset, such as a test or validation dataset, is made available to the model in the training dataset.   This is not a direct type of data leakage, where we would train the model on the test dataset. Instead, it is an indirect type of data leakage, where some knowledge about the test dataset, captured in summary statistics is available to the model during training. This can make it a harder type of data leakage to spot, especially for beginners.\n",
        "\n",
        "For example, consider a problem where we want to normalize the data, that is, scale the data to a range of 0-1.  When we normalize the input variables, this requires that we first calculate the minimum and maximum values for each variable before using these values to scale the variables. The dataset is then split into train and test datasets, but the examples in the training dataset know something about the data in the test dataset; they have been scaled by the global minimum and maximum values, so they know more about the global distribution of the variable then they should.\n",
        "\n",
        "This type of data leakage exists with almost any data preparation task, e.g., standardization or even imputation of missing values.  \n",
        "\n",
        "*How to solve this issue?*  Data preparation must be fit on the training data set only.  More generally, the entire modeling pipeline must be prepared only on the training dataset to avoid data leakage. This might include data transforms, but also other techniques such feature selection, dimensionality reduction, feature engineering and more. \n",
        "\n",
        "Let's see an example of this issue. "
      ]
    },
    {
      "cell_type": "markdown",
      "metadata": {
        "id": "UN9DxpbIToah"
      },
      "source": [
        "## Example of Data Leakage on Hold-out set\n",
        "\n",
        "We will start with some synthetic data for a binary classification problem. \n",
        "\n",
        "The naive approach for scaling the data is:    \n",
        "\n",
        "1. Run scaling on the entire data set \n",
        "2. Split the data into train/test \n",
        "3. Train the model on train, evaluate on test "
      ]
    },
    {
      "cell_type": "code",
      "execution_count": null,
      "metadata": {
        "colab": {
          "base_uri": "https://localhost:8080/"
        },
        "id": "x7mL8N8iT9or",
        "outputId": "bb988757-a719-4afa-dd73-37a4e88d5e23"
      },
      "outputs": [
        {
          "output_type": "stream",
          "name": "stdout",
          "text": [
            "Accuracy: 94.800\n"
          ]
        }
      ],
      "source": [
        "# BAD - EXAMPLE OF DATA LEAKAGE\n",
        "\n",
        "# from sklearn.datasets import make_classification\n",
        "# from sklearn.preprocessing import MinMaxScaler\n",
        "# from sklearn import metrics\n",
        "\n",
        "# define dataset\n",
        "X, y = make_classification(n_samples=1000, n_features=20, n_informative=13, \n",
        "                           n_redundant=7, random_state=20)\n",
        "\n",
        "# normalize the dataset \n",
        "scaler = MinMaxScaler()\n",
        "Xsc = scaler.fit_transform(X)\n",
        "\n",
        "# split into train and test sets\n",
        "X_train, X_test, y_train, y_test = train_test_split(\n",
        "    Xsc, y, test_size=0.25, random_state=5)\n",
        "\n",
        "# fit the model\n",
        "model = KNeighborsClassifier()\n",
        "model.fit(X_train, y_train)\n",
        "\n",
        "# evaluate the model\n",
        "yhat = model.predict(X_test)\n",
        "\n",
        "# evaluate predictions\n",
        "accuracy = metrics.accuracy_score(y_test, yhat)\n",
        "print('Accuracy: %.3f' % (accuracy*100))\n"
      ]
    },
    {
      "cell_type": "markdown",
      "metadata": {
        "id": "FLFs0qPcUexw"
      },
      "source": [
        "Let's look at how we should do the data preparation to avoid data leakage:    \n",
        "\n",
        "1. Split the data into train/test \n",
        "2. Run scaling, use train to set parameters, apply to both train and test \n",
        "3. Train the model on train, evaluate on test "
      ]
    },
    {
      "cell_type": "code",
      "execution_count": null,
      "metadata": {
        "colab": {
          "base_uri": "https://localhost:8080/"
        },
        "id": "KciT3lAqUwPa",
        "outputId": "25c9f02a-65ed-4c76-bb01-a57ed532d00a"
      },
      "outputs": [
        {
          "output_type": "stream",
          "name": "stdout",
          "text": [
            "Accuracy: 94.400\n"
          ]
        }
      ],
      "source": [
        "# GOOD - FIXED DATA LEAKAGE\n",
        "\n",
        "# split into train and test sets\n",
        "X_train, X_test, y_train, y_test = train_test_split(\n",
        "    X, y, test_size=0.25, random_state=5)\n",
        "\n",
        "# define the scaler\n",
        "scaler = MinMaxScaler()\n",
        "# fit on the training dataset\n",
        "scaler.fit(X_train)\n",
        "# scale the training dataset\n",
        "X_train = scaler.transform(X_train)\n",
        "# scale the test dataset\n",
        "X_test = scaler.transform(X_test)\n",
        "\n",
        "# fit the model\n",
        "model = KNeighborsClassifier()\n",
        "model.fit(X_train, y_train)\n",
        "\n",
        "# evaluate the model\n",
        "yhat = model.predict(X_test)\n",
        "\n",
        "# evaluate predictions\n",
        "accuracy = metrics.accuracy_score(y_test, yhat)\n",
        "print('Accuracy: %.3f' % (accuracy*100))"
      ]
    },
    {
      "cell_type": "markdown",
      "metadata": {
        "id": "C9FT01GcV8-w"
      },
      "source": [
        "The model with data leakage has slightly better performance that that without. *Note, this may change across random splits*. "
      ]
    },
    {
      "cell_type": "markdown",
      "metadata": {
        "id": "KebYcHYyW4lW"
      },
      "source": [
        "## Example of Data Leakage in Cross Validation \n",
        "\n",
        "Naive data preparation with cross-validation involves applying the data transform first, then using the cross-validation procedure. \n",
        "\n"
      ]
    },
    {
      "cell_type": "code",
      "execution_count": null,
      "metadata": {
        "colab": {
          "base_uri": "https://localhost:8080/"
        },
        "id": "8oL0HQbeXLJd",
        "outputId": "1b6c4997-7a28-423f-dafc-72000155500c"
      },
      "outputs": [
        {
          "output_type": "stream",
          "name": "stdout",
          "text": [
            "Accuracy: 94.800 (2.344)\n"
          ]
        }
      ],
      "source": [
        "# BAD - EXAMPLE OF DATA LEAKAGE\n",
        "\n",
        "# from sklearn import model_selection\n",
        "\n",
        "# normalize the dataset\n",
        "scaler = MinMaxScaler()\n",
        "Xsc = scaler.fit_transform(X)\n",
        "\n",
        "# define the model\n",
        "model = KNeighborsClassifier()\n",
        "\n",
        "# define the evaluation procedure\n",
        "cv = model_selection.RepeatedStratifiedKFold(n_splits=10, n_repeats=3, random_state=1)\n",
        "\n",
        "# evaluate the model using cross-validation\n",
        "scores = cross_val_score(model, Xsc, y, scoring='accuracy', cv=cv, n_jobs=-1)\n",
        "\n",
        "# report performance\n",
        "print('Accuracy: %.3f (%.3f)' % (np.mean(scores)*100, np.std(scores)*100))"
      ]
    },
    {
      "cell_type": "markdown",
      "metadata": {
        "id": "5dSs_2mvX5SE"
      },
      "source": [
        "Let's look at the correct way to do data preparation with cross-validation. \n",
        "It requires that the data preparation method is prepared on the training set and applied to the train and test sets within the cross-validation procedure.\n",
        "\n",
        "\n"
      ]
    },
    {
      "cell_type": "code",
      "execution_count": null,
      "metadata": {
        "colab": {
          "base_uri": "https://localhost:8080/"
        },
        "id": "Mv-SH7TXdBYC",
        "outputId": "25ca48a6-827f-48cf-d22c-7794eab95d6f"
      },
      "outputs": [
        {
          "output_type": "stream",
          "name": "stdout",
          "text": [
            "[0.96, 0.88, 0.99, 0.96, 0.94, 0.97, 0.94, 0.91, 0.96, 0.96, 0.93, 0.95, 0.94, 0.95, 0.93, 0.92, 0.98, 0.93, 0.98, 0.96, 0.95, 0.95, 0.94, 0.95, 0.93, 0.97, 0.98, 0.94, 0.91, 0.97]\n",
            "Accuracy: 94.767 (2.376)\n"
          ]
        }
      ],
      "source": [
        "# GOOD - FIXED DATA LEAKAGE\n",
        "\n",
        "# Set up how to perform k-fold \n",
        "kf = model_selection.RepeatedStratifiedKFold(n_splits = 10, \n",
        "                                             n_repeats=3, random_state=1)\n",
        "scores = [] \n",
        "\n",
        "# Loop over splits\n",
        "for tr_indx, te_indx in kf.split(X, y): \n",
        "    X_train, X_test = X[tr_indx], X[te_indx]\n",
        "    y_train, y_test = y[tr_indx], y[te_indx]\n",
        "    \n",
        "    # normalize the dataset\n",
        "    scaler = MinMaxScaler().fit(X_train)\n",
        "    X_train_trans = scaler.transform(X_train)\n",
        "    X_test_trans = scaler.transform(X_test)\n",
        "\n",
        "    # define the model\n",
        "    model = KNeighborsClassifier()\n",
        "    model.fit(X_train_trans, y_train) \n",
        "    yhat = model.predict(X_test_trans)\n",
        "\n",
        "    scores.append(metrics.accuracy_score(y_test, yhat))\n",
        "\n",
        "print(scores)\n",
        "print('Accuracy: %.3f (%.3f)' % (np.mean(scores)*100, np.std(scores)*100))"
      ]
    },
    {
      "cell_type": "markdown",
      "metadata": {
        "id": "PqvsS6Y3izAk"
      },
      "source": [
        "## Example of Data Leakage with GridSearchCV \n",
        "\n",
        "Let's look at how we get data leakage when using GridSearchCV as discussed above. \n",
        "\n"
      ]
    },
    {
      "cell_type": "code",
      "execution_count": null,
      "metadata": {
        "colab": {
          "base_uri": "https://localhost:8080/"
        },
        "id": "EGmnIQP-jDCU",
        "outputId": "342e7d72-11cd-481a-ce1e-4f6098703ef9"
      },
      "outputs": [
        {
          "output_type": "stream",
          "name": "stdout",
          "text": [
            "best mean cross-validation score: 0.9333333333333333\n",
            "best parameters: {'n_neighbors': 3}\n"
          ]
        }
      ],
      "source": [
        "# BAD - EXAMPLE OF DATA LEAKAGE\n",
        "\n",
        "# Split of the test set \n",
        "X_trainval, X_test, y_trainval, y_test = train_test_split(\n",
        "    X, y, test_size=0.25, random_state=5)\n",
        "\n",
        "# Scale the data \n",
        "scaler = MinMaxScaler()\n",
        "X_trainval_sc = scaler.fit_transform(X_trainval)\n",
        "X_test_sc = scaler.transform(X_test)\n",
        "\n",
        "# Instantiate the model \n",
        "knn = KNeighborsClassifier()\n",
        "\n",
        "# params for Grid Search \n",
        "params = {'n_neighbors': [1, 3, 5, 7, 9, 11, 13, 15]}\n",
        "\n",
        "# Use GridSearchCV \n",
        "grid = GridSearchCV(knn, params, cv=5, return_train_score=True)\n",
        "grid.fit(X_trainval_sc, y_trainval) \n",
        "\n",
        "print(f\"best mean cross-validation score: {grid.best_score_}\")\n",
        "print(f\"best parameters: {grid.best_params_}\")"
      ]
    },
    {
      "cell_type": "markdown",
      "metadata": {
        "id": "z4-_IepVj-Fx"
      },
      "source": [
        "What's the problem?  The scaling uses the data in train+validation to set the parameters and apply the scaling to the test set. \n",
        "\n",
        "The issue is with the GridSearchCV usage.  GridSearchCV will split the train+validation dataset into the train set and a validation set. See the image below from scikit-learn to illustrate this idea again. \n",
        "\n",
        "<img src=\"https://pages.mtu.edu/~lebrown/un5550-f21/p6/gridsearchSV.png\" width=\"60%\">\n",
        "Image from scikit-learn. \n",
        "\n",
        "<br> \n",
        "\n",
        "Within the cross-validation, the validation set should be treated as a temporary unseen test set.  Therefore, the scaler should not be fit using this data. \n",
        "\n",
        "How do we solve data leakage in this case? \n",
        "\n",
        "Use **pipelines**. \n",
        "\n"
      ]
    },
    {
      "cell_type": "markdown",
      "metadata": {
        "id": "GR-2gQr7vVDO"
      },
      "source": [
        "## Example of a Pipeline \n",
        "\n",
        "[Pipelines](https://scikit-learn.org/stable/data_transforms.html) allow us to use a number of different dataset transformations, we may clean, preprocess, reduce, or create feature representations. \n",
        "\n"
      ]
    },
    {
      "cell_type": "markdown",
      "metadata": {
        "id": "qdqS2QqmxMaa"
      },
      "source": [
        "### Pipeline on Hold-out set \n",
        "\n",
        "Let's see an example of scaling the data using a pipeline.  From above, we have an example of data leakage. \n",
        "\n",
        "```python\n",
        "# BAD - Example of Data Leakage\n",
        "\n",
        "# normalize the dataset \n",
        "scaler = MinMaxScaler()\n",
        "X = scaler.fit_transform(X)\n",
        "# split into train and test sets\n",
        "X_train, X_test, y_train, y_test = train_test_split(\n",
        "    X, y, test_size=0.25, random_state=5)\n",
        "# fit the model\n",
        "model = KNeighborsClassifier().fit(X_train, y_train)\n",
        "# evaluate the model\n",
        "yhat = model.predict(X_test)\n",
        "# evaluate predictions\n",
        "accuracy = metrics.accuracy_score(y_test, yhat)\n",
        "print('Accuracy: %.3f' % (accuracy*100))\n",
        "```\n",
        "\n",
        "Here, was the corrected code to prevent data leakage and compare it to a pipeline. \n",
        "\n",
        "```python \n",
        "# GOOD - Example without Data Leakage \n",
        "\n",
        "# split into train and test sets\n",
        "X_trainval, X_test, y_trainval, y_test = train_test_split(\n",
        "    X, y, test_size=0.25, random_state=5)\n",
        "# define the scaler\n",
        "scaler = MinMaxScaler()\n",
        "# fit on the training dataset\n",
        "scaler.fit(X_train)\n",
        "# scale the training dataset\n",
        "X_train = scaler.transform(X_train)\n",
        "# scale the test dataset\n",
        "X_test = scaler.transform(X_test)\n",
        "# fit the model\n",
        "model = KNeighborsClassifier().fit(X_train, y_train)\n",
        "# evaluate the model\n",
        "yhat = model.predict(X_test)\n",
        "# evaluate predictions\n",
        "accuracy = metrics.accuracy_score(y_test, yhat)\n",
        "print('Accuracy: %.3f' % (accuracy*100))\n",
        "```\n",
        "\n",
        "Now below is the code implemented as a pipeline."
      ]
    },
    {
      "cell_type": "code",
      "execution_count": null,
      "metadata": {
        "colab": {
          "base_uri": "https://localhost:8080/"
        },
        "id": "1lmqhNyGwTwU",
        "outputId": "a52b3d0c-4d39-49eb-a5c8-aaee6937ba34"
      },
      "outputs": [
        {
          "output_type": "stream",
          "name": "stdout",
          "text": [
            "Accuracy: 94.400\n"
          ]
        }
      ],
      "source": [
        "# Pipeline to avoid data leakage\n",
        "\n",
        "# from sklearn.pipeline import make_pipeline\n",
        "\n",
        "# split into train and test sets\n",
        "X_train, X_test, y_train, y_test = train_test_split(\n",
        "    X, y, test_size=0.25, random_state=5)\n",
        "\n",
        "# Setup the pipeline \n",
        "pipe = make_pipeline(MinMaxScaler(), KNeighborsClassifier())\n",
        "\n",
        "# Execute the pipeline with the data\n",
        "pipe.fit(X_train, y_train)\n",
        "\n",
        "# evaluate the model\n",
        "res = pipe.score(X_test, y_test)\n",
        "\n",
        "# evaluate predictions\n",
        "print('Accuracy: %.3f' % (res*100))"
      ]
    },
    {
      "cell_type": "markdown",
      "metadata": {
        "id": "D73dQkLSxZ1f"
      },
      "source": [
        "### Pipeline with Cross-validation \n",
        "\n",
        "In the example below, we can see how cross-validation with data leakage can be converted to a pipeline and also how we can eliminate data leakage when using for-loops for cross-validation and in a pipeline. \n",
        "\n",
        "You will want to use the code on the right (\"GOOD\") in the future. \n",
        "\n",
        "#### Preprocessing before cross-validation *BAD - DO NOT USE*\n",
        "\n",
        "\n",
        "```python\n",
        "# BAD!\n",
        "scaler = MinMaxScaler()\n",
        "X_sc = scaler.fit_transform(X)\n",
        "\n",
        "scores = []\n",
        "for tr_indx, te_indx in KFold().split(X_sc, Y):\n",
        "    knn = KNeighborsClassifier().fit(X_sc[train], y[train])\n",
        "    score = knn.score(X_sc[test], y[test])\n",
        "    scores.append(score)\n",
        "```\n",
        "\n",
        "Which is equivalent to the following condensed code: \n",
        "\n",
        "```python\n",
        "scaler = MinMaxScaler()\n",
        "X_sc = scalar.fit_transform(X)\n",
        "scores = cross_val_score(KNeighborsClassifier(), X_sc, y)\n",
        "```\n",
        "\n",
        "#### Preprocessing within cross validation  *GOOD - USE as EXAMPLE*\n",
        "\n",
        "\n",
        "```python\n",
        "# GOOD!\n",
        "scores = []\n",
        "scaler = MinMaxScaler()\n",
        "for train, test in KFold().split(X, y):\n",
        "    scaler.fit(X[train], y[train])\n",
        "    X_sc_train = scaler.transform(X[train])\n",
        "    knn = KNeighborsClassifier().fit(X_sc_train, y[train])\n",
        "    X_sc_test = scaler.transform(X[test])\n",
        "    score = knn.score(X_sc_test, y[test])\n",
        "    scores.append(score)\n",
        "```\n",
        "\n",
        "Which is equivalent to: \n",
        "\n",
        "```python\n",
        "pipe = make_pipeline(MinMaxScaler(), KNeighborsClassifier())\n",
        "scores = cross_val_score(pipe, X, y)\n",
        "```\n",
        "\n"
      ]
    },
    {
      "cell_type": "code",
      "execution_count": null,
      "metadata": {
        "colab": {
          "base_uri": "https://localhost:8080/"
        },
        "id": "kXQq-Icg3ml5",
        "outputId": "f7dd9e93-fc8f-4812-b980-ee19228f3b80"
      },
      "outputs": [
        {
          "output_type": "stream",
          "name": "stdout",
          "text": [
            "Mean Acc: 94.700\n"
          ]
        }
      ],
      "source": [
        "pipe = make_pipeline(MinMaxScaler(), KNeighborsClassifier())\n",
        "scores = cross_val_score(pipe, X, y)\n",
        "\n",
        "print(\"Mean Acc: %.3f\" % (np.mean(scores)*100))"
      ]
    },
    {
      "cell_type": "markdown",
      "metadata": {
        "id": "mhqZzP51363U"
      },
      "source": [
        "### Pipeline with GridSearchCV \n",
        "\n",
        "If you recall, `GridSearchCV` is passed an estimator and a dictionary of parameter values for tuning hyper-parameters.  We can pass a `Pipeline` as the estimator, but we need to adjust the process above to ensure the parameter tuning is applied to the correct step of the pipeline.  This is done by specifying the hyper-parameters within a pipeline, by using the name of the step of the pipeline, followed by the double underscore ('dunder'), followed by the name of the hyper-parameter. \n",
        "\n",
        "So, when we create a pipeline and we want to tune the `n_neighbors` parameter of KNN, we need to use  `kneighborsclassifier__n_neighbors` as the hyper-parameter name. \n",
        "Below is the example code. "
      ]
    },
    {
      "cell_type": "code",
      "execution_count": null,
      "metadata": {
        "colab": {
          "base_uri": "https://localhost:8080/"
        },
        "id": "7IJNYXFr5DJY",
        "outputId": "2c68190b-f393-4047-c8f6-c5892ab439e2"
      },
      "outputs": [
        {
          "output_type": "stream",
          "name": "stdout",
          "text": [
            "{'kneighborsclassifier__n_neighbors': 5}\n",
            "94.39999999999999\n"
          ]
        }
      ],
      "source": [
        "# GOOD - EXAMPLE without Data Leakage using pipeline and GridSearchCV\n",
        "\n",
        "# Split of the test set \n",
        "X_trainval, X_test, y_trainval, y_test = train_test_split(\n",
        "    X, y, test_size=0.25, random_state=5)\n",
        "\n",
        "# create the pipeline \n",
        "knn_pipe = make_pipeline(MinMaxScaler(), KNeighborsClassifier())\n",
        "\n",
        "# create the parameter grid \n",
        "# Pipeline hyper-parameters are specified as <step name>__<hyper-parameter name>\n",
        "params = {'kneighborsclassifier__n_neighbors': \n",
        "          [1, 3, 5, 7, 9, 11, 13, 15]}\n",
        "\n",
        "# Setup cross-validation for repeatability \n",
        "cvStrat = StratifiedKFold(n_splits=10, random_state=5, shuffle=True)\n",
        "\n",
        "# Instantiate the grid-search\n",
        "grid = GridSearchCV(knn_pipe, params, cv=cvStrat)\n",
        "# run the grid search are report results \n",
        "grid.fit(X_trainval, y_trainval)\n",
        "\n",
        "print(grid.best_params_)\n",
        "print(grid.score(X_test, y_test)*100)"
      ]
    },
    {
      "cell_type": "markdown",
      "metadata": {
        "id": "2L5w8OTD6VQ2"
      },
      "source": [
        "We can look at all the parameters with:    "
      ]
    },
    {
      "cell_type": "code",
      "execution_count": null,
      "metadata": {
        "colab": {
          "base_uri": "https://localhost:8080/"
        },
        "id": "35_WS_Me6aRc",
        "outputId": "245dff8c-04bd-4817-92bf-33fe4dc6e3ea"
      },
      "outputs": [
        {
          "output_type": "execute_result",
          "data": {
            "text/plain": [
              "{'memory': None,\n",
              " 'steps': [('minmaxscaler', MinMaxScaler()),\n",
              "  ('kneighborsclassifier', KNeighborsClassifier())],\n",
              " 'verbose': False,\n",
              " 'minmaxscaler': MinMaxScaler(),\n",
              " 'kneighborsclassifier': KNeighborsClassifier(),\n",
              " 'minmaxscaler__clip': False,\n",
              " 'minmaxscaler__copy': True,\n",
              " 'minmaxscaler__feature_range': (0, 1),\n",
              " 'kneighborsclassifier__algorithm': 'auto',\n",
              " 'kneighborsclassifier__leaf_size': 30,\n",
              " 'kneighborsclassifier__metric': 'minkowski',\n",
              " 'kneighborsclassifier__metric_params': None,\n",
              " 'kneighborsclassifier__n_jobs': None,\n",
              " 'kneighborsclassifier__n_neighbors': 5,\n",
              " 'kneighborsclassifier__p': 2,\n",
              " 'kneighborsclassifier__weights': 'uniform'}"
            ]
          },
          "metadata": {},
          "execution_count": 20
        }
      ],
      "source": [
        "knn_pipe.get_params()"
      ]
    },
    {
      "cell_type": "markdown",
      "metadata": {
        "id": "YYlRSHT26s4u"
      },
      "source": [
        "We could also tune parameters of the pre-processing step.  Here we are adding a feature selection step to choose only a percentage of the top features to be included in the model. \n"
      ]
    },
    {
      "cell_type": "code",
      "execution_count": null,
      "metadata": {
        "colab": {
          "base_uri": "https://localhost:8080/"
        },
        "id": "fjAiBOEs6yT6",
        "outputId": "ff4e531f-be7b-4e01-f9f5-57c3567c4189"
      },
      "outputs": [
        {
          "output_type": "stream",
          "name": "stdout",
          "text": [
            "{'kneighborsclassifier__n_neighbors': 3, 'selectpercentile__percentile': 100}\n",
            "94.0\n"
          ]
        }
      ],
      "source": [
        "# from sklearn.feature_selection import SelectPercentile\n",
        "\n",
        "# create a pipeline\n",
        "select_pipe = make_pipeline(MinMaxScaler(), SelectPercentile(), \n",
        "                            KNeighborsClassifier())\n",
        "\n",
        "# create the search grid.\n",
        "# Pipeline hyper-parameters are specified as <step name>__<hyper-parameter name>\n",
        "param_grid = {'kneighborsclassifier__n_neighbors': [1, 3, 5, 7, 9, 10, 13, 15],\n",
        "              'selectpercentile__percentile': [1, 2, 5, 10, 50, 100]}\n",
        "\n",
        "# Instantiate grid-search, here we use default 10-fold cross-validation\n",
        "grid = GridSearchCV(select_pipe, param_grid, cv=10)\n",
        "\n",
        "# run the grid-search and report results\n",
        "grid.fit(X_trainval, y_trainval)\n",
        "\n",
        "print(grid.best_params_)\n",
        "print(grid.score(X_test, y_test)*100)"
      ]
    },
    {
      "cell_type": "markdown",
      "metadata": {
        "id": "kZY_Wl9s7jVD"
      },
      "source": [
        "Note, we can make the parameter names of the GridSearch a bit simpler by using establishing some abbreviations. "
      ]
    },
    {
      "cell_type": "code",
      "execution_count": null,
      "metadata": {
        "colab": {
          "base_uri": "https://localhost:8080/"
        },
        "id": "hRhGHWJT7sjH",
        "outputId": "b3e57dfa-249f-4384-eff8-f80b453b106d"
      },
      "outputs": [
        {
          "output_type": "stream",
          "name": "stdout",
          "text": [
            "{'fs__percentile': 100, 'knn__n_neighbors': 3}\n",
            "94.0\n"
          ]
        }
      ],
      "source": [
        "# from sklearn.pipeline import Pipeline\n",
        "\n",
        "# create a pipeline\n",
        "#  Label each step of the pipeline with a name, e.g., \n",
        "#   'sc' - for scaling \n",
        "#   'fs' - for Feature Selection\n",
        "#   'knn' - for KNN classifier \n",
        "select_pipe = Pipeline([\n",
        "                        ('sc', MinMaxScaler()),\n",
        "                        ('fs', SelectPercentile()),\n",
        "                        ('knn', KNeighborsClassifier())])\n",
        "\n",
        "# create the search grid.\n",
        "# Pipeline hyper-parameters are specified as <step name>__<hyper-parameter name>\n",
        "param_grid = {'knn__n_neighbors': [1, 3, 5, 7, 9, 10, 13, 15],\n",
        "              'fs__percentile': [1, 2, 5, 10, 50, 100]}\n",
        "\n",
        "# Instantiate grid-search\n",
        "grid = GridSearchCV(select_pipe, param_grid, cv=10)\n",
        "\n",
        "# run the grid-search and report results\n",
        "grid.fit(X_trainval, y_trainval)\n",
        "\n",
        "print(grid.best_params_)\n",
        "print(grid.score(X_test, y_test)*100)"
      ]
    },
    {
      "cell_type": "markdown",
      "metadata": {
        "id": "Fzsp91JE-HWw"
      },
      "source": [
        "### Different options in a Pipeline. \n",
        "\n",
        "We may want the pipeline to select what preprocessing steps to include or what models to apply.  For example, I have been using `MinMaxScaler` in the examples, but what if instead we should use `StandardScaler` for this dataset.  We can let `GridSearchCV` answer this. \n"
      ]
    },
    {
      "cell_type": "code",
      "execution_count": null,
      "metadata": {
        "colab": {
          "base_uri": "https://localhost:8080/"
        },
        "id": "Uwr5m0JV-gMn",
        "outputId": "5417ffcd-05e3-4e8e-e6dd-10ac902a8489"
      },
      "outputs": [
        {
          "output_type": "stream",
          "name": "stdout",
          "text": [
            "{'knn__n_neighbors': 5, 'scaler': StandardScaler()}\n",
            "95.19999999999999\n"
          ]
        }
      ],
      "source": [
        "\n",
        "# declare a two step pipeline, explicitly giving names to both steps.\n",
        "pipe = Pipeline([('scaler', StandardScaler()), \n",
        "                 ('knn', KNeighborsClassifier())])\n",
        "\n",
        "# The name of the first step is 'scaler' and we can assign different\n",
        "# estimators to this step, such as MinMaxScaler or StandardScaler\n",
        "# There is a special value 'passthrough' which skips the step\n",
        "param_grid = {'scaler': [MinMaxScaler(), StandardScaler(), 'passthrough'],\n",
        "              # we named the second step knn, so we have to use that name here\n",
        "              'knn__n_neighbors': [1, 3, 5, 7, 9, 11, 13, 15]}\n",
        "\n",
        "# instantiate and run as before:\n",
        "grid = GridSearchCV(pipe, param_grid, cv=10)\n",
        "grid.fit(X_trainval, y_trainval)\n",
        "\n",
        "print(grid.best_params_)\n",
        "print(grid.score(X_test, y_test)*100)"
      ]
    },
    {
      "cell_type": "markdown",
      "metadata": {
        "id": "r4wrknDy--e-"
      },
      "source": [
        "Remember, we can see the detailed results with `cv_results_` attribute. "
      ]
    },
    {
      "cell_type": "code",
      "execution_count": null,
      "metadata": {
        "colab": {
          "base_uri": "https://localhost:8080/"
        },
        "id": "ty2JCJ4U_DUp",
        "outputId": "2fce4a88-d485-451e-8a2d-0fc1f1b27c83"
      },
      "outputs": [
        {
          "output_type": "execute_result",
          "data": {
            "text/plain": [
              "{'mean_fit_time': array([0.00111718, 0.0012866 , 0.00062964, 0.00135174, 0.00140572,\n",
              "        0.00160112, 0.00216241, 0.00131483, 0.00064392, 0.00108795,\n",
              "        0.00122931, 0.0006026 , 0.00128157, 0.00217707, 0.00058303,\n",
              "        0.00128911, 0.00144634, 0.00071359, 0.00100749, 0.00156398,\n",
              "        0.00072532, 0.00146277, 0.00129106, 0.00079634]),\n",
              " 'std_fit_time': array([2.12865945e-04, 1.51089381e-04, 6.08465935e-05, 4.53118047e-04,\n",
              "        2.53021070e-04, 1.95113184e-03, 2.54153728e-03, 1.09359398e-04,\n",
              "        2.80309282e-05, 8.94034576e-05, 9.17856692e-05, 4.15333445e-05,\n",
              "        3.53228161e-04, 2.69975020e-03, 3.04108856e-05, 3.01142759e-04,\n",
              "        2.26160355e-04, 1.14210961e-04, 2.95633366e-05, 4.28518644e-04,\n",
              "        9.12705932e-05, 1.03226787e-03, 4.60200294e-05, 3.71173218e-04]),\n",
              " 'mean_score_time': array([0.00345488, 0.0043654 , 0.00327051, 0.00506496, 0.00569475,\n",
              "        0.00654283, 0.0058588 , 0.00398679, 0.00392787, 0.0039458 ,\n",
              "        0.00393741, 0.00411441, 0.00430393, 0.00554879, 0.00379257,\n",
              "        0.00446646, 0.00523729, 0.00404854, 0.00410383, 0.0050364 ,\n",
              "        0.00421894, 0.00509636, 0.00408599, 0.00409043]),\n",
              " 'std_score_time': array([0.00017628, 0.0019908 , 0.00014199, 0.00240333, 0.00321269,\n",
              "        0.00386919, 0.00396238, 0.00011419, 0.00011408, 0.00010403,\n",
              "        0.00012243, 0.00094377, 0.00103549, 0.0032476 , 0.00022839,\n",
              "        0.00083368, 0.00300289, 0.00017238, 0.00044676, 0.00201572,\n",
              "        0.00035662, 0.00228016, 0.0001545 , 0.00043108]),\n",
              " 'param_knn__n_neighbors': masked_array(data=[1, 1, 1, 3, 3, 3, 5, 5, 5, 7, 7, 7, 9, 9, 9, 11, 11,\n",
              "                    11, 13, 13, 13, 15, 15, 15],\n",
              "              mask=[False, False, False, False, False, False, False, False,\n",
              "                    False, False, False, False, False, False, False, False,\n",
              "                    False, False, False, False, False, False, False, False],\n",
              "        fill_value='?',\n",
              "             dtype=object),\n",
              " 'param_scaler': masked_array(data=[MinMaxScaler(), StandardScaler(), 'passthrough',\n",
              "                    MinMaxScaler(), StandardScaler(), 'passthrough',\n",
              "                    MinMaxScaler(), StandardScaler(), 'passthrough',\n",
              "                    MinMaxScaler(), StandardScaler(), 'passthrough',\n",
              "                    MinMaxScaler(), StandardScaler(), 'passthrough',\n",
              "                    MinMaxScaler(), StandardScaler(), 'passthrough',\n",
              "                    MinMaxScaler(), StandardScaler(), 'passthrough',\n",
              "                    MinMaxScaler(), StandardScaler(), 'passthrough'],\n",
              "              mask=[False, False, False, False, False, False, False, False,\n",
              "                    False, False, False, False, False, False, False, False,\n",
              "                    False, False, False, False, False, False, False, False],\n",
              "        fill_value='?',\n",
              "             dtype=object),\n",
              " 'params': [{'knn__n_neighbors': 1, 'scaler': MinMaxScaler()},\n",
              "  {'knn__n_neighbors': 1, 'scaler': StandardScaler()},\n",
              "  {'knn__n_neighbors': 1, 'scaler': 'passthrough'},\n",
              "  {'knn__n_neighbors': 3, 'scaler': MinMaxScaler()},\n",
              "  {'knn__n_neighbors': 3, 'scaler': StandardScaler()},\n",
              "  {'knn__n_neighbors': 3, 'scaler': 'passthrough'},\n",
              "  {'knn__n_neighbors': 5, 'scaler': MinMaxScaler()},\n",
              "  {'knn__n_neighbors': 5, 'scaler': StandardScaler()},\n",
              "  {'knn__n_neighbors': 5, 'scaler': 'passthrough'},\n",
              "  {'knn__n_neighbors': 7, 'scaler': MinMaxScaler()},\n",
              "  {'knn__n_neighbors': 7, 'scaler': StandardScaler()},\n",
              "  {'knn__n_neighbors': 7, 'scaler': 'passthrough'},\n",
              "  {'knn__n_neighbors': 9, 'scaler': MinMaxScaler()},\n",
              "  {'knn__n_neighbors': 9, 'scaler': StandardScaler()},\n",
              "  {'knn__n_neighbors': 9, 'scaler': 'passthrough'},\n",
              "  {'knn__n_neighbors': 11, 'scaler': MinMaxScaler()},\n",
              "  {'knn__n_neighbors': 11, 'scaler': StandardScaler()},\n",
              "  {'knn__n_neighbors': 11, 'scaler': 'passthrough'},\n",
              "  {'knn__n_neighbors': 13, 'scaler': MinMaxScaler()},\n",
              "  {'knn__n_neighbors': 13, 'scaler': StandardScaler()},\n",
              "  {'knn__n_neighbors': 13, 'scaler': 'passthrough'},\n",
              "  {'knn__n_neighbors': 15, 'scaler': MinMaxScaler()},\n",
              "  {'knn__n_neighbors': 15, 'scaler': StandardScaler()},\n",
              "  {'knn__n_neighbors': 15, 'scaler': 'passthrough'}],\n",
              " 'split0_test_score': array([0.94666667, 0.94666667, 0.88      , 0.94666667, 0.94666667,\n",
              "        0.89333333, 0.97333333, 0.97333333, 0.90666667, 0.98666667,\n",
              "        0.97333333, 0.92      , 0.97333333, 0.97333333, 0.88      ,\n",
              "        0.97333333, 0.97333333, 0.88      , 0.97333333, 0.97333333,\n",
              "        0.88      , 0.97333333, 0.93333333, 0.85333333]),\n",
              " 'split1_test_score': array([0.97333333, 0.97333333, 0.92      , 0.98666667, 0.98666667,\n",
              "        0.93333333, 0.96      , 0.96      , 0.93333333, 0.92      ,\n",
              "        0.94666667, 0.93333333, 0.92      , 0.93333333, 0.90666667,\n",
              "        0.93333333, 0.93333333, 0.90666667, 0.93333333, 0.94666667,\n",
              "        0.92      , 0.90666667, 0.93333333, 0.90666667]),\n",
              " 'split2_test_score': array([0.88      , 0.88      , 0.86666667, 0.90666667, 0.90666667,\n",
              "        0.92      , 0.93333333, 0.94666667, 0.92      , 0.96      ,\n",
              "        0.94666667, 0.92      , 0.97333333, 0.96      , 0.89333333,\n",
              "        0.97333333, 0.97333333, 0.92      , 0.97333333, 0.96      ,\n",
              "        0.92      , 0.96      , 0.97333333, 0.90666667]),\n",
              " 'split3_test_score': array([0.89333333, 0.90666667, 0.88      , 0.93333333, 0.94666667,\n",
              "        0.90666667, 0.96      , 0.94666667, 0.90666667, 0.93333333,\n",
              "        0.94666667, 0.92      , 0.93333333, 0.93333333, 0.92      ,\n",
              "        0.93333333, 0.93333333, 0.92      , 0.93333333, 0.93333333,\n",
              "        0.90666667, 0.93333333, 0.93333333, 0.89333333]),\n",
              " 'split4_test_score': array([0.92      , 0.92      , 0.89333333, 0.93333333, 0.92      ,\n",
              "        0.85333333, 0.90666667, 0.90666667, 0.88      , 0.92      ,\n",
              "        0.92      , 0.88      , 0.90666667, 0.90666667, 0.86666667,\n",
              "        0.90666667, 0.90666667, 0.86666667, 0.90666667, 0.89333333,\n",
              "        0.89333333, 0.92      , 0.90666667, 0.89333333]),\n",
              " 'split5_test_score': array([0.96      , 0.97333333, 0.92      , 0.97333333, 0.96      ,\n",
              "        0.93333333, 0.94666667, 0.94666667, 0.94666667, 0.96      ,\n",
              "        0.94666667, 0.93333333, 0.96      , 0.94666667, 0.92      ,\n",
              "        0.94666667, 0.96      , 0.93333333, 0.94666667, 0.94666667,\n",
              "        0.93333333, 0.93333333, 0.94666667, 0.93333333]),\n",
              " 'split6_test_score': array([0.86666667, 0.88      , 0.86666667, 0.90666667, 0.90666667,\n",
              "        0.88      , 0.90666667, 0.92      , 0.88      , 0.90666667,\n",
              "        0.90666667, 0.88      , 0.93333333, 0.93333333, 0.88      ,\n",
              "        0.90666667, 0.93333333, 0.85333333, 0.94666667, 0.93333333,\n",
              "        0.88      , 0.93333333, 0.92      , 0.86666667]),\n",
              " 'split7_test_score': array([0.90666667, 0.90666667, 0.89333333, 0.94666667, 0.89333333,\n",
              "        0.88      , 0.89333333, 0.92      , 0.89333333, 0.89333333,\n",
              "        0.89333333, 0.89333333, 0.89333333, 0.88      , 0.89333333,\n",
              "        0.88      , 0.89333333, 0.85333333, 0.88      , 0.89333333,\n",
              "        0.86666667, 0.89333333, 0.90666667, 0.86666667]),\n",
              " 'split8_test_score': array([0.90666667, 0.92      , 0.89333333, 0.97333333, 0.97333333,\n",
              "        0.94666667, 0.96      , 0.97333333, 0.96      , 0.94666667,\n",
              "        0.94666667, 0.96      , 0.93333333, 0.93333333, 0.96      ,\n",
              "        0.92      , 0.93333333, 0.97333333, 0.92      , 0.93333333,\n",
              "        0.94666667, 0.90666667, 0.90666667, 0.94666667]),\n",
              " 'split9_test_score': array([0.90666667, 0.92      , 0.94666667, 0.94666667, 0.94666667,\n",
              "        0.93333333, 0.97333333, 0.97333333, 0.96      , 1.        ,\n",
              "        0.97333333, 0.94666667, 0.98666667, 0.97333333, 0.97333333,\n",
              "        1.        , 0.98666667, 0.93333333, 1.        , 1.        ,\n",
              "        0.93333333, 1.        , 0.98666667, 0.92      ]),\n",
              " 'mean_test_score': array([0.916     , 0.92266667, 0.896     , 0.94533333, 0.93866667,\n",
              "        0.908     , 0.94133333, 0.94666667, 0.91866667, 0.94266667,\n",
              "        0.94      , 0.91866667, 0.94133333, 0.93733333, 0.90933333,\n",
              "        0.93733333, 0.94266667, 0.904     , 0.94133333, 0.94133333,\n",
              "        0.908     , 0.936     , 0.93466667, 0.89866667]),\n",
              " 'std_test_score': array([0.03268707, 0.03143954, 0.0244404 , 0.0256125 , 0.02933333,\n",
              "        0.02887521, 0.02809508, 0.02309401, 0.02887521, 0.03268707,\n",
              "        0.02476557, 0.0256125 , 0.02933333, 0.02735771, 0.03309246,\n",
              "        0.03479464, 0.02862788, 0.03761796, 0.03330666, 0.03109841,\n",
              "        0.0256125 , 0.03143954, 0.02629744, 0.02872088]),\n",
              " 'rank_test_score': array([18, 15, 24,  2, 10, 20,  5,  1, 16,  3,  9, 16,  5, 11, 19, 11,  3,\n",
              "        22,  5,  5, 20, 13, 14, 23], dtype=int32)}"
            ]
          },
          "metadata": {},
          "execution_count": 24
        }
      ],
      "source": [
        "grid.cv_results_"
      ]
    },
    {
      "cell_type": "markdown",
      "metadata": {
        "id": "YpTq3NBs_SK5"
      },
      "source": [
        "We can get even more advanced with our `GridSearchCV` options, because it can search over grids, and also over lists of grids (a list of dictionaries). This is useful when different pre-processing steps or models have different hyper-parameters. For example, say we wanted to tune whether the `MinMaxScaler` should scale between 0 and 1 or between -1 and 1, while also considering the case of using `StandardScaler`. We can't just add `feature_range` to the `param_grid` dictionary because `StandardScaler` doesn't have a `feature_range` parameter. Instead we can create a list of two grids: one grid that always uses `MinMaxScaler` and one that always uses `StandardScaler`. This is a bit of a contrived example, but once we know more models and transformers there will be plenty of cases where this comes in handy."
      ]
    },
    {
      "cell_type": "code",
      "execution_count": null,
      "metadata": {
        "id": "Xa_MsRmq_Rue"
      },
      "outputs": [],
      "source": [
        "param_grid = [ # list of two dicts\n",
        "    # first dict always uses MinMaxScaler\n",
        "    {'scaler': [MinMaxScaler()],\n",
        "     # two options for feature_range:\n",
        "     'feature_range': [(0, 1), (-1, 1)], \n",
        "     'knn__n_neighbors': [1, 3, 5, 7, 9, 11]},\n",
        "    # second dict always uses StandardScaler\n",
        "    # there are no scaling options that we're tuning\n",
        "    {'scaler': [StandardScaler()], \n",
        "     'knn__n_neighbors': [1, 3, 5, 7, 9, 11]}   \n",
        "]"
      ]
    },
    {
      "cell_type": "markdown",
      "metadata": {
        "id": "Q271UKy5AIp9"
      },
      "source": [
        "Note, the values for scaler always need to be a list, even if it's a list with a single element. So we can't specify `'scaler': MinMaxScaler()`. "
      ]
    },
    {
      "cell_type": "markdown",
      "metadata": {
        "id": "bMgo3uKhAYaI"
      },
      "source": [
        "### Accessing attributes in grid-search pipeline\n",
        "\n",
        "We may want to access information about the model. \n",
        "\n",
        "For example, we can access the model fitted on the whole training+validation data using the `best_estimator_` attribute. "
      ]
    },
    {
      "cell_type": "code",
      "execution_count": null,
      "metadata": {
        "colab": {
          "base_uri": "https://localhost:8080/"
        },
        "id": "hciF6WBVArpP",
        "outputId": "51110f00-e3ce-48ca-a4d2-b4a80b576f21"
      },
      "outputs": [
        {
          "output_type": "execute_result",
          "data": {
            "text/plain": [
              "GridSearchCV(cv=10,\n",
              "             estimator=Pipeline(steps=[('scaler', StandardScaler()),\n",
              "                                       ('knn', KNeighborsClassifier())]),\n",
              "             param_grid={'knn__n_neighbors': [1, 3, 5, 7, 9, 11, 13, 15],\n",
              "                         'scaler': [MinMaxScaler(), StandardScaler(),\n",
              "                                    'passthrough']})"
            ]
          },
          "metadata": {},
          "execution_count": 26
        }
      ],
      "source": [
        "grid"
      ]
    },
    {
      "cell_type": "code",
      "execution_count": null,
      "metadata": {
        "colab": {
          "base_uri": "https://localhost:8080/"
        },
        "id": "KqGh4SdYAxP6",
        "outputId": "05d53c42-15ff-4cdc-bc44-36cb2f5e4c7b"
      },
      "outputs": [
        {
          "output_type": "execute_result",
          "data": {
            "text/plain": [
              "Pipeline(steps=[('scaler', StandardScaler()), ('knn', KNeighborsClassifier())])"
            ]
          },
          "metadata": {},
          "execution_count": 27
        }
      ],
      "source": [
        "grid.best_estimator_"
      ]
    },
    {
      "cell_type": "markdown",
      "metadata": {
        "id": "0ItiD_rAA2Xi"
      },
      "source": [
        "You can see that best estimator is a pipeline itself.  We can also access an individual step. "
      ]
    },
    {
      "cell_type": "code",
      "execution_count": null,
      "metadata": {
        "colab": {
          "base_uri": "https://localhost:8080/"
        },
        "id": "CO_I1iMXA1I0",
        "outputId": "65553f97-3376-49bd-f89d-59bebd314efe"
      },
      "outputs": [
        {
          "output_type": "execute_result",
          "data": {
            "text/plain": [
              "StandardScaler()"
            ]
          },
          "metadata": {},
          "execution_count": 28
        }
      ],
      "source": [
        "grid.best_estimator_['scaler']"
      ]
    },
    {
      "cell_type": "markdown",
      "metadata": {
        "id": "yjM-swmPBKRB"
      },
      "source": [
        "This is a scaler that was fit on the whole training+validation dataset. \n",
        "\n",
        "We can also access parameters that scaler uses, for example the min values used in the `MinMaxScaler` or the mean values used in the `StandardScaler`."
      ]
    },
    {
      "cell_type": "code",
      "execution_count": null,
      "metadata": {
        "colab": {
          "base_uri": "https://localhost:8080/"
        },
        "id": "AEuufGvUBSPd",
        "outputId": "fbc7ed7a-82fe-4a18-ddb4-2de34c65366b"
      },
      "outputs": [
        {
          "output_type": "execute_result",
          "data": {
            "text/plain": [
              "array([ 0.40896306,  0.36480057,  1.29951722, -0.0558038 ,  0.41304036,\n",
              "        0.58007339, -0.46107616,  0.50317085, -0.11268126, -0.09956297,\n",
              "        0.87089602, -0.71248985,  0.96428355, -1.07964908,  0.04909933,\n",
              "        1.03999126, -1.50948237, -0.05674912,  0.61672511,  0.49217227])"
            ]
          },
          "metadata": {},
          "execution_count": 29
        }
      ],
      "source": [
        "grid.best_estimator_['scaler'].mean_"
      ]
    },
    {
      "cell_type": "markdown",
      "metadata": {
        "id": "ZYuBqFYRFL0x"
      },
      "source": [
        "# Exercises: Classification - Music Hits \n",
        "\n",
        "For this problem, you will work to classify a song’s popularity. Specifically, you will develop methods to predict whether a song will make the Top10 of Billboard’s Hot 100 Chart. The data set consists of song from the Top10 of Billboard’s Hot 100 Chart from 1990-2010 along with a sampling of other songs that did not make the list.  \n",
        "\n",
        "The data source is the MIT 15.071 course. The data set was created by scraping Billboard’s Hot 100, other songs on Billboard, and using the EchoNest API, now a part of Spotify, to get song information.\n",
        "\n",
        "The variables included in the data set include several description of the song and artist (including song title and id numbers), the year the song was released. Additionally, several variables describe the song attributes: time signature, loudness, tempo, key, energy pitch, and timbre (measured of different sections of the song). The last variable is binary indicated whether the song was in the Top10 or not.\n",
        "\n",
        "You will use the variables of the song attributes to predict whether the song will be popular or not."
      ]
    },
    {
      "cell_type": "markdown",
      "metadata": {
        "id": "RaGxJJ7BFZc9"
      },
      "source": [
        "## Q1  (5 pts) Load and understand the data \n",
        "\n",
        "Load in the `music` data. \n",
        "\n",
        "You should not use the `year`, `artistname`, `artistID`, `songtitle` or `songID` in the prediction.  \n",
        "Additionally, remove any variables that are the confidence of another variable, e.g., `timesignature_confidence`, `temp_confidence`. \n",
        "\n",
        "\n",
        "Create a input feature matrix, `Xm` and label vector `ym` that you will use to create your classifiers. \n"
      ]
    },
    {
      "cell_type": "code",
      "execution_count": null,
      "metadata": {
        "id": "H6GJ-NZlFHmL",
        "tags": [],
        "colab": {
          "base_uri": "https://localhost:8080/",
          "height": 299
        },
        "outputId": "88a43662-b7b8-42ab-bf7b-da0309d83853"
      },
      "outputs": [
        {
          "output_type": "execute_result",
          "data": {
            "text/plain": [
              "   timesignature  loudness    tempo  key    energy  pitch  timbre_0_min  \\\n",
              "0              3    -4.262   91.525   11  0.966656  0.024         0.002   \n",
              "1              4    -4.051  140.048   10  0.984710  0.025         0.000   \n",
              "2              4    -3.571  160.512    2  0.989900  0.026         0.003   \n",
              "3              4    -3.815   97.525    1  0.939207  0.013         0.000   \n",
              "4              4    -4.707  140.053    6  0.987738  0.063         0.000   \n",
              "\n",
              "   timbre_0_max  timbre_1_min  timbre_1_max  ...  timbre_5_min  timbre_5_max  \\\n",
              "0        57.342        -6.496       171.093  ...      -104.683       183.089   \n",
              "1        57.414       -37.351       171.130  ...       -87.267        42.798   \n",
              "2        57.422       -17.222       171.060  ...       -98.673       141.365   \n",
              "3        57.765       -32.083       220.895  ...       -77.515       141.178   \n",
              "4        56.872      -223.922       171.130  ...       -96.147        38.303   \n",
              "\n",
              "   timbre_6_min  timbre_6_max  timbre_7_min  timbre_7_max  timbre_10_min  \\\n",
              "0       -88.771        73.549       -71.127        82.475       -126.440   \n",
              "1       -86.895        75.455       -65.807       106.918       -103.808   \n",
              "2       -88.874        66.504       -67.433        80.621       -108.313   \n",
              "3       -70.790        64.540       -63.667        96.675       -102.676   \n",
              "4      -110.757        72.391       -55.935       110.332        -52.796   \n",
              "\n",
              "   timbre_10_max  timbre_11_min  timbre_11_max  \n",
              "0         18.658        -44.770         25.989  \n",
              "1        121.935        -38.892         22.513  \n",
              "2         33.300        -43.733         25.744  \n",
              "3         46.422        -59.439         37.082  \n",
              "4         22.888        -50.414         32.758  \n",
              "\n",
              "[5 rows x 26 columns]"
            ],
            "text/html": [
              "\n",
              "  <div id=\"df-b8d4a752-0484-4307-97d4-d5d1535316c7\">\n",
              "    <div class=\"colab-df-container\">\n",
              "      <div>\n",
              "<style scoped>\n",
              "    .dataframe tbody tr th:only-of-type {\n",
              "        vertical-align: middle;\n",
              "    }\n",
              "\n",
              "    .dataframe tbody tr th {\n",
              "        vertical-align: top;\n",
              "    }\n",
              "\n",
              "    .dataframe thead th {\n",
              "        text-align: right;\n",
              "    }\n",
              "</style>\n",
              "<table border=\"1\" class=\"dataframe\">\n",
              "  <thead>\n",
              "    <tr style=\"text-align: right;\">\n",
              "      <th></th>\n",
              "      <th>timesignature</th>\n",
              "      <th>loudness</th>\n",
              "      <th>tempo</th>\n",
              "      <th>key</th>\n",
              "      <th>energy</th>\n",
              "      <th>pitch</th>\n",
              "      <th>timbre_0_min</th>\n",
              "      <th>timbre_0_max</th>\n",
              "      <th>timbre_1_min</th>\n",
              "      <th>timbre_1_max</th>\n",
              "      <th>...</th>\n",
              "      <th>timbre_5_min</th>\n",
              "      <th>timbre_5_max</th>\n",
              "      <th>timbre_6_min</th>\n",
              "      <th>timbre_6_max</th>\n",
              "      <th>timbre_7_min</th>\n",
              "      <th>timbre_7_max</th>\n",
              "      <th>timbre_10_min</th>\n",
              "      <th>timbre_10_max</th>\n",
              "      <th>timbre_11_min</th>\n",
              "      <th>timbre_11_max</th>\n",
              "    </tr>\n",
              "  </thead>\n",
              "  <tbody>\n",
              "    <tr>\n",
              "      <th>0</th>\n",
              "      <td>3</td>\n",
              "      <td>-4.262</td>\n",
              "      <td>91.525</td>\n",
              "      <td>11</td>\n",
              "      <td>0.966656</td>\n",
              "      <td>0.024</td>\n",
              "      <td>0.002</td>\n",
              "      <td>57.342</td>\n",
              "      <td>-6.496</td>\n",
              "      <td>171.093</td>\n",
              "      <td>...</td>\n",
              "      <td>-104.683</td>\n",
              "      <td>183.089</td>\n",
              "      <td>-88.771</td>\n",
              "      <td>73.549</td>\n",
              "      <td>-71.127</td>\n",
              "      <td>82.475</td>\n",
              "      <td>-126.440</td>\n",
              "      <td>18.658</td>\n",
              "      <td>-44.770</td>\n",
              "      <td>25.989</td>\n",
              "    </tr>\n",
              "    <tr>\n",
              "      <th>1</th>\n",
              "      <td>4</td>\n",
              "      <td>-4.051</td>\n",
              "      <td>140.048</td>\n",
              "      <td>10</td>\n",
              "      <td>0.984710</td>\n",
              "      <td>0.025</td>\n",
              "      <td>0.000</td>\n",
              "      <td>57.414</td>\n",
              "      <td>-37.351</td>\n",
              "      <td>171.130</td>\n",
              "      <td>...</td>\n",
              "      <td>-87.267</td>\n",
              "      <td>42.798</td>\n",
              "      <td>-86.895</td>\n",
              "      <td>75.455</td>\n",
              "      <td>-65.807</td>\n",
              "      <td>106.918</td>\n",
              "      <td>-103.808</td>\n",
              "      <td>121.935</td>\n",
              "      <td>-38.892</td>\n",
              "      <td>22.513</td>\n",
              "    </tr>\n",
              "    <tr>\n",
              "      <th>2</th>\n",
              "      <td>4</td>\n",
              "      <td>-3.571</td>\n",
              "      <td>160.512</td>\n",
              "      <td>2</td>\n",
              "      <td>0.989900</td>\n",
              "      <td>0.026</td>\n",
              "      <td>0.003</td>\n",
              "      <td>57.422</td>\n",
              "      <td>-17.222</td>\n",
              "      <td>171.060</td>\n",
              "      <td>...</td>\n",
              "      <td>-98.673</td>\n",
              "      <td>141.365</td>\n",
              "      <td>-88.874</td>\n",
              "      <td>66.504</td>\n",
              "      <td>-67.433</td>\n",
              "      <td>80.621</td>\n",
              "      <td>-108.313</td>\n",
              "      <td>33.300</td>\n",
              "      <td>-43.733</td>\n",
              "      <td>25.744</td>\n",
              "    </tr>\n",
              "    <tr>\n",
              "      <th>3</th>\n",
              "      <td>4</td>\n",
              "      <td>-3.815</td>\n",
              "      <td>97.525</td>\n",
              "      <td>1</td>\n",
              "      <td>0.939207</td>\n",
              "      <td>0.013</td>\n",
              "      <td>0.000</td>\n",
              "      <td>57.765</td>\n",
              "      <td>-32.083</td>\n",
              "      <td>220.895</td>\n",
              "      <td>...</td>\n",
              "      <td>-77.515</td>\n",
              "      <td>141.178</td>\n",
              "      <td>-70.790</td>\n",
              "      <td>64.540</td>\n",
              "      <td>-63.667</td>\n",
              "      <td>96.675</td>\n",
              "      <td>-102.676</td>\n",
              "      <td>46.422</td>\n",
              "      <td>-59.439</td>\n",
              "      <td>37.082</td>\n",
              "    </tr>\n",
              "    <tr>\n",
              "      <th>4</th>\n",
              "      <td>4</td>\n",
              "      <td>-4.707</td>\n",
              "      <td>140.053</td>\n",
              "      <td>6</td>\n",
              "      <td>0.987738</td>\n",
              "      <td>0.063</td>\n",
              "      <td>0.000</td>\n",
              "      <td>56.872</td>\n",
              "      <td>-223.922</td>\n",
              "      <td>171.130</td>\n",
              "      <td>...</td>\n",
              "      <td>-96.147</td>\n",
              "      <td>38.303</td>\n",
              "      <td>-110.757</td>\n",
              "      <td>72.391</td>\n",
              "      <td>-55.935</td>\n",
              "      <td>110.332</td>\n",
              "      <td>-52.796</td>\n",
              "      <td>22.888</td>\n",
              "      <td>-50.414</td>\n",
              "      <td>32.758</td>\n",
              "    </tr>\n",
              "  </tbody>\n",
              "</table>\n",
              "<p>5 rows × 26 columns</p>\n",
              "</div>\n",
              "      <button class=\"colab-df-convert\" onclick=\"convertToInteractive('df-b8d4a752-0484-4307-97d4-d5d1535316c7')\"\n",
              "              title=\"Convert this dataframe to an interactive table.\"\n",
              "              style=\"display:none;\">\n",
              "        \n",
              "  <svg xmlns=\"http://www.w3.org/2000/svg\" height=\"24px\"viewBox=\"0 0 24 24\"\n",
              "       width=\"24px\">\n",
              "    <path d=\"M0 0h24v24H0V0z\" fill=\"none\"/>\n",
              "    <path d=\"M18.56 5.44l.94 2.06.94-2.06 2.06-.94-2.06-.94-.94-2.06-.94 2.06-2.06.94zm-11 1L8.5 8.5l.94-2.06 2.06-.94-2.06-.94L8.5 2.5l-.94 2.06-2.06.94zm10 10l.94 2.06.94-2.06 2.06-.94-2.06-.94-.94-2.06-.94 2.06-2.06.94z\"/><path d=\"M17.41 7.96l-1.37-1.37c-.4-.4-.92-.59-1.43-.59-.52 0-1.04.2-1.43.59L10.3 9.45l-7.72 7.72c-.78.78-.78 2.05 0 2.83L4 21.41c.39.39.9.59 1.41.59.51 0 1.02-.2 1.41-.59l7.78-7.78 2.81-2.81c.8-.78.8-2.07 0-2.86zM5.41 20L4 18.59l7.72-7.72 1.47 1.35L5.41 20z\"/>\n",
              "  </svg>\n",
              "      </button>\n",
              "      \n",
              "  <style>\n",
              "    .colab-df-container {\n",
              "      display:flex;\n",
              "      flex-wrap:wrap;\n",
              "      gap: 12px;\n",
              "    }\n",
              "\n",
              "    .colab-df-convert {\n",
              "      background-color: #E8F0FE;\n",
              "      border: none;\n",
              "      border-radius: 50%;\n",
              "      cursor: pointer;\n",
              "      display: none;\n",
              "      fill: #1967D2;\n",
              "      height: 32px;\n",
              "      padding: 0 0 0 0;\n",
              "      width: 32px;\n",
              "    }\n",
              "\n",
              "    .colab-df-convert:hover {\n",
              "      background-color: #E2EBFA;\n",
              "      box-shadow: 0px 1px 2px rgba(60, 64, 67, 0.3), 0px 1px 3px 1px rgba(60, 64, 67, 0.15);\n",
              "      fill: #174EA6;\n",
              "    }\n",
              "\n",
              "    [theme=dark] .colab-df-convert {\n",
              "      background-color: #3B4455;\n",
              "      fill: #D2E3FC;\n",
              "    }\n",
              "\n",
              "    [theme=dark] .colab-df-convert:hover {\n",
              "      background-color: #434B5C;\n",
              "      box-shadow: 0px 1px 3px 1px rgba(0, 0, 0, 0.15);\n",
              "      filter: drop-shadow(0px 1px 2px rgba(0, 0, 0, 0.3));\n",
              "      fill: #FFFFFF;\n",
              "    }\n",
              "  </style>\n",
              "\n",
              "      <script>\n",
              "        const buttonEl =\n",
              "          document.querySelector('#df-b8d4a752-0484-4307-97d4-d5d1535316c7 button.colab-df-convert');\n",
              "        buttonEl.style.display =\n",
              "          google.colab.kernel.accessAllowed ? 'block' : 'none';\n",
              "\n",
              "        async function convertToInteractive(key) {\n",
              "          const element = document.querySelector('#df-b8d4a752-0484-4307-97d4-d5d1535316c7');\n",
              "          const dataTable =\n",
              "            await google.colab.kernel.invokeFunction('convertToInteractive',\n",
              "                                                     [key], {});\n",
              "          if (!dataTable) return;\n",
              "\n",
              "          const docLinkHtml = 'Like what you see? Visit the ' +\n",
              "            '<a target=\"_blank\" href=https://colab.research.google.com/notebooks/data_table.ipynb>data table notebook</a>'\n",
              "            + ' to learn more about interactive tables.';\n",
              "          element.innerHTML = '';\n",
              "          dataTable['output_type'] = 'display_data';\n",
              "          await google.colab.output.renderOutput(dataTable, element);\n",
              "          const docLink = document.createElement('div');\n",
              "          docLink.innerHTML = docLinkHtml;\n",
              "          element.appendChild(docLink);\n",
              "        }\n",
              "      </script>\n",
              "    </div>\n",
              "  </div>\n",
              "  "
            ]
          },
          "metadata": {},
          "execution_count": 30
        }
      ],
      "source": [
        "music = pd.read_csv('music.csv', encoding = \"ISO-8859-1\")\n",
        "\n",
        "Xm = music[['timesignature', 'loudness', 'tempo', 'key', 'energy', 'pitch',\n",
        "           'timbre_0_min', 'timbre_0_max', 'timbre_1_min', 'timbre_1_max',\n",
        "           'timbre_2_min', 'timbre_2_max', 'timbre_3_min', 'timbre_3_max',\n",
        "           'timbre_4_min', 'timbre_4_max', 'timbre_5_min', 'timbre_5_max',\n",
        "           'timbre_6_min', 'timbre_6_max', 'timbre_7_min', 'timbre_7_max',\n",
        "           'timbre_10_min', 'timbre_10_max', 'timbre_11_min', 'timbre_11_max']]\n",
        "ym = music['Top10']\n",
        "\n",
        "Xm.head()"
      ]
    },
    {
      "cell_type": "code",
      "execution_count": null,
      "metadata": {
        "deletable": false,
        "editable": false,
        "colab": {
          "base_uri": "https://localhost:8080/",
          "height": 46
        },
        "id": "SHwSU7IJpX-m",
        "outputId": "5fb40385-fbef-470d-a96b-ca30f87cfeec"
      },
      "outputs": [
        {
          "output_type": "execute_result",
          "data": {
            "text/plain": [
              "q1 results: All test cases passed!"
            ],
            "text/html": [
              "<p><strong><pre style='display: inline;'>q1</pre></strong> passed! 🎉</p>"
            ]
          },
          "metadata": {},
          "execution_count": 31
        }
      ],
      "source": [
        "grader.check(\"q1\")"
      ]
    },
    {
      "cell_type": "markdown",
      "metadata": {
        "id": "UgpeFWbNPyGk"
      },
      "source": [
        "## Q2. (40 pts) Classify Top 10 Hits \n",
        "\n",
        "We want to report out the results of predicting the top-10 hits using either KNN, Decision Trees, or SVMS.  \n",
        "\n",
        "For each model, you will tune the hyper-parameters:    \n",
        "* KNN, number of neighbors = [3, 7, 11, 15] \n",
        "* Decision Trees, maximum depth of the tree = [2, 5, 10, 25], random_state = 5\n",
        "* SVM, use a rbf kernel with C = [0.001, 0.1, 10] \n",
        "\n",
        "In addition, you will want to see which scaling methods seems to work best for this dataset and method: `StandardScaler` or `MinMaxScaler`. \n",
        "\n",
        "Overall, you will construct three pipelines to perform this analysis one for each model: KNN, DT, SVM.  You will do an initial split of your data into training+validation set with 85% of the data and a test set with 15% of the data (random_state=5).  Use 10-fold stratified cross-validation with a random_state = 5. \n",
        "\n",
        "Additionally, when selecting the best hyper-parameters, instead of using accuracy you will use the `f1_measure`.  \n",
        " \n",
        "\n",
        "One note, we are not using the results here to select a certain model (that would be using the test set for more than just estimating the generalized performance), rather just to report out the results. "
      ]
    },
    {
      "cell_type": "code",
      "execution_count": null,
      "metadata": {
        "tags": [],
        "colab": {
          "base_uri": "https://localhost:8080/"
        },
        "id": "3irE3rBLpX-n",
        "outputId": "8a554435-aa9c-4e28-af90-c84adaad9dcb"
      },
      "outputs": [
        {
          "output_type": "stream",
          "name": "stdout",
          "text": [
            "{'knn__n_neighbors': 3, 'scaler': StandardScaler()}\n"
          ]
        }
      ],
      "source": [
        "# Split of the test set \n",
        "X_trainval, X_test, y_trainval, y_test = train_test_split(\n",
        "    Xm, ym, test_size=0.15, random_state=5)\n",
        "\n",
        "# ** KNN **\n",
        "# Create pipeline\n",
        "knn_pipe = Pipeline([('scaler', StandardScaler()), \n",
        "                 ('knn', KNeighborsClassifier())])\n",
        "\n",
        "# specify pipeline steps hyperparameters\n",
        "knn_param = {'scaler': [MinMaxScaler(), StandardScaler(), 'passthrough'],\n",
        "              'knn__n_neighbors': [3, 7, 11, 15]}\n",
        "\n",
        "# Setup cross-validation for repeatability \n",
        "cvStrat = StratifiedKFold(n_splits=10, random_state=5, shuffle=True)\n",
        "\n",
        "# instantiate and run GridSearchCV on pipeline:\n",
        "knn_grid = GridSearchCV(knn_pipe, knn_param, cv=cvStrat, scoring='f1')\n",
        "knn_grid.fit(X_trainval, y_trainval)\n",
        "\n",
        "# preditions on final test set \n",
        "knn_ytest = knn_grid.predict(X_test)\n",
        "\n",
        "print(knn_grid.best_params_)"
      ]
    },
    {
      "cell_type": "code",
      "execution_count": null,
      "metadata": {
        "tags": [],
        "colab": {
          "base_uri": "https://localhost:8080/"
        },
        "id": "J4SPkmZcpX-n",
        "outputId": "5aa7e1b4-4909-497c-a39b-473af65864a2"
      },
      "outputs": [
        {
          "output_type": "stream",
          "name": "stdout",
          "text": [
            "{'dt__max_depth': 25, 'scaler': StandardScaler()}\n"
          ]
        }
      ],
      "source": [
        "np.random.seed(5550)\n",
        "\n",
        "# ** DT **\n",
        "dt_pipe = Pipeline([('scaler', StandardScaler()), \n",
        "                 ('dt', tree.DecisionTreeClassifier(random_state=5))])\n",
        "\n",
        "dt_param = {'scaler': [MinMaxScaler(), StandardScaler(), 'passthrough'],\n",
        "              'dt__max_depth': [2, 5, 10, 25]}\n",
        "\n",
        "# Setup cross-validation for repeatability \n",
        "cvStrat = StratifiedKFold(n_splits=10, random_state=5, shuffle=True)\n",
        "\n",
        "# instantiate and run GridSearchCV on pipeline:\n",
        "dt_grid = GridSearchCV(dt_pipe, dt_param, cv=cvStrat, scoring='f1')\n",
        "dt_grid.fit(X_trainval, y_trainval)\n",
        "\n",
        "# preditions on final test set \n",
        "dt_ytest = dt_grid.predict(X_test)\n",
        "print(dt_grid.best_params_)"
      ]
    },
    {
      "cell_type": "code",
      "execution_count": null,
      "metadata": {
        "tags": [],
        "colab": {
          "base_uri": "https://localhost:8080/"
        },
        "id": "wBSimxQfpX-o",
        "outputId": "d11f32db-d6b9-481c-de7e-156d51a755d8"
      },
      "outputs": [
        {
          "output_type": "stream",
          "name": "stdout",
          "text": [
            "{'scaler': StandardScaler(), 'svm__C': 10}\n"
          ]
        }
      ],
      "source": [
        "# ** SVM ** \n",
        "svm_pipe = Pipeline([('scaler', StandardScaler()), \n",
        "                 ('svm', svm.SVC())])\n",
        "\n",
        "svm_param = {'scaler': [MinMaxScaler(), StandardScaler(), 'passthrough'],\n",
        "              'svm__C': [0.001, 0.1, 10]}\n",
        "\n",
        "# Setup cross-validation for repeatability \n",
        "cvStrat = StratifiedKFold(n_splits=10, random_state=5, shuffle=True)\n",
        "\n",
        "# instantiate and run GridSearchCV on pipeline:\n",
        "svm_grid = GridSearchCV(svm_pipe, svm_param, cv=cvStrat, scoring='f1')\n",
        "svm_grid.fit(X_trainval, y_trainval)\n",
        "\n",
        "# preditions on final test set\n",
        "svm_ytest = svm_grid.predict(X_test)\n",
        "\n",
        "print(svm_grid.best_params_)"
      ]
    },
    {
      "cell_type": "code",
      "execution_count": null,
      "metadata": {
        "deletable": false,
        "editable": false,
        "colab": {
          "base_uri": "https://localhost:8080/",
          "height": 46
        },
        "id": "5bQe78afpX-o",
        "outputId": "bb316caf-5c28-4aa6-b45d-e0a6e20ea766"
      },
      "outputs": [
        {
          "output_type": "execute_result",
          "data": {
            "text/plain": [
              "q2 results: All test cases passed!"
            ],
            "text/html": [
              "<p><strong><pre style='display: inline;'>q2</pre></strong> passed! 🙌</p>"
            ]
          },
          "metadata": {},
          "execution_count": 35
        }
      ],
      "source": [
        "grader.check(\"q2\")"
      ]
    },
    {
      "cell_type": "markdown",
      "metadata": {
        "id": "gxuRwzokpX-o"
      },
      "source": [
        "## Q3 - (10 pts) Table of Results \n",
        "\n",
        "Report in a DataFrame the following information for each model:\n",
        "* `Model` type (KNN, DT, SVM), \n",
        "* best `Hyper-parameters` for the model, e.g., (n_neighbors, 7), (max_depth, 10), ('C', 0.1)\n",
        "* `Accuracy`, \n",
        "* `Precision`,\n",
        "* `Recall`, \n",
        "* `F1-measure` and \n",
        "* `Balanced Acc` - balanced accuracy\n",
        "\n",
        "The last 5 values should all be calculated on the test set. \n",
        "\n"
      ]
    },
    {
      "cell_type": "code",
      "execution_count": null,
      "metadata": {
        "tags": [],
        "colab": {
          "base_uri": "https://localhost:8080/",
          "height": 143
        },
        "id": "X2hcCv13pX-p",
        "outputId": "d26e5011-ad6d-4685-b17c-f9905852b092"
      },
      "outputs": [
        {
          "output_type": "execute_result",
          "data": {
            "text/plain": [
              "  Model  Hyper-parameters  Accuracy  Precision    Recall  F1-measure  \\\n",
              "0   KNN  (n_neighbors, 3)  0.829376   0.437500  0.230769    0.302158   \n",
              "1    DT   (max_depth, 25)  0.781003   0.316940  0.318681    0.317808   \n",
              "2   SVM           (C, 10)  0.840809   0.505618  0.247253    0.332103   \n",
              "\n",
              "   Balanced Acc.  \n",
              "0       0.587112  \n",
              "1       0.593896  \n",
              "2       0.600590  "
            ],
            "text/html": [
              "\n",
              "  <div id=\"df-93b5a75b-5dea-4250-b37c-fcfc4284af6e\">\n",
              "    <div class=\"colab-df-container\">\n",
              "      <div>\n",
              "<style scoped>\n",
              "    .dataframe tbody tr th:only-of-type {\n",
              "        vertical-align: middle;\n",
              "    }\n",
              "\n",
              "    .dataframe tbody tr th {\n",
              "        vertical-align: top;\n",
              "    }\n",
              "\n",
              "    .dataframe thead th {\n",
              "        text-align: right;\n",
              "    }\n",
              "</style>\n",
              "<table border=\"1\" class=\"dataframe\">\n",
              "  <thead>\n",
              "    <tr style=\"text-align: right;\">\n",
              "      <th></th>\n",
              "      <th>Model</th>\n",
              "      <th>Hyper-parameters</th>\n",
              "      <th>Accuracy</th>\n",
              "      <th>Precision</th>\n",
              "      <th>Recall</th>\n",
              "      <th>F1-measure</th>\n",
              "      <th>Balanced Acc.</th>\n",
              "    </tr>\n",
              "  </thead>\n",
              "  <tbody>\n",
              "    <tr>\n",
              "      <th>0</th>\n",
              "      <td>KNN</td>\n",
              "      <td>(n_neighbors, 3)</td>\n",
              "      <td>0.829376</td>\n",
              "      <td>0.437500</td>\n",
              "      <td>0.230769</td>\n",
              "      <td>0.302158</td>\n",
              "      <td>0.587112</td>\n",
              "    </tr>\n",
              "    <tr>\n",
              "      <th>1</th>\n",
              "      <td>DT</td>\n",
              "      <td>(max_depth, 25)</td>\n",
              "      <td>0.781003</td>\n",
              "      <td>0.316940</td>\n",
              "      <td>0.318681</td>\n",
              "      <td>0.317808</td>\n",
              "      <td>0.593896</td>\n",
              "    </tr>\n",
              "    <tr>\n",
              "      <th>2</th>\n",
              "      <td>SVM</td>\n",
              "      <td>(C, 10)</td>\n",
              "      <td>0.840809</td>\n",
              "      <td>0.505618</td>\n",
              "      <td>0.247253</td>\n",
              "      <td>0.332103</td>\n",
              "      <td>0.600590</td>\n",
              "    </tr>\n",
              "  </tbody>\n",
              "</table>\n",
              "</div>\n",
              "      <button class=\"colab-df-convert\" onclick=\"convertToInteractive('df-93b5a75b-5dea-4250-b37c-fcfc4284af6e')\"\n",
              "              title=\"Convert this dataframe to an interactive table.\"\n",
              "              style=\"display:none;\">\n",
              "        \n",
              "  <svg xmlns=\"http://www.w3.org/2000/svg\" height=\"24px\"viewBox=\"0 0 24 24\"\n",
              "       width=\"24px\">\n",
              "    <path d=\"M0 0h24v24H0V0z\" fill=\"none\"/>\n",
              "    <path d=\"M18.56 5.44l.94 2.06.94-2.06 2.06-.94-2.06-.94-.94-2.06-.94 2.06-2.06.94zm-11 1L8.5 8.5l.94-2.06 2.06-.94-2.06-.94L8.5 2.5l-.94 2.06-2.06.94zm10 10l.94 2.06.94-2.06 2.06-.94-2.06-.94-.94-2.06-.94 2.06-2.06.94z\"/><path d=\"M17.41 7.96l-1.37-1.37c-.4-.4-.92-.59-1.43-.59-.52 0-1.04.2-1.43.59L10.3 9.45l-7.72 7.72c-.78.78-.78 2.05 0 2.83L4 21.41c.39.39.9.59 1.41.59.51 0 1.02-.2 1.41-.59l7.78-7.78 2.81-2.81c.8-.78.8-2.07 0-2.86zM5.41 20L4 18.59l7.72-7.72 1.47 1.35L5.41 20z\"/>\n",
              "  </svg>\n",
              "      </button>\n",
              "      \n",
              "  <style>\n",
              "    .colab-df-container {\n",
              "      display:flex;\n",
              "      flex-wrap:wrap;\n",
              "      gap: 12px;\n",
              "    }\n",
              "\n",
              "    .colab-df-convert {\n",
              "      background-color: #E8F0FE;\n",
              "      border: none;\n",
              "      border-radius: 50%;\n",
              "      cursor: pointer;\n",
              "      display: none;\n",
              "      fill: #1967D2;\n",
              "      height: 32px;\n",
              "      padding: 0 0 0 0;\n",
              "      width: 32px;\n",
              "    }\n",
              "\n",
              "    .colab-df-convert:hover {\n",
              "      background-color: #E2EBFA;\n",
              "      box-shadow: 0px 1px 2px rgba(60, 64, 67, 0.3), 0px 1px 3px 1px rgba(60, 64, 67, 0.15);\n",
              "      fill: #174EA6;\n",
              "    }\n",
              "\n",
              "    [theme=dark] .colab-df-convert {\n",
              "      background-color: #3B4455;\n",
              "      fill: #D2E3FC;\n",
              "    }\n",
              "\n",
              "    [theme=dark] .colab-df-convert:hover {\n",
              "      background-color: #434B5C;\n",
              "      box-shadow: 0px 1px 3px 1px rgba(0, 0, 0, 0.15);\n",
              "      filter: drop-shadow(0px 1px 2px rgba(0, 0, 0, 0.3));\n",
              "      fill: #FFFFFF;\n",
              "    }\n",
              "  </style>\n",
              "\n",
              "      <script>\n",
              "        const buttonEl =\n",
              "          document.querySelector('#df-93b5a75b-5dea-4250-b37c-fcfc4284af6e button.colab-df-convert');\n",
              "        buttonEl.style.display =\n",
              "          google.colab.kernel.accessAllowed ? 'block' : 'none';\n",
              "\n",
              "        async function convertToInteractive(key) {\n",
              "          const element = document.querySelector('#df-93b5a75b-5dea-4250-b37c-fcfc4284af6e');\n",
              "          const dataTable =\n",
              "            await google.colab.kernel.invokeFunction('convertToInteractive',\n",
              "                                                     [key], {});\n",
              "          if (!dataTable) return;\n",
              "\n",
              "          const docLinkHtml = 'Like what you see? Visit the ' +\n",
              "            '<a target=\"_blank\" href=https://colab.research.google.com/notebooks/data_table.ipynb>data table notebook</a>'\n",
              "            + ' to learn more about interactive tables.';\n",
              "          element.innerHTML = '';\n",
              "          dataTable['output_type'] = 'display_data';\n",
              "          await google.colab.output.renderOutput(dataTable, element);\n",
              "          const docLink = document.createElement('div');\n",
              "          docLink.innerHTML = docLinkHtml;\n",
              "          element.appendChild(docLink);\n",
              "        }\n",
              "      </script>\n",
              "    </div>\n",
              "  </div>\n",
              "  "
            ]
          },
          "metadata": {},
          "execution_count": 67
        }
      ],
      "source": [
        "# Build data frame of requested results\n",
        "results = pd.DataFrame({\n",
        "    \"Model\" : [\"KNN\", \"DT\", \"SVM\"],\n",
        "    \"Hyper-parameters\" : [(\"n_neighbors\", knn_grid.best_params_[\"knn__n_neighbors\"]),\n",
        "                         (\"max_depth\", dt_grid.best_params_[\"dt__max_depth\"]),\n",
        "                         (\"C\", svm_grid.best_params_[\"svm__C\"])],\n",
        "    \"Accuracy\" : [metrics.accuracy_score(y_test, knn_ytest),\n",
        "                  metrics.accuracy_score(y_test, dt_ytest),\n",
        "                  metrics.accuracy_score(y_test, svm_ytest)],\n",
        "    \"Precision\" : [metrics.precision_score(y_test, knn_ytest),\n",
        "                  metrics.precision_score(y_test, dt_ytest),\n",
        "                  metrics.precision_score(y_test, svm_ytest)],\n",
        "    \"Recall\" : [metrics.recall_score(y_test, knn_ytest),\n",
        "                  metrics.recall_score(y_test, dt_ytest),\n",
        "                  metrics.recall_score(y_test, svm_ytest)],\n",
        "    \"F1-measure\" : [metrics.f1_score(y_test, knn_ytest),\n",
        "                  metrics.f1_score(y_test, dt_ytest),\n",
        "                  metrics.f1_score(y_test, svm_ytest)],\n",
        "    \"Balanced Acc.\" : [metrics.balanced_accuracy_score(y_test, knn_ytest),\n",
        "                  metrics.balanced_accuracy_score(y_test, dt_ytest),\n",
        "                  metrics.balanced_accuracy_score(y_test, svm_ytest)]\n",
        "})\n",
        "\n",
        "results"
      ]
    },
    {
      "cell_type": "code",
      "execution_count": null,
      "metadata": {
        "deletable": false,
        "editable": false,
        "colab": {
          "base_uri": "https://localhost:8080/",
          "height": 46
        },
        "id": "tg3GPXZopX-p",
        "outputId": "172ff4c9-b7a5-434d-b09c-cf3e774c365c"
      },
      "outputs": [
        {
          "output_type": "execute_result",
          "data": {
            "text/plain": [
              "q3 results: All test cases passed!"
            ],
            "text/html": [
              "<p><strong><pre style='display: inline;'>q3</pre></strong> passed! 🚀</p>"
            ]
          },
          "metadata": {},
          "execution_count": 37
        }
      ],
      "source": [
        "grader.check(\"q3\")"
      ]
    },
    {
      "cell_type": "markdown",
      "metadata": {
        "id": "FS0Y3PQ3QXbR"
      },
      "source": [
        "<!-- BEGIN QUESTION -->\n",
        "\n",
        "## Q4 (10 pts). Results summary \n",
        "\n",
        "Summarize the results.  Write 5-8 sentences about the results observed and the overall performance on the problem. \n"
      ]
    },
    {
      "cell_type": "code",
      "source": [
        "ym.value_counts()"
      ],
      "metadata": {
        "colab": {
          "base_uri": "https://localhost:8080/"
        },
        "id": "ndGLjs2EsMBD",
        "outputId": "2f47e94c-b2e3-434b-b097-ae3388b4f45f"
      },
      "execution_count": null,
      "outputs": [
        {
          "output_type": "execute_result",
          "data": {
            "text/plain": [
              "0    6455\n",
              "1    1119\n",
              "Name: Top10, dtype: int64"
            ]
          },
          "metadata": {},
          "execution_count": 38
        }
      ]
    },
    {
      "cell_type": "markdown",
      "metadata": {
        "id": "dEbppjjBpX-q"
      },
      "source": [
        "**ANSWER**\n",
        "\n",
        "The dataset is unbalanced, as there are nearly 6 times more of negative samples than positive samples in the dataset.\n",
        "\n",
        "All three models have good accuracy values. However, each model has poor balanced accuracy and F-1 measure scores. Moreover, precision and recall values for each model are not very high. \n",
        "\n",
        "For example, KNN model had a precision and a recall of roughly 0.44 and 0.23 on the test set, respectively; which prectically means that 44% of instances that KNN classifies as positve are actually positive and KNN accurately determines 23% of instances that are actually positive. The fact that KNN and SVM models both had around twice as high precision as recall indicates that these models are strict in classifiying an instance as positive, which makes them fail to capture many actually positive instances."
      ]
    },
    {
      "cell_type": "markdown",
      "metadata": {
        "id": "PeDTtgxYpX-q"
      },
      "source": [
        "<!-- END QUESTION -->\n",
        "\n",
        "## Bonus1 (12 pts).  Improve Performance of Models\n",
        "\n",
        "The problem we are working with deals with an imbalanced data set."
      ]
    },
    {
      "cell_type": "code",
      "execution_count": null,
      "metadata": {
        "id": "Lbf_9MmJpX-r"
      },
      "outputs": [],
      "source": [
        "npos = len(ym[ym==1])\n",
        "nneg = len(ym[ym==0])\n",
        "# Percentage of positive samples in data set\n",
        "npos / (nneg + npos)*100"
      ]
    },
    {
      "cell_type": "markdown",
      "metadata": {
        "id": "GfKy9cvVpX-r"
      },
      "source": [
        "The imbalanced data is one explanation for the poor performance of our classifiers above (among other reasons).  \n",
        "\n",
        "Let's try to improve this performance.  Classification with imbalanced data can be improved using a number of different techniques.  Two approaches are: \n",
        "\n",
        "* Cost-sensitive or weighted learning approach\n",
        "* Data or sampling approach \n",
        "\n",
        "Here we will examing the class weighting approach. Some of our traditional classification models are adapted to include a penalty of cost for the different classes.  In our problem, we have a minority class \"Top10 Hits\" and the majority class \"Non-Top10 Hits\".  We can use class weighting to penalize the model for misclassifying the minority class more than the majority class.  \n",
        "\n",
        "We will make use of the `scikit-learn` parameter `class_weight`.  Setting `class_weight ='balanced'` will have a weight applied inversely proportional to the class frequency.  \n",
        "\n",
        "Note, not all classification models have this parameter to set, e.g., KNN. \n",
        "\n",
        "Rerun your DT and SVM pipelines from above (Q2) now with the DT and SVM using the parameter `class_weight ='balanced'`\n",
        "\n",
        "Add the resulting models `DT bal class weights` and `SVM bal class weights` and their performance to the results table from Q3.  \n",
        "\n"
      ]
    },
    {
      "cell_type": "code",
      "execution_count": null,
      "metadata": {
        "tags": [],
        "colab": {
          "base_uri": "https://localhost:8080/"
        },
        "id": "DqWUXootpX-r",
        "outputId": "7b292c3d-cf96-477d-ec23-05106967798c"
      },
      "outputs": [
        {
          "output_type": "stream",
          "name": "stdout",
          "text": [
            "{'dt__max_depth': 10, 'scaler': MinMaxScaler()}\n"
          ]
        }
      ],
      "source": [
        "\n",
        "# ** DT ** \n",
        "# include class_weight in DT parameters\n",
        "dt_pipe2 = Pipeline([('scaler', StandardScaler()), \n",
        "           ('dt', tree.DecisionTreeClassifier(random_state=5, class_weight ='balanced'))])\n",
        "\n",
        "dt_param2 = {'scaler': [MinMaxScaler(), StandardScaler(), 'passthrough'],\n",
        "              'dt__max_depth': [2, 5, 10, 25]}\n",
        "\n",
        "# Setup cross-validation for repeatability \n",
        "cvStrat = StratifiedKFold(n_splits=10, random_state=5, shuffle=True)\n",
        "\n",
        "# instantiate and run GridSearchCV on pipeline:\n",
        "dt_grid2 = GridSearchCV(dt_pipe2, dt_param2, cv=cvStrat, scoring='f1')\n",
        "dt_grid2.fit(X_trainval, y_trainval)\n",
        "\n",
        "# preditions on final test set \n",
        "dt_ytest2 = dt_grid2.predict(X_test)\n",
        "\n",
        "print(dt_grid2.best_params_)"
      ]
    },
    {
      "cell_type": "code",
      "execution_count": null,
      "metadata": {
        "tags": [],
        "colab": {
          "base_uri": "https://localhost:8080/"
        },
        "id": "k7EYLsjMpX-s",
        "outputId": "e0b9e484-1b7f-48bc-fc19-b8a3588bc068"
      },
      "outputs": [
        {
          "output_type": "stream",
          "name": "stdout",
          "text": [
            "{'scaler': MinMaxScaler(), 'svm__C': 10}\n"
          ]
        }
      ],
      "source": [
        "# ** SVM ** \n",
        "# include class_weight in SVM parameters\n",
        "svm_pipe2 = Pipeline([('scaler', StandardScaler()), \n",
        "            ('svm', svm.SVC(class_weight ='balanced'))])\n",
        "\n",
        "svm_param2 = {'scaler': [MinMaxScaler(), StandardScaler(), 'passthrough'],\n",
        "              'svm__C': [0.001, 0.1, 10]}\n",
        "\n",
        "# Setup cross-validation for repeatability \n",
        "cvStrat = StratifiedKFold(n_splits=10, random_state=5, shuffle=True)\n",
        "\n",
        "# instantiate and run GridSearchCV on pipeline:\n",
        "svm_grid2 = GridSearchCV(svm_pipe2, svm_param2, cv=cvStrat, scoring='f1')\n",
        "svm_grid2.fit(X_trainval, y_trainval)\n",
        "\n",
        "# preditions on final test set\n",
        "svm_ytest2 = svm_grid2.predict(X_test)\n",
        "\n",
        "print(svm_grid2.best_params_)"
      ]
    },
    {
      "cell_type": "code",
      "execution_count": null,
      "metadata": {
        "tags": [],
        "colab": {
          "base_uri": "https://localhost:8080/",
          "height": 206
        },
        "id": "H0IJEqINpX-s",
        "outputId": "53bce73b-a9a0-4a91-b30b-22b7408ef8be"
      },
      "outputs": [
        {
          "output_type": "execute_result",
          "data": {
            "text/plain": [
              "                        Model  Hyper-parameters  Accuracy  Precision  \\\n",
              "0                         KNN  (n_neighbors, 3)  0.829376   0.437500   \n",
              "1                          DT   (max_depth, 25)  0.781003   0.316940   \n",
              "2                         SVM           (C, 10)  0.840809   0.505618   \n",
              "3   DT balanced class weights   (max_depth, 10)  0.687775   0.275325   \n",
              "4  SVM balanced class weights           (C, 10)  0.756376   0.355623   \n",
              "\n",
              "     Recall  F1-measure  Balanced Acc.  \n",
              "0  0.230769    0.302158       0.587112  \n",
              "1  0.318681    0.317808       0.593896  \n",
              "2  0.247253    0.332103       0.600590  \n",
              "3  0.582418    0.373898       0.645135  \n",
              "4  0.642857    0.457926       0.710434  "
            ],
            "text/html": [
              "\n",
              "  <div id=\"df-45cf8d76-96e2-46f9-afce-6108703086cc\">\n",
              "    <div class=\"colab-df-container\">\n",
              "      <div>\n",
              "<style scoped>\n",
              "    .dataframe tbody tr th:only-of-type {\n",
              "        vertical-align: middle;\n",
              "    }\n",
              "\n",
              "    .dataframe tbody tr th {\n",
              "        vertical-align: top;\n",
              "    }\n",
              "\n",
              "    .dataframe thead th {\n",
              "        text-align: right;\n",
              "    }\n",
              "</style>\n",
              "<table border=\"1\" class=\"dataframe\">\n",
              "  <thead>\n",
              "    <tr style=\"text-align: right;\">\n",
              "      <th></th>\n",
              "      <th>Model</th>\n",
              "      <th>Hyper-parameters</th>\n",
              "      <th>Accuracy</th>\n",
              "      <th>Precision</th>\n",
              "      <th>Recall</th>\n",
              "      <th>F1-measure</th>\n",
              "      <th>Balanced Acc.</th>\n",
              "    </tr>\n",
              "  </thead>\n",
              "  <tbody>\n",
              "    <tr>\n",
              "      <th>0</th>\n",
              "      <td>KNN</td>\n",
              "      <td>(n_neighbors, 3)</td>\n",
              "      <td>0.829376</td>\n",
              "      <td>0.437500</td>\n",
              "      <td>0.230769</td>\n",
              "      <td>0.302158</td>\n",
              "      <td>0.587112</td>\n",
              "    </tr>\n",
              "    <tr>\n",
              "      <th>1</th>\n",
              "      <td>DT</td>\n",
              "      <td>(max_depth, 25)</td>\n",
              "      <td>0.781003</td>\n",
              "      <td>0.316940</td>\n",
              "      <td>0.318681</td>\n",
              "      <td>0.317808</td>\n",
              "      <td>0.593896</td>\n",
              "    </tr>\n",
              "    <tr>\n",
              "      <th>2</th>\n",
              "      <td>SVM</td>\n",
              "      <td>(C, 10)</td>\n",
              "      <td>0.840809</td>\n",
              "      <td>0.505618</td>\n",
              "      <td>0.247253</td>\n",
              "      <td>0.332103</td>\n",
              "      <td>0.600590</td>\n",
              "    </tr>\n",
              "    <tr>\n",
              "      <th>3</th>\n",
              "      <td>DT balanced class weights</td>\n",
              "      <td>(max_depth, 10)</td>\n",
              "      <td>0.687775</td>\n",
              "      <td>0.275325</td>\n",
              "      <td>0.582418</td>\n",
              "      <td>0.373898</td>\n",
              "      <td>0.645135</td>\n",
              "    </tr>\n",
              "    <tr>\n",
              "      <th>4</th>\n",
              "      <td>SVM balanced class weights</td>\n",
              "      <td>(C, 10)</td>\n",
              "      <td>0.756376</td>\n",
              "      <td>0.355623</td>\n",
              "      <td>0.642857</td>\n",
              "      <td>0.457926</td>\n",
              "      <td>0.710434</td>\n",
              "    </tr>\n",
              "  </tbody>\n",
              "</table>\n",
              "</div>\n",
              "      <button class=\"colab-df-convert\" onclick=\"convertToInteractive('df-45cf8d76-96e2-46f9-afce-6108703086cc')\"\n",
              "              title=\"Convert this dataframe to an interactive table.\"\n",
              "              style=\"display:none;\">\n",
              "        \n",
              "  <svg xmlns=\"http://www.w3.org/2000/svg\" height=\"24px\"viewBox=\"0 0 24 24\"\n",
              "       width=\"24px\">\n",
              "    <path d=\"M0 0h24v24H0V0z\" fill=\"none\"/>\n",
              "    <path d=\"M18.56 5.44l.94 2.06.94-2.06 2.06-.94-2.06-.94-.94-2.06-.94 2.06-2.06.94zm-11 1L8.5 8.5l.94-2.06 2.06-.94-2.06-.94L8.5 2.5l-.94 2.06-2.06.94zm10 10l.94 2.06.94-2.06 2.06-.94-2.06-.94-.94-2.06-.94 2.06-2.06.94z\"/><path d=\"M17.41 7.96l-1.37-1.37c-.4-.4-.92-.59-1.43-.59-.52 0-1.04.2-1.43.59L10.3 9.45l-7.72 7.72c-.78.78-.78 2.05 0 2.83L4 21.41c.39.39.9.59 1.41.59.51 0 1.02-.2 1.41-.59l7.78-7.78 2.81-2.81c.8-.78.8-2.07 0-2.86zM5.41 20L4 18.59l7.72-7.72 1.47 1.35L5.41 20z\"/>\n",
              "  </svg>\n",
              "      </button>\n",
              "      \n",
              "  <style>\n",
              "    .colab-df-container {\n",
              "      display:flex;\n",
              "      flex-wrap:wrap;\n",
              "      gap: 12px;\n",
              "    }\n",
              "\n",
              "    .colab-df-convert {\n",
              "      background-color: #E8F0FE;\n",
              "      border: none;\n",
              "      border-radius: 50%;\n",
              "      cursor: pointer;\n",
              "      display: none;\n",
              "      fill: #1967D2;\n",
              "      height: 32px;\n",
              "      padding: 0 0 0 0;\n",
              "      width: 32px;\n",
              "    }\n",
              "\n",
              "    .colab-df-convert:hover {\n",
              "      background-color: #E2EBFA;\n",
              "      box-shadow: 0px 1px 2px rgba(60, 64, 67, 0.3), 0px 1px 3px 1px rgba(60, 64, 67, 0.15);\n",
              "      fill: #174EA6;\n",
              "    }\n",
              "\n",
              "    [theme=dark] .colab-df-convert {\n",
              "      background-color: #3B4455;\n",
              "      fill: #D2E3FC;\n",
              "    }\n",
              "\n",
              "    [theme=dark] .colab-df-convert:hover {\n",
              "      background-color: #434B5C;\n",
              "      box-shadow: 0px 1px 3px 1px rgba(0, 0, 0, 0.15);\n",
              "      filter: drop-shadow(0px 1px 2px rgba(0, 0, 0, 0.3));\n",
              "      fill: #FFFFFF;\n",
              "    }\n",
              "  </style>\n",
              "\n",
              "      <script>\n",
              "        const buttonEl =\n",
              "          document.querySelector('#df-45cf8d76-96e2-46f9-afce-6108703086cc button.colab-df-convert');\n",
              "        buttonEl.style.display =\n",
              "          google.colab.kernel.accessAllowed ? 'block' : 'none';\n",
              "\n",
              "        async function convertToInteractive(key) {\n",
              "          const element = document.querySelector('#df-45cf8d76-96e2-46f9-afce-6108703086cc');\n",
              "          const dataTable =\n",
              "            await google.colab.kernel.invokeFunction('convertToInteractive',\n",
              "                                                     [key], {});\n",
              "          if (!dataTable) return;\n",
              "\n",
              "          const docLinkHtml = 'Like what you see? Visit the ' +\n",
              "            '<a target=\"_blank\" href=https://colab.research.google.com/notebooks/data_table.ipynb>data table notebook</a>'\n",
              "            + ' to learn more about interactive tables.';\n",
              "          element.innerHTML = '';\n",
              "          dataTable['output_type'] = 'display_data';\n",
              "          await google.colab.output.renderOutput(dataTable, element);\n",
              "          const docLink = document.createElement('div');\n",
              "          docLink.innerHTML = docLinkHtml;\n",
              "          element.appendChild(docLink);\n",
              "        }\n",
              "      </script>\n",
              "    </div>\n",
              "  </div>\n",
              "  "
            ]
          },
          "metadata": {},
          "execution_count": 68
        }
      ],
      "source": [
        "# Add \"DT balanced class weights\" and \"SVM balanced class weights\" rows \n",
        "#  to the results table. \n",
        "results.loc[3] = [\n",
        " \"DT balanced class weights\",\n",
        " (\"max_depth\", dt_grid2.best_params_[\"dt__max_depth\"]),\n",
        " metrics.accuracy_score(y_test, dt_ytest2),\n",
        " metrics.precision_score(y_test, dt_ytest2),\n",
        " metrics.recall_score(y_test, dt_ytest2),\n",
        " metrics.f1_score(y_test, dt_ytest2),\n",
        " metrics.balanced_accuracy_score(y_test, dt_ytest2)\n",
        " ]\n",
        "\n",
        "results.loc[4] = [\n",
        " \"SVM balanced class weights\",\n",
        " (\"C\", svm_grid2.best_params_[\"svm__C\"]),\n",
        " metrics.accuracy_score(y_test, svm_ytest2),\n",
        " metrics.precision_score(y_test, svm_ytest2),\n",
        " metrics.recall_score(y_test, svm_ytest2),\n",
        " metrics.f1_score(y_test, svm_ytest2),\n",
        " metrics.balanced_accuracy_score(y_test, svm_ytest2)\n",
        " ]\n",
        "\n",
        "results"
      ]
    },
    {
      "cell_type": "code",
      "execution_count": null,
      "metadata": {
        "deletable": false,
        "editable": false,
        "colab": {
          "base_uri": "https://localhost:8080/",
          "height": 46
        },
        "id": "Gv37EYAEpX-t",
        "outputId": "b9565e9d-5492-4220-b1d9-ffbaf756b0f6"
      },
      "outputs": [
        {
          "output_type": "execute_result",
          "data": {
            "text/plain": [
              "b1 results: All test cases passed!"
            ],
            "text/html": [
              "<p><strong><pre style='display: inline;'>b1</pre></strong> passed! 🍀</p>"
            ]
          },
          "metadata": {},
          "execution_count": 69
        }
      ],
      "source": [
        "grader.check(\"b1\")"
      ]
    },
    {
      "cell_type": "markdown",
      "metadata": {
        "id": "YGM5gXOFpX-t"
      },
      "source": [
        "## Bonus2 (18 pts). Improve Model Performance (part 2)\n",
        "\n",
        "For this problem, you can improve the model performance by using a data or sampling approach. \n",
        "\n",
        "We will make use of the package `imbalanced-learn` to help with the sampling methods. \n",
        "[`imbalanced-learn`](https://imbalanced-learn.org/stable/) extends `scikit-learn` to provide tools for classification with imbalanced data. \n",
        "\n",
        "In general, the data or sampling approach tries to correct the imbalance in the data with two main methods: \n",
        "\n",
        "* Oversampling - generating new synthetic examples from the minority class \n",
        "* Undersampling - reduce the number of samples in the majority class to match the minority class \n",
        "\n",
        "Both methods have their advantages and disadvantages. \n",
        "\n",
        "We will make use of a commen techniques known as SMOTE - Synthetic Minority Oversampling TEchnique.  \n",
        "https://imbalanced-learn.org/stable/references/generated/imblearn.over_sampling.SMOTE.html\n",
        "\n",
        "\n",
        "Refactor your code for Q2 to now add a sampling step to your pipeline.  This step will use SMOTE with the default options (random_state=5).  \n",
        "\n",
        "You will now use the `ImbPipeline()` function (renaming of the `Pipeline` function in `imbalanced-learn`).  \n",
        "\n",
        "Make pipelines for KNN, DT, and SVM with the same hyper-parameters as above.  For this problem, you will not use the `class_weight` option.  \n",
        "\n",
        "Add your results as new rows to the results table for `KNN SMOTE`, `DT SMOTE`, and `SVM SMOTE`. \n"
      ]
    },
    {
      "cell_type": "code",
      "execution_count": null,
      "metadata": {
        "tags": [],
        "colab": {
          "base_uri": "https://localhost:8080/"
        },
        "id": "hI3Cy3YDpX-t",
        "outputId": "b4931d4d-e91d-41d0-8759-77ad07c4487a"
      },
      "outputs": [
        {
          "output_type": "stream",
          "name": "stdout",
          "text": [
            "{'knn__n_neighbors': 3, 'scaler': StandardScaler()}\n"
          ]
        }
      ],
      "source": [
        "# from imblearn.pipeline import Pipeline as ImbPipeline\n",
        "# from imblearn.over_sampling import SMOTE\n",
        "\n",
        "# ** KNN ** \n",
        "# Include SMOTE as a step after scaling in the pipeline\n",
        "# Create pipeline\n",
        "knn_pipe3 = ImbPipeline([\n",
        "    ('scaler', StandardScaler()),\n",
        "    ('knn_smote', SMOTE(random_state=5)),\n",
        "    ('knn', KNeighborsClassifier())\n",
        "    ])\n",
        "\n",
        "# specify pipeline steps hyperparameters\n",
        "knn_param3 = {'scaler': [MinMaxScaler(), StandardScaler(), 'passthrough'],\n",
        "              'knn__n_neighbors': [3, 7, 11, 15]}\n",
        "\n",
        "# Setup cross-validation for repeatability \n",
        "cvStrat = StratifiedKFold(n_splits=10, random_state=5, shuffle=True)\n",
        "\n",
        "# instantiate and run GridSearchCV on pipeline:\n",
        "knn_grid3 = GridSearchCV(knn_pipe3, knn_param3, cv=cvStrat, scoring='f1')\n",
        "knn_grid3.fit(X_trainval, y_trainval)\n",
        "\n",
        "# preditions on final test set \n",
        "knn_ytest3 = knn_grid3.predict(X_test)\n",
        "\n",
        "print(knn_grid3.best_params_)"
      ]
    },
    {
      "cell_type": "code",
      "execution_count": null,
      "metadata": {
        "tags": [],
        "colab": {
          "base_uri": "https://localhost:8080/"
        },
        "id": "8l23tFtxpX-u",
        "outputId": "1289b6a1-7c36-42b9-9d54-238c7943a4f1"
      },
      "outputs": [
        {
          "output_type": "stream",
          "name": "stdout",
          "text": [
            "{'dt__max_depth': 5, 'scaler': StandardScaler()}\n"
          ]
        }
      ],
      "source": [
        "# from imblearn.pipeline import Pipeline as ImbPipeline\n",
        "# from imblearn.over_sampling import SMOTE\n",
        "\n",
        "# ** DT ** \n",
        "# Include SMOTE as a step after scaling in the pipeline\n",
        "#   set random_state=5 for SMOTE\n",
        "dt_pipe3 = ImbPipeline([\n",
        "    ('scaler', StandardScaler()),\n",
        "    ('dt_smote', SMOTE(random_state=5)),\n",
        "    ('dt', tree.DecisionTreeClassifier(random_state=5))\n",
        "     ])\n",
        "\n",
        "dt_param3 = {'scaler': [MinMaxScaler(), StandardScaler(), 'passthrough'],\n",
        "              'dt__max_depth': [2, 5, 10, 25]} \n",
        "\n",
        "# Setup cross-validation for repeatability \n",
        "cvStrat = StratifiedKFold(n_splits=10, random_state=5, shuffle=True)\n",
        "\n",
        "# instantiate and run GridSearchCV on pipeline:\n",
        "dt_grid3 = GridSearchCV(dt_pipe3, dt_param3, cv=cvStrat, scoring='f1')\n",
        "dt_grid3.fit(X_trainval, y_trainval)\n",
        "\n",
        "# preditions on final test set \n",
        "dt_ytest3 = dt_grid3.predict(X_test)\n",
        "\n",
        "print(dt_grid3.best_params_)"
      ]
    },
    {
      "cell_type": "code",
      "execution_count": null,
      "metadata": {
        "tags": [],
        "colab": {
          "base_uri": "https://localhost:8080/"
        },
        "id": "olB5NptVpX-u",
        "outputId": "96ffcb41-bbcf-4de3-ac40-1fa95c8dab9a"
      },
      "outputs": [
        {
          "output_type": "stream",
          "name": "stdout",
          "text": [
            "{'scaler': StandardScaler(), 'svm__C': 0.1}\n"
          ]
        }
      ],
      "source": [
        "# from imblearn.pipeline import Pipeline as ImbPipeline\n",
        "# from imblearn.over_sampling import SMOTE\n",
        "\n",
        "# ** SVM ** \n",
        "# include SMOTE as a step after scaling in the pipeline\n",
        "#   set random_state=5 for SMOTE\n",
        "svm_pipe3 = ImbPipeline([\n",
        "    ('scaler', StandardScaler()), \n",
        "    ('svm_smote', SMOTE(random_state=5)),\n",
        "    ('svm', svm.SVC())\n",
        "    ])\n",
        "\n",
        "svm_param3 = {'scaler': [MinMaxScaler(), StandardScaler(), 'passthrough'],\n",
        "              'svm__C': [0.001, 0.1, 10]}\n",
        "\n",
        "# Setup cross-validation for repeatability \n",
        "cvStrat = StratifiedKFold(n_splits=10, random_state=5, shuffle=True)\n",
        "\n",
        "# instantiate and run GridSearchCV on pipeline:\n",
        "svm_grid3 = GridSearchCV(svm_pipe3, svm_param3, cv=cvStrat, scoring='f1')\n",
        "svm_grid3.fit(X_trainval, y_trainval)\n",
        "\n",
        "# preditions on final test set\n",
        "svm_ytest3 = svm_grid3.predict(X_test)\n",
        "\n",
        "print(svm_grid3.best_params_)"
      ]
    },
    {
      "cell_type": "code",
      "execution_count": null,
      "metadata": {
        "tags": [],
        "colab": {
          "base_uri": "https://localhost:8080/",
          "height": 300
        },
        "id": "hffhomN-pX-v",
        "outputId": "94c3e3e2-0ac2-43fb-c216-1c5276332adb"
      },
      "outputs": [
        {
          "output_type": "execute_result",
          "data": {
            "text/plain": [
              "                        Model  Hyper-parameters  Accuracy  Precision  \\\n",
              "0                         KNN  (n_neighbors, 3)  0.829376   0.437500   \n",
              "1                          DT   (max_depth, 25)  0.781003   0.316940   \n",
              "2                         SVM           (C, 10)  0.840809   0.505618   \n",
              "3   DT balanced class weights   (max_depth, 10)  0.687775   0.275325   \n",
              "4  SVM balanced class weights           (C, 10)  0.756376   0.355623   \n",
              "5                   KNN SMOTE  (n_neighbors, 3)  0.643799   0.264271   \n",
              "6                    DT SMOTE    (max_depth, 5)  0.647318   0.243560   \n",
              "7                   SVM SMOTE          (C, 0.1)  0.760774   0.360248   \n",
              "\n",
              "     Recall  F1-measure  Balanced Acc.  \n",
              "0  0.230769    0.302158       0.587112  \n",
              "1  0.318681    0.317808       0.593896  \n",
              "2  0.247253    0.332103       0.600590  \n",
              "3  0.582418    0.373898       0.645135  \n",
              "4  0.642857    0.457926       0.710434  \n",
              "5  0.686813    0.381679       0.661208  \n",
              "6  0.571429    0.341544       0.616604  \n",
              "7  0.637363    0.460317       0.710828  "
            ],
            "text/html": [
              "\n",
              "  <div id=\"df-3344c3db-f7ba-4fff-afc7-3ad66191c1e6\">\n",
              "    <div class=\"colab-df-container\">\n",
              "      <div>\n",
              "<style scoped>\n",
              "    .dataframe tbody tr th:only-of-type {\n",
              "        vertical-align: middle;\n",
              "    }\n",
              "\n",
              "    .dataframe tbody tr th {\n",
              "        vertical-align: top;\n",
              "    }\n",
              "\n",
              "    .dataframe thead th {\n",
              "        text-align: right;\n",
              "    }\n",
              "</style>\n",
              "<table border=\"1\" class=\"dataframe\">\n",
              "  <thead>\n",
              "    <tr style=\"text-align: right;\">\n",
              "      <th></th>\n",
              "      <th>Model</th>\n",
              "      <th>Hyper-parameters</th>\n",
              "      <th>Accuracy</th>\n",
              "      <th>Precision</th>\n",
              "      <th>Recall</th>\n",
              "      <th>F1-measure</th>\n",
              "      <th>Balanced Acc.</th>\n",
              "    </tr>\n",
              "  </thead>\n",
              "  <tbody>\n",
              "    <tr>\n",
              "      <th>0</th>\n",
              "      <td>KNN</td>\n",
              "      <td>(n_neighbors, 3)</td>\n",
              "      <td>0.829376</td>\n",
              "      <td>0.437500</td>\n",
              "      <td>0.230769</td>\n",
              "      <td>0.302158</td>\n",
              "      <td>0.587112</td>\n",
              "    </tr>\n",
              "    <tr>\n",
              "      <th>1</th>\n",
              "      <td>DT</td>\n",
              "      <td>(max_depth, 25)</td>\n",
              "      <td>0.781003</td>\n",
              "      <td>0.316940</td>\n",
              "      <td>0.318681</td>\n",
              "      <td>0.317808</td>\n",
              "      <td>0.593896</td>\n",
              "    </tr>\n",
              "    <tr>\n",
              "      <th>2</th>\n",
              "      <td>SVM</td>\n",
              "      <td>(C, 10)</td>\n",
              "      <td>0.840809</td>\n",
              "      <td>0.505618</td>\n",
              "      <td>0.247253</td>\n",
              "      <td>0.332103</td>\n",
              "      <td>0.600590</td>\n",
              "    </tr>\n",
              "    <tr>\n",
              "      <th>3</th>\n",
              "      <td>DT balanced class weights</td>\n",
              "      <td>(max_depth, 10)</td>\n",
              "      <td>0.687775</td>\n",
              "      <td>0.275325</td>\n",
              "      <td>0.582418</td>\n",
              "      <td>0.373898</td>\n",
              "      <td>0.645135</td>\n",
              "    </tr>\n",
              "    <tr>\n",
              "      <th>4</th>\n",
              "      <td>SVM balanced class weights</td>\n",
              "      <td>(C, 10)</td>\n",
              "      <td>0.756376</td>\n",
              "      <td>0.355623</td>\n",
              "      <td>0.642857</td>\n",
              "      <td>0.457926</td>\n",
              "      <td>0.710434</td>\n",
              "    </tr>\n",
              "    <tr>\n",
              "      <th>5</th>\n",
              "      <td>KNN SMOTE</td>\n",
              "      <td>(n_neighbors, 3)</td>\n",
              "      <td>0.643799</td>\n",
              "      <td>0.264271</td>\n",
              "      <td>0.686813</td>\n",
              "      <td>0.381679</td>\n",
              "      <td>0.661208</td>\n",
              "    </tr>\n",
              "    <tr>\n",
              "      <th>6</th>\n",
              "      <td>DT SMOTE</td>\n",
              "      <td>(max_depth, 5)</td>\n",
              "      <td>0.647318</td>\n",
              "      <td>0.243560</td>\n",
              "      <td>0.571429</td>\n",
              "      <td>0.341544</td>\n",
              "      <td>0.616604</td>\n",
              "    </tr>\n",
              "    <tr>\n",
              "      <th>7</th>\n",
              "      <td>SVM SMOTE</td>\n",
              "      <td>(C, 0.1)</td>\n",
              "      <td>0.760774</td>\n",
              "      <td>0.360248</td>\n",
              "      <td>0.637363</td>\n",
              "      <td>0.460317</td>\n",
              "      <td>0.710828</td>\n",
              "    </tr>\n",
              "  </tbody>\n",
              "</table>\n",
              "</div>\n",
              "      <button class=\"colab-df-convert\" onclick=\"convertToInteractive('df-3344c3db-f7ba-4fff-afc7-3ad66191c1e6')\"\n",
              "              title=\"Convert this dataframe to an interactive table.\"\n",
              "              style=\"display:none;\">\n",
              "        \n",
              "  <svg xmlns=\"http://www.w3.org/2000/svg\" height=\"24px\"viewBox=\"0 0 24 24\"\n",
              "       width=\"24px\">\n",
              "    <path d=\"M0 0h24v24H0V0z\" fill=\"none\"/>\n",
              "    <path d=\"M18.56 5.44l.94 2.06.94-2.06 2.06-.94-2.06-.94-.94-2.06-.94 2.06-2.06.94zm-11 1L8.5 8.5l.94-2.06 2.06-.94-2.06-.94L8.5 2.5l-.94 2.06-2.06.94zm10 10l.94 2.06.94-2.06 2.06-.94-2.06-.94-.94-2.06-.94 2.06-2.06.94z\"/><path d=\"M17.41 7.96l-1.37-1.37c-.4-.4-.92-.59-1.43-.59-.52 0-1.04.2-1.43.59L10.3 9.45l-7.72 7.72c-.78.78-.78 2.05 0 2.83L4 21.41c.39.39.9.59 1.41.59.51 0 1.02-.2 1.41-.59l7.78-7.78 2.81-2.81c.8-.78.8-2.07 0-2.86zM5.41 20L4 18.59l7.72-7.72 1.47 1.35L5.41 20z\"/>\n",
              "  </svg>\n",
              "      </button>\n",
              "      \n",
              "  <style>\n",
              "    .colab-df-container {\n",
              "      display:flex;\n",
              "      flex-wrap:wrap;\n",
              "      gap: 12px;\n",
              "    }\n",
              "\n",
              "    .colab-df-convert {\n",
              "      background-color: #E8F0FE;\n",
              "      border: none;\n",
              "      border-radius: 50%;\n",
              "      cursor: pointer;\n",
              "      display: none;\n",
              "      fill: #1967D2;\n",
              "      height: 32px;\n",
              "      padding: 0 0 0 0;\n",
              "      width: 32px;\n",
              "    }\n",
              "\n",
              "    .colab-df-convert:hover {\n",
              "      background-color: #E2EBFA;\n",
              "      box-shadow: 0px 1px 2px rgba(60, 64, 67, 0.3), 0px 1px 3px 1px rgba(60, 64, 67, 0.15);\n",
              "      fill: #174EA6;\n",
              "    }\n",
              "\n",
              "    [theme=dark] .colab-df-convert {\n",
              "      background-color: #3B4455;\n",
              "      fill: #D2E3FC;\n",
              "    }\n",
              "\n",
              "    [theme=dark] .colab-df-convert:hover {\n",
              "      background-color: #434B5C;\n",
              "      box-shadow: 0px 1px 3px 1px rgba(0, 0, 0, 0.15);\n",
              "      filter: drop-shadow(0px 1px 2px rgba(0, 0, 0, 0.3));\n",
              "      fill: #FFFFFF;\n",
              "    }\n",
              "  </style>\n",
              "\n",
              "      <script>\n",
              "        const buttonEl =\n",
              "          document.querySelector('#df-3344c3db-f7ba-4fff-afc7-3ad66191c1e6 button.colab-df-convert');\n",
              "        buttonEl.style.display =\n",
              "          google.colab.kernel.accessAllowed ? 'block' : 'none';\n",
              "\n",
              "        async function convertToInteractive(key) {\n",
              "          const element = document.querySelector('#df-3344c3db-f7ba-4fff-afc7-3ad66191c1e6');\n",
              "          const dataTable =\n",
              "            await google.colab.kernel.invokeFunction('convertToInteractive',\n",
              "                                                     [key], {});\n",
              "          if (!dataTable) return;\n",
              "\n",
              "          const docLinkHtml = 'Like what you see? Visit the ' +\n",
              "            '<a target=\"_blank\" href=https://colab.research.google.com/notebooks/data_table.ipynb>data table notebook</a>'\n",
              "            + ' to learn more about interactive tables.';\n",
              "          element.innerHTML = '';\n",
              "          dataTable['output_type'] = 'display_data';\n",
              "          await google.colab.output.renderOutput(dataTable, element);\n",
              "          const docLink = document.createElement('div');\n",
              "          docLink.innerHTML = docLinkHtml;\n",
              "          element.appendChild(docLink);\n",
              "        }\n",
              "      </script>\n",
              "    </div>\n",
              "  </div>\n",
              "  "
            ]
          },
          "metadata": {},
          "execution_count": 70
        }
      ],
      "source": [
        "# Add \"DT SMOTE\" and \"SVM SMOTE\" rows \n",
        "#  to the results table. \n",
        "\n",
        "results.loc[5] = [\n",
        " \"KNN SMOTE\",\n",
        " (\"n_neighbors\", knn_grid3.best_params_[\"knn__n_neighbors\"]),\n",
        " metrics.accuracy_score(y_test, knn_ytest3),\n",
        " metrics.precision_score(y_test, knn_ytest3),\n",
        " metrics.recall_score(y_test, knn_ytest3),\n",
        " metrics.f1_score(y_test, knn_ytest3),\n",
        " metrics.balanced_accuracy_score(y_test, knn_ytest3)\n",
        " ]\n",
        "\n",
        "results.loc[6] = [\n",
        " \"DT SMOTE\",\n",
        " (\"max_depth\", dt_grid3.best_params_[\"dt__max_depth\"]),\n",
        " metrics.accuracy_score(y_test, dt_ytest3),\n",
        " metrics.precision_score(y_test, dt_ytest3),\n",
        " metrics.recall_score(y_test, dt_ytest3),\n",
        " metrics.f1_score(y_test, dt_ytest3),\n",
        " metrics.balanced_accuracy_score(y_test, dt_ytest3)\n",
        " ]\n",
        "\n",
        "results.loc[7] = [\n",
        " \"SVM SMOTE\",\n",
        " (\"C\", svm_grid3.best_params_[\"svm__C\"]),\n",
        " metrics.accuracy_score(y_test, svm_ytest3),\n",
        " metrics.precision_score(y_test, svm_ytest3),\n",
        " metrics.recall_score(y_test, svm_ytest3),\n",
        " metrics.f1_score(y_test, svm_ytest3),\n",
        " metrics.balanced_accuracy_score(y_test, svm_ytest3)\n",
        " ]\n",
        "\n",
        "results"
      ]
    },
    {
      "cell_type": "code",
      "execution_count": null,
      "metadata": {
        "deletable": false,
        "editable": false,
        "colab": {
          "base_uri": "https://localhost:8080/",
          "height": 46
        },
        "id": "X8pmPFf_pX-v",
        "outputId": "731d3189-7ecd-47b1-8126-2e1f13bd7717"
      },
      "outputs": [
        {
          "output_type": "execute_result",
          "data": {
            "text/plain": [
              "b2 results: All test cases passed!"
            ],
            "text/html": [
              "<p><strong><pre style='display: inline;'>b2</pre></strong> passed! 🍀</p>"
            ]
          },
          "metadata": {},
          "execution_count": 71
        }
      ],
      "source": [
        "grader.check(\"b2\")"
      ]
    },
    {
      "cell_type": "code",
      "source": [],
      "metadata": {
        "id": "t5JDMtO6nyj3"
      },
      "execution_count": null,
      "outputs": []
    }
  ],
  "metadata": {
    "colab": {
      "provenance": []
    },
    "kernelspec": {
      "display_name": "un5550f22",
      "language": "python",
      "name": "un5550f22"
    },
    "language_info": {
      "codemirror_mode": {
        "name": "ipython",
        "version": 3
      },
      "file_extension": ".py",
      "mimetype": "text/x-python",
      "name": "python",
      "nbconvert_exporter": "python",
      "pygments_lexer": "ipython3",
      "version": "3.7.11"
    },
    "otter": {
      "OK_FORMAT": true,
      "tests": {
        "b1": {
          "name": "b1",
          "points": 8,
          "suites": [
            {
              "cases": [
                {
                  "code": ">>> results.shape == (5,7)\nTrue",
                  "hidden": false,
                  "locked": false
                },
                {
                  "code": ">>> dt_grid2.best_params_['dt__max_depth'] == 10\nTrue",
                  "hidden": false,
                  "locked": false
                },
                {
                  "code": ">>> svm_grid2.best_params_['svm__C'] == 10\nTrue",
                  "hidden": false,
                  "locked": false
                }
              ],
              "scored": true,
              "setup": "",
              "teardown": "",
              "type": "doctest"
            }
          ]
        },
        "b2": {
          "name": "b2",
          "points": 12,
          "suites": [
            {
              "cases": [
                {
                  "code": ">>> results.shape == (8,7)\nTrue",
                  "hidden": false,
                  "locked": false
                },
                {
                  "code": ">>> all(results.columns == ['Model', 'Hyper-parameters', 'Accuracy', 'Precision', 'Recall',\n...        'F1-measure', 'Balanced Acc.'])\nTrue",
                  "hidden": false,
                  "locked": false
                },
                {
                  "code": ">>> dt_grid3.best_params_['dt__max_depth'] == 5\nTrue",
                  "hidden": false,
                  "locked": false
                },
                {
                  "code": ">>> svm_grid3.best_params_['svm__C'] == 0.1\nTrue",
                  "hidden": false,
                  "locked": false
                },
                {
                  "code": ">>> knn_grid3.best_params_['knn__n_neighbors'] == 3\nTrue",
                  "hidden": false,
                  "locked": false
                }
              ],
              "scored": true,
              "setup": "",
              "teardown": "",
              "type": "doctest"
            }
          ]
        },
        "q1": {
          "name": "q1",
          "points": 5,
          "suites": [
            {
              "cases": [
                {
                  "code": ">>> Xm.shape == (7574, 26)\nTrue",
                  "hidden": false,
                  "locked": false
                },
                {
                  "code": ">>> ym.shape[0] == 7574\nTrue",
                  "hidden": false,
                  "locked": false
                },
                {
                  "code": ">>> all(Xm.columns == ['timesignature', 'loudness', 'tempo', 'key', 'energy', 'pitch',\n...        'timbre_0_min', 'timbre_0_max', 'timbre_1_min', 'timbre_1_max',\n...        'timbre_2_min', 'timbre_2_max', 'timbre_3_min', 'timbre_3_max',\n...        'timbre_4_min', 'timbre_4_max', 'timbre_5_min', 'timbre_5_max',\n...        'timbre_6_min', 'timbre_6_max', 'timbre_7_min', 'timbre_7_max',\n...        'timbre_10_min', 'timbre_10_max', 'timbre_11_min', 'timbre_11_max'])\nTrue",
                  "hidden": false,
                  "locked": false
                },
                {
                  "code": ">>> all(ym[109:112] == [0,0,0])\nTrue",
                  "hidden": false,
                  "locked": false
                }
              ],
              "scored": true,
              "setup": "",
              "teardown": "",
              "type": "doctest"
            }
          ]
        },
        "q2": {
          "name": "q2",
          "points": 20,
          "suites": [
            {
              "cases": [
                {
                  "code": ">>> knn_grid.best_params_['knn__n_neighbors'] == 3\nTrue",
                  "hidden": false,
                  "locked": false
                },
                {
                  "code": ">>> temp = str(knn_grid.best_params_['scaler'])\n>>> temp.startswith(\"Stand\")\nTrue",
                  "hidden": false,
                  "locked": false
                },
                {
                  "code": ">>> np.isclose(metrics.roc_auc_score(y_test, knn_ytest), 0.58711236)\nTrue",
                  "hidden": false,
                  "locked": false
                }
              ],
              "scored": true,
              "setup": "",
              "teardown": "",
              "type": "doctest"
            }
          ]
        },
        "q3": {
          "name": "q3",
          "points": 5,
          "suites": [
            {
              "cases": [
                {
                  "code": ">>> results.shape == (3,7)\nTrue",
                  "hidden": false,
                  "locked": false
                },
                {
                  "code": ">>> all(results.columns == ['Model', 'Hyper-parameters', 'Accuracy', 'Precision', \n...                     'Recall', 'F1-measure', 'Balanced Acc.'])\nTrue",
                  "hidden": false,
                  "locked": false
                },
                {
                  "code": ">>> np.isclose(results.iloc[0,6], 0.587112)\nTrue",
                  "hidden": false,
                  "locked": false
                }
              ],
              "scored": true,
              "setup": "",
              "teardown": "",
              "type": "doctest"
            }
          ]
        }
      }
    }
  },
  "nbformat": 4,
  "nbformat_minor": 0
}