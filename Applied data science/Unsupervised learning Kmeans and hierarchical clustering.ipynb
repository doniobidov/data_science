{
  "cells": [
    {
      "cell_type": "markdown",
      "metadata": {
        "id": "Q1veSODGxsqI"
      },
      "source": [
        "# Lab 11, Unsupervised Learning \n",
        "\n",
        "\n"
      ]
    },
    {
      "cell_type": "markdown",
      "metadata": {
        "id": "8UHjbTHI_-N6"
      },
      "source": [
        "\n",
        "This  lab session focuses on excercising unsupervised learning algorithm using Scikit-learn.\n",
        "\n",
        "In Tuesday's class you had an opportunity to learn about the clustering, different methodologies and metrics for performance evaluation. \n",
        "\n",
        "Datasets: blobs, moons and UCI wine red dataset.\n",
        "\n",
        "Useful Links: https://scikit-learn.org/stable/modules/classes.html"
      ]
    },
    {
      "cell_type": "markdown",
      "metadata": {
        "id": "8-9-6Ihy16iK"
      },
      "source": [
        "## Autograder Setup\n",
        "\n",
        "Code establishing a condition so that you don't have to worry about commenting out lines of code before submitting."
      ]
    },
    {
      "cell_type": "code",
      "execution_count": 35,
      "metadata": {
        "colab": {
          "base_uri": "https://localhost:8080/"
        },
        "id": "miAs2TcC16iL",
        "outputId": "67d56d32-73f5-4eb1-fd72-adc8f9669a71"
      },
      "outputs": [
        {
          "output_type": "execute_result",
          "data": {
            "text/plain": [
              "False"
            ]
          },
          "metadata": {},
          "execution_count": 35
        }
      ],
      "source": [
        "import re\n",
        "import os\n",
        "if re.search(r'amzn', os.uname().release): \n",
        "    GS = True\n",
        "else: \n",
        "    GS = False\n",
        "GS"
      ]
    },
    {
      "cell_type": "code",
      "execution_count": 36,
      "metadata": {
        "colab": {
          "base_uri": "https://localhost:8080/"
        },
        "id": "llmQRLC116iM",
        "outputId": "511691a8-47f8-46b5-a132-2fb1e519236e"
      },
      "outputs": [
        {
          "output_type": "stream",
          "name": "stdout",
          "text": [
            "Installing otter:\n",
            "Looking in indexes: https://pypi.org/simple, https://us-python.pkg.dev/colab-wheels/public/simple/\n",
            "Requirement already satisfied: otter-grader in /usr/local/lib/python3.7/dist-packages (4.2.0)\n",
            "Requirement already satisfied: jupytext in /usr/local/lib/python3.7/dist-packages (from otter-grader) (1.14.1)\n",
            "Requirement already satisfied: pandas in /usr/local/lib/python3.7/dist-packages (from otter-grader) (1.3.5)\n",
            "Requirement already satisfied: dill in /usr/local/lib/python3.7/dist-packages (from otter-grader) (0.3.6)\n",
            "Requirement already satisfied: PyYAML in /usr/local/lib/python3.7/dist-packages (from otter-grader) (6.0)\n",
            "Requirement already satisfied: nbformat in /usr/local/lib/python3.7/dist-packages (from otter-grader) (5.7.0)\n",
            "Requirement already satisfied: gspread in /usr/local/lib/python3.7/dist-packages (from otter-grader) (3.4.2)\n",
            "Requirement already satisfied: fica>=0.2.0 in /usr/local/lib/python3.7/dist-packages (from otter-grader) (0.2.2)\n",
            "Requirement already satisfied: requests in /usr/local/lib/python3.7/dist-packages (from otter-grader) (2.23.0)\n",
            "Requirement already satisfied: python-on-whales in /usr/local/lib/python3.7/dist-packages (from otter-grader) (0.53.0)\n",
            "Requirement already satisfied: wrapt in /usr/local/lib/python3.7/dist-packages (from otter-grader) (1.14.1)\n",
            "Requirement already satisfied: google-auth-oauthlib in /usr/local/lib/python3.7/dist-packages (from otter-grader) (0.4.6)\n",
            "Requirement already satisfied: google-api-python-client in /usr/local/lib/python3.7/dist-packages (from otter-grader) (1.12.11)\n",
            "Requirement already satisfied: six in /usr/local/lib/python3.7/dist-packages (from otter-grader) (1.15.0)\n",
            "Requirement already satisfied: click in /usr/local/lib/python3.7/dist-packages (from otter-grader) (7.1.2)\n",
            "Requirement already satisfied: jinja2 in /usr/local/lib/python3.7/dist-packages (from otter-grader) (2.11.3)\n",
            "Requirement already satisfied: ipython in /usr/local/lib/python3.7/dist-packages (from otter-grader) (7.9.0)\n",
            "Requirement already satisfied: docutils in /usr/local/lib/python3.7/dist-packages (from fica>=0.2.0->otter-grader) (0.17.1)\n",
            "Requirement already satisfied: sphinx in /usr/local/lib/python3.7/dist-packages (from fica>=0.2.0->otter-grader) (1.8.6)\n",
            "Requirement already satisfied: google-auth-httplib2>=0.0.3 in /usr/local/lib/python3.7/dist-packages (from google-api-python-client->otter-grader) (0.0.4)\n",
            "Requirement already satisfied: google-auth<3dev,>=1.16.0 in /usr/local/lib/python3.7/dist-packages (from google-api-python-client->otter-grader) (2.14.1)\n",
            "Requirement already satisfied: google-api-core<3dev,>=1.21.0 in /usr/local/lib/python3.7/dist-packages (from google-api-python-client->otter-grader) (2.8.2)\n",
            "Requirement already satisfied: uritemplate<4dev,>=3.0.0 in /usr/local/lib/python3.7/dist-packages (from google-api-python-client->otter-grader) (3.0.1)\n",
            "Requirement already satisfied: httplib2<1dev,>=0.15.0 in /usr/local/lib/python3.7/dist-packages (from google-api-python-client->otter-grader) (0.17.4)\n",
            "Requirement already satisfied: protobuf<5.0.0dev,>=3.15.0 in /usr/local/lib/python3.7/dist-packages (from google-api-core<3dev,>=1.21.0->google-api-python-client->otter-grader) (3.19.6)\n",
            "Requirement already satisfied: googleapis-common-protos<2.0dev,>=1.56.2 in /usr/local/lib/python3.7/dist-packages (from google-api-core<3dev,>=1.21.0->google-api-python-client->otter-grader) (1.56.4)\n",
            "Requirement already satisfied: pyasn1-modules>=0.2.1 in /usr/local/lib/python3.7/dist-packages (from google-auth<3dev,>=1.16.0->google-api-python-client->otter-grader) (0.2.8)\n",
            "Requirement already satisfied: rsa<5,>=3.1.4 in /usr/local/lib/python3.7/dist-packages (from google-auth<3dev,>=1.16.0->google-api-python-client->otter-grader) (4.9)\n",
            "Requirement already satisfied: cachetools<6.0,>=2.0.0 in /usr/local/lib/python3.7/dist-packages (from google-auth<3dev,>=1.16.0->google-api-python-client->otter-grader) (5.2.0)\n",
            "Requirement already satisfied: pyasn1<0.5.0,>=0.4.6 in /usr/local/lib/python3.7/dist-packages (from pyasn1-modules>=0.2.1->google-auth<3dev,>=1.16.0->google-api-python-client->otter-grader) (0.4.8)\n",
            "Requirement already satisfied: idna<3,>=2.5 in /usr/local/lib/python3.7/dist-packages (from requests->otter-grader) (2.10)\n",
            "Requirement already satisfied: chardet<4,>=3.0.2 in /usr/local/lib/python3.7/dist-packages (from requests->otter-grader) (3.0.4)\n",
            "Requirement already satisfied: certifi>=2017.4.17 in /usr/local/lib/python3.7/dist-packages (from requests->otter-grader) (2022.9.24)\n",
            "Requirement already satisfied: urllib3!=1.25.0,!=1.25.1,<1.26,>=1.21.1 in /usr/local/lib/python3.7/dist-packages (from requests->otter-grader) (1.24.3)\n",
            "Requirement already satisfied: requests-oauthlib>=0.7.0 in /usr/local/lib/python3.7/dist-packages (from google-auth-oauthlib->otter-grader) (1.3.1)\n",
            "Requirement already satisfied: oauthlib>=3.0.0 in /usr/local/lib/python3.7/dist-packages (from requests-oauthlib>=0.7.0->google-auth-oauthlib->otter-grader) (3.2.2)\n",
            "Requirement already satisfied: setuptools>=18.5 in /usr/local/lib/python3.7/dist-packages (from ipython->otter-grader) (57.4.0)\n",
            "Requirement already satisfied: prompt-toolkit<2.1.0,>=2.0.0 in /usr/local/lib/python3.7/dist-packages (from ipython->otter-grader) (2.0.10)\n",
            "Requirement already satisfied: pygments in /usr/local/lib/python3.7/dist-packages (from ipython->otter-grader) (2.6.1)\n",
            "Requirement already satisfied: jedi>=0.10 in /usr/local/lib/python3.7/dist-packages (from ipython->otter-grader) (0.18.1)\n",
            "Requirement already satisfied: decorator in /usr/local/lib/python3.7/dist-packages (from ipython->otter-grader) (4.4.2)\n",
            "Requirement already satisfied: traitlets>=4.2 in /usr/local/lib/python3.7/dist-packages (from ipython->otter-grader) (5.1.1)\n",
            "Requirement already satisfied: backcall in /usr/local/lib/python3.7/dist-packages (from ipython->otter-grader) (0.2.0)\n",
            "Requirement already satisfied: pexpect in /usr/local/lib/python3.7/dist-packages (from ipython->otter-grader) (4.8.0)\n",
            "Requirement already satisfied: pickleshare in /usr/local/lib/python3.7/dist-packages (from ipython->otter-grader) (0.7.5)\n",
            "Requirement already satisfied: parso<0.9.0,>=0.8.0 in /usr/local/lib/python3.7/dist-packages (from jedi>=0.10->ipython->otter-grader) (0.8.3)\n",
            "Requirement already satisfied: wcwidth in /usr/local/lib/python3.7/dist-packages (from prompt-toolkit<2.1.0,>=2.0.0->ipython->otter-grader) (0.2.5)\n",
            "Requirement already satisfied: MarkupSafe>=0.23 in /usr/local/lib/python3.7/dist-packages (from jinja2->otter-grader) (2.0.1)\n",
            "Requirement already satisfied: toml in /usr/local/lib/python3.7/dist-packages (from jupytext->otter-grader) (0.10.2)\n",
            "Requirement already satisfied: mdit-py-plugins in /usr/local/lib/python3.7/dist-packages (from jupytext->otter-grader) (0.3.1)\n",
            "Requirement already satisfied: markdown-it-py<3.0.0,>=1.0.0 in /usr/local/lib/python3.7/dist-packages (from jupytext->otter-grader) (2.1.0)\n",
            "Requirement already satisfied: mdurl~=0.1 in /usr/local/lib/python3.7/dist-packages (from markdown-it-py<3.0.0,>=1.0.0->jupytext->otter-grader) (0.1.2)\n",
            "Requirement already satisfied: typing_extensions>=3.7.4 in /usr/local/lib/python3.7/dist-packages (from markdown-it-py<3.0.0,>=1.0.0->jupytext->otter-grader) (4.1.1)\n",
            "Requirement already satisfied: fastjsonschema in /usr/local/lib/python3.7/dist-packages (from nbformat->otter-grader) (2.16.2)\n",
            "Requirement already satisfied: importlib-metadata>=3.6 in /usr/local/lib/python3.7/dist-packages (from nbformat->otter-grader) (4.13.0)\n",
            "Requirement already satisfied: jsonschema>=2.6 in /usr/local/lib/python3.7/dist-packages (from nbformat->otter-grader) (4.3.3)\n",
            "Requirement already satisfied: jupyter-core in /usr/local/lib/python3.7/dist-packages (from nbformat->otter-grader) (4.11.2)\n",
            "Requirement already satisfied: zipp>=0.5 in /usr/local/lib/python3.7/dist-packages (from importlib-metadata>=3.6->nbformat->otter-grader) (3.10.0)\n",
            "Requirement already satisfied: importlib-resources>=1.4.0 in /usr/local/lib/python3.7/dist-packages (from jsonschema>=2.6->nbformat->otter-grader) (5.10.0)\n",
            "Requirement already satisfied: attrs>=17.4.0 in /usr/local/lib/python3.7/dist-packages (from jsonschema>=2.6->nbformat->otter-grader) (22.1.0)\n",
            "Requirement already satisfied: pyrsistent!=0.17.0,!=0.17.1,!=0.17.2,>=0.14.0 in /usr/local/lib/python3.7/dist-packages (from jsonschema>=2.6->nbformat->otter-grader) (0.19.2)\n",
            "Requirement already satisfied: python-dateutil>=2.7.3 in /usr/local/lib/python3.7/dist-packages (from pandas->otter-grader) (2.8.2)\n",
            "Requirement already satisfied: numpy>=1.17.3 in /usr/local/lib/python3.7/dist-packages (from pandas->otter-grader) (1.21.6)\n",
            "Requirement already satisfied: pytz>=2017.3 in /usr/local/lib/python3.7/dist-packages (from pandas->otter-grader) (2022.6)\n",
            "Requirement already satisfied: ptyprocess>=0.5 in /usr/local/lib/python3.7/dist-packages (from pexpect->ipython->otter-grader) (0.7.0)\n",
            "Requirement already satisfied: typer>=0.4.1 in /usr/local/lib/python3.7/dist-packages (from python-on-whales->otter-grader) (0.4.2)\n",
            "Requirement already satisfied: tqdm in /usr/local/lib/python3.7/dist-packages (from python-on-whales->otter-grader) (4.64.1)\n",
            "Requirement already satisfied: pydantic in /usr/local/lib/python3.7/dist-packages (from python-on-whales->otter-grader) (1.10.2)\n",
            "Requirement already satisfied: babel!=2.0,>=1.3 in /usr/local/lib/python3.7/dist-packages (from sphinx->fica>=0.2.0->otter-grader) (2.11.0)\n",
            "Requirement already satisfied: sphinxcontrib-websupport in /usr/local/lib/python3.7/dist-packages (from sphinx->fica>=0.2.0->otter-grader) (1.2.4)\n",
            "Requirement already satisfied: packaging in /usr/local/lib/python3.7/dist-packages (from sphinx->fica>=0.2.0->otter-grader) (21.3)\n",
            "Requirement already satisfied: imagesize in /usr/local/lib/python3.7/dist-packages (from sphinx->fica>=0.2.0->otter-grader) (1.4.1)\n",
            "Requirement already satisfied: snowballstemmer>=1.1 in /usr/local/lib/python3.7/dist-packages (from sphinx->fica>=0.2.0->otter-grader) (2.2.0)\n",
            "Requirement already satisfied: alabaster<0.8,>=0.7 in /usr/local/lib/python3.7/dist-packages (from sphinx->fica>=0.2.0->otter-grader) (0.7.12)\n",
            "Requirement already satisfied: pyparsing!=3.0.5,>=2.0.2 in /usr/local/lib/python3.7/dist-packages (from packaging->sphinx->fica>=0.2.0->otter-grader) (3.0.9)\n",
            "Requirement already satisfied: sphinxcontrib-serializinghtml in /usr/local/lib/python3.7/dist-packages (from sphinxcontrib-websupport->sphinx->fica>=0.2.0->otter-grader) (1.1.5)\n",
            "--2022-11-13 02:14:21--  https://pages.mtu.edu/~lebrown/un5550-f22/labs/lab11/lab11.files.zip\n",
            "Resolving pages.mtu.edu (pages.mtu.edu)... 141.219.70.232\n",
            "Connecting to pages.mtu.edu (pages.mtu.edu)|141.219.70.232|:443... connected.\n",
            "HTTP request sent, awaiting response... 200 OK\n",
            "Length: 1480 (1.4K) [application/zip]\n",
            "Saving to: ‘lab11.files.zip.1’\n",
            "\n",
            "lab11.files.zip.1   100%[===================>]   1.45K  --.-KB/s    in 0s      \n",
            "\n",
            "2022-11-13 02:14:21 (448 MB/s) - ‘lab11.files.zip.1’ saved [1480/1480]\n",
            "\n",
            "Archive:  lab11.files.zip\n",
            "replace tests/q4b.py? [y]es, [n]o, [A]ll, [N]one, [r]ename: n\n",
            "replace tests/q4a.py? [y]es, [n]o, [A]ll, [N]one, [r]ename: n\n",
            "replace tests/q1a.py? [y]es, [n]o, [A]ll, [N]one, [r]ename: n\n"
          ]
        }
      ],
      "source": [
        "if GS==False:\n",
        "    print(\"Installing otter:\")\n",
        "    !pip install otter-grader\n",
        "    !wget https://pages.mtu.edu/~lebrown/un5550-f22/labs/lab11/lab11.files.zip\n",
        "    !unzip lab11.files.zip"
      ]
    },
    {
      "cell_type": "markdown",
      "metadata": {
        "id": "UZEpdRzo16iM"
      },
      "source": [
        "## Lab Setup \n",
        "\n",
        "Import packages, setup otter. "
      ]
    },
    {
      "cell_type": "code",
      "execution_count": 37,
      "metadata": {
        "id": "iQN0GRkGxn7p"
      },
      "outputs": [],
      "source": [
        "import numpy as np\n",
        "import pandas as pd\n",
        "from matplotlib import cm\n",
        "import matplotlib.pyplot as plt\n",
        "%matplotlib inline \n",
        "\n",
        "\n",
        "import seaborn as sns\n",
        "\n",
        "import otter\n",
        "grader = otter.Notebook()\n",
        "\n",
        "from sklearn.datasets import make_blobs, make_moons\n",
        "from sklearn.cluster import KMeans\n",
        "\n",
        "from sklearn.metrics import silhouette_samples\n",
        "from sklearn import metrics\n",
        "\n",
        "from sklearn.cluster import AgglomerativeClustering\n",
        "from sklearn.cluster import DBSCAN\n",
        "\n",
        "from sklearn import preprocessing\n",
        "\n",
        "rng_seed = 42"
      ]
    },
    {
      "cell_type": "markdown",
      "metadata": {
        "id": "BFVoBwlOzxxh"
      },
      "source": [
        "## Clustering\n",
        "\n",
        "Read through section 7.2.3 of the textbook. \n",
        "\n"
      ]
    },
    {
      "cell_type": "markdown",
      "metadata": {
        "id": "vxvbAcxb16iN"
      },
      "source": [
        "## Blobs Data \n",
        "\n",
        "For the next several exercises, you will use the \"blobs\" data set. "
      ]
    },
    {
      "cell_type": "markdown",
      "metadata": {
        "id": "rQpU8rzN1Avl"
      },
      "source": [
        "## Ex1A.  Load Blobs data"
      ]
    },
    {
      "cell_type": "code",
      "execution_count": 38,
      "metadata": {
        "id": "ABUIPevVyusl",
        "tags": []
      },
      "outputs": [],
      "source": [
        "# Make use of the sklearn datasets - make blobs and moons \n",
        "\n",
        "# Use make blobs with 150 samples, 3 centers, 2 features, \n",
        "#  std. dev. of 3.2, shuffle=True, and random state = 5550 \n",
        "\n",
        "X, y = make_blobs(n_samples = 150, random_state=5550, cluster_std=3.2, shuffle=True,\n",
        "                  centers = 3, n_features = 2)\n"
      ]
    },
    {
      "cell_type": "code",
      "execution_count": 39,
      "metadata": {
        "deletable": false,
        "editable": false,
        "colab": {
          "base_uri": "https://localhost:8080/",
          "height": 46
        },
        "id": "jKgX0bN516iO",
        "outputId": "3e2048f7-443c-4784-866b-adf0e398a940"
      },
      "outputs": [
        {
          "output_type": "execute_result",
          "data": {
            "text/plain": [
              "q1a results: All test cases passed!"
            ],
            "text/html": [
              "<p><strong><pre style='display: inline;'>q1a</pre></strong> passed! 🎉</p>"
            ]
          },
          "metadata": {},
          "execution_count": 39
        }
      ],
      "source": [
        "grader.check(\"q1a\")"
      ]
    },
    {
      "cell_type": "markdown",
      "metadata": {
        "id": "ycLmSINr16iO"
      },
      "source": [
        "<!-- BEGIN QUESTION -->\n",
        "\n",
        "## Ex1B. Visualize the data "
      ]
    },
    {
      "cell_type": "code",
      "execution_count": 40,
      "metadata": {
        "colab": {
          "base_uri": "https://localhost:8080/",
          "height": 295
        },
        "id": "6B5Udlza1D5X",
        "outputId": "e6b1ca98-9027-48ec-b0bf-a529b7cc52e8",
        "tags": []
      },
      "outputs": [
        {
          "output_type": "display_data",
          "data": {
            "text/plain": [
              "<Figure size 432x288 with 1 Axes>"
            ],
            "image/png": "[encoded data removed]"
          },
          "metadata": {
            "needs_background": "light"
          }
        }
      ],
      "source": [
        "# Use plt.scatter to visualize your blobs data set \n",
        "#  Use the 'Accent' - Qualitative Colormap \n",
        "#  Each class should be the same shape but different color\n",
        "colors = iter([plt.cm.Accent(i) for i in range(5)])\n",
        "plt.scatter(X[(y==0).ravel(),0],X[(y==0).ravel(),1],color=[next(colors)])\n",
        "plt.scatter(X[(y==1).ravel(),0],X[(y==1).ravel(),1],color=[next(colors)])\n",
        "plt.scatter(X[(y==2).ravel(),0],X[(y==2).ravel(),1],color=[next(colors)])\n",
        "_ = plt.title('Generated Data')\n",
        "plt.xlabel('Feature 1')\n",
        "plt.ylabel('Feature 2')\n",
        "plt.show()"
      ]
    },
    {
      "cell_type": "markdown",
      "metadata": {
        "id": "ND4Ygi3x2LXT"
      },
      "source": [
        "<!-- END QUESTION -->\n",
        "\n",
        "<!-- BEGIN QUESTION -->\n",
        "\n",
        "## Ex2. K-means clustering\n",
        "\n",
        "Here you will become familiar with using K-means clustering.\n",
        "\n",
        "The KMeans method is available in `scikit-learn`: \n",
        "\n",
        "https://scikit-learn.org/stable/modules/generated/sklearn.cluster.KMeans.html\n",
        "\n",
        "Examine the parameters options that you have with KMeans. \n",
        "\n"
      ]
    },
    {
      "cell_type": "code",
      "execution_count": 41,
      "metadata": {
        "id": "unCwOf031Vz_",
        "tags": [],
        "colab": {
          "base_uri": "https://localhost:8080/",
          "height": 295
        },
        "outputId": "f5966937-2035-4ad9-b7e6-7ba242a381b4"
      },
      "outputs": [
        {
          "output_type": "display_data",
          "data": {
            "text/plain": [
              "<Figure size 432x288 with 1 Axes>"
            ],
            "image/png": "[encoded data removed]"
          },
          "metadata": {
            "needs_background": "light"
          }
        }
      ],
      "source": [
        "# Import KMeans from sklearn \n",
        "from sklearn.cluster import KMeans\n",
        "\n",
        "# Select the parameters for KMeans based on your undestanding, \n",
        "#  make random_state = 0\n",
        "\n",
        "# Explore runnning KMeans for clusters, k=1, 2, ..., 5\n",
        "k = 4 # change this and nothing else\n",
        "\n",
        "km = KMeans(init='random', n_clusters=k, random_state=0)\n",
        "yhat = km.fit_predict(X)\n",
        "\n",
        "\n",
        "# Plot the Clusters \n",
        "#  Use the 'Accent' - Qualitative Colormap \n",
        "#  Each class should be the same shape but different color\n",
        "#  Add the cluster centroids with a red triangle. \n",
        "centers = np.array(km.fit(X).cluster_centers_)\n",
        "colors = iter([plt.cm.Accent(i) for i in range(5)])\n",
        "for i in range(k):\n",
        "  plt.scatter(X[(yhat==i).ravel(),0],X[(yhat==i).ravel(),1],color=[next(colors)])\n",
        "plt.scatter(centers[:,0], centers[:,1], marker=\"v\", color='r')\n",
        "_ = plt.title('Clustered Data')\n",
        "plt.xlabel('Feature 1')\n",
        "plt.ylabel('Feature 2')\n",
        "plt.show()\n",
        "\n"
      ]
    },
    {
      "cell_type": "markdown",
      "metadata": {
        "id": "5x52lhu37EeC"
      },
      "source": [
        "<!-- END QUESTION -->\n",
        "\n",
        "Let's now loook to evaluate the model and quantify the quality of the clustering.  From the textbook/class you were introduced to different metrics or measures - Rand Index, Homogeneity, Completeness, V-measures, Silhouette scores, etc. \n"
      ]
    },
    {
      "cell_type": "markdown",
      "metadata": {
        "id": "8T8FJj46Ljqq"
      },
      "source": [
        "<!-- BEGIN QUESTION -->\n",
        "\n",
        "## Ex3. Quantify Clustering Quality \n",
        "\n",
        "For the above model, let's evaluate the inertia and visualize it for different clusters (1-10). \n",
        "\n",
        "http://scikit-learn.org/stable/modules/generated/sklearn.cluster.KMeans.html\n",
        "\n",
        "https://scikit-learn.org/stable/modules/clustering.html\n"
      ]
    },
    {
      "cell_type": "code",
      "execution_count": 42,
      "metadata": {
        "id": "1d-oKIFmLtAg",
        "tags": [],
        "colab": {
          "base_uri": "https://localhost:8080/",
          "height": 300
        },
        "outputId": "52d26089-c385-41de-b9c7-bccc28967953"
      },
      "outputs": [
        {
          "output_type": "display_data",
          "data": {
            "text/plain": [
              "<Figure size 576x288 with 1 Axes>"
            ],
            "image/png": "[encoded data removed]"
          },
          "metadata": {
            "needs_background": "light"
          }
        }
      ],
      "source": [
        "''' Using a for loop, fit the kmeans models for n-clusters from 1 to 10, \n",
        "let random state be 0, maxx iter = 100, n_init = 10.\n",
        "\n",
        "Step 1: initialize the model\n",
        "Step 2: fit the model\n",
        "Step 3: append the kmeans model interia_ to a list  \n",
        "\n",
        "\n",
        "Plot inertia vs. k  after the loop\n",
        "'''\n",
        "k_list = []\n",
        "inert = []\n",
        "for i in range(1, 11):\n",
        "    km = KMeans(n_clusters=i, init='k-means++',  random_state=0,max_iter=100, n_init=10) \n",
        "    km.fit(X)\n",
        "    inert.append(km.inertia_)\n",
        "    k_list.append(i)\n",
        "\n",
        "plt.figure(figsize=(8,4))  \n",
        "plt.plot(k_list, inert)\n",
        "plt.title('Inertia vs number of clusters', fontsize=16)\n",
        "plt.xlabel('k', fontsize=12)\n",
        "plt.ylabel('Inertia', fontsize=12)\n",
        "x_ticks = [1,2,3,4,5,6,7,8,9,10]\n",
        "x_labels = [1,2,3,4,5,6,7,8,9,10]\n",
        "plt.xticks(ticks=x_ticks, labels=x_labels)\n",
        "plt.show();"
      ]
    },
    {
      "cell_type": "markdown",
      "metadata": {
        "id": "aJynCJoYMgfa"
      },
      "source": [
        "<!-- END QUESTION -->\n",
        "\n",
        "### Example: Clustering Quality - Silhouette Plots\n",
        "\n",
        "Check the performance of kMeans using Silhouette plots.  \n",
        "Try for different values of n_clusters.   \n",
        "When is it good and when does it go bad??\n",
        "\n",
        "http://scikit-learn.org/stable/modules/generated/sklearn.metrics.silhouette_samples.html\n",
        "\n",
        "http://scikit-learn.org/stable/auto_examples/cluster/plot_kmeans_silhouette_analysis.html#sphx-glr-auto-examples-cluster-plot-kmeans-silhouette-analysis-py"
      ]
    },
    {
      "cell_type": "code",
      "execution_count": 43,
      "metadata": {
        "id": "1WHAFg_cMsZO"
      },
      "outputs": [],
      "source": [
        "'''silhouette is to be imported from metrics package'''\n",
        "\n",
        "# from sklearn.metrics import silhouette_samples\n",
        "\n",
        "''' Try changing the number of clusters and observing the result \n",
        "on the silhouette plots. \n",
        "'''\n",
        "km = KMeans(n_clusters=2, init='k-means++', n_init=10, max_iter=300, random_state=0)\n",
        "y_km = km.fit_predict(X)\n",
        "\n",
        "cluster_labels = np.unique(y_km)\n",
        "n_clusters = cluster_labels.shape[0]\n",
        "silhouette_vals = silhouette_samples(X, y_km, metric='euclidean')"
      ]
    },
    {
      "cell_type": "code",
      "execution_count": 44,
      "metadata": {
        "id": "N_WYY4RrMuzo",
        "colab": {
          "base_uri": "https://localhost:8080/",
          "height": 279
        },
        "outputId": "6a8976d1-65f9-4601-8d05-a6c03e7e6673"
      },
      "outputs": [
        {
          "output_type": "display_data",
          "data": {
            "text/plain": [
              "<Figure size 432x288 with 1 Axes>"
            ],
            "image/png": "[encoded data removed]"
          },
          "metadata": {
            "needs_background": "light"
          }
        }
      ],
      "source": [
        "\"\"\" No modification needed\"\"\"\n",
        "\n",
        "y_ax_lower, y_ax_upper = 0, 0\n",
        "yticks = []\n",
        "for i, c in enumerate(cluster_labels):\n",
        "    c_silhouette_vals = silhouette_vals[y_km == c]\n",
        "    c_silhouette_vals.sort()\n",
        "    y_ax_upper += len(c_silhouette_vals)\n",
        "    color = cm.jet(i / n_clusters)\n",
        "    \n",
        "    plt.barh(range(y_ax_lower, y_ax_upper), c_silhouette_vals, height=1.0, edgecolor='none', color=color)\n",
        "    yticks.append((y_ax_lower + y_ax_upper) / 2)\n",
        "    y_ax_lower += len(c_silhouette_vals)\n",
        "\n",
        "silhouette_avg = np.mean(silhouette_vals)\n",
        "plt.axvline(silhouette_avg,color=\"red\",linestyle=\"--\")\n",
        "plt.yticks(yticks, cluster_labels + 1)\n",
        "plt.ylabel('Cluster')\n",
        "plt.xlabel('Silhouette coefficient')\n",
        "plt.show()"
      ]
    },
    {
      "cell_type": "markdown",
      "metadata": {
        "id": "z56busYA16iS"
      },
      "source": [
        "## Clustering Moons data set  \n",
        "\n",
        "For this problem, we are going to examine clustering methods on the moons data set.\n",
        "\n",
        "\n",
        "First, we will create the data and plot the data."
      ]
    },
    {
      "cell_type": "code",
      "execution_count": 45,
      "metadata": {
        "id": "rnVgkFrC16iS",
        "colab": {
          "base_uri": "https://localhost:8080/",
          "height": 295
        },
        "outputId": "40ad1edc-ebe9-4ec5-a59f-10f8483a7090"
      },
      "outputs": [
        {
          "output_type": "display_data",
          "data": {
            "text/plain": [
              "<Figure size 432x288 with 1 Axes>"
            ],
            "image/png": "[encoded data removed]"
          },
          "metadata": {
            "needs_background": "light"
          }
        }
      ],
      "source": [
        "X, y = make_moons(n_samples=300, noise=0.05, random_state=0)\n",
        "\n",
        "fig, ax = plt.subplots()\n",
        "sc = ax.scatter(X[:,0], X[:,1], c=y, marker='o', cmap='bwr')\n",
        "plt.xlabel('Variable 1')\n",
        "plt.ylabel('Variable 2')\n",
        "plt.title('Moons Data Set');"
      ]
    },
    {
      "cell_type": "markdown",
      "metadata": {
        "id": "diZpngMy16iS"
      },
      "source": [
        "The Moons data is a classic example of a data set that KMeans fails to cluster well. "
      ]
    },
    {
      "cell_type": "markdown",
      "metadata": {
        "id": "KnsuA_7t16iS"
      },
      "source": [
        "## Ex4A. Run KMeans on Moons data \n",
        "\n",
        " "
      ]
    },
    {
      "cell_type": "code",
      "execution_count": 46,
      "metadata": {
        "tags": [],
        "id": "OwCAy-1b16iT",
        "colab": {
          "base_uri": "https://localhost:8080/",
          "height": 295
        },
        "outputId": "72ef8a90-2f71-4200-fb76-94c8ea8599c5"
      },
      "outputs": [
        {
          "output_type": "display_data",
          "data": {
            "text/plain": [
              "<Figure size 432x288 with 1 Axes>"
            ],
            "image/png": "[encoded data removed]"
          },
          "metadata": {
            "needs_background": "light"
          }
        }
      ],
      "source": [
        "''' Run KMeans on the moons data and predict the cluster labels \n",
        "Use random state= 1\n",
        "'''\n",
        "km = KMeans(init='random', n_clusters=2, random_state=1)\n",
        "y_km = km.fit_predict(X)\n",
        "# Visualize the results, make sure to add a legend \n",
        "fig, ax = plt.subplots()\n",
        "sc = ax.scatter(X[:,0], X[:,1], c=y_km, marker='o', cmap='bwr')\n",
        "legend = ax.legend(*sc.legend_elements())\n",
        "ax.add_artist(legend)\n",
        "plt.xlabel('Variable 1')\n",
        "plt.ylabel('Variable 2')\n",
        "plt.title('Moons Data Set Kmeans clustered')\n",
        "plt.show()"
      ]
    },
    {
      "cell_type": "code",
      "execution_count": 47,
      "metadata": {
        "deletable": false,
        "editable": false,
        "id": "QqugwCve16iT",
        "colab": {
          "base_uri": "https://localhost:8080/",
          "height": 46
        },
        "outputId": "2b9eeecf-62ff-43a4-f93d-5ce8b9496329"
      },
      "outputs": [
        {
          "output_type": "execute_result",
          "data": {
            "text/plain": [
              "q4a results: All test cases passed!"
            ],
            "text/html": [
              "<p><strong><pre style='display: inline;'>q4a</pre></strong> passed! ✨</p>"
            ]
          },
          "metadata": {},
          "execution_count": 47
        }
      ],
      "source": [
        "grader.check(\"q4a\")"
      ]
    },
    {
      "cell_type": "markdown",
      "metadata": {
        "id": "ClYL7dy4M31j"
      },
      "source": [
        "## Ex4B. Hierarchical Clustering \n",
        "\n",
        "Let's now look at performing hierarchical clustering on the moons data set. \n",
        "\n",
        "http://scikit-learn.org/stable/modules/generated/sklearn.cluster.AgglomerativeClustering.html"
      ]
    },
    {
      "cell_type": "code",
      "execution_count": 48,
      "metadata": {
        "id": "S0NqjDxEMxg3",
        "tags": [],
        "colab": {
          "base_uri": "https://localhost:8080/",
          "height": 295
        },
        "outputId": "a10197da-30d6-4915-bfdd-8aa0a990e56c"
      },
      "outputs": [
        {
          "output_type": "display_data",
          "data": {
            "text/plain": [
              "<Figure size 432x288 with 1 Axes>"
            ],
            "image/png": "[encoded data removed]"
          },
          "metadata": {
            "needs_background": "light"
          }
        }
      ],
      "source": [
        "''' Run Agglomerative Clustering on the moons data and \n",
        "predict the cluster labels \n",
        "Use complete linkage\n",
        "'''\n",
        "hc = AgglomerativeClustering(linkage='complete',n_clusters =2)\n",
        "y_hc = hc.fit_predict(X)\n",
        "\n",
        "# Visualize the results, make sure to add a legend \n",
        "fig, ax = plt.subplots()\n",
        "sc = ax.scatter(X[:,0], X[:,1], c=y_hc, marker='o', cmap='bwr')\n",
        "legend = ax.legend(*sc.legend_elements())\n",
        "ax.add_artist(legend)\n",
        "plt.xlabel('Variable 1')\n",
        "plt.ylabel('Variable 2')\n",
        "plt.title('Moons Data Set Hierarchical clustered')\n",
        "plt.show()"
      ]
    },
    {
      "cell_type": "code",
      "execution_count": 49,
      "metadata": {
        "deletable": false,
        "editable": false,
        "id": "UGRUHdKo16iT",
        "colab": {
          "base_uri": "https://localhost:8080/",
          "height": 46
        },
        "outputId": "f3c83844-5f99-40e8-bb58-7b6500ccb8d1"
      },
      "outputs": [
        {
          "output_type": "execute_result",
          "data": {
            "text/plain": [
              "q4b results: All test cases passed!"
            ],
            "text/html": [
              "<p><strong><pre style='display: inline;'>q4b</pre></strong> passed! 🚀</p>"
            ]
          },
          "metadata": {},
          "execution_count": 49
        }
      ],
      "source": [
        "grader.check(\"q4b\")"
      ]
    },
    {
      "cell_type": "markdown",
      "metadata": {
        "id": "bH9b1FmkNVun"
      },
      "source": [
        "From the plot of the moons data the Agglomerative clustering method is not efficient (neither is Kmeans).  This is because the cluster have a non-convex shape. \n",
        "\n",
        "### Other Clustering Methods\n",
        "\n",
        "Let's look to use another clustering methods DBSCAN (not discussed in class).  DBSCAN handles clustering data of arbitrary shapes efficiently. \n",
        "\n",
        "http://scikit-learn.org/stable/modules/clustering.html#dbscan"
      ]
    },
    {
      "cell_type": "code",
      "execution_count": 50,
      "metadata": {
        "id": "DDigTYIsNJm9"
      },
      "outputs": [],
      "source": [
        "''' Import DBscan from sklearn, use eps = 0.2, min_samples = 5, metric = 'euclidean' '''\n",
        "\n",
        "# from sklearn.cluster import DBSCAN\n",
        "\n",
        "db = DBSCAN(eps=0.2, min_samples=5, metric='euclidean')\n",
        "y_db = db.fit_predict(X)"
      ]
    },
    {
      "cell_type": "code",
      "execution_count": 51,
      "metadata": {
        "id": "8qyLw8xcNre7",
        "colab": {
          "base_uri": "https://localhost:8080/",
          "height": 295
        },
        "outputId": "0bc27b49-2472-4863-91e1-b0995e98ce94"
      },
      "outputs": [
        {
          "output_type": "display_data",
          "data": {
            "text/plain": [
              "<Figure size 432x288 with 1 Axes>"
            ],
            "image/png": "[encoded data removed]"
          },
          "metadata": {
            "needs_background": "light"
          }
        }
      ],
      "source": [
        "''' plot cluster results for DBSCAN'''\n",
        "fig, ax = plt.subplots()\n",
        "sc = ax.scatter(X[:,0], X[:,1], c=y_db, marker='o', cmap='bwr')\n",
        "plt.xlabel('Variable 1')\n",
        "plt.ylabel('Variable 2')\n",
        "plt.title('Moons Data Set: DBSCAN Clustering');"
      ]
    },
    {
      "cell_type": "markdown",
      "metadata": {
        "id": "I4KdfaF8N1TM"
      },
      "source": [
        "### Example. Evaluate Cluster Performance \n",
        "\n",
        "http://scikit-learn.org/stable/modules/clustering.html#clustering-evaluation\n",
        "\n",
        "Evaluate, the Kmeans, Hierarchical and DBScan method on the moons data set, using the clustering metrics below. Note, they may not all be applicable to each clustering method."
      ]
    },
    {
      "cell_type": "code",
      "execution_count": 52,
      "metadata": {
        "id": "Hfq7bTvANxg8",
        "colab": {
          "base_uri": "https://localhost:8080/"
        },
        "outputId": "37ad06fd-5b46-4410-9074-3ebdd0910a72"
      },
      "outputs": [
        {
          "output_type": "stream",
          "name": "stdout",
          "text": [
            "Final evaluation of the clustering: K-Means\n",
            "Inertia: 121.14\n",
            "Adjusted_rand_score 0.24\n",
            "Homogeneity 0.18\n",
            "Completeness 0.18\n",
            "V_measure 0.18\n",
            "Silhouette 0.49\n"
          ]
        }
      ],
      "source": [
        "''' Using piece of code from class, evaluate the performance of all the \n",
        "above clustering techniques'''\n",
        "# from sklearn import metrics\n",
        "\n",
        "print ('Final evaluation of the clustering: K-Means')\n",
        "print('Inertia: %.2f' %  km.inertia_ )\n",
        "print('Adjusted_rand_score %.2f' % metrics.adjusted_rand_score(y,km.labels_))\n",
        "print('Homogeneity %.2f' %  metrics.homogeneity_score(y,km.labels_))\n",
        "print('Completeness %.2f' %  metrics.completeness_score(y,km.labels_))\n",
        "print('V_measure %.2f' %  metrics.v_measure_score(y, km.labels_))\n",
        "print('Silhouette %.2f' %  metrics.silhouette_score(X, km.labels_, metric='euclidean'))"
      ]
    },
    {
      "cell_type": "code",
      "execution_count": 53,
      "metadata": {
        "id": "A1FbUEubOKi0",
        "colab": {
          "base_uri": "https://localhost:8080/"
        },
        "outputId": "9e723461-fbb5-43cf-9a47-763a9b884ae0"
      },
      "outputs": [
        {
          "output_type": "stream",
          "name": "stdout",
          "text": [
            "Final evaluation of the clustering: Hier \n",
            "Adjusted_rand_score 0.30\n",
            "Homogeneity 0.35\n",
            "Completeness 0.41\n",
            "V_measure 0.38\n",
            "Silhouette 0.44\n"
          ]
        }
      ],
      "source": [
        "print ('Final evaluation of the clustering: Hier ')\n",
        "# print('Inertia: %.2f' %  db.inertia_ )\n",
        "print('Adjusted_rand_score %.2f' % metrics.adjusted_rand_score(y, hc.labels_))\n",
        "print('Homogeneity %.2f' %  metrics.homogeneity_score(y, hc.labels_))\n",
        "print('Completeness %.2f' %  metrics.completeness_score(y, hc.labels_))\n",
        "print('V_measure %.2f' %  metrics.v_measure_score(y, hc.labels_))\n",
        "print('Silhouette %.2f' %  metrics.silhouette_score(X, hc.labels_, metric='euclidean'))"
      ]
    },
    {
      "cell_type": "code",
      "execution_count": 54,
      "metadata": {
        "id": "fPytB5c-ORsP",
        "colab": {
          "base_uri": "https://localhost:8080/"
        },
        "outputId": "8699302c-7472-42e3-9f17-f02a96327a9a"
      },
      "outputs": [
        {
          "output_type": "stream",
          "name": "stdout",
          "text": [
            "Final evaluation of the clustering: DBSCAN \n",
            "Adjusted_rand_score 1.00\n",
            "Homogeneity 1.00\n",
            "Completeness 1.00\n",
            "V_measure 1.00\n",
            "Silhouette 0.33\n"
          ]
        }
      ],
      "source": [
        "print ('Final evaluation of the clustering: DBSCAN ')\n",
        "# print('Inertia: %.2f' %  db.inertia_ )\n",
        "print('Adjusted_rand_score %.2f' % metrics.adjusted_rand_score(y, db.labels_))\n",
        "print('Homogeneity %.2f' %  metrics.homogeneity_score(y, db.labels_))\n",
        "print('Completeness %.2f' %  metrics.completeness_score(y, db.labels_))\n",
        "print('V_measure %.2f' %  metrics.v_measure_score(y, db.labels_))\n",
        "print('Silhouette %.2f' %  metrics.silhouette_score(X, db.labels_, metric='euclidean'))"
      ]
    },
    {
      "cell_type": "markdown",
      "metadata": {
        "id": "gte8EGobOb0V"
      },
      "source": [
        "## Wine Data Clustering \n",
        "\n",
        "From UCI repository, download the wine dataset and apply k-Means and Hierarchical clustering methods.\n",
        "\n",
        "https://archive.ics.uci.edu/ml/machine-learning-databases/wine/wine.data"
      ]
    },
    {
      "cell_type": "code",
      "execution_count": 55,
      "metadata": {
        "id": "wRJqxiBrOSB2"
      },
      "outputs": [],
      "source": [
        "''' Lets try on the real dataset.\n",
        "we have used the wine dataset earlier. we would be using this for clustering \n",
        "application and since we know that the target group \n",
        "is the wine quality and is a part of this dataset in the link'''\n",
        "\n",
        "'''From the url given, import the dataset using pd.read_csv,\n",
        "make necessary changes for successfully reading this data\n",
        "update the column names with the data description given in the UCI link'''\n",
        "\n",
        "url  =  \"https://archive.ics.uci.edu/ml/machine-learning-databases/wine/wine.data\" \n",
        "wine = pd.read_csv(url,sep = ',', header=None)\n",
        "wine.columns = ['class', 'Alcohol','Malic acid','Ash','Alcalinity of ash' ,\n",
        "                'Magnesium','Total phenols','Flavanoids','Nonflavanoid phenols',\n",
        "                'Proanthocyanins','color intensity','Hue','OD280/OD315 of diluted wines',\n",
        "                'Proline']"
      ]
    },
    {
      "cell_type": "code",
      "execution_count": 23,
      "metadata": {
        "id": "uaTSYXRYOima"
      },
      "outputs": [],
      "source": [
        "''' since, target class is also part of the data, slice the data and assign the \n",
        "target to y and remaining data to variable X'''\n",
        "X = wine.iloc[:, 1:14]\n",
        "y = wine.iloc[:, 0]"
      ]
    },
    {
      "cell_type": "code",
      "execution_count": 24,
      "metadata": {
        "id": "nYxMngNKOlzD",
        "colab": {
          "base_uri": "https://localhost:8080/",
          "height": 379
        },
        "outputId": "941dabfc-2ce4-48d4-9ece-a9efa35f7cfd"
      },
      "outputs": [
        {
          "output_type": "execute_result",
          "data": {
            "text/plain": [
              "            class     Alcohol  Malic acid         Ash  Alcalinity of ash  \\\n",
              "count  178.000000  178.000000  178.000000  178.000000         178.000000   \n",
              "mean     1.938202   13.000618    2.336348    2.366517          19.494944   \n",
              "std      0.775035    0.811827    1.117146    0.274344           3.339564   \n",
              "min      1.000000   11.030000    0.740000    1.360000          10.600000   \n",
              "25%      1.000000   12.362500    1.602500    2.210000          17.200000   \n",
              "50%      2.000000   13.050000    1.865000    2.360000          19.500000   \n",
              "75%      3.000000   13.677500    3.082500    2.557500          21.500000   \n",
              "max      3.000000   14.830000    5.800000    3.230000          30.000000   \n",
              "\n",
              "        Magnesium  Total phenols  Flavanoids  Nonflavanoid phenols  \\\n",
              "count  178.000000     178.000000  178.000000            178.000000   \n",
              "mean    99.741573       2.295112    2.029270              0.361854   \n",
              "std     14.282484       0.625851    0.998859              0.124453   \n",
              "min     70.000000       0.980000    0.340000              0.130000   \n",
              "25%     88.000000       1.742500    1.205000              0.270000   \n",
              "50%     98.000000       2.355000    2.135000              0.340000   \n",
              "75%    107.000000       2.800000    2.875000              0.437500   \n",
              "max    162.000000       3.880000    5.080000              0.660000   \n",
              "\n",
              "       Proanthocyanins  color intensity         Hue  \\\n",
              "count       178.000000       178.000000  178.000000   \n",
              "mean          1.590899         5.058090    0.957449   \n",
              "std           0.572359         2.318286    0.228572   \n",
              "min           0.410000         1.280000    0.480000   \n",
              "25%           1.250000         3.220000    0.782500   \n",
              "50%           1.555000         4.690000    0.965000   \n",
              "75%           1.950000         6.200000    1.120000   \n",
              "max           3.580000        13.000000    1.710000   \n",
              "\n",
              "       OD280/OD315 of diluted wines      Proline  \n",
              "count                    178.000000   178.000000  \n",
              "mean                       2.611685   746.893258  \n",
              "std                        0.709990   314.907474  \n",
              "min                        1.270000   278.000000  \n",
              "25%                        1.937500   500.500000  \n",
              "50%                        2.780000   673.500000  \n",
              "75%                        3.170000   985.000000  \n",
              "max                        4.000000  1680.000000  "
            ],
            "text/html": [
              "\n",
              "  <div id=\"df-3efba957-0ada-48be-8849-a3c9c4ccc6ab\">\n",
              "    <div class=\"colab-df-container\">\n",
              "      <div>\n",
              "<style scoped>\n",
              "    .dataframe tbody tr th:only-of-type {\n",
              "        vertical-align: middle;\n",
              "    }\n",
              "\n",
              "    .dataframe tbody tr th {\n",
              "        vertical-align: top;\n",
              "    }\n",
              "\n",
              "    .dataframe thead th {\n",
              "        text-align: right;\n",
              "    }\n",
              "</style>\n",
              "<table border=\"1\" class=\"dataframe\">\n",
              "  <thead>\n",
              "    <tr style=\"text-align: right;\">\n",
              "      <th></th>\n",
              "      <th>class</th>\n",
              "      <th>Alcohol</th>\n",
              "      <th>Malic acid</th>\n",
              "      <th>Ash</th>\n",
              "      <th>Alcalinity of ash</th>\n",
              "      <th>Magnesium</th>\n",
              "      <th>Total phenols</th>\n",
              "      <th>Flavanoids</th>\n",
              "      <th>Nonflavanoid phenols</th>\n",
              "      <th>Proanthocyanins</th>\n",
              "      <th>color intensity</th>\n",
              "      <th>Hue</th>\n",
              "      <th>OD280/OD315 of diluted wines</th>\n",
              "      <th>Proline</th>\n",
              "    </tr>\n",
              "  </thead>\n",
              "  <tbody>\n",
              "    <tr>\n",
              "      <th>count</th>\n",
              "      <td>178.000000</td>\n",
              "      <td>178.000000</td>\n",
              "      <td>178.000000</td>\n",
              "      <td>178.000000</td>\n",
              "      <td>178.000000</td>\n",
              "      <td>178.000000</td>\n",
              "      <td>178.000000</td>\n",
              "      <td>178.000000</td>\n",
              "      <td>178.000000</td>\n",
              "      <td>178.000000</td>\n",
              "      <td>178.000000</td>\n",
              "      <td>178.000000</td>\n",
              "      <td>178.000000</td>\n",
              "      <td>178.000000</td>\n",
              "    </tr>\n",
              "    <tr>\n",
              "      <th>mean</th>\n",
              "      <td>1.938202</td>\n",
              "      <td>13.000618</td>\n",
              "      <td>2.336348</td>\n",
              "      <td>2.366517</td>\n",
              "      <td>19.494944</td>\n",
              "      <td>99.741573</td>\n",
              "      <td>2.295112</td>\n",
              "      <td>2.029270</td>\n",
              "      <td>0.361854</td>\n",
              "      <td>1.590899</td>\n",
              "      <td>5.058090</td>\n",
              "      <td>0.957449</td>\n",
              "      <td>2.611685</td>\n",
              "      <td>746.893258</td>\n",
              "    </tr>\n",
              "    <tr>\n",
              "      <th>std</th>\n",
              "      <td>0.775035</td>\n",
              "      <td>0.811827</td>\n",
              "      <td>1.117146</td>\n",
              "      <td>0.274344</td>\n",
              "      <td>3.339564</td>\n",
              "      <td>14.282484</td>\n",
              "      <td>0.625851</td>\n",
              "      <td>0.998859</td>\n",
              "      <td>0.124453</td>\n",
              "      <td>0.572359</td>\n",
              "      <td>2.318286</td>\n",
              "      <td>0.228572</td>\n",
              "      <td>0.709990</td>\n",
              "      <td>314.907474</td>\n",
              "    </tr>\n",
              "    <tr>\n",
              "      <th>min</th>\n",
              "      <td>1.000000</td>\n",
              "      <td>11.030000</td>\n",
              "      <td>0.740000</td>\n",
              "      <td>1.360000</td>\n",
              "      <td>10.600000</td>\n",
              "      <td>70.000000</td>\n",
              "      <td>0.980000</td>\n",
              "      <td>0.340000</td>\n",
              "      <td>0.130000</td>\n",
              "      <td>0.410000</td>\n",
              "      <td>1.280000</td>\n",
              "      <td>0.480000</td>\n",
              "      <td>1.270000</td>\n",
              "      <td>278.000000</td>\n",
              "    </tr>\n",
              "    <tr>\n",
              "      <th>25%</th>\n",
              "      <td>1.000000</td>\n",
              "      <td>12.362500</td>\n",
              "      <td>1.602500</td>\n",
              "      <td>2.210000</td>\n",
              "      <td>17.200000</td>\n",
              "      <td>88.000000</td>\n",
              "      <td>1.742500</td>\n",
              "      <td>1.205000</td>\n",
              "      <td>0.270000</td>\n",
              "      <td>1.250000</td>\n",
              "      <td>3.220000</td>\n",
              "      <td>0.782500</td>\n",
              "      <td>1.937500</td>\n",
              "      <td>500.500000</td>\n",
              "    </tr>\n",
              "    <tr>\n",
              "      <th>50%</th>\n",
              "      <td>2.000000</td>\n",
              "      <td>13.050000</td>\n",
              "      <td>1.865000</td>\n",
              "      <td>2.360000</td>\n",
              "      <td>19.500000</td>\n",
              "      <td>98.000000</td>\n",
              "      <td>2.355000</td>\n",
              "      <td>2.135000</td>\n",
              "      <td>0.340000</td>\n",
              "      <td>1.555000</td>\n",
              "      <td>4.690000</td>\n",
              "      <td>0.965000</td>\n",
              "      <td>2.780000</td>\n",
              "      <td>673.500000</td>\n",
              "    </tr>\n",
              "    <tr>\n",
              "      <th>75%</th>\n",
              "      <td>3.000000</td>\n",
              "      <td>13.677500</td>\n",
              "      <td>3.082500</td>\n",
              "      <td>2.557500</td>\n",
              "      <td>21.500000</td>\n",
              "      <td>107.000000</td>\n",
              "      <td>2.800000</td>\n",
              "      <td>2.875000</td>\n",
              "      <td>0.437500</td>\n",
              "      <td>1.950000</td>\n",
              "      <td>6.200000</td>\n",
              "      <td>1.120000</td>\n",
              "      <td>3.170000</td>\n",
              "      <td>985.000000</td>\n",
              "    </tr>\n",
              "    <tr>\n",
              "      <th>max</th>\n",
              "      <td>3.000000</td>\n",
              "      <td>14.830000</td>\n",
              "      <td>5.800000</td>\n",
              "      <td>3.230000</td>\n",
              "      <td>30.000000</td>\n",
              "      <td>162.000000</td>\n",
              "      <td>3.880000</td>\n",
              "      <td>5.080000</td>\n",
              "      <td>0.660000</td>\n",
              "      <td>3.580000</td>\n",
              "      <td>13.000000</td>\n",
              "      <td>1.710000</td>\n",
              "      <td>4.000000</td>\n",
              "      <td>1680.000000</td>\n",
              "    </tr>\n",
              "  </tbody>\n",
              "</table>\n",
              "</div>\n",
              "      <button class=\"colab-df-convert\" onclick=\"convertToInteractive('df-3efba957-0ada-48be-8849-a3c9c4ccc6ab')\"\n",
              "              title=\"Convert this dataframe to an interactive table.\"\n",
              "              style=\"display:none;\">\n",
              "        \n",
              "  <svg xmlns=\"http://www.w3.org/2000/svg\" height=\"24px\"viewBox=\"0 0 24 24\"\n",
              "       width=\"24px\">\n",
              "    <path d=\"M0 0h24v24H0V0z\" fill=\"none\"/>\n",
              "    <path d=\"M18.56 5.44l.94 2.06.94-2.06 2.06-.94-2.06-.94-.94-2.06-.94 2.06-2.06.94zm-11 1L8.5 8.5l.94-2.06 2.06-.94-2.06-.94L8.5 2.5l-.94 2.06-2.06.94zm10 10l.94 2.06.94-2.06 2.06-.94-2.06-.94-.94-2.06-.94 2.06-2.06.94z\"/><path d=\"M17.41 7.96l-1.37-1.37c-.4-.4-.92-.59-1.43-.59-.52 0-1.04.2-1.43.59L10.3 9.45l-7.72 7.72c-.78.78-.78 2.05 0 2.83L4 21.41c.39.39.9.59 1.41.59.51 0 1.02-.2 1.41-.59l7.78-7.78 2.81-2.81c.8-.78.8-2.07 0-2.86zM5.41 20L4 18.59l7.72-7.72 1.47 1.35L5.41 20z\"/>\n",
              "  </svg>\n",
              "      </button>\n",
              "      \n",
              "  <style>\n",
              "    .colab-df-container {\n",
              "      display:flex;\n",
              "      flex-wrap:wrap;\n",
              "      gap: 12px;\n",
              "    }\n",
              "\n",
              "    .colab-df-convert {\n",
              "      background-color: #E8F0FE;\n",
              "      border: none;\n",
              "      border-radius: 50%;\n",
              "      cursor: pointer;\n",
              "      display: none;\n",
              "      fill: #1967D2;\n",
              "      height: 32px;\n",
              "      padding: 0 0 0 0;\n",
              "      width: 32px;\n",
              "    }\n",
              "\n",
              "    .colab-df-convert:hover {\n",
              "      background-color: #E2EBFA;\n",
              "      box-shadow: 0px 1px 2px rgba(60, 64, 67, 0.3), 0px 1px 3px 1px rgba(60, 64, 67, 0.15);\n",
              "      fill: #174EA6;\n",
              "    }\n",
              "\n",
              "    [theme=dark] .colab-df-convert {\n",
              "      background-color: #3B4455;\n",
              "      fill: #D2E3FC;\n",
              "    }\n",
              "\n",
              "    [theme=dark] .colab-df-convert:hover {\n",
              "      background-color: #434B5C;\n",
              "      box-shadow: 0px 1px 3px 1px rgba(0, 0, 0, 0.15);\n",
              "      filter: drop-shadow(0px 1px 2px rgba(0, 0, 0, 0.3));\n",
              "      fill: #FFFFFF;\n",
              "    }\n",
              "  </style>\n",
              "\n",
              "      <script>\n",
              "        const buttonEl =\n",
              "          document.querySelector('#df-3efba957-0ada-48be-8849-a3c9c4ccc6ab button.colab-df-convert');\n",
              "        buttonEl.style.display =\n",
              "          google.colab.kernel.accessAllowed ? 'block' : 'none';\n",
              "\n",
              "        async function convertToInteractive(key) {\n",
              "          const element = document.querySelector('#df-3efba957-0ada-48be-8849-a3c9c4ccc6ab');\n",
              "          const dataTable =\n",
              "            await google.colab.kernel.invokeFunction('convertToInteractive',\n",
              "                                                     [key], {});\n",
              "          if (!dataTable) return;\n",
              "\n",
              "          const docLinkHtml = 'Like what you see? Visit the ' +\n",
              "            '<a target=\"_blank\" href=https://colab.research.google.com/notebooks/data_table.ipynb>data table notebook</a>'\n",
              "            + ' to learn more about interactive tables.';\n",
              "          element.innerHTML = '';\n",
              "          dataTable['output_type'] = 'display_data';\n",
              "          await google.colab.output.renderOutput(dataTable, element);\n",
              "          const docLink = document.createElement('div');\n",
              "          docLink.innerHTML = docLinkHtml;\n",
              "          element.appendChild(docLink);\n",
              "        }\n",
              "      </script>\n",
              "    </div>\n",
              "  </div>\n",
              "  "
            ]
          },
          "metadata": {},
          "execution_count": 24
        }
      ],
      "source": [
        "wine.describe()"
      ]
    },
    {
      "cell_type": "markdown",
      "metadata": {
        "id": "oR3X_SXYe6WL"
      },
      "source": [
        "<!-- BEGIN QUESTION -->\n",
        "\n",
        "### Ex5. Clustering on Wine Data\n",
        "\n",
        "First, standardize the data so that it all has mean = 0, std = 1 for each column. \n",
        "\n",
        "Then, run KMeans clustering for k= 2, 3, ..., 10,  use random_state = 0.\n",
        "\n",
        "Record the inertia and adjusted rand score for each number of groups. \n",
        "\n",
        "Plot (2 plots side-by-side) the inertia and adjusted rand score vs. the number of groups. "
      ]
    },
    {
      "cell_type": "code",
      "execution_count": 65,
      "metadata": {
        "id": "zEIZTpOmPf3S",
        "tags": [],
        "colab": {
          "base_uri": "https://localhost:8080/",
          "height": 354
        },
        "outputId": "d28c5d68-33b5-4a69-fc93-0c49d544fb00"
      },
      "outputs": [
        {
          "output_type": "display_data",
          "data": {
            "text/plain": [
              "<Figure size 1080x360 with 2 Axes>"
            ],
            "image/png": "[encoded data removed]"
          },
          "metadata": {
            "needs_background": "light"
          }
        }
      ],
      "source": [
        "from sklearn import preprocessing\n",
        "from sklearn.preprocessing import StandardScaler\n",
        "\n",
        "scaler = StandardScaler()\n",
        "X = scaler.fit_transform(X)\n",
        "\n",
        "inert = []\n",
        "ari = []\n",
        "k_list = []\n",
        "kvals = range(2,11)\n",
        "for k in kvals:\n",
        "    km = KMeans(init='random', n_clusters=k, random_state=0)\n",
        "    km.fit(X) \n",
        "    inert.append(km.inertia_)\n",
        "    ari.append(metrics.adjusted_rand_score(y.ravel(), km.labels_))\n",
        "    k_list.append(k)\n",
        "\n",
        "# plots \n",
        "plt.figure(figsize=(15,5))\n",
        "\n",
        "plt.subplot(1,2,1)\n",
        "plt.plot(k_list, inert)\n",
        "plt.title('Inertia vs number of clusters', fontsize=14)\n",
        "plt.xlabel('K', fontsize=12)\n",
        "plt.ylabel('Inertia', fontsize=12)\n",
        "x_ticks = [2,3,4,5,6,7,8,9,10]\n",
        "x_labels = [2,3,4,5,6,7,8,9,10]\n",
        "plt.xticks(ticks=x_ticks, labels=x_labels)\n",
        "\n",
        "plt.subplot(1,2,2)  \n",
        "plt.plot(k_list, ari)\n",
        "plt.title('Adjusted rand score vs number of clusters', fontsize=14)\n",
        "plt.xlabel('K', fontsize=12)\n",
        "plt.ylabel('Adjusted rand score', fontsize=12)\n",
        "x_ticks = [2,3,4,5,6,7,8,9,10]\n",
        "x_labels = [2,3,4,5,6,7,8,9,10]\n",
        "plt.xticks(ticks=x_ticks, labels=x_labels)\n",
        "plt.show();"
      ]
    },
    {
      "cell_type": "markdown",
      "metadata": {
        "id": "birTj37x16iX"
      },
      "source": [
        "<!-- END QUESTION -->\n",
        "\n"
      ]
    }
  ],
  "metadata": {
    "colab": {
      "collapsed_sections": [],
      "provenance": []
    },
    "kernelspec": {
      "display_name": "Python 3",
      "language": "python",
      "name": "python3"
    },
    "language_info": {
      "codemirror_mode": {
        "name": "ipython",
        "version": 3
      },
      "file_extension": ".py",
      "mimetype": "text/x-python",
      "name": "python",
      "nbconvert_exporter": "python",
      "pygments_lexer": "ipython3",
      "version": "3.7.4"
    },
    "otter": {
      "OK_FORMAT": true,
      "tests": {
        "q1a": {
          "name": "q1a",
          "points": 0.5,
          "suites": [
            {
              "cases": [
                {
                  "code": ">>> type(X) == np.ndarray\nTrue",
                  "hidden": false,
                  "locked": false
                },
                {
                  "code": ">>> np.isclose(X[1,1], -7.5810221587) and np.isclose(X[103,0], 8.2798445411) and \\\n... np.isclose(X[52,0], 6.26504432) and np.isclose(X[88,1], 12.02232051)\nTrue",
                  "hidden": false,
                  "locked": false
                },
                {
                  "code": ">>> np.isclose(X.mean(), 0.56484220)\nTrue",
                  "hidden": false,
                  "locked": false
                },
                {
                  "code": ">>> all(y[5:10] == [2, 0, 2, 2, 1])\nTrue",
                  "hidden": false,
                  "locked": false
                },
                {
                  "code": ">>> np.isclose(X.min(), -15.1713109) and np.isclose(X.max(), 17.892131726)\nTrue",
                  "hidden": false,
                  "locked": false
                }
              ],
              "scored": true,
              "setup": "",
              "teardown": "",
              "type": "doctest"
            }
          ]
        },
        "q4a": {
          "name": "q4a",
          "points": 1,
          "suites": [
            {
              "cases": [
                {
                  "code": ">>> np.isclose(km.inertia_, 121.13542823)\nTrue",
                  "hidden": false,
                  "locked": false
                },
                {
                  "code": ">>> np.isclose(metrics.adjusted_rand_score(y, y_km), 0.2408392299)\nTrue",
                  "hidden": false,
                  "locked": false
                }
              ],
              "scored": true,
              "setup": "",
              "teardown": "",
              "type": "doctest"
            }
          ]
        },
        "q4b": {
          "name": "q4b",
          "points": 1,
          "suites": [
            {
              "cases": [
                {
                  "code": ">>> all(hc.children_[5] == np.array([8, 204])) and \\\n... all(hc.children_[102] == np.array([127, 163])) and \\\n... all(hc.children_[48] == np.array([133, 326]))\nTrue",
                  "hidden": false,
                  "locked": false
                },
                {
                  "code": ">>> all(hc.labels_[58:63] == [0, 0, 1, 1, 0])\nTrue",
                  "hidden": false,
                  "locked": false
                }
              ],
              "scored": true,
              "setup": "",
              "teardown": "",
              "type": "doctest"
            }
          ]
        }
      }
    }
  },
  "nbformat": 4,
  "nbformat_minor": 0
}