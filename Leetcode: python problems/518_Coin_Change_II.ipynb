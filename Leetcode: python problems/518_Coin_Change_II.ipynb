{
  "nbformat": 4,
  "nbformat_minor": 0,
  "metadata": {
    "colab": {
      "provenance": []
    },
    "kernelspec": {
      "name": "python3",
      "display_name": "Python 3"
    },
    "language_info": {
      "name": "python"
    }
  },
  "cells": [
    {
      "cell_type": "code",
      "execution_count": null,
      "metadata": {
        "id": "EfzaVLCyjGeD"
      },
      "outputs": [],
      "source": [
        "'''\n",
        "You are given an integer array coins representing coins of different denominations \n",
        "and an integer amount representing a total amount of money.\n",
        "Return the number of combinations that make up that amount. If that amount of money \n",
        "cannot be made up by any combination of the coins, return 0.\n",
        "You may assume that you have an infinite number of each kind of coin.\n",
        "The answer is guaranteed to fit into a signed 32-bit integer.\n",
        "\n",
        "Example 1:\n",
        "Input: amount = 5, coins = [1,2,5]\n",
        "Output: 4\n",
        "Explanation: there are four ways to make up the amount:\n",
        "5=5\n",
        "5=2+2+1\n",
        "5=2+1+1+1\n",
        "5=1+1+1+1+1\n",
        "\n",
        "Constraints:\n",
        "1 <= coins.length <= 300\n",
        "1 <= coins[i] <= 5000\n",
        "All the values of coins are unique.\n",
        "0 <= amount <= 5000\n",
        "'''\n",
        "class Solution:\n",
        "    def change(self, amount: int, coins: List[int]) -> int:\n",
        "        cache = {}\n",
        "        def dfs(i, rem):\n",
        "            if i >= len(coins):\n",
        "                return 0\n",
        "            if rem == 0:\n",
        "                return 1\n",
        "            elif rem < 0:\n",
        "                return 0\n",
        "            if (i, rem) not in cache:\n",
        "                cache[(i, rem)] = dfs(i, rem-coins[i]) + dfs(i+1, rem)\n",
        "            return cache[(i, rem)]\n",
        "        return dfs(0, amount)"
      ]
    }
  ]
}