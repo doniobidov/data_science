{
  "nbformat": 4,
  "nbformat_minor": 0,
  "metadata": {
    "colab": {
      "provenance": []
    },
    "kernelspec": {
      "name": "python3",
      "display_name": "Python 3"
    },
    "language_info": {
      "name": "python"
    }
  },
  "cells": [
    {
      "cell_type": "code",
      "execution_count": null,
      "metadata": {
        "id": "JfCexqMps2uX"
      },
      "outputs": [],
      "source": [
        "'''\n",
        "Given an array nums of distinct integers, return all the possible permutations. \n",
        "You can return the answer in any order.\n",
        "\n",
        "Example 1:\n",
        "Input: nums = [1,2,3]\n",
        "Output: [[1,2,3],[1,3,2],[2,1,3],[2,3,1],[3,1,2],[3,2,1]]\n",
        "\n",
        "Constraints:\n",
        "1 <= nums.length <= 6\n",
        "-10 <= nums[i] <= 10\n",
        "All the integers of nums are unique.\n",
        "'''\n",
        "\n",
        "class Solution:\n",
        "    def permute(self, nums: List[int]) -> List[List[int]]:\n",
        "        res = []\n",
        "        def dfs(rem, seq):\n",
        "            if len(rem) <= 0:\n",
        "                res.append(seq.copy())\n",
        "                return\n",
        "            for i in range(len(rem)):\n",
        "                s, r = seq.copy(), rem.copy()\n",
        "                s.append(r.pop(i))\n",
        "                dfs(r, s)\n",
        "        dfs(nums, [])\n",
        "        return res"
      ]
    }
  ]
}