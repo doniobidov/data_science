{
  "nbformat": 4,
  "nbformat_minor": 0,
  "metadata": {
    "colab": {
      "provenance": []
    },
    "kernelspec": {
      "name": "python3",
      "display_name": "Python 3"
    },
    "language_info": {
      "name": "python"
    }
  },
  "cells": [
    {
      "cell_type": "code",
      "execution_count": null,
      "metadata": {
        "id": "M5tNChpA40xF"
      },
      "outputs": [],
      "source": [
        "'''\n",
        "You are a professional robber planning to rob houses along a street. \n",
        "Each house has a certain amount of money stashed, \n",
        "the only constraint stopping you from robbing each of them is that adjacent houses have security systems connected \n",
        "and it will automatically contact the police if two adjacent houses were broken into on the same night.\n",
        "Given an integer array nums representing the amount of money of each house, \n",
        "return the maximum amount of money you can rob tonight without alerting the police.\n",
        "\n",
        "Example:\n",
        "Input: nums = [2,7,9,3,1]\n",
        "Output: 12\n",
        "Explanation: Rob house 1 (money = 2), rob house 3 (money = 9) and rob house 5 (money = 1).\n",
        "Total amount you can rob = 2 + 9 + 1 = 12.\n",
        "'''\n",
        "class Solution:\n",
        "    def rob(self, nums: List[int]) -> int:\n",
        "        cache = dict()\n",
        "        def dp(i):\n",
        "            if i in cache:\n",
        "                return cache[i]   \n",
        "            if i == len(nums)-1:\n",
        "                return nums[-1]\n",
        "            elif i == len(nums)-2:\n",
        "                cache[i] = max(nums[-1], nums[-2])\n",
        "            elif i == len(nums)-3:\n",
        "                cache[i] = max(nums[-1]+nums[-3], nums[-2])\n",
        "            else:\n",
        "                cache[i] = max(nums[i]+dp(i+2),nums[i+1]+dp(i+3))\n",
        "            return cache[i]\n",
        "        return dp(0)"
      ]
    }
  ]
}