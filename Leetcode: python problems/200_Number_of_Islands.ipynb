{
  "nbformat": 4,
  "nbformat_minor": 0,
  "metadata": {
    "colab": {
      "provenance": []
    },
    "kernelspec": {
      "name": "python3",
      "display_name": "Python 3"
    },
    "language_info": {
      "name": "python"
    }
  },
  "cells": [
    {
      "cell_type": "code",
      "execution_count": 36,
      "metadata": {
        "colab": {
          "base_uri": "https://localhost:8080/"
        },
        "id": "ZFc1rifEXBIN",
        "outputId": "52435458-fccd-4c85-c4ba-7bdd9b3be221"
      },
      "outputs": [
        {
          "output_type": "execute_result",
          "data": {
            "text/plain": [
              "3"
            ]
          },
          "metadata": {},
          "execution_count": 36
        }
      ],
      "source": [
        "'''\n",
        "Given an m x n 2D binary grid grid which represents a map of '1's (land) and '0's (water), return the number of islands.\n",
        "An island is surrounded by water and is formed by connecting adjacent lands horizontally or vertically. \n",
        "You may assume all four edges of the grid are all surrounded by water.\n",
        "\n",
        "Example 1:\n",
        "Input: grid = \n",
        "[[\"1\",\"1\",\"1\",\"1\",\"0\"],\n",
        " [\"1\",\"1\",\"0\",\"1\",\"0\"],\n",
        " [\"1\",\"1\",\"0\",\"0\",\"0\"],\n",
        " [\"0\",\"0\",\"0\",\"0\",\"0\"]]\n",
        "'''\n",
        "\n",
        "class Solution:\n",
        "    def numIslands(self, grid: List[List[str]]) -> int:\n",
        "        islands = 0\n",
        "        visited = set()\n",
        "        rows, columns = len(grid), len(grid[0])\n",
        "        actions = [(1,0),(-1,0),(0,1),(0,-1)]\n",
        "\n",
        "        def bfs(r, c):\n",
        "            queue = collections.deque()\n",
        "            visited.add((r, c))\n",
        "            queue.append((r, c))\n",
        "            while queue:\n",
        "                row, column = queue.popleft()\n",
        "                for r, c in actions:\n",
        "                    if (row + r) in range(rows) and (column + c) in range(columns) and (row + r, column + c) not in visited and grid[row + r][column + c] == \"1\" :\n",
        "                        queue.append((row + r, column + c))\n",
        "                        visited.add((row + r, column + c))\n",
        "            return visited\n",
        "\n",
        "        for i in range(rows):\n",
        "            for j in range(columns):\n",
        "                if grid[i][j] == \"1\" and (i, j) not in visited:\n",
        "                    islands += 1\n",
        "                    visited.union(bfs(i, j))\n",
        "        return islan"
      ]
    }
  ]
}