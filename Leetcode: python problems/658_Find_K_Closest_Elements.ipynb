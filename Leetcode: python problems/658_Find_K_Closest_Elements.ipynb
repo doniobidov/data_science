{
  "nbformat": 4,
  "nbformat_minor": 0,
  "metadata": {
    "colab": {
      "provenance": []
    },
    "kernelspec": {
      "name": "python3",
      "display_name": "Python 3"
    },
    "language_info": {
      "name": "python"
    }
  },
  "cells": [
    {
      "cell_type": "code",
      "execution_count": null,
      "metadata": {
        "id": "vYdFqoRx5rWh"
      },
      "outputs": [],
      "source": [
        "'''\n",
        "Given a sorted integer array arr, two integers k and x, return the k closest \n",
        "integers to x in the array. The result should also be sorted in ascending order.\n",
        "An integer a is closer to x than an integer b if:\n",
        "|a - x| < |b - x|, or\n",
        "|a - x| == |b - x| and a < b\n",
        "\n",
        "Example 1:\n",
        "Input: arr = [1,2,3,4,5], k = 4, x = 3\n",
        "Output: [1,2,3,4]\n",
        "\n",
        "Constraints:\n",
        "1 <= k <= arr.length\n",
        "1 <= arr.length <= 104\n",
        "arr is sorted in ascending order.\n",
        "-104 <= arr[i], x <= 104\n",
        "'''\n",
        "class Solution:\n",
        "    def findClosestElements(self, arr: List[int], k: int, x: int) -> List[int]:\n",
        "        if len(arr) == k:\n",
        "            return arr\n",
        "        if x > arr[-1]:\n",
        "            return arr[len(arr)-k:]\n",
        "        if x < arr[0]:\n",
        "            return arr[0:k]\n",
        "        def min_find(arr, x):\n",
        "            l, r = 0, len(arr)-1\n",
        "            res = (abs(arr[0]-x), 0)\n",
        "            while l <= r:\n",
        "                m = (l+r)//2\n",
        "                res = min(res, (abs(arr[m]-x), m))\n",
        "                if arr[m] > x:\n",
        "                    r = m-1\n",
        "                elif arr[m] < x:\n",
        "                    l = m+1\n",
        "                else:\n",
        "                    return res[1]\n",
        "            return res[1]\n",
        "        small = min_find(arr, x)\n",
        "        print(small)\n",
        "        res = [arr[small]]\n",
        "        l, r = small - 1, small + 1\n",
        "        while len(res) < k:\n",
        "            if r >= len(arr) or abs(arr[l]-x) <= abs(arr[r]-x):\n",
        "                res.append(arr[l])\n",
        "                l -= 1\n",
        "            else:\n",
        "                res.append(arr[r])\n",
        "                r += 1\n",
        "        return sorted(res)"
      ]
    }
  ]
}