{
  "nbformat": 4,
  "nbformat_minor": 0,
  "metadata": {
    "colab": {
      "provenance": []
    },
    "kernelspec": {
      "name": "python3",
      "display_name": "Python 3"
    },
    "language_info": {
      "name": "python"
    }
  },
  "cells": [
    {
      "cell_type": "code",
      "execution_count": null,
      "metadata": {
        "id": "V6Y8TIzIVEf1"
      },
      "outputs": [],
      "source": [
        "'''\n",
        "Koko loves to eat bananas. There are n piles of bananas, the ith pile has piles[i] bananas. \n",
        "The guards have gone and will come back in h hours.\n",
        "\n",
        "Koko can decide her bananas-per-hour eating speed of k. Each hour, she chooses some pile of bananas \n",
        "and eats k bananas from that pile. If the pile has less than k bananas, she eats all of them instead and will not eat any more bananas during this hour.\n",
        "Koko likes to eat slowly but still wants to finish eating all the bananas before the guards return.\n",
        "Return the minimum integer k such that she can eat all the bananas within h hours.\n",
        "\n",
        "Example 1:\n",
        "Input: piles = [3,6,7,11], h = 8\n",
        "Output: 4\n",
        "\n",
        "Constraints:\n",
        "1 <= piles.length <= 104\n",
        "piles.length <= h <= 109\n",
        "1 <= piles[i] <= 109\n",
        "'''\n",
        "class Solution:\n",
        "    def minEatingSpeed(self, piles: List[int], h: int) -> int:\n",
        "        def time(speed):\n",
        "            h = 0\n",
        "            for pile in piles:\n",
        "                h += math.ceil(pile/speed)\n",
        "            return h\n",
        "        l, r = 1, max(piles)\n",
        "        res = max(piles)\n",
        "        while l <= r:\n",
        "            m = (r+l)//2\n",
        "            if time(m) > h:\n",
        "                l = m+1\n",
        "            else:\n",
        "                res = min(res, m)\n",
        "                r = m-1\n",
        "        return res"
      ]
    }
  ]
}