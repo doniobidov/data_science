{
  "nbformat": 4,
  "nbformat_minor": 0,
  "metadata": {
    "colab": {
      "provenance": []
    },
    "kernelspec": {
      "name": "python3",
      "display_name": "Python 3"
    },
    "language_info": {
      "name": "python"
    }
  },
  "cells": [
    {
      "cell_type": "code",
      "execution_count": null,
      "metadata": {
        "id": "SWcbbOqBAtZo"
      },
      "outputs": [],
      "source": [
        "'''\n",
        "A message containing letters from A-Z can be encoded into numbers using the following mapping:\n",
        "'A' -> \"1\"\n",
        "'B' -> \"2\"\n",
        "...\n",
        "'Z' -> \"26\"\n",
        "To decode an encoded message, all the digits must be grouped then mapped back into letters using the reverse of the mapping above \n",
        "(there may be multiple ways). For example, \"11106\" can be mapped into:\n",
        "\"AAJF\" with the grouping (1 1 10 6)\n",
        "\"KJF\" with the grouping (11 10 6)\n",
        "Note that the grouping (1 11 06) is invalid because \"06\" cannot be mapped into 'F' since \"6\" is different from \"06\".\n",
        "Given a string s containing only digits, return the number of ways to decode it.\n",
        "The test cases are generated so that the answer fits in a 32-bit integer.\n",
        "\n",
        "Example:\n",
        "Input: s = \"226\"\n",
        "Output: 3\n",
        "Explanation: \"226\" could be decoded as \"BZ\" (2 26), \"VF\" (22 6), or \"BBF\" (2 2 6).\n",
        "'''\n",
        "class Solution:\n",
        "    def numDecodings(self, s: str) -> int:\n",
        "        dp = {}\n",
        "        h_set = set([str(i) for i in range(1,27)])\n",
        "        def dfs(i):\n",
        "            if i == len(s)-1:\n",
        "                return 1 if s[i] in h_set else 0\n",
        "            if i == len(s)-2:\n",
        "                if s[i] not in h_set:\n",
        "                    return 0\n",
        "                if s[len(s)-2:] in h_set and s[len(s)-1] in h_set:\n",
        "                    return 2\n",
        "                elif s[len(s)-2:] in h_set or s[len(s)-1] in h_set:\n",
        "                    return 1\n",
        "                else:\n",
        "                    return 0\n",
        "            if i+1 not in dp:\n",
        "                dp[i+1] = dfs(i+1)\n",
        "            if i+2 not in dp:\n",
        "                dp[i+2] = dfs(i+2)\n",
        "            first = dp[i+1] if s[i] in h_set else 0\n",
        "            second = dp[i+2] if s[i:i+2] in h_set else 0\n",
        "            return first + second\n",
        "        return dfs(0)"
      ]
    }
  ]
}