{
  "nbformat": 4,
  "nbformat_minor": 0,
  "metadata": {
    "colab": {
      "provenance": []
    },
    "kernelspec": {
      "name": "python3",
      "display_name": "Python 3"
    },
    "language_info": {
      "name": "python"
    }
  },
  "cells": [
    {
      "cell_type": "code",
      "execution_count": null,
      "metadata": {
        "id": "fHVRl3Dj4TrG"
      },
      "outputs": [],
      "source": [
        "'''\n",
        "Given two strings s1 and s2, return true if s2 contains a permutation of s1, or false otherwise.\n",
        "In other words, return true if one of s1's permutations is the substring of s2.\n",
        "\n",
        "Example 1:\n",
        "Input: s1 = \"ab\", s2 = \"eidbaooo\"\n",
        "Output: true\n",
        "Explanation: s2 contains one permutation of s1 (\"ba\").\n",
        "\n",
        "Constraints:\n",
        "1 <= s1.length, s2.length <= 104\n",
        "s1 and s2 consist of lowercase English letters.\n",
        "'''\n",
        "class Solution:\n",
        "    def checkInclusion(self, s1: str, s2: str) -> bool:\n",
        "        if len(s1) > len(s2):\n",
        "            return False\n",
        "        s1_map = {}\n",
        "        for c in s1:\n",
        "            if c in s1_map:\n",
        "                s1_map[c] += 1\n",
        "            else:\n",
        "                s1_map[c] = 1\n",
        "        cur = {}\n",
        "        l = 0\n",
        "        for r in range(len(s2)):\n",
        "            if s2[r] in cur:\n",
        "                cur[s2[r]] += 1\n",
        "            else:\n",
        "                cur[s2[r]] = 1\n",
        "            if s2[r] not in s1_map:\n",
        "                l = r+1\n",
        "                cur = {}\n",
        "            else:\n",
        "                while cur[s2[r]] > s1_map[s2[r]]:\n",
        "                    cur[s2[l]] -= 1\n",
        "                    l += 1                    \n",
        "            if r-l+1 >= len(s1):\n",
        "                return True\n",
        "        return False"
      ]
    }
  ]
}