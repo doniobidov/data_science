{
  "nbformat": 4,
  "nbformat_minor": 0,
  "metadata": {
    "colab": {
      "provenance": []
    },
    "kernelspec": {
      "name": "python3",
      "display_name": "Python 3"
    },
    "language_info": {
      "name": "python"
    }
  },
  "cells": [
    {
      "cell_type": "code",
      "execution_count": null,
      "metadata": {
        "id": "-lCJQFrLGf6V"
      },
      "outputs": [],
      "source": [
        "'''\n",
        "Given an integer array nums and an integer k, return the kth largest element in the array.\n",
        "Note that it is the kth largest element in the sorted order, not the kth distinct element.\n",
        "You must solve it in O(n) time complexity.\n",
        "\n",
        "Example 1:\n",
        "Input: nums = [3,2,1,5,6,4], k = 2\n",
        "Output: 5\n",
        "\n",
        "Constraints:\n",
        "1 <= k <= nums.length <= 105\n",
        "-104 <= nums[i] <= 104\n",
        "'''\n",
        "\n",
        "class Solution:\n",
        "    def findKthLargest(self, nums: List[int], k: int) -> int:\n",
        "        heapq.heapify(nums)\n",
        "        while len(nums) > k:\n",
        "            heapq.heappop(nums)\n",
        "        return nums[0]"
      ]
    }
  ]
}