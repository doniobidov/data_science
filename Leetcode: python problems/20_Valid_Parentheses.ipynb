{
  "nbformat": 4,
  "nbformat_minor": 0,
  "metadata": {
    "colab": {
      "provenance": []
    },
    "kernelspec": {
      "name": "python3",
      "display_name": "Python 3"
    },
    "language_info": {
      "name": "python"
    }
  },
  "cells": [
    {
      "cell_type": "code",
      "execution_count": 2,
      "metadata": {
        "colab": {
          "base_uri": "https://localhost:8080/"
        },
        "id": "E9u9dQe9uNxv",
        "outputId": "4f19a67f-6de8-4e4a-d32d-c08553ca9390"
      },
      "outputs": [
        {
          "output_type": "execute_result",
          "data": {
            "text/plain": [
              "1"
            ]
          },
          "metadata": {},
          "execution_count": 2
        }
      ],
      "source": [
        "'''\n",
        "Given a string s containing just the characters '(', ')', '{', '}', '[' and ']',\n",
        "determine if the input string is valid.\n",
        "An input string is valid if:\n",
        "Open brackets must be closed by the same type of brackets.\n",
        "Open brackets must be closed in the correct order.\n",
        "Every close bracket has a corresponding open bracket of the same type.\n",
        "'''\n",
        "\n",
        "class Solution:\n",
        "    def isValid(self, s: str) -> bool:\n",
        "        char_map = {'(':')', '{':'}', '[':']'}\n",
        "        stack = []\n",
        "        for c in s:\n",
        "            if c in char_map:\n",
        "                stack.append(c)\n",
        "            else:\n",
        "                if not stack:\n",
        "                    return False\n",
        "                if c != char_map[stack[-1]]:\n",
        "                    return False\n",
        "                stack.pop()\n",
        "        if not stack:\n",
        "            return True\n",
        "        else:\n",
        "            return False"
      ]
    }
  ]
}