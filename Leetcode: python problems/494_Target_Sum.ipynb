{
  "nbformat": 4,
  "nbformat_minor": 0,
  "metadata": {
    "colab": {
      "provenance": []
    },
    "kernelspec": {
      "name": "python3",
      "display_name": "Python 3"
    },
    "language_info": {
      "name": "python"
    }
  },
  "cells": [
    {
      "cell_type": "code",
      "execution_count": null,
      "metadata": {
        "id": "a7NcxlaGwLdw"
      },
      "outputs": [],
      "source": [
        "'''\n",
        "You are given an integer array nums and an integer target.\n",
        "You want to build an expression out of nums by adding one of the symbols '+' and \n",
        "'-' before each integer in nums and then concatenate all the integers.\n",
        "For example, if nums = [2, 1], you can add a '+' before 2 and a '-' before 1 and \n",
        "concatenate them to build the expression \"+2-1\".\n",
        "Return the number of different expressions that you can build, which evaluates to target.\n",
        "\n",
        "Example 1:\n",
        "Input: nums = [1,1,1,1,1], target = 3\n",
        "Output: 5\n",
        "Explanation: There are 5 ways to assign symbols to make the sum of nums be target 3.\n",
        "-1 + 1 + 1 + 1 + 1 = 3\n",
        "+1 - 1 + 1 + 1 + 1 = 3\n",
        "+1 + 1 - 1 + 1 + 1 = 3\n",
        "+1 + 1 + 1 - 1 + 1 = 3\n",
        "+1 + 1 + 1 + 1 - 1 = 3\n",
        "\n",
        "Constraints:\n",
        "1 <= nums.length <= 20\n",
        "0 <= nums[i] <= 1000\n",
        "0 <= sum(nums[i]) <= 1000\n",
        "-1000 <= target <= 1000\n",
        "'''\n",
        "class Solution:\n",
        "    def findTargetSumWays(self, nums: List[int], target: int) -> int:\n",
        "        hash_map = {}\n",
        "        def dfs(i, rem):\n",
        "            if i == len(nums) and rem == 0:\n",
        "                return 1\n",
        "            elif i == len(nums) and rem != 0:\n",
        "                return 0\n",
        "            if (i+1, rem+nums[i]) not in hash_map:\n",
        "                hash_map[(i+1, rem+nums[i])] = dfs(i+1, rem+nums[i])\n",
        "            if (i+1, rem-nums[i]) not in hash_map:\n",
        "                hash_map[(i+1, rem-nums[i])] = dfs(i+1, rem-nums[i])\n",
        "            return hash_map[(i+1, rem+nums[i])] + hash_map[(i+1, rem-nums[i])]\n",
        "        return dfs(0, target)"
      ]
    }
  ]
}