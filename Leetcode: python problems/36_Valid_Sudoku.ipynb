{
  "nbformat": 4,
  "nbformat_minor": 0,
  "metadata": {
    "colab": {
      "provenance": []
    },
    "kernelspec": {
      "name": "python3",
      "display_name": "Python 3"
    },
    "language_info": {
      "name": "python"
    }
  },
  "cells": [
    {
      "cell_type": "code",
      "execution_count": 42,
      "metadata": {
        "colab": {
          "base_uri": "https://localhost:8080/"
        },
        "id": "zEgsTr1Ss7Ec",
        "outputId": "78c25ffd-b069-4ec1-fd84-c1a42e68b7f0"
      },
      "outputs": [
        {
          "output_type": "execute_result",
          "data": {
            "text/plain": [
              "True"
            ]
          },
          "metadata": {},
          "execution_count": 42
        }
      ],
      "source": [
        "'''\n",
        "Determine if a 9 x 9 Sudoku board is valid. Only the filled cells need to be validated according to the following rules:\n",
        "Each row must contain the digits 1-9 without repetition.\n",
        "Each column must contain the digits 1-9 without repetition.\n",
        "Each of the nine 3 x 3 sub-boxes of the grid must contain the digits 1-9 without repetition.\n",
        "Note:\n",
        "A Sudoku board (partially filled) could be valid but is not necessarily solvable.\n",
        "Only the filled cells need to be validated according to the mentioned rules.\n",
        "'''\n",
        "\n",
        "board = [[\"5\",\"3\",\".\",\".\",\"7\",\".\",\".\",\".\",\".\"]\n",
        "        ,[\"6\",\".\",\".\",\"1\",\"9\",\"5\",\".\",\".\",\".\"]\n",
        "        ,[\".\",\"9\",\"8\",\".\",\".\",\".\",\".\",\"6\",\".\"]\n",
        "        ,[\"8\",\".\",\".\",\".\",\"6\",\".\",\".\",\".\",\"3\"]\n",
        "        ,[\"4\",\".\",\".\",\"8\",\".\",\"3\",\".\",\".\",\"1\"]\n",
        "        ,[\"7\",\".\",\".\",\".\",\"2\",\".\",\".\",\".\",\"6\"]\n",
        "        ,[\".\",\"6\",\".\",\".\",\".\",\".\",\"2\",\"8\",\".\"]\n",
        "        ,[\".\",\".\",\".\",\"4\",\"1\",\"9\",\".\",\".\",\"5\"]\n",
        "        ,[\".\",\".\",\".\",\".\",\"8\",\".\",\".\",\"7\",\"9\"]]\n",
        "\n",
        "def isValidSudoku(board):\n",
        "  row_hash = [set(), set(), set(), set(), set(), set(), set(), set(), set()]\n",
        "  col_hash = [set(), set(), set(), set(), set(), set(), set(), set(), set()]\n",
        "  block_hash = [[set(), set(), set()], [set(), set(), set()], [set(), set(), set()]]\n",
        "  for row in range(9):\n",
        "    for col in range(9):\n",
        "      if board[row][col] != \".\":\n",
        "        if (board[row][col] not in row_hash[row]) and (board[row][col] not in col_hash[col]) and (board[row][col] not in block_hash[row//3][col//3]):\n",
        "          row_hash[row].add(board[row][col])\n",
        "          col_hash[col].add(board[row][col])\n",
        "          block_hash[row//3][col//3].add(board[row][col])\n",
        "        else:\n",
        "          return False\n",
        "  return True\n",
        "\n",
        "isValidSudoku(board)"
      ]
    }
  ]
}