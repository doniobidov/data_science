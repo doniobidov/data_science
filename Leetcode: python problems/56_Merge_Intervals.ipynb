{
  "nbformat": 4,
  "nbformat_minor": 0,
  "metadata": {
    "colab": {
      "provenance": []
    },
    "kernelspec": {
      "name": "python3",
      "display_name": "Python 3"
    },
    "language_info": {
      "name": "python"
    }
  },
  "cells": [
    {
      "cell_type": "code",
      "execution_count": null,
      "metadata": {
        "id": "9htaLEWyNcdH"
      },
      "outputs": [],
      "source": [
        "'''\n",
        "Given an array of intervals where intervals[i] = [starti, endi], merge all overlapping intervals, \n",
        "and return an array of the non-overlapping intervals that cover all the intervals in the input.\n",
        "\n",
        "Example 1:\n",
        "Input: intervals = [[1,3],[2,6],[8,10],[15,18]]\n",
        "Output: [[1,6],[8,10],[15,18]]\n",
        "Explanation: Since intervals [1,3] and [2,6] overlap, merge them into [1,6].\n",
        "\n",
        "Constraints:\n",
        "1 <= intervals.length <= 104\n",
        "intervals[i].length == 2\n",
        "0 <= starti <= endi <= 104\n",
        "'''\n",
        "class Solution:\n",
        "    def merge(self, intervals: List[List[int]]) -> List[List[int]]:\n",
        "        intervals.sort()\n",
        "        res = [intervals[0]]\n",
        "        for i in range(1, len(intervals)):\n",
        "            if res[-1][1] < intervals[i][0]:\n",
        "                res.append(intervals[i])\n",
        "            else:\n",
        "                res[-1] = [min(intervals[i][0], res[-1][0]), max(intervals[i][1], res[-1][1])]\n",
        "        return res"
      ]
    }
  ]
}