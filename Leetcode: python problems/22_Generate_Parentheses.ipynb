{
  "nbformat": 4,
  "nbformat_minor": 0,
  "metadata": {
    "colab": {
      "provenance": []
    },
    "kernelspec": {
      "name": "python3",
      "display_name": "Python 3"
    },
    "language_info": {
      "name": "python"
    }
  },
  "cells": [
    {
      "cell_type": "code",
      "execution_count": null,
      "metadata": {
        "id": "QFJzx6Mgi8XD"
      },
      "outputs": [],
      "source": [
        "'''\n",
        "Given n pairs of parentheses, write a function to generate all combinations of well-formed parentheses.\n",
        "\n",
        "Example 1:\n",
        "Input: n = 3\n",
        "Output: [\"((()))\",\"(()())\",\"(())()\",\"()(())\",\"()()()\"]\n",
        "\n",
        "Constraints:\n",
        "1 <= n <= 8\n",
        "'''\n",
        "class Solution:\n",
        "    def generateParenthesis(self, n: int) -> List[str]:\n",
        "        res = []\n",
        "        stack = []\n",
        "        def dfs(l,r):\n",
        "            if l == r == n:\n",
        "                return res.append(''.join(stack))\n",
        "            if l <= n and r <= l:\n",
        "                stack.append('(')\n",
        "                dfs(l+1,r)\n",
        "                stack.pop()\n",
        "            if r <= l:\n",
        "                stack.append(')')\n",
        "                dfs(l,r+1)\n",
        "                stack.pop()\n",
        "        dfs(0, 0)\n",
        "        return res  "
      ]
    }
  ]
}