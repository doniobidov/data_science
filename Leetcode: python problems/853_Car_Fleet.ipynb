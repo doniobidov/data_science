{
  "nbformat": 4,
  "nbformat_minor": 0,
  "metadata": {
    "colab": {
      "provenance": []
    },
    "kernelspec": {
      "name": "python3",
      "display_name": "Python 3"
    },
    "language_info": {
      "name": "python"
    }
  },
  "cells": [
    {
      "cell_type": "code",
      "execution_count": null,
      "metadata": {
        "id": "N2emYEqrlKmM"
      },
      "outputs": [],
      "source": [
        "'''\n",
        "There are n cars going to the same destination along a one-lane road. The destination is target miles away.\n",
        "You are given two integer array position and speed, both of length n, where position[i] \n",
        "is the position of the ith car and speed[i] is the speed of the ith car (in miles per hour).\n",
        "A car can never pass another car ahead of it, but it can catch up to it and drive \n",
        "bumper to bumper at the same speed. The faster car will slow down to match the slower \n",
        "car's speed. The distance between these two cars is ignored (i.e., they are assumed to have the same position).\n",
        "A car fleet is some non-empty set of cars driving at the same position and same speed. Note that a single car is also a car fleet.\n",
        "If a car catches up to a car fleet right at the destination point, it will still be considered as one car fleet.\n",
        "Return the number of car fleets that will arrive at the destination.\n",
        "\n",
        "Example 1:\n",
        "Input: target = 12, position = [10,8,0,5,3], speed = [2,4,1,1,3]\n",
        "Output: 3\n",
        "Explanation:\n",
        "The cars starting at 10 (speed 2) and 8 (speed 4) become a fleet, meeting each other at 12.\n",
        "The car starting at 0 does not catch up to any other car, so it is a fleet by itself.\n",
        "The cars starting at 5 (speed 1) and 3 (speed 3) become a fleet, meeting each other at 6. The fleet moves at speed 1 until it reaches target.\n",
        "Note that no other cars meet these fleets before the destination, so the answer is 3.\n",
        "\n",
        "Constraints:\n",
        "n == position.length == speed.length\n",
        "1 <= n <= 105\n",
        "0 < target <= 106\n",
        "0 <= position[i] < target\n",
        "All the values of position are unique.\n",
        "0 < speed[i] <= 106\n",
        "'''\n",
        "class Solution:\n",
        "    def carFleet(self, target: int, position: List[int], speed: List[int]) -> int:\n",
        "        ordered = sorted([(p, i) for i, p in enumerate(position)])\n",
        "        stack = []\n",
        "        for p, i in ordered[::-1]:\n",
        "            if not stack or (target-p)/speed[i] > (target-position[stack[-1]])/speed[stack[-1]]:\n",
        "                stack.append(i)\n",
        "        return len(stack)"
      ]
    }
  ]
}