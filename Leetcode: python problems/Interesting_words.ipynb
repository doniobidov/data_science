{
  "nbformat": 4,
  "nbformat_minor": 0,
  "metadata": {
    "colab": {
      "provenance": []
    },
    "kernelspec": {
      "name": "python3",
      "display_name": "Python 3"
    },
    "language_info": {
      "name": "python"
    }
  },
  "cells": [
    {
      "cell_type": "code",
      "execution_count": null,
      "metadata": {
        "colab": {
          "base_uri": "https://localhost:8080/"
        },
        "id": "1mvHwgIp5nzv",
        "outputId": "5429fd6d-9903-424a-c1ca-7875802d55aa"
      },
      "outputs": [
        {
          "output_type": "stream",
          "name": "stdout",
          "text": [
            "1\n"
          ]
        }
      ],
      "source": [
        "# find number of interesting words in a sentence\n",
        "# an interesting word consists of exactly n consecutive similar letters\n",
        "# for example in 'aaaccccdd' only aaa is an interesting word (n=3)\n",
        "sentence = \"cccllaaaaaccc\"\n",
        "n = 2\n",
        "# l,r are left and right pointers\n",
        "def interesting_words(sentence, n):\n",
        "  l,r,n_temp,count = 0,1,0,0\n",
        "  while r <= len(sentence):\n",
        "    if r == len(sentence):\n",
        "      if n_temp == n-1:\n",
        "        count += 1\n",
        "    elif sentence[l] == sentence[r]:\n",
        "      n_temp += 1\n",
        "    elif sentence[l] != sentence[r]:\n",
        "      if n_temp == n-1:\n",
        "        count += 1\n",
        "      l = r\n",
        "      n_temp = 0\n",
        "    r += 1\n",
        "  return count\n",
        "\n",
        "print(interesting_words(sentence, n))\n"
      ]
    }
  ]
}