{
  "nbformat": 4,
  "nbformat_minor": 0,
  "metadata": {
    "colab": {
      "provenance": []
    },
    "kernelspec": {
      "name": "python3",
      "display_name": "Python 3"
    },
    "language_info": {
      "name": "python"
    }
  },
  "cells": [
    {
      "cell_type": "code",
      "execution_count": null,
      "metadata": {
        "id": "P1XQZaPM2SIE"
      },
      "outputs": [],
      "source": [
        "'''\n",
        "You are given an array of integers stones where stones[i] is the weight of the ith stone.\n",
        "We are playing a game with the stones. On each turn, we choose the heaviest two stones and smash them together.\n",
        "Suppose the heaviest two stones have weights x and y with x <= y. The result of this smash is:\n",
        "*If x == y, both stones are destroyed, and\n",
        "*If x != y, the stone of weight x is destroyed, and the stone of weight y has new weight y - x.\n",
        "At the end of the game, there is at most one stone left.\n",
        "Return the weight of the last remaining stone. If there are no stones left, return 0.\n",
        "\n",
        "Example 1:\n",
        "Input: stones = [2,7,4,1,8,1]\n",
        "Output: 1\n",
        "Explanation: \n",
        "We combine 7 and 8 to get 1 so the array converts to [2,4,1,1,1] then,\n",
        "we combine 2 and 4 to get 2 so the array converts to [2,1,1,1] then,\n",
        "we combine 2 and 1 to get 1 so the array converts to [1,1,1] then,\n",
        "we combine 1 and 1 to get 0 so the array converts to [1] then that's the value of the last stone.\n",
        "\n",
        "Constraints:\n",
        "1 <= stones.length <= 30\n",
        "1 <= stones[i] <= 1000\n",
        "'''\n",
        "\n",
        "class Solution:\n",
        "    def lastStoneWeight(self, stones: List[int]) -> int:\n",
        "        if len(stones) < 2:\n",
        "            return stones[0]\n",
        "        elif len(stones) == 2:\n",
        "            return abs(stones[0] - stones[1])\n",
        "        stones = [-stone for stone in stones]\n",
        "        heapq.heapify(stones)\n",
        "        while len(stones) > 2:\n",
        "            a, b = heapq.heappop(stones), heapq.heappop(stones)\n",
        "            if a != b:\n",
        "                heapq.heappush(stones, -1*abs(a - b))\n",
        "        if len(stones) < 2:\n",
        "            return abs(stones[0])\n",
        "        else:\n",
        "            return abs(stones[0] - stones[1])"
      ]
    }
  ]
}