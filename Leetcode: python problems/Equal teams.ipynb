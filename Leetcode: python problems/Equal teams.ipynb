{
  "nbformat": 4,
  "nbformat_minor": 0,
  "metadata": {
    "colab": {
      "provenance": []
    },
    "kernelspec": {
      "name": "python3",
      "display_name": "Python 3"
    },
    "language_info": {
      "name": "python"
    }
  },
  "cells": [
    {
      "cell_type": "code",
      "execution_count": 30,
      "metadata": {
        "colab": {
          "base_uri": "https://localhost:8080/"
        },
        "id": "vggMREPvl2uy",
        "outputId": "ab56caf6-5884-4414-db5b-059e2298d8ca"
      },
      "outputs": [
        {
          "output_type": "execute_result",
          "data": {
            "text/plain": [
              "5"
            ]
          },
          "metadata": {},
          "execution_count": 30
        }
      ],
      "source": [
        "from collections import Counter\n",
        "# team_size is a list with sizes of each team\n",
        "# remove players from maximum r teams (as many as you want)\n",
        "# so that you are left with the maximim number of equal teams\n",
        "# return number of teams\n",
        "teams_size = [2,1,2,2,1,4,3]\n",
        "r = 3\n",
        "# Counter counts occurances of each element in the list\n",
        "# and stores in a counter object (similar to dictionary) in descending order\n",
        "# the first element has the highest number of occurances\n",
        "# list(count) gives list of keys\n",
        "# we have at least n equal teams, where n is the first element in count\n",
        "def equal_teams(teams_size, r):\n",
        "  n = r\n",
        "  count = Counter(teams_size)\n",
        "  for i in range(1, len(count)):\n",
        "    if list(count)[i] > list(count)[0]:\n",
        "      if count[list(count)[i]] >= n:\n",
        "        return r + count[list(count)[0]]\n",
        "      n -= count[list(count)[i]]\n",
        "  return r - n + count[list(count)[0]]\n",
        "\n",
        "equal_teams(teams_size, r)"
      ]
    }
  ]
}