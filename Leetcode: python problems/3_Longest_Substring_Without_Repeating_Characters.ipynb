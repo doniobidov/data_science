{
  "nbformat": 4,
  "nbformat_minor": 0,
  "metadata": {
    "colab": {
      "provenance": []
    },
    "kernelspec": {
      "name": "python3",
      "display_name": "Python 3"
    },
    "language_info": {
      "name": "python"
    }
  },
  "cells": [
    {
      "cell_type": "code",
      "execution_count": null,
      "metadata": {
        "id": "cSRy24-Rwij6"
      },
      "outputs": [],
      "source": [
        "'''\n",
        "Given a string s, find the length of the longest \n",
        "substring without repeating characters.\n",
        "\n",
        "Example 1:\n",
        "Input: s = \"abcabcbb\"\n",
        "Output: 3\n",
        "Explanation: The answer is \"abc\", with the length of 3.\n",
        "'''\n",
        "class Solution:\n",
        "    def lengthOfLongestSubstring(self, s: str) -> int:\n",
        "        res = 0\n",
        "        hash_set = set()\n",
        "        l = 0\n",
        "        for r in range(len(s)):\n",
        "            while s[r] in hash_set:\n",
        "                hash_set.remove(s[l])\n",
        "                l += 1\n",
        "            hash_set.add(s[r])\n",
        "            res = max(res, r-l+1)\n",
        "        return res"
      ]
    }
  ]
}