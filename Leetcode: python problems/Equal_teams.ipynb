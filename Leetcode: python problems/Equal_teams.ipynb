{
  "nbformat": 4,
  "nbformat_minor": 0,
  "metadata": {
    "colab": {
      "provenance": []
    },
    "kernelspec": {
      "name": "python3",
      "display_name": "Python 3"
    },
    "language_info": {
      "name": "python"
    }
  },
  "cells": [
    {
      "cell_type": "code",
      "execution_count": 36,
      "metadata": {
        "colab": {
          "base_uri": "https://localhost:8080/"
        },
        "id": "vggMREPvl2uy",
        "outputId": "b1b76b00-877f-4c38-c2c5-b6e0afb25841"
      },
      "outputs": [
        {
          "output_type": "stream",
          "name": "stdout",
          "text": [
            "7\n"
          ]
        }
      ],
      "source": [
        "# team_size is a list with sizes of each team\n",
        "# remove players from maximum r teams (as many as you want)\n",
        "# so that you are left with the maximim number of equal teams\n",
        "# return number of teams\n",
        "teams_size = [2,1,2,2,1,4,3,1,1] #[4,3,2,2,2,1,1,1,1]\n",
        "r = 3\n",
        "\n",
        "def equal_teams(teams_size, r):\n",
        "  if len(teams_size) <= r+1:\n",
        "    return len(teams_size)\n",
        "  teams = sorted(teams_size, reverse=1)\n",
        "  global_max = r+1\n",
        "  local_max = 0\n",
        "  for i in range(r+1, len(teams)):\n",
        "    if local_max == 0:\n",
        "      local_max += 1\n",
        "    elif teams[i] == teams[i-1]:\n",
        "      local_max += 1\n",
        "    else:\n",
        "      global_max = max(global_max, r+1+local_max)\n",
        "      local_max = 0\n",
        "  return max(global_max, r+1+local_max)\n",
        "\n",
        "print(equal_teams(teams_size, r))"
      ]
    }
  ]
}