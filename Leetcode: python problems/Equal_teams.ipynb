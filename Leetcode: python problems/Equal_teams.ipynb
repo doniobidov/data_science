{
  "nbformat": 4,
  "nbformat_minor": 0,
  "metadata": {
    "colab": {
      "provenance": []
    },
    "kernelspec": {
      "name": "python3",
      "display_name": "Python 3"
    },
    "language_info": {
      "name": "python"
    }
  },
  "cells": [
    {
      "cell_type": "code",
      "execution_count": 54,
      "metadata": {
        "colab": {
          "base_uri": "https://localhost:8080/"
        },
        "id": "vggMREPvl2uy",
        "outputId": "216e8a01-8f27-4bf3-ffb6-c69527355219"
      },
      "outputs": [
        {
          "output_type": "stream",
          "name": "stdout",
          "text": [
            "5\n"
          ]
        }
      ],
      "source": [
        "# team_size is a list with sizes of each team\n",
        "# remove players from maximum r teams (as many as you want)\n",
        "# so that you are left with the maximim number of equal teams\n",
        "# return number of teams\n",
        "teams_size = [5,4,4,3,3,3,2,1,1,1]\n",
        "r = 2\n",
        "\n",
        "def equal_teams(teams_size,r):\n",
        "  sort = sorted(teams_size)\n",
        "  loc_max, global_max = 0, 0\n",
        "  for i, val in enumerate(sort):\n",
        "    if i == 0:\n",
        "      loc_max += 1\n",
        "    else:\n",
        "      if val == sort[i-1]:\n",
        "        loc_max += 1\n",
        "      else:\n",
        "        global_max = max(global_max, loc_max + min(len(sort)-1-i, r))\n",
        "        loc_max = 1\n",
        "  return max(global_max, loc_max + min(len(sort)-1-i, r))\n",
        "\n",
        "print(equal_teams(teams_size, r))"
      ]
    }
  ]
}