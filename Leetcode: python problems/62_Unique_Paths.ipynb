{
  "nbformat": 4,
  "nbformat_minor": 0,
  "metadata": {
    "colab": {
      "provenance": []
    },
    "kernelspec": {
      "name": "python3",
      "display_name": "Python 3"
    },
    "language_info": {
      "name": "python"
    }
  },
  "cells": [
    {
      "cell_type": "code",
      "execution_count": 9,
      "metadata": {
        "colab": {
          "base_uri": "https://localhost:8080/"
        },
        "id": "pKK5XYk_xt_M",
        "outputId": "50946899-d310-4c3a-b3a2-3327fac1cb2b"
      },
      "outputs": [
        {
          "output_type": "stream",
          "name": "stdout",
          "text": [
            "28\n"
          ]
        }
      ],
      "source": [
        "'''\n",
        "There is a robot on an m x n grid. The robot is initially located at the top-left corner (i.e., grid[0][0]).\n",
        "The robot tries to move to the bottom-right corner (i.e., grid[m - 1][n - 1]).\n",
        "The robot can only move either down or right at any point in time.\n",
        "Given the two integers m and n, return the number of possible unique paths that the robot can take to reach the bottom-right corner.\n",
        "The test cases are generated so that the answer will be less than or equal to 2 * 109.\n",
        "Example, Input: m = 3, n = 7, Output: 28\n",
        "'''\n",
        "def uniquePaths(m: int, n: int) -> int:\n",
        "  nl = [[1]*n]*m\n",
        "  for i in range(1,m):\n",
        "    for j in range(1,n):\n",
        "      nl[i][j] = nl[i][j-1] + nl[i-1][j]\n",
        "  return(nl[m-1][n-1])\n",
        "\n",
        "print(uniquePaths(3,7))"
      ]
    }
  ]
}