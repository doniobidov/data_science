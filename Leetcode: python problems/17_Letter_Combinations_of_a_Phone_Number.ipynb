{
  "nbformat": 4,
  "nbformat_minor": 0,
  "metadata": {
    "colab": {
      "provenance": []
    },
    "kernelspec": {
      "name": "python3",
      "display_name": "Python 3"
    },
    "language_info": {
      "name": "python"
    }
  },
  "cells": [
    {
      "cell_type": "code",
      "execution_count": null,
      "metadata": {
        "id": "o-APnlYc8H33"
      },
      "outputs": [],
      "source": [
        "'''\n",
        "Given a string containing digits from 2-9 inclusive, return all possible letter combinations that the number could represent.\n",
        "Return the answer in any order. A mapping of digits to letters (just like on the telephone buttons) is given below.\n",
        "Note that 1 does not map to any letters.\n",
        "{'1':'', '2':'abc', '3':'def', '4':'ghi', '5':'jkl', '6':'mno', '7':'pqrs', '8':'tuv', '9':'wxyz'}\n",
        "\n",
        "Example 1:\n",
        "Input: digits = \"23\"\n",
        "Output: [\"ad\",\"ae\",\"af\",\"bd\",\"be\",\"bf\",\"cd\",\"ce\",\"cf\"]\n",
        "'''\n",
        "class Solution:\n",
        "    def letterCombinations(self, digits: str) -> List[str]:\n",
        "        look_up = {'1':'', '2':'abc', '3':'def', '4':'ghi', '5':'jkl', '6':'mno', '7':'pqrs', '8':'tuv', '9':'wxyz'}\n",
        "        res = []\n",
        "        def dfs(i,word):\n",
        "            if i >= len(digits):\n",
        "                res.append(word)\n",
        "                return None\n",
        "            for l in look_up[digits[i]]:\n",
        "                w = word + l\n",
        "                dfs(i+1, w)\n",
        "        if digits == '':\n",
        "            return []\n",
        "        dfs(0, '')\n",
        "        return res"
      ]
    }
  ]
}