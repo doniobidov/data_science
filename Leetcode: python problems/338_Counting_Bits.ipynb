{
  "nbformat": 4,
  "nbformat_minor": 0,
  "metadata": {
    "colab": {
      "provenance": []
    },
    "kernelspec": {
      "name": "python3",
      "display_name": "Python 3"
    },
    "language_info": {
      "name": "python"
    }
  },
  "cells": [
    {
      "cell_type": "code",
      "execution_count": null,
      "metadata": {
        "id": "DoTpsQcNzfvQ"
      },
      "outputs": [],
      "source": [
        "'''\n",
        "Given an integer n, return an array ans of length n + 1 such that for each i (0 <= i <= n), \n",
        "ans[i] is the number of 1's in the binary representation of i.\n",
        "\n",
        "Example 1:\n",
        "Input: n = 2\n",
        "Output: [0,1,1]\n",
        "Explanation:\n",
        "0 --> 0\n",
        "1 --> 1\n",
        "2 --> 10\n",
        "'''\n",
        "class Solution:\n",
        "    def countBits(self, n: int) -> List[int]:\n",
        "        res = []\n",
        "        for i in range(n+1):\n",
        "            r = 0\n",
        "            while i:\n",
        "                r += i%2\n",
        "                i = i>>1\n",
        "            res.append(r)\n",
        "        return res"
      ]
    }
  ]
}