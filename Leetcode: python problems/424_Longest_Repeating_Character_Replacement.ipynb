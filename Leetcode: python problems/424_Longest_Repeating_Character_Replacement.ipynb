{
  "nbformat": 4,
  "nbformat_minor": 0,
  "metadata": {
    "colab": {
      "provenance": []
    },
    "kernelspec": {
      "name": "python3",
      "display_name": "Python 3"
    },
    "language_info": {
      "name": "python"
    }
  },
  "cells": [
    {
      "cell_type": "code",
      "execution_count": null,
      "metadata": {
        "id": "1ZtJw5y8G5kf"
      },
      "outputs": [],
      "source": [
        "'''\n",
        "You are given a string s and an integer k. You can choose any character of the string and \n",
        "change it to any other uppercase English character. You can perform this operation at most k times.\n",
        "Return the length of the longest substring containing the same letter you can get after performing the above operations.\n",
        "\n",
        "Example 1:\n",
        "Input: s = \"ABAB\", k = 2\n",
        "Output: 4\n",
        "Explanation: Replace the two 'A's with two 'B's or vice versa.\n",
        "\n",
        "Constraints:\n",
        "1 <= s.length <= 105\n",
        "s consists of only uppercase English letters.\n",
        "0 <= k <= s.length\n",
        "'''\n",
        "class Solution:\n",
        "    def characterReplacement(self, s: str, k: int) -> int:\n",
        "        res, high = 0, 0\n",
        "        cur = dict()\n",
        "        l = 0\n",
        "        for r in range(len(s)):\n",
        "            if s[r] in cur:\n",
        "                cur[s[r]] += 1\n",
        "            else:\n",
        "                cur[s[r]] = 1\n",
        "            high = max(high, cur[s[r]])\n",
        "            while r-l+1-high > k:\n",
        "                cur[s[l]] -= 1\n",
        "                if s[l] == high:\n",
        "                    high = max(cur.values())\n",
        "                l += 1 \n",
        "            res = max(res, r-l+1)\n",
        "        return res"
      ]
    }
  ]
}