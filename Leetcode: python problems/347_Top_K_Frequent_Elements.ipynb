{
  "nbformat": 4,
  "nbformat_minor": 0,
  "metadata": {
    "colab": {
      "provenance": []
    },
    "kernelspec": {
      "name": "python3",
      "display_name": "Python 3"
    },
    "language_info": {
      "name": "python"
    }
  },
  "cells": [
    {
      "cell_type": "code",
      "execution_count": 23,
      "metadata": {
        "colab": {
          "base_uri": "https://localhost:8080/"
        },
        "id": "ZFTplzW92r7B",
        "outputId": "a3cf3947-b1f8-4d38-fe5f-aec0990e739c"
      },
      "outputs": [
        {
          "output_type": "stream",
          "name": "stdout",
          "text": [
            "[0, 0]\n",
            "[5, 0]\n",
            "[3, 0]\n",
            "[1, 0]\n",
            "[1, 0]\n",
            "[1, 5]\n",
            "[1, 3]\n"
          ]
        },
        {
          "output_type": "execute_result",
          "data": {
            "text/plain": [
              "[1, 3]"
            ]
          },
          "metadata": {},
          "execution_count": 23
        }
      ],
      "source": [
        "'''\n",
        "Given an integer array nums and an integer k, return the k most frequent elements.\n",
        "You may return the answer in any order.\n",
        "Constraints:\n",
        "k is in the range [1, the number of unique elements in the array].\n",
        "It is guaranteed that the answer is unique.\n",
        "'''\n",
        "\n",
        "nums = [5,3,1,1,1,3,73,1]\n",
        "k = 2\n",
        "\n",
        "def topKFrequent(nums, k):\n",
        "  hash_table = dict()\n",
        "  for n in nums:\n",
        "    if n not in hash_table:\n",
        "      hash_table[n] = 1\n",
        "    else:\n",
        "      hash_table[n] = hash_table[n] + 1\n",
        "  return_list = k*[0]\n",
        "  for i in range(k):\n",
        "    for num, count in hash_table.items():\n",
        "      print(return_list)\n",
        "      if return_list[i] in hash_table and hash_table[return_list[i]] < count:\n",
        "        return_list[i] = num\n",
        "      elif return_list[i] not in hash_table:\n",
        "        return_list[i] = num\n",
        "    hash_table.pop(return_list[i])\n",
        "  return return_list\n",
        "\n",
        "topKFrequent(nums, k)"
      ]
    }
  ]
}