{
  "nbformat": 4,
  "nbformat_minor": 0,
  "metadata": {
    "colab": {
      "provenance": []
    },
    "kernelspec": {
      "name": "python3",
      "display_name": "Python 3"
    },
    "language_info": {
      "name": "python"
    }
  },
  "cells": [
    {
      "cell_type": "code",
      "execution_count": null,
      "metadata": {
        "id": "hsW6dngtJ3rH"
      },
      "outputs": [],
      "source": [
        "'''\n",
        "Given a 1-indexed array of integers numbers that is already sorted in non-decreasing order,\n",
        "find two numbers such that they add up to a specific target number.\n",
        "Let these two numbers be numbers[index1] and numbers[index2] where 1 <= index1 < index2 <= numbers.length.\n",
        "Return the indices of the two numbers, index1 and index2, added by one as an integer array [index1, index2] of length 2.\n",
        "The tests are generated such that there is exactly one solution. You may not use the same element twice.\n",
        "Your solution must use only constant extra space.\n",
        "'''\n",
        "numbers = [2,7,11,15]\n",
        "target = 9\n",
        "\n",
        "class Solution:\n",
        "    def twoSum(self, numbers: List[int], target: int) -> List[int]:\n",
        "        l, r = 0, len(numbers)-1\n",
        "        while r > l:\n",
        "            total = numbers[l] + numbers[r]\n",
        "            if total == target:\n",
        "                return [l+1, r+1]\n",
        "            elif total > target:\n",
        "                r -= 1\n",
        "            elif total < target:\n",
        "                l += 1"
      ]
    }
  ]
}