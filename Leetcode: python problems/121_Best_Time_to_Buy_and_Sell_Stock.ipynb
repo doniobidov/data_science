{
  "nbformat": 4,
  "nbformat_minor": 0,
  "metadata": {
    "colab": {
      "provenance": []
    },
    "kernelspec": {
      "name": "python3",
      "display_name": "Python 3"
    },
    "language_info": {
      "name": "python"
    }
  },
  "cells": [
    {
      "cell_type": "code",
      "execution_count": null,
      "metadata": {
        "id": "mF4UPalelaTp"
      },
      "outputs": [],
      "source": [
        "'''\n",
        "You are given an array prices where prices[i] is the price of a given stock on the ith day.\n",
        "You want to maximize your profit by choosing a single day to buy one stock and \n",
        "choosing a different day in the future to sell that stock.\n",
        "Return the maximum profit you can achieve from this transaction. If you cannot achieve any profit, return 0.\n",
        "\n",
        "Example 1:\n",
        "Input: prices = [7,1,5,3,6,4]\n",
        "Output: 5\n",
        "Explanation: Buy on day 2 (price = 1) and sell on day 5 (price = 6), profit = 6-1 = 5.\n",
        "Note that buying on day 2 and selling on day 1 is not allowed because you must buy before you sell.\n",
        "'''\n",
        "class Solution:\n",
        "    def maxProfit(self, prices: List[int]) -> int:\n",
        "        res = 0\n",
        "        l = 0\n",
        "        for r in range(len(prices)):\n",
        "            if prices[l] >= prices[r]:\n",
        "                l = r\n",
        "            else:\n",
        "                res = max(res, prices[r]-prices[l])\n",
        "        return res"
      ]
    }
  ]
}